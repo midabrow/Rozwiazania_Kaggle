{
 "cells": [
  {
   "cell_type": "markdown",
   "id": "cad7ef7c-554e-4871-a178-fbbbae7b2f7b",
   "metadata": {},
   "source": [
    "![login_img](login_img.jpg)\n"
   ]
  },
  {
   "cell_type": "markdown",
   "id": "4a8145cb-8f2c-4133-b8d7-462b5310c6ea",
   "metadata": {},
   "source": [
    "You recently joined a small startup as a junior developer. The product managers have come to you for help improving new user sign-ups for the company's flagship mobile app.\n",
    "\n",
    "There are lots of invalid and incomplete sign-up attempts crashing the app. Before creating new accounts, you suggest standardizing validation checks by writing reusable Python functions to validate names, emails, passwords, etc. The managers love this idea and task you with coding core validation functions for improving sign-ups. It's your job to write these custom functions to check all user inputs to ensure they meet minimum criteria before account creation to reduce crashes."
   ]
  },
  {
   "cell_type": "markdown",
   "id": "59b81b12",
   "metadata": {},
   "source": [
    "Implement a function called validate_name(), that takes in one parameter, which will be a datatype of string to check the user has inputted a valid name.\n",
    "\n",
    "- The function should check that the user has inputted a name that is a data type of string.\n",
    "- The function should check that the name is greater than two characters long.\n",
    "- The function should return a boolean value, True if the name is valid, and False if not.\n",
    "\n",
    "Implement a function called validate_email(), that takes in one parameter, which will be a datatype of string to check the user has inputted a valid email.\n",
    "\n",
    "- The function should check that the user has inputted an email that contains an '@' symbol.\n",
    "- The function should check that the email contains any top-level domain included in the top_level_domains list variable. This has been preloaded to the workbook for you.\n",
    "- The function should return a boolean value,True if the name is valid, and False if not."
   ]
  },
  {
   "cell_type": "code",
   "execution_count": 1,
   "id": "37988e6b-da88-4ca4-846c-06d7f8e7d740",
   "metadata": {
    "executionCancelledAt": null,
    "executionTime": 13,
    "lastExecutedAt": 1706528163923,
    "lastScheduledRunId": null,
    "lastSuccessfullyExecutedCode": "# Re-run this cell\n# Preloaded data for validating email domain.\ntop_level_domains = [\n    \".org\",\n    \".net\",\n    \".edu\",\n    \".ac\",\n    \"co.uk\",\n    \".com\"\n]"
   },
   "outputs": [],
   "source": [
    "# Re-run this cell\n",
    "# Preloaded data for validating email domain.\n",
    "top_level_domains = [\n",
    "    \".org\",\n",
    "    \".net\",\n",
    "    \".edu\",\n",
    "    \".ac\",\n",
    "    \".gov\",\n",
    "    \".com\",\n",
    "    \".io\"\n",
    "]"
   ]
  },
  {
   "cell_type": "code",
   "execution_count": 6,
   "id": "178a7c62-d560-467e-8b64-c434db4eb255",
   "metadata": {
    "executionCancelledAt": null,
    "executionTime": 48,
    "lastExecutedAt": 1706528116152,
    "lastScheduledRunId": null,
    "lastSuccessfullyExecutedCode": "# Start coding here. Use as many cells as you need."
   },
   "outputs": [],
   "source": [
    "# 1: Create a function that validates the input name is a string and greater than 2 characters.\n",
    "def validate_name(name: str):\n",
    "    # Correct type\n",
    "    if type(name) != str:\n",
    "        return False\n",
    "    # Greater than 2 chars\n",
    "    if len(name) <= 2:\n",
    "        return False\n",
    "    # Return bool if valid\n",
    "    return True\n",
    "\n",
    "# 2: Create a function that validates the email is in the correct format.\n",
    "def validate_email(email: str):\n",
    "    # contain @\n",
    "    if '@' not in email:\n",
    "        return False\n",
    "    # has domain\n",
    "    for domain in top_level_domains:\n",
    "        if domain in email:\n",
    "            return True\n",
    "        \n",
    "    return False"
   ]
  },
  {
   "cell_type": "markdown",
   "id": "20453b18",
   "metadata": {},
   "source": [
    "# Solution"
   ]
  },
  {
   "cell_type": "code",
   "execution_count": null,
   "id": "ca520762",
   "metadata": {},
   "outputs": [],
   "source": [
    "# 1: Create a function that validates the input name is a string and greater than 2 characters.\n",
    "\n",
    "def validate_name(name):\n",
    "    # Check that datatype of the variable, is what is expected. A string.\n",
    "    if type(name) != str:\n",
    "        return False   \n",
    "    # Check if character is less than two characters, if so return false.\n",
    "    elif len(name) <= 2: \n",
    "            return False\n",
    "    # Name passed all checks\n",
    "    else: \n",
    "        return True \n",
    "      \n",
    "# 2: Create a function that validates the email is in the correct format.\n",
    "\n",
    "def validate_email(email):\n",
    "    # If the email does not include the @ symbol return False.\n",
    "    if '@' not in email:\n",
    "        return False     \n",
    "    # Loop through domain string in the top_level_domains list.\n",
    "    for domain in top_level_domains:\n",
    "        # Check if the domain is included in the email.\n",
    "        if domain in email:\n",
    "        # If the domain is in the email, return a boolean with a value of True.\n",
    "            return True\n",
    "     # If code reaches this point, domain did not match, so return False to indicate invalid email \n",
    "    return False  "
   ]
  }
 ],
 "metadata": {
  "colab": {
   "name": "Welcome to DataCamp Workspaces.ipynb",
   "provenance": []
  },
  "kernelspec": {
   "display_name": "base",
   "language": "python",
   "name": "python3"
  },
  "language_info": {
   "codemirror_mode": {
    "name": "ipython",
    "version": 3
   },
   "file_extension": ".py",
   "mimetype": "text/x-python",
   "name": "python",
   "nbconvert_exporter": "python",
   "pygments_lexer": "ipython3",
   "version": "3.12.4"
  }
 },
 "nbformat": 4,
 "nbformat_minor": 5
}
