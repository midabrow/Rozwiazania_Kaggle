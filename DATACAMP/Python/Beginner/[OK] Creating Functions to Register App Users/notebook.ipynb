{
 "cells": [
  {
   "cell_type": "markdown",
   "id": "39724b01-e27d-4b9f-b506-8767841e78a7",
   "metadata": {},
   "source": [
    "![img](img.jpg)\n"
   ]
  },
  {
   "cell_type": "markdown",
   "id": "2d915951-4dbd-49ac-bc0d-8ae3df53f586",
   "metadata": {},
   "source": [
    "You are a junior developer working in a small start-up. Your managers have asked you to develop a new account registration system for a mobile app. The system must validate user input on the sign-up form before creating an account. \n",
    "\n",
    "The previous junior developer wrote some helper functions that validate the name, email, and password. Use these functions to register users, store their data, and implement some error handling! These have been imported into the workspace for you. They will be a great help to you when registering the user, but first you have to understand what the function does! Inspect the docstrings of each of the helper functions: `validate_name`, `validate_email` and `validate_password`."
   ]
  },
  {
   "cell_type": "markdown",
   "id": "d4b53548",
   "metadata": {},
   "source": [
    "Create a validate_user() function, using some helper validation functions to validate user input.\n",
    "\n",
    "- The function should take in the parameters: name, email and password.\n",
    "- The function should call each of the helper validation functions and raise a ValueError with a descriptive error message if any of the inputs fail validation.\n",
    "- If all of the checks pass, the function should return a Boolean value of True.\n",
    "  \n",
    "Now that you've validated that all the user details are correct, you want to allow users to register to the app. Create a register_user() function that registers the user if all checks pass.\n",
    "\n",
    "- The function should take in the parameters: name, email and password.\n",
    "- The function should call validate_user() to ensure that the user input is valid.\n",
    "- If all checks pass, the function should create a dictionary with the keys: name, email, password.\n",
    "- The function should return the new user dictionary, or the boolean value of False."
   ]
  },
  {
   "cell_type": "code",
   "execution_count": 1,
   "id": "89e2bca9-7ff6-4259-b33a-a85607997083",
   "metadata": {
    "executionCancelledAt": null,
    "executionTime": 160,
    "lastExecutedAt": 1709311428512,
    "lastScheduledRunId": null,
    "lastSuccessfullyExecutedCode": "# Re-run this cell and examine the docstring of each function\nfrom python_functions import validate_name, validate_email, validate_password, top_level_domains\n\nprint(\"validate_name\\n\")\nprint(validate_name.__doc__)\nprint(\"--------------------\\n\")\n\nprint(\"validate_email\\n\")\nprint(validate_email.__doc__) \nprint(\"--------------------\\n\")\n\nprint(\"validate_password\\n\")\nprint(validate_password.__doc__)\n\n# The top level domains variable is used in validate_email to approve only certain email domains\nprint(top_level_domains)",
    "outputsMetadata": {
     "0": {
      "height": 616,
      "type": "stream"
     }
    }
   },
   "outputs": [
    {
     "name": "stdout",
     "output_type": "stream",
     "text": [
      "validate_name\n",
      "\n",
      " Checks that the name is greater than two characters and is a string data type.\n",
      "\n",
      " Args:\n",
      "    name (str): The inputted name from the user.\n",
      "\n",
      " Returns:\n",
      "    bool: True if the name passes the check, False otherwise.\n",
      "    \n",
      "--------------------\n",
      "\n",
      "validate_email\n",
      "\n",
      " Checks that the email address is in a valid format, has a username greater than 1 character, an '@' symbol, and an allowed domain that is in the `top_level_domains` variable.\n",
      "\n",
      "  Args:\n",
      "    email (str): The inputted email from the user.\n",
      "\n",
      "  Returns:\n",
      "    bool: True if the email passes the checks, False otherwise.\n",
      "    \n",
      "--------------------\n",
      "\n",
      "validate_password\n",
      "\n",
      " Checks that the password is strong enough. It should include a capital letter, a number between 0-9 and be greater than 8 characters.\n",
      "\n",
      "  Args:\n",
      "    password (str): The inputted password from the user.\n",
      "\n",
      "  Returns:\n",
      "    bool: True if the password passes the checks, False otherwise.\n",
      "    \n",
      "['.org', '.net', '.edu', '.ac', '.uk', '.com']\n"
     ]
    }
   ],
   "source": [
    "# Re-run this cell and examine the docstring of each function\n",
    "from python_functions import validate_name, validate_email, validate_password, top_level_domains\n",
    "\n",
    "print(\"validate_name\\n\")\n",
    "print(validate_name.__doc__)\n",
    "print(\"--------------------\\n\")\n",
    "\n",
    "print(\"validate_email\\n\")\n",
    "print(validate_email.__doc__) \n",
    "print(\"--------------------\\n\")\n",
    "\n",
    "print(\"validate_password\\n\")\n",
    "print(validate_password.__doc__)\n",
    "\n",
    "# The top level domains variable is used in validate_email to approve only certain email domains\n",
    "print(top_level_domains)"
   ]
  },
  {
   "cell_type": "code",
   "execution_count": 2,
   "id": "05f8c17e-84b8-420c-84f1-af7015efbc8e",
   "metadata": {
    "executionCancelledAt": null,
    "executionTime": 48,
    "lastExecutedAt": 1709311428560,
    "lastScheduledRunId": null,
    "lastSuccessfullyExecutedCode": "# Start coding here\n# Use as many cells as you need"
   },
   "outputs": [],
   "source": [
    "def validate_user(name: str, email: str, password: str):\n",
    "    if validate_name == False:\n",
    "        raise ValueError(\"Please make sure your name is greater than 2 characters!\")\n",
    "    \n",
    "    if validate_email == False:\n",
    "        raise ValueError(\"Your email address is in the incorrect format, please enter a valid email.\")\n",
    "\n",
    "    if validate_password(password) == False:\n",
    "        raise ValueError(\"Your password is too weak, ensure that your password is greater than 8 characters, contains a capital letter and a number.\")\n",
    "    \n",
    "    return True\n",
    "\n",
    "\n",
    "def register_user(name: str, email: str, password: str):\n",
    "\n",
    "    if validate_user(name, email, password):\n",
    "        dict = {\n",
    "            'name': name,\n",
    "            'email': email,\n",
    "            'password': password\n",
    "        }\n",
    "\n",
    "        return dict\n",
    "    \n",
    "    return False"
   ]
  },
  {
   "cell_type": "markdown",
   "id": "f4c21cfd",
   "metadata": {},
   "source": [
    "# Solution"
   ]
  },
  {
   "cell_type": "code",
   "execution_count": null,
   "id": "1b481462",
   "metadata": {},
   "outputs": [],
   "source": [
    "from python_functions import validate_name, validate_email, validate_password, top_level_domains\n",
    "\n",
    "# 1. Function to validate user input from sign-up form\n",
    "def validate_user(name, email, password):\n",
    "    \"\"\"Validate the user name, email and password.\n",
    "\n",
    "    Args:\n",
    "        name (string): Name that we're attempting to validate.\n",
    "        email (string): Email address that we're attempting to validate.\n",
    "        password (string): Password that we're attempting to validate.\n",
    "\n",
    "    Returns:\n",
    "        Boolean: Will return True if all validation checks pass\n",
    "\n",
    "    Raises ValueError if validation fails.\n",
    "    \"\"\"\n",
    "\n",
    "    # Check if name is not valid, if not raise value error.\n",
    "    if validate_name(name) == False:\n",
    "        raise ValueError(\"Please make sure your name is greater than 2 characters!\")\n",
    "\n",
    "    # Check if email is not valid, if not raise value error.\n",
    "    if validate_email(email) == False:\n",
    "        raise ValueError(\"Your email address is in the incorrect format, please enter a valid email.\")\n",
    "\n",
    "    # Check if password is not valid, if not raise value error.\n",
    "    if validate_password(password) == False:\n",
    "        raise ValueError(\"Your password is too weak, ensure that your password is greater than 8 characters, contains a capital letter and a number.\")\n",
    "\n",
    "    # If none of the if not statements are triggered, return True\n",
    "    return True\n",
    "\n",
    "# 2. Function to register validated user if all checks have passed\n",
    "def register_user(name, email, password):\n",
    "    \"\"\"Attempt to register the user if they pass validation.\n",
    "\n",
    "    Args:\n",
    "        name (string): Name of the user\n",
    "        email (string): Email address of the user\n",
    "        password (string): Password of the user\n",
    "\n",
    "    Returns:\n",
    "        Dict: Return a dictionary with the user details\n",
    "\n",
    "    Raises ValueError on missing arguments.\n",
    "    \"\"\"\n",
    "\n",
    "    # Check if user input is valid by calling the validate user function\n",
    "    if validate_user(name, email, password):\n",
    "        # Create user object with details\n",
    "        user = {\n",
    "            \"name\": name,\n",
    "            \"email\": email,\n",
    "            \"password\": password\n",
    "        }\n",
    "\n",
    "        # Return user object\n",
    "        return user\n",
    "\n",
    "    # If validation fails, return False\n",
    "    return False"
   ]
  }
 ],
 "metadata": {
  "editor": "DataCamp Workspace",
  "kernelspec": {
   "display_name": "base",
   "language": "python",
   "name": "python3"
  },
  "language_info": {
   "codemirror_mode": {
    "name": "ipython",
    "version": 3
   },
   "file_extension": ".py",
   "mimetype": "text/x-python",
   "name": "python",
   "nbconvert_exporter": "python",
   "pygments_lexer": "ipython3",
   "version": "3.12.4"
  }
 },
 "nbformat": 4,
 "nbformat_minor": 5
}
