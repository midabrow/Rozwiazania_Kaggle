{
 "cells": [
  {
   "cell_type": "markdown",
   "id": "5ed0ca94-e3ab-4fab-a5a3-5eb0307b6c26",
   "metadata": {},
   "source": [
    "![gym](gym.png)\n"
   ]
  },
  {
   "cell_type": "markdown",
   "id": "7ee8ccb9-c762-4f35-9b79-ebd2ab1824b0",
   "metadata": {},
   "source": [
    "You are a product manager for a fitness studio and are interested in understanding the current demand for digital fitness classes. You plan to conduct a market analysis in Python to gauge demand and identify potential areas for growth of digital products and services.\n",
    "\n",
    "### The Data\n",
    "\n",
    "You are provided with a number of CSV files in the \"Files/data\" folder, which offer international and national-level data on Google Trends keyword searches related to fitness and related products. \n",
    "\n",
    "### workout.csv\n",
    "\n",
    "| Column     | Description              |\n",
    "|------------|--------------------------|\n",
    "| `'month'` | Month when the data was measured. |\n",
    "| `'workout_worldwide'` | Index representing the popularity of the keyword 'workout', on a scale of 0 to 100. |\n",
    "\n",
    "### three_keywords.csv\n",
    "\n",
    "| Column     | Description              |\n",
    "|------------|--------------------------|\n",
    "| `'month'` | Month when the data was measured. |\n",
    "| `'home_workout_worldwide'` | Index representing the popularity of the keyword 'home workout', on a scale of 0 to 100. |\n",
    "| `'gym_workout_worldwide'` | Index representing the popularity of the keyword 'gym workout', on a scale of 0 to 100. |\n",
    "| `'home_gym_worldwide'` | Index representing the popularity of the keyword 'home gym', on a scale of 0 to 100. |\n",
    "\n",
    "### workout_geo.csv\n",
    "\n",
    "| Column     | Description              |\n",
    "|------------|--------------------------|\n",
    "| `'country'` | Country where the data was measured. |\n",
    "| `'workout_2018_2023'` | Index representing the popularity of the keyword 'workout' during the 5 year period. |\n",
    "\n",
    "### three_keywords_geo.csv\n",
    "\n",
    "| Column     | Description              |\n",
    "|------------|--------------------------|\n",
    "| `'country'` | Country where the data was measured. |\n",
    "| `'home_workout_2018_2023'` | Index representing the popularity of the keyword 'home workout' during the 5 year period. |\n",
    "| `'gym_workout_2018_2023'` | Index representing the popularity of the keyword 'gym workout' during the 5 year period.  |\n",
    "| `'home_gym_2018_2023'` | Index representing the popularity of the keyword 'home gym' during the 5 year period. |"
   ]
  },
  {
   "cell_type": "markdown",
   "id": "0aba4426",
   "metadata": {},
   "source": [
    "Help the fitness studio explore interest in workouts at a global and national level.\n",
    "\n",
    "- When was the global search for 'workout' at its peak? Save the year of peak interest as a string named year_str in the format \"yyyy\".\n",
    "\n",
    "- Of the keywords available, what was the most popular during the covid pandemic, and what is the most popular now? Save your answers as variables called peak_covid and current respectively.\n",
    "\n",
    "- What country has the highest interest for workouts among the following: United States, Australia, or Japan? Save your answer as top_country.\n",
    "\n",
    "- You'd be interested in expanding your virtual home workouts offering to either the Philippines or Malaysia. Which of the two countries has the highest interest in home workouts? Identify the country and save it as home_workout_geo."
   ]
  },
  {
   "cell_type": "code",
   "execution_count": 1,
   "id": "36e5d14e-3f2b-4123-97a3-d11880a7a047",
   "metadata": {
    "executionCancelledAt": null,
    "executionTime": 338,
    "lastExecutedAt": 1713544496629,
    "lastExecutedByKernel": "dcd53aa8-4097-4021-89f0-1ce4a53edc19",
    "lastScheduledRunId": null,
    "lastSuccessfullyExecutedCode": "# Import the necessary libraries\nimport pandas as pd\nimport matplotlib.pyplot as plt",
    "outputsMetadata": {
     "0": {
      "height": 321,
      "type": "dataFrame"
     }
    }
   },
   "outputs": [],
   "source": [
    "# Import the necessary libraries\n",
    "import pandas as pd\n",
    "import matplotlib.pyplot as plt"
   ]
  },
  {
   "cell_type": "markdown",
   "id": "09744d5a",
   "metadata": {},
   "source": [
    "### Question 1"
   ]
  },
  {
   "cell_type": "code",
   "execution_count": 52,
   "id": "c303a942-ddac-498d-981e-0b7755259f3f",
   "metadata": {
    "executionCancelledAt": null,
    "executionTime": 9,
    "lastExecutedAt": 1713544498165,
    "lastExecutedByKernel": "dcd53aa8-4097-4021-89f0-1ce4a53edc19",
    "lastScheduledRunId": null,
    "lastSuccessfullyExecutedCode": "# Start coding here"
   },
   "outputs": [
    {
     "data": {
      "application/vnd.microsoft.datawrangler.viewer.v0+json": {
       "columns": [
        {
         "name": "index",
         "rawType": "int64",
         "type": "integer"
        },
        {
         "name": "month",
         "rawType": "object",
         "type": "string"
        },
        {
         "name": "workout_worldwide",
         "rawType": "int64",
         "type": "integer"
        }
       ],
       "conversionMethod": "pd.DataFrame",
       "ref": "dfe2308f-8717-4133-bc01-a32897856d0f",
       "rows": [
        [
         "0",
         "2018-03",
         "59"
        ],
        [
         "1",
         "2018-04",
         "61"
        ],
        [
         "2",
         "2018-05",
         "57"
        ],
        [
         "3",
         "2018-06",
         "56"
        ],
        [
         "4",
         "2018-07",
         "51"
        ]
       ],
       "shape": {
        "columns": 2,
        "rows": 5
       }
      },
      "text/html": [
       "<div>\n",
       "<style scoped>\n",
       "    .dataframe tbody tr th:only-of-type {\n",
       "        vertical-align: middle;\n",
       "    }\n",
       "\n",
       "    .dataframe tbody tr th {\n",
       "        vertical-align: top;\n",
       "    }\n",
       "\n",
       "    .dataframe thead th {\n",
       "        text-align: right;\n",
       "    }\n",
       "</style>\n",
       "<table border=\"1\" class=\"dataframe\">\n",
       "  <thead>\n",
       "    <tr style=\"text-align: right;\">\n",
       "      <th></th>\n",
       "      <th>month</th>\n",
       "      <th>workout_worldwide</th>\n",
       "    </tr>\n",
       "  </thead>\n",
       "  <tbody>\n",
       "    <tr>\n",
       "      <th>0</th>\n",
       "      <td>2018-03</td>\n",
       "      <td>59</td>\n",
       "    </tr>\n",
       "    <tr>\n",
       "      <th>1</th>\n",
       "      <td>2018-04</td>\n",
       "      <td>61</td>\n",
       "    </tr>\n",
       "    <tr>\n",
       "      <th>2</th>\n",
       "      <td>2018-05</td>\n",
       "      <td>57</td>\n",
       "    </tr>\n",
       "    <tr>\n",
       "      <th>3</th>\n",
       "      <td>2018-06</td>\n",
       "      <td>56</td>\n",
       "    </tr>\n",
       "    <tr>\n",
       "      <th>4</th>\n",
       "      <td>2018-07</td>\n",
       "      <td>51</td>\n",
       "    </tr>\n",
       "  </tbody>\n",
       "</table>\n",
       "</div>"
      ],
      "text/plain": [
       "     month  workout_worldwide\n",
       "0  2018-03                 59\n",
       "1  2018-04                 61\n",
       "2  2018-05                 57\n",
       "3  2018-06                 56\n",
       "4  2018-07                 51"
      ]
     },
     "execution_count": 52,
     "metadata": {},
     "output_type": "execute_result"
    }
   ],
   "source": [
    "# Question 1\n",
    "workout_df = pd.read_csv('./data/workout.csv')\n",
    "workout_df.head()"
   ]
  },
  {
   "cell_type": "code",
   "execution_count": 4,
   "id": "1e1575ec",
   "metadata": {},
   "outputs": [
    {
     "name": "stdout",
     "output_type": "stream",
     "text": [
      "<class 'pandas.core.frame.DataFrame'>\n",
      "RangeIndex: 61 entries, 0 to 60\n",
      "Data columns (total 2 columns):\n",
      " #   Column             Non-Null Count  Dtype \n",
      "---  ------             --------------  ----- \n",
      " 0   month              61 non-null     object\n",
      " 1   workout_worldwide  61 non-null     int64 \n",
      "dtypes: int64(1), object(1)\n",
      "memory usage: 1.1+ KB\n"
     ]
    }
   ],
   "source": [
    "workout_df.info()"
   ]
  },
  {
   "cell_type": "code",
   "execution_count": 53,
   "id": "4dbb7abd",
   "metadata": {},
   "outputs": [
    {
     "data": {
      "text/plain": [
       "month                2020-04\n",
       "workout_worldwide        100\n",
       "Name: 25, dtype: object"
      ]
     },
     "execution_count": 53,
     "metadata": {},
     "output_type": "execute_result"
    }
   ],
   "source": [
    "peak = workout_df.loc[workout_df['workout_worldwide'].argmax(), :]\n",
    "peak"
   ]
  },
  {
   "cell_type": "code",
   "execution_count": 62,
   "id": "c586c763",
   "metadata": {},
   "outputs": [
    {
     "data": {
      "text/plain": [
       "'2020'"
      ]
     },
     "execution_count": 62,
     "metadata": {},
     "output_type": "execute_result"
    }
   ],
   "source": [
    "year = peak.iloc[0][:4]\n",
    "year"
   ]
  },
  {
   "cell_type": "code",
   "execution_count": 55,
   "id": "17b78a90",
   "metadata": {},
   "outputs": [
    {
     "data": {
      "image/png": "[encoded data removed]",
      "text/plain": [
       "<Figure size 1200x600 with 1 Axes>"
      ]
     },
     "metadata": {},
     "output_type": "display_data"
    }
   ],
   "source": [
    "plt.figure(figsize=(12, 6))\n",
    "plt.plot(workout_df[\"month\"], workout_df[\"workout_worldwide\"])\n",
    "plt.xticks(rotation=90)\n",
    "plt.show()"
   ]
  },
  {
   "cell_type": "markdown",
   "id": "de435c5f",
   "metadata": {},
   "source": [
    "### Question 2"
   ]
  },
  {
   "cell_type": "code",
   "execution_count": 66,
   "id": "0f750df3",
   "metadata": {},
   "outputs": [
    {
     "data": {
      "application/vnd.microsoft.datawrangler.viewer.v0+json": {
       "columns": [
        {
         "name": "index",
         "rawType": "int64",
         "type": "integer"
        },
        {
         "name": "month",
         "rawType": "object",
         "type": "string"
        },
        {
         "name": "home_workout_worldwide",
         "rawType": "int64",
         "type": "integer"
        },
        {
         "name": "gym_workout_worldwide",
         "rawType": "int64",
         "type": "integer"
        },
        {
         "name": "home_gym_worldwide",
         "rawType": "int64",
         "type": "integer"
        }
       ],
       "conversionMethod": "pd.DataFrame",
       "ref": "09b633ed-d097-4da0-a4ab-5e85b15bc517",
       "rows": [
        [
         "0",
         "2018-03",
         "12",
         "16",
         "10"
        ],
        [
         "1",
         "2018-04",
         "12",
         "18",
         "10"
        ],
        [
         "2",
         "2018-05",
         "13",
         "16",
         "9"
        ],
        [
         "3",
         "2018-06",
         "12",
         "17",
         "9"
        ],
        [
         "4",
         "2018-07",
         "12",
         "17",
         "9"
        ],
        [
         "5",
         "2018-08",
         "12",
         "17",
         "9"
        ],
        [
         "6",
         "2018-09",
         "11",
         "17",
         "10"
        ],
        [
         "7",
         "2018-10",
         "11",
         "15",
         "9"
        ],
        [
         "8",
         "2018-11",
         "11",
         "15",
         "9"
        ],
        [
         "9",
         "2018-12",
         "11",
         "13",
         "10"
        ],
        [
         "10",
         "2019-01",
         "16",
         "21",
         "13"
        ],
        [
         "11",
         "2019-02",
         "14",
         "17",
         "10"
        ],
        [
         "12",
         "2019-03",
         "13",
         "17",
         "10"
        ],
        [
         "13",
         "2019-04",
         "11",
         "15",
         "9"
        ],
        [
         "14",
         "2019-05",
         "12",
         "16",
         "9"
        ],
        [
         "15",
         "2019-06",
         "13",
         "16",
         "9"
        ],
        [
         "16",
         "2019-07",
         "14",
         "17",
         "10"
        ],
        [
         "17",
         "2019-08",
         "12",
         "17",
         "9"
        ],
        [
         "18",
         "2019-09",
         "11",
         "16",
         "10"
        ],
        [
         "19",
         "2019-10",
         "10",
         "15",
         "9"
        ],
        [
         "20",
         "2019-11",
         "11",
         "16",
         "10"
        ],
        [
         "21",
         "2019-12",
         "11",
         "14",
         "10"
        ],
        [
         "22",
         "2020-01",
         "15",
         "21",
         "12"
        ],
        [
         "23",
         "2020-02",
         "13",
         "18",
         "11"
        ],
        [
         "24",
         "2020-03",
         "13",
         "17",
         "11"
        ],
        [
         "25",
         "2020-04",
         "82",
         "13",
         "34"
        ],
        [
         "26",
         "2020-05",
         "44",
         "10",
         "25"
        ],
        [
         "27",
         "2020-06",
         "29",
         "11",
         "23"
        ],
        [
         "28",
         "2020-07",
         "28",
         "13",
         "23"
        ],
        [
         "29",
         "2020-08",
         "23",
         "13",
         "23"
        ],
        [
         "30",
         "2020-09",
         "21",
         "15",
         "20"
        ],
        [
         "31",
         "2020-10",
         "19",
         "14",
         "18"
        ],
        [
         "32",
         "2020-11",
         "20",
         "12",
         "19"
        ],
        [
         "33",
         "2020-12",
         "20",
         "14",
         "20"
        ],
        [
         "34",
         "2021-01",
         "31",
         "16",
         "25"
        ],
        [
         "35",
         "2021-02",
         "22",
         "14",
         "18"
        ],
        [
         "36",
         "2021-03",
         "19",
         "15",
         "17"
        ],
        [
         "37",
         "2021-04",
         "18",
         "14",
         "17"
        ],
        [
         "38",
         "2021-05",
         "19",
         "14",
         "17"
        ],
        [
         "39",
         "2021-06",
         "17",
         "14",
         "14"
        ],
        [
         "40",
         "2021-07",
         "16",
         "16",
         "14"
        ],
        [
         "41",
         "2021-08",
         "14",
         "16",
         "15"
        ],
        [
         "42",
         "2021-09",
         "14",
         "15",
         "13"
        ],
        [
         "43",
         "2021-10",
         "12",
         "15",
         "13"
        ],
        [
         "44",
         "2021-11",
         "12",
         "14",
         "14"
        ],
        [
         "45",
         "2021-12",
         "12",
         "13",
         "14"
        ],
        [
         "46",
         "2022-01",
         "21",
         "19",
         "21"
        ],
        [
         "47",
         "2022-02",
         "14",
         "19",
         "14"
        ],
        [
         "48",
         "2022-03",
         "13",
         "19",
         "13"
        ],
        [
         "49",
         "2022-04",
         "14",
         "17",
         "12"
        ]
       ],
       "shape": {
        "columns": 4,
        "rows": 61
       }
      },
      "text/html": [
       "<div>\n",
       "<style scoped>\n",
       "    .dataframe tbody tr th:only-of-type {\n",
       "        vertical-align: middle;\n",
       "    }\n",
       "\n",
       "    .dataframe tbody tr th {\n",
       "        vertical-align: top;\n",
       "    }\n",
       "\n",
       "    .dataframe thead th {\n",
       "        text-align: right;\n",
       "    }\n",
       "</style>\n",
       "<table border=\"1\" class=\"dataframe\">\n",
       "  <thead>\n",
       "    <tr style=\"text-align: right;\">\n",
       "      <th></th>\n",
       "      <th>month</th>\n",
       "      <th>home_workout_worldwide</th>\n",
       "      <th>gym_workout_worldwide</th>\n",
       "      <th>home_gym_worldwide</th>\n",
       "    </tr>\n",
       "  </thead>\n",
       "  <tbody>\n",
       "    <tr>\n",
       "      <th>0</th>\n",
       "      <td>2018-03</td>\n",
       "      <td>12</td>\n",
       "      <td>16</td>\n",
       "      <td>10</td>\n",
       "    </tr>\n",
       "    <tr>\n",
       "      <th>1</th>\n",
       "      <td>2018-04</td>\n",
       "      <td>12</td>\n",
       "      <td>18</td>\n",
       "      <td>10</td>\n",
       "    </tr>\n",
       "    <tr>\n",
       "      <th>2</th>\n",
       "      <td>2018-05</td>\n",
       "      <td>13</td>\n",
       "      <td>16</td>\n",
       "      <td>9</td>\n",
       "    </tr>\n",
       "    <tr>\n",
       "      <th>3</th>\n",
       "      <td>2018-06</td>\n",
       "      <td>12</td>\n",
       "      <td>17</td>\n",
       "      <td>9</td>\n",
       "    </tr>\n",
       "    <tr>\n",
       "      <th>4</th>\n",
       "      <td>2018-07</td>\n",
       "      <td>12</td>\n",
       "      <td>17</td>\n",
       "      <td>9</td>\n",
       "    </tr>\n",
       "    <tr>\n",
       "      <th>...</th>\n",
       "      <td>...</td>\n",
       "      <td>...</td>\n",
       "      <td>...</td>\n",
       "      <td>...</td>\n",
       "    </tr>\n",
       "    <tr>\n",
       "      <th>56</th>\n",
       "      <td>2022-11</td>\n",
       "      <td>11</td>\n",
       "      <td>18</td>\n",
       "      <td>12</td>\n",
       "    </tr>\n",
       "    <tr>\n",
       "      <th>57</th>\n",
       "      <td>2022-12</td>\n",
       "      <td>11</td>\n",
       "      <td>16</td>\n",
       "      <td>11</td>\n",
       "    </tr>\n",
       "    <tr>\n",
       "      <th>58</th>\n",
       "      <td>2023-01</td>\n",
       "      <td>17</td>\n",
       "      <td>22</td>\n",
       "      <td>15</td>\n",
       "    </tr>\n",
       "    <tr>\n",
       "      <th>59</th>\n",
       "      <td>2023-02</td>\n",
       "      <td>14</td>\n",
       "      <td>21</td>\n",
       "      <td>12</td>\n",
       "    </tr>\n",
       "    <tr>\n",
       "      <th>60</th>\n",
       "      <td>2023-03</td>\n",
       "      <td>13</td>\n",
       "      <td>19</td>\n",
       "      <td>12</td>\n",
       "    </tr>\n",
       "  </tbody>\n",
       "</table>\n",
       "<p>61 rows × 4 columns</p>\n",
       "</div>"
      ],
      "text/plain": [
       "      month  home_workout_worldwide  gym_workout_worldwide  home_gym_worldwide\n",
       "0   2018-03                      12                     16                  10\n",
       "1   2018-04                      12                     18                  10\n",
       "2   2018-05                      13                     16                   9\n",
       "3   2018-06                      12                     17                   9\n",
       "4   2018-07                      12                     17                   9\n",
       "..      ...                     ...                    ...                 ...\n",
       "56  2022-11                      11                     18                  12\n",
       "57  2022-12                      11                     16                  11\n",
       "58  2023-01                      17                     22                  15\n",
       "59  2023-02                      14                     21                  12\n",
       "60  2023-03                      13                     19                  12\n",
       "\n",
       "[61 rows x 4 columns]"
      ]
     },
     "execution_count": 66,
     "metadata": {},
     "output_type": "execute_result"
    }
   ],
   "source": [
    "# Question 2\n",
    "keyword_df = pd.read_csv('./data/three_keywords.csv')\n",
    "keyword_df"
   ]
  },
  {
   "cell_type": "code",
   "execution_count": 84,
   "id": "a7a599b4",
   "metadata": {},
   "outputs": [
    {
     "data": {
      "text/plain": [
       "{'home_workout_worldwide': 82,\n",
       " 'gym_workout_worldwide': 21,\n",
       " 'home_gym_worldwide': 34}"
      ]
     },
     "execution_count": 84,
     "metadata": {},
     "output_type": "execute_result"
    }
   ],
   "source": [
    "covid_time = keyword_df[keyword_df['month'].between('2019', '2021')]\n",
    "\n",
    "columns_dict = {\"home_workout_worldwide\": 0,\n",
    "                \"gym_workout_worldwide\": 0,\n",
    "                \"home_gym_worldwide\": 0}\n",
    "\n",
    "for key, _ in columns_dict.items():\n",
    "    max_idx = covid_time[key].idxmax()\n",
    "    columns_dict[key] = covid_time.loc[max_idx, key]\n",
    "\n",
    "columns_dict\n"
   ]
  },
  {
   "cell_type": "code",
   "execution_count": 87,
   "id": "e455fc9b",
   "metadata": {},
   "outputs": [
    {
     "name": "stdout",
     "output_type": "stream",
     "text": [
      "Największa wartość występuje w kategorii: home_workout_worldwide (82)\n"
     ]
    }
   ],
   "source": [
    "# Znajdź klucz z największą wartością\n",
    "max_key = max(columns_dict, key=columns_dict.get)\n",
    "\n",
    "print(f\"Największa wartość występuje w kategorii: {max_key} ({columns_dict[max_key]})\")\n"
   ]
  },
  {
   "cell_type": "code",
   "execution_count": 89,
   "id": "78c8073a",
   "metadata": {},
   "outputs": [
    {
     "data": {
      "text/plain": [
       "<matplotlib.legend.Legend at 0x7ea94be79d90>"
      ]
     },
     "execution_count": 89,
     "metadata": {},
     "output_type": "execute_result"
    },
    {
     "data": {
      "image/png": "[encoded data removed]",
      "text/plain": [
       "<Figure size 1200x600 with 1 Axes>"
      ]
     },
     "metadata": {},
     "output_type": "display_data"
    }
   ],
   "source": [
    "plt.figure(figsize=(12, 6))\n",
    "plt.plot(covid_time[\"month\"], covid_time[\"home_workout_worldwide\"], label=\"Home workout\")\n",
    "plt.plot(covid_time[\"month\"], covid_time[\"gym_workout_worldwide\"], label=\"Gym workout\")\n",
    "plt.plot(covid_time[\"month\"], covid_time[\"home_gym_worldwide\"], label=\"Home gym\")\n",
    "plt.xticks(rotation=90)\n",
    "plt.legend()"
   ]
  },
  {
   "cell_type": "markdown",
   "id": "5d42ca68",
   "metadata": {},
   "source": [
    "### Question 3"
   ]
  },
  {
   "cell_type": "code",
   "execution_count": 101,
   "id": "357fa4e6",
   "metadata": {},
   "outputs": [
    {
     "data": {
      "application/vnd.microsoft.datawrangler.viewer.v0+json": {
       "columns": [
        {
         "name": "index",
         "rawType": "int64",
         "type": "integer"
        },
        {
         "name": "country",
         "rawType": "object",
         "type": "string"
        },
        {
         "name": "workout_2018_2023",
         "rawType": "float64",
         "type": "float"
        }
       ],
       "conversionMethod": "pd.DataFrame",
       "ref": "dab54879-111b-40b4-9d7f-b045aaaef1bc",
       "rows": [
        [
         "0",
         "Guam",
         null
        ],
        [
         "1",
         "Falkland Islands (Islas Malvinas)",
         null
        ],
        [
         "2",
         "Cook Islands",
         null
        ],
        [
         "3",
         "Brunei",
         null
        ],
        [
         "4",
         "Palau",
         null
        ]
       ],
       "shape": {
        "columns": 2,
        "rows": 5
       }
      },
      "text/html": [
       "<div>\n",
       "<style scoped>\n",
       "    .dataframe tbody tr th:only-of-type {\n",
       "        vertical-align: middle;\n",
       "    }\n",
       "\n",
       "    .dataframe tbody tr th {\n",
       "        vertical-align: top;\n",
       "    }\n",
       "\n",
       "    .dataframe thead th {\n",
       "        text-align: right;\n",
       "    }\n",
       "</style>\n",
       "<table border=\"1\" class=\"dataframe\">\n",
       "  <thead>\n",
       "    <tr style=\"text-align: right;\">\n",
       "      <th></th>\n",
       "      <th>country</th>\n",
       "      <th>workout_2018_2023</th>\n",
       "    </tr>\n",
       "  </thead>\n",
       "  <tbody>\n",
       "    <tr>\n",
       "      <th>0</th>\n",
       "      <td>Guam</td>\n",
       "      <td>NaN</td>\n",
       "    </tr>\n",
       "    <tr>\n",
       "      <th>1</th>\n",
       "      <td>Falkland Islands (Islas Malvinas)</td>\n",
       "      <td>NaN</td>\n",
       "    </tr>\n",
       "    <tr>\n",
       "      <th>2</th>\n",
       "      <td>Cook Islands</td>\n",
       "      <td>NaN</td>\n",
       "    </tr>\n",
       "    <tr>\n",
       "      <th>3</th>\n",
       "      <td>Brunei</td>\n",
       "      <td>NaN</td>\n",
       "    </tr>\n",
       "    <tr>\n",
       "      <th>4</th>\n",
       "      <td>Palau</td>\n",
       "      <td>NaN</td>\n",
       "    </tr>\n",
       "  </tbody>\n",
       "</table>\n",
       "</div>"
      ],
      "text/plain": [
       "                             country  workout_2018_2023\n",
       "0                               Guam                NaN\n",
       "1  Falkland Islands (Islas Malvinas)                NaN\n",
       "2                       Cook Islands                NaN\n",
       "3                             Brunei                NaN\n",
       "4                              Palau                NaN"
      ]
     },
     "execution_count": 101,
     "metadata": {},
     "output_type": "execute_result"
    }
   ],
   "source": [
    "geo_df = pd.read_csv('./data/workout_geo.csv')\n",
    "geo_df.head()"
   ]
  },
  {
   "cell_type": "code",
   "execution_count": 104,
   "id": "537dfb72",
   "metadata": {},
   "outputs": [
    {
     "data": {
      "application/vnd.microsoft.datawrangler.viewer.v0+json": {
       "columns": [
        {
         "name": "index",
         "rawType": "int64",
         "type": "integer"
        },
        {
         "name": "country",
         "rawType": "object",
         "type": "string"
        },
        {
         "name": "workout_2018_2023",
         "rawType": "float64",
         "type": "float"
        }
       ],
       "conversionMethod": "pd.DataFrame",
       "ref": "dbbd9165-0e25-4d9e-afea-355d73816244",
       "rows": [
        [
         "5",
         "United States",
         "100.0"
        ],
        [
         "36",
         "United Kingdom",
         "66.0"
        ],
        [
         "47",
         "United Arab Emirates",
         "56.0"
        ]
       ],
       "shape": {
        "columns": 2,
        "rows": 3
       }
      },
      "text/html": [
       "<div>\n",
       "<style scoped>\n",
       "    .dataframe tbody tr th:only-of-type {\n",
       "        vertical-align: middle;\n",
       "    }\n",
       "\n",
       "    .dataframe tbody tr th {\n",
       "        vertical-align: top;\n",
       "    }\n",
       "\n",
       "    .dataframe thead th {\n",
       "        text-align: right;\n",
       "    }\n",
       "</style>\n",
       "<table border=\"1\" class=\"dataframe\">\n",
       "  <thead>\n",
       "    <tr style=\"text-align: right;\">\n",
       "      <th></th>\n",
       "      <th>country</th>\n",
       "      <th>workout_2018_2023</th>\n",
       "    </tr>\n",
       "  </thead>\n",
       "  <tbody>\n",
       "    <tr>\n",
       "      <th>5</th>\n",
       "      <td>United States</td>\n",
       "      <td>100.0</td>\n",
       "    </tr>\n",
       "    <tr>\n",
       "      <th>36</th>\n",
       "      <td>United Kingdom</td>\n",
       "      <td>66.0</td>\n",
       "    </tr>\n",
       "    <tr>\n",
       "      <th>47</th>\n",
       "      <td>United Arab Emirates</td>\n",
       "      <td>56.0</td>\n",
       "    </tr>\n",
       "  </tbody>\n",
       "</table>\n",
       "</div>"
      ],
      "text/plain": [
       "                 country  workout_2018_2023\n",
       "5          United States              100.0\n",
       "36        United Kingdom               66.0\n",
       "47  United Arab Emirates               56.0"
      ]
     },
     "execution_count": 104,
     "metadata": {},
     "output_type": "execute_result"
    }
   ],
   "source": [
    "geo_df[geo_df['country'].str.contains('United', na=False)]\n",
    "# geo_df[geo_df['country'].str.contains('Australia', na=False)]\n",
    "# geo_df[geo_df['country'].str.contains('Japan', na=False)]"
   ]
  },
  {
   "cell_type": "code",
   "execution_count": 114,
   "id": "51d923a1",
   "metadata": {},
   "outputs": [
    {
     "data": {
      "application/vnd.microsoft.datawrangler.viewer.v0+json": {
       "columns": [
        {
         "name": "index",
         "rawType": "int64",
         "type": "integer"
        },
        {
         "name": "country",
         "rawType": "object",
         "type": "string"
        },
        {
         "name": "workout_2018_2023",
         "rawType": "float64",
         "type": "float"
        }
       ],
       "conversionMethod": "pd.DataFrame",
       "ref": "4194318d-e5e1-4688-82df-1cad6d9c20f6",
       "rows": [
        [
         "5",
         "United States",
         "100.0"
        ],
        [
         "18",
         "Australia",
         "77.0"
        ],
        [
         "216",
         "Japan",
         "1.0"
        ]
       ],
       "shape": {
        "columns": 2,
        "rows": 3
       }
      },
      "text/html": [
       "<div>\n",
       "<style scoped>\n",
       "    .dataframe tbody tr th:only-of-type {\n",
       "        vertical-align: middle;\n",
       "    }\n",
       "\n",
       "    .dataframe tbody tr th {\n",
       "        vertical-align: top;\n",
       "    }\n",
       "\n",
       "    .dataframe thead th {\n",
       "        text-align: right;\n",
       "    }\n",
       "</style>\n",
       "<table border=\"1\" class=\"dataframe\">\n",
       "  <thead>\n",
       "    <tr style=\"text-align: right;\">\n",
       "      <th></th>\n",
       "      <th>country</th>\n",
       "      <th>workout_2018_2023</th>\n",
       "    </tr>\n",
       "  </thead>\n",
       "  <tbody>\n",
       "    <tr>\n",
       "      <th>5</th>\n",
       "      <td>United States</td>\n",
       "      <td>100.0</td>\n",
       "    </tr>\n",
       "    <tr>\n",
       "      <th>18</th>\n",
       "      <td>Australia</td>\n",
       "      <td>77.0</td>\n",
       "    </tr>\n",
       "    <tr>\n",
       "      <th>216</th>\n",
       "      <td>Japan</td>\n",
       "      <td>1.0</td>\n",
       "    </tr>\n",
       "  </tbody>\n",
       "</table>\n",
       "</div>"
      ],
      "text/plain": [
       "           country  workout_2018_2023\n",
       "5    United States              100.0\n",
       "18       Australia               77.0\n",
       "216          Japan                1.0"
      ]
     },
     "execution_count": 114,
     "metadata": {},
     "output_type": "execute_result"
    }
   ],
   "source": [
    "countries = ['United States', 'Australia', 'Japan']\n",
    "geo_with_three_countries = geo_df[geo_df['country'].isin(countries)]\n",
    "geo_with_three_countries"
   ]
  },
  {
   "cell_type": "code",
   "execution_count": 117,
   "id": "916cd0bd",
   "metadata": {},
   "outputs": [
    {
     "name": "stdout",
     "output_type": "stream",
     "text": [
      "Country with the highest interest for workouts: United States\n"
     ]
    }
   ],
   "source": [
    "print(f\"Country with the highest interest for workouts: {geo_with_three_countries.max().iloc[0]}\")"
   ]
  },
  {
   "cell_type": "markdown",
   "id": "a03eac8a",
   "metadata": {},
   "source": [
    "### Question 4"
   ]
  },
  {
   "cell_type": "code",
   "execution_count": 118,
   "id": "60d5de99",
   "metadata": {},
   "outputs": [
    {
     "data": {
      "application/vnd.microsoft.datawrangler.viewer.v0+json": {
       "columns": [
        {
         "name": "index",
         "rawType": "int64",
         "type": "integer"
        },
        {
         "name": "Country",
         "rawType": "object",
         "type": "string"
        },
        {
         "name": "home_workout_2018_2023",
         "rawType": "float64",
         "type": "float"
        },
        {
         "name": "gym_workout_2018_2023",
         "rawType": "float64",
         "type": "float"
        },
        {
         "name": "home_gym_2018_2023",
         "rawType": "float64",
         "type": "float"
        }
       ],
       "conversionMethod": "pd.DataFrame",
       "ref": "be1661cb-8d58-434c-befe-bbdf5261233b",
       "rows": [
        [
         "0",
         "Gibraltar",
         null,
         null,
         null
        ],
        [
         "1",
         "Lesotho",
         null,
         null,
         null
        ],
        [
         "2",
         "Guam",
         null,
         null,
         null
        ],
        [
         "3",
         "Botswana",
         null,
         null,
         null
        ],
        [
         "4",
         "Brunei",
         null,
         null,
         null
        ]
       ],
       "shape": {
        "columns": 4,
        "rows": 5
       }
      },
      "text/html": [
       "<div>\n",
       "<style scoped>\n",
       "    .dataframe tbody tr th:only-of-type {\n",
       "        vertical-align: middle;\n",
       "    }\n",
       "\n",
       "    .dataframe tbody tr th {\n",
       "        vertical-align: top;\n",
       "    }\n",
       "\n",
       "    .dataframe thead th {\n",
       "        text-align: right;\n",
       "    }\n",
       "</style>\n",
       "<table border=\"1\" class=\"dataframe\">\n",
       "  <thead>\n",
       "    <tr style=\"text-align: right;\">\n",
       "      <th></th>\n",
       "      <th>Country</th>\n",
       "      <th>home_workout_2018_2023</th>\n",
       "      <th>gym_workout_2018_2023</th>\n",
       "      <th>home_gym_2018_2023</th>\n",
       "    </tr>\n",
       "  </thead>\n",
       "  <tbody>\n",
       "    <tr>\n",
       "      <th>0</th>\n",
       "      <td>Gibraltar</td>\n",
       "      <td>NaN</td>\n",
       "      <td>NaN</td>\n",
       "      <td>NaN</td>\n",
       "    </tr>\n",
       "    <tr>\n",
       "      <th>1</th>\n",
       "      <td>Lesotho</td>\n",
       "      <td>NaN</td>\n",
       "      <td>NaN</td>\n",
       "      <td>NaN</td>\n",
       "    </tr>\n",
       "    <tr>\n",
       "      <th>2</th>\n",
       "      <td>Guam</td>\n",
       "      <td>NaN</td>\n",
       "      <td>NaN</td>\n",
       "      <td>NaN</td>\n",
       "    </tr>\n",
       "    <tr>\n",
       "      <th>3</th>\n",
       "      <td>Botswana</td>\n",
       "      <td>NaN</td>\n",
       "      <td>NaN</td>\n",
       "      <td>NaN</td>\n",
       "    </tr>\n",
       "    <tr>\n",
       "      <th>4</th>\n",
       "      <td>Brunei</td>\n",
       "      <td>NaN</td>\n",
       "      <td>NaN</td>\n",
       "      <td>NaN</td>\n",
       "    </tr>\n",
       "  </tbody>\n",
       "</table>\n",
       "</div>"
      ],
      "text/plain": [
       "     Country  home_workout_2018_2023  gym_workout_2018_2023  \\\n",
       "0  Gibraltar                     NaN                    NaN   \n",
       "1    Lesotho                     NaN                    NaN   \n",
       "2       Guam                     NaN                    NaN   \n",
       "3   Botswana                     NaN                    NaN   \n",
       "4     Brunei                     NaN                    NaN   \n",
       "\n",
       "   home_gym_2018_2023  \n",
       "0                 NaN  \n",
       "1                 NaN  \n",
       "2                 NaN  \n",
       "3                 NaN  \n",
       "4                 NaN  "
      ]
     },
     "execution_count": 118,
     "metadata": {},
     "output_type": "execute_result"
    }
   ],
   "source": [
    "home_workout_df = pd.read_csv('./data/three_keywords_geo.csv')\n",
    "home_workout_df.head()"
   ]
  },
  {
   "cell_type": "code",
   "execution_count": 119,
   "id": "a75d12b1",
   "metadata": {},
   "outputs": [
    {
     "data": {
      "application/vnd.microsoft.datawrangler.viewer.v0+json": {
       "columns": [
        {
         "name": "index",
         "rawType": "int64",
         "type": "integer"
        },
        {
         "name": "Country",
         "rawType": "object",
         "type": "string"
        },
        {
         "name": "home_workout_2018_2023",
         "rawType": "float64",
         "type": "float"
        },
        {
         "name": "gym_workout_2018_2023",
         "rawType": "float64",
         "type": "float"
        },
        {
         "name": "home_gym_2018_2023",
         "rawType": "float64",
         "type": "float"
        }
       ],
       "conversionMethod": "pd.DataFrame",
       "ref": "1e6786b4-0386-4dcc-8340-89df2410730a",
       "rows": [
        [
         "23",
         "Philippines",
         "52.0",
         "38.0",
         "10.0"
        ],
        [
         "61",
         "Malaysia",
         "47.0",
         "38.0",
         "15.0"
        ]
       ],
       "shape": {
        "columns": 4,
        "rows": 2
       }
      },
      "text/html": [
       "<div>\n",
       "<style scoped>\n",
       "    .dataframe tbody tr th:only-of-type {\n",
       "        vertical-align: middle;\n",
       "    }\n",
       "\n",
       "    .dataframe tbody tr th {\n",
       "        vertical-align: top;\n",
       "    }\n",
       "\n",
       "    .dataframe thead th {\n",
       "        text-align: right;\n",
       "    }\n",
       "</style>\n",
       "<table border=\"1\" class=\"dataframe\">\n",
       "  <thead>\n",
       "    <tr style=\"text-align: right;\">\n",
       "      <th></th>\n",
       "      <th>Country</th>\n",
       "      <th>home_workout_2018_2023</th>\n",
       "      <th>gym_workout_2018_2023</th>\n",
       "      <th>home_gym_2018_2023</th>\n",
       "    </tr>\n",
       "  </thead>\n",
       "  <tbody>\n",
       "    <tr>\n",
       "      <th>23</th>\n",
       "      <td>Philippines</td>\n",
       "      <td>52.0</td>\n",
       "      <td>38.0</td>\n",
       "      <td>10.0</td>\n",
       "    </tr>\n",
       "    <tr>\n",
       "      <th>61</th>\n",
       "      <td>Malaysia</td>\n",
       "      <td>47.0</td>\n",
       "      <td>38.0</td>\n",
       "      <td>15.0</td>\n",
       "    </tr>\n",
       "  </tbody>\n",
       "</table>\n",
       "</div>"
      ],
      "text/plain": [
       "        Country  home_workout_2018_2023  gym_workout_2018_2023  \\\n",
       "23  Philippines                    52.0                   38.0   \n",
       "61     Malaysia                    47.0                   38.0   \n",
       "\n",
       "    home_gym_2018_2023  \n",
       "23                10.0  \n",
       "61                15.0  "
      ]
     },
     "execution_count": 119,
     "metadata": {},
     "output_type": "execute_result"
    }
   ],
   "source": [
    "home_workout_df_with_two_countries = home_workout_df[home_workout_df['Country'].isin(['Philippines', 'Malaysia'])]\n",
    "home_workout_df_with_two_countries"
   ]
  },
  {
   "cell_type": "code",
   "execution_count": 130,
   "id": "450e661f",
   "metadata": {},
   "outputs": [
    {
     "data": {
      "application/vnd.microsoft.datawrangler.viewer.v0+json": {
       "columns": [
        {
         "name": "index",
         "rawType": "int64",
         "type": "integer"
        },
        {
         "name": "Country",
         "rawType": "object",
         "type": "string"
        },
        {
         "name": "home_workout_2018_2023",
         "rawType": "float64",
         "type": "float"
        }
       ],
       "conversionMethod": "pd.DataFrame",
       "ref": "b8b9c32b-ddbd-47e7-8245-88fad9a0615f",
       "rows": [
        [
         "23",
         "Philippines",
         "52.0"
        ],
        [
         "61",
         "Malaysia",
         "47.0"
        ]
       ],
       "shape": {
        "columns": 2,
        "rows": 2
       }
      },
      "text/html": [
       "<div>\n",
       "<style scoped>\n",
       "    .dataframe tbody tr th:only-of-type {\n",
       "        vertical-align: middle;\n",
       "    }\n",
       "\n",
       "    .dataframe tbody tr th {\n",
       "        vertical-align: top;\n",
       "    }\n",
       "\n",
       "    .dataframe thead th {\n",
       "        text-align: right;\n",
       "    }\n",
       "</style>\n",
       "<table border=\"1\" class=\"dataframe\">\n",
       "  <thead>\n",
       "    <tr style=\"text-align: right;\">\n",
       "      <th></th>\n",
       "      <th>Country</th>\n",
       "      <th>home_workout_2018_2023</th>\n",
       "    </tr>\n",
       "  </thead>\n",
       "  <tbody>\n",
       "    <tr>\n",
       "      <th>23</th>\n",
       "      <td>Philippines</td>\n",
       "      <td>52.0</td>\n",
       "    </tr>\n",
       "    <tr>\n",
       "      <th>61</th>\n",
       "      <td>Malaysia</td>\n",
       "      <td>47.0</td>\n",
       "    </tr>\n",
       "  </tbody>\n",
       "</table>\n",
       "</div>"
      ],
      "text/plain": [
       "        Country  home_workout_2018_2023\n",
       "23  Philippines                    52.0\n",
       "61     Malaysia                    47.0"
      ]
     },
     "execution_count": 130,
     "metadata": {},
     "output_type": "execute_result"
    }
   ],
   "source": [
    "max_interest = home_workout_df_with_two_countries.loc[:, ['Country','home_workout_2018_2023']].sort_values(by='home_workout_2018_2023', ascending=False)\n",
    "max_interest"
   ]
  },
  {
   "cell_type": "code",
   "execution_count": 143,
   "id": "64adc77e",
   "metadata": {},
   "outputs": [
    {
     "name": "stdout",
     "output_type": "stream",
     "text": [
      "The highest interest in home workouts Philippines\n"
     ]
    }
   ],
   "source": [
    "print(f\"The highest interest in home workouts {max_interest.head(1).loc[:, 'Country'].values[0]}\")"
   ]
  },
  {
   "cell_type": "markdown",
   "id": "e8f100dc",
   "metadata": {},
   "source": [
    "# Solution"
   ]
  },
  {
   "cell_type": "code",
   "execution_count": null,
   "id": "345f5054",
   "metadata": {},
   "outputs": [],
   "source": [
    "# Import the necessary libraries\n",
    "import pandas as pd\n",
    "import matplotlib.pyplot as plt\n",
    "\n",
    "# Find the peak for global 'workout' searches\n",
    "df_workout = pd.read_csv(\"data/workout.csv\")\n",
    "\n",
    "plt.figure(figsize=(12, 6))\n",
    "plt.plot(df_workout[\"month\"], df_workout[\"workout_worldwide\"])\n",
    "plt.xticks(rotation=90)\n",
    "plt.show()\n",
    "\n",
    "year_str = \"2020\"\n",
    "\n",
    "# Find the most popular keywords for the current year and during covid\n",
    "df_keywords = pd.read_csv(\"data/three_keywords.csv\")\n",
    "\n",
    "plt.figure(figsize=(12, 6))\n",
    "plt.plot(df_keywords[\"month\"], df_keywords[\"home_workout_worldwide\"], label=\"Home workout\")\n",
    "plt.plot(df_keywords[\"month\"], df_keywords[\"gym_workout_worldwide\"], label=\"Gym workout\")\n",
    "plt.plot(df_keywords[\"month\"], df_keywords[\"home_gym_worldwide\"], label=\"Home gym\")\n",
    "plt.xticks(rotation=90)\n",
    "plt.legend()\n",
    "plt.show()\n",
    "\n",
    "peak_covid = \"home workout\"\n",
    "current = \"gym workout\"\n",
    "\n",
    "# Find the country with the highest interest for workouts\n",
    "df_workout_geo = pd.read_csv(\"data/workout_geo.csv\", index_col = 0)\n",
    "print(df_workout_geo.loc[\"United States\"])\n",
    "print(df_workout_geo.loc[\"Australia\"])\n",
    "print(df_workout_geo.loc[\"Japan\"])\n",
    "\n",
    "top_country = \"United States\"\n",
    "\n",
    "# Who has the highest interest in home workouts, Philippines or Malaysia?\n",
    "df_keywords_geo = pd.read_csv(\"data/three_keywords_geo.csv\", index_col = 0)\n",
    "print(df_keywords_geo.loc[\"Philippines\", :])\n",
    "print(df_keywords_geo.loc[\"Malaysia\", :])\n",
    "\n",
    "home_workout_geo = \"Philippines\""
   ]
  }
 ],
 "metadata": {
  "colab": {
   "name": "Welcome to DataCamp Workspaces.ipynb",
   "provenance": []
  },
  "kernelspec": {
   "display_name": "base",
   "language": "python",
   "name": "python3"
  },
  "language_info": {
   "codemirror_mode": {
    "name": "ipython",
    "version": 3
   },
   "file_extension": ".py",
   "mimetype": "text/x-python",
   "name": "python",
   "nbconvert_exporter": "python",
   "pygments_lexer": "ipython3",
   "version": "3.12.4"
  }
 },
 "nbformat": 4,
 "nbformat_minor": 5
}
