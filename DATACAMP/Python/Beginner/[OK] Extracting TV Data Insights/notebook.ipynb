{
 "cells": [
  {
   "cell_type": "markdown",
   "id": "0852345e-d504-4ea1-84a2-be63b63b328d",
   "metadata": {},
   "source": [
    "![us_bank_stadium_superbowl_2018](us_bank_stadium_superbowl_2018.png)"
   ]
  },
  {
   "cell_type": "markdown",
   "id": "8ee01bde-19d6-437a-91ab-7d6d5cb73e38",
   "metadata": {},
   "source": [
    "Whether or not you like football, the Super Bowl is a spectacle. There's a little something for everyone at your Super Bowl party. Drama in the form of blowouts, comebacks, and controversy for the sports fan. There are the ridiculously expensive ads, some hilarious, others gut-wrenching, thought-provoking, and weird. The half-time shows with the biggest musicians in the world, sometimes riding giant mechanical tigers or leaping from the roof of the stadium. \n",
    "\n",
    "The dataset we'll use was scraped and polished from Wikipedia. It is made up of three CSV files, one with game data, one with TV data, and one with halftime musician data for 52 Super Bowls through 2018. \n",
    "\n",
    "## The Data\n",
    "\n",
    "Three datasets have been provided, and summaries and previews of each are presented below.\n",
    "\n",
    "### 1. **halftime_musicians.csv**\n",
    "\n",
    "This dataset contains information about the musicians who performed during the halftime shows of various Super Bowl games. The structure is shown below, and it applies to all remaining files.\n",
    "\n",
    "| Column       | Description                                                                                  |\n",
    "|--------------|----------------------------------------------------------------------------------------------|\n",
    "| `'super_bowl'` | The Super Bowl number (e.g., 52 for Super Bowl LII).                                         |\n",
    "| `'musician'`   | The name of the musician or musical group that performed during the halftime show.           |\n",
    "| `'num_songs'`  | The number of songs performed by the musician or group during the halftime show.             |\n",
    "\n",
    "### 2. **super_bowls.csv**\n",
    "\n",
    "This dataset provides details about each Super Bowl game, including the date, location, participating teams, and scores, including the points difference between the winning and losing team (`'difference_pts'`).\n",
    "\n",
    "### 3. **tv.csv**\n",
    "\n",
    "This dataset contains television viewership statistics and advertisement costs related to each Super Bowl."
   ]
  },
  {
   "cell_type": "markdown",
   "id": "908a8b30",
   "metadata": {},
   "source": [
    "Explore Super Bowl data to uncover insights about TV viewership, game outcomes, and halftime shows.\n",
    "\n",
    "- Has TV viewership increased over time? Save your answer as a boolean variable named viewership_increased.\n",
    "- How many matches finished with a point difference greater than 40? Save your answer as an integer named difference.\n",
    "- Who performed the most songs in Super Bowl halftime shows? Save your answer as a string named most_songs."
   ]
  },
  {
   "cell_type": "code",
   "execution_count": 1,
   "id": "d142c0b1-9c0c-42cc-8d91-2f1650309c62",
   "metadata": {
    "executionCancelledAt": null,
    "executionTime": 1604,
    "lastExecutedAt": 1725038294208,
    "lastExecutedByKernel": "e7907c38-ba7e-4425-92a5-9bf65488ba44",
    "lastScheduledRunId": null,
    "lastSuccessfullyExecutedCode": "# Import libraries\nimport pandas as pd\nfrom matplotlib import pyplot as plt"
   },
   "outputs": [],
   "source": [
    "# Import libraries\n",
    "import pandas as pd\n",
    "from matplotlib import pyplot as plt"
   ]
  },
  {
   "cell_type": "code",
   "execution_count": 2,
   "id": "cd83fe09-cd21-464a-a4fe-7ea9b35e44bf",
   "metadata": {
    "executionCancelledAt": null,
    "executionTime": 51,
    "lastExecutedAt": 1725038294261,
    "lastExecutedByKernel": "e7907c38-ba7e-4425-92a5-9bf65488ba44",
    "lastScheduledRunId": null,
    "lastSuccessfullyExecutedCode": "# Load the CSV data into DataFrames\nsuper_bowls = pd.read_csv(\"datasets/super_bowls.csv\")\nsuper_bowls.head()",
    "outputsMetadata": {
     "0": {
      "height": 218,
      "type": "dataFrame"
     }
    }
   },
   "outputs": [
    {
     "data": {
      "application/vnd.microsoft.datawrangler.viewer.v0+json": {
       "columns": [
        {
         "name": "index",
         "rawType": "int64",
         "type": "integer"
        },
        {
         "name": "date",
         "rawType": "object",
         "type": "string"
        },
        {
         "name": "super_bowl",
         "rawType": "int64",
         "type": "integer"
        },
        {
         "name": "venue",
         "rawType": "object",
         "type": "string"
        },
        {
         "name": "city",
         "rawType": "object",
         "type": "string"
        },
        {
         "name": "state",
         "rawType": "object",
         "type": "string"
        },
        {
         "name": "attendance",
         "rawType": "int64",
         "type": "integer"
        },
        {
         "name": "team_winner",
         "rawType": "object",
         "type": "string"
        },
        {
         "name": "winning_pts",
         "rawType": "int64",
         "type": "integer"
        },
        {
         "name": "qb_winner_1",
         "rawType": "object",
         "type": "string"
        },
        {
         "name": "qb_winner_2",
         "rawType": "object",
         "type": "unknown"
        },
        {
         "name": "coach_winner",
         "rawType": "object",
         "type": "string"
        },
        {
         "name": "team_loser",
         "rawType": "object",
         "type": "string"
        },
        {
         "name": "losing_pts",
         "rawType": "int64",
         "type": "integer"
        },
        {
         "name": "qb_loser_1",
         "rawType": "object",
         "type": "string"
        },
        {
         "name": "qb_loser_2",
         "rawType": "object",
         "type": "unknown"
        },
        {
         "name": "coach_loser",
         "rawType": "object",
         "type": "string"
        },
        {
         "name": "combined_pts",
         "rawType": "int64",
         "type": "integer"
        },
        {
         "name": "difference_pts",
         "rawType": "int64",
         "type": "integer"
        }
       ],
       "conversionMethod": "pd.DataFrame",
       "ref": "5e4603a4-d01f-4a1e-9345-71bfc48b92ec",
       "rows": [
        [
         "0",
         "2018-02-04",
         "52",
         "U.S. Bank Stadium",
         "Minneapolis",
         "Minnesota",
         "67612",
         "Philadelphia Eagles",
         "41",
         "Nick Foles",
         null,
         "Doug Pederson",
         "New England Patriots",
         "33",
         "Tom Brady",
         null,
         "Bill Belichick",
         "74",
         "8"
        ],
        [
         "1",
         "2017-02-05",
         "51",
         "NRG Stadium",
         "Houston",
         "Texas",
         "70807",
         "New England Patriots",
         "34",
         "Tom Brady",
         null,
         "Bill Belichick",
         "Atlanta Falcons",
         "28",
         "Matt Ryan",
         null,
         "Dan Quinn",
         "62",
         "6"
        ],
        [
         "2",
         "2016-02-07",
         "50",
         "Levi's Stadium",
         "Santa Clara",
         "California",
         "71088",
         "Denver Broncos",
         "24",
         "Peyton Manning",
         null,
         "Gary Kubiak",
         "Carolina Panthers",
         "10",
         "Cam Newton",
         null,
         "Ron Rivera",
         "34",
         "14"
        ],
        [
         "3",
         "2015-02-01",
         "49",
         "University of Phoenix Stadium",
         "Glendale",
         "Arizona",
         "70288",
         "New England Patriots",
         "28",
         "Tom Brady",
         null,
         "Bill Belichick",
         "Seattle Seahawks",
         "24",
         "Russell Wilson",
         null,
         "Pete Carroll",
         "52",
         "4"
        ],
        [
         "4",
         "2014-02-02",
         "48",
         "MetLife Stadium",
         "East Rutherford",
         "New Jersey",
         "82529",
         "Seattle Seahawks",
         "43",
         "Russell Wilson",
         null,
         "Pete Carroll",
         "Denver Broncos",
         "8",
         "Peyton Manning",
         null,
         "John Fox",
         "51",
         "35"
        ]
       ],
       "shape": {
        "columns": 18,
        "rows": 5
       }
      },
      "text/html": [
       "<div>\n",
       "<style scoped>\n",
       "    .dataframe tbody tr th:only-of-type {\n",
       "        vertical-align: middle;\n",
       "    }\n",
       "\n",
       "    .dataframe tbody tr th {\n",
       "        vertical-align: top;\n",
       "    }\n",
       "\n",
       "    .dataframe thead th {\n",
       "        text-align: right;\n",
       "    }\n",
       "</style>\n",
       "<table border=\"1\" class=\"dataframe\">\n",
       "  <thead>\n",
       "    <tr style=\"text-align: right;\">\n",
       "      <th></th>\n",
       "      <th>date</th>\n",
       "      <th>super_bowl</th>\n",
       "      <th>venue</th>\n",
       "      <th>city</th>\n",
       "      <th>state</th>\n",
       "      <th>attendance</th>\n",
       "      <th>team_winner</th>\n",
       "      <th>winning_pts</th>\n",
       "      <th>qb_winner_1</th>\n",
       "      <th>qb_winner_2</th>\n",
       "      <th>coach_winner</th>\n",
       "      <th>team_loser</th>\n",
       "      <th>losing_pts</th>\n",
       "      <th>qb_loser_1</th>\n",
       "      <th>qb_loser_2</th>\n",
       "      <th>coach_loser</th>\n",
       "      <th>combined_pts</th>\n",
       "      <th>difference_pts</th>\n",
       "    </tr>\n",
       "  </thead>\n",
       "  <tbody>\n",
       "    <tr>\n",
       "      <th>0</th>\n",
       "      <td>2018-02-04</td>\n",
       "      <td>52</td>\n",
       "      <td>U.S. Bank Stadium</td>\n",
       "      <td>Minneapolis</td>\n",
       "      <td>Minnesota</td>\n",
       "      <td>67612</td>\n",
       "      <td>Philadelphia Eagles</td>\n",
       "      <td>41</td>\n",
       "      <td>Nick Foles</td>\n",
       "      <td>NaN</td>\n",
       "      <td>Doug Pederson</td>\n",
       "      <td>New England Patriots</td>\n",
       "      <td>33</td>\n",
       "      <td>Tom Brady</td>\n",
       "      <td>NaN</td>\n",
       "      <td>Bill Belichick</td>\n",
       "      <td>74</td>\n",
       "      <td>8</td>\n",
       "    </tr>\n",
       "    <tr>\n",
       "      <th>1</th>\n",
       "      <td>2017-02-05</td>\n",
       "      <td>51</td>\n",
       "      <td>NRG Stadium</td>\n",
       "      <td>Houston</td>\n",
       "      <td>Texas</td>\n",
       "      <td>70807</td>\n",
       "      <td>New England Patriots</td>\n",
       "      <td>34</td>\n",
       "      <td>Tom Brady</td>\n",
       "      <td>NaN</td>\n",
       "      <td>Bill Belichick</td>\n",
       "      <td>Atlanta Falcons</td>\n",
       "      <td>28</td>\n",
       "      <td>Matt Ryan</td>\n",
       "      <td>NaN</td>\n",
       "      <td>Dan Quinn</td>\n",
       "      <td>62</td>\n",
       "      <td>6</td>\n",
       "    </tr>\n",
       "    <tr>\n",
       "      <th>2</th>\n",
       "      <td>2016-02-07</td>\n",
       "      <td>50</td>\n",
       "      <td>Levi's Stadium</td>\n",
       "      <td>Santa Clara</td>\n",
       "      <td>California</td>\n",
       "      <td>71088</td>\n",
       "      <td>Denver Broncos</td>\n",
       "      <td>24</td>\n",
       "      <td>Peyton Manning</td>\n",
       "      <td>NaN</td>\n",
       "      <td>Gary Kubiak</td>\n",
       "      <td>Carolina Panthers</td>\n",
       "      <td>10</td>\n",
       "      <td>Cam Newton</td>\n",
       "      <td>NaN</td>\n",
       "      <td>Ron Rivera</td>\n",
       "      <td>34</td>\n",
       "      <td>14</td>\n",
       "    </tr>\n",
       "    <tr>\n",
       "      <th>3</th>\n",
       "      <td>2015-02-01</td>\n",
       "      <td>49</td>\n",
       "      <td>University of Phoenix Stadium</td>\n",
       "      <td>Glendale</td>\n",
       "      <td>Arizona</td>\n",
       "      <td>70288</td>\n",
       "      <td>New England Patriots</td>\n",
       "      <td>28</td>\n",
       "      <td>Tom Brady</td>\n",
       "      <td>NaN</td>\n",
       "      <td>Bill Belichick</td>\n",
       "      <td>Seattle Seahawks</td>\n",
       "      <td>24</td>\n",
       "      <td>Russell Wilson</td>\n",
       "      <td>NaN</td>\n",
       "      <td>Pete Carroll</td>\n",
       "      <td>52</td>\n",
       "      <td>4</td>\n",
       "    </tr>\n",
       "    <tr>\n",
       "      <th>4</th>\n",
       "      <td>2014-02-02</td>\n",
       "      <td>48</td>\n",
       "      <td>MetLife Stadium</td>\n",
       "      <td>East Rutherford</td>\n",
       "      <td>New Jersey</td>\n",
       "      <td>82529</td>\n",
       "      <td>Seattle Seahawks</td>\n",
       "      <td>43</td>\n",
       "      <td>Russell Wilson</td>\n",
       "      <td>NaN</td>\n",
       "      <td>Pete Carroll</td>\n",
       "      <td>Denver Broncos</td>\n",
       "      <td>8</td>\n",
       "      <td>Peyton Manning</td>\n",
       "      <td>NaN</td>\n",
       "      <td>John Fox</td>\n",
       "      <td>51</td>\n",
       "      <td>35</td>\n",
       "    </tr>\n",
       "  </tbody>\n",
       "</table>\n",
       "</div>"
      ],
      "text/plain": [
       "         date  super_bowl                          venue             city  \\\n",
       "0  2018-02-04          52              U.S. Bank Stadium      Minneapolis   \n",
       "1  2017-02-05          51                    NRG Stadium          Houston   \n",
       "2  2016-02-07          50                 Levi's Stadium      Santa Clara   \n",
       "3  2015-02-01          49  University of Phoenix Stadium         Glendale   \n",
       "4  2014-02-02          48                MetLife Stadium  East Rutherford   \n",
       "\n",
       "        state  attendance           team_winner  winning_pts     qb_winner_1  \\\n",
       "0   Minnesota       67612   Philadelphia Eagles           41      Nick Foles   \n",
       "1       Texas       70807  New England Patriots           34       Tom Brady   \n",
       "2  California       71088        Denver Broncos           24  Peyton Manning   \n",
       "3     Arizona       70288  New England Patriots           28       Tom Brady   \n",
       "4  New Jersey       82529      Seattle Seahawks           43  Russell Wilson   \n",
       "\n",
       "  qb_winner_2    coach_winner            team_loser  losing_pts  \\\n",
       "0         NaN   Doug Pederson  New England Patriots          33   \n",
       "1         NaN  Bill Belichick       Atlanta Falcons          28   \n",
       "2         NaN     Gary Kubiak     Carolina Panthers          10   \n",
       "3         NaN  Bill Belichick      Seattle Seahawks          24   \n",
       "4         NaN    Pete Carroll        Denver Broncos           8   \n",
       "\n",
       "       qb_loser_1 qb_loser_2     coach_loser  combined_pts  difference_pts  \n",
       "0       Tom Brady        NaN  Bill Belichick            74               8  \n",
       "1       Matt Ryan        NaN       Dan Quinn            62               6  \n",
       "2      Cam Newton        NaN      Ron Rivera            34              14  \n",
       "3  Russell Wilson        NaN    Pete Carroll            52               4  \n",
       "4  Peyton Manning        NaN        John Fox            51              35  "
      ]
     },
     "execution_count": 2,
     "metadata": {},
     "output_type": "execute_result"
    }
   ],
   "source": [
    "# Load the CSV data into DataFrames\n",
    "super_bowls = pd.read_csv(\"datasets/super_bowls.csv\")\n",
    "super_bowls.head()"
   ]
  },
  {
   "cell_type": "code",
   "execution_count": 8,
   "id": "01f3126b",
   "metadata": {},
   "outputs": [
    {
     "data": {
      "text/plain": [
       "Index(['date', 'super_bowl', 'venue', 'city', 'state', 'attendance',\n",
       "       'team_winner', 'winning_pts', 'qb_winner_1', 'qb_winner_2',\n",
       "       'coach_winner', 'team_loser', 'losing_pts', 'qb_loser_1', 'qb_loser_2',\n",
       "       'coach_loser', 'combined_pts', 'difference_pts'],\n",
       "      dtype='object')"
      ]
     },
     "execution_count": 8,
     "metadata": {},
     "output_type": "execute_result"
    }
   ],
   "source": [
    "super_bowls.columns"
   ]
  },
  {
   "cell_type": "code",
   "execution_count": 3,
   "id": "a6e17e28-6668-4ec1-a910-69b4c6805fd9",
   "metadata": {
    "executionCancelledAt": null,
    "executionTime": 54,
    "lastExecutedAt": 1725038294315,
    "lastExecutedByKernel": "e7907c38-ba7e-4425-92a5-9bf65488ba44",
    "lastScheduledRunId": null,
    "lastSuccessfullyExecutedCode": "tv = pd.read_csv(\"datasets/tv.csv\")\ntv.head()",
    "outputsMetadata": {
     "0": {
      "height": 218,
      "type": "dataFrame"
     }
    }
   },
   "outputs": [
    {
     "data": {
      "application/vnd.microsoft.datawrangler.viewer.v0+json": {
       "columns": [
        {
         "name": "index",
         "rawType": "int64",
         "type": "integer"
        },
        {
         "name": "super_bowl",
         "rawType": "int64",
         "type": "integer"
        },
        {
         "name": "network",
         "rawType": "object",
         "type": "string"
        },
        {
         "name": "avg_us_viewers",
         "rawType": "int64",
         "type": "integer"
        },
        {
         "name": "total_us_viewers",
         "rawType": "float64",
         "type": "float"
        },
        {
         "name": "rating_household",
         "rawType": "float64",
         "type": "float"
        },
        {
         "name": "share_household",
         "rawType": "int64",
         "type": "integer"
        },
        {
         "name": "rating_18_49",
         "rawType": "float64",
         "type": "float"
        },
        {
         "name": "share_18_49",
         "rawType": "float64",
         "type": "float"
        },
        {
         "name": "ad_cost",
         "rawType": "int64",
         "type": "integer"
        }
       ],
       "conversionMethod": "pd.DataFrame",
       "ref": "2a5dcab3-d312-4cb0-bf39-61f503f6faed",
       "rows": [
        [
         "0",
         "52",
         "NBC",
         "103390000",
         null,
         "43.1",
         "68",
         "33.4",
         "78.0",
         "5000000"
        ],
        [
         "1",
         "51",
         "Fox",
         "111319000",
         "172000000.0",
         "45.3",
         "73",
         "37.1",
         "79.0",
         "5000000"
        ],
        [
         "2",
         "50",
         "CBS",
         "111864000",
         "167000000.0",
         "46.6",
         "72",
         "37.7",
         "79.0",
         "5000000"
        ],
        [
         "3",
         "49",
         "NBC",
         "114442000",
         "168000000.0",
         "47.5",
         "71",
         "39.1",
         "79.0",
         "4500000"
        ],
        [
         "4",
         "48",
         "Fox",
         "112191000",
         "167000000.0",
         "46.7",
         "69",
         "39.3",
         "77.0",
         "4000000"
        ]
       ],
       "shape": {
        "columns": 9,
        "rows": 5
       }
      },
      "text/html": [
       "<div>\n",
       "<style scoped>\n",
       "    .dataframe tbody tr th:only-of-type {\n",
       "        vertical-align: middle;\n",
       "    }\n",
       "\n",
       "    .dataframe tbody tr th {\n",
       "        vertical-align: top;\n",
       "    }\n",
       "\n",
       "    .dataframe thead th {\n",
       "        text-align: right;\n",
       "    }\n",
       "</style>\n",
       "<table border=\"1\" class=\"dataframe\">\n",
       "  <thead>\n",
       "    <tr style=\"text-align: right;\">\n",
       "      <th></th>\n",
       "      <th>super_bowl</th>\n",
       "      <th>network</th>\n",
       "      <th>avg_us_viewers</th>\n",
       "      <th>total_us_viewers</th>\n",
       "      <th>rating_household</th>\n",
       "      <th>share_household</th>\n",
       "      <th>rating_18_49</th>\n",
       "      <th>share_18_49</th>\n",
       "      <th>ad_cost</th>\n",
       "    </tr>\n",
       "  </thead>\n",
       "  <tbody>\n",
       "    <tr>\n",
       "      <th>0</th>\n",
       "      <td>52</td>\n",
       "      <td>NBC</td>\n",
       "      <td>103390000</td>\n",
       "      <td>NaN</td>\n",
       "      <td>43.1</td>\n",
       "      <td>68</td>\n",
       "      <td>33.4</td>\n",
       "      <td>78.0</td>\n",
       "      <td>5000000</td>\n",
       "    </tr>\n",
       "    <tr>\n",
       "      <th>1</th>\n",
       "      <td>51</td>\n",
       "      <td>Fox</td>\n",
       "      <td>111319000</td>\n",
       "      <td>172000000.0</td>\n",
       "      <td>45.3</td>\n",
       "      <td>73</td>\n",
       "      <td>37.1</td>\n",
       "      <td>79.0</td>\n",
       "      <td>5000000</td>\n",
       "    </tr>\n",
       "    <tr>\n",
       "      <th>2</th>\n",
       "      <td>50</td>\n",
       "      <td>CBS</td>\n",
       "      <td>111864000</td>\n",
       "      <td>167000000.0</td>\n",
       "      <td>46.6</td>\n",
       "      <td>72</td>\n",
       "      <td>37.7</td>\n",
       "      <td>79.0</td>\n",
       "      <td>5000000</td>\n",
       "    </tr>\n",
       "    <tr>\n",
       "      <th>3</th>\n",
       "      <td>49</td>\n",
       "      <td>NBC</td>\n",
       "      <td>114442000</td>\n",
       "      <td>168000000.0</td>\n",
       "      <td>47.5</td>\n",
       "      <td>71</td>\n",
       "      <td>39.1</td>\n",
       "      <td>79.0</td>\n",
       "      <td>4500000</td>\n",
       "    </tr>\n",
       "    <tr>\n",
       "      <th>4</th>\n",
       "      <td>48</td>\n",
       "      <td>Fox</td>\n",
       "      <td>112191000</td>\n",
       "      <td>167000000.0</td>\n",
       "      <td>46.7</td>\n",
       "      <td>69</td>\n",
       "      <td>39.3</td>\n",
       "      <td>77.0</td>\n",
       "      <td>4000000</td>\n",
       "    </tr>\n",
       "  </tbody>\n",
       "</table>\n",
       "</div>"
      ],
      "text/plain": [
       "   super_bowl network  avg_us_viewers  total_us_viewers  rating_household  \\\n",
       "0          52     NBC       103390000               NaN              43.1   \n",
       "1          51     Fox       111319000       172000000.0              45.3   \n",
       "2          50     CBS       111864000       167000000.0              46.6   \n",
       "3          49     NBC       114442000       168000000.0              47.5   \n",
       "4          48     Fox       112191000       167000000.0              46.7   \n",
       "\n",
       "   share_household  rating_18_49  share_18_49  ad_cost  \n",
       "0               68          33.4         78.0  5000000  \n",
       "1               73          37.1         79.0  5000000  \n",
       "2               72          37.7         79.0  5000000  \n",
       "3               71          39.1         79.0  4500000  \n",
       "4               69          39.3         77.0  4000000  "
      ]
     },
     "execution_count": 3,
     "metadata": {},
     "output_type": "execute_result"
    }
   ],
   "source": [
    "tv = pd.read_csv(\"datasets/tv.csv\")\n",
    "tv.head()"
   ]
  },
  {
   "cell_type": "code",
   "execution_count": 9,
   "id": "965e9c98",
   "metadata": {},
   "outputs": [
    {
     "data": {
      "text/plain": [
       "Index(['super_bowl', 'network', 'avg_us_viewers', 'total_us_viewers',\n",
       "       'rating_household', 'share_household', 'rating_18_49', 'share_18_49',\n",
       "       'ad_cost'],\n",
       "      dtype='object')"
      ]
     },
     "execution_count": 9,
     "metadata": {},
     "output_type": "execute_result"
    }
   ],
   "source": [
    "tv.columns"
   ]
  },
  {
   "cell_type": "code",
   "execution_count": 4,
   "id": "5a89e5fb-796b-4a4d-b637-eda7e0acd50d",
   "metadata": {
    "executionCancelledAt": null,
    "executionTime": 47,
    "lastExecutedAt": 1725038294362,
    "lastExecutedByKernel": "e7907c38-ba7e-4425-92a5-9bf65488ba44",
    "lastScheduledRunId": null,
    "lastSuccessfullyExecutedCode": "halftime_musicians = pd.read_csv(\"datasets/halftime_musicians.csv\")\nhalftime_musicians.head()",
    "outputsMetadata": {
     "0": {
      "height": 218,
      "type": "dataFrame"
     }
    }
   },
   "outputs": [
    {
     "data": {
      "application/vnd.microsoft.datawrangler.viewer.v0+json": {
       "columns": [
        {
         "name": "index",
         "rawType": "int64",
         "type": "integer"
        },
        {
         "name": "super_bowl",
         "rawType": "int64",
         "type": "integer"
        },
        {
         "name": "musician",
         "rawType": "object",
         "type": "string"
        },
        {
         "name": "num_songs",
         "rawType": "float64",
         "type": "float"
        }
       ],
       "conversionMethod": "pd.DataFrame",
       "ref": "e86b6f3a-f00f-4063-9a72-50f454b4fbfb",
       "rows": [
        [
         "0",
         "52",
         "Justin Timberlake",
         "11.0"
        ],
        [
         "1",
         "52",
         "University of Minnesota Marching Band",
         "1.0"
        ],
        [
         "2",
         "51",
         "Lady Gaga",
         "7.0"
        ],
        [
         "3",
         "50",
         "Coldplay",
         "6.0"
        ],
        [
         "4",
         "50",
         "Beyoncé",
         "3.0"
        ]
       ],
       "shape": {
        "columns": 3,
        "rows": 5
       }
      },
      "text/html": [
       "<div>\n",
       "<style scoped>\n",
       "    .dataframe tbody tr th:only-of-type {\n",
       "        vertical-align: middle;\n",
       "    }\n",
       "\n",
       "    .dataframe tbody tr th {\n",
       "        vertical-align: top;\n",
       "    }\n",
       "\n",
       "    .dataframe thead th {\n",
       "        text-align: right;\n",
       "    }\n",
       "</style>\n",
       "<table border=\"1\" class=\"dataframe\">\n",
       "  <thead>\n",
       "    <tr style=\"text-align: right;\">\n",
       "      <th></th>\n",
       "      <th>super_bowl</th>\n",
       "      <th>musician</th>\n",
       "      <th>num_songs</th>\n",
       "    </tr>\n",
       "  </thead>\n",
       "  <tbody>\n",
       "    <tr>\n",
       "      <th>0</th>\n",
       "      <td>52</td>\n",
       "      <td>Justin Timberlake</td>\n",
       "      <td>11.0</td>\n",
       "    </tr>\n",
       "    <tr>\n",
       "      <th>1</th>\n",
       "      <td>52</td>\n",
       "      <td>University of Minnesota Marching Band</td>\n",
       "      <td>1.0</td>\n",
       "    </tr>\n",
       "    <tr>\n",
       "      <th>2</th>\n",
       "      <td>51</td>\n",
       "      <td>Lady Gaga</td>\n",
       "      <td>7.0</td>\n",
       "    </tr>\n",
       "    <tr>\n",
       "      <th>3</th>\n",
       "      <td>50</td>\n",
       "      <td>Coldplay</td>\n",
       "      <td>6.0</td>\n",
       "    </tr>\n",
       "    <tr>\n",
       "      <th>4</th>\n",
       "      <td>50</td>\n",
       "      <td>Beyoncé</td>\n",
       "      <td>3.0</td>\n",
       "    </tr>\n",
       "  </tbody>\n",
       "</table>\n",
       "</div>"
      ],
      "text/plain": [
       "   super_bowl                               musician  num_songs\n",
       "0          52                      Justin Timberlake       11.0\n",
       "1          52  University of Minnesota Marching Band        1.0\n",
       "2          51                              Lady Gaga        7.0\n",
       "3          50                               Coldplay        6.0\n",
       "4          50                                Beyoncé        3.0"
      ]
     },
     "execution_count": 4,
     "metadata": {},
     "output_type": "execute_result"
    }
   ],
   "source": [
    "halftime_musicians = pd.read_csv(\"datasets/halftime_musicians.csv\")\n",
    "halftime_musicians.head()"
   ]
  },
  {
   "cell_type": "code",
   "execution_count": 13,
   "id": "8de1e7f0-9164-4da8-97af-a3095ea15a32",
   "metadata": {
    "executionCancelledAt": null,
    "executionTime": 49,
    "lastExecutedAt": 1725038294411,
    "lastExecutedByKernel": "e7907c38-ba7e-4425-92a5-9bf65488ba44",
    "lastScheduledRunId": null,
    "lastSuccessfullyExecutedCode": "# Start coding here\n# Use as many cells as you need"
   },
   "outputs": [
    {
     "data": {
      "text/plain": [
       "0    2018-02-04\n",
       "Name: date, dtype: object"
      ]
     },
     "execution_count": 13,
     "metadata": {},
     "output_type": "execute_result"
    }
   ],
   "source": [
    "# Question 1\n",
    "# Find the year with the highest TV viewership\n",
    "\n",
    "# Połączenie DF na podstawie kolumny \"super_bowl\"\n",
    "merged_df = pd.merge(super_bowls[['date', 'super_bowl']], tv[['super_bowl', 'total_us_viewers']], on='super_bowl', how='inner')\n",
    "merged_df.sort_values(by='total_us_viewers', ascending=False)\n",
    "merged_df.head(1)['date']\n"
   ]
  },
  {
   "cell_type": "code",
   "execution_count": 15,
   "id": "bb7db3be",
   "metadata": {},
   "outputs": [
    {
     "data": {
      "text/plain": [
       "1"
      ]
     },
     "execution_count": 15,
     "metadata": {},
     "output_type": "execute_result"
    }
   ],
   "source": [
    "# Question 2\n",
    "# Filter the data for point difference >40\n",
    "difference = len(super_bowls[super_bowls[\"difference_pts\"]>40])\n",
    "\n"
   ]
  },
  {
   "cell_type": "code",
   "execution_count": 16,
   "id": "ada8f35a",
   "metadata": {},
   "outputs": [
    {
     "data": {
      "text/plain": [
       "(array([14.,  7., 10.,  7.,  4.,  4.,  1.,  4.,  0.,  1.]),\n",
       " array([ 1. ,  5.4,  9.8, 14.2, 18.6, 23. , 27.4, 31.8, 36.2, 40.6, 45. ]),\n",
       " <BarContainer object of 10 artists>)"
      ]
     },
     "execution_count": 16,
     "metadata": {},
     "output_type": "execute_result"
    },
    {
     "data": {
      "image/png": "[encoded data removed]",
      "text/plain": [
       "<Figure size 640x480 with 1 Axes>"
      ]
     },
     "metadata": {},
     "output_type": "display_data"
    }
   ],
   "source": [
    "# You can also plot a histogram of point differences to visualize the result\n",
    "plt.hist(super_bowls[\"difference_pts\"])"
   ]
  },
  {
   "cell_type": "code",
   "execution_count": 21,
   "id": "e8cf5294",
   "metadata": {},
   "outputs": [
    {
     "data": {
      "text/plain": [
       "musician\n",
       "Justin Timberlake                                 12.0\n",
       "Beyoncé                                           10.0\n",
       "Diana Ross                                        10.0\n",
       "Grambling State University Tiger Marching Band     9.0\n",
       "Bruno Mars                                         9.0\n",
       "                                                  ... \n",
       "Doc Severinsen                                     0.0\n",
       "Southeast Missouri State Marching Band             0.0\n",
       "Ella Fitzgerald                                    0.0\n",
       "San Diego State University Marching Aztecs         0.0\n",
       "Judy Mallett                                       0.0\n",
       "Name: num_songs, Length: 111, dtype: float64"
      ]
     },
     "execution_count": 21,
     "metadata": {},
     "output_type": "execute_result"
    }
   ],
   "source": [
    "# Question 3\n",
    "# Count halftime show songs for each musician\n",
    "halftime = halftime_musicians.groupby('musician')['num_songs'].agg('sum')\n",
    "halftime.sort_values(ascending=False)"
   ]
  },
  {
   "cell_type": "markdown",
   "id": "2d9ed963",
   "metadata": {},
   "source": [
    "# Solution"
   ]
  },
  {
   "cell_type": "code",
   "execution_count": null,
   "id": "c42a0577",
   "metadata": {},
   "outputs": [],
   "source": [
    "# Question 1\n",
    "# Import pandas\n",
    "import pandas as pd\n",
    "from matplotlib import pyplot as plt\n",
    "\n",
    "# Load the CSV data into DataFrames\n",
    "tv = pd.read_csv(\"datasets/tv.csv\")\n",
    "\n",
    "# Display the TV data to inspect\n",
    "tv.head()\n",
    "\n",
    "# Find the year with the highest TV viewership\n",
    "plt.plot(tv.super_bowl, tv.avg_us_viewers)\n",
    "plt.title('Average Number of US Viewers')\n",
    "viewership_increased = True\n",
    "print(f\"Super Bowl viewership increased over time.\")\n",
    "\n",
    "# Question 2\n",
    "\n",
    "# Load the CSV data into DataFrames\n",
    "super_bowls = pd.read_csv(\"datasets/super_bowls.csv\")\n",
    "\n",
    "# Display the Super Bowls data to inspect\n",
    "super_bowls.head()\n",
    "\n",
    "# Filter the data for point difference >40\n",
    "difference = len(super_bowls[super_bowls[\"difference_pts\"]>40])\n",
    "\n",
    "# You can also plot a histogram of point differences to visualize the result\n",
    "plt.hist(super_bowls.difference_pts)\n",
    "plt.xlabel('Point Difference')\n",
    "plt.ylabel('Number of Super Bowls')\n",
    "plt.show()\n",
    "\n",
    "print(f\"The matches finishing with a point difference over 40 were: {difference}\")\n",
    "\n",
    "# Question 3\n",
    "# Load the CSV data into DataFrames\n",
    "halftime_musicians = pd.read_csv(\"datasets/halftime_musicians.csv\")\n",
    "\n",
    "# Display the halftime musicians data to inspect\n",
    "halftime_musicians.head()\n",
    "\n",
    "# Count halftime show songs for each musician\n",
    "halftime_appearances = halftime_musicians.groupby('musician').sum('num_songs')\n",
    "halftime_appearances = halftime_appearances.sort_values('num_songs', ascending=False)\n",
    "\n",
    "most_songs = \"Justin Timberlake\""
   ]
  }
 ],
 "metadata": {
  "colab": {
   "name": "Welcome to DataCamp Workspaces.ipynb",
   "provenance": []
  },
  "kernelspec": {
   "display_name": "base",
   "language": "python",
   "name": "python3"
  },
  "language_info": {
   "codemirror_mode": {
    "name": "ipython",
    "version": 3
   },
   "file_extension": ".py",
   "mimetype": "text/x-python",
   "name": "python",
   "nbconvert_exporter": "python",
   "pygments_lexer": "ipython3",
   "version": "3.12.4"
  }
 },
 "nbformat": 4,
 "nbformat_minor": 5
}
