{
 "cells": [
  {
   "cell_type": "markdown",
   "id": "fe7ecb8d-ad0b-40c0-b404-8b4c339d1c8b",
   "metadata": {},
   "source": [
    "![insomnia](insomnia.jpg)\n"
   ]
  },
  {
   "cell_type": "markdown",
   "id": "04929432-e076-40ef-b2a7-8e67dc7ba1a3",
   "metadata": {},
   "source": [
    "Your client, SleepInc, has shared anonymized sleep data from their hot new sleep tracking app SleepScope. As their data science consultant, your mission is to analyze the lifestyle survey data with Python to discover relationships between exercise, gender, occupation, and sleep quality. See if you can identify patterns leading to insights on sleep quality.\n",
    "\n",
    "## 💾 The data: sleep_health_data.csv\n",
    "\n",
    "SleepInc has provided you with an anonymized dataset of sleep and lifestyle metrics for 374 individuals. This dataset contains average values for each person calculated over the past six months. The data is saved as `sleep_health_data.csv`.\n",
    "\n",
    "The dataset includes 13 columns covering sleep duration, quality, disorders, exercise, stress, diet, demographics, and other factors related to sleep health. \n",
    "\n",
    "| Column | Description |\n",
    "|---------|----------------------------------------|  \n",
    "| `Person ID` | An identifier for each individual. |\n",
    "| `Gender` | The gender of the person (Male/Female). |  \n",
    "| `Age` | The age of the person in years. |\n",
    "| `Occupation` | The occupation or profession of the person. |\n",
    "| `Sleep Duration (hours)` | The average number of hours the person sleeps per day. |\n",
    "| `Quality of Sleep (scale: 1-10)` | A subjective rating of the quality of sleep, ranging from 1 to 10. |\n",
    "| `Physical Activity Level (minutes/day)` | The average number of minutes the person engages in physical activity daily. |  \n",
    "| `Stress Level (scale: 1-10)` | A subjective rating of the stress level experienced by the person, ranging from 1 to 10. |\n",
    "| `BMI Category` | The BMI category of the person (e.g., Underweight, Normal, Overweight). |\n",
    "| `Blood Pressure (systolic/diastolic)` | The average blood pressure measurement of the person, indicated as systolic pressure over diastolic pressure. |\n",
    "| `Heart Rate (bpm)` | The average resting heart rate of the person in beats per minute. |\n",
    "| `Daily Steps` | The average number of steps the person takes per day. |\n",
    "| `Sleep Disorder` | The presence or absence of a sleep disorder in the person (None, Insomnia, Sleep Apnea). |"
   ]
  },
  {
   "cell_type": "markdown",
   "id": "ed5863b6",
   "metadata": {},
   "source": [
    "- Which occupation has the lowest average sleep duration? Save this in a string variable called lowest_sleep_occ.\n",
    "\n",
    "- Which occupation has the lowest average sleep quality? Save this in a string variable called lowest_sleep_quality_occ. Did the occupation with the lowest sleep duration also have the lowest sleep quality? If so assign a boolean value to variable same_occ variable, True if it is the same occupation, and False if it isn't.\n",
    "\n",
    "- Let's explore how BMI Category can affect sleep disorder rates. Start by finding what ratio of app users in each BMI Category have been diagnosed with Insomnia. Create a dictionary named: bmi_insomnia_ratios. The key should be the BMI Category as a string, while the value should be the ratio of people in this category with insomnia as a float rounded to two decimal places. Here is an example:\n",
    "    ```python\n",
    "    bmi = {\n",
    "        \"Normal\": float,\n",
    "        \"Overweight\": float,\n",
    "        \"Obese\": float\n",
    "    }\n",
    "    ```\n",
    "\n",
    "- Please note the keys are case-sensitive, and should be formatted as shown in the example dictionary."
   ]
  },
  {
   "cell_type": "code",
   "execution_count": 1,
   "id": "2081f5c8",
   "metadata": {},
   "outputs": [
    {
     "data": {
      "text/html": [
       "<div>\n",
       "<style scoped>\n",
       "    .dataframe tbody tr th:only-of-type {\n",
       "        vertical-align: middle;\n",
       "    }\n",
       "\n",
       "    .dataframe tbody tr th {\n",
       "        vertical-align: top;\n",
       "    }\n",
       "\n",
       "    .dataframe thead th {\n",
       "        text-align: right;\n",
       "    }\n",
       "</style>\n",
       "<table border=\"1\" class=\"dataframe\">\n",
       "  <thead>\n",
       "    <tr style=\"text-align: right;\">\n",
       "      <th></th>\n",
       "      <th>Person ID</th>\n",
       "      <th>Gender</th>\n",
       "      <th>Age</th>\n",
       "      <th>Occupation</th>\n",
       "      <th>Sleep Duration</th>\n",
       "      <th>Quality of Sleep</th>\n",
       "      <th>Physical Activity Level</th>\n",
       "      <th>Stress Level</th>\n",
       "      <th>BMI Category</th>\n",
       "      <th>Blood Pressure</th>\n",
       "      <th>Heart Rate</th>\n",
       "      <th>Daily Steps</th>\n",
       "      <th>Sleep Disorder</th>\n",
       "    </tr>\n",
       "  </thead>\n",
       "  <tbody>\n",
       "    <tr>\n",
       "      <th>0</th>\n",
       "      <td>1</td>\n",
       "      <td>Male</td>\n",
       "      <td>27</td>\n",
       "      <td>Software Engineer</td>\n",
       "      <td>6.1</td>\n",
       "      <td>6</td>\n",
       "      <td>42</td>\n",
       "      <td>6</td>\n",
       "      <td>Overweight</td>\n",
       "      <td>126/83</td>\n",
       "      <td>77</td>\n",
       "      <td>4200</td>\n",
       "      <td>NaN</td>\n",
       "    </tr>\n",
       "    <tr>\n",
       "      <th>1</th>\n",
       "      <td>2</td>\n",
       "      <td>Male</td>\n",
       "      <td>28</td>\n",
       "      <td>Doctor</td>\n",
       "      <td>6.2</td>\n",
       "      <td>6</td>\n",
       "      <td>60</td>\n",
       "      <td>8</td>\n",
       "      <td>Normal</td>\n",
       "      <td>125/80</td>\n",
       "      <td>75</td>\n",
       "      <td>10000</td>\n",
       "      <td>NaN</td>\n",
       "    </tr>\n",
       "    <tr>\n",
       "      <th>2</th>\n",
       "      <td>3</td>\n",
       "      <td>Male</td>\n",
       "      <td>28</td>\n",
       "      <td>Doctor</td>\n",
       "      <td>6.2</td>\n",
       "      <td>6</td>\n",
       "      <td>60</td>\n",
       "      <td>8</td>\n",
       "      <td>Normal</td>\n",
       "      <td>125/80</td>\n",
       "      <td>75</td>\n",
       "      <td>10000</td>\n",
       "      <td>NaN</td>\n",
       "    </tr>\n",
       "    <tr>\n",
       "      <th>3</th>\n",
       "      <td>4</td>\n",
       "      <td>Male</td>\n",
       "      <td>28</td>\n",
       "      <td>Sales Representative</td>\n",
       "      <td>5.9</td>\n",
       "      <td>4</td>\n",
       "      <td>30</td>\n",
       "      <td>8</td>\n",
       "      <td>Obese</td>\n",
       "      <td>140/90</td>\n",
       "      <td>85</td>\n",
       "      <td>3000</td>\n",
       "      <td>Sleep Apnea</td>\n",
       "    </tr>\n",
       "    <tr>\n",
       "      <th>4</th>\n",
       "      <td>5</td>\n",
       "      <td>Male</td>\n",
       "      <td>28</td>\n",
       "      <td>Sales Representative</td>\n",
       "      <td>5.9</td>\n",
       "      <td>4</td>\n",
       "      <td>30</td>\n",
       "      <td>8</td>\n",
       "      <td>Obese</td>\n",
       "      <td>140/90</td>\n",
       "      <td>85</td>\n",
       "      <td>3000</td>\n",
       "      <td>Sleep Apnea</td>\n",
       "    </tr>\n",
       "  </tbody>\n",
       "</table>\n",
       "</div>"
      ],
      "text/plain": [
       "   Person ID Gender  Age            Occupation  Sleep Duration  \\\n",
       "0          1   Male   27     Software Engineer             6.1   \n",
       "1          2   Male   28                Doctor             6.2   \n",
       "2          3   Male   28                Doctor             6.2   \n",
       "3          4   Male   28  Sales Representative             5.9   \n",
       "4          5   Male   28  Sales Representative             5.9   \n",
       "\n",
       "   Quality of Sleep  Physical Activity Level  Stress Level BMI Category  \\\n",
       "0                 6                       42             6   Overweight   \n",
       "1                 6                       60             8       Normal   \n",
       "2                 6                       60             8       Normal   \n",
       "3                 4                       30             8        Obese   \n",
       "4                 4                       30             8        Obese   \n",
       "\n",
       "  Blood Pressure  Heart Rate  Daily Steps Sleep Disorder  \n",
       "0         126/83          77         4200            NaN  \n",
       "1         125/80          75        10000            NaN  \n",
       "2         125/80          75        10000            NaN  \n",
       "3         140/90          85         3000    Sleep Apnea  \n",
       "4         140/90          85         3000    Sleep Apnea  "
      ]
     },
     "execution_count": 1,
     "metadata": {},
     "output_type": "execute_result"
    }
   ],
   "source": [
    "# Start coding here\n",
    "# Use as many cells as you need\n",
    "import pandas as pd\n",
    "\n",
    "sleep_df = pd.read_csv('sleep_health_data.csv')\n",
    "sleep_df.head()"
   ]
  },
  {
   "cell_type": "code",
   "execution_count": 2,
   "id": "40274a52",
   "metadata": {},
   "outputs": [
    {
     "data": {
      "text/plain": [
       "Occupation\n",
       "Nurse                   73\n",
       "Doctor                  71\n",
       "Engineer                63\n",
       "Lawyer                  47\n",
       "Teacher                 40\n",
       "Accountant              37\n",
       "Salesperson             32\n",
       "Software Engineer        4\n",
       "Scientist                4\n",
       "Sales Representative     2\n",
       "Manager                  1\n",
       "Name: count, dtype: int64"
      ]
     },
     "execution_count": 2,
     "metadata": {},
     "output_type": "execute_result"
    }
   ],
   "source": [
    "sleep_df['Occupation'].value_counts()"
   ]
  },
  {
   "cell_type": "code",
   "execution_count": 8,
   "id": "a622f61f-54d5-468a-83b6-41f0ff404278",
   "metadata": {
    "executionCancelledAt": null,
    "executionTime": 141,
    "lastExecutedAt": 1704817386715,
    "lastScheduledRunId": null,
    "lastSuccessfullyExecutedCode": "# Start coding here\n# Use as many cells as you need\nimport pandas as pd\n"
   },
   "outputs": [
    {
     "data": {
      "application/vnd.microsoft.datawrangler.viewer.v0+json": {
       "columns": [
        {
         "name": "Occupation",
         "rawType": "object",
         "type": "string"
        },
        {
         "name": "sum",
         "rawType": "float64",
         "type": "float"
        },
        {
         "name": "mean",
         "rawType": "float64",
         "type": "float"
        }
       ],
       "conversionMethod": "pd.DataFrame",
       "ref": "3d136d8b-cfb3-4322-bb39-27606ebaabef",
       "rows": [
        [
         "Sales Representative",
         "12.0",
         "6.0"
        ],
        [
         "Scientist",
         "24.0",
         "6.0"
        ],
        [
         "Salesperson",
         "205.0",
         "6.0"
        ],
        [
         "Teacher",
         "268.0",
         "7.0"
        ],
        [
         "Software Engineer",
         "27.0",
         "7.0"
        ],
        [
         "Manager",
         "7.0",
         "7.0"
        ],
        [
         "Doctor",
         "495.0",
         "7.0"
        ],
        [
         "Nurse",
         "516.0",
         "7.0"
        ],
        [
         "Accountant",
         "263.0",
         "7.0"
        ],
        [
         "Lawyer",
         "348.0",
         "7.0"
        ],
        [
         "Engineer",
         "503.0",
         "8.0"
        ]
       ],
       "shape": {
        "columns": 2,
        "rows": 11
       }
      },
      "text/html": [
       "<div>\n",
       "<style scoped>\n",
       "    .dataframe tbody tr th:only-of-type {\n",
       "        vertical-align: middle;\n",
       "    }\n",
       "\n",
       "    .dataframe tbody tr th {\n",
       "        vertical-align: top;\n",
       "    }\n",
       "\n",
       "    .dataframe thead th {\n",
       "        text-align: right;\n",
       "    }\n",
       "</style>\n",
       "<table border=\"1\" class=\"dataframe\">\n",
       "  <thead>\n",
       "    <tr style=\"text-align: right;\">\n",
       "      <th></th>\n",
       "      <th>sum</th>\n",
       "      <th>mean</th>\n",
       "    </tr>\n",
       "    <tr>\n",
       "      <th>Occupation</th>\n",
       "      <th></th>\n",
       "      <th></th>\n",
       "    </tr>\n",
       "  </thead>\n",
       "  <tbody>\n",
       "    <tr>\n",
       "      <th>Sales Representative</th>\n",
       "      <td>12.0</td>\n",
       "      <td>6.0</td>\n",
       "    </tr>\n",
       "    <tr>\n",
       "      <th>Scientist</th>\n",
       "      <td>24.0</td>\n",
       "      <td>6.0</td>\n",
       "    </tr>\n",
       "    <tr>\n",
       "      <th>Salesperson</th>\n",
       "      <td>205.0</td>\n",
       "      <td>6.0</td>\n",
       "    </tr>\n",
       "    <tr>\n",
       "      <th>Teacher</th>\n",
       "      <td>268.0</td>\n",
       "      <td>7.0</td>\n",
       "    </tr>\n",
       "    <tr>\n",
       "      <th>Software Engineer</th>\n",
       "      <td>27.0</td>\n",
       "      <td>7.0</td>\n",
       "    </tr>\n",
       "    <tr>\n",
       "      <th>Manager</th>\n",
       "      <td>7.0</td>\n",
       "      <td>7.0</td>\n",
       "    </tr>\n",
       "    <tr>\n",
       "      <th>Doctor</th>\n",
       "      <td>495.0</td>\n",
       "      <td>7.0</td>\n",
       "    </tr>\n",
       "    <tr>\n",
       "      <th>Nurse</th>\n",
       "      <td>516.0</td>\n",
       "      <td>7.0</td>\n",
       "    </tr>\n",
       "    <tr>\n",
       "      <th>Accountant</th>\n",
       "      <td>263.0</td>\n",
       "      <td>7.0</td>\n",
       "    </tr>\n",
       "    <tr>\n",
       "      <th>Lawyer</th>\n",
       "      <td>348.0</td>\n",
       "      <td>7.0</td>\n",
       "    </tr>\n",
       "    <tr>\n",
       "      <th>Engineer</th>\n",
       "      <td>503.0</td>\n",
       "      <td>8.0</td>\n",
       "    </tr>\n",
       "  </tbody>\n",
       "</table>\n",
       "</div>"
      ],
      "text/plain": [
       "                        sum  mean\n",
       "Occupation                       \n",
       "Sales Representative   12.0   6.0\n",
       "Scientist              24.0   6.0\n",
       "Salesperson           205.0   6.0\n",
       "Teacher               268.0   7.0\n",
       "Software Engineer      27.0   7.0\n",
       "Manager                 7.0   7.0\n",
       "Doctor                495.0   7.0\n",
       "Nurse                 516.0   7.0\n",
       "Accountant            263.0   7.0\n",
       "Lawyer                348.0   7.0\n",
       "Engineer              503.0   8.0"
      ]
     },
     "execution_count": 8,
     "metadata": {},
     "output_type": "execute_result"
    }
   ],
   "source": [
    "# Question 1: Which occupation has the lowest average sleep duration? - > lowest_sleep_occ\n",
    "grouped_occupations = sleep_df.groupby(by='Occupation')['Sleep Duration'].agg(['sum', 'mean']).sort_values('mean', ascending=True).round(0)\n",
    "grouped_occupations\n",
    "\n",
    "\n"
   ]
  },
  {
   "cell_type": "code",
   "execution_count": 10,
   "id": "751ae7d9",
   "metadata": {},
   "outputs": [
    {
     "data": {
      "text/plain": [
       "'Sales Representative'"
      ]
     },
     "execution_count": 10,
     "metadata": {},
     "output_type": "execute_result"
    }
   ],
   "source": [
    "lowest_sleep_occ = grouped_occupations.index[0]\n",
    "lowest_sleep_occ"
   ]
  },
  {
   "cell_type": "code",
   "execution_count": 11,
   "id": "6377dc4c",
   "metadata": {},
   "outputs": [
    {
     "data": {
      "application/vnd.microsoft.datawrangler.viewer.v0+json": {
       "columns": [
        {
         "name": "Occupation",
         "rawType": "object",
         "type": "string"
        },
        {
         "name": "sum",
         "rawType": "int64",
         "type": "integer"
        },
        {
         "name": "mean",
         "rawType": "float64",
         "type": "float"
        }
       ],
       "conversionMethod": "pd.DataFrame",
       "ref": "aeb8b436-1c65-478d-84bb-2b1b726d92b5",
       "rows": [
        [
         "Sales Representative",
         "8",
         "4.0"
        ],
        [
         "Scientist",
         "20",
         "5.0"
        ],
        [
         "Salesperson",
         "192",
         "6.0"
        ],
        [
         "Software Engineer",
         "26",
         "6.0"
        ],
        [
         "Doctor",
         "472",
         "7.0"
        ],
        [
         "Teacher",
         "279",
         "7.0"
        ],
        [
         "Manager",
         "7",
         "7.0"
        ],
        [
         "Nurse",
         "538",
         "7.0"
        ],
        [
         "Accountant",
         "292",
         "8.0"
        ],
        [
         "Lawyer",
         "371",
         "8.0"
        ],
        [
         "Engineer",
         "530",
         "8.0"
        ]
       ],
       "shape": {
        "columns": 2,
        "rows": 11
       }
      },
      "text/html": [
       "<div>\n",
       "<style scoped>\n",
       "    .dataframe tbody tr th:only-of-type {\n",
       "        vertical-align: middle;\n",
       "    }\n",
       "\n",
       "    .dataframe tbody tr th {\n",
       "        vertical-align: top;\n",
       "    }\n",
       "\n",
       "    .dataframe thead th {\n",
       "        text-align: right;\n",
       "    }\n",
       "</style>\n",
       "<table border=\"1\" class=\"dataframe\">\n",
       "  <thead>\n",
       "    <tr style=\"text-align: right;\">\n",
       "      <th></th>\n",
       "      <th>sum</th>\n",
       "      <th>mean</th>\n",
       "    </tr>\n",
       "    <tr>\n",
       "      <th>Occupation</th>\n",
       "      <th></th>\n",
       "      <th></th>\n",
       "    </tr>\n",
       "  </thead>\n",
       "  <tbody>\n",
       "    <tr>\n",
       "      <th>Sales Representative</th>\n",
       "      <td>8</td>\n",
       "      <td>4.0</td>\n",
       "    </tr>\n",
       "    <tr>\n",
       "      <th>Scientist</th>\n",
       "      <td>20</td>\n",
       "      <td>5.0</td>\n",
       "    </tr>\n",
       "    <tr>\n",
       "      <th>Salesperson</th>\n",
       "      <td>192</td>\n",
       "      <td>6.0</td>\n",
       "    </tr>\n",
       "    <tr>\n",
       "      <th>Software Engineer</th>\n",
       "      <td>26</td>\n",
       "      <td>6.0</td>\n",
       "    </tr>\n",
       "    <tr>\n",
       "      <th>Doctor</th>\n",
       "      <td>472</td>\n",
       "      <td>7.0</td>\n",
       "    </tr>\n",
       "    <tr>\n",
       "      <th>Teacher</th>\n",
       "      <td>279</td>\n",
       "      <td>7.0</td>\n",
       "    </tr>\n",
       "    <tr>\n",
       "      <th>Manager</th>\n",
       "      <td>7</td>\n",
       "      <td>7.0</td>\n",
       "    </tr>\n",
       "    <tr>\n",
       "      <th>Nurse</th>\n",
       "      <td>538</td>\n",
       "      <td>7.0</td>\n",
       "    </tr>\n",
       "    <tr>\n",
       "      <th>Accountant</th>\n",
       "      <td>292</td>\n",
       "      <td>8.0</td>\n",
       "    </tr>\n",
       "    <tr>\n",
       "      <th>Lawyer</th>\n",
       "      <td>371</td>\n",
       "      <td>8.0</td>\n",
       "    </tr>\n",
       "    <tr>\n",
       "      <th>Engineer</th>\n",
       "      <td>530</td>\n",
       "      <td>8.0</td>\n",
       "    </tr>\n",
       "  </tbody>\n",
       "</table>\n",
       "</div>"
      ],
      "text/plain": [
       "                      sum  mean\n",
       "Occupation                     \n",
       "Sales Representative    8   4.0\n",
       "Scientist              20   5.0\n",
       "Salesperson           192   6.0\n",
       "Software Engineer      26   6.0\n",
       "Doctor                472   7.0\n",
       "Teacher               279   7.0\n",
       "Manager                 7   7.0\n",
       "Nurse                 538   7.0\n",
       "Accountant            292   8.0\n",
       "Lawyer                371   8.0\n",
       "Engineer              530   8.0"
      ]
     },
     "execution_count": 11,
     "metadata": {},
     "output_type": "execute_result"
    }
   ],
   "source": [
    "# Question 2: Which occupation has the lowest average sleep quality? - >  called lowest_sleep_quality_occ\n",
    "grouped_occupations_quality = sleep_df.groupby(by='Occupation')['Quality of Sleep'].agg(['sum', 'mean']).sort_values('mean', ascending=True).round(0)\n",
    "grouped_occupations_quality"
   ]
  },
  {
   "cell_type": "code",
   "execution_count": 13,
   "id": "09d9c739",
   "metadata": {},
   "outputs": [
    {
     "data": {
      "text/plain": [
       "'Sales Representative'"
      ]
     },
     "execution_count": 13,
     "metadata": {},
     "output_type": "execute_result"
    }
   ],
   "source": [
    "lowest_sleep_quality_occ = grouped_occupations_quality.index[0]\n",
    "lowest_sleep_quality_occ"
   ]
  },
  {
   "cell_type": "code",
   "execution_count": 14,
   "id": "cc8eb6db",
   "metadata": {},
   "outputs": [],
   "source": [
    "# Question 3: Did the occupation with the lowest sleep duration also have the lowest sleep quality?\n",
    "if lowest_sleep_occ == lowest_sleep_quality_occ:\n",
    "  same_occ = True\n",
    "else:\n",
    "  same_occ = False"
   ]
  },
  {
   "cell_type": "code",
   "execution_count": 18,
   "id": "ce71615b",
   "metadata": {},
   "outputs": [
    {
     "data": {
      "text/plain": [
       "Sleep Disorder\n",
       "Sleep Apnea    78\n",
       "Insomnia       77\n",
       "Name: count, dtype: int64"
      ]
     },
     "execution_count": 18,
     "metadata": {},
     "output_type": "execute_result"
    }
   ],
   "source": [
    "sleep_df['Sleep Disorder'].value_counts()"
   ]
  },
  {
   "cell_type": "code",
   "execution_count": 19,
   "id": "9ad8ce14",
   "metadata": {},
   "outputs": [
    {
     "data": {
      "application/vnd.microsoft.datawrangler.viewer.v0+json": {
       "columns": [
        {
         "name": "index",
         "rawType": "int64",
         "type": "integer"
        },
        {
         "name": "Person ID",
         "rawType": "int64",
         "type": "integer"
        },
        {
         "name": "Gender",
         "rawType": "object",
         "type": "string"
        },
        {
         "name": "Age",
         "rawType": "int64",
         "type": "integer"
        },
        {
         "name": "Occupation",
         "rawType": "object",
         "type": "string"
        },
        {
         "name": "Sleep Duration",
         "rawType": "float64",
         "type": "float"
        },
        {
         "name": "Quality of Sleep",
         "rawType": "int64",
         "type": "integer"
        },
        {
         "name": "Physical Activity Level",
         "rawType": "int64",
         "type": "integer"
        },
        {
         "name": "Stress Level",
         "rawType": "int64",
         "type": "integer"
        },
        {
         "name": "BMI Category",
         "rawType": "object",
         "type": "string"
        },
        {
         "name": "Blood Pressure",
         "rawType": "object",
         "type": "string"
        },
        {
         "name": "Heart Rate",
         "rawType": "int64",
         "type": "integer"
        },
        {
         "name": "Daily Steps",
         "rawType": "int64",
         "type": "integer"
        },
        {
         "name": "Sleep Disorder",
         "rawType": "object",
         "type": "string"
        }
       ],
       "conversionMethod": "pd.DataFrame",
       "ref": "b5dc8fb4-5026-44de-8525-65aa1f513bc0",
       "rows": [
        [
         "18",
         "19",
         "Female",
         "29",
         "Nurse",
         "6.5",
         "5",
         "40",
         "7",
         "Normal",
         "132/87",
         "80",
         "4000",
         "Insomnia"
        ],
        [
         "31",
         "32",
         "Female",
         "30",
         "Nurse",
         "6.4",
         "5",
         "35",
         "7",
         "Normal",
         "130/86",
         "78",
         "4100",
         "Insomnia"
        ],
        [
         "67",
         "68",
         "Male",
         "33",
         "Doctor",
         "6.0",
         "6",
         "30",
         "8",
         "Normal",
         "125/80",
         "72",
         "5000",
         "Insomnia"
        ],
        [
         "94",
         "95",
         "Female",
         "36",
         "Accountant",
         "7.2",
         "8",
         "60",
         "4",
         "Normal",
         "115/75",
         "68",
         "7000",
         "Insomnia"
        ],
        [
         "146",
         "147",
         "Male",
         "39",
         "Lawyer",
         "7.2",
         "8",
         "60",
         "5",
         "Normal",
         "130/85",
         "68",
         "8000",
         "Insomnia"
        ],
        [
         "165",
         "166",
         "Male",
         "41",
         "Lawyer",
         "7.6",
         "8",
         "90",
         "5",
         "Normal",
         "130/85",
         "70",
         "8000",
         "Insomnia"
        ],
        [
         "201",
         "202",
         "Male",
         "43",
         "Engineer",
         "7.8",
         "8",
         "90",
         "5",
         "Normal",
         "130/85",
         "70",
         "8000",
         "Insomnia"
        ],
        [
         "202",
         "203",
         "Male",
         "43",
         "Engineer",
         "7.8",
         "8",
         "90",
         "5",
         "Normal",
         "130/85",
         "70",
         "8000",
         "Insomnia"
        ],
        [
         "315",
         "316",
         "Female",
         "53",
         "Engineer",
         "8.3",
         "9",
         "30",
         "3",
         "Normal",
         "125/80",
         "65",
         "5000",
         "Insomnia"
        ]
       ],
       "shape": {
        "columns": 13,
        "rows": 9
       }
      },
      "text/html": [
       "<div>\n",
       "<style scoped>\n",
       "    .dataframe tbody tr th:only-of-type {\n",
       "        vertical-align: middle;\n",
       "    }\n",
       "\n",
       "    .dataframe tbody tr th {\n",
       "        vertical-align: top;\n",
       "    }\n",
       "\n",
       "    .dataframe thead th {\n",
       "        text-align: right;\n",
       "    }\n",
       "</style>\n",
       "<table border=\"1\" class=\"dataframe\">\n",
       "  <thead>\n",
       "    <tr style=\"text-align: right;\">\n",
       "      <th></th>\n",
       "      <th>Person ID</th>\n",
       "      <th>Gender</th>\n",
       "      <th>Age</th>\n",
       "      <th>Occupation</th>\n",
       "      <th>Sleep Duration</th>\n",
       "      <th>Quality of Sleep</th>\n",
       "      <th>Physical Activity Level</th>\n",
       "      <th>Stress Level</th>\n",
       "      <th>BMI Category</th>\n",
       "      <th>Blood Pressure</th>\n",
       "      <th>Heart Rate</th>\n",
       "      <th>Daily Steps</th>\n",
       "      <th>Sleep Disorder</th>\n",
       "    </tr>\n",
       "  </thead>\n",
       "  <tbody>\n",
       "    <tr>\n",
       "      <th>18</th>\n",
       "      <td>19</td>\n",
       "      <td>Female</td>\n",
       "      <td>29</td>\n",
       "      <td>Nurse</td>\n",
       "      <td>6.5</td>\n",
       "      <td>5</td>\n",
       "      <td>40</td>\n",
       "      <td>7</td>\n",
       "      <td>Normal</td>\n",
       "      <td>132/87</td>\n",
       "      <td>80</td>\n",
       "      <td>4000</td>\n",
       "      <td>Insomnia</td>\n",
       "    </tr>\n",
       "    <tr>\n",
       "      <th>31</th>\n",
       "      <td>32</td>\n",
       "      <td>Female</td>\n",
       "      <td>30</td>\n",
       "      <td>Nurse</td>\n",
       "      <td>6.4</td>\n",
       "      <td>5</td>\n",
       "      <td>35</td>\n",
       "      <td>7</td>\n",
       "      <td>Normal</td>\n",
       "      <td>130/86</td>\n",
       "      <td>78</td>\n",
       "      <td>4100</td>\n",
       "      <td>Insomnia</td>\n",
       "    </tr>\n",
       "    <tr>\n",
       "      <th>67</th>\n",
       "      <td>68</td>\n",
       "      <td>Male</td>\n",
       "      <td>33</td>\n",
       "      <td>Doctor</td>\n",
       "      <td>6.0</td>\n",
       "      <td>6</td>\n",
       "      <td>30</td>\n",
       "      <td>8</td>\n",
       "      <td>Normal</td>\n",
       "      <td>125/80</td>\n",
       "      <td>72</td>\n",
       "      <td>5000</td>\n",
       "      <td>Insomnia</td>\n",
       "    </tr>\n",
       "    <tr>\n",
       "      <th>94</th>\n",
       "      <td>95</td>\n",
       "      <td>Female</td>\n",
       "      <td>36</td>\n",
       "      <td>Accountant</td>\n",
       "      <td>7.2</td>\n",
       "      <td>8</td>\n",
       "      <td>60</td>\n",
       "      <td>4</td>\n",
       "      <td>Normal</td>\n",
       "      <td>115/75</td>\n",
       "      <td>68</td>\n",
       "      <td>7000</td>\n",
       "      <td>Insomnia</td>\n",
       "    </tr>\n",
       "    <tr>\n",
       "      <th>146</th>\n",
       "      <td>147</td>\n",
       "      <td>Male</td>\n",
       "      <td>39</td>\n",
       "      <td>Lawyer</td>\n",
       "      <td>7.2</td>\n",
       "      <td>8</td>\n",
       "      <td>60</td>\n",
       "      <td>5</td>\n",
       "      <td>Normal</td>\n",
       "      <td>130/85</td>\n",
       "      <td>68</td>\n",
       "      <td>8000</td>\n",
       "      <td>Insomnia</td>\n",
       "    </tr>\n",
       "    <tr>\n",
       "      <th>165</th>\n",
       "      <td>166</td>\n",
       "      <td>Male</td>\n",
       "      <td>41</td>\n",
       "      <td>Lawyer</td>\n",
       "      <td>7.6</td>\n",
       "      <td>8</td>\n",
       "      <td>90</td>\n",
       "      <td>5</td>\n",
       "      <td>Normal</td>\n",
       "      <td>130/85</td>\n",
       "      <td>70</td>\n",
       "      <td>8000</td>\n",
       "      <td>Insomnia</td>\n",
       "    </tr>\n",
       "    <tr>\n",
       "      <th>201</th>\n",
       "      <td>202</td>\n",
       "      <td>Male</td>\n",
       "      <td>43</td>\n",
       "      <td>Engineer</td>\n",
       "      <td>7.8</td>\n",
       "      <td>8</td>\n",
       "      <td>90</td>\n",
       "      <td>5</td>\n",
       "      <td>Normal</td>\n",
       "      <td>130/85</td>\n",
       "      <td>70</td>\n",
       "      <td>8000</td>\n",
       "      <td>Insomnia</td>\n",
       "    </tr>\n",
       "    <tr>\n",
       "      <th>202</th>\n",
       "      <td>203</td>\n",
       "      <td>Male</td>\n",
       "      <td>43</td>\n",
       "      <td>Engineer</td>\n",
       "      <td>7.8</td>\n",
       "      <td>8</td>\n",
       "      <td>90</td>\n",
       "      <td>5</td>\n",
       "      <td>Normal</td>\n",
       "      <td>130/85</td>\n",
       "      <td>70</td>\n",
       "      <td>8000</td>\n",
       "      <td>Insomnia</td>\n",
       "    </tr>\n",
       "    <tr>\n",
       "      <th>315</th>\n",
       "      <td>316</td>\n",
       "      <td>Female</td>\n",
       "      <td>53</td>\n",
       "      <td>Engineer</td>\n",
       "      <td>8.3</td>\n",
       "      <td>9</td>\n",
       "      <td>30</td>\n",
       "      <td>3</td>\n",
       "      <td>Normal</td>\n",
       "      <td>125/80</td>\n",
       "      <td>65</td>\n",
       "      <td>5000</td>\n",
       "      <td>Insomnia</td>\n",
       "    </tr>\n",
       "  </tbody>\n",
       "</table>\n",
       "</div>"
      ],
      "text/plain": [
       "     Person ID  Gender  Age  Occupation  Sleep Duration  Quality of Sleep  \\\n",
       "18          19  Female   29       Nurse             6.5                 5   \n",
       "31          32  Female   30       Nurse             6.4                 5   \n",
       "67          68    Male   33      Doctor             6.0                 6   \n",
       "94          95  Female   36  Accountant             7.2                 8   \n",
       "146        147    Male   39      Lawyer             7.2                 8   \n",
       "165        166    Male   41      Lawyer             7.6                 8   \n",
       "201        202    Male   43    Engineer             7.8                 8   \n",
       "202        203    Male   43    Engineer             7.8                 8   \n",
       "315        316  Female   53    Engineer             8.3                 9   \n",
       "\n",
       "     Physical Activity Level  Stress Level BMI Category Blood Pressure  \\\n",
       "18                        40             7       Normal         132/87   \n",
       "31                        35             7       Normal         130/86   \n",
       "67                        30             8       Normal         125/80   \n",
       "94                        60             4       Normal         115/75   \n",
       "146                       60             5       Normal         130/85   \n",
       "165                       90             5       Normal         130/85   \n",
       "201                       90             5       Normal         130/85   \n",
       "202                       90             5       Normal         130/85   \n",
       "315                       30             3       Normal         125/80   \n",
       "\n",
       "     Heart Rate  Daily Steps Sleep Disorder  \n",
       "18           80         4000       Insomnia  \n",
       "31           78         4100       Insomnia  \n",
       "67           72         5000       Insomnia  \n",
       "94           68         7000       Insomnia  \n",
       "146          68         8000       Insomnia  \n",
       "165          70         8000       Insomnia  \n",
       "201          70         8000       Insomnia  \n",
       "202          70         8000       Insomnia  \n",
       "315          65         5000       Insomnia  "
      ]
     },
     "execution_count": 19,
     "metadata": {},
     "output_type": "execute_result"
    }
   ],
   "source": [
    "# Question 4: Explore how BMI Category can affect sleep disorder rates\n",
    "bmi = {\n",
    "    \"Normal\": float,\n",
    "    \"Overweight\": float,\n",
    "    \"Obese\": float \n",
    "}\n",
    "\n",
    "normal = sleep_df[(sleep_df[\"BMI Category\"] == \"Normal\") &  \n",
    "                  (sleep_df[\"Sleep Disorder\"] == \"Insomnia\")]\n",
    "normal"
   ]
  },
  {
   "cell_type": "code",
   "execution_count": 21,
   "id": "dc60b4e0",
   "metadata": {},
   "outputs": [
    {
     "data": {
      "text/plain": [
       "4.0"
      ]
     },
     "execution_count": 21,
     "metadata": {},
     "output_type": "execute_result"
    }
   ],
   "source": [
    "# Total normal rows               \n",
    "total_normal = len(sleep_df[sleep_df[\"BMI Category\"] == \"Normal\"])  \n",
    "# Calculate normal insomnia ratio               \n",
    "normal_insomnia_ratio = round(len(normal) / total_normal, 2) * 100\n",
    "normal_insomnia_ratio"
   ]
  },
  {
   "cell_type": "markdown",
   "id": "a346da50",
   "metadata": {},
   "source": [
    "# Solution"
   ]
  },
  {
   "cell_type": "code",
   "execution_count": null,
   "id": "66b76f68",
   "metadata": {},
   "outputs": [],
   "source": [
    "# Read in the data \n",
    "sleep_df = pd.read_csv('sleep_health_data.csv')\n",
    "\n",
    "# 1. Which occupation has the lowest average sleep duration? Save this in a string variable called `lowest_sleep_occ`.\n",
    "\n",
    "# Groupby occupation and calculate mean sleep duration \n",
    "sleep_duration = sleep_df.groupby('Occupation')['Sleep Duration'].mean()\n",
    "# Get occupation with lowest average sleep duration\n",
    "lowest_sleep_occ = sleep_duration.sort_values().index[0]\n",
    "\n",
    "# 2. Which occupation had the lowest quality of on average? Did the occupation with the lowest sleep duration also have the worst sleep quality?\n",
    "\n",
    "# Groupby occupation and calculate average sleep quality\n",
    "sleep_quality = sleep_df.groupby('Occupation')['Quality of Sleep'].mean()  \n",
    "# Get occupation with lowest average sleep quality \n",
    "lowest_sleep_quality_occ = sleep_quality.sort_values().index[0]\n",
    "\n",
    "# Compare occupation with the least sleep to occupation with the lowest sleep quality\n",
    "if lowest_sleep_occ == lowest_sleep_quality_occ:\n",
    "  same_occ = True\n",
    "else:\n",
    "  same_occ = False\n",
    "  \n",
    "# 3. Let's explore how BMI Category can affect sleep disorder rates. Start by finding what ratio of app users in each BMI category have been diagnosed with Insomnia.\n",
    "\n",
    "# Normal\n",
    "# Filter the full dataframe to only rows where BMI Category is Normal and Sleep Disorder is Insomnia.\n",
    "normal = sleep_df[(sleep_df[\"BMI Category\"] == \"Normal\") &  \n",
    "                  (sleep_df[\"Sleep Disorder\"] == \"Insomnia\")]\n",
    "normal2 = sleep_df[(sleep_df[\"BMI Category\"] == \"Normal Weight\") &  \n",
    "                  (sleep_df[\"Sleep Disorder\"] == \"Insomnia\")]\n",
    "# Total normal rows               \n",
    "total_normal = len(sleep_df[sleep_df[\"BMI Category\"] == \"Normal\"])  \n",
    "# Calculate normal insomnia ratio               \n",
    "normal_insomnia_ratio = round(len(normal) / total_normal, 2) \n",
    "\n",
    "\n",
    "# Overweight\n",
    "# Filter the full dataframe to only rows where BMI Category is Overweight and Sleep Disorder is Insomnia.\n",
    "overweight = sleep_df[(sleep_df[\"BMI Category\"] == \"Overweight\") &   \n",
    "                      (sleep_df[\"Sleep Disorder\"] == \"Insomnia\")]  \n",
    "# Total overweight rows\n",
    "total_overweight = len(sleep_df[sleep_df[\"BMI Category\"] == \"Overweight\"])  \n",
    "# Calculate overweight insomnia ratio \n",
    "overweight_insomnia_ratio = round(len(overweight) / total_overweight, 2)\n",
    "\n",
    "\n",
    "# Obese\n",
    "# Filter the full dataframe to only rows where BMI Category is Obese and Sleep Disorder is Insomnia.\n",
    "obese = sleep_df[(sleep_df[\"BMI Category\"] == \"Obese\") &  \n",
    "                  (sleep_df[\"Sleep Disorder\"] == \"Insomnia\")]\n",
    "# Total obese rows          \n",
    "total_obese = len(sleep_df[sleep_df[\"BMI Category\"] == \"Obese\"])  \n",
    "# Calculate obese insomnia ratio\n",
    "obese_insomnia_ratio = round(len(obese) / total_obese, 2)\n",
    "\n",
    "\n",
    "# Create dictionary to store the ratios for each BMI category \n",
    "bmi_insomnia_ratios = {\n",
    "    \"Normal\": normal_insomnia_ratio,  \n",
    "    \"Overweight\": overweight_insomnia_ratio,\n",
    "    \"Obese\": obese_insomnia_ratio \n",
    "}"
   ]
  }
 ],
 "metadata": {
  "colab": {
   "name": "Welcome to DataCamp Workspaces.ipynb",
   "provenance": []
  },
  "kernelspec": {
   "display_name": "base",
   "language": "python",
   "name": "python3"
  },
  "language_info": {
   "codemirror_mode": {
    "name": "ipython",
    "version": 3
   },
   "file_extension": ".py",
   "mimetype": "text/x-python",
   "name": "python",
   "nbconvert_exporter": "python",
   "pygments_lexer": "ipython3",
   "version": "3.12.4"
  }
 },
 "nbformat": 4,
 "nbformat_minor": 5
}
