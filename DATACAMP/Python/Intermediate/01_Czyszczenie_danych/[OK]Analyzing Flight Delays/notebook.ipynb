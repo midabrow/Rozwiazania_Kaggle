{
 "cells": [
  {
   "cell_type": "markdown",
   "id": "6f4b6b29-6f9a-45ee-96bc-ff4c822d240f",
   "metadata": {},
   "source": [
    "![Plane departing the Pacific Northwest](IMG_8801.JPG)\n",
    "\n",
    "A prominent airline company in the Pacific Northwest has accumulated extensive data related to flights and weather patterns and needs to understand the factors influencing the departure delays and cancellations to benefit both airlines and passengers. As the data analyst on the team, you decide to embark on this analytical project.\n",
    "\n",
    "The aviation industry is dynamic with various variables impacting flight operations. To ensure the relevance and applicability of your findings, you choose to focus solely on flights from the 'pnwflights2022' datasets available from the ModernDive team exported as CSV files. These datasets provide comprehensive information on flights departing in the first half of 2022 from both of the two major airports in this region: SEA (Seattle-Tacoma International Airport) and PDX (Portland International Airport): \n",
    "\n",
    "- `flights2022.csv` contains information about about each flight including \n",
    "\n",
    "| Variable   | Description                                          |\n",
    "|------------|------------------------------------------------------|\n",
    "| `dep_time`   | Departure time (in the format hhmm) where`NA` corresponds to a cancelled flight        |\n",
    "| `dep_delay`  | Departure delay, in minutes (negative for early)    |\n",
    "| `origin`     | Origin airport where flight starts (IATA code)\n",
    "| `airline`    | Carrier/airline name                        |\n",
    "| `dest`       | Destination airport where flight lands (IATA code)  \n",
    "\n",
    "- `flights_weather2022.csv` contains the same flight information as well as weather conditions such as \n",
    " \n",
    "| Variable   | Description                                           |\n",
    "|------------|-------------------------------------------------------|\n",
    "| `visib`      | Visibility (in miles)                                 |\n",
    "| `wind_gust`  | Wind gust speed (in mph)  "
   ]
  },
  {
   "cell_type": "markdown",
   "id": "79a98fe2",
   "metadata": {},
   "source": [
    "Which airlines and routes (for example \"PDX-SFO\") are most affected by flight delays, and what impact does wind have on departure delays?\n",
    "\n",
    "- Load the two CSV files into separate DataFrames. Explore the data and create any new columns that might benefit your analysis.\n",
    "- For routes, calculate the average departure delays and highest number of canceled flights and store this as a DataFrame called routes_delays_cancels, resetting the index after calculating.\n",
    "- For airlines, determine the average departure delays and the highest number of canceled flights and store this as a DataFrame called airlines_delays_cancels, resetting the index after calculating.\n",
    "- Produce two bar graphs to show (1) the top 9 highest number of cancellations by route in a plot called top9_route_cancels_bar and (2) the top 9 highest average departure delays by airline in a plot called top9_airline_delays_bar.\n",
    "- Determine if 10 mile per hour wind gusts or more have a larger average departure delay for both of SEA and PDX, setting wind_response to True if so and False if not."
   ]
  },
  {
   "cell_type": "code",
   "execution_count": null,
   "id": "ebe7f904-ae87-444c-8b2c-4079a9fbc5fe",
   "metadata": {
    "executionCancelledAt": null,
    "executionTime": 2768,
    "lastExecutedAt": 1698658277788,
    "lastScheduledRunId": null,
    "lastSuccessfullyExecutedCode": "# Import required libraries\nimport pandas as pd\nimport matplotlib.pyplot as plt\n\n# Start your code here!"
   },
   "outputs": [],
   "source": [
    "# Import required libraries\n",
    "import pandas as pd\n",
    "import matplotlib.pyplot as plt\n",
    "import seaborn as sns\n",
    "\n",
    "flights2022 = pd.read_csv(\"flights2022.csv\")\n",
    "flights_weather2022 = pd.read_csv(\"flights_weather2022.csv\")"
   ]
  },
  {
   "cell_type": "code",
   "execution_count": 3,
   "id": "e3063790",
   "metadata": {},
   "outputs": [
    {
     "data": {
      "application/vnd.microsoft.datawrangler.viewer.v0+json": {
       "columns": [
        {
         "name": "index",
         "rawType": "int64",
         "type": "integer"
        },
        {
         "name": "year",
         "rawType": "int64",
         "type": "integer"
        },
        {
         "name": "month",
         "rawType": "int64",
         "type": "integer"
        },
        {
         "name": "day",
         "rawType": "int64",
         "type": "integer"
        },
        {
         "name": "dep_time",
         "rawType": "float64",
         "type": "float"
        },
        {
         "name": "sched_dep_time",
         "rawType": "int64",
         "type": "integer"
        },
        {
         "name": "dep_delay",
         "rawType": "float64",
         "type": "float"
        },
        {
         "name": "arr_time",
         "rawType": "float64",
         "type": "float"
        },
        {
         "name": "sched_arr_time",
         "rawType": "int64",
         "type": "integer"
        },
        {
         "name": "arr_delay",
         "rawType": "float64",
         "type": "float"
        },
        {
         "name": "carrier",
         "rawType": "object",
         "type": "string"
        },
        {
         "name": "flight",
         "rawType": "int64",
         "type": "integer"
        },
        {
         "name": "tailnum",
         "rawType": "object",
         "type": "string"
        },
        {
         "name": "origin",
         "rawType": "object",
         "type": "string"
        },
        {
         "name": "dest",
         "rawType": "object",
         "type": "string"
        },
        {
         "name": "air_time",
         "rawType": "float64",
         "type": "float"
        },
        {
         "name": "distance",
         "rawType": "int64",
         "type": "integer"
        },
        {
         "name": "hour",
         "rawType": "int64",
         "type": "integer"
        },
        {
         "name": "minute",
         "rawType": "int64",
         "type": "integer"
        },
        {
         "name": "time_hour",
         "rawType": "object",
         "type": "string"
        },
        {
         "name": "airline",
         "rawType": "object",
         "type": "string"
        }
       ],
       "conversionMethod": "pd.DataFrame",
       "ref": "74acbf81-cc45-4bc5-a40b-195b9e07ed3d",
       "rows": [
        [
         "0",
         "2022",
         "1",
         "1",
         "1.0",
         "2359",
         "2.0",
         "604.0",
         "618",
         "-14.0",
         "UA",
         "555",
         "N405UA",
         "SEA",
         "IAH",
         "221.0",
         "1874",
         "23",
         "59",
         "2022-01-01T23:00:00Z",
         "United Air Lines Inc."
        ],
        [
         "1",
         "2022",
         "1",
         "1",
         "1.0",
         "2250",
         "71.0",
         "242.0",
         "142",
         "60.0",
         "AS",
         "72",
         "N265AK",
         "SEA",
         "FAI",
         "193.0",
         "1533",
         "22",
         "50",
         "2022-01-01T22:00:00Z",
         "Alaska Airlines Inc."
        ],
        [
         "2",
         "2022",
         "1",
         "1",
         "10.0",
         "2355",
         "15.0",
         "759.0",
         "730",
         "29.0",
         "AS",
         "270",
         "N274AK",
         "SEA",
         "ATL",
         "261.0",
         "2182",
         "23",
         "55",
         "2022-01-01T23:00:00Z",
         "Alaska Airlines Inc."
        ],
        [
         "3",
         "2022",
         "1",
         "1",
         "25.0",
         "2350",
         "35.0",
         "606.0",
         "550",
         "16.0",
         "AS",
         "7",
         "N281AK",
         "SEA",
         "ORD",
         "193.0",
         "1721",
         "23",
         "50",
         "2022-01-01T23:00:00Z",
         "Alaska Airlines Inc."
        ],
        [
         "4",
         "2022",
         "1",
         "1",
         "35.0",
         "2349",
         "46.0",
         "616.0",
         "545",
         "31.0",
         "UA",
         "507",
         "N426UA",
         "PDX",
         "ORD",
         "196.0",
         "1739",
         "23",
         "49",
         "2022-01-01T23:00:00Z",
         "United Air Lines Inc."
        ]
       ],
       "shape": {
        "columns": 20,
        "rows": 5
       }
      },
      "text/html": [
       "<div>\n",
       "<style scoped>\n",
       "    .dataframe tbody tr th:only-of-type {\n",
       "        vertical-align: middle;\n",
       "    }\n",
       "\n",
       "    .dataframe tbody tr th {\n",
       "        vertical-align: top;\n",
       "    }\n",
       "\n",
       "    .dataframe thead th {\n",
       "        text-align: right;\n",
       "    }\n",
       "</style>\n",
       "<table border=\"1\" class=\"dataframe\">\n",
       "  <thead>\n",
       "    <tr style=\"text-align: right;\">\n",
       "      <th></th>\n",
       "      <th>year</th>\n",
       "      <th>month</th>\n",
       "      <th>day</th>\n",
       "      <th>dep_time</th>\n",
       "      <th>sched_dep_time</th>\n",
       "      <th>dep_delay</th>\n",
       "      <th>arr_time</th>\n",
       "      <th>sched_arr_time</th>\n",
       "      <th>arr_delay</th>\n",
       "      <th>carrier</th>\n",
       "      <th>flight</th>\n",
       "      <th>tailnum</th>\n",
       "      <th>origin</th>\n",
       "      <th>dest</th>\n",
       "      <th>air_time</th>\n",
       "      <th>distance</th>\n",
       "      <th>hour</th>\n",
       "      <th>minute</th>\n",
       "      <th>time_hour</th>\n",
       "      <th>airline</th>\n",
       "    </tr>\n",
       "  </thead>\n",
       "  <tbody>\n",
       "    <tr>\n",
       "      <th>0</th>\n",
       "      <td>2022</td>\n",
       "      <td>1</td>\n",
       "      <td>1</td>\n",
       "      <td>1.0</td>\n",
       "      <td>2359</td>\n",
       "      <td>2.0</td>\n",
       "      <td>604.0</td>\n",
       "      <td>618</td>\n",
       "      <td>-14.0</td>\n",
       "      <td>UA</td>\n",
       "      <td>555</td>\n",
       "      <td>N405UA</td>\n",
       "      <td>SEA</td>\n",
       "      <td>IAH</td>\n",
       "      <td>221.0</td>\n",
       "      <td>1874</td>\n",
       "      <td>23</td>\n",
       "      <td>59</td>\n",
       "      <td>2022-01-01T23:00:00Z</td>\n",
       "      <td>United Air Lines Inc.</td>\n",
       "    </tr>\n",
       "    <tr>\n",
       "      <th>1</th>\n",
       "      <td>2022</td>\n",
       "      <td>1</td>\n",
       "      <td>1</td>\n",
       "      <td>1.0</td>\n",
       "      <td>2250</td>\n",
       "      <td>71.0</td>\n",
       "      <td>242.0</td>\n",
       "      <td>142</td>\n",
       "      <td>60.0</td>\n",
       "      <td>AS</td>\n",
       "      <td>72</td>\n",
       "      <td>N265AK</td>\n",
       "      <td>SEA</td>\n",
       "      <td>FAI</td>\n",
       "      <td>193.0</td>\n",
       "      <td>1533</td>\n",
       "      <td>22</td>\n",
       "      <td>50</td>\n",
       "      <td>2022-01-01T22:00:00Z</td>\n",
       "      <td>Alaska Airlines Inc.</td>\n",
       "    </tr>\n",
       "    <tr>\n",
       "      <th>2</th>\n",
       "      <td>2022</td>\n",
       "      <td>1</td>\n",
       "      <td>1</td>\n",
       "      <td>10.0</td>\n",
       "      <td>2355</td>\n",
       "      <td>15.0</td>\n",
       "      <td>759.0</td>\n",
       "      <td>730</td>\n",
       "      <td>29.0</td>\n",
       "      <td>AS</td>\n",
       "      <td>270</td>\n",
       "      <td>N274AK</td>\n",
       "      <td>SEA</td>\n",
       "      <td>ATL</td>\n",
       "      <td>261.0</td>\n",
       "      <td>2182</td>\n",
       "      <td>23</td>\n",
       "      <td>55</td>\n",
       "      <td>2022-01-01T23:00:00Z</td>\n",
       "      <td>Alaska Airlines Inc.</td>\n",
       "    </tr>\n",
       "    <tr>\n",
       "      <th>3</th>\n",
       "      <td>2022</td>\n",
       "      <td>1</td>\n",
       "      <td>1</td>\n",
       "      <td>25.0</td>\n",
       "      <td>2350</td>\n",
       "      <td>35.0</td>\n",
       "      <td>606.0</td>\n",
       "      <td>550</td>\n",
       "      <td>16.0</td>\n",
       "      <td>AS</td>\n",
       "      <td>7</td>\n",
       "      <td>N281AK</td>\n",
       "      <td>SEA</td>\n",
       "      <td>ORD</td>\n",
       "      <td>193.0</td>\n",
       "      <td>1721</td>\n",
       "      <td>23</td>\n",
       "      <td>50</td>\n",
       "      <td>2022-01-01T23:00:00Z</td>\n",
       "      <td>Alaska Airlines Inc.</td>\n",
       "    </tr>\n",
       "    <tr>\n",
       "      <th>4</th>\n",
       "      <td>2022</td>\n",
       "      <td>1</td>\n",
       "      <td>1</td>\n",
       "      <td>35.0</td>\n",
       "      <td>2349</td>\n",
       "      <td>46.0</td>\n",
       "      <td>616.0</td>\n",
       "      <td>545</td>\n",
       "      <td>31.0</td>\n",
       "      <td>UA</td>\n",
       "      <td>507</td>\n",
       "      <td>N426UA</td>\n",
       "      <td>PDX</td>\n",
       "      <td>ORD</td>\n",
       "      <td>196.0</td>\n",
       "      <td>1739</td>\n",
       "      <td>23</td>\n",
       "      <td>49</td>\n",
       "      <td>2022-01-01T23:00:00Z</td>\n",
       "      <td>United Air Lines Inc.</td>\n",
       "    </tr>\n",
       "  </tbody>\n",
       "</table>\n",
       "</div>"
      ],
      "text/plain": [
       "   year  month  day  dep_time  sched_dep_time  dep_delay  arr_time  \\\n",
       "0  2022      1    1       1.0            2359        2.0     604.0   \n",
       "1  2022      1    1       1.0            2250       71.0     242.0   \n",
       "2  2022      1    1      10.0            2355       15.0     759.0   \n",
       "3  2022      1    1      25.0            2350       35.0     606.0   \n",
       "4  2022      1    1      35.0            2349       46.0     616.0   \n",
       "\n",
       "   sched_arr_time  arr_delay carrier  flight tailnum origin dest  air_time  \\\n",
       "0             618      -14.0      UA     555  N405UA    SEA  IAH     221.0   \n",
       "1             142       60.0      AS      72  N265AK    SEA  FAI     193.0   \n",
       "2             730       29.0      AS     270  N274AK    SEA  ATL     261.0   \n",
       "3             550       16.0      AS       7  N281AK    SEA  ORD     193.0   \n",
       "4             545       31.0      UA     507  N426UA    PDX  ORD     196.0   \n",
       "\n",
       "   distance  hour  minute             time_hour                airline  \n",
       "0      1874    23      59  2022-01-01T23:00:00Z  United Air Lines Inc.  \n",
       "1      1533    22      50  2022-01-01T22:00:00Z   Alaska Airlines Inc.  \n",
       "2      2182    23      55  2022-01-01T23:00:00Z   Alaska Airlines Inc.  \n",
       "3      1721    23      50  2022-01-01T23:00:00Z   Alaska Airlines Inc.  \n",
       "4      1739    23      49  2022-01-01T23:00:00Z  United Air Lines Inc.  "
      ]
     },
     "execution_count": 3,
     "metadata": {},
     "output_type": "execute_result"
    }
   ],
   "source": [
    "flights2022.head()"
   ]
  },
  {
   "cell_type": "markdown",
   "id": "5b53a713",
   "metadata": {},
   "source": [
    "### Pytanie 1"
   ]
  },
  {
   "cell_type": "code",
   "execution_count": 46,
   "id": "df8df542",
   "metadata": {},
   "outputs": [
    {
     "data": {
      "application/vnd.microsoft.datawrangler.viewer.v0+json": {
       "columns": [
        {
         "name": "index",
         "rawType": "int64",
         "type": "integer"
        },
        {
         "name": "origin",
         "rawType": "object",
         "type": "string"
        },
        {
         "name": "dest",
         "rawType": "object",
         "type": "string"
        },
        {
         "name": "schedule_dep_time",
         "rawType": "object",
         "type": "unknown"
        },
        {
         "name": "dep_delay",
         "rawType": "float64",
         "type": "float"
        },
        {
         "name": "dep_time",
         "rawType": "float64",
         "type": "float"
        },
        {
         "name": "route",
         "rawType": "object",
         "type": "string"
        }
       ],
       "conversionMethod": "pd.DataFrame",
       "ref": "1c40436d-9d87-46f9-a987-8b236b119bb3",
       "rows": [
        [
         "0",
         "SEA",
         "IAH",
         "23:59:00",
         "2.0",
         "1.0",
         "SEA - IAH"
        ],
        [
         "1",
         "SEA",
         "FAI",
         "22:50:00",
         "71.0",
         "1.0",
         "SEA - FAI"
        ],
        [
         "2",
         "SEA",
         "ATL",
         "23:55:00",
         "15.0",
         "10.0",
         "SEA - ATL"
        ],
        [
         "3",
         "SEA",
         "ORD",
         "23:50:00",
         "35.0",
         "25.0",
         "SEA - ORD"
        ],
        [
         "4",
         "PDX",
         "ORD",
         "23:49:00",
         "46.0",
         "35.0",
         "PDX - ORD"
        ]
       ],
       "shape": {
        "columns": 6,
        "rows": 5
       }
      },
      "text/html": [
       "<div>\n",
       "<style scoped>\n",
       "    .dataframe tbody tr th:only-of-type {\n",
       "        vertical-align: middle;\n",
       "    }\n",
       "\n",
       "    .dataframe tbody tr th {\n",
       "        vertical-align: top;\n",
       "    }\n",
       "\n",
       "    .dataframe thead th {\n",
       "        text-align: right;\n",
       "    }\n",
       "</style>\n",
       "<table border=\"1\" class=\"dataframe\">\n",
       "  <thead>\n",
       "    <tr style=\"text-align: right;\">\n",
       "      <th></th>\n",
       "      <th>origin</th>\n",
       "      <th>dest</th>\n",
       "      <th>schedule_dep_time</th>\n",
       "      <th>dep_delay</th>\n",
       "      <th>dep_time</th>\n",
       "      <th>route</th>\n",
       "    </tr>\n",
       "  </thead>\n",
       "  <tbody>\n",
       "    <tr>\n",
       "      <th>0</th>\n",
       "      <td>SEA</td>\n",
       "      <td>IAH</td>\n",
       "      <td>23:59:00</td>\n",
       "      <td>2.0</td>\n",
       "      <td>1.0</td>\n",
       "      <td>SEA - IAH</td>\n",
       "    </tr>\n",
       "    <tr>\n",
       "      <th>1</th>\n",
       "      <td>SEA</td>\n",
       "      <td>FAI</td>\n",
       "      <td>22:50:00</td>\n",
       "      <td>71.0</td>\n",
       "      <td>1.0</td>\n",
       "      <td>SEA - FAI</td>\n",
       "    </tr>\n",
       "    <tr>\n",
       "      <th>2</th>\n",
       "      <td>SEA</td>\n",
       "      <td>ATL</td>\n",
       "      <td>23:55:00</td>\n",
       "      <td>15.0</td>\n",
       "      <td>10.0</td>\n",
       "      <td>SEA - ATL</td>\n",
       "    </tr>\n",
       "    <tr>\n",
       "      <th>3</th>\n",
       "      <td>SEA</td>\n",
       "      <td>ORD</td>\n",
       "      <td>23:50:00</td>\n",
       "      <td>35.0</td>\n",
       "      <td>25.0</td>\n",
       "      <td>SEA - ORD</td>\n",
       "    </tr>\n",
       "    <tr>\n",
       "      <th>4</th>\n",
       "      <td>PDX</td>\n",
       "      <td>ORD</td>\n",
       "      <td>23:49:00</td>\n",
       "      <td>46.0</td>\n",
       "      <td>35.0</td>\n",
       "      <td>PDX - ORD</td>\n",
       "    </tr>\n",
       "  </tbody>\n",
       "</table>\n",
       "</div>"
      ],
      "text/plain": [
       "  origin dest schedule_dep_time  dep_delay  dep_time      route\n",
       "0    SEA  IAH          23:59:00        2.0       1.0  SEA - IAH\n",
       "1    SEA  FAI          22:50:00       71.0       1.0  SEA - FAI\n",
       "2    SEA  ATL          23:55:00       15.0      10.0  SEA - ATL\n",
       "3    SEA  ORD          23:50:00       35.0      25.0  SEA - ORD\n",
       "4    PDX  ORD          23:49:00       46.0      35.0  PDX - ORD"
      ]
     },
     "execution_count": 46,
     "metadata": {},
     "output_type": "execute_result"
    }
   ],
   "source": [
    "# For routes, calculate the average departure delays and highest number of canceled flights and store this as a DataFrame \n",
    "# called routes_delays_cancels, resetting the index after calculating\n",
    "flights2022['schedule_dep_time'] = pd.to_datetime(flights2022['sched_dep_time'], format='%H%M', errors='coerce').dt.time\n",
    "flights2022['route'] = flights2022['origin'] + ' - ' + flights2022['dest']\n",
    "\n",
    "\n",
    "routes_delays_cancels = flights2022[['origin', 'dest', 'schedule_dep_time', 'dep_delay', 'dep_time', 'route']]\n",
    "routes_delays_cancels.head()"
   ]
  },
  {
   "cell_type": "code",
   "execution_count": 48,
   "id": "fbfeb5a2",
   "metadata": {},
   "outputs": [
    {
     "data": {
      "application/vnd.microsoft.datawrangler.viewer.v0+json": {
       "columns": [
        {
         "name": "index",
         "rawType": "int64",
         "type": "integer"
        },
        {
         "name": "route",
         "rawType": "object",
         "type": "string"
        },
        {
         "name": "mean_dep_delay",
         "rawType": "float64",
         "type": "float"
        },
        {
         "name": "total_cancellations",
         "rawType": "int64",
         "type": "integer"
        }
       ],
       "conversionMethod": "pd.DataFrame",
       "ref": "c776d955-775e-4496-b858-172d4b3648b3",
       "rows": [
        [
         "0",
         "PDX - ABQ",
         "1.0980392156862746",
         "2"
        ],
        [
         "1",
         "PDX - ANC",
         "4.748936170212766",
         "4"
        ],
        [
         "2",
         "PDX - ATL",
         "7.020979020979021",
         "13"
        ],
        [
         "3",
         "PDX - AUS",
         "5.4353741496598635",
         "5"
        ],
        [
         "4",
         "PDX - BOI",
         "5.136429608127721",
         "7"
        ],
        [
         "5",
         "PDX - BOS",
         "24.8125",
         "4"
        ],
        [
         "6",
         "PDX - BUR",
         "4.659574468085107",
         "6"
        ],
        [
         "7",
         "PDX - BZN",
         "-0.7142857142857143",
         "1"
        ],
        [
         "8",
         "PDX - CLT",
         "13.217948717948717",
         "3"
        ],
        [
         "9",
         "PDX - DAL",
         "24.1",
         "0"
        ],
        [
         "10",
         "PDX - DCA",
         "5.1502890173410405",
         "6"
        ],
        [
         "11",
         "PDX - DEN",
         "8.150062266500623",
         "36"
        ],
        [
         "12",
         "PDX - DFW",
         "24.7359413202934",
         "23"
        ],
        [
         "13",
         "PDX - DSM",
         "35.78260869565217",
         "0"
        ],
        [
         "14",
         "PDX - DTW",
         "11.0",
         "2"
        ],
        [
         "15",
         "PDX - EWR",
         "17.414948453608247",
         "14"
        ],
        [
         "16",
         "PDX - FAT",
         "0.9035532994923858",
         "0"
        ],
        [
         "17",
         "PDX - FLL",
         "30.893617021276597",
         "3"
        ],
        [
         "18",
         "PDX - GEG",
         "4.6432926829268295",
         "7"
        ],
        [
         "19",
         "PDX - GRR",
         "35.73913043478261",
         "2"
        ],
        [
         "20",
         "PDX - HNL",
         "6.458333333333333",
         "2"
        ],
        [
         "21",
         "PDX - IAD",
         "11.194444444444445",
         "1"
        ],
        [
         "22",
         "PDX - IAH",
         "5.427762039660057",
         "3"
        ],
        [
         "23",
         "PDX - IDA",
         "17.456521739130434",
         "4"
        ],
        [
         "24",
         "PDX - JFK",
         "21.729433272394882",
         "22"
        ],
        [
         "25",
         "PDX - KOA",
         "1.8248175182481752",
         "2"
        ],
        [
         "26",
         "PDX - LAS",
         "9.093690248565965",
         "40"
        ],
        [
         "27",
         "PDX - LAX",
         "7.336966824644549",
         "51"
        ],
        [
         "28",
         "PDX - LIH",
         "-2.2162162162162162",
         "3"
        ],
        [
         "29",
         "PDX - MCI",
         "6.48936170212766",
         "0"
        ],
        [
         "30",
         "PDX - MCO",
         "8.25",
         "0"
        ],
        [
         "31",
         "PDX - MDW",
         "16.255208333333332",
         "1"
        ],
        [
         "32",
         "PDX - MFR",
         "1.9226006191950464",
         "5"
        ],
        [
         "33",
         "PDX - MSO",
         "3.0",
         "0"
        ],
        [
         "34",
         "PDX - MSP",
         "7.127496159754224",
         "6"
        ],
        [
         "35",
         "PDX - OAK",
         "7.994944388270981",
         "12"
        ],
        [
         "36",
         "PDX - OGG",
         "3.478134110787172",
         "1"
        ],
        [
         "37",
         "PDX - ONT",
         "0.9126984126984127",
         "10"
        ],
        [
         "38",
         "PDX - ORD",
         "11.27307206068268",
         "22"
        ],
        [
         "39",
         "PDX - PAE",
         "1.3842105263157896",
         "12"
        ],
        [
         "40",
         "PDX - PHX",
         "11.610658771280534",
         "14"
        ],
        [
         "41",
         "PDX - PSP",
         "5.254716981132075",
         "9"
        ],
        [
         "42",
         "PDX - RNO",
         "3.090062111801242",
         "1"
        ],
        [
         "43",
         "PDX - SAN",
         "2.147632311977716",
         "22"
        ],
        [
         "44",
         "PDX - SBA",
         "1.6917808219178083",
         "2"
        ],
        [
         "45",
         "PDX - SBP",
         "-0.5555555555555556",
         "0"
        ],
        [
         "46",
         "PDX - SEA",
         "4.684694145444999",
         "68"
        ],
        [
         "47",
         "PDX - SFO",
         "4.275942028985507",
         "41"
        ],
        [
         "48",
         "PDX - SJC",
         "4.436296975252063",
         "26"
        ],
        [
         "49",
         "PDX - SLC",
         "5.120033112582782",
         "17"
        ]
       ],
       "shape": {
        "columns": 3,
        "rows": 149
       }
      },
      "text/html": [
       "<div>\n",
       "<style scoped>\n",
       "    .dataframe tbody tr th:only-of-type {\n",
       "        vertical-align: middle;\n",
       "    }\n",
       "\n",
       "    .dataframe tbody tr th {\n",
       "        vertical-align: top;\n",
       "    }\n",
       "\n",
       "    .dataframe thead th {\n",
       "        text-align: right;\n",
       "    }\n",
       "</style>\n",
       "<table border=\"1\" class=\"dataframe\">\n",
       "  <thead>\n",
       "    <tr style=\"text-align: right;\">\n",
       "      <th></th>\n",
       "      <th>route</th>\n",
       "      <th>mean_dep_delay</th>\n",
       "      <th>total_cancellations</th>\n",
       "    </tr>\n",
       "  </thead>\n",
       "  <tbody>\n",
       "    <tr>\n",
       "      <th>0</th>\n",
       "      <td>PDX - ABQ</td>\n",
       "      <td>1.098039</td>\n",
       "      <td>2</td>\n",
       "    </tr>\n",
       "    <tr>\n",
       "      <th>1</th>\n",
       "      <td>PDX - ANC</td>\n",
       "      <td>4.748936</td>\n",
       "      <td>4</td>\n",
       "    </tr>\n",
       "    <tr>\n",
       "      <th>2</th>\n",
       "      <td>PDX - ATL</td>\n",
       "      <td>7.020979</td>\n",
       "      <td>13</td>\n",
       "    </tr>\n",
       "    <tr>\n",
       "      <th>3</th>\n",
       "      <td>PDX - AUS</td>\n",
       "      <td>5.435374</td>\n",
       "      <td>5</td>\n",
       "    </tr>\n",
       "    <tr>\n",
       "      <th>4</th>\n",
       "      <td>PDX - BOI</td>\n",
       "      <td>5.136430</td>\n",
       "      <td>7</td>\n",
       "    </tr>\n",
       "    <tr>\n",
       "      <th>...</th>\n",
       "      <td>...</td>\n",
       "      <td>...</td>\n",
       "      <td>...</td>\n",
       "    </tr>\n",
       "    <tr>\n",
       "      <th>144</th>\n",
       "      <td>SEA - STS</td>\n",
       "      <td>6.782493</td>\n",
       "      <td>5</td>\n",
       "    </tr>\n",
       "    <tr>\n",
       "      <th>145</th>\n",
       "      <td>SEA - SUN</td>\n",
       "      <td>5.735537</td>\n",
       "      <td>5</td>\n",
       "    </tr>\n",
       "    <tr>\n",
       "      <th>146</th>\n",
       "      <td>SEA - TPA</td>\n",
       "      <td>6.537344</td>\n",
       "      <td>20</td>\n",
       "    </tr>\n",
       "    <tr>\n",
       "      <th>147</th>\n",
       "      <td>SEA - TUS</td>\n",
       "      <td>6.161290</td>\n",
       "      <td>13</td>\n",
       "    </tr>\n",
       "    <tr>\n",
       "      <th>148</th>\n",
       "      <td>SEA - YKM</td>\n",
       "      <td>5.427350</td>\n",
       "      <td>11</td>\n",
       "    </tr>\n",
       "  </tbody>\n",
       "</table>\n",
       "<p>149 rows × 3 columns</p>\n",
       "</div>"
      ],
      "text/plain": [
       "         route  mean_dep_delay  total_cancellations\n",
       "0    PDX - ABQ        1.098039                    2\n",
       "1    PDX - ANC        4.748936                    4\n",
       "2    PDX - ATL        7.020979                   13\n",
       "3    PDX - AUS        5.435374                    5\n",
       "4    PDX - BOI        5.136430                    7\n",
       "..         ...             ...                  ...\n",
       "144  SEA - STS        6.782493                    5\n",
       "145  SEA - SUN        5.735537                    5\n",
       "146  SEA - TPA        6.537344                   20\n",
       "147  SEA - TUS        6.161290                   13\n",
       "148  SEA - YKM        5.427350                   11\n",
       "\n",
       "[149 rows x 3 columns]"
      ]
     },
     "execution_count": 48,
     "metadata": {},
     "output_type": "execute_result"
    }
   ],
   "source": [
    "routes_delays_cancels_grouped = routes_delays_cancels.groupby('route').agg(\n",
    "    mean_dep_delay = ('dep_delay', 'mean'),\n",
    "    total_cancellations = ('dep_time', lambda x: x.isna().sum())\n",
    ").reset_index()\n",
    "routes_delays_cancels_grouped"
   ]
  },
  {
   "cell_type": "code",
   "execution_count": 72,
   "id": "51932873",
   "metadata": {},
   "outputs": [
    {
     "data": {
      "text/plain": [
       "13     PDX - DSM\n",
       "19     PDX - GRR\n",
       "17     PDX - FLL\n",
       "109    SEA - MIA\n",
       "71     SEA - CLT\n",
       "Name: route, dtype: object"
      ]
     },
     "execution_count": 72,
     "metadata": {},
     "output_type": "execute_result"
    }
   ],
   "source": [
    "# Identify routes with the highest mean departure delays\n",
    "top_5_routes = routes_delays_cancels_grouped.sort_values('mean_dep_delay', ascending=False).head(5)\n",
    "top_5_routes['route']"
   ]
  },
  {
   "cell_type": "code",
   "execution_count": 71,
   "id": "02d8fec3",
   "metadata": {},
   "outputs": [
    {
     "data": {
      "text/plain": [
       "103    SEA - LAX\n",
       "58     SEA - ANC\n",
       "102    SEA - LAS\n",
       "137    SEA - SFO\n",
       "121    SEA - PDX\n",
       "Name: route, dtype: object"
      ]
     },
     "execution_count": 71,
     "metadata": {},
     "output_type": "execute_result"
    }
   ],
   "source": [
    "# Identify routes with the highest number of cancellations\n",
    "top_5_cancellations = routes_delays_cancels_grouped.nlargest(5, 'total_cancellations')\n",
    "top_5_cancellations['route']"
   ]
  },
  {
   "cell_type": "markdown",
   "id": "6f02e4f2",
   "metadata": {},
   "source": [
    "### Pytanie 2"
   ]
  },
  {
   "cell_type": "code",
   "execution_count": 62,
   "id": "f1c9b973",
   "metadata": {},
   "outputs": [
    {
     "data": {
      "application/vnd.microsoft.datawrangler.viewer.v0+json": {
       "columns": [
        {
         "name": "index",
         "rawType": "int64",
         "type": "integer"
        },
        {
         "name": "airline",
         "rawType": "object",
         "type": "string"
        },
        {
         "name": "dep_delay",
         "rawType": "float64",
         "type": "float"
        },
        {
         "name": "dep_time",
         "rawType": "float64",
         "type": "float"
        }
       ],
       "conversionMethod": "pd.DataFrame",
       "ref": "541845aa-7665-4562-abc7-1ce3091b1b4e",
       "rows": [
        [
         "0",
         "United Air Lines Inc.",
         "2.0",
         "1.0"
        ],
        [
         "1",
         "Alaska Airlines Inc.",
         "71.0",
         "1.0"
        ],
        [
         "2",
         "Alaska Airlines Inc.",
         "15.0",
         "10.0"
        ],
        [
         "3",
         "Alaska Airlines Inc.",
         "35.0",
         "25.0"
        ],
        [
         "4",
         "United Air Lines Inc.",
         "46.0",
         "35.0"
        ]
       ],
       "shape": {
        "columns": 3,
        "rows": 5
       }
      },
      "text/html": [
       "<div>\n",
       "<style scoped>\n",
       "    .dataframe tbody tr th:only-of-type {\n",
       "        vertical-align: middle;\n",
       "    }\n",
       "\n",
       "    .dataframe tbody tr th {\n",
       "        vertical-align: top;\n",
       "    }\n",
       "\n",
       "    .dataframe thead th {\n",
       "        text-align: right;\n",
       "    }\n",
       "</style>\n",
       "<table border=\"1\" class=\"dataframe\">\n",
       "  <thead>\n",
       "    <tr style=\"text-align: right;\">\n",
       "      <th></th>\n",
       "      <th>airline</th>\n",
       "      <th>dep_delay</th>\n",
       "      <th>dep_time</th>\n",
       "    </tr>\n",
       "  </thead>\n",
       "  <tbody>\n",
       "    <tr>\n",
       "      <th>0</th>\n",
       "      <td>United Air Lines Inc.</td>\n",
       "      <td>2.0</td>\n",
       "      <td>1.0</td>\n",
       "    </tr>\n",
       "    <tr>\n",
       "      <th>1</th>\n",
       "      <td>Alaska Airlines Inc.</td>\n",
       "      <td>71.0</td>\n",
       "      <td>1.0</td>\n",
       "    </tr>\n",
       "    <tr>\n",
       "      <th>2</th>\n",
       "      <td>Alaska Airlines Inc.</td>\n",
       "      <td>15.0</td>\n",
       "      <td>10.0</td>\n",
       "    </tr>\n",
       "    <tr>\n",
       "      <th>3</th>\n",
       "      <td>Alaska Airlines Inc.</td>\n",
       "      <td>35.0</td>\n",
       "      <td>25.0</td>\n",
       "    </tr>\n",
       "    <tr>\n",
       "      <th>4</th>\n",
       "      <td>United Air Lines Inc.</td>\n",
       "      <td>46.0</td>\n",
       "      <td>35.0</td>\n",
       "    </tr>\n",
       "  </tbody>\n",
       "</table>\n",
       "</div>"
      ],
      "text/plain": [
       "                 airline  dep_delay  dep_time\n",
       "0  United Air Lines Inc.        2.0       1.0\n",
       "1   Alaska Airlines Inc.       71.0       1.0\n",
       "2   Alaska Airlines Inc.       15.0      10.0\n",
       "3   Alaska Airlines Inc.       35.0      25.0\n",
       "4  United Air Lines Inc.       46.0      35.0"
      ]
     },
     "execution_count": 62,
     "metadata": {},
     "output_type": "execute_result"
    }
   ],
   "source": [
    "# For airlines, determine the average departure delays and the highest number of canceled flights and store this as a DataFrame \n",
    "# called airlines_delays_cancels, resetting the index after calculating\n",
    "\n",
    "airlines_delays = flights2022[['airline', 'dep_delay', 'dep_time']]\n",
    "airlines_delays.head()"
   ]
  },
  {
   "cell_type": "code",
   "execution_count": 64,
   "id": "8b07dead",
   "metadata": {},
   "outputs": [
    {
     "data": {
      "application/vnd.microsoft.datawrangler.viewer.v0+json": {
       "columns": [
        {
         "name": "index",
         "rawType": "int64",
         "type": "integer"
        },
        {
         "name": "airline",
         "rawType": "object",
         "type": "string"
        },
        {
         "name": "avg_dep_delays",
         "rawType": "float64",
         "type": "float"
        },
        {
         "name": "total_cancellations",
         "rawType": "int64",
         "type": "integer"
        }
       ],
       "conversionMethod": "pd.DataFrame",
       "ref": "c56cb7f8-44b0-486b-9c1b-bdcb7ccb70c5",
       "rows": [
        [
         "0",
         "Alaska Airlines Inc.",
         "6.739281747500925",
         "1300"
        ],
        [
         "1",
         "Allegiant Air",
         "26.608695652173914",
         "6"
        ],
        [
         "2",
         "American Airlines Inc.",
         "20.12990264255911",
         "85"
        ],
        [
         "3",
         "Delta Air Lines Inc.",
         "10.648633609496724",
         "383"
        ],
        [
         "4",
         "Frontier Airlines Inc.",
         "14.355855855855856",
         "12"
        ]
       ],
       "shape": {
        "columns": 3,
        "rows": 5
       }
      },
      "text/html": [
       "<div>\n",
       "<style scoped>\n",
       "    .dataframe tbody tr th:only-of-type {\n",
       "        vertical-align: middle;\n",
       "    }\n",
       "\n",
       "    .dataframe tbody tr th {\n",
       "        vertical-align: top;\n",
       "    }\n",
       "\n",
       "    .dataframe thead th {\n",
       "        text-align: right;\n",
       "    }\n",
       "</style>\n",
       "<table border=\"1\" class=\"dataframe\">\n",
       "  <thead>\n",
       "    <tr style=\"text-align: right;\">\n",
       "      <th></th>\n",
       "      <th>airline</th>\n",
       "      <th>avg_dep_delays</th>\n",
       "      <th>total_cancellations</th>\n",
       "    </tr>\n",
       "  </thead>\n",
       "  <tbody>\n",
       "    <tr>\n",
       "      <th>0</th>\n",
       "      <td>Alaska Airlines Inc.</td>\n",
       "      <td>6.739282</td>\n",
       "      <td>1300</td>\n",
       "    </tr>\n",
       "    <tr>\n",
       "      <th>1</th>\n",
       "      <td>Allegiant Air</td>\n",
       "      <td>26.608696</td>\n",
       "      <td>6</td>\n",
       "    </tr>\n",
       "    <tr>\n",
       "      <th>2</th>\n",
       "      <td>American Airlines Inc.</td>\n",
       "      <td>20.129903</td>\n",
       "      <td>85</td>\n",
       "    </tr>\n",
       "    <tr>\n",
       "      <th>3</th>\n",
       "      <td>Delta Air Lines Inc.</td>\n",
       "      <td>10.648634</td>\n",
       "      <td>383</td>\n",
       "    </tr>\n",
       "    <tr>\n",
       "      <th>4</th>\n",
       "      <td>Frontier Airlines Inc.</td>\n",
       "      <td>14.355856</td>\n",
       "      <td>12</td>\n",
       "    </tr>\n",
       "  </tbody>\n",
       "</table>\n",
       "</div>"
      ],
      "text/plain": [
       "                  airline  avg_dep_delays  total_cancellations\n",
       "0    Alaska Airlines Inc.        6.739282                 1300\n",
       "1           Allegiant Air       26.608696                    6\n",
       "2  American Airlines Inc.       20.129903                   85\n",
       "3    Delta Air Lines Inc.       10.648634                  383\n",
       "4  Frontier Airlines Inc.       14.355856                   12"
      ]
     },
     "execution_count": 64,
     "metadata": {},
     "output_type": "execute_result"
    }
   ],
   "source": [
    "airlines_delays_grouped = airlines_delays.groupby('airline').agg(\n",
    "    avg_dep_delays = ('dep_delay', 'mean'),\n",
    "    total_cancellations = ('dep_time', lambda x: x.isna().sum())\n",
    ").reset_index()\n",
    "airlines_delays_grouped.head()"
   ]
  },
  {
   "cell_type": "code",
   "execution_count": 82,
   "id": "b76f5fc1",
   "metadata": {},
   "outputs": [
    {
     "name": "stdout",
     "output_type": "stream",
     "text": [
      "Top 5 airlines delays:\n",
      "7           JetBlue Airways\n",
      "1             Allegiant Air\n",
      "2    American Airlines Inc.\n",
      "4    Frontier Airlines Inc.\n",
      "9    Southwest Airlines Co.\n",
      "Name: airline, dtype: object\n",
      "\n",
      "Top 5 airlines cancelattions:\n",
      "0      Alaska Airlines Inc.\n",
      "3      Delta Air Lines Inc.\n",
      "6               Horizon Air\n",
      "8     SkyWest Airlines Inc.\n",
      "9    Southwest Airlines Co.\n",
      "Name: airline, dtype: object\n"
     ]
    }
   ],
   "source": [
    "# Identify airlines with the highest mean departure delay\n",
    "top_5_airline_delays = airlines_delays_grouped.sort_values('avg_dep_delays', ascending=False).head(5)\n",
    "\n",
    "# Identify airlines with the highest number of cancellations\n",
    "top_5_airline_cancellations = airlines_delays_grouped.sort_values('total_cancellations', ascending=False).head(5)\n",
    "\n",
    "print(f\"Top 5 airlines delays:\\n{top_5_airline_delays['airline']}\")\n",
    "print(f\"\\nTop 5 airlines cancelattions:\\n{top_5_airline_cancellations['airline']}\")"
   ]
  },
  {
   "cell_type": "markdown",
   "id": "abcb3df6",
   "metadata": {},
   "source": [
    "### Pytanie 3"
   ]
  },
  {
   "cell_type": "code",
   "execution_count": 84,
   "id": "f399f213",
   "metadata": {},
   "outputs": [
    {
     "data": {
      "text/plain": [
       "Text(0.5, 1.0, 'Top 5 Routes with the most cancellations')"
      ]
     },
     "execution_count": 84,
     "metadata": {},
     "output_type": "execute_result"
    },
    {
     "data": {
      "image/png": "[encoded data removed]",
      "text/plain": [
       "<Figure size 1000x500 with 1 Axes>"
      ]
     },
     "metadata": {},
     "output_type": "display_data"
    }
   ],
   "source": [
    "# Produce two bar graphs to show \n",
    "# (1) the top 9 highest number of cancellations by route in a plot called top9_route_cancels_bar and \n",
    "# (2) the top 9 highest average departure delays by airline in a plot called top9_airline_delays_bar.\n",
    "import seaborn as sns\n",
    "\n",
    "plt.figure(figsize=(10,5))\n",
    "top5_route_cancels_bar = sns.barplot(\n",
    "    data=top_5_routes,\n",
    "    x='route',\n",
    "    y='total_cancellations',\n",
    "    hue='route'\n",
    "    )\n",
    "plt.xticks(rotation=45, ha='right')\n",
    "plt.xlabel('Route')\n",
    "plt.ylabel('Total Cancellations')\n",
    "plt.title('Top 5 Routes with the most cancellations')\n"
   ]
  },
  {
   "cell_type": "code",
   "execution_count": 85,
   "id": "b3c50840",
   "metadata": {},
   "outputs": [
    {
     "data": {
      "text/plain": [
       "Text(0.5, 1.0, 'Average Departure Delays by Airline')"
      ]
     },
     "execution_count": 85,
     "metadata": {},
     "output_type": "execute_result"
    },
    {
     "data": {
      "image/png": "[encoded data removed]",
      "text/plain": [
       "<Figure size 1000x500 with 1 Axes>"
      ]
     },
     "metadata": {},
     "output_type": "display_data"
    }
   ],
   "source": [
    "plt.figure(figsize=(10,5))\n",
    "top_airline_avg_dep_delays = sns.barplot(\n",
    "    data=top_5_airline_delays,\n",
    "    x='airline',\n",
    "    y='avg_dep_delays',\n",
    "    hue='airline'\n",
    ")\n",
    "\n",
    "plt.xlabel('Airlines')\n",
    "plt.ylabel('Average departure delays')\n",
    "plt.title('Average Departure Delays by Airline')"
   ]
  },
  {
   "cell_type": "markdown",
   "id": "d7cede2f",
   "metadata": {},
   "source": [
    "### Pytanie 4"
   ]
  },
  {
   "cell_type": "code",
   "execution_count": 86,
   "id": "24504bce",
   "metadata": {},
   "outputs": [
    {
     "data": {
      "application/vnd.microsoft.datawrangler.viewer.v0+json": {
       "columns": [
        {
         "name": "index",
         "rawType": "int64",
         "type": "integer"
        },
        {
         "name": "year",
         "rawType": "int64",
         "type": "integer"
        },
        {
         "name": "month",
         "rawType": "int64",
         "type": "integer"
        },
        {
         "name": "day",
         "rawType": "int64",
         "type": "integer"
        },
        {
         "name": "dep_time",
         "rawType": "float64",
         "type": "float"
        },
        {
         "name": "sched_dep_time",
         "rawType": "int64",
         "type": "integer"
        },
        {
         "name": "dep_delay",
         "rawType": "float64",
         "type": "float"
        },
        {
         "name": "arr_time",
         "rawType": "float64",
         "type": "float"
        },
        {
         "name": "sched_arr_time",
         "rawType": "int64",
         "type": "integer"
        },
        {
         "name": "arr_delay",
         "rawType": "float64",
         "type": "float"
        },
        {
         "name": "carrier",
         "rawType": "object",
         "type": "string"
        },
        {
         "name": "flight",
         "rawType": "int64",
         "type": "integer"
        },
        {
         "name": "tailnum",
         "rawType": "object",
         "type": "string"
        },
        {
         "name": "origin",
         "rawType": "object",
         "type": "string"
        },
        {
         "name": "dest",
         "rawType": "object",
         "type": "string"
        },
        {
         "name": "air_time",
         "rawType": "float64",
         "type": "float"
        },
        {
         "name": "distance",
         "rawType": "int64",
         "type": "integer"
        },
        {
         "name": "hour",
         "rawType": "int64",
         "type": "integer"
        },
        {
         "name": "minute",
         "rawType": "int64",
         "type": "integer"
        },
        {
         "name": "airline",
         "rawType": "object",
         "type": "string"
        },
        {
         "name": "route",
         "rawType": "object",
         "type": "string"
        },
        {
         "name": "temp",
         "rawType": "float64",
         "type": "float"
        },
        {
         "name": "dewp",
         "rawType": "float64",
         "type": "float"
        },
        {
         "name": "humid",
         "rawType": "float64",
         "type": "float"
        },
        {
         "name": "wind_dir",
         "rawType": "float64",
         "type": "float"
        },
        {
         "name": "wind_speed",
         "rawType": "float64",
         "type": "float"
        },
        {
         "name": "wind_gust",
         "rawType": "float64",
         "type": "float"
        },
        {
         "name": "precip",
         "rawType": "float64",
         "type": "float"
        },
        {
         "name": "pressure",
         "rawType": "float64",
         "type": "float"
        },
        {
         "name": "visib",
         "rawType": "float64",
         "type": "float"
        }
       ],
       "conversionMethod": "pd.DataFrame",
       "ref": "92122ca8-2a32-4b3f-914c-e8818e4e42fe",
       "rows": [
        [
         "0",
         "2022",
         "1",
         "1",
         "1.0",
         "2359",
         "2.0",
         "604.0",
         "618",
         "-14.0",
         "UA",
         "555",
         "N405UA",
         "SEA",
         "IAH",
         "221.0",
         "1874",
         "23",
         "59",
         "United Air Lines Inc.",
         "SEA-IAH",
         "33.0",
         "23.0",
         "66.06",
         "160.0",
         "8.05546",
         "9.2700622588",
         "0.0",
         "1022.9",
         "10.0"
        ],
        [
         "1",
         "2022",
         "1",
         "1",
         "1.0",
         "2250",
         "71.0",
         "242.0",
         "142",
         "60.0",
         "AS",
         "72",
         "N265AK",
         "SEA",
         "FAI",
         "193.0",
         "1533",
         "22",
         "50",
         "Alaska Airlines Inc.",
         "SEA-FAI",
         "32.0",
         "23.0",
         "69.04",
         "170.0",
         "9.20624",
         "10.594356867199998",
         "0.0",
         "1023.4",
         "10.0"
        ],
        [
         "2",
         "2022",
         "1",
         "1",
         "10.0",
         "2355",
         "15.0",
         "759.0",
         "730",
         "29.0",
         "AS",
         "270",
         "N274AK",
         "SEA",
         "ATL",
         "261.0",
         "2182",
         "23",
         "55",
         "Alaska Airlines Inc.",
         "SEA-ATL",
         "33.0",
         "23.0",
         "66.06",
         "160.0",
         "8.05546",
         "9.2700622588",
         "0.0",
         "1022.9",
         "10.0"
        ],
        [
         "3",
         "2022",
         "1",
         "1",
         "25.0",
         "2350",
         "35.0",
         "606.0",
         "550",
         "16.0",
         "AS",
         "7",
         "N281AK",
         "SEA",
         "ORD",
         "193.0",
         "1721",
         "23",
         "50",
         "Alaska Airlines Inc.",
         "SEA-ORD",
         "33.0",
         "23.0",
         "66.06",
         "160.0",
         "8.05546",
         "9.2700622588",
         "0.0",
         "1022.9",
         "10.0"
        ],
        [
         "4",
         "2022",
         "1",
         "1",
         "35.0",
         "2349",
         "46.0",
         "616.0",
         "545",
         "31.0",
         "UA",
         "507",
         "N426UA",
         "PDX",
         "ORD",
         "196.0",
         "1739",
         "23",
         "49",
         "United Air Lines Inc.",
         "PDX-ORD",
         "33.0",
         "19.0",
         "55.75",
         "120.0",
         "6.904679999999999",
         "7.945767650399998",
         "0.0",
         "1025.1",
         "10.0"
        ]
       ],
       "shape": {
        "columns": 29,
        "rows": 5
       }
      },
      "text/html": [
       "<div>\n",
       "<style scoped>\n",
       "    .dataframe tbody tr th:only-of-type {\n",
       "        vertical-align: middle;\n",
       "    }\n",
       "\n",
       "    .dataframe tbody tr th {\n",
       "        vertical-align: top;\n",
       "    }\n",
       "\n",
       "    .dataframe thead th {\n",
       "        text-align: right;\n",
       "    }\n",
       "</style>\n",
       "<table border=\"1\" class=\"dataframe\">\n",
       "  <thead>\n",
       "    <tr style=\"text-align: right;\">\n",
       "      <th></th>\n",
       "      <th>year</th>\n",
       "      <th>month</th>\n",
       "      <th>day</th>\n",
       "      <th>dep_time</th>\n",
       "      <th>sched_dep_time</th>\n",
       "      <th>dep_delay</th>\n",
       "      <th>arr_time</th>\n",
       "      <th>sched_arr_time</th>\n",
       "      <th>arr_delay</th>\n",
       "      <th>carrier</th>\n",
       "      <th>...</th>\n",
       "      <th>route</th>\n",
       "      <th>temp</th>\n",
       "      <th>dewp</th>\n",
       "      <th>humid</th>\n",
       "      <th>wind_dir</th>\n",
       "      <th>wind_speed</th>\n",
       "      <th>wind_gust</th>\n",
       "      <th>precip</th>\n",
       "      <th>pressure</th>\n",
       "      <th>visib</th>\n",
       "    </tr>\n",
       "  </thead>\n",
       "  <tbody>\n",
       "    <tr>\n",
       "      <th>0</th>\n",
       "      <td>2022</td>\n",
       "      <td>1</td>\n",
       "      <td>1</td>\n",
       "      <td>1.0</td>\n",
       "      <td>2359</td>\n",
       "      <td>2.0</td>\n",
       "      <td>604.0</td>\n",
       "      <td>618</td>\n",
       "      <td>-14.0</td>\n",
       "      <td>UA</td>\n",
       "      <td>...</td>\n",
       "      <td>SEA-IAH</td>\n",
       "      <td>33.0</td>\n",
       "      <td>23.0</td>\n",
       "      <td>66.06</td>\n",
       "      <td>160.0</td>\n",
       "      <td>8.05546</td>\n",
       "      <td>9.270062</td>\n",
       "      <td>0.0</td>\n",
       "      <td>1022.9</td>\n",
       "      <td>10.0</td>\n",
       "    </tr>\n",
       "    <tr>\n",
       "      <th>1</th>\n",
       "      <td>2022</td>\n",
       "      <td>1</td>\n",
       "      <td>1</td>\n",
       "      <td>1.0</td>\n",
       "      <td>2250</td>\n",
       "      <td>71.0</td>\n",
       "      <td>242.0</td>\n",
       "      <td>142</td>\n",
       "      <td>60.0</td>\n",
       "      <td>AS</td>\n",
       "      <td>...</td>\n",
       "      <td>SEA-FAI</td>\n",
       "      <td>32.0</td>\n",
       "      <td>23.0</td>\n",
       "      <td>69.04</td>\n",
       "      <td>170.0</td>\n",
       "      <td>9.20624</td>\n",
       "      <td>10.594357</td>\n",
       "      <td>0.0</td>\n",
       "      <td>1023.4</td>\n",
       "      <td>10.0</td>\n",
       "    </tr>\n",
       "    <tr>\n",
       "      <th>2</th>\n",
       "      <td>2022</td>\n",
       "      <td>1</td>\n",
       "      <td>1</td>\n",
       "      <td>10.0</td>\n",
       "      <td>2355</td>\n",
       "      <td>15.0</td>\n",
       "      <td>759.0</td>\n",
       "      <td>730</td>\n",
       "      <td>29.0</td>\n",
       "      <td>AS</td>\n",
       "      <td>...</td>\n",
       "      <td>SEA-ATL</td>\n",
       "      <td>33.0</td>\n",
       "      <td>23.0</td>\n",
       "      <td>66.06</td>\n",
       "      <td>160.0</td>\n",
       "      <td>8.05546</td>\n",
       "      <td>9.270062</td>\n",
       "      <td>0.0</td>\n",
       "      <td>1022.9</td>\n",
       "      <td>10.0</td>\n",
       "    </tr>\n",
       "    <tr>\n",
       "      <th>3</th>\n",
       "      <td>2022</td>\n",
       "      <td>1</td>\n",
       "      <td>1</td>\n",
       "      <td>25.0</td>\n",
       "      <td>2350</td>\n",
       "      <td>35.0</td>\n",
       "      <td>606.0</td>\n",
       "      <td>550</td>\n",
       "      <td>16.0</td>\n",
       "      <td>AS</td>\n",
       "      <td>...</td>\n",
       "      <td>SEA-ORD</td>\n",
       "      <td>33.0</td>\n",
       "      <td>23.0</td>\n",
       "      <td>66.06</td>\n",
       "      <td>160.0</td>\n",
       "      <td>8.05546</td>\n",
       "      <td>9.270062</td>\n",
       "      <td>0.0</td>\n",
       "      <td>1022.9</td>\n",
       "      <td>10.0</td>\n",
       "    </tr>\n",
       "    <tr>\n",
       "      <th>4</th>\n",
       "      <td>2022</td>\n",
       "      <td>1</td>\n",
       "      <td>1</td>\n",
       "      <td>35.0</td>\n",
       "      <td>2349</td>\n",
       "      <td>46.0</td>\n",
       "      <td>616.0</td>\n",
       "      <td>545</td>\n",
       "      <td>31.0</td>\n",
       "      <td>UA</td>\n",
       "      <td>...</td>\n",
       "      <td>PDX-ORD</td>\n",
       "      <td>33.0</td>\n",
       "      <td>19.0</td>\n",
       "      <td>55.75</td>\n",
       "      <td>120.0</td>\n",
       "      <td>6.90468</td>\n",
       "      <td>7.945768</td>\n",
       "      <td>0.0</td>\n",
       "      <td>1025.1</td>\n",
       "      <td>10.0</td>\n",
       "    </tr>\n",
       "  </tbody>\n",
       "</table>\n",
       "<p>5 rows × 29 columns</p>\n",
       "</div>"
      ],
      "text/plain": [
       "   year  month  day  dep_time  sched_dep_time  dep_delay  arr_time  \\\n",
       "0  2022      1    1       1.0            2359        2.0     604.0   \n",
       "1  2022      1    1       1.0            2250       71.0     242.0   \n",
       "2  2022      1    1      10.0            2355       15.0     759.0   \n",
       "3  2022      1    1      25.0            2350       35.0     606.0   \n",
       "4  2022      1    1      35.0            2349       46.0     616.0   \n",
       "\n",
       "   sched_arr_time  arr_delay carrier  ...    route  temp  dewp  humid  \\\n",
       "0             618      -14.0      UA  ...  SEA-IAH  33.0  23.0  66.06   \n",
       "1             142       60.0      AS  ...  SEA-FAI  32.0  23.0  69.04   \n",
       "2             730       29.0      AS  ...  SEA-ATL  33.0  23.0  66.06   \n",
       "3             550       16.0      AS  ...  SEA-ORD  33.0  23.0  66.06   \n",
       "4             545       31.0      UA  ...  PDX-ORD  33.0  19.0  55.75   \n",
       "\n",
       "   wind_dir  wind_speed  wind_gust  precip pressure visib  \n",
       "0     160.0     8.05546   9.270062     0.0   1022.9  10.0  \n",
       "1     170.0     9.20624  10.594357     0.0   1023.4  10.0  \n",
       "2     160.0     8.05546   9.270062     0.0   1022.9  10.0  \n",
       "3     160.0     8.05546   9.270062     0.0   1022.9  10.0  \n",
       "4     120.0     6.90468   7.945768     0.0   1025.1  10.0  \n",
       "\n",
       "[5 rows x 29 columns]"
      ]
     },
     "execution_count": 86,
     "metadata": {},
     "output_type": "execute_result"
    }
   ],
   "source": [
    "flights_weather2022.head()"
   ]
  },
  {
   "cell_type": "code",
   "execution_count": 94,
   "id": "cd58ec50",
   "metadata": {},
   "outputs": [],
   "source": [
    "# Determine if 10 mile per hour wind gusts or more have a larger average departure delay \n",
    "# for both of SEA and PDX, setting wind_response to True if so and False if not\n"
   ]
  },
  {
   "cell_type": "code",
   "execution_count": 93,
   "id": "506d95c8",
   "metadata": {},
   "outputs": [
    {
     "name": "stdout",
     "output_type": "stream",
     "text": [
      "                 mean_dep_delay\n",
      "group    origin                \n",
      "< 10 mph PDX           6.686966\n",
      "         SEA           7.857595\n",
      ">= 10mph PDX           9.147024\n",
      "         SEA           9.231060\n"
     ]
    }
   ],
   "source": [
    "flights_weather2022[\"group\"] = flights_weather2022[\"wind_gust\"].apply(lambda x: \">= 10mph\" if x >= 10 else \"< 10 mph\")\n",
    "wind_grouped_data = flights_weather2022.groupby([\"group\", \"origin\"]).agg(\n",
    "    mean_dep_delay=(\"dep_delay\", \"mean\")\n",
    ")\n",
    "\n",
    "print(wind_grouped_data)"
   ]
  },
  {
   "cell_type": "markdown",
   "id": "a2a28322",
   "metadata": {},
   "source": [
    "# Solution"
   ]
  },
  {
   "cell_type": "code",
   "execution_count": null,
   "id": "3fa336c0",
   "metadata": {},
   "outputs": [],
   "source": [
    "# Load libraries\n",
    "import pandas as pd\n",
    "import matplotlib.pyplot as plt\n",
    "\n",
    "# Load the data\n",
    "flights2022 = pd.read_csv(\"flights2022.csv\")\n",
    "flights_weather2022 = pd.read_csv(\"flights_weather2022.csv\")\n",
    "\n",
    "# Create route column\n",
    "flights2022[\"route\"] = flights2022[\"origin\"] + \"-\" + flights2022[\"dest\"]\n",
    "\n",
    "# Calculate mean departure delay and number of canceled flights for each unique flight route\n",
    "routes_delays_cancels = flights2022.groupby(\"route\").agg(\n",
    "    mean_dep_delay=(\"dep_delay\", \"mean\"),\n",
    "    total_cancellations=(\"dep_time\", lambda x: x.isna().sum())\n",
    ").reset_index()\n",
    "\n",
    "# Identify routes with the highest mean departure delays\n",
    "top_routes_by_delay = routes_delays_cancels.sort_values(\"mean_dep_delay\", ascending=False).head(9)\n",
    "\n",
    "# Identify routes with the highest number of cancellations\n",
    "top_routes_by_cancellations = routes_delays_cancels.sort_values(\"total_cancellations\", ascending=False).head(9)\n",
    "\n",
    "# Create a bar graph for highest number of cancellations\n",
    "top9_route_cancels_bar, ax = plt.subplots()\n",
    "ax.bar(top_routes_by_cancellations[\"route\"], top_routes_by_cancellations[\"total_cancellations\"])\n",
    "ax.set_xlabel(\"Route\")\n",
    "ax.set_ylabel(\"Total Cancellations\")\n",
    "ax.set_title(\"Routes with Highest Number of Cancellations\")\n",
    "ax.set_xticklabels(top_routes_by_cancellations[\"route\"], rotation=90)\n",
    "plt.show()\n",
    "plt.close()\n",
    "\n",
    "# Find mean departure delays and total cancellations by airline\n",
    "airlines_delays_cancels = flights2022.groupby(\"airline\").agg(\n",
    "    mean_dep_delay=(\"dep_delay\", \"mean\"),\n",
    "    total_cancellations=(\"dep_time\", lambda x: x.isna().sum())\n",
    ").reset_index()\n",
    "\n",
    "# Identify airlines with the highest mean departure delay\n",
    "top_airlines_by_delay = airlines_delays_cancels.sort_values(\"mean_dep_delay\", ascending=False).head(9)\n",
    "\n",
    "# Identify airlines with the highest number of cancellations\n",
    "top_airlines_by_cancellations = airlines_delays_cancels.sort_values(\"total_cancellations\", ascending=False).head(9)\n",
    "\n",
    "# Create a bar graph for highest mean depearture delay\n",
    "top9_airline_delays_bar, ax = plt.subplots()\n",
    "ax.bar(top_airlines_by_delay[\"airline\"], top_airlines_by_delay[\"mean_dep_delay\"])\n",
    "ax.set_xlabel(\"Airline\")\n",
    "ax.set_ylabel(\"Mean Departure Delay\")\n",
    "ax.set_title(\"Airlines with Highest Mean Departure Delays\")\n",
    "ax.set_xticklabels(top_airlines_by_delay[\"airline\"], rotation=90)\n",
    "plt.show()\n",
    "\n",
    "# Are departure delays impacted by 10+ mph winds from each airport\n",
    "flights_weather2022[\"group\"] = flights_weather2022[\"wind_gust\"].apply(lambda x: \">= 10mph\" if x >= 10 else \"< 10 mph\")\n",
    "wind_grouped_data = flights_weather2022.groupby([\"group\", \"origin\"]).agg(\n",
    "    mean_dep_delay=(\"dep_delay\", \"mean\")\n",
    ")\n",
    "\n",
    "print(wind_grouped_data)\n",
    "\n",
    "wind_response = True"
   ]
  }
 ],
 "metadata": {
  "colab": {
   "name": "Welcome to DataCamp Workspaces.ipynb",
   "provenance": []
  },
  "kernelspec": {
   "display_name": "base",
   "language": "python",
   "name": "python3"
  },
  "language_info": {
   "codemirror_mode": {
    "name": "ipython",
    "version": 3
   },
   "file_extension": ".py",
   "mimetype": "text/x-python",
   "name": "python",
   "nbconvert_exporter": "python",
   "pygments_lexer": "ipython3",
   "version": "3.12.4"
  }
 },
 "nbformat": 4,
 "nbformat_minor": 5
}
