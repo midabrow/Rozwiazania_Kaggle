{
 "cells": [
  {
   "attachments": {},
   "cell_type": "markdown",
   "id": "35d4e17b-eeb6-40dd-a140-7b949390e115",
   "metadata": {
    "tags": []
   },
   "source": [
    "# Analyzing River Thames Water Levels\n",
    "Time series data is everywhere, from watching your stock portfolio to monitoring climate change, and even live-tracking as local cases of a virus become a global pandemic. In this project, you’ll work with a time series that tracks the tide levels of the Thames River. You’ll first load the data and inspect it data visually, and then perform calculations on the dataset to generate some summary statistics. You’ll end by reducing the time series to its component attributes and analyzing them. \n",
    "\n",
    "The original dataset is available from the British Oceanographic Data Center.\n",
    "\n",
    "Here's a map of the locations of the tidal meters along the River Thames in London.\n",
    "\n",
    "![](locations.png)\n",
    "\n",
    "The provided datasets are in the `data` folder in this workspace. For this project, you will work with one of these files, `10-11_London_Bridge.txt`, which contains comma separated values for water levels in the Thames River at the London Bridge. After you've finished the project, you can use your same code to analyze data from the other files (at other spots in the UK where tidal data is collected) if you'd like. \n",
    "\n",
    "The TXT file contains data for three variables, described in the table below. \n",
    "\n",
    "| Variable Name | Description | Format |\n",
    "| ------------- | ----------- | ------ |\n",
    "| Date and time | Date and time of measurement to GMT. Note the tide gauge is accurate to one minute. | dd/mm/yyyy hh:mm:ss |\n",
    "| Water level | High or low water level measured by tide meter. Tide gauges are accurate to 1 centimetre. | metres (Admiralty Chart Datum (CD), Ordnance Datum Newlyn (ODN or Trinity High Water (THW)) | \n",
    "| Flag | High water flag = 1, low water flag = 0 | Categorical (0 or 1) |\n",
    "\n"
   ]
  },
  {
   "cell_type": "markdown",
   "id": "14c8b4dc",
   "metadata": {},
   "source": [
    "Analyze Thames River tidal data to track changes in high-tide and low-tide frequency over time.\n",
    "\n",
    "The data is in the data/10-11_London_Bridge.txt file.\n",
    "\n",
    "- Load, manipulate, and prepare the data to create new structures and names that might benefit your analysis.\n",
    "\n",
    "- Find the mean, median, and interquartile range for high- and low-tide data and save them as two separate pandas Series.\n",
    "\n",
    "- Calculate the annual percentage of days with very high tide levels (90th percentile of high tide days) for each year and store the results as floats in a two-column DataFrame with the index reset.\n",
    "\n",
    "- Calculate the same percentage for low-tide days (below the 10th percentile) and store the results in the same way.\n",
    "\n",
    "- Create a dictionary named solution with a summary of your data analysis, with these key-value pairs:\n",
    "\n",
    "`{high_statistics: high-tide stats, low_statistics: low-tide stats, very_high_ratio: high-tide ratio data, very_low_ratio: low-tide ratio data}`"
   ]
  },
  {
   "cell_type": "code",
   "execution_count": 1,
   "id": "2ca4359b-3fb7-4cfc-8017-36f70e928fba",
   "metadata": {
    "executionCancelledAt": null,
    "executionTime": 154,
    "lastExecutedAt": 1691000067646,
    "lastScheduledRunId": null,
    "lastSuccessfullyExecutedCode": "# We've imported your first Python package for you, along with a function you will need called IQR\nimport pandas as pd               \n\ndef IQR(column): \n    q25, q75 = column.quantile([0.25, 0.75])\n    return q75-q25"
   },
   "outputs": [
    {
     "data": {
      "application/vnd.microsoft.datawrangler.viewer.v0+json": {
       "columns": [
        {
         "name": "index",
         "rawType": "int64",
         "type": "integer"
        },
        {
         "name": "Date and time",
         "rawType": "object",
         "type": "string"
        },
        {
         "name": " water level (m ODN)",
         "rawType": "object",
         "type": "string"
        },
        {
         "name": " flag",
         "rawType": "int64",
         "type": "integer"
        },
        {
         "name": " HW=1 or LW=0",
         "rawType": "float64",
         "type": "float"
        }
       ],
       "conversionMethod": "pd.DataFrame",
       "ref": "d26d2a10-dbe8-4c95-98ad-b5c5532dbffc",
       "rows": [
        [
         "0",
         "01/05/1911 15:40:00",
         "  3.7130",
         "1",
         null
        ],
        [
         "1",
         "02/05/1911 11:25:00",
         " -2.9415",
         "0",
         null
        ],
        [
         "2",
         "02/05/1911 16:05:00",
         "  3.3828",
         "1",
         null
        ],
        [
         "3",
         "03/05/1911 11:50:00",
         " -2.6367",
         "0",
         null
        ],
        [
         "4",
         "03/05/1911 16:55:00",
         "  2.9256",
         "1",
         null
        ]
       ],
       "shape": {
        "columns": 4,
        "rows": 5
       }
      },
      "text/html": [
       "<div>\n",
       "<style scoped>\n",
       "    .dataframe tbody tr th:only-of-type {\n",
       "        vertical-align: middle;\n",
       "    }\n",
       "\n",
       "    .dataframe tbody tr th {\n",
       "        vertical-align: top;\n",
       "    }\n",
       "\n",
       "    .dataframe thead th {\n",
       "        text-align: right;\n",
       "    }\n",
       "</style>\n",
       "<table border=\"1\" class=\"dataframe\">\n",
       "  <thead>\n",
       "    <tr style=\"text-align: right;\">\n",
       "      <th></th>\n",
       "      <th>Date and time</th>\n",
       "      <th>water level (m ODN)</th>\n",
       "      <th>flag</th>\n",
       "      <th>HW=1 or LW=0</th>\n",
       "    </tr>\n",
       "  </thead>\n",
       "  <tbody>\n",
       "    <tr>\n",
       "      <th>0</th>\n",
       "      <td>01/05/1911 15:40:00</td>\n",
       "      <td>3.7130</td>\n",
       "      <td>1</td>\n",
       "      <td>NaN</td>\n",
       "    </tr>\n",
       "    <tr>\n",
       "      <th>1</th>\n",
       "      <td>02/05/1911 11:25:00</td>\n",
       "      <td>-2.9415</td>\n",
       "      <td>0</td>\n",
       "      <td>NaN</td>\n",
       "    </tr>\n",
       "    <tr>\n",
       "      <th>2</th>\n",
       "      <td>02/05/1911 16:05:00</td>\n",
       "      <td>3.3828</td>\n",
       "      <td>1</td>\n",
       "      <td>NaN</td>\n",
       "    </tr>\n",
       "    <tr>\n",
       "      <th>3</th>\n",
       "      <td>03/05/1911 11:50:00</td>\n",
       "      <td>-2.6367</td>\n",
       "      <td>0</td>\n",
       "      <td>NaN</td>\n",
       "    </tr>\n",
       "    <tr>\n",
       "      <th>4</th>\n",
       "      <td>03/05/1911 16:55:00</td>\n",
       "      <td>2.9256</td>\n",
       "      <td>1</td>\n",
       "      <td>NaN</td>\n",
       "    </tr>\n",
       "  </tbody>\n",
       "</table>\n",
       "</div>"
      ],
      "text/plain": [
       "         Date and time  water level (m ODN)   flag   HW=1 or LW=0\n",
       "0  01/05/1911 15:40:00               3.7130      1            NaN\n",
       "1  02/05/1911 11:25:00              -2.9415      0            NaN\n",
       "2  02/05/1911 16:05:00               3.3828      1            NaN\n",
       "3  03/05/1911 11:50:00              -2.6367      0            NaN\n",
       "4  03/05/1911 16:55:00               2.9256      1            NaN"
      ]
     },
     "execution_count": 1,
     "metadata": {},
     "output_type": "execute_result"
    }
   ],
   "source": [
    "# We've imported your first Python package for you, along with a function you will need called IQR\n",
    "import pandas as pd               \n",
    "\n",
    "def IQR(column): \n",
    "    \"\"\" Calculates the interquartile range (IQR) for a given DataFrame column using the quantile method \"\"\"\n",
    "    q25, q75 = column.quantile([0.25, 0.75])\n",
    "    return q75-q25\n",
    "\n",
    "lb = pd.read_csv('data/10-11_London_Bridge.txt')\n",
    "lb.head()"
   ]
  },
  {
   "cell_type": "markdown",
   "id": "a930ca27",
   "metadata": {},
   "source": [
    "### Badanie"
   ]
  },
  {
   "cell_type": "code",
   "execution_count": 2,
   "id": "83d04ab7",
   "metadata": {},
   "outputs": [
    {
     "name": "stdout",
     "output_type": "stream",
     "text": [
      "<class 'pandas.core.frame.DataFrame'>\n",
      "RangeIndex: 115503 entries, 0 to 115502\n",
      "Data columns (total 4 columns):\n",
      " #   Column                Non-Null Count   Dtype  \n",
      "---  ------                --------------   -----  \n",
      " 0   Date and time         115503 non-null  object \n",
      " 1    water level (m ODN)  115503 non-null  object \n",
      " 2    flag                 115503 non-null  int64  \n",
      " 3    HW=1 or LW=0         0 non-null       float64\n",
      "dtypes: float64(1), int64(1), object(2)\n",
      "memory usage: 3.5+ MB\n"
     ]
    }
   ],
   "source": [
    "lb.info()"
   ]
  },
  {
   "cell_type": "code",
   "execution_count": 22,
   "id": "a8fe452a",
   "metadata": {},
   "outputs": [
    {
     "data": {
      "application/vnd.microsoft.datawrangler.viewer.v0+json": {
       "columns": [
        {
         "name": "index",
         "rawType": "int64",
         "type": "integer"
        },
        {
         "name": "Date and time",
         "rawType": "object",
         "type": "string"
        },
        {
         "name": " water level (m ODN)",
         "rawType": "object",
         "type": "string"
        },
        {
         "name": " flag",
         "rawType": "int64",
         "type": "integer"
        }
       ],
       "conversionMethod": "pd.DataFrame",
       "ref": "dfce63bb-d207-4421-992e-d9e93c0e313a",
       "rows": [
        [
         "0",
         "01/05/1911 15:40:00",
         "  3.7130",
         "1"
        ],
        [
         "1",
         "02/05/1911 11:25:00",
         " -2.9415",
         "0"
        ],
        [
         "2",
         "02/05/1911 16:05:00",
         "  3.3828",
         "1"
        ],
        [
         "3",
         "03/05/1911 11:50:00",
         " -2.6367",
         "0"
        ],
        [
         "4",
         "03/05/1911 16:55:00",
         "  2.9256",
         "1"
        ],
        [
         "5",
         "04/05/1911 12:10:00",
         " -2.4843",
         "0"
        ],
        [
         "6",
         "04/05/1911 17:45:00",
         "  3.1542",
         "1"
        ],
        [
         "7",
         "05/05/1911 06:30:00",
         "  3.0780",
         "1"
        ],
        [
         "8",
         "05/05/1911 13:00:00",
         " -2.4843",
         "0"
        ],
        [
         "9",
         "06/05/1911 07:35:00",
         "  2.7732",
         "1"
        ],
        [
         "10",
         "06/05/1911 14:25:00",
         " -1.9509",
         "0"
        ],
        [
         "11",
         "07/05/1911 09:10:00",
         "  2.6208",
         "1"
        ],
        [
         "12",
         "07/05/1911 15:30:00",
         " -2.0271",
         "0"
        ],
        [
         "13",
         "08/05/1911 10:25:00",
         "  2.6716",
         "1"
        ],
        [
         "14",
         "08/05/1911 16:50:00",
         " -2.1033",
         "0"
        ],
        [
         "15",
         "09/05/1911 12:00:00",
         "  3.0018",
         "1"
        ],
        [
         "16",
         "09/05/1911 18:05:00",
         " -2.2303",
         "0"
        ],
        [
         "17",
         "10/05/1911 07:00:00",
         " -2.6367",
         "0"
        ],
        [
         "18",
         "10/05/1911 12:40:00",
         "  3.1034",
         "1"
        ],
        [
         "19",
         "11/05/1911 07:45:00",
         " -2.7891",
         "0"
        ],
        [
         "20",
         "11/05/1911 13:15:00",
         "  3.2304",
         "1"
        ],
        [
         "21",
         "12/05/1911 08:25:00",
         " -2.7891",
         "0"
        ],
        [
         "22",
         "12/05/1911 13:45:00",
         "  3.3574",
         "1"
        ],
        [
         "23",
         "13/05/1911 09:00:00",
         " -2.7383",
         "0"
        ],
        [
         "24",
         "13/05/1911 14:15:00",
         "  3.4590",
         "1"
        ],
        [
         "25",
         "14/05/1911 14:45:00",
         "  3.4590",
         "1"
        ],
        [
         "26",
         "15/05/1911 10:00:00",
         " -2.6367",
         "0"
        ],
        [
         "27",
         "15/05/1911 15:10:00",
         "  3.4082",
         "1"
        ],
        [
         "28",
         "16/05/1911 10:30:00",
         " -2.5097",
         "0"
        ],
        [
         "29",
         "16/05/1911 16:00:00",
         "  3.2304",
         "1"
        ],
        [
         "30",
         "17/05/1911 10:45:00",
         " -2.4081",
         "0"
        ],
        [
         "31",
         "17/05/1911 16:20:00",
         "  3.1288",
         "1"
        ],
        [
         "32",
         "18/05/1911 11:00:00",
         " -2.3065",
         "0"
        ],
        [
         "33",
         "18/05/1911 17:00:00",
         "  2.8240",
         "1"
        ],
        [
         "34",
         "19/05/1911 11:45:00",
         " -1.9001",
         "0"
        ],
        [
         "35",
         "19/05/1911 17:40:00",
         "  2.4684",
         "1"
        ],
        [
         "36",
         "20/05/1911 12:10:00",
         " -1.9001",
         "0"
        ],
        [
         "37",
         "20/05/1911 18:10:00",
         "  2.1637",
         "1"
        ],
        [
         "38",
         "21/05/1911 07:10:00",
         "  2.3160",
         "1"
        ],
        [
         "39",
         "21/05/1911 13:15:00",
         " -1.8747",
         "0"
        ],
        [
         "40",
         "22/05/1911 07:55:00",
         "  2.2906",
         "1"
        ],
        [
         "41",
         "22/05/1911 14:55:00",
         " -1.8747",
         "0"
        ],
        [
         "42",
         "23/05/1911 09:25:00",
         "  2.4938",
         "1"
        ],
        [
         "43",
         "23/05/1911 15:50:00",
         " -1.8747",
         "0"
        ],
        [
         "44",
         "24/05/1911 10:40:00",
         "  2.6208",
         "1"
        ],
        [
         "45",
         "24/05/1911 17:00:00",
         " -2.1795",
         "0"
        ],
        [
         "46",
         "25/05/1911 11:30:00",
         "  3.0018",
         "1"
        ],
        [
         "47",
         "25/05/1911 18:15:00",
         " -2.4335",
         "0"
        ],
        [
         "48",
         "26/05/1911 12:30:00",
         "  3.4590",
         "1"
        ],
        [
         "49",
         "27/05/1911 08:00:00",
         " -2.8399",
         "0"
        ]
       ],
       "shape": {
        "columns": 3,
        "rows": 115503
       }
      },
      "text/html": [
       "<div>\n",
       "<style scoped>\n",
       "    .dataframe tbody tr th:only-of-type {\n",
       "        vertical-align: middle;\n",
       "    }\n",
       "\n",
       "    .dataframe tbody tr th {\n",
       "        vertical-align: top;\n",
       "    }\n",
       "\n",
       "    .dataframe thead th {\n",
       "        text-align: right;\n",
       "    }\n",
       "</style>\n",
       "<table border=\"1\" class=\"dataframe\">\n",
       "  <thead>\n",
       "    <tr style=\"text-align: right;\">\n",
       "      <th></th>\n",
       "      <th>Date and time</th>\n",
       "      <th>water level (m ODN)</th>\n",
       "      <th>flag</th>\n",
       "    </tr>\n",
       "  </thead>\n",
       "  <tbody>\n",
       "    <tr>\n",
       "      <th>0</th>\n",
       "      <td>01/05/1911 15:40:00</td>\n",
       "      <td>3.7130</td>\n",
       "      <td>1</td>\n",
       "    </tr>\n",
       "    <tr>\n",
       "      <th>1</th>\n",
       "      <td>02/05/1911 11:25:00</td>\n",
       "      <td>-2.9415</td>\n",
       "      <td>0</td>\n",
       "    </tr>\n",
       "    <tr>\n",
       "      <th>2</th>\n",
       "      <td>02/05/1911 16:05:00</td>\n",
       "      <td>3.3828</td>\n",
       "      <td>1</td>\n",
       "    </tr>\n",
       "    <tr>\n",
       "      <th>3</th>\n",
       "      <td>03/05/1911 11:50:00</td>\n",
       "      <td>-2.6367</td>\n",
       "      <td>0</td>\n",
       "    </tr>\n",
       "    <tr>\n",
       "      <th>4</th>\n",
       "      <td>03/05/1911 16:55:00</td>\n",
       "      <td>2.9256</td>\n",
       "      <td>1</td>\n",
       "    </tr>\n",
       "    <tr>\n",
       "      <th>...</th>\n",
       "      <td>...</td>\n",
       "      <td>...</td>\n",
       "      <td>...</td>\n",
       "    </tr>\n",
       "    <tr>\n",
       "      <th>115498</th>\n",
       "      <td>30/12/1995 20:44:00</td>\n",
       "      <td>3.2900</td>\n",
       "      <td>1</td>\n",
       "    </tr>\n",
       "    <tr>\n",
       "      <th>115499</th>\n",
       "      <td>31/12/1995 02:32:00</td>\n",
       "      <td>-1.6000</td>\n",
       "      <td>0</td>\n",
       "    </tr>\n",
       "    <tr>\n",
       "      <th>115500</th>\n",
       "      <td>31/12/1995 08:59:00</td>\n",
       "      <td>3.2000</td>\n",
       "      <td>1</td>\n",
       "    </tr>\n",
       "    <tr>\n",
       "      <th>115501</th>\n",
       "      <td>31/12/1995 15:03:00</td>\n",
       "      <td>-1.8000</td>\n",
       "      <td>0</td>\n",
       "    </tr>\n",
       "    <tr>\n",
       "      <th>115502</th>\n",
       "      <td>31/12/1995 21:50:00</td>\n",
       "      <td>3.1700</td>\n",
       "      <td>1</td>\n",
       "    </tr>\n",
       "  </tbody>\n",
       "</table>\n",
       "<p>115503 rows × 3 columns</p>\n",
       "</div>"
      ],
      "text/plain": [
       "              Date and time  water level (m ODN)   flag\n",
       "0       01/05/1911 15:40:00               3.7130      1\n",
       "1       02/05/1911 11:25:00              -2.9415      0\n",
       "2       02/05/1911 16:05:00               3.3828      1\n",
       "3       03/05/1911 11:50:00              -2.6367      0\n",
       "4       03/05/1911 16:55:00               2.9256      1\n",
       "...                     ...                  ...    ...\n",
       "115498  30/12/1995 20:44:00               3.2900      1\n",
       "115499  31/12/1995 02:32:00              -1.6000      0\n",
       "115500  31/12/1995 08:59:00               3.2000      1\n",
       "115501  31/12/1995 15:03:00              -1.8000      0\n",
       "115502  31/12/1995 21:50:00               3.1700      1\n",
       "\n",
       "[115503 rows x 3 columns]"
      ]
     },
     "execution_count": 22,
     "metadata": {},
     "output_type": "execute_result"
    }
   ],
   "source": [
    "df = lb.iloc[:, :3]\n",
    "df"
   ]
  },
  {
   "cell_type": "markdown",
   "id": "95183814",
   "metadata": {},
   "source": [
    "### Zmiana nazw kolumn i formatu czasu, format water_level i dodanie nowych kolumn"
   ]
  },
  {
   "cell_type": "code",
   "execution_count": 23,
   "id": "d37468b1",
   "metadata": {},
   "outputs": [
    {
     "data": {
      "text/plain": [
       "Index(['Date and time', ' water level (m ODN)', ' flag'], dtype='object')"
      ]
     },
     "execution_count": 23,
     "metadata": {},
     "output_type": "execute_result"
    }
   ],
   "source": [
    "df.columns"
   ]
  },
  {
   "cell_type": "code",
   "execution_count": 24,
   "id": "4c94a9cc",
   "metadata": {},
   "outputs": [],
   "source": [
    "df.columns = df.columns.str.strip()"
   ]
  },
  {
   "cell_type": "code",
   "execution_count": 25,
   "id": "ce933cda",
   "metadata": {},
   "outputs": [],
   "source": [
    "df.rename(columns={\n",
    "    'Date and time': 'datetime',\n",
    "    'water level (m ODN)': 'water_level',\n",
    "    'flag': 'is_high_tide'\n",
    "    }, inplace=True)"
   ]
  },
  {
   "cell_type": "code",
   "execution_count": 27,
   "id": "a1775be4",
   "metadata": {},
   "outputs": [],
   "source": [
    "df['datetime'] = pd.to_datetime(df['datetime'], format='%d/%m/%Y %H:%M:%S')"
   ]
  },
  {
   "cell_type": "code",
   "execution_count": 28,
   "id": "1050461c",
   "metadata": {},
   "outputs": [],
   "source": [
    "df['water_level'] = df['water_level'].astype(float)"
   ]
  },
  {
   "cell_type": "code",
   "execution_count": 29,
   "id": "5f378a98",
   "metadata": {},
   "outputs": [],
   "source": [
    "df['month'] = df['datetime'].dt.month\n",
    "df['year'] = df['datetime'].dt.year"
   ]
  },
  {
   "cell_type": "code",
   "execution_count": 30,
   "id": "7637ab81",
   "metadata": {},
   "outputs": [
    {
     "data": {
      "application/vnd.microsoft.datawrangler.viewer.v0+json": {
       "columns": [
        {
         "name": "index",
         "rawType": "int64",
         "type": "integer"
        },
        {
         "name": "datetime",
         "rawType": "datetime64[ns]",
         "type": "datetime"
        },
        {
         "name": "water_level",
         "rawType": "float64",
         "type": "float"
        },
        {
         "name": "is_high_tide",
         "rawType": "int64",
         "type": "integer"
        },
        {
         "name": "month",
         "rawType": "int32",
         "type": "integer"
        },
        {
         "name": "year",
         "rawType": "int32",
         "type": "integer"
        }
       ],
       "conversionMethod": "pd.DataFrame",
       "ref": "bbb40e7a-5f83-45e3-8d1e-8877affc484b",
       "rows": [
        [
         "0",
         "1911-05-01 15:40:00",
         "3.713",
         "1",
         "5",
         "1911"
        ],
        [
         "1",
         "1911-05-02 11:25:00",
         "-2.9415",
         "0",
         "5",
         "1911"
        ],
        [
         "2",
         "1911-05-02 16:05:00",
         "3.3828",
         "1",
         "5",
         "1911"
        ],
        [
         "3",
         "1911-05-03 11:50:00",
         "-2.6367",
         "0",
         "5",
         "1911"
        ],
        [
         "4",
         "1911-05-03 16:55:00",
         "2.9256",
         "1",
         "5",
         "1911"
        ]
       ],
       "shape": {
        "columns": 5,
        "rows": 5
       }
      },
      "text/html": [
       "<div>\n",
       "<style scoped>\n",
       "    .dataframe tbody tr th:only-of-type {\n",
       "        vertical-align: middle;\n",
       "    }\n",
       "\n",
       "    .dataframe tbody tr th {\n",
       "        vertical-align: top;\n",
       "    }\n",
       "\n",
       "    .dataframe thead th {\n",
       "        text-align: right;\n",
       "    }\n",
       "</style>\n",
       "<table border=\"1\" class=\"dataframe\">\n",
       "  <thead>\n",
       "    <tr style=\"text-align: right;\">\n",
       "      <th></th>\n",
       "      <th>datetime</th>\n",
       "      <th>water_level</th>\n",
       "      <th>is_high_tide</th>\n",
       "      <th>month</th>\n",
       "      <th>year</th>\n",
       "    </tr>\n",
       "  </thead>\n",
       "  <tbody>\n",
       "    <tr>\n",
       "      <th>0</th>\n",
       "      <td>1911-05-01 15:40:00</td>\n",
       "      <td>3.7130</td>\n",
       "      <td>1</td>\n",
       "      <td>5</td>\n",
       "      <td>1911</td>\n",
       "    </tr>\n",
       "    <tr>\n",
       "      <th>1</th>\n",
       "      <td>1911-05-02 11:25:00</td>\n",
       "      <td>-2.9415</td>\n",
       "      <td>0</td>\n",
       "      <td>5</td>\n",
       "      <td>1911</td>\n",
       "    </tr>\n",
       "    <tr>\n",
       "      <th>2</th>\n",
       "      <td>1911-05-02 16:05:00</td>\n",
       "      <td>3.3828</td>\n",
       "      <td>1</td>\n",
       "      <td>5</td>\n",
       "      <td>1911</td>\n",
       "    </tr>\n",
       "    <tr>\n",
       "      <th>3</th>\n",
       "      <td>1911-05-03 11:50:00</td>\n",
       "      <td>-2.6367</td>\n",
       "      <td>0</td>\n",
       "      <td>5</td>\n",
       "      <td>1911</td>\n",
       "    </tr>\n",
       "    <tr>\n",
       "      <th>4</th>\n",
       "      <td>1911-05-03 16:55:00</td>\n",
       "      <td>2.9256</td>\n",
       "      <td>1</td>\n",
       "      <td>5</td>\n",
       "      <td>1911</td>\n",
       "    </tr>\n",
       "  </tbody>\n",
       "</table>\n",
       "</div>"
      ],
      "text/plain": [
       "             datetime  water_level  is_high_tide  month  year\n",
       "0 1911-05-01 15:40:00       3.7130             1      5  1911\n",
       "1 1911-05-02 11:25:00      -2.9415             0      5  1911\n",
       "2 1911-05-02 16:05:00       3.3828             1      5  1911\n",
       "3 1911-05-03 11:50:00      -2.6367             0      5  1911\n",
       "4 1911-05-03 16:55:00       2.9256             1      5  1911"
      ]
     },
     "execution_count": 30,
     "metadata": {},
     "output_type": "execute_result"
    }
   ],
   "source": [
    "df.head()"
   ]
  },
  {
   "cell_type": "markdown",
   "id": "00e4c04f",
   "metadata": {},
   "source": [
    "### Pytanie 1"
   ]
  },
  {
   "cell_type": "markdown",
   "id": "60800773",
   "metadata": {},
   "source": [
    "- Find the mean, median, and interquartile range for high- and low-tide data and save them as two separate pandas Series.\n"
   ]
  },
  {
   "cell_type": "code",
   "execution_count": 33,
   "id": "a5cdf5d4",
   "metadata": {},
   "outputs": [
    {
     "name": "stdout",
     "output_type": "stream",
     "text": [
      "mean      3.318373\n",
      "median    3.352600\n",
      "IQR       0.743600\n",
      "Name: water_level, dtype: float64\n",
      "mean     -2.383737\n",
      "median   -2.412900\n",
      "IQR       0.538200\n",
      "Name: water_level, dtype: float64\n"
     ]
    }
   ],
   "source": [
    "high_tide = df[df['is_high_tide'] == 1]\n",
    "low_tide = df[df['is_high_tide'] == 0]\n",
    "\n",
    "high_stats = high_tide['water_level'].agg(['mean', 'median', IQR])\n",
    "low_stats = low_tide['water_level'].agg(['mean', 'median', IQR])\n",
    "\n",
    "print(high_stats)\n",
    "print(low_stats)"
   ]
  },
  {
   "cell_type": "markdown",
   "id": "fc4bd6cf",
   "metadata": {},
   "source": [
    "### Pytanie 2"
   ]
  },
  {
   "cell_type": "markdown",
   "id": "220e8946",
   "metadata": {},
   "source": [
    "- Calculate the annual percentage of days with very high tide levels (90th percentile of high tide days) for each year and store the results as floats in a two-column DataFrame with the index reset."
   ]
  },
  {
   "cell_type": "code",
   "execution_count": 36,
   "id": "17b8eaa8",
   "metadata": {},
   "outputs": [],
   "source": [
    "total_high_tide_levels_per_year = high_tide.groupby('year')['water_level'].count()\n",
    "very_high_days = high_tide[high_tide['water_level'] > high_tide['water_level'].quantile(0.90)].groupby('year')['water_level'].count()\n",
    "very_high_ratio = (very_high_days/total_high_tide_levels_per_year).reset_index()"
   ]
  },
  {
   "cell_type": "markdown",
   "id": "c9ad9a17",
   "metadata": {},
   "source": [
    "### Pytanie 3"
   ]
  },
  {
   "cell_type": "markdown",
   "id": "810bdddb",
   "metadata": {},
   "source": [
    "- Calculate the same percentage for low-tide days (below the 10th percentile) and store the results in the same way."
   ]
  },
  {
   "cell_type": "code",
   "execution_count": 35,
   "id": "afdcb1e4",
   "metadata": {},
   "outputs": [],
   "source": [
    "# Calculate ratio of low tide days\n",
    "all_low_days = low_tide.groupby('year')['water_level'].count()\n",
    "very_low_days = low_tide[low_tide['water_level'] < low_tide['water_level'].quantile(0.10)].groupby('year')['water_level'].count()\n",
    "very_low_ratio = (very_low_days/all_low_days).reset_index()"
   ]
  },
  {
   "cell_type": "markdown",
   "id": "2259cc3a",
   "metadata": {},
   "source": [
    "# Solution"
   ]
  },
  {
   "cell_type": "code",
   "execution_count": null,
   "id": "57056f94",
   "metadata": {},
   "outputs": [],
   "source": [
    "# Package imports\n",
    "import pandas as pd                \n",
    "\n",
    "def IQR(column): \n",
    "    q25, q75 = column.quantile([0.25, 0.75])\n",
    "    return q75-q25\n",
    "\n",
    "# Load the data from London Bridge\n",
    "lb = pd.read_csv('data/10-11_London_Bridge.txt') # Comma-separated .txt file\n",
    "\n",
    "# Take only the first three columns\n",
    "df = lb.iloc[:, :3]\n",
    "\n",
    "# Rename columns\n",
    "df.columns = ['datetime', 'water_level', 'is_high_tide']\n",
    "\n",
    "# Convert to datetime\n",
    "df['datetime'] = pd.to_datetime(df['datetime'])\n",
    "\n",
    "# Convert to float\n",
    "df['water_level'] = df.water_level.astype(float)\n",
    "\n",
    "# Create extra month and year columns for easy access\n",
    "df['month'] = df['datetime'].dt.month\n",
    "df['year'] = df['datetime'].dt.year\n",
    "\n",
    "# Filter df for high and low tide\n",
    "tide_high = df[df['is_high_tide'] == 1]\n",
    "tide_low = df[df['is_high_tide'] == 0]\n",
    "\n",
    "# Create summary statistics\n",
    "high_statistics = tide_high['water_level'].agg(['mean', 'median', IQR])\n",
    "low_statistics = tide_low['water_level'].agg(['mean', 'median', IQR])\n",
    "\n",
    "# Calculate ratio of high tide days\n",
    "all_high_days = tide_high.groupby('year')['water_level'].count()\n",
    "very_high_days = tide_high[tide_high['water_level'] > tide_high['water_level'].quantile(0.90)].groupby('year')['water_level'].count()\n",
    "very_high_ratio = (very_high_days/all_high_days).reset_index()\n",
    "\n",
    "# Calculate ratio of low tide days\n",
    "all_low_days = tide_low.groupby('year')['water_level'].count()\n",
    "very_low_days = tide_low[tide_low['water_level'] < tide_low['water_level'].quantile(0.10)].groupby('year')['water_level'].count()\n",
    "very_low_ratio = (very_low_days/all_low_days).reset_index()\n",
    "\n",
    "solution = {'high_statistics': high_statistics, 'low_statistics': low_statistics, 'very_high_ratio': very_high_ratio, 'very_low_ratio':very_low_ratio}\n",
    "print(solution)"
   ]
  }
 ],
 "metadata": {
  "editor": "DataCamp Workspace",
  "kernelspec": {
   "display_name": "base",
   "language": "python",
   "name": "python3"
  },
  "language_info": {
   "codemirror_mode": {
    "name": "ipython",
    "version": 3
   },
   "file_extension": ".py",
   "mimetype": "text/x-python",
   "name": "python",
   "nbconvert_exporter": "python",
   "pygments_lexer": "ipython3",
   "version": "3.12.4"
  }
 },
 "nbformat": 4,
 "nbformat_minor": 5
}
