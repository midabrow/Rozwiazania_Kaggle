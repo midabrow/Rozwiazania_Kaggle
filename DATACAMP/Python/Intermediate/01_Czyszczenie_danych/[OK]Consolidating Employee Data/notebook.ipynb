{
 "cells": [
  {
   "cell_type": "markdown",
   "id": "243a702c-5afc-4606-8163-417b722e76af",
   "metadata": {},
   "source": [
    "You just got hired as the first and only data practitioner at a small business experiencing exponential growth. The company needs more structured processes, guidelines, and standards. Your first mission is to structure the human resources data. The data is currently scattered across teams and files and comes in various formats: Excel files, CSVs, JSON files...\n",
    "\n",
    "You'll work with the following data in the 'datasets' folder:\n",
    "- __Office addresses__\n",
    "    - Saved in `office_addresses.csv`. \n",
    "    - If the value for office is `NaN`, then the employee is remote.\n",
    "- __Employee addresses__\n",
    "    - Saved on the first tab of `employee_information.xlsx`.\n",
    "- __Employee emergency contacts__ \n",
    "    - Saved on the second tab of `employee_information.xlsx`; this tab is called `emergency_contacts`. \n",
    "    - However, this sheet was edited at some point, and ***the headers were removed***! The HR manager let you know that they should be: `employee_id`, `last_name`, `first_name`, `emergency_contact`, `emergency_contact_number`, and `relationship`.\n",
    "- __Employee roles, teams, and salaries__ \n",
    "    - This information has been exported from the company's human resources management system into a JSON file titled `employee_roles.json`. Here are the first few lines of that file:\n",
    "```\n",
    "{\"A2R5H9\":\n",
    "  {\n",
    "    \"title\": \"CEO\",\n",
    "    \"monthly_salary\": \"$4500\",\n",
    "    \"team\": \"Leadership\"\n",
    "  },\n",
    " ...\n",
    "}\n",
    "```"
   ]
  },
  {
   "cell_type": "markdown",
   "id": "b81a7f81",
   "metadata": {},
   "source": [
    "Read in, merge, and clean the four datasets to make a single combined pandas DataFrame.\n",
    "\n",
    "- Create a single pandas DataFrame called employees_final containing:\n",
    "  - Index: employee_id.\n",
    "  - Columns: Ensure the DataFrame contains only the following columns, in the exact order listed: employee_first_name, employee_last_name, employee_country, employee_city, employee_street, employee_street_number, emergency_contact, emergency_contact_number, relationship, monthly_salary, team, title, office, office_country, office_city, office_street, office_street_number.\n",
    "  - Assign employees to offices based on their country. For any columns that begin with office, replace missing data with \"Remote\"."
   ]
  },
  {
   "cell_type": "code",
   "execution_count": null,
   "id": "d0eb4f16-5a99-460d-a5ba-706b7ef0bbe7",
   "metadata": {
    "executionTime": 23,
    "id": "bA5ajAmk7XH6",
    "lastSuccessfullyExecutedCode": "import pandas as pd\n# Start coding here... "
   },
   "outputs": [
    {
     "data": {
      "application/vnd.microsoft.datawrangler.viewer.v0+json": {
       "columns": [
        {
         "name": "index",
         "rawType": "int64",
         "type": "integer"
        },
        {
         "name": "office",
         "rawType": "object",
         "type": "string"
        },
        {
         "name": "office_country",
         "rawType": "object",
         "type": "string"
        },
        {
         "name": "office_city",
         "rawType": "object",
         "type": "string"
        },
        {
         "name": "office_street",
         "rawType": "object",
         "type": "string"
        },
        {
         "name": "office_street_number",
         "rawType": "int64",
         "type": "integer"
        }
       ],
       "conversionMethod": "pd.DataFrame",
       "ref": "743f800a-22b7-4165-8a57-8b35277a4f79",
       "rows": [
        [
         "0",
         "Leuven Office",
         "BE",
         "Leuven",
         "Martelarenlaan",
         "38"
        ],
        [
         "1",
         "ESB Office",
         "US",
         "New York City",
         "Fifth Avenue",
         "350"
        ],
        [
         "2",
         "WeWork Office",
         "GB",
         "London",
         "Old Street",
         "207"
        ]
       ],
       "shape": {
        "columns": 5,
        "rows": 3
       }
      },
      "text/html": [
       "<div>\n",
       "<style scoped>\n",
       "    .dataframe tbody tr th:only-of-type {\n",
       "        vertical-align: middle;\n",
       "    }\n",
       "\n",
       "    .dataframe tbody tr th {\n",
       "        vertical-align: top;\n",
       "    }\n",
       "\n",
       "    .dataframe thead th {\n",
       "        text-align: right;\n",
       "    }\n",
       "</style>\n",
       "<table border=\"1\" class=\"dataframe\">\n",
       "  <thead>\n",
       "    <tr style=\"text-align: right;\">\n",
       "      <th></th>\n",
       "      <th>office</th>\n",
       "      <th>office_country</th>\n",
       "      <th>office_city</th>\n",
       "      <th>office_street</th>\n",
       "      <th>office_street_number</th>\n",
       "    </tr>\n",
       "  </thead>\n",
       "  <tbody>\n",
       "    <tr>\n",
       "      <th>0</th>\n",
       "      <td>Leuven Office</td>\n",
       "      <td>BE</td>\n",
       "      <td>Leuven</td>\n",
       "      <td>Martelarenlaan</td>\n",
       "      <td>38</td>\n",
       "    </tr>\n",
       "    <tr>\n",
       "      <th>1</th>\n",
       "      <td>ESB Office</td>\n",
       "      <td>US</td>\n",
       "      <td>New York City</td>\n",
       "      <td>Fifth Avenue</td>\n",
       "      <td>350</td>\n",
       "    </tr>\n",
       "    <tr>\n",
       "      <th>2</th>\n",
       "      <td>WeWork Office</td>\n",
       "      <td>GB</td>\n",
       "      <td>London</td>\n",
       "      <td>Old Street</td>\n",
       "      <td>207</td>\n",
       "    </tr>\n",
       "  </tbody>\n",
       "</table>\n",
       "</div>"
      ],
      "text/plain": [
       "          office office_country    office_city   office_street  \\\n",
       "0  Leuven Office             BE         Leuven  Martelarenlaan   \n",
       "1     ESB Office             US  New York City    Fifth Avenue   \n",
       "2  WeWork Office             GB         London      Old Street   \n",
       "\n",
       "   office_street_number  \n",
       "0                    38  \n",
       "1                   350  \n",
       "2                   207  "
      ]
     },
     "execution_count": 3,
     "metadata": {},
     "output_type": "execute_result"
    }
   ],
   "source": [
    "import pandas as pd\n",
    "\n",
    "offices = pd.read_csv(\"datasets/office_addresses.csv\")\n",
    "addresses = pd.read_excel(\"datasets/employee_information.xlsx\")\n",
    "\n",
    "\n",
    "offices.head()"
   ]
  },
  {
   "cell_type": "code",
   "execution_count": null,
   "id": "6b5c4cde",
   "metadata": {},
   "outputs": [
    {
     "data": {
      "application/vnd.microsoft.datawrangler.viewer.v0+json": {
       "columns": [
        {
         "name": "index",
         "rawType": "int64",
         "type": "integer"
        },
        {
         "name": "employee_id",
         "rawType": "object",
         "type": "string"
        },
        {
         "name": "employee_last_name",
         "rawType": "object",
         "type": "string"
        },
        {
         "name": "employee_first_name",
         "rawType": "object",
         "type": "string"
        },
        {
         "name": "employee_country",
         "rawType": "object",
         "type": "string"
        },
        {
         "name": "employee_city",
         "rawType": "object",
         "type": "string"
        },
        {
         "name": "employee_street",
         "rawType": "object",
         "type": "string"
        },
        {
         "name": "employee_street_number",
         "rawType": "int64",
         "type": "integer"
        }
       ],
       "conversionMethod": "pd.DataFrame",
       "ref": "10173609-16ae-4aa0-b590-dfd90bb0f934",
       "rows": [
        [
         "0",
         "A2R5H9",
         "Hunman",
         "Jax",
         "BE",
         "Leuven",
         "Grote Markt",
         "9"
        ],
        [
         "1",
         "H8K0L6",
         "Siff",
         "Tara",
         "GB",
         "London",
         "Baker Street",
         "221"
        ],
        [
         "2",
         "G4R7V0",
         "Sagal",
         "Gemma",
         "US",
         "New-York",
         "Perry Street",
         "66"
        ],
        [
         "3",
         "M1Z7U9",
         "Coates",
         "Tig",
         "FR",
         "Paris",
         "Rue de l'Université",
         "7"
        ]
       ],
       "shape": {
        "columns": 7,
        "rows": 4
       }
      },
      "text/html": [
       "<div>\n",
       "<style scoped>\n",
       "    .dataframe tbody tr th:only-of-type {\n",
       "        vertical-align: middle;\n",
       "    }\n",
       "\n",
       "    .dataframe tbody tr th {\n",
       "        vertical-align: top;\n",
       "    }\n",
       "\n",
       "    .dataframe thead th {\n",
       "        text-align: right;\n",
       "    }\n",
       "</style>\n",
       "<table border=\"1\" class=\"dataframe\">\n",
       "  <thead>\n",
       "    <tr style=\"text-align: right;\">\n",
       "      <th></th>\n",
       "      <th>employee_id</th>\n",
       "      <th>employee_last_name</th>\n",
       "      <th>employee_first_name</th>\n",
       "      <th>employee_country</th>\n",
       "      <th>employee_city</th>\n",
       "      <th>employee_street</th>\n",
       "      <th>employee_street_number</th>\n",
       "    </tr>\n",
       "  </thead>\n",
       "  <tbody>\n",
       "    <tr>\n",
       "      <th>0</th>\n",
       "      <td>A2R5H9</td>\n",
       "      <td>Hunman</td>\n",
       "      <td>Jax</td>\n",
       "      <td>BE</td>\n",
       "      <td>Leuven</td>\n",
       "      <td>Grote Markt</td>\n",
       "      <td>9</td>\n",
       "    </tr>\n",
       "    <tr>\n",
       "      <th>1</th>\n",
       "      <td>H8K0L6</td>\n",
       "      <td>Siff</td>\n",
       "      <td>Tara</td>\n",
       "      <td>GB</td>\n",
       "      <td>London</td>\n",
       "      <td>Baker Street</td>\n",
       "      <td>221</td>\n",
       "    </tr>\n",
       "    <tr>\n",
       "      <th>2</th>\n",
       "      <td>G4R7V0</td>\n",
       "      <td>Sagal</td>\n",
       "      <td>Gemma</td>\n",
       "      <td>US</td>\n",
       "      <td>New-York</td>\n",
       "      <td>Perry Street</td>\n",
       "      <td>66</td>\n",
       "    </tr>\n",
       "    <tr>\n",
       "      <th>3</th>\n",
       "      <td>M1Z7U9</td>\n",
       "      <td>Coates</td>\n",
       "      <td>Tig</td>\n",
       "      <td>FR</td>\n",
       "      <td>Paris</td>\n",
       "      <td>Rue de l'Université</td>\n",
       "      <td>7</td>\n",
       "    </tr>\n",
       "  </tbody>\n",
       "</table>\n",
       "</div>"
      ],
      "text/plain": [
       "  employee_id employee_last_name employee_first_name employee_country  \\\n",
       "0      A2R5H9             Hunman                 Jax               BE   \n",
       "1      H8K0L6               Siff                Tara               GB   \n",
       "2      G4R7V0              Sagal               Gemma               US   \n",
       "3      M1Z7U9             Coates                 Tig               FR   \n",
       "\n",
       "  employee_city      employee_street  employee_street_number  \n",
       "0        Leuven          Grote Markt                       9  \n",
       "1        London         Baker Street                     221  \n",
       "2      New-York         Perry Street                      66  \n",
       "3         Paris  Rue de l'Université                       7  "
      ]
     },
     "execution_count": 4,
     "metadata": {},
     "output_type": "execute_result"
    }
   ],
   "source": [
    "addresses.head()"
   ]
  },
  {
   "cell_type": "code",
   "execution_count": 5,
   "id": "e912b9a8",
   "metadata": {},
   "outputs": [
    {
     "data": {
      "application/vnd.microsoft.datawrangler.viewer.v0+json": {
       "columns": [
        {
         "name": "index",
         "rawType": "int64",
         "type": "integer"
        },
        {
         "name": "employee_id",
         "rawType": "object",
         "type": "string"
        },
        {
         "name": "last_name",
         "rawType": "object",
         "type": "string"
        },
        {
         "name": "first_name",
         "rawType": "object",
         "type": "string"
        },
        {
         "name": "emergency_contact",
         "rawType": "object",
         "type": "string"
        },
        {
         "name": "emergency_contact_number",
         "rawType": "object",
         "type": "string"
        },
        {
         "name": "relationship",
         "rawType": "object",
         "type": "string"
        }
       ],
       "conversionMethod": "pd.DataFrame",
       "ref": "8cc8f763-ee73-4abe-9405-1a6285e0f847",
       "rows": [
        [
         "0",
         "A2R5H9",
         "Hunman",
         "Jax",
         "Opie Hurst",
         "+32-456-5556-84",
         "Brother"
        ],
        [
         "1",
         "H8K0L6",
         "Siff",
         "Tara",
         "Wendy de Matteo",
         "+44-020-5554-333",
         "Sister"
        ],
        [
         "2",
         "G4R7V0",
         "Sagal",
         "Gemma",
         "John Newmark",
         "+1-202-555-194",
         "Husband"
        ],
        [
         "3",
         "M1Z7U9",
         "Coates",
         "Tig",
         "Venus Noone",
         "+1-202-555-0130",
         "Wife"
        ]
       ],
       "shape": {
        "columns": 6,
        "rows": 4
       }
      },
      "text/html": [
       "<div>\n",
       "<style scoped>\n",
       "    .dataframe tbody tr th:only-of-type {\n",
       "        vertical-align: middle;\n",
       "    }\n",
       "\n",
       "    .dataframe tbody tr th {\n",
       "        vertical-align: top;\n",
       "    }\n",
       "\n",
       "    .dataframe thead th {\n",
       "        text-align: right;\n",
       "    }\n",
       "</style>\n",
       "<table border=\"1\" class=\"dataframe\">\n",
       "  <thead>\n",
       "    <tr style=\"text-align: right;\">\n",
       "      <th></th>\n",
       "      <th>employee_id</th>\n",
       "      <th>last_name</th>\n",
       "      <th>first_name</th>\n",
       "      <th>emergency_contact</th>\n",
       "      <th>emergency_contact_number</th>\n",
       "      <th>relationship</th>\n",
       "    </tr>\n",
       "  </thead>\n",
       "  <tbody>\n",
       "    <tr>\n",
       "      <th>0</th>\n",
       "      <td>A2R5H9</td>\n",
       "      <td>Hunman</td>\n",
       "      <td>Jax</td>\n",
       "      <td>Opie Hurst</td>\n",
       "      <td>+32-456-5556-84</td>\n",
       "      <td>Brother</td>\n",
       "    </tr>\n",
       "    <tr>\n",
       "      <th>1</th>\n",
       "      <td>H8K0L6</td>\n",
       "      <td>Siff</td>\n",
       "      <td>Tara</td>\n",
       "      <td>Wendy de Matteo</td>\n",
       "      <td>+44-020-5554-333</td>\n",
       "      <td>Sister</td>\n",
       "    </tr>\n",
       "    <tr>\n",
       "      <th>2</th>\n",
       "      <td>G4R7V0</td>\n",
       "      <td>Sagal</td>\n",
       "      <td>Gemma</td>\n",
       "      <td>John Newmark</td>\n",
       "      <td>+1-202-555-194</td>\n",
       "      <td>Husband</td>\n",
       "    </tr>\n",
       "    <tr>\n",
       "      <th>3</th>\n",
       "      <td>M1Z7U9</td>\n",
       "      <td>Coates</td>\n",
       "      <td>Tig</td>\n",
       "      <td>Venus Noone</td>\n",
       "      <td>+1-202-555-0130</td>\n",
       "      <td>Wife</td>\n",
       "    </tr>\n",
       "  </tbody>\n",
       "</table>\n",
       "</div>"
      ],
      "text/plain": [
       "  employee_id last_name first_name emergency_contact emergency_contact_number  \\\n",
       "0      A2R5H9    Hunman        Jax        Opie Hurst          +32-456-5556-84   \n",
       "1      H8K0L6      Siff       Tara   Wendy de Matteo         +44-020-5554-333   \n",
       "2      G4R7V0     Sagal      Gemma      John Newmark           +1-202-555-194   \n",
       "3      M1Z7U9    Coates        Tig       Venus Noone          +1-202-555-0130   \n",
       "\n",
       "  relationship  \n",
       "0      Brother  \n",
       "1       Sister  \n",
       "2      Husband  \n",
       "3         Wife  "
      ]
     },
     "execution_count": 5,
     "metadata": {},
     "output_type": "execute_result"
    }
   ],
   "source": [
    "emergency_contacts_header = ['employee_id', 'last_name', 'first_name', 'emergency_contact', 'emergency_contact_number', 'relationship']\n",
    "\n",
    "emergency_contacts = pd.read_excel(\"datasets/employee_information.xlsx\", \n",
    "                                   sheet_name=\"emergency_contacts\", \n",
    "                                   header=None,\n",
    "                                   names=emergency_contacts_header)\n",
    "\n",
    "emergency_contacts.head()"
   ]
  },
  {
   "cell_type": "code",
   "execution_count": 8,
   "id": "d8c93024",
   "metadata": {},
   "outputs": [
    {
     "data": {
      "application/vnd.microsoft.datawrangler.viewer.v0+json": {
       "columns": [
        {
         "name": "index",
         "rawType": "object",
         "type": "string"
        },
        {
         "name": "A2R5H9",
         "rawType": "object",
         "type": "string"
        },
        {
         "name": "H8K0L6",
         "rawType": "object",
         "type": "string"
        },
        {
         "name": "G4R7V0",
         "rawType": "object",
         "type": "string"
        },
        {
         "name": "M1Z7U9",
         "rawType": "object",
         "type": "string"
        }
       ],
       "conversionMethod": "pd.DataFrame",
       "ref": "1e1661b0-cd47-4869-99da-83d6d2126051",
       "rows": [
        [
         "title",
         "CEO",
         "CFO",
         "Business Developer",
         "Office Manager"
        ],
        [
         "monthly_salary",
         "$4500",
         "$4500",
         "$3000",
         "$2000"
        ],
        [
         "team",
         "Leadership",
         "Leadership",
         "Sales",
         "People Operations"
        ]
       ],
       "shape": {
        "columns": 4,
        "rows": 3
       }
      },
      "text/html": [
       "<div>\n",
       "<style scoped>\n",
       "    .dataframe tbody tr th:only-of-type {\n",
       "        vertical-align: middle;\n",
       "    }\n",
       "\n",
       "    .dataframe tbody tr th {\n",
       "        vertical-align: top;\n",
       "    }\n",
       "\n",
       "    .dataframe thead th {\n",
       "        text-align: right;\n",
       "    }\n",
       "</style>\n",
       "<table border=\"1\" class=\"dataframe\">\n",
       "  <thead>\n",
       "    <tr style=\"text-align: right;\">\n",
       "      <th></th>\n",
       "      <th>A2R5H9</th>\n",
       "      <th>H8K0L6</th>\n",
       "      <th>G4R7V0</th>\n",
       "      <th>M1Z7U9</th>\n",
       "    </tr>\n",
       "  </thead>\n",
       "  <tbody>\n",
       "    <tr>\n",
       "      <th>title</th>\n",
       "      <td>CEO</td>\n",
       "      <td>CFO</td>\n",
       "      <td>Business Developer</td>\n",
       "      <td>Office Manager</td>\n",
       "    </tr>\n",
       "    <tr>\n",
       "      <th>monthly_salary</th>\n",
       "      <td>$4500</td>\n",
       "      <td>$4500</td>\n",
       "      <td>$3000</td>\n",
       "      <td>$2000</td>\n",
       "    </tr>\n",
       "    <tr>\n",
       "      <th>team</th>\n",
       "      <td>Leadership</td>\n",
       "      <td>Leadership</td>\n",
       "      <td>Sales</td>\n",
       "      <td>People Operations</td>\n",
       "    </tr>\n",
       "  </tbody>\n",
       "</table>\n",
       "</div>"
      ],
      "text/plain": [
       "                    A2R5H9      H8K0L6              G4R7V0             M1Z7U9\n",
       "title                  CEO         CFO  Business Developer     Office Manager\n",
       "monthly_salary       $4500       $4500               $3000              $2000\n",
       "team            Leadership  Leadership               Sales  People Operations"
      ]
     },
     "execution_count": 8,
     "metadata": {},
     "output_type": "execute_result"
    }
   ],
   "source": [
    "roles = pd.read_json(\"datasets/employee_roles.json\")\n",
    "roles.head()"
   ]
  },
  {
   "cell_type": "markdown",
   "id": "0624aecf",
   "metadata": {},
   "source": [
    "### Mergowanie"
   ]
  },
  {
   "cell_type": "code",
   "execution_count": 9,
   "id": "ee484184",
   "metadata": {},
   "outputs": [],
   "source": [
    "employees = pd.merge(addresses, offices, left_on='employee_country', right_on='office_country', how='left')\n",
    "employees = pd.merge(employees, emergency_contacts, on='employee_id')\n",
    "employees = pd.merge(employees, roles, left_on='employee_id', right_on=roles.index)\n"
   ]
  },
  {
   "cell_type": "markdown",
   "id": "7e5340d9",
   "metadata": {},
   "source": [
    "### Zamiana brakujących wartości w kolumnach zaczynających się na 'office'"
   ]
  },
  {
   "cell_type": "code",
   "execution_count": 12,
   "id": "0e628553",
   "metadata": {},
   "outputs": [],
   "source": [
    "for col in [\"office\", \"office_country\", \"office_city\", \"office_street\", \"office_street_number\"]:\n",
    "    employees.fillna({col: 'Remote'}, inplace=True)"
   ]
  },
  {
   "cell_type": "markdown",
   "id": "15954a9f",
   "metadata": {},
   "source": [
    "### Utworzenie finalnego df:"
   ]
  },
  {
   "cell_type": "code",
   "execution_count": null,
   "id": "9c23f95a",
   "metadata": {},
   "outputs": [],
   "source": [
    "final_columns = [\"employee_id\", \"employee_first_name\", \"employee_last_name\", \"employee_country\", \n",
    "                 \"employee_city\", \"employee_street\", \"employee_street_number\", \n",
    "                 \"emergency_contact\", \"emergency_contact_number\", \"relationship\", \n",
    "                 \"monthly_salary\", \"team\", \"title\", \"office\", \"office_country\", \n",
    "                 \"office_city\", \"office_street\", \"office_street_number\"]\n",
    "\n",
    "employees_final = employees[final_columns]\n",
    "employees_final"
   ]
  },
  {
   "cell_type": "markdown",
   "id": "f738e942",
   "metadata": {},
   "source": [
    "# Solution"
   ]
  },
  {
   "cell_type": "code",
   "execution_count": null,
   "id": "431d602b",
   "metadata": {},
   "outputs": [],
   "source": [
    "# Import pandas\n",
    "import pandas as pd\n",
    "\n",
    "# Read in office_addresses.csv\n",
    "offices = pd.read_csv(\"datasets/office_addresses.csv\")\n",
    "\n",
    "# Read in employee_information.xlsx\n",
    "addresses = pd.read_excel(\"datasets/employee_information.xlsx\")\n",
    "\n",
    "# Declare a list of new column names\n",
    "emergency_contacts_header = [\"employee_id\", \"last_name\", \"first_name\",\n",
    "                             \"emergency_contact\", \"emergency_contact_number\", \"relationship\"]\n",
    "\n",
    "# Read in employee_information.xlsx\n",
    "emergency_contacts = pd.read_excel(\"datasets/employee_information.xlsx\", \n",
    "                                   sheet_name=\"emergency_contacts\", \n",
    "                                   header=None,\n",
    "                                   names=emergency_contacts_header)\n",
    "\n",
    "# Read in employee_roles.json\n",
    "roles = pd.read_json(\"datasets/employee_roles.json\", orient=\"index\")\n",
    "\n",
    "# Merge addresses with offices\n",
    "employees = addresses.merge(offices, left_on=\"employee_country\", right_on=\"office_country\", how=\"left\")\n",
    "\n",
    "# Merge employees with roles\n",
    "employees = employees.merge(roles, left_on=\"employee_id\", right_on=roles.index)\n",
    "\n",
    "# Merge employees with emergency_contacts\n",
    "employees = employees.merge(emergency_contacts, on=\"employee_id\")\n",
    "\n",
    "# Fill null values in office columns\n",
    "for col in [\"office\", \"office_country\", \"office_city\", \"office_street\", \"office_street_number\"]:\n",
    "    employees[col].fillna(\"Remote\", inplace=True)\n",
    "    \n",
    "# Create final columns\n",
    "final_columns = [\"employee_id\", \"employee_first_name\", \"employee_last_name\", \"employee_country\", \n",
    "                 \"employee_city\", \"employee_street\", \"employee_street_number\", \n",
    "                 \"emergency_contact\", \"emergency_contact_number\", \"relationship\", \n",
    "                 \"monthly_salary\", \"team\", \"title\", \"office\", \"office_country\", \n",
    "                 \"office_city\", \"office_street\", \"office_street_number\"]\n",
    "\n",
    "# Subset for the required columns\n",
    "employees_final = employees[final_columns]\n",
    "\n",
    "# Set employee_id as the index\n",
    "employees_final.set_index(\"employee_id\", inplace=True)"
   ]
  }
 ],
 "metadata": {
  "colab": {
   "name": "Welcome to DataCamp Workspaces.ipynb",
   "provenance": []
  },
  "kernelspec": {
   "display_name": "base",
   "language": "python",
   "name": "python3"
  },
  "language_info": {
   "codemirror_mode": {
    "name": "ipython",
    "version": 3
   },
   "file_extension": ".py",
   "mimetype": "text/x-python",
   "name": "python",
   "nbconvert_exporter": "python",
   "pygments_lexer": "ipython3",
   "version": "3.12.4"
  }
 },
 "nbformat": 4,
 "nbformat_minor": 5
}
