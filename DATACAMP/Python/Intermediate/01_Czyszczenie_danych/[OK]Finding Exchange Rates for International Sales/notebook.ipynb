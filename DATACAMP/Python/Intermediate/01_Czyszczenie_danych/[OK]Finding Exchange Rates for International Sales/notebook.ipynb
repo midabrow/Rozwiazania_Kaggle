{
 "cells": [
  {
   "cell_type": "markdown",
   "id": "377201b3-e64a-46d5-87fc-3ec811e8b349",
   "metadata": {
    "collapsed": false,
    "jupyter": {
     "outputs_hidden": false,
     "source_hidden": false
    }
   },
   "source": [
    "![Header image](resources/image.jpg)\n",
    "\n",
    "Exciting times! \n",
    "\n",
    "You've been running our very successful gadget webshop 'DataGadgets' for a few years and have recently expanded into new territories. While you've been focussed on the US market for the first five years of our existence, you now are shipping our cool data gadgets to the UK and Europe, too! But now our in-house built reporting has broken! Transactions don't only come in USD, but you're also receiving transactions in EUR and GPB. \n",
    "\n",
    "To better understand the volume of transactions being made, you should convert the non-USD transactions to USD and sum up the total. To do this, however, you'll need to use the proper exchange rates. \n",
    "\n",
    "In this project, you'll start with a CSV file containing all e-commerce transactions made on January 21st, but in their original currencies. Your job is to calculate the total sum in USD of all transactions so you know how much USD you sold on January 21st. To do this, you'll need to convert any non-USD transactions to USD using the exchange rate from January 21st, 2024. \n",
    "\n",
    "To get the exchange rates from January 21st, 2024, you'll rely on [VAT Comply rates API's](https://www.vatcomply.com/documentation#rates) public and free currency exchange API. You'll also use `pandas` to load the CSV file into a DataFrame and the `requests` package to make interacting with the API easier. \n",
    "\n",
    "You need to update the `orders` DataFrame so the final version has two new columns: `exchange_rate` and `amount_usd`. The final version should look as follows:\n",
    "\n",
    "| `amount` | `currency` | `exchange_rate` | `amount_usd` |\n",
    "|-|-|-|-|\n",
    "| 43.75 | EUR | ... | ... |\n",
    "| 385.5 | GBP | ... | ... |\n",
    "| 495.5 | GBP | ... | ... |\n",
    "| 117.99 | GBP | ... | ... |\n",
    "| 624 | USD | ... | ... |"
   ]
  },
  {
   "cell_type": "markdown",
   "id": "0ca64243",
   "metadata": {},
   "source": [
    "- Query the VAT Comply rates API 'https://api.vatcomply.com/rates', using parameters to get the exchange rates for a base currency of 'USD' and the date of '2024-01-21'.\n",
    "- Using the orders DataFrame and the exchange rate from the API, calculate the total amount sold in USD, saving as a variable called total_usd_sales.\n",
    "- Ensure the final version of the orders DataFrame matches the requirements detailed in the Workbook.\n",
    "  \n",
    "*The VAT Comply rates API is free to use and doesn't require registration/authentication."
   ]
  },
  {
   "cell_type": "code",
   "execution_count": 1,
   "id": "1a3a3879-8758-438c-9062-c24f4d8a15e1",
   "metadata": {
    "executionCancelledAt": null,
    "executionTime": null,
    "lastExecutedAt": null,
    "lastExecutedByKernel": null,
    "lastScheduledRunId": null,
    "lastSuccessfullyExecutedCode": null,
    "outputsMetadata": {
     "0": {
      "height": 222,
      "type": "dataFrame"
     }
    }
   },
   "outputs": [
    {
     "data": {
      "application/vnd.microsoft.datawrangler.viewer.v0+json": {
       "columns": [
        {
         "name": "index",
         "rawType": "int64",
         "type": "integer"
        },
        {
         "name": "amount",
         "rawType": "float64",
         "type": "float"
        },
        {
         "name": "currency",
         "rawType": "object",
         "type": "string"
        }
       ],
       "conversionMethod": "pd.DataFrame",
       "ref": "1fb677a2-8214-4416-8dbb-b4f910b44e62",
       "rows": [
        [
         "0",
         "43.75",
         "EUR"
        ],
        [
         "1",
         "385.5",
         "GBP"
        ],
        [
         "2",
         "495.5",
         "GBP"
        ],
        [
         "3",
         "117.99",
         "GBP"
        ],
        [
         "4",
         "624.0",
         "USD"
        ]
       ],
       "shape": {
        "columns": 2,
        "rows": 5
       }
      },
      "text/html": [
       "<div>\n",
       "<style scoped>\n",
       "    .dataframe tbody tr th:only-of-type {\n",
       "        vertical-align: middle;\n",
       "    }\n",
       "\n",
       "    .dataframe tbody tr th {\n",
       "        vertical-align: top;\n",
       "    }\n",
       "\n",
       "    .dataframe thead th {\n",
       "        text-align: right;\n",
       "    }\n",
       "</style>\n",
       "<table border=\"1\" class=\"dataframe\">\n",
       "  <thead>\n",
       "    <tr style=\"text-align: right;\">\n",
       "      <th></th>\n",
       "      <th>amount</th>\n",
       "      <th>currency</th>\n",
       "    </tr>\n",
       "  </thead>\n",
       "  <tbody>\n",
       "    <tr>\n",
       "      <th>0</th>\n",
       "      <td>43.75</td>\n",
       "      <td>EUR</td>\n",
       "    </tr>\n",
       "    <tr>\n",
       "      <th>1</th>\n",
       "      <td>385.50</td>\n",
       "      <td>GBP</td>\n",
       "    </tr>\n",
       "    <tr>\n",
       "      <th>2</th>\n",
       "      <td>495.50</td>\n",
       "      <td>GBP</td>\n",
       "    </tr>\n",
       "    <tr>\n",
       "      <th>3</th>\n",
       "      <td>117.99</td>\n",
       "      <td>GBP</td>\n",
       "    </tr>\n",
       "    <tr>\n",
       "      <th>4</th>\n",
       "      <td>624.00</td>\n",
       "      <td>USD</td>\n",
       "    </tr>\n",
       "  </tbody>\n",
       "</table>\n",
       "</div>"
      ],
      "text/plain": [
       "   amount currency\n",
       "0   43.75      EUR\n",
       "1  385.50      GBP\n",
       "2  495.50      GBP\n",
       "3  117.99      GBP\n",
       "4  624.00      USD"
      ]
     },
     "execution_count": 1,
     "metadata": {},
     "output_type": "execute_result"
    }
   ],
   "source": [
    "# Import required packages/libraries\n",
    "import pandas as pd\n",
    "import requests\n",
    "\n",
    "# Read the CSV file into a DataFrame\n",
    "orders = pd.read_csv('data/orders-2024-01-21.csv')\n",
    "orders.head()"
   ]
  },
  {
   "cell_type": "code",
   "execution_count": 4,
   "id": "53db96bd-df3b-4d11-8d2d-d283fa11952a",
   "metadata": {},
   "outputs": [
    {
     "data": {
      "text/plain": [
       "{'EUR': 0.9262689885142646,\n",
       " 'USD': 1.0,\n",
       " 'JPY': 147.49907373101152,\n",
       " 'BGN': 1.8115968877361988,\n",
       " 'CZK': 23.20025935531679,\n",
       " 'DKK': 6.909318266024454,\n",
       " 'GBP': 0.7761207854761023,\n",
       " 'HUF': 371.13745831789555,\n",
       " 'PLN': 3.869025565024083,\n",
       " 'RON': 4.608558725453872,\n",
       " 'SEK': 10.153760652093368,\n",
       " 'CHF': 0.8859762875138941,\n",
       " 'ISK': 136.06891441274547,\n",
       " 'NOK': 10.852167469433123,\n",
       " 'TRY': 36.42395331604298,\n",
       " 'AUD': 1.5780844757317527,\n",
       " 'BRL': 5.751018895887366,\n",
       " 'CAD': 1.436550574286773,\n",
       " 'CNY': 7.247776954427566,\n",
       " 'HKD': 7.773434605409412,\n",
       " 'IDR': 16367.951092997408,\n",
       " 'ILS': 3.614579473879215,\n",
       " 'INR': 87.07669507224898,\n",
       " 'KRW': 1448.249351611708,\n",
       " 'MXN': 20.40311226380141,\n",
       " 'MYR': 4.427473138199333,\n",
       " 'NZD': 1.7423119673953318,\n",
       " 'PHP': 57.358280844757324,\n",
       " 'SGD': 1.3326231937754727,\n",
       " 'THB': 33.71526491293072,\n",
       " 'ZAR': 18.301130048165987}"
      ]
     },
     "execution_count": 4,
     "metadata": {},
     "output_type": "execute_result"
    }
   ],
   "source": [
    "request_url = 'https://api.vatcomply.com/rates'\n",
    "\n",
    "params = {\n",
    "    'date': '2025-03-07',\n",
    "    'base': 'USD'\n",
    "}\n",
    "response = requests.get(request_url, params=params)\n",
    "rates = response.json()['rates']\n",
    "rates"
   ]
  },
  {
   "cell_type": "code",
   "execution_count": 5,
   "id": "dad341de",
   "metadata": {},
   "outputs": [
    {
     "data": {
      "application/vnd.microsoft.datawrangler.viewer.v0+json": {
       "columns": [
        {
         "name": "index",
         "rawType": "int64",
         "type": "integer"
        },
        {
         "name": "amount",
         "rawType": "float64",
         "type": "float"
        },
        {
         "name": "currency",
         "rawType": "object",
         "type": "string"
        },
        {
         "name": "exchange_rate",
         "rawType": "float64",
         "type": "float"
        }
       ],
       "conversionMethod": "pd.DataFrame",
       "ref": "e0dff960-1025-4b00-a61d-f4f00816bcc7",
       "rows": [
        [
         "0",
         "43.75",
         "EUR",
         "0.9262689885142646"
        ],
        [
         "1",
         "385.5",
         "GBP",
         "0.7761207854761023"
        ],
        [
         "2",
         "495.5",
         "GBP",
         "0.7761207854761023"
        ],
        [
         "3",
         "117.99",
         "GBP",
         "0.7761207854761023"
        ],
        [
         "4",
         "624.0",
         "USD",
         "1.0"
        ],
        [
         "5",
         "522.99",
         "GBP",
         "0.7761207854761023"
        ],
        [
         "6",
         "951.75",
         "USD",
         "1.0"
        ],
        [
         "7",
         "703.75",
         "GBP",
         "0.7761207854761023"
        ],
        [
         "8",
         "371.99",
         "USD",
         "1.0"
        ],
        [
         "9",
         "613.05",
         "USD",
         "1.0"
        ],
        [
         "10",
         "843.99",
         "GBP",
         "0.7761207854761023"
        ],
        [
         "11",
         "647.25",
         "USD",
         "1.0"
        ],
        [
         "12",
         "650.05",
         "EUR",
         "0.9262689885142646"
        ],
        [
         "13",
         "168.05",
         "USD",
         "1.0"
        ],
        [
         "14",
         "474.25",
         "GBP",
         "0.7761207854761023"
        ],
        [
         "15",
         "963.9",
         "USD",
         "1.0"
        ],
        [
         "16",
         "831.0",
         "GBP",
         "0.7761207854761023"
        ],
        [
         "17",
         "649.75",
         "USD",
         "1.0"
        ],
        [
         "18",
         "797.0",
         "EUR",
         "0.9262689885142646"
        ],
        [
         "19",
         "824.1",
         "GBP",
         "0.7761207854761023"
        ],
        [
         "20",
         "213.1",
         "EUR",
         "0.9262689885142646"
        ],
        [
         "21",
         "46.9",
         "EUR",
         "0.9262689885142646"
        ],
        [
         "22",
         "397.05",
         "USD",
         "1.0"
        ],
        [
         "23",
         "695.05",
         "GBP",
         "0.7761207854761023"
        ],
        [
         "24",
         "656.25",
         "USD",
         "1.0"
        ],
        [
         "25",
         "507.49",
         "GBP",
         "0.7761207854761023"
        ],
        [
         "26",
         "935.99",
         "GBP",
         "0.7761207854761023"
        ],
        [
         "27",
         "387.1",
         "GBP",
         "0.7761207854761023"
        ],
        [
         "28",
         "902.9",
         "GBP",
         "0.7761207854761023"
        ],
        [
         "29",
         "715.05",
         "EUR",
         "0.9262689885142646"
        ],
        [
         "30",
         "377.95",
         "USD",
         "1.0"
        ],
        [
         "31",
         "485.0",
         "USD",
         "1.0"
        ],
        [
         "32",
         "911.1",
         "GBP",
         "0.7761207854761023"
        ],
        [
         "33",
         "759.9",
         "GBP",
         "0.7761207854761023"
        ],
        [
         "34",
         "163.49",
         "USD",
         "1.0"
        ],
        [
         "35",
         "602.99",
         "USD",
         "1.0"
        ],
        [
         "36",
         "421.99",
         "GBP",
         "0.7761207854761023"
        ],
        [
         "37",
         "628.49",
         "USD",
         "1.0"
        ],
        [
         "38",
         "322.25",
         "USD",
         "1.0"
        ],
        [
         "39",
         "199.1",
         "EUR",
         "0.9262689885142646"
        ],
        [
         "40",
         "820.99",
         "GBP",
         "0.7761207854761023"
        ],
        [
         "41",
         "323.05",
         "EUR",
         "0.9262689885142646"
        ],
        [
         "42",
         "11.05",
         "GBP",
         "0.7761207854761023"
        ],
        [
         "43",
         "465.1",
         "GBP",
         "0.7761207854761023"
        ],
        [
         "44",
         "955.0",
         "USD",
         "1.0"
        ],
        [
         "45",
         "649.99",
         "GBP",
         "0.7761207854761023"
        ],
        [
         "46",
         "813.95",
         "GBP",
         "0.7761207854761023"
        ],
        [
         "47",
         "547.0",
         "GBP",
         "0.7761207854761023"
        ],
        [
         "48",
         "681.99",
         "GBP",
         "0.7761207854761023"
        ],
        [
         "49",
         "541.99",
         "EUR",
         "0.9262689885142646"
        ]
       ],
       "shape": {
        "columns": 3,
        "rows": 723
       }
      },
      "text/html": [
       "<div>\n",
       "<style scoped>\n",
       "    .dataframe tbody tr th:only-of-type {\n",
       "        vertical-align: middle;\n",
       "    }\n",
       "\n",
       "    .dataframe tbody tr th {\n",
       "        vertical-align: top;\n",
       "    }\n",
       "\n",
       "    .dataframe thead th {\n",
       "        text-align: right;\n",
       "    }\n",
       "</style>\n",
       "<table border=\"1\" class=\"dataframe\">\n",
       "  <thead>\n",
       "    <tr style=\"text-align: right;\">\n",
       "      <th></th>\n",
       "      <th>amount</th>\n",
       "      <th>currency</th>\n",
       "      <th>exchange_rate</th>\n",
       "    </tr>\n",
       "  </thead>\n",
       "  <tbody>\n",
       "    <tr>\n",
       "      <th>0</th>\n",
       "      <td>43.75</td>\n",
       "      <td>EUR</td>\n",
       "      <td>0.926269</td>\n",
       "    </tr>\n",
       "    <tr>\n",
       "      <th>1</th>\n",
       "      <td>385.50</td>\n",
       "      <td>GBP</td>\n",
       "      <td>0.776121</td>\n",
       "    </tr>\n",
       "    <tr>\n",
       "      <th>2</th>\n",
       "      <td>495.50</td>\n",
       "      <td>GBP</td>\n",
       "      <td>0.776121</td>\n",
       "    </tr>\n",
       "    <tr>\n",
       "      <th>3</th>\n",
       "      <td>117.99</td>\n",
       "      <td>GBP</td>\n",
       "      <td>0.776121</td>\n",
       "    </tr>\n",
       "    <tr>\n",
       "      <th>4</th>\n",
       "      <td>624.00</td>\n",
       "      <td>USD</td>\n",
       "      <td>1.000000</td>\n",
       "    </tr>\n",
       "    <tr>\n",
       "      <th>...</th>\n",
       "      <td>...</td>\n",
       "      <td>...</td>\n",
       "      <td>...</td>\n",
       "    </tr>\n",
       "    <tr>\n",
       "      <th>718</th>\n",
       "      <td>915.50</td>\n",
       "      <td>USD</td>\n",
       "      <td>1.000000</td>\n",
       "    </tr>\n",
       "    <tr>\n",
       "      <th>719</th>\n",
       "      <td>835.05</td>\n",
       "      <td>EUR</td>\n",
       "      <td>0.926269</td>\n",
       "    </tr>\n",
       "    <tr>\n",
       "      <th>720</th>\n",
       "      <td>891.50</td>\n",
       "      <td>GBP</td>\n",
       "      <td>0.776121</td>\n",
       "    </tr>\n",
       "    <tr>\n",
       "      <th>721</th>\n",
       "      <td>414.75</td>\n",
       "      <td>USD</td>\n",
       "      <td>1.000000</td>\n",
       "    </tr>\n",
       "    <tr>\n",
       "      <th>722</th>\n",
       "      <td>766.90</td>\n",
       "      <td>USD</td>\n",
       "      <td>1.000000</td>\n",
       "    </tr>\n",
       "  </tbody>\n",
       "</table>\n",
       "<p>723 rows × 3 columns</p>\n",
       "</div>"
      ],
      "text/plain": [
       "     amount currency  exchange_rate\n",
       "0     43.75      EUR       0.926269\n",
       "1    385.50      GBP       0.776121\n",
       "2    495.50      GBP       0.776121\n",
       "3    117.99      GBP       0.776121\n",
       "4    624.00      USD       1.000000\n",
       "..      ...      ...            ...\n",
       "718  915.50      USD       1.000000\n",
       "719  835.05      EUR       0.926269\n",
       "720  891.50      GBP       0.776121\n",
       "721  414.75      USD       1.000000\n",
       "722  766.90      USD       1.000000\n",
       "\n",
       "[723 rows x 3 columns]"
      ]
     },
     "execution_count": 5,
     "metadata": {},
     "output_type": "execute_result"
    }
   ],
   "source": [
    "orders['exchange_rate'] = orders['currency'].map(rates)\n",
    "orders"
   ]
  },
  {
   "cell_type": "code",
   "execution_count": 6,
   "id": "9ce55279",
   "metadata": {},
   "outputs": [
    {
     "data": {
      "text/plain": [
       "326122.51203408674"
      ]
     },
     "execution_count": 6,
     "metadata": {},
     "output_type": "execute_result"
    }
   ],
   "source": [
    "orders['amount_usd'] = orders['amount'] * orders['exchange_rate']\n",
    "total_usd_sales = orders['amount_usd'].sum()\n",
    "total_usd_sales"
   ]
  },
  {
   "cell_type": "markdown",
   "id": "7de47c78",
   "metadata": {},
   "source": [
    "# Solution"
   ]
  },
  {
   "cell_type": "code",
   "execution_count": null,
   "id": "70d8d1ac",
   "metadata": {},
   "outputs": [],
   "source": [
    "# Import required packages/libraries\n",
    "import pandas as pd\n",
    "import requests\n",
    "\n",
    "# Read the CSV file into a DataFrame\n",
    "orders = pd.read_csv('data/orders-2024-01-21.csv')\n",
    "\n",
    "# Get exchange rates from API\n",
    "request_url = 'https://api.vatcomply.com/rates'\n",
    "params = {\n",
    "    'date' : '2024-01-21',\n",
    "    'base': 'USD'\n",
    "} \n",
    "response = requests.get(request_url, params=params)\n",
    "rates = response.json()['rates']\n",
    "\n",
    "# Apply exchange rates\n",
    "orders['exchange_rate'] = orders['currency'].map(rates)\n",
    "\n",
    "# Alternatively, manually create each of the exchange_rate values in the DataFrame, e.g.,\n",
    "# orders['exchange_rate'] = 0\n",
    "# orders.loc[orders['currency'] == 'EUR', 'exchange_rate'] = rates['EUR'] \n",
    "# orders.loc[orders['currency'] == 'GBP', 'exchange_rate'] = rates['GBP']\n",
    "# orders.loc[orders['currency'] == 'USD', 'exchange_rate'] = rates['USD']\n",
    "\n",
    "# Calculate sales in US dollars\n",
    "orders['amount_usd'] = orders['amount'] * orders['exchange_rate']\n",
    "\n",
    "# Find the total amount of sales in US dollars\n",
    "total_usd_sales = orders['amount_usd'].sum()\n",
    "\n",
    "print(total_usd_sales)"
   ]
  }
 ],
 "metadata": {
  "editor": "DataLab",
  "kernelspec": {
   "display_name": "base",
   "language": "python",
   "name": "python3"
  },
  "language_info": {
   "codemirror_mode": {
    "name": "ipython",
    "version": 3
   },
   "file_extension": ".py",
   "mimetype": "text/x-python",
   "name": "python",
   "nbconvert_exporter": "python",
   "pygments_lexer": "ipython3",
   "version": "3.12.4"
  }
 },
 "nbformat": 4,
 "nbformat_minor": 5
}
