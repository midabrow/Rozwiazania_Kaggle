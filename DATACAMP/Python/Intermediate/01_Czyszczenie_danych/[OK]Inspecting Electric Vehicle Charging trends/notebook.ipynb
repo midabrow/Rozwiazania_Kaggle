{
 "cells": [
  {
   "cell_type": "markdown",
   "id": "3bfef1de-6cf3-4410-8c17-4d235deedff5",
   "metadata": {},
   "source": [
    "![Futuristic electric car charging](ev_charging.png)"
   ]
  },
  {
   "cell_type": "markdown",
   "id": "d0e3f658-b4eb-44fe-ae85-76eeef3c4abd",
   "metadata": {},
   "source": [
    "The US Government's Alternative Fuels Data Center collects records of electric vehicle (EV) charging infrastructure, including charging ports and station locations, as well as sales of electric vehicles. With the EV market rapidly evolving, understanding trends in charging facilities and sales is essential to inform strategic planning.\n",
    "\n",
    "As a data scientist working for a leading EV charging network operator, you recognize the potential in this data and start wrangling and visualizing the aggregated yearly data. \n",
    "\n",
    "This yearly data captured in December of each year encompasses a record of EV charging port installations and station localities spanning roughly ten years, capturing both public and private charging environments. \n",
    "___\n",
    "\n",
    "### The Data\n",
    "&nbsp;\n",
    "\n",
    "`private_ev_charging.csv`\n",
    "\n",
    "| Variable   | Description                                          |\n",
    "|------------|------------------------------------------------------|\n",
    "| `year` |  Year of data collection |\n",
    "| `private_ports`| The number of available charging ports owned by private companies in a given year  |\n",
    "| `private_station_locations`   | The number of privately owned station locations for EV charging\n",
    "\n",
    "___\n",
    "\n",
    "`public_ev_charging.csv`\n",
    " \n",
    "| Variable   | Description                                          |\n",
    "|------------|------------------------------------------------------|\n",
    "| `year` |  Year of data collection  |\n",
    "| `public_ports`| The number of available charging ports under public ownership in a given year  |\n",
    "| `public_station_locations`   | The number of publicly owned station locations for EV charging\n",
    "\n",
    "___\n",
    "\n",
    "The sales information is available for each model and year in the `ev_sales.csv` file:\n",
    "\n",
    "| Variable   | Description                                          |\n",
    "|------------|------------------------------------------------------|\n",
    "| `Vehicle` |  Electric vehicle model |\n",
    "| `year`| Year of data collection |\n",
    "| `sales`   | The number of vehicles sold in the US"
   ]
  },
  {
   "cell_type": "markdown",
   "id": "97d5710f",
   "metadata": {},
   "source": [
    "Does increased electric vehicle sales lead to more public or private charging ports?\n",
    "\n",
    "- How many vehicles were sold in 2018 in total? Save the answer as a numeric variable called ev_sales_2018.\n",
    "- Plot trends for private ports, public ports, and sales, saving this as fig, ax objects.\n",
    "- Did vehicle sales and number of private and public ports show the same trend (either increasing or decreasing) between the years 2015 and 2018? Save your answer as same or different to a variable called trend."
   ]
  },
  {
   "cell_type": "code",
   "execution_count": 1,
   "id": "bff36b1c-38f2-4a2c-8e4e-3d357b56fa21",
   "metadata": {
    "executionCancelledAt": null,
    "executionTime": 27,
    "lastExecutedAt": 1713169417140,
    "lastExecutedByKernel": "7ff8a1a4-f19c-4128-b890-046f3ae71988",
    "lastScheduledRunId": null,
    "lastSuccessfullyExecutedCode": "# Import required libraries\nimport pandas as pd\nimport matplotlib.pyplot as plt\nimport seaborn as sns\n\ndf_private = pd.read_csv(\"private_ev_charging.csv\")\ndf_public = pd.read_csv(\"public_ev_charging.csv\")\ndf_sales = pd.read_csv(\"ev_sales.csv\")"
   },
   "outputs": [],
   "source": [
    "# Import required libraries\n",
    "import pandas as pd\n",
    "import matplotlib.pyplot as plt\n",
    "import seaborn as sns"
   ]
  },
  {
   "cell_type": "code",
   "execution_count": 2,
   "id": "50c40e0a-b33d-46ad-bccc-c8ad085d07fb",
   "metadata": {
    "executionCancelledAt": null,
    "executionTime": 159,
    "lastExecutedAt": 1713185875597,
    "lastExecutedByKernel": "e50db79f-69ad-4bc0-9bcb-b89564cf7f74",
    "lastScheduledRunId": null,
    "lastSuccessfullyExecutedCode": "# Start coding here",
    "outputsMetadata": {
     "0": {
      "height": 143,
      "type": "stream"
     }
    }
   },
   "outputs": [],
   "source": [
    "private_ev_charging = pd.read_csv(\"private_ev_charging.csv\")\n",
    "public_ev_charging = pd.read_csv(\"public_ev_charging.csv\")\n",
    "ev_sales = pd.read_csv(\"ev_sales.csv\")"
   ]
  },
  {
   "cell_type": "code",
   "execution_count": 4,
   "id": "f7c75ac1",
   "metadata": {},
   "outputs": [
    {
     "name": "stdout",
     "output_type": "stream",
     "text": [
      "<class 'pandas.core.frame.DataFrame'>\n",
      "RangeIndex: 9 entries, 0 to 8\n",
      "Data columns (total 3 columns):\n",
      " #   Column                     Non-Null Count  Dtype\n",
      "---  ------                     --------------  -----\n",
      " 0   year                       9 non-null      int64\n",
      " 1   private_ports              9 non-null      int64\n",
      " 2   private_station_locations  9 non-null      int64\n",
      "dtypes: int64(3)\n",
      "memory usage: 348.0 bytes\n",
      "\n",
      "\n",
      "<class 'pandas.core.frame.DataFrame'>\n",
      "RangeIndex: 10 entries, 0 to 9\n",
      "Data columns (total 3 columns):\n",
      " #   Column                    Non-Null Count  Dtype\n",
      "---  ------                    --------------  -----\n",
      " 0   year                      10 non-null     int64\n",
      " 1   public_ports              10 non-null     int64\n",
      " 2   public_station_locations  10 non-null     int64\n",
      "dtypes: int64(3)\n",
      "memory usage: 372.0 bytes\n",
      "\n",
      "\n",
      "<class 'pandas.core.frame.DataFrame'>\n",
      "RangeIndex: 495 entries, 0 to 494\n",
      "Data columns (total 3 columns):\n",
      " #   Column   Non-Null Count  Dtype  \n",
      "---  ------   --------------  -----  \n",
      " 0   Vehicle  495 non-null    object \n",
      " 1   year     495 non-null    int64  \n",
      " 2   sales    241 non-null    float64\n",
      "dtypes: float64(1), int64(1), object(1)\n",
      "memory usage: 11.7+ KB\n",
      "\n",
      "\n"
     ]
    }
   ],
   "source": [
    "for dataframe in [private_ev_charging, public_ev_charging, ev_sales]:\n",
    "    dataframe.info()\n",
    "    print('\\n')"
   ]
  },
  {
   "cell_type": "code",
   "execution_count": 6,
   "id": "091270e0",
   "metadata": {},
   "outputs": [
    {
     "data": {
      "application/vnd.microsoft.datawrangler.viewer.v0+json": {
       "columns": [
        {
         "name": "index",
         "rawType": "int64",
         "type": "integer"
        },
        {
         "name": "year",
         "rawType": "int64",
         "type": "integer"
        },
        {
         "name": "private_ports",
         "rawType": "float64",
         "type": "float"
        },
        {
         "name": "private_station_locations",
         "rawType": "float64",
         "type": "float"
        },
        {
         "name": "public_ports",
         "rawType": "int64",
         "type": "integer"
        },
        {
         "name": "public_station_locations",
         "rawType": "int64",
         "type": "integer"
        },
        {
         "name": "_merge",
         "rawType": "category",
         "type": "unknown"
        }
       ],
       "conversionMethod": "pd.DataFrame",
       "ref": "f6c46c1e-20d4-4178-9191-a455ce6f2278",
       "rows": [
        [
         "0",
         "2013",
         null,
         null,
         "16619",
         "6938",
         "right_only"
        ],
        [
         "1",
         "2014",
         "3695.0",
         "1825.0",
         "22470",
         "9207",
         "both"
        ],
        [
         "2",
         "2015",
         "4150.0",
         "1962.0",
         "26532",
         "10710",
         "both"
        ],
        [
         "3",
         "2016",
         "5763.0",
         "2331.0",
         "33165",
         "13150",
         "both"
        ],
        [
         "4",
         "2017",
         "6048.0",
         "2370.0",
         "45789",
         "16170",
         "both"
        ],
        [
         "5",
         "2018",
         "6812.0",
         "2489.0",
         "56842",
         "19893",
         "both"
        ],
        [
         "6",
         "2019",
         "9955.0",
         "3078.0",
         "73838",
         "23282",
         "both"
        ],
        [
         "7",
         "2020",
         "10647.0",
         "2768.0",
         "96190",
         "28602",
         "both"
        ],
        [
         "8",
         "2021",
         "18867.0",
         "4074.0",
         "114451",
         "46407",
         "both"
        ],
        [
         "9",
         "2022",
         "19993.0",
         "4435.0",
         "136513",
         "53764",
         "both"
        ]
       ],
       "shape": {
        "columns": 6,
        "rows": 10
       }
      },
      "text/html": [
       "<div>\n",
       "<style scoped>\n",
       "    .dataframe tbody tr th:only-of-type {\n",
       "        vertical-align: middle;\n",
       "    }\n",
       "\n",
       "    .dataframe tbody tr th {\n",
       "        vertical-align: top;\n",
       "    }\n",
       "\n",
       "    .dataframe thead th {\n",
       "        text-align: right;\n",
       "    }\n",
       "</style>\n",
       "<table border=\"1\" class=\"dataframe\">\n",
       "  <thead>\n",
       "    <tr style=\"text-align: right;\">\n",
       "      <th></th>\n",
       "      <th>year</th>\n",
       "      <th>private_ports</th>\n",
       "      <th>private_station_locations</th>\n",
       "      <th>public_ports</th>\n",
       "      <th>public_station_locations</th>\n",
       "      <th>_merge</th>\n",
       "    </tr>\n",
       "  </thead>\n",
       "  <tbody>\n",
       "    <tr>\n",
       "      <th>0</th>\n",
       "      <td>2013</td>\n",
       "      <td>NaN</td>\n",
       "      <td>NaN</td>\n",
       "      <td>16619</td>\n",
       "      <td>6938</td>\n",
       "      <td>right_only</td>\n",
       "    </tr>\n",
       "    <tr>\n",
       "      <th>1</th>\n",
       "      <td>2014</td>\n",
       "      <td>3695.0</td>\n",
       "      <td>1825.0</td>\n",
       "      <td>22470</td>\n",
       "      <td>9207</td>\n",
       "      <td>both</td>\n",
       "    </tr>\n",
       "    <tr>\n",
       "      <th>2</th>\n",
       "      <td>2015</td>\n",
       "      <td>4150.0</td>\n",
       "      <td>1962.0</td>\n",
       "      <td>26532</td>\n",
       "      <td>10710</td>\n",
       "      <td>both</td>\n",
       "    </tr>\n",
       "    <tr>\n",
       "      <th>3</th>\n",
       "      <td>2016</td>\n",
       "      <td>5763.0</td>\n",
       "      <td>2331.0</td>\n",
       "      <td>33165</td>\n",
       "      <td>13150</td>\n",
       "      <td>both</td>\n",
       "    </tr>\n",
       "    <tr>\n",
       "      <th>4</th>\n",
       "      <td>2017</td>\n",
       "      <td>6048.0</td>\n",
       "      <td>2370.0</td>\n",
       "      <td>45789</td>\n",
       "      <td>16170</td>\n",
       "      <td>both</td>\n",
       "    </tr>\n",
       "    <tr>\n",
       "      <th>5</th>\n",
       "      <td>2018</td>\n",
       "      <td>6812.0</td>\n",
       "      <td>2489.0</td>\n",
       "      <td>56842</td>\n",
       "      <td>19893</td>\n",
       "      <td>both</td>\n",
       "    </tr>\n",
       "    <tr>\n",
       "      <th>6</th>\n",
       "      <td>2019</td>\n",
       "      <td>9955.0</td>\n",
       "      <td>3078.0</td>\n",
       "      <td>73838</td>\n",
       "      <td>23282</td>\n",
       "      <td>both</td>\n",
       "    </tr>\n",
       "    <tr>\n",
       "      <th>7</th>\n",
       "      <td>2020</td>\n",
       "      <td>10647.0</td>\n",
       "      <td>2768.0</td>\n",
       "      <td>96190</td>\n",
       "      <td>28602</td>\n",
       "      <td>both</td>\n",
       "    </tr>\n",
       "    <tr>\n",
       "      <th>8</th>\n",
       "      <td>2021</td>\n",
       "      <td>18867.0</td>\n",
       "      <td>4074.0</td>\n",
       "      <td>114451</td>\n",
       "      <td>46407</td>\n",
       "      <td>both</td>\n",
       "    </tr>\n",
       "    <tr>\n",
       "      <th>9</th>\n",
       "      <td>2022</td>\n",
       "      <td>19993.0</td>\n",
       "      <td>4435.0</td>\n",
       "      <td>136513</td>\n",
       "      <td>53764</td>\n",
       "      <td>both</td>\n",
       "    </tr>\n",
       "  </tbody>\n",
       "</table>\n",
       "</div>"
      ],
      "text/plain": [
       "   year  private_ports  private_station_locations  public_ports  \\\n",
       "0  2013            NaN                        NaN         16619   \n",
       "1  2014         3695.0                     1825.0         22470   \n",
       "2  2015         4150.0                     1962.0         26532   \n",
       "3  2016         5763.0                     2331.0         33165   \n",
       "4  2017         6048.0                     2370.0         45789   \n",
       "5  2018         6812.0                     2489.0         56842   \n",
       "6  2019         9955.0                     3078.0         73838   \n",
       "7  2020        10647.0                     2768.0         96190   \n",
       "8  2021        18867.0                     4074.0        114451   \n",
       "9  2022        19993.0                     4435.0        136513   \n",
       "\n",
       "   public_station_locations      _merge  \n",
       "0                      6938  right_only  \n",
       "1                      9207        both  \n",
       "2                     10710        both  \n",
       "3                     13150        both  \n",
       "4                     16170        both  \n",
       "5                     19893        both  \n",
       "6                     23282        both  \n",
       "7                     28602        both  \n",
       "8                     46407        both  \n",
       "9                     53764        both  "
      ]
     },
     "execution_count": 6,
     "metadata": {},
     "output_type": "execute_result"
    }
   ],
   "source": [
    "df_combined = pd.merge(private_ev_charging, public_ev_charging, on='year', how='outer', indicator=True)\n",
    "df_combined"
   ]
  },
  {
   "cell_type": "code",
   "execution_count": 7,
   "id": "3c691472",
   "metadata": {},
   "outputs": [
    {
     "name": "stderr",
     "output_type": "stream",
     "text": [
      "/tmp/ipykernel_36419/2620151472.py:2: SettingWithCopyWarning: \n",
      "A value is trying to be set on a copy of a slice from a DataFrame\n",
      "\n",
      "See the caveats in the documentation: https://pandas.pydata.org/pandas-docs/stable/user_guide/indexing.html#returning-a-view-versus-a-copy\n",
      "  df_temp.drop(columns=['_merge'], inplace=True)\n"
     ]
    }
   ],
   "source": [
    "df_temp = df_combined[df_combined['_merge'] == 'both']\n",
    "df_temp.drop(columns=['_merge'], inplace=True)"
   ]
  },
  {
   "cell_type": "markdown",
   "id": "d97b6d92",
   "metadata": {},
   "source": [
    "### Pytanie 1"
   ]
  },
  {
   "cell_type": "markdown",
   "id": "cef25e2e",
   "metadata": {},
   "source": [
    " How many vehicles were sold in 2018 in total? Save the answer as a numeric variable called ev_sales_2018."
   ]
  },
  {
   "cell_type": "code",
   "execution_count": 20,
   "id": "c9380f56",
   "metadata": {},
   "outputs": [
    {
     "data": {
      "application/vnd.microsoft.datawrangler.viewer.v0+json": {
       "columns": [
        {
         "name": "index",
         "rawType": "int64",
         "type": "integer"
        },
        {
         "name": "year",
         "rawType": "int64",
         "type": "integer"
        },
        {
         "name": "total_count",
         "rawType": "float64",
         "type": "float"
        }
       ],
       "conversionMethod": "pd.DataFrame",
       "ref": "92744fe6-203b-4949-bc5e-87533d5b81ca",
       "rows": [
        [
         "0",
         "2011",
         "17763.0"
        ],
        [
         "1",
         "2012",
         "53171.0"
        ],
        [
         "2",
         "2013",
         "97102.0"
        ],
        [
         "3",
         "2014",
         "118882.0"
        ],
        [
         "4",
         "2015",
         "114023.0"
        ],
        [
         "5",
         "2016",
         "159616.0"
        ],
        [
         "6",
         "2017",
         "195581.0"
        ],
        [
         "7",
         "2018",
         "361315.0"
        ],
        [
         "8",
         "2019",
         "326644.0"
        ]
       ],
       "shape": {
        "columns": 2,
        "rows": 9
       }
      },
      "text/html": [
       "<div>\n",
       "<style scoped>\n",
       "    .dataframe tbody tr th:only-of-type {\n",
       "        vertical-align: middle;\n",
       "    }\n",
       "\n",
       "    .dataframe tbody tr th {\n",
       "        vertical-align: top;\n",
       "    }\n",
       "\n",
       "    .dataframe thead th {\n",
       "        text-align: right;\n",
       "    }\n",
       "</style>\n",
       "<table border=\"1\" class=\"dataframe\">\n",
       "  <thead>\n",
       "    <tr style=\"text-align: right;\">\n",
       "      <th></th>\n",
       "      <th>year</th>\n",
       "      <th>total_count</th>\n",
       "    </tr>\n",
       "  </thead>\n",
       "  <tbody>\n",
       "    <tr>\n",
       "      <th>0</th>\n",
       "      <td>2011</td>\n",
       "      <td>17763.0</td>\n",
       "    </tr>\n",
       "    <tr>\n",
       "      <th>1</th>\n",
       "      <td>2012</td>\n",
       "      <td>53171.0</td>\n",
       "    </tr>\n",
       "    <tr>\n",
       "      <th>2</th>\n",
       "      <td>2013</td>\n",
       "      <td>97102.0</td>\n",
       "    </tr>\n",
       "    <tr>\n",
       "      <th>3</th>\n",
       "      <td>2014</td>\n",
       "      <td>118882.0</td>\n",
       "    </tr>\n",
       "    <tr>\n",
       "      <th>4</th>\n",
       "      <td>2015</td>\n",
       "      <td>114023.0</td>\n",
       "    </tr>\n",
       "    <tr>\n",
       "      <th>5</th>\n",
       "      <td>2016</td>\n",
       "      <td>159616.0</td>\n",
       "    </tr>\n",
       "    <tr>\n",
       "      <th>6</th>\n",
       "      <td>2017</td>\n",
       "      <td>195581.0</td>\n",
       "    </tr>\n",
       "    <tr>\n",
       "      <th>7</th>\n",
       "      <td>2018</td>\n",
       "      <td>361315.0</td>\n",
       "    </tr>\n",
       "    <tr>\n",
       "      <th>8</th>\n",
       "      <td>2019</td>\n",
       "      <td>326644.0</td>\n",
       "    </tr>\n",
       "  </tbody>\n",
       "</table>\n",
       "</div>"
      ],
      "text/plain": [
       "   year  total_count\n",
       "0  2011      17763.0\n",
       "1  2012      53171.0\n",
       "2  2013      97102.0\n",
       "3  2014     118882.0\n",
       "4  2015     114023.0\n",
       "5  2016     159616.0\n",
       "6  2017     195581.0\n",
       "7  2018     361315.0\n",
       "8  2019     326644.0"
      ]
     },
     "execution_count": 20,
     "metadata": {},
     "output_type": "execute_result"
    }
   ],
   "source": [
    "df_grouped = ev_sales.groupby('year', as_index=False).agg(\n",
    "    total_count = ('sales', 'sum')\n",
    ")\n",
    "df_grouped"
   ]
  },
  {
   "cell_type": "code",
   "execution_count": 22,
   "id": "db5d7ba5",
   "metadata": {},
   "outputs": [
    {
     "data": {
      "application/vnd.microsoft.datawrangler.viewer.v0+json": {
       "columns": [
        {
         "name": "index",
         "rawType": "int64",
         "type": "integer"
        },
        {
         "name": "year",
         "rawType": "int64",
         "type": "integer"
        },
        {
         "name": "total_count",
         "rawType": "float64",
         "type": "float"
        }
       ],
       "conversionMethod": "pd.DataFrame",
       "ref": "9d52370a-4f19-4a75-a662-a3a5238c2df9",
       "rows": [
        [
         "7",
         "2018",
         "361315.0"
        ]
       ],
       "shape": {
        "columns": 2,
        "rows": 1
       }
      },
      "text/html": [
       "<div>\n",
       "<style scoped>\n",
       "    .dataframe tbody tr th:only-of-type {\n",
       "        vertical-align: middle;\n",
       "    }\n",
       "\n",
       "    .dataframe tbody tr th {\n",
       "        vertical-align: top;\n",
       "    }\n",
       "\n",
       "    .dataframe thead th {\n",
       "        text-align: right;\n",
       "    }\n",
       "</style>\n",
       "<table border=\"1\" class=\"dataframe\">\n",
       "  <thead>\n",
       "    <tr style=\"text-align: right;\">\n",
       "      <th></th>\n",
       "      <th>year</th>\n",
       "      <th>total_count</th>\n",
       "    </tr>\n",
       "  </thead>\n",
       "  <tbody>\n",
       "    <tr>\n",
       "      <th>7</th>\n",
       "      <td>2018</td>\n",
       "      <td>361315.0</td>\n",
       "    </tr>\n",
       "  </tbody>\n",
       "</table>\n",
       "</div>"
      ],
      "text/plain": [
       "   year  total_count\n",
       "7  2018     361315.0"
      ]
     },
     "execution_count": 22,
     "metadata": {},
     "output_type": "execute_result"
    }
   ],
   "source": [
    "df_grouped.query(\"year == 2018\")"
   ]
  },
  {
   "cell_type": "markdown",
   "id": "10f8293b",
   "metadata": {},
   "source": [
    "### Pytanie 2"
   ]
  },
  {
   "cell_type": "markdown",
   "id": "a21003b5",
   "metadata": {},
   "source": [
    "Plot trends for private ports, public ports, and sales, saving this as fig, ax objects."
   ]
  },
  {
   "cell_type": "code",
   "execution_count": 24,
   "id": "b6aef4d8",
   "metadata": {},
   "outputs": [
    {
     "data": {
      "application/vnd.microsoft.datawrangler.viewer.v0+json": {
       "columns": [
        {
         "name": "index",
         "rawType": "int64",
         "type": "integer"
        },
        {
         "name": "year",
         "rawType": "int64",
         "type": "integer"
        },
        {
         "name": "private_ports",
         "rawType": "float64",
         "type": "float"
        },
        {
         "name": "private_station_locations",
         "rawType": "float64",
         "type": "float"
        },
        {
         "name": "public_ports",
         "rawType": "int64",
         "type": "integer"
        },
        {
         "name": "public_station_locations",
         "rawType": "int64",
         "type": "integer"
        },
        {
         "name": "total_count",
         "rawType": "float64",
         "type": "float"
        }
       ],
       "conversionMethod": "pd.DataFrame",
       "ref": "331b70c0-2bc4-40c3-ac3a-0b38b20ec974",
       "rows": [
        [
         "0",
         "2014",
         "3695.0",
         "1825.0",
         "22470",
         "9207",
         "118882.0"
        ],
        [
         "1",
         "2015",
         "4150.0",
         "1962.0",
         "26532",
         "10710",
         "114023.0"
        ],
        [
         "2",
         "2016",
         "5763.0",
         "2331.0",
         "33165",
         "13150",
         "159616.0"
        ],
        [
         "3",
         "2017",
         "6048.0",
         "2370.0",
         "45789",
         "16170",
         "195581.0"
        ],
        [
         "4",
         "2018",
         "6812.0",
         "2489.0",
         "56842",
         "19893",
         "361315.0"
        ],
        [
         "5",
         "2019",
         "9955.0",
         "3078.0",
         "73838",
         "23282",
         "326644.0"
        ]
       ],
       "shape": {
        "columns": 6,
        "rows": 6
       }
      },
      "text/html": [
       "<div>\n",
       "<style scoped>\n",
       "    .dataframe tbody tr th:only-of-type {\n",
       "        vertical-align: middle;\n",
       "    }\n",
       "\n",
       "    .dataframe tbody tr th {\n",
       "        vertical-align: top;\n",
       "    }\n",
       "\n",
       "    .dataframe thead th {\n",
       "        text-align: right;\n",
       "    }\n",
       "</style>\n",
       "<table border=\"1\" class=\"dataframe\">\n",
       "  <thead>\n",
       "    <tr style=\"text-align: right;\">\n",
       "      <th></th>\n",
       "      <th>year</th>\n",
       "      <th>private_ports</th>\n",
       "      <th>private_station_locations</th>\n",
       "      <th>public_ports</th>\n",
       "      <th>public_station_locations</th>\n",
       "      <th>total_count</th>\n",
       "    </tr>\n",
       "  </thead>\n",
       "  <tbody>\n",
       "    <tr>\n",
       "      <th>0</th>\n",
       "      <td>2014</td>\n",
       "      <td>3695.0</td>\n",
       "      <td>1825.0</td>\n",
       "      <td>22470</td>\n",
       "      <td>9207</td>\n",
       "      <td>118882.0</td>\n",
       "    </tr>\n",
       "    <tr>\n",
       "      <th>1</th>\n",
       "      <td>2015</td>\n",
       "      <td>4150.0</td>\n",
       "      <td>1962.0</td>\n",
       "      <td>26532</td>\n",
       "      <td>10710</td>\n",
       "      <td>114023.0</td>\n",
       "    </tr>\n",
       "    <tr>\n",
       "      <th>2</th>\n",
       "      <td>2016</td>\n",
       "      <td>5763.0</td>\n",
       "      <td>2331.0</td>\n",
       "      <td>33165</td>\n",
       "      <td>13150</td>\n",
       "      <td>159616.0</td>\n",
       "    </tr>\n",
       "    <tr>\n",
       "      <th>3</th>\n",
       "      <td>2017</td>\n",
       "      <td>6048.0</td>\n",
       "      <td>2370.0</td>\n",
       "      <td>45789</td>\n",
       "      <td>16170</td>\n",
       "      <td>195581.0</td>\n",
       "    </tr>\n",
       "    <tr>\n",
       "      <th>4</th>\n",
       "      <td>2018</td>\n",
       "      <td>6812.0</td>\n",
       "      <td>2489.0</td>\n",
       "      <td>56842</td>\n",
       "      <td>19893</td>\n",
       "      <td>361315.0</td>\n",
       "    </tr>\n",
       "    <tr>\n",
       "      <th>5</th>\n",
       "      <td>2019</td>\n",
       "      <td>9955.0</td>\n",
       "      <td>3078.0</td>\n",
       "      <td>73838</td>\n",
       "      <td>23282</td>\n",
       "      <td>326644.0</td>\n",
       "    </tr>\n",
       "  </tbody>\n",
       "</table>\n",
       "</div>"
      ],
      "text/plain": [
       "   year  private_ports  private_station_locations  public_ports  \\\n",
       "0  2014         3695.0                     1825.0         22470   \n",
       "1  2015         4150.0                     1962.0         26532   \n",
       "2  2016         5763.0                     2331.0         33165   \n",
       "3  2017         6048.0                     2370.0         45789   \n",
       "4  2018         6812.0                     2489.0         56842   \n",
       "5  2019         9955.0                     3078.0         73838   \n",
       "\n",
       "   public_station_locations  total_count  \n",
       "0                      9207     118882.0  \n",
       "1                     10710     114023.0  \n",
       "2                     13150     159616.0  \n",
       "3                     16170     195581.0  \n",
       "4                     19893     361315.0  \n",
       "5                     23282     326644.0  "
      ]
     },
     "execution_count": 24,
     "metadata": {},
     "output_type": "execute_result"
    }
   ],
   "source": [
    "df_complete = pd.merge(df_temp, df_grouped, how='left', on='year')\n",
    "df_complete.dropna(subset='total_count', inplace=True)\n",
    "df_complete"
   ]
  },
  {
   "cell_type": "code",
   "execution_count": 26,
   "id": "3685790f",
   "metadata": {},
   "outputs": [
    {
     "data": {
      "image/png": "[encoded data removed]",
      "text/plain": [
       "<Figure size 640x480 with 1 Axes>"
      ]
     },
     "metadata": {},
     "output_type": "display_data"
    }
   ],
   "source": [
    "fig, ax = plt.subplots()\n",
    "\n",
    "sns.lineplot(data=df_complete, x='year', y='private_ports', label='Private Ports')\n",
    "sns.lineplot(data=df_complete, x='year', y='public_ports', label='Public Ports')\n",
    "sns.lineplot(data=df_complete, x='year', y='total_count', label='Total Sales', linestyle=':')\n",
    "\n",
    "# Adding titles and labels\n",
    "ax.set_title('EV Ports and Sales Over Time')\n",
    "ax.set(xlabel='Year', ylabel='Count')\n",
    "\n",
    "# Show the legend\n",
    "ax.legend(loc='upper left')\n",
    "\n",
    "# Show the plot\n",
    "plt.show()"
   ]
  },
  {
   "cell_type": "markdown",
   "id": "c63f2c30",
   "metadata": {},
   "source": [
    "### Pytanie 3"
   ]
  },
  {
   "cell_type": "markdown",
   "id": "fc8c37f4",
   "metadata": {},
   "source": [
    "Did vehicle sales and number of private and public ports show the same trend (either increasing or decreasing) between the years 2015 and 2018? Save your answer as same or different to a variable called trend."
   ]
  },
  {
   "cell_type": "code",
   "execution_count": null,
   "id": "05854eb1",
   "metadata": {},
   "outputs": [],
   "source": [
    "trend = \"same\""
   ]
  },
  {
   "cell_type": "markdown",
   "id": "6ddf377d",
   "metadata": {},
   "source": [
    "# Solution"
   ]
  },
  {
   "cell_type": "code",
   "execution_count": 27,
   "id": "de8c0b2d",
   "metadata": {},
   "outputs": [
    {
     "name": "stdout",
     "output_type": "stream",
     "text": [
      "   year     sales\n",
      "0  2011   17763.0\n",
      "1  2012   53171.0\n",
      "2  2013   97102.0\n",
      "3  2014  118882.0\n",
      "4  2015  114023.0\n",
      "5  2016  159616.0\n",
      "6  2017  195581.0\n",
      "7  2018  361315.0\n",
      "8  2019  326644.0\n"
     ]
    },
    {
     "data": {
      "image/png": "[encoded data removed]",
      "text/plain": [
       "<Figure size 640x480 with 1 Axes>"
      ]
     },
     "metadata": {},
     "output_type": "display_data"
    }
   ],
   "source": [
    "# Import required libraries\n",
    "import pandas as pd\n",
    "import matplotlib.pyplot as plt\n",
    "import seaborn as sns\n",
    "\n",
    "# Load the datasets\n",
    "private_ev_charging = pd.read_csv(\"private_ev_charging.csv\")\n",
    "public_ev_charging = pd.read_csv(\"public_ev_charging.csv\")\n",
    "ev_sales = pd.read_csv(\"ev_sales.csv\")\n",
    "\n",
    "# Perform an outer join to keep only the rows with complete information\n",
    "df_combined = private_ev_charging.merge(public_ev_charging, on='year', how='outer', indicator=True)\n",
    "df_temp = df_combined[df_combined['_merge'] == 'both']\n",
    "\n",
    "# Drop the _merge column as it's no longer needed\n",
    "df_temp = df_temp.drop(columns=['_merge'])\n",
    "\n",
    "# Get total sales grouping by each year\n",
    "ev_total_sales = ev_sales.groupby('year')['sales'].sum().reset_index()\n",
    "\n",
    "# Inspect the data and save the variable\n",
    "print(ev_total_sales)\n",
    "ev_sales_2018 = 361315\n",
    "\n",
    "# Left-join with sales\n",
    "df_complete = df_temp.merge(ev_total_sales, how='left', on='year')\n",
    "\n",
    "# Drop any rows with null values\n",
    "df_complete = df_complete.dropna(subset=\"sales\")\n",
    "\n",
    "# Create a figure and axis object\n",
    "fig, ax = plt.subplots()\n",
    "\n",
    "# Plot each line\n",
    "sns.lineplot(data=df_complete, x='year', y='private_ports', label='Private Ports')\n",
    "sns.lineplot(data=df_complete, x='year', y='public_ports', label='Public Ports')\n",
    "sns.lineplot(data=df_complete, x='year', y='sales', label='Total Sales', linestyle=':')\n",
    "\n",
    "# Adding titles and labels\n",
    "ax.set_title('EV Ports and Sales Over Time')\n",
    "ax.set(xlabel='Year', ylabel='Count')\n",
    "\n",
    "# Show the legend\n",
    "ax.legend(loc='upper left')\n",
    "\n",
    "# Show the plot\n",
    "plt.show()\n",
    "\n",
    "# Did vehicle sales and number of private and public ports show the same trend?\n",
    "trend = \"same\""
   ]
  }
 ],
 "metadata": {
  "colab": {
   "name": "Welcome to DataCamp Workspaces.ipynb",
   "provenance": []
  },
  "kernelspec": {
   "display_name": "base",
   "language": "python",
   "name": "python3"
  },
  "language_info": {
   "codemirror_mode": {
    "name": "ipython",
    "version": 3
   },
   "file_extension": ".py",
   "mimetype": "text/x-python",
   "name": "python",
   "nbconvert_exporter": "python",
   "pygments_lexer": "ipython3",
   "version": "3.12.4"
  }
 },
 "nbformat": 4,
 "nbformat_minor": 5
}
