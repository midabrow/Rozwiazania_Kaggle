{
 "cells": [
  {
   "cell_type": "markdown",
   "id": "a72c3591-e237-49ba-b20f-a739b27b5a7e",
   "metadata": {},
   "source": [
    "<center><img src=\"MKn_Staffelter_Hof.jpeg\" alt=\"Picture of old business\"</center>\n",
    "<!--Image Credit: Martin Kraft https://commons.wikimedia.org/wiki/File:MKn_Staffelter_Hof.jpg -->"
   ]
  },
  {
   "cell_type": "markdown",
   "id": "3093f28a-1efc-4811-899f-278d698bd09b",
   "metadata": {},
   "source": [
    "Staffelter Hof Winery is Germany's oldest business, established in 862 under the Carolingian dynasty. It has continued to serve customers through dramatic changes in Europe, such as the Holy Roman Empire, the Ottoman Empire, and both world wars. What characteristics enable a business to stand the test of time?\n",
    "\n",
    "To help answer this question, BusinessFinancing.co.uk researched the oldest company still in business in **almost** every country and compiled the results into several CSV files. This dataset has been cleaned.\n",
    "\n",
    "Having useful information in different files is a common problem. While it's better to keep different types of data separate for data storage, you'll want all the data in one place for analysis. You'll use joining and data manipulation to work with this data and better understand the world's oldest businesses.\n",
    "\n",
    "## The Data\n",
    "`data/businesses.csv` and `data/new_businesses.csv`\n",
    "|Column|Description|\n",
    "|------|-----------|\n",
    "|`business`|Name of the business (varchar)|\n",
    "|`year_founded`|Year the business was founded (int)|\n",
    "|`category_code`|Code for the business category (varchar)|\n",
    "|`country_code`|ISO 3166-1 three-letter country code (char)|\n",
    "\n",
    "`data/countries.csv`\n",
    "|Column|Description|\n",
    "|------|-----------|\n",
    "|`country_code`|ISO 3166-1 three-letter country code (varchar)|\n",
    "|`country`|Name of the country (varchar)|\n",
    "|`continent`|Name of the continent the country exists in (varchar)|\n",
    "\n",
    "`data/categories.csv`\n",
    "|Column|Description|\n",
    "|------|-----------|\n",
    "|`category_code`|Code for the business category (varchar)|\n",
    "|`category`|Description of the business category (varchar)|"
   ]
  },
  {
   "cell_type": "markdown",
   "id": "5a436805",
   "metadata": {},
   "source": [
    "Understand the factors that help a business be timeless by answering these questions:\n",
    "\n",
    "- What is the oldest business on each continent? Save your answer as a DataFrame called oldest_business_continent with four columns: continent, country, business, and year_founded in any order.\n",
    "\n",
    "- How many countries per continent lack data on the oldest businesses? Does including new_businesses change this? Count the number of countries per continent missing business data, including new_businesses, and store the results in a DataFrame named count_missing with columns for the continent and the count.\n",
    "\n",
    "- Which business categories are best suited to last many years, and on what continent are they? Create a DataFrame called oldest_by_continent_category that stores the oldest founding year for each continent and category combination. It should contain three columns: continent, category, and year_founded, in that order."
   ]
  },
  {
   "cell_type": "code",
   "execution_count": 1,
   "id": "113ca14a-42b7-4bee-bc8a-349e2b4368cf",
   "metadata": {
    "executionCancelledAt": null,
    "executionTime": 1736,
    "lastExecutedAt": 1720702759277,
    "lastExecutedByKernel": "3fc334cc-6d49-4e84-925d-ff281e79748f",
    "lastScheduledRunId": null,
    "lastSuccessfullyExecutedCode": "# Import necessary libraries\nimport pandas as pd\n\n# Load the data\nbusinesses = pd.read_csv(\"data/businesses.csv\")\nnew_businesses = pd.read_csv(\"data/new_businesses.csv\")\ncountries = pd.read_csv(\"data/countries.csv\")\ncategories = pd.read_csv(\"data/categories.csv\")"
   },
   "outputs": [],
   "source": [
    "# Import necessary libraries\n",
    "import pandas as pd\n",
    "\n",
    "# Load the data\n",
    "businesses = pd.read_csv(\"data/businesses.csv\")\n",
    "new_businesses = pd.read_csv(\"data/new_businesses.csv\")\n",
    "countries = pd.read_csv(\"data/countries.csv\")\n",
    "categories = pd.read_csv(\"data/categories.csv\")"
   ]
  },
  {
   "cell_type": "code",
   "execution_count": 7,
   "id": "34adff15",
   "metadata": {},
   "outputs": [
    {
     "name": "stdout",
     "output_type": "stream",
     "text": [
      "<class 'pandas.core.frame.DataFrame'>\n",
      "RangeIndex: 163 entries, 0 to 162\n",
      "Data columns (total 4 columns):\n",
      " #   Column         Non-Null Count  Dtype \n",
      "---  ------         --------------  ----- \n",
      " 0   business       163 non-null    object\n",
      " 1   year_founded   163 non-null    int64 \n",
      " 2   category_code  163 non-null    object\n",
      " 3   country_code   163 non-null    object\n",
      "dtypes: int64(1), object(3)\n",
      "memory usage: 5.2+ KB\n"
     ]
    }
   ],
   "source": [
    "businesses.info()"
   ]
  },
  {
   "cell_type": "code",
   "execution_count": 8,
   "id": "cc3e95d8",
   "metadata": {},
   "outputs": [
    {
     "name": "stdout",
     "output_type": "stream",
     "text": [
      "<class 'pandas.core.frame.DataFrame'>\n",
      "RangeIndex: 195 entries, 0 to 194\n",
      "Data columns (total 3 columns):\n",
      " #   Column        Non-Null Count  Dtype \n",
      "---  ------        --------------  ----- \n",
      " 0   country_code  195 non-null    object\n",
      " 1   country       195 non-null    object\n",
      " 2   continent     195 non-null    object\n",
      "dtypes: object(3)\n",
      "memory usage: 4.7+ KB\n"
     ]
    }
   ],
   "source": [
    "countries.info()"
   ]
  },
  {
   "cell_type": "code",
   "execution_count": 9,
   "id": "fa79c14e",
   "metadata": {},
   "outputs": [
    {
     "name": "stdout",
     "output_type": "stream",
     "text": [
      "<class 'pandas.core.frame.DataFrame'>\n",
      "RangeIndex: 19 entries, 0 to 18\n",
      "Data columns (total 2 columns):\n",
      " #   Column         Non-Null Count  Dtype \n",
      "---  ------         --------------  ----- \n",
      " 0   category_code  19 non-null     object\n",
      " 1   category       19 non-null     object\n",
      "dtypes: object(2)\n",
      "memory usage: 436.0+ bytes\n"
     ]
    }
   ],
   "source": [
    "categories.info()"
   ]
  },
  {
   "cell_type": "code",
   "execution_count": 6,
   "id": "185be0b1-702c-49d0-87ba-a3d9098686fc",
   "metadata": {
    "executionCancelledAt": null,
    "executionTime": 47,
    "lastExecutedAt": 1720702759326,
    "lastExecutedByKernel": "3fc334cc-6d49-4e84-925d-ff281e79748f",
    "lastScheduledRunId": null,
    "lastSuccessfullyExecutedCode": "# Start coding here!\n# Use as many cells as you like"
   },
   "outputs": [],
   "source": [
    "concated_df = pd.concat([businesses, new_businesses], axis=0)\n"
   ]
  },
  {
   "cell_type": "code",
   "execution_count": 10,
   "id": "eb2aa113",
   "metadata": {},
   "outputs": [
    {
     "data": {
      "application/vnd.microsoft.datawrangler.viewer.v0+json": {
       "columns": [
        {
         "name": "index",
         "rawType": "int64",
         "type": "integer"
        },
        {
         "name": "business",
         "rawType": "object",
         "type": "string"
        },
        {
         "name": "year_founded",
         "rawType": "int64",
         "type": "integer"
        },
        {
         "name": "category_code",
         "rawType": "object",
         "type": "string"
        },
        {
         "name": "country_code",
         "rawType": "object",
         "type": "string"
        },
        {
         "name": "country",
         "rawType": "object",
         "type": "string"
        },
        {
         "name": "continent",
         "rawType": "object",
         "type": "string"
        }
       ],
       "conversionMethod": "pd.DataFrame",
       "ref": "1de9b13b-1161-42b8-ac05-581efec8303d",
       "rows": [
        [
         "0",
         "Hamoud Boualem",
         "1878",
         "CAT11",
         "DZA",
         "Algeria",
         "Africa"
        ],
        [
         "1",
         "Communauté Électrique du Bénin",
         "1968",
         "CAT10",
         "BEN",
         "Benin",
         "Africa"
        ],
        [
         "2",
         "Botswana Meat Commission",
         "1965",
         "CAT1",
         "BWA",
         "Botswana",
         "Africa"
        ],
        [
         "3",
         "Air Burkina",
         "1967",
         "CAT2",
         "BFA",
         "Burkina Faso",
         "Africa"
        ],
        [
         "4",
         "Brarudi",
         "1955",
         "CAT9",
         "BDI",
         "Burundi",
         "Africa"
        ],
        [
         "5",
         "Cameroon Development Corporation",
         "1947",
         "CAT1",
         "CMR",
         "Cameroon",
         "Africa"
        ],
        [
         "6",
         "Correios de Cabo Verde",
         "1849",
         "CAT16",
         "CPV",
         "Cabo Verde",
         "Africa"
        ],
        [
         "7",
         "Banque Internationale pour la Centrafrique",
         "1946",
         "CAT3",
         "CAF",
         "Central African Republic",
         "Africa"
        ],
        [
         "8",
         "Cotontchad",
         "1971",
         "CAT1",
         "TCD",
         "Chad",
         "Africa"
        ],
        [
         "9",
         "Central Bank of the Comoros",
         "1981",
         "CAT3",
         "COM",
         "Comoros",
         "Africa"
        ],
        [
         "10",
         "Société nationale des Chemins de fer du Congo",
         "1889",
         "CAT2",
         "COD",
         "Congo, The Democratic Republic of the",
         "Africa"
        ],
        [
         "11",
         "Development Bank of the Central African States",
         "1975",
         "CAT3",
         "COG",
         "Congo",
         "Africa"
        ],
        [
         "12",
         "La Poste",
         "1945",
         "CAT16",
         "CIV",
         "Côte d'Ivoire",
         "Africa"
        ],
        [
         "13",
         "Ethio-Djibouti Railways",
         "1901",
         "CAT2",
         "DJI",
         "Djibouti",
         "Africa"
        ],
        [
         "14",
         "Egyptian National Railways",
         "1854",
         "CAT2",
         "EGY",
         "Egypt",
         "Africa"
        ],
        [
         "15",
         "Guinea Ecuatorial Airlines",
         "1996",
         "CAT2",
         "GNQ",
         "Equatorial Guinea",
         "Africa"
        ],
        [
         "16",
         "Asmara Brewery",
         "1939",
         "CAT9",
         "ERI",
         "Eritrea",
         "Africa"
        ],
        [
         "17",
         "National Bank of Ethiopia",
         "1906",
         "CAT3",
         "ETH",
         "Ethiopia",
         "Africa"
        ],
        [
         "18",
         "BGFIBank Group",
         "1971",
         "CAT3",
         "GAB",
         "Gabon",
         "Africa"
        ],
        [
         "19",
         "Halco Mining",
         "1962",
         "CAT15",
         "GIN",
         "Guinea",
         "Africa"
        ],
        [
         "20",
         "Correios da Guiné-Bissau",
         "1973",
         "CAT16",
         "GNB",
         "Guinea-Bissau",
         "Africa"
        ],
        [
         "21",
         "KCB Group Limited",
         "1896",
         "CAT3",
         "KEN",
         "Kenya",
         "Africa"
        ],
        [
         "22",
         "Central Bank of Lesotho",
         "1978",
         "CAT3",
         "LSO",
         "Lesotho",
         "Africa"
        ],
        [
         "23",
         "National Port Authority",
         "1921",
         "CAT2",
         "LBR",
         "Liberia",
         "Africa"
        ],
        [
         "24",
         "Umma Bank",
         "1907",
         "CAT3",
         "LBY",
         "Libya",
         "Africa"
        ],
        [
         "25",
         "Air Madagascar",
         "1962",
         "CAT2",
         "MDG",
         "Madagascar",
         "Africa"
        ],
        [
         "26",
         "Malawi Broadcasting Corporation",
         "1964",
         "CAT13",
         "MWI",
         "Malawi",
         "Africa"
        ],
        [
         "27",
         "Office de Radiodiffusion-Télévision du Mali",
         "1957",
         "CAT13",
         "MLI",
         "Mali",
         "Africa"
        ],
        [
         "28",
         "Central Bank of Mauritania",
         "1973",
         "CAT3",
         "MRT",
         "Mauritania",
         "Africa"
        ],
        [
         "29",
         "Mauritius Post",
         "1772",
         "CAT16",
         "MUS",
         "Mauritius",
         "Africa"
        ],
        [
         "30",
         "Attijariwafa Bank",
         "1904",
         "CAT3",
         "MAR",
         "Morocco",
         "Africa"
        ],
        [
         "31",
         "Beira Railroad Corporation",
         "1892",
         "CAT2",
         "MOZ",
         "Mozambique",
         "Africa"
        ],
        [
         "32",
         "NamPost",
         "1814",
         "CAT16",
         "NAM",
         "Namibia",
         "Africa"
        ],
        [
         "33",
         "Office of Radio and Television of Niger",
         "1960",
         "CAT13",
         "NER",
         "Niger",
         "Africa"
        ],
        [
         "34",
         "First Bank of Nigeria",
         "1894",
         "CAT3",
         "NGA",
         "Nigeria",
         "Africa"
        ],
        [
         "35",
         "National Post Office",
         "1922",
         "CAT16",
         "RWA",
         "Rwanda",
         "Africa"
        ],
        [
         "36",
         "Central Bank of São Tomé and Príncipe",
         "1975",
         "CAT3",
         "STP",
         "Sao Tome and Principe",
         "Africa"
        ],
        [
         "37",
         "Dakar–Niger Railway",
         "1924",
         "CAT2",
         "SEN",
         "Senegal",
         "Africa"
        ],
        [
         "38",
         "Air Seychelles",
         "1977",
         "CAT2",
         "SYC",
         "Seychelles",
         "Asia"
        ],
        [
         "39",
         "Rokel Commercial Bank",
         "1917",
         "CAT3",
         "SLE",
         "Sierra Leone",
         "Africa"
        ],
        [
         "40",
         "Radio Mogadishu",
         "1943",
         "CAT13",
         "SOM",
         "Somalia",
         "Africa"
        ],
        [
         "41",
         "Premier FMCG",
         "1820",
         "CAT12",
         "ZAF",
         "South Africa",
         "Africa"
        ],
        [
         "42",
         "Ivory Bank",
         "1994",
         "CAT3",
         "SSD",
         "South Sudan",
         "Africa"
        ],
        [
         "43",
         "Bank of Khartoum",
         "1913",
         "CAT3",
         "SDN",
         "Sudan",
         "Africa"
        ],
        [
         "44",
         "Swazi Rail",
         "1963",
         "CAT2",
         "SWZ",
         "Eswatini",
         "Africa"
        ],
        [
         "45",
         "Tanzania Breweries Limited",
         "1933",
         "CAT9",
         "TZA",
         "Tanzania, United Republic of",
         "Africa"
        ],
        [
         "46",
         "La Poste du Togo",
         "1883",
         "CAT16",
         "TGO",
         "Togo",
         "Africa"
        ],
        [
         "47",
         "La Poste Tunisienne",
         "1847",
         "CAT16",
         "TUN",
         "Tunisia",
         "Africa"
        ],
        [
         "48",
         "Stanbic Bank Uganda Limited",
         "1906",
         "CAT3",
         "UGA",
         "Uganda",
         "Africa"
        ],
        [
         "49",
         "ZamPost",
         "1896",
         "CAT16",
         "ZMB",
         "Zambia",
         "Africa"
        ]
       ],
       "shape": {
        "columns": 6,
        "rows": 165
       }
      },
      "text/html": [
       "<div>\n",
       "<style scoped>\n",
       "    .dataframe tbody tr th:only-of-type {\n",
       "        vertical-align: middle;\n",
       "    }\n",
       "\n",
       "    .dataframe tbody tr th {\n",
       "        vertical-align: top;\n",
       "    }\n",
       "\n",
       "    .dataframe thead th {\n",
       "        text-align: right;\n",
       "    }\n",
       "</style>\n",
       "<table border=\"1\" class=\"dataframe\">\n",
       "  <thead>\n",
       "    <tr style=\"text-align: right;\">\n",
       "      <th></th>\n",
       "      <th>business</th>\n",
       "      <th>year_founded</th>\n",
       "      <th>category_code</th>\n",
       "      <th>country_code</th>\n",
       "      <th>country</th>\n",
       "      <th>continent</th>\n",
       "    </tr>\n",
       "  </thead>\n",
       "  <tbody>\n",
       "    <tr>\n",
       "      <th>0</th>\n",
       "      <td>Hamoud Boualem</td>\n",
       "      <td>1878</td>\n",
       "      <td>CAT11</td>\n",
       "      <td>DZA</td>\n",
       "      <td>Algeria</td>\n",
       "      <td>Africa</td>\n",
       "    </tr>\n",
       "    <tr>\n",
       "      <th>1</th>\n",
       "      <td>Communauté Électrique du Bénin</td>\n",
       "      <td>1968</td>\n",
       "      <td>CAT10</td>\n",
       "      <td>BEN</td>\n",
       "      <td>Benin</td>\n",
       "      <td>Africa</td>\n",
       "    </tr>\n",
       "    <tr>\n",
       "      <th>2</th>\n",
       "      <td>Botswana Meat Commission</td>\n",
       "      <td>1965</td>\n",
       "      <td>CAT1</td>\n",
       "      <td>BWA</td>\n",
       "      <td>Botswana</td>\n",
       "      <td>Africa</td>\n",
       "    </tr>\n",
       "    <tr>\n",
       "      <th>3</th>\n",
       "      <td>Air Burkina</td>\n",
       "      <td>1967</td>\n",
       "      <td>CAT2</td>\n",
       "      <td>BFA</td>\n",
       "      <td>Burkina Faso</td>\n",
       "      <td>Africa</td>\n",
       "    </tr>\n",
       "    <tr>\n",
       "      <th>4</th>\n",
       "      <td>Brarudi</td>\n",
       "      <td>1955</td>\n",
       "      <td>CAT9</td>\n",
       "      <td>BDI</td>\n",
       "      <td>Burundi</td>\n",
       "      <td>Africa</td>\n",
       "    </tr>\n",
       "    <tr>\n",
       "      <th>...</th>\n",
       "      <td>...</td>\n",
       "      <td>...</td>\n",
       "      <td>...</td>\n",
       "      <td>...</td>\n",
       "      <td>...</td>\n",
       "      <td>...</td>\n",
       "    </tr>\n",
       "    <tr>\n",
       "      <th>160</th>\n",
       "      <td>Australia Post</td>\n",
       "      <td>1809</td>\n",
       "      <td>CAT16</td>\n",
       "      <td>AUS</td>\n",
       "      <td>Australia</td>\n",
       "      <td>Oceania</td>\n",
       "    </tr>\n",
       "    <tr>\n",
       "      <th>161</th>\n",
       "      <td>Bank of New Zealand</td>\n",
       "      <td>1861</td>\n",
       "      <td>CAT3</td>\n",
       "      <td>NZL</td>\n",
       "      <td>New Zealand</td>\n",
       "      <td>Oceania</td>\n",
       "    </tr>\n",
       "    <tr>\n",
       "      <th>162</th>\n",
       "      <td>European Trust Company</td>\n",
       "      <td>1991</td>\n",
       "      <td>CAT3</td>\n",
       "      <td>VUT</td>\n",
       "      <td>Vanuatu</td>\n",
       "      <td>Oceania</td>\n",
       "    </tr>\n",
       "    <tr>\n",
       "      <th>163</th>\n",
       "      <td>Fiji Times</td>\n",
       "      <td>1869</td>\n",
       "      <td>CAT13</td>\n",
       "      <td>FJI</td>\n",
       "      <td>Fiji</td>\n",
       "      <td>Oceania</td>\n",
       "    </tr>\n",
       "    <tr>\n",
       "      <th>164</th>\n",
       "      <td>J. Armando Bermúdez &amp; Co.</td>\n",
       "      <td>1852</td>\n",
       "      <td>CAT9</td>\n",
       "      <td>DOM</td>\n",
       "      <td>Dominican Republic</td>\n",
       "      <td>North America</td>\n",
       "    </tr>\n",
       "  </tbody>\n",
       "</table>\n",
       "<p>165 rows × 6 columns</p>\n",
       "</div>"
      ],
      "text/plain": [
       "                           business  year_founded category_code country_code  \\\n",
       "0                    Hamoud Boualem          1878         CAT11          DZA   \n",
       "1    Communauté Électrique du Bénin          1968         CAT10          BEN   \n",
       "2          Botswana Meat Commission          1965          CAT1          BWA   \n",
       "3                       Air Burkina          1967          CAT2          BFA   \n",
       "4                           Brarudi          1955          CAT9          BDI   \n",
       "..                              ...           ...           ...          ...   \n",
       "160                  Australia Post          1809         CAT16          AUS   \n",
       "161             Bank of New Zealand          1861          CAT3          NZL   \n",
       "162          European Trust Company          1991          CAT3          VUT   \n",
       "163                      Fiji Times          1869         CAT13          FJI   \n",
       "164       J. Armando Bermúdez & Co.          1852          CAT9          DOM   \n",
       "\n",
       "                country      continent  \n",
       "0               Algeria         Africa  \n",
       "1                 Benin         Africa  \n",
       "2              Botswana         Africa  \n",
       "3          Burkina Faso         Africa  \n",
       "4               Burundi         Africa  \n",
       "..                  ...            ...  \n",
       "160           Australia        Oceania  \n",
       "161         New Zealand        Oceania  \n",
       "162             Vanuatu        Oceania  \n",
       "163                Fiji        Oceania  \n",
       "164  Dominican Republic  North America  \n",
       "\n",
       "[165 rows x 6 columns]"
      ]
     },
     "execution_count": 10,
     "metadata": {},
     "output_type": "execute_result"
    }
   ],
   "source": [
    "merged_df = pd.merge(concated_df, countries, on='country_code')\n",
    "merged_df"
   ]
  },
  {
   "cell_type": "code",
   "execution_count": 11,
   "id": "080505e3",
   "metadata": {},
   "outputs": [
    {
     "name": "stdout",
     "output_type": "stream",
     "text": [
      "<class 'pandas.core.frame.DataFrame'>\n",
      "RangeIndex: 165 entries, 0 to 164\n",
      "Data columns (total 6 columns):\n",
      " #   Column         Non-Null Count  Dtype \n",
      "---  ------         --------------  ----- \n",
      " 0   business       165 non-null    object\n",
      " 1   year_founded   165 non-null    int64 \n",
      " 2   category_code  165 non-null    object\n",
      " 3   country_code   165 non-null    object\n",
      " 4   country        165 non-null    object\n",
      " 5   continent      165 non-null    object\n",
      "dtypes: int64(1), object(5)\n",
      "memory usage: 7.9+ KB\n"
     ]
    }
   ],
   "source": [
    "merged_df.info()"
   ]
  },
  {
   "cell_type": "markdown",
   "id": "283562cc",
   "metadata": {},
   "source": [
    "### Pytanie 1"
   ]
  },
  {
   "cell_type": "markdown",
   "id": "432c3fe9",
   "metadata": {},
   "source": [
    "- What is the oldest business on each continent? Save your answer as a DataFrame called oldest_business_continent with four columns: continent, country, business, and year_founded in any order."
   ]
  },
  {
   "cell_type": "code",
   "execution_count": 13,
   "id": "9a326f3c",
   "metadata": {},
   "outputs": [
    {
     "data": {
      "application/vnd.microsoft.datawrangler.viewer.v0+json": {
       "columns": [
        {
         "name": "continent",
         "rawType": "object",
         "type": "string"
        },
        {
         "name": "year",
         "rawType": "int64",
         "type": "integer"
        }
       ],
       "conversionMethod": "pd.DataFrame",
       "ref": "afd8ca23-c635-4cad-9fef-5dfbe7e44963",
       "rows": [
        [
         "Asia",
         "578"
        ],
        [
         "Europe",
         "803"
        ],
        [
         "North America",
         "1534"
        ],
        [
         "South America",
         "1565"
        ],
        [
         "Africa",
         "1772"
        ],
        [
         "Oceania",
         "1809"
        ]
       ],
       "shape": {
        "columns": 1,
        "rows": 6
       }
      },
      "text/html": [
       "<div>\n",
       "<style scoped>\n",
       "    .dataframe tbody tr th:only-of-type {\n",
       "        vertical-align: middle;\n",
       "    }\n",
       "\n",
       "    .dataframe tbody tr th {\n",
       "        vertical-align: top;\n",
       "    }\n",
       "\n",
       "    .dataframe thead th {\n",
       "        text-align: right;\n",
       "    }\n",
       "</style>\n",
       "<table border=\"1\" class=\"dataframe\">\n",
       "  <thead>\n",
       "    <tr style=\"text-align: right;\">\n",
       "      <th></th>\n",
       "      <th>year</th>\n",
       "    </tr>\n",
       "    <tr>\n",
       "      <th>continent</th>\n",
       "      <th></th>\n",
       "    </tr>\n",
       "  </thead>\n",
       "  <tbody>\n",
       "    <tr>\n",
       "      <th>Asia</th>\n",
       "      <td>578</td>\n",
       "    </tr>\n",
       "    <tr>\n",
       "      <th>Europe</th>\n",
       "      <td>803</td>\n",
       "    </tr>\n",
       "    <tr>\n",
       "      <th>North America</th>\n",
       "      <td>1534</td>\n",
       "    </tr>\n",
       "    <tr>\n",
       "      <th>South America</th>\n",
       "      <td>1565</td>\n",
       "    </tr>\n",
       "    <tr>\n",
       "      <th>Africa</th>\n",
       "      <td>1772</td>\n",
       "    </tr>\n",
       "    <tr>\n",
       "      <th>Oceania</th>\n",
       "      <td>1809</td>\n",
       "    </tr>\n",
       "  </tbody>\n",
       "</table>\n",
       "</div>"
      ],
      "text/plain": [
       "               year\n",
       "continent          \n",
       "Asia            578\n",
       "Europe          803\n",
       "North America  1534\n",
       "South America  1565\n",
       "Africa         1772\n",
       "Oceania        1809"
      ]
     },
     "execution_count": 13,
     "metadata": {},
     "output_type": "execute_result"
    }
   ],
   "source": [
    "continent_grouped_df = merged_df.groupby('continent').agg(\n",
    "    year = ('year_founded', 'min')\n",
    ")\n",
    "continent_grouped_df.sort_values('year')"
   ]
  },
  {
   "cell_type": "markdown",
   "id": "d4a5cadd",
   "metadata": {},
   "source": [
    "### Pytanie 2"
   ]
  },
  {
   "cell_type": "markdown",
   "id": "714b4d60",
   "metadata": {},
   "source": [
    "- How many countries per continent lack data on the oldest businesses? Does including new_businesses change this? Count the number of countries per continent missing business data, including new_businesses, and store the results in a DataFrame named count_missing with columns for the continent and the count."
   ]
  },
  {
   "cell_type": "code",
   "execution_count": 18,
   "id": "7cbe12b8",
   "metadata": {},
   "outputs": [
    {
     "data": {
      "application/vnd.microsoft.datawrangler.viewer.v0+json": {
       "columns": [
        {
         "name": "index",
         "rawType": "int64",
         "type": "integer"
        },
        {
         "name": "business",
         "rawType": "object",
         "type": "unknown"
        },
        {
         "name": "year_founded",
         "rawType": "float64",
         "type": "float"
        },
        {
         "name": "category_code",
         "rawType": "object",
         "type": "unknown"
        },
        {
         "name": "country_code",
         "rawType": "object",
         "type": "string"
        },
        {
         "name": "country",
         "rawType": "object",
         "type": "string"
        },
        {
         "name": "continent",
         "rawType": "object",
         "type": "string"
        },
        {
         "name": "_merge",
         "rawType": "category",
         "type": "unknown"
        }
       ],
       "conversionMethod": "pd.DataFrame",
       "ref": "b314d875-37a8-4b43-9fe3-e0514e6177c5",
       "rows": [
        [
         "0",
         "Spinzar Cotton Company",
         "1930.0",
         "CAT1",
         "AFG",
         "Afghanistan",
         "Asia",
         "both"
        ],
        [
         "1",
         null,
         null,
         null,
         "AGO",
         "Angola",
         "Africa",
         "right_only"
        ],
        [
         "2",
         "ALBtelecom",
         "1912.0",
         "CAT18",
         "ALB",
         "Albania",
         "Europe",
         "both"
        ],
        [
         "3",
         "Andbank",
         "1930.0",
         "CAT3",
         "AND",
         "Andorra",
         "Europe",
         "both"
        ],
        [
         "4",
         "Liwa Chemicals",
         "1939.0",
         "CAT12",
         "ARE",
         "United Arab Emirates",
         "Asia",
         "both"
        ],
        [
         "5",
         "Bank of the Province of Buenos Aires",
         "1822.0",
         "CAT3",
         "ARG",
         "Argentina",
         "South America",
         "both"
        ],
        [
         "6",
         "Yerevan Ararat Brandy-Wine-Vodka Factory",
         "1877.0",
         "CAT9",
         "ARM",
         "Armenia",
         "Asia",
         "both"
        ],
        [
         "7",
         null,
         null,
         null,
         "ATG",
         "Antigua and Barbuda",
         "North America",
         "right_only"
        ],
        [
         "8",
         "Australia Post",
         "1809.0",
         "CAT16",
         "AUS",
         "Australia",
         "Oceania",
         "both"
        ],
        [
         "9",
         "St. Peter Stifts Kulinarium",
         "803.0",
         "CAT4",
         "AUT",
         "Austria",
         "Europe",
         "both"
        ],
        [
         "10",
         "Azerbaijan Caspian Shipping Company",
         "1858.0",
         "CAT2",
         "AZE",
         "Azerbaijan",
         "Asia",
         "both"
        ],
        [
         "11",
         "Brarudi",
         "1955.0",
         "CAT9",
         "BDI",
         "Burundi",
         "Africa",
         "both"
        ],
        [
         "12",
         "Affligem Brewery",
         "1074.0",
         "CAT9",
         "BEL",
         "Belgium",
         "Europe",
         "both"
        ],
        [
         "13",
         "Communauté Électrique du Bénin",
         "1968.0",
         "CAT10",
         "BEN",
         "Benin",
         "Africa",
         "both"
        ],
        [
         "14",
         "Air Burkina",
         "1967.0",
         "CAT2",
         "BFA",
         "Burkina Faso",
         "Africa",
         "both"
        ],
        [
         "15",
         "M. M. Ispahani Limited",
         "1820.0",
         "CAT11",
         "BGD",
         "Bangladesh",
         "Asia",
         "both"
        ],
        [
         "16",
         "Arsenal AD",
         "1878.0",
         "CAT8",
         "BGR",
         "Bulgaria",
         "Europe",
         "both"
        ],
        [
         "17",
         "BMMI",
         "1883.0",
         "CAT17",
         "BHR",
         "Bahrain",
         "Asia",
         "both"
        ],
        [
         "18",
         null,
         null,
         null,
         "BHS",
         "Bahamas",
         "North America",
         "right_only"
        ],
        [
         "19",
         "Sarajevska Pivara",
         "1864.0",
         "CAT9",
         "BIH",
         "Bosnia and Herzegovina",
         "Europe",
         "both"
        ],
        [
         "20",
         "Olivaria Brewery",
         "1864.0",
         "CAT9",
         "BLR",
         "Belarus",
         "Europe",
         "both"
        ],
        [
         "21",
         "Belize Bank",
         "1902.0",
         "CAT3",
         "BLZ",
         "Belize",
         "North America",
         "both"
        ],
        [
         "22",
         "Banco Nacional de Bolivia",
         "1871.0",
         "CAT3",
         "BOL",
         "Bolivia, Plurinational State of",
         "South America",
         "both"
        ],
        [
         "23",
         "Casa da Moeda do Brasil",
         "1694.0",
         "CAT12",
         "BRA",
         "Brazil",
         "South America",
         "both"
        ],
        [
         "24",
         "Mount Gay Rum",
         "1703.0",
         "CAT9",
         "BRB",
         "Barbados",
         "North America",
         "both"
        ],
        [
         "25",
         "Hua Ho Department Store",
         "1947.0",
         "CAT17",
         "BRN",
         "Brunei Darussalam",
         "Asia",
         "both"
        ],
        [
         "26",
         "Tashi Group",
         "1959.0",
         "CAT2",
         "BTN",
         "Bhutan",
         "Asia",
         "both"
        ],
        [
         "27",
         "Botswana Meat Commission",
         "1965.0",
         "CAT1",
         "BWA",
         "Botswana",
         "Africa",
         "both"
        ],
        [
         "28",
         "Banque Internationale pour la Centrafrique",
         "1946.0",
         "CAT3",
         "CAF",
         "Central African Republic",
         "Africa",
         "both"
        ],
        [
         "29",
         "Hudson's Bay Company",
         "1670.0",
         "CAT17",
         "CAN",
         "Canada",
         "North America",
         "both"
        ],
        [
         "30",
         "Gasthof Sternen",
         "1230.0",
         "CAT19",
         "CHE",
         "Switzerland",
         "Europe",
         "both"
        ],
        [
         "31",
         "Famae",
         "1811.0",
         "CAT8",
         "CHL",
         "Chile",
         "South America",
         "both"
        ],
        [
         "32",
         "Ma Yu Ching's Bucket Chicken House",
         "1153.0",
         "CAT4",
         "CHN",
         "China",
         "Asia",
         "both"
        ],
        [
         "33",
         "La Poste",
         "1945.0",
         "CAT16",
         "CIV",
         "Côte d'Ivoire",
         "Africa",
         "both"
        ],
        [
         "34",
         "Cameroon Development Corporation",
         "1947.0",
         "CAT1",
         "CMR",
         "Cameroon",
         "Africa",
         "both"
        ],
        [
         "35",
         "Société nationale des Chemins de fer du Congo",
         "1889.0",
         "CAT2",
         "COD",
         "Congo, The Democratic Republic of the",
         "Africa",
         "both"
        ],
        [
         "36",
         "Development Bank of the Central African States",
         "1975.0",
         "CAT3",
         "COG",
         "Congo",
         "Africa",
         "both"
        ],
        [
         "37",
         "Casa de Moneda de Colombia",
         "1621.0",
         "CAT12",
         "COL",
         "Colombia",
         "South America",
         "both"
        ],
        [
         "38",
         "Central Bank of the Comoros",
         "1981.0",
         "CAT3",
         "COM",
         "Comoros",
         "Africa",
         "both"
        ],
        [
         "39",
         "Correios de Cabo Verde",
         "1849.0",
         "CAT16",
         "CPV",
         "Cabo Verde",
         "Africa",
         "both"
        ],
        [
         "40",
         "Florida Ice and Farm Company",
         "1908.0",
         "CAT9",
         "CRI",
         "Costa Rica",
         "North America",
         "both"
        ],
        [
         "41",
         "Cubana de Aviación",
         "1929.0",
         "CAT2",
         "CUB",
         "Cuba",
         "North America",
         "both"
        ],
        [
         "42",
         "Bank of Cyprus",
         "1899.0",
         "CAT3",
         "CYP",
         "Cyprus",
         "Europe",
         "both"
        ],
        [
         "43",
         "Pivovar Broumov",
         "1348.0",
         "CAT9",
         "CZE",
         "Czechia",
         "Europe",
         "both"
        ],
        [
         "44",
         "Staffelter Hof Winery",
         "862.0",
         "CAT9",
         "DEU",
         "Germany",
         "Europe",
         "both"
        ],
        [
         "45",
         "Ethio-Djibouti Railways",
         "1901.0",
         "CAT2",
         "DJI",
         "Djibouti",
         "Africa",
         "both"
        ],
        [
         "46",
         "The Chronicle (Dominica)",
         "1909.0",
         "CAT13",
         "DMA",
         "Dominica",
         "North America",
         "both"
        ],
        [
         "47",
         "Munke Mølle",
         "1135.0",
         "CAT12",
         "DNK",
         "Denmark",
         "Europe",
         "both"
        ],
        [
         "48",
         "J. Armando Bermúdez & Co.",
         "1852.0",
         "CAT9",
         "DOM",
         "Dominican Republic",
         "North America",
         "both"
        ],
        [
         "49",
         "Hamoud Boualem",
         "1878.0",
         "CAT11",
         "DZA",
         "Algeria",
         "Africa",
         "both"
        ]
       ],
       "shape": {
        "columns": 7,
        "rows": 195
       }
      },
      "text/html": [
       "<div>\n",
       "<style scoped>\n",
       "    .dataframe tbody tr th:only-of-type {\n",
       "        vertical-align: middle;\n",
       "    }\n",
       "\n",
       "    .dataframe tbody tr th {\n",
       "        vertical-align: top;\n",
       "    }\n",
       "\n",
       "    .dataframe thead th {\n",
       "        text-align: right;\n",
       "    }\n",
       "</style>\n",
       "<table border=\"1\" class=\"dataframe\">\n",
       "  <thead>\n",
       "    <tr style=\"text-align: right;\">\n",
       "      <th></th>\n",
       "      <th>business</th>\n",
       "      <th>year_founded</th>\n",
       "      <th>category_code</th>\n",
       "      <th>country_code</th>\n",
       "      <th>country</th>\n",
       "      <th>continent</th>\n",
       "      <th>_merge</th>\n",
       "    </tr>\n",
       "  </thead>\n",
       "  <tbody>\n",
       "    <tr>\n",
       "      <th>0</th>\n",
       "      <td>Spinzar Cotton Company</td>\n",
       "      <td>1930.0</td>\n",
       "      <td>CAT1</td>\n",
       "      <td>AFG</td>\n",
       "      <td>Afghanistan</td>\n",
       "      <td>Asia</td>\n",
       "      <td>both</td>\n",
       "    </tr>\n",
       "    <tr>\n",
       "      <th>1</th>\n",
       "      <td>NaN</td>\n",
       "      <td>NaN</td>\n",
       "      <td>NaN</td>\n",
       "      <td>AGO</td>\n",
       "      <td>Angola</td>\n",
       "      <td>Africa</td>\n",
       "      <td>right_only</td>\n",
       "    </tr>\n",
       "    <tr>\n",
       "      <th>2</th>\n",
       "      <td>ALBtelecom</td>\n",
       "      <td>1912.0</td>\n",
       "      <td>CAT18</td>\n",
       "      <td>ALB</td>\n",
       "      <td>Albania</td>\n",
       "      <td>Europe</td>\n",
       "      <td>both</td>\n",
       "    </tr>\n",
       "    <tr>\n",
       "      <th>3</th>\n",
       "      <td>Andbank</td>\n",
       "      <td>1930.0</td>\n",
       "      <td>CAT3</td>\n",
       "      <td>AND</td>\n",
       "      <td>Andorra</td>\n",
       "      <td>Europe</td>\n",
       "      <td>both</td>\n",
       "    </tr>\n",
       "    <tr>\n",
       "      <th>4</th>\n",
       "      <td>Liwa Chemicals</td>\n",
       "      <td>1939.0</td>\n",
       "      <td>CAT12</td>\n",
       "      <td>ARE</td>\n",
       "      <td>United Arab Emirates</td>\n",
       "      <td>Asia</td>\n",
       "      <td>both</td>\n",
       "    </tr>\n",
       "    <tr>\n",
       "      <th>...</th>\n",
       "      <td>...</td>\n",
       "      <td>...</td>\n",
       "      <td>...</td>\n",
       "      <td>...</td>\n",
       "      <td>...</td>\n",
       "      <td>...</td>\n",
       "      <td>...</td>\n",
       "    </tr>\n",
       "    <tr>\n",
       "      <th>190</th>\n",
       "      <td>Meridian Corporation</td>\n",
       "      <td>1999.0</td>\n",
       "      <td>CAT13</td>\n",
       "      <td>XK</td>\n",
       "      <td>Kosovo</td>\n",
       "      <td>Europe</td>\n",
       "      <td>both</td>\n",
       "    </tr>\n",
       "    <tr>\n",
       "      <th>191</th>\n",
       "      <td>Yemenia Airways</td>\n",
       "      <td>1962.0</td>\n",
       "      <td>CAT2</td>\n",
       "      <td>YEM</td>\n",
       "      <td>Yemen</td>\n",
       "      <td>Asia</td>\n",
       "      <td>both</td>\n",
       "    </tr>\n",
       "    <tr>\n",
       "      <th>192</th>\n",
       "      <td>Premier FMCG</td>\n",
       "      <td>1820.0</td>\n",
       "      <td>CAT12</td>\n",
       "      <td>ZAF</td>\n",
       "      <td>South Africa</td>\n",
       "      <td>Africa</td>\n",
       "      <td>both</td>\n",
       "    </tr>\n",
       "    <tr>\n",
       "      <th>193</th>\n",
       "      <td>ZamPost</td>\n",
       "      <td>1896.0</td>\n",
       "      <td>CAT16</td>\n",
       "      <td>ZMB</td>\n",
       "      <td>Zambia</td>\n",
       "      <td>Africa</td>\n",
       "      <td>both</td>\n",
       "    </tr>\n",
       "    <tr>\n",
       "      <th>194</th>\n",
       "      <td>Standard Chartered Zimbabwe</td>\n",
       "      <td>1892.0</td>\n",
       "      <td>CAT3</td>\n",
       "      <td>ZWE</td>\n",
       "      <td>Zimbabwe</td>\n",
       "      <td>Africa</td>\n",
       "      <td>both</td>\n",
       "    </tr>\n",
       "  </tbody>\n",
       "</table>\n",
       "<p>195 rows × 7 columns</p>\n",
       "</div>"
      ],
      "text/plain": [
       "                        business  year_founded category_code country_code  \\\n",
       "0         Spinzar Cotton Company        1930.0          CAT1          AFG   \n",
       "1                            NaN           NaN           NaN          AGO   \n",
       "2                     ALBtelecom        1912.0         CAT18          ALB   \n",
       "3                        Andbank        1930.0          CAT3          AND   \n",
       "4                 Liwa Chemicals        1939.0         CAT12          ARE   \n",
       "..                           ...           ...           ...          ...   \n",
       "190         Meridian Corporation        1999.0         CAT13           XK   \n",
       "191              Yemenia Airways        1962.0          CAT2          YEM   \n",
       "192                 Premier FMCG        1820.0         CAT12          ZAF   \n",
       "193                      ZamPost        1896.0         CAT16          ZMB   \n",
       "194  Standard Chartered Zimbabwe        1892.0          CAT3          ZWE   \n",
       "\n",
       "                  country continent      _merge  \n",
       "0             Afghanistan      Asia        both  \n",
       "1                  Angola    Africa  right_only  \n",
       "2                 Albania    Europe        both  \n",
       "3                 Andorra    Europe        both  \n",
       "4    United Arab Emirates      Asia        both  \n",
       "..                    ...       ...         ...  \n",
       "190                Kosovo    Europe        both  \n",
       "191                 Yemen      Asia        both  \n",
       "192          South Africa    Africa        both  \n",
       "193                Zambia    Africa        both  \n",
       "194              Zimbabwe    Africa        both  \n",
       "\n",
       "[195 rows x 7 columns]"
      ]
     },
     "execution_count": 18,
     "metadata": {},
     "output_type": "execute_result"
    }
   ],
   "source": [
    "all_businesses = pd.concat([new_businesses, businesses])\n",
    "\n",
    "new_all_countries = all_businesses.merge(countries, on=\"country_code\", how=\"outer\",  indicator=True)\n",
    "new_all_countries"
   ]
  },
  {
   "cell_type": "code",
   "execution_count": 19,
   "id": "38725069",
   "metadata": {},
   "outputs": [
    {
     "name": "stdout",
     "output_type": "stream",
     "text": [
      "<class 'pandas.core.frame.DataFrame'>\n",
      "RangeIndex: 195 entries, 0 to 194\n",
      "Data columns (total 7 columns):\n",
      " #   Column         Non-Null Count  Dtype   \n",
      "---  ------         --------------  -----   \n",
      " 0   business       165 non-null    object  \n",
      " 1   year_founded   165 non-null    float64 \n",
      " 2   category_code  165 non-null    object  \n",
      " 3   country_code   195 non-null    object  \n",
      " 4   country        195 non-null    object  \n",
      " 5   continent      195 non-null    object  \n",
      " 6   _merge         195 non-null    category\n",
      "dtypes: category(1), float64(1), object(5)\n",
      "memory usage: 9.6+ KB\n"
     ]
    }
   ],
   "source": [
    "new_all_countries.info()"
   ]
  },
  {
   "cell_type": "code",
   "execution_count": 20,
   "id": "34347b53",
   "metadata": {},
   "outputs": [
    {
     "data": {
      "application/vnd.microsoft.datawrangler.viewer.v0+json": {
       "columns": [
        {
         "name": "index",
         "rawType": "int64",
         "type": "integer"
        },
        {
         "name": "business",
         "rawType": "object",
         "type": "unknown"
        },
        {
         "name": "year_founded",
         "rawType": "float64",
         "type": "float"
        },
        {
         "name": "category_code",
         "rawType": "object",
         "type": "unknown"
        },
        {
         "name": "country_code",
         "rawType": "object",
         "type": "string"
        },
        {
         "name": "country",
         "rawType": "object",
         "type": "string"
        },
        {
         "name": "continent",
         "rawType": "object",
         "type": "string"
        },
        {
         "name": "_merge",
         "rawType": "category",
         "type": "unknown"
        }
       ],
       "conversionMethod": "pd.DataFrame",
       "ref": "393c1a0b-64b9-4da4-9482-688ff62cc8d5",
       "rows": [
        [
         "1",
         null,
         null,
         null,
         "AGO",
         "Angola",
         "Africa",
         "right_only"
        ],
        [
         "7",
         null,
         null,
         null,
         "ATG",
         "Antigua and Barbuda",
         "North America",
         "right_only"
        ],
        [
         "18",
         null,
         null,
         null,
         "BHS",
         "Bahamas",
         "North America",
         "right_only"
        ],
        [
         "50",
         null,
         null,
         null,
         "ECU",
         "Ecuador",
         "South America",
         "right_only"
        ],
        [
         "59",
         null,
         null,
         null,
         "FSM",
         "Micronesia, Federated States of",
         "Oceania",
         "right_only"
        ],
        [
         "63",
         null,
         null,
         null,
         "GHA",
         "Ghana",
         "Africa",
         "right_only"
        ],
        [
         "65",
         null,
         null,
         null,
         "GMB",
         "Gambia",
         "Africa",
         "right_only"
        ],
        [
         "69",
         null,
         null,
         null,
         "GRD",
         "Grenada",
         "North America",
         "right_only"
        ],
        [
         "79",
         null,
         null,
         null,
         "IRN",
         "Iran, Islamic Republic of",
         "Asia",
         "right_only"
        ],
        [
         "89",
         null,
         null,
         null,
         "KGZ",
         "Kyrgyzstan",
         "Asia",
         "right_only"
        ],
        [
         "91",
         null,
         null,
         null,
         "KIR",
         "Kiribati",
         "Oceania",
         "right_only"
        ],
        [
         "92",
         null,
         null,
         null,
         "KNA",
         "Saint Kitts and Nevis",
         "North America",
         "right_only"
        ],
        [
         "107",
         null,
         null,
         null,
         "MCO",
         "Monaco",
         "Europe",
         "right_only"
        ],
        [
         "108",
         null,
         null,
         null,
         "MDA",
         "Moldova, Republic of",
         "Europe",
         "right_only"
        ],
        [
         "110",
         null,
         null,
         null,
         "MDV",
         "Maldives",
         "Asia",
         "right_only"
        ],
        [
         "112",
         null,
         null,
         null,
         "MHL",
         "Marshall Islands",
         "Oceania",
         "right_only"
        ],
        [
         "131",
         null,
         null,
         null,
         "NRU",
         "Nauru",
         "Oceania",
         "right_only"
        ],
        [
         "138",
         null,
         null,
         null,
         "PLW",
         "Palau",
         "Oceania",
         "right_only"
        ],
        [
         "139",
         null,
         null,
         null,
         "PNG",
         "Papua New Guinea",
         "Oceania",
         "right_only"
        ],
        [
         "143",
         null,
         null,
         null,
         "PRY",
         "Paraguay",
         "South America",
         "right_only"
        ],
        [
         "144",
         null,
         null,
         null,
         "PSE",
         "Palestine, State of",
         "Asia",
         "right_only"
        ],
        [
         "153",
         null,
         null,
         null,
         "SLB",
         "Solomon Islands",
         "Oceania",
         "right_only"
        ],
        [
         "160",
         null,
         null,
         null,
         "SUR",
         "Suriname",
         "South America",
         "right_only"
        ],
        [
         "170",
         null,
         null,
         null,
         "TJK",
         "Tajikistan",
         "Asia",
         "right_only"
        ],
        [
         "171",
         null,
         null,
         null,
         "TKM",
         "Turkmenistan",
         "Asia",
         "right_only"
        ],
        [
         "172",
         null,
         null,
         null,
         "TLS",
         "Timor-Leste",
         "Asia",
         "right_only"
        ],
        [
         "173",
         null,
         null,
         null,
         "TON",
         "Tonga",
         "Oceania",
         "right_only"
        ],
        [
         "177",
         null,
         null,
         null,
         "TUV",
         "Tuvalu",
         "Oceania",
         "right_only"
        ],
        [
         "185",
         null,
         null,
         null,
         "VCT",
         "Saint Vincent and the Grenadines",
         "North America",
         "right_only"
        ],
        [
         "189",
         null,
         null,
         null,
         "WSM",
         "Samoa",
         "Oceania",
         "right_only"
        ]
       ],
       "shape": {
        "columns": 7,
        "rows": 30
       }
      },
      "text/html": [
       "<div>\n",
       "<style scoped>\n",
       "    .dataframe tbody tr th:only-of-type {\n",
       "        vertical-align: middle;\n",
       "    }\n",
       "\n",
       "    .dataframe tbody tr th {\n",
       "        vertical-align: top;\n",
       "    }\n",
       "\n",
       "    .dataframe thead th {\n",
       "        text-align: right;\n",
       "    }\n",
       "</style>\n",
       "<table border=\"1\" class=\"dataframe\">\n",
       "  <thead>\n",
       "    <tr style=\"text-align: right;\">\n",
       "      <th></th>\n",
       "      <th>business</th>\n",
       "      <th>year_founded</th>\n",
       "      <th>category_code</th>\n",
       "      <th>country_code</th>\n",
       "      <th>country</th>\n",
       "      <th>continent</th>\n",
       "      <th>_merge</th>\n",
       "    </tr>\n",
       "  </thead>\n",
       "  <tbody>\n",
       "    <tr>\n",
       "      <th>1</th>\n",
       "      <td>NaN</td>\n",
       "      <td>NaN</td>\n",
       "      <td>NaN</td>\n",
       "      <td>AGO</td>\n",
       "      <td>Angola</td>\n",
       "      <td>Africa</td>\n",
       "      <td>right_only</td>\n",
       "    </tr>\n",
       "    <tr>\n",
       "      <th>7</th>\n",
       "      <td>NaN</td>\n",
       "      <td>NaN</td>\n",
       "      <td>NaN</td>\n",
       "      <td>ATG</td>\n",
       "      <td>Antigua and Barbuda</td>\n",
       "      <td>North America</td>\n",
       "      <td>right_only</td>\n",
       "    </tr>\n",
       "    <tr>\n",
       "      <th>18</th>\n",
       "      <td>NaN</td>\n",
       "      <td>NaN</td>\n",
       "      <td>NaN</td>\n",
       "      <td>BHS</td>\n",
       "      <td>Bahamas</td>\n",
       "      <td>North America</td>\n",
       "      <td>right_only</td>\n",
       "    </tr>\n",
       "    <tr>\n",
       "      <th>50</th>\n",
       "      <td>NaN</td>\n",
       "      <td>NaN</td>\n",
       "      <td>NaN</td>\n",
       "      <td>ECU</td>\n",
       "      <td>Ecuador</td>\n",
       "      <td>South America</td>\n",
       "      <td>right_only</td>\n",
       "    </tr>\n",
       "    <tr>\n",
       "      <th>59</th>\n",
       "      <td>NaN</td>\n",
       "      <td>NaN</td>\n",
       "      <td>NaN</td>\n",
       "      <td>FSM</td>\n",
       "      <td>Micronesia, Federated States of</td>\n",
       "      <td>Oceania</td>\n",
       "      <td>right_only</td>\n",
       "    </tr>\n",
       "    <tr>\n",
       "      <th>63</th>\n",
       "      <td>NaN</td>\n",
       "      <td>NaN</td>\n",
       "      <td>NaN</td>\n",
       "      <td>GHA</td>\n",
       "      <td>Ghana</td>\n",
       "      <td>Africa</td>\n",
       "      <td>right_only</td>\n",
       "    </tr>\n",
       "    <tr>\n",
       "      <th>65</th>\n",
       "      <td>NaN</td>\n",
       "      <td>NaN</td>\n",
       "      <td>NaN</td>\n",
       "      <td>GMB</td>\n",
       "      <td>Gambia</td>\n",
       "      <td>Africa</td>\n",
       "      <td>right_only</td>\n",
       "    </tr>\n",
       "    <tr>\n",
       "      <th>69</th>\n",
       "      <td>NaN</td>\n",
       "      <td>NaN</td>\n",
       "      <td>NaN</td>\n",
       "      <td>GRD</td>\n",
       "      <td>Grenada</td>\n",
       "      <td>North America</td>\n",
       "      <td>right_only</td>\n",
       "    </tr>\n",
       "    <tr>\n",
       "      <th>79</th>\n",
       "      <td>NaN</td>\n",
       "      <td>NaN</td>\n",
       "      <td>NaN</td>\n",
       "      <td>IRN</td>\n",
       "      <td>Iran, Islamic Republic of</td>\n",
       "      <td>Asia</td>\n",
       "      <td>right_only</td>\n",
       "    </tr>\n",
       "    <tr>\n",
       "      <th>89</th>\n",
       "      <td>NaN</td>\n",
       "      <td>NaN</td>\n",
       "      <td>NaN</td>\n",
       "      <td>KGZ</td>\n",
       "      <td>Kyrgyzstan</td>\n",
       "      <td>Asia</td>\n",
       "      <td>right_only</td>\n",
       "    </tr>\n",
       "    <tr>\n",
       "      <th>91</th>\n",
       "      <td>NaN</td>\n",
       "      <td>NaN</td>\n",
       "      <td>NaN</td>\n",
       "      <td>KIR</td>\n",
       "      <td>Kiribati</td>\n",
       "      <td>Oceania</td>\n",
       "      <td>right_only</td>\n",
       "    </tr>\n",
       "    <tr>\n",
       "      <th>92</th>\n",
       "      <td>NaN</td>\n",
       "      <td>NaN</td>\n",
       "      <td>NaN</td>\n",
       "      <td>KNA</td>\n",
       "      <td>Saint Kitts and Nevis</td>\n",
       "      <td>North America</td>\n",
       "      <td>right_only</td>\n",
       "    </tr>\n",
       "    <tr>\n",
       "      <th>107</th>\n",
       "      <td>NaN</td>\n",
       "      <td>NaN</td>\n",
       "      <td>NaN</td>\n",
       "      <td>MCO</td>\n",
       "      <td>Monaco</td>\n",
       "      <td>Europe</td>\n",
       "      <td>right_only</td>\n",
       "    </tr>\n",
       "    <tr>\n",
       "      <th>108</th>\n",
       "      <td>NaN</td>\n",
       "      <td>NaN</td>\n",
       "      <td>NaN</td>\n",
       "      <td>MDA</td>\n",
       "      <td>Moldova, Republic of</td>\n",
       "      <td>Europe</td>\n",
       "      <td>right_only</td>\n",
       "    </tr>\n",
       "    <tr>\n",
       "      <th>110</th>\n",
       "      <td>NaN</td>\n",
       "      <td>NaN</td>\n",
       "      <td>NaN</td>\n",
       "      <td>MDV</td>\n",
       "      <td>Maldives</td>\n",
       "      <td>Asia</td>\n",
       "      <td>right_only</td>\n",
       "    </tr>\n",
       "    <tr>\n",
       "      <th>112</th>\n",
       "      <td>NaN</td>\n",
       "      <td>NaN</td>\n",
       "      <td>NaN</td>\n",
       "      <td>MHL</td>\n",
       "      <td>Marshall Islands</td>\n",
       "      <td>Oceania</td>\n",
       "      <td>right_only</td>\n",
       "    </tr>\n",
       "    <tr>\n",
       "      <th>131</th>\n",
       "      <td>NaN</td>\n",
       "      <td>NaN</td>\n",
       "      <td>NaN</td>\n",
       "      <td>NRU</td>\n",
       "      <td>Nauru</td>\n",
       "      <td>Oceania</td>\n",
       "      <td>right_only</td>\n",
       "    </tr>\n",
       "    <tr>\n",
       "      <th>138</th>\n",
       "      <td>NaN</td>\n",
       "      <td>NaN</td>\n",
       "      <td>NaN</td>\n",
       "      <td>PLW</td>\n",
       "      <td>Palau</td>\n",
       "      <td>Oceania</td>\n",
       "      <td>right_only</td>\n",
       "    </tr>\n",
       "    <tr>\n",
       "      <th>139</th>\n",
       "      <td>NaN</td>\n",
       "      <td>NaN</td>\n",
       "      <td>NaN</td>\n",
       "      <td>PNG</td>\n",
       "      <td>Papua New Guinea</td>\n",
       "      <td>Oceania</td>\n",
       "      <td>right_only</td>\n",
       "    </tr>\n",
       "    <tr>\n",
       "      <th>143</th>\n",
       "      <td>NaN</td>\n",
       "      <td>NaN</td>\n",
       "      <td>NaN</td>\n",
       "      <td>PRY</td>\n",
       "      <td>Paraguay</td>\n",
       "      <td>South America</td>\n",
       "      <td>right_only</td>\n",
       "    </tr>\n",
       "    <tr>\n",
       "      <th>144</th>\n",
       "      <td>NaN</td>\n",
       "      <td>NaN</td>\n",
       "      <td>NaN</td>\n",
       "      <td>PSE</td>\n",
       "      <td>Palestine, State of</td>\n",
       "      <td>Asia</td>\n",
       "      <td>right_only</td>\n",
       "    </tr>\n",
       "    <tr>\n",
       "      <th>153</th>\n",
       "      <td>NaN</td>\n",
       "      <td>NaN</td>\n",
       "      <td>NaN</td>\n",
       "      <td>SLB</td>\n",
       "      <td>Solomon Islands</td>\n",
       "      <td>Oceania</td>\n",
       "      <td>right_only</td>\n",
       "    </tr>\n",
       "    <tr>\n",
       "      <th>160</th>\n",
       "      <td>NaN</td>\n",
       "      <td>NaN</td>\n",
       "      <td>NaN</td>\n",
       "      <td>SUR</td>\n",
       "      <td>Suriname</td>\n",
       "      <td>South America</td>\n",
       "      <td>right_only</td>\n",
       "    </tr>\n",
       "    <tr>\n",
       "      <th>170</th>\n",
       "      <td>NaN</td>\n",
       "      <td>NaN</td>\n",
       "      <td>NaN</td>\n",
       "      <td>TJK</td>\n",
       "      <td>Tajikistan</td>\n",
       "      <td>Asia</td>\n",
       "      <td>right_only</td>\n",
       "    </tr>\n",
       "    <tr>\n",
       "      <th>171</th>\n",
       "      <td>NaN</td>\n",
       "      <td>NaN</td>\n",
       "      <td>NaN</td>\n",
       "      <td>TKM</td>\n",
       "      <td>Turkmenistan</td>\n",
       "      <td>Asia</td>\n",
       "      <td>right_only</td>\n",
       "    </tr>\n",
       "    <tr>\n",
       "      <th>172</th>\n",
       "      <td>NaN</td>\n",
       "      <td>NaN</td>\n",
       "      <td>NaN</td>\n",
       "      <td>TLS</td>\n",
       "      <td>Timor-Leste</td>\n",
       "      <td>Asia</td>\n",
       "      <td>right_only</td>\n",
       "    </tr>\n",
       "    <tr>\n",
       "      <th>173</th>\n",
       "      <td>NaN</td>\n",
       "      <td>NaN</td>\n",
       "      <td>NaN</td>\n",
       "      <td>TON</td>\n",
       "      <td>Tonga</td>\n",
       "      <td>Oceania</td>\n",
       "      <td>right_only</td>\n",
       "    </tr>\n",
       "    <tr>\n",
       "      <th>177</th>\n",
       "      <td>NaN</td>\n",
       "      <td>NaN</td>\n",
       "      <td>NaN</td>\n",
       "      <td>TUV</td>\n",
       "      <td>Tuvalu</td>\n",
       "      <td>Oceania</td>\n",
       "      <td>right_only</td>\n",
       "    </tr>\n",
       "    <tr>\n",
       "      <th>185</th>\n",
       "      <td>NaN</td>\n",
       "      <td>NaN</td>\n",
       "      <td>NaN</td>\n",
       "      <td>VCT</td>\n",
       "      <td>Saint Vincent and the Grenadines</td>\n",
       "      <td>North America</td>\n",
       "      <td>right_only</td>\n",
       "    </tr>\n",
       "    <tr>\n",
       "      <th>189</th>\n",
       "      <td>NaN</td>\n",
       "      <td>NaN</td>\n",
       "      <td>NaN</td>\n",
       "      <td>WSM</td>\n",
       "      <td>Samoa</td>\n",
       "      <td>Oceania</td>\n",
       "      <td>right_only</td>\n",
       "    </tr>\n",
       "  </tbody>\n",
       "</table>\n",
       "</div>"
      ],
      "text/plain": [
       "    business  year_founded category_code country_code  \\\n",
       "1        NaN           NaN           NaN          AGO   \n",
       "7        NaN           NaN           NaN          ATG   \n",
       "18       NaN           NaN           NaN          BHS   \n",
       "50       NaN           NaN           NaN          ECU   \n",
       "59       NaN           NaN           NaN          FSM   \n",
       "63       NaN           NaN           NaN          GHA   \n",
       "65       NaN           NaN           NaN          GMB   \n",
       "69       NaN           NaN           NaN          GRD   \n",
       "79       NaN           NaN           NaN          IRN   \n",
       "89       NaN           NaN           NaN          KGZ   \n",
       "91       NaN           NaN           NaN          KIR   \n",
       "92       NaN           NaN           NaN          KNA   \n",
       "107      NaN           NaN           NaN          MCO   \n",
       "108      NaN           NaN           NaN          MDA   \n",
       "110      NaN           NaN           NaN          MDV   \n",
       "112      NaN           NaN           NaN          MHL   \n",
       "131      NaN           NaN           NaN          NRU   \n",
       "138      NaN           NaN           NaN          PLW   \n",
       "139      NaN           NaN           NaN          PNG   \n",
       "143      NaN           NaN           NaN          PRY   \n",
       "144      NaN           NaN           NaN          PSE   \n",
       "153      NaN           NaN           NaN          SLB   \n",
       "160      NaN           NaN           NaN          SUR   \n",
       "170      NaN           NaN           NaN          TJK   \n",
       "171      NaN           NaN           NaN          TKM   \n",
       "172      NaN           NaN           NaN          TLS   \n",
       "173      NaN           NaN           NaN          TON   \n",
       "177      NaN           NaN           NaN          TUV   \n",
       "185      NaN           NaN           NaN          VCT   \n",
       "189      NaN           NaN           NaN          WSM   \n",
       "\n",
       "                              country      continent      _merge  \n",
       "1                              Angola         Africa  right_only  \n",
       "7                 Antigua and Barbuda  North America  right_only  \n",
       "18                            Bahamas  North America  right_only  \n",
       "50                            Ecuador  South America  right_only  \n",
       "59    Micronesia, Federated States of        Oceania  right_only  \n",
       "63                              Ghana         Africa  right_only  \n",
       "65                             Gambia         Africa  right_only  \n",
       "69                            Grenada  North America  right_only  \n",
       "79          Iran, Islamic Republic of           Asia  right_only  \n",
       "89                         Kyrgyzstan           Asia  right_only  \n",
       "91                           Kiribati        Oceania  right_only  \n",
       "92              Saint Kitts and Nevis  North America  right_only  \n",
       "107                            Monaco         Europe  right_only  \n",
       "108              Moldova, Republic of         Europe  right_only  \n",
       "110                          Maldives           Asia  right_only  \n",
       "112                  Marshall Islands        Oceania  right_only  \n",
       "131                             Nauru        Oceania  right_only  \n",
       "138                             Palau        Oceania  right_only  \n",
       "139                  Papua New Guinea        Oceania  right_only  \n",
       "143                          Paraguay  South America  right_only  \n",
       "144               Palestine, State of           Asia  right_only  \n",
       "153                   Solomon Islands        Oceania  right_only  \n",
       "160                          Suriname  South America  right_only  \n",
       "170                        Tajikistan           Asia  right_only  \n",
       "171                      Turkmenistan           Asia  right_only  \n",
       "172                       Timor-Leste           Asia  right_only  \n",
       "173                             Tonga        Oceania  right_only  \n",
       "177                            Tuvalu        Oceania  right_only  \n",
       "185  Saint Vincent and the Grenadines  North America  right_only  \n",
       "189                             Samoa        Oceania  right_only  "
      ]
     },
     "execution_count": 20,
     "metadata": {},
     "output_type": "execute_result"
    }
   ],
   "source": [
    "new_missing_countries = new_all_countries[new_all_countries[\"_merge\"] != \"both\"]\n",
    "new_missing_countries"
   ]
  },
  {
   "cell_type": "code",
   "execution_count": 24,
   "id": "909a848e",
   "metadata": {},
   "outputs": [
    {
     "data": {
      "application/vnd.microsoft.datawrangler.viewer.v0+json": {
       "columns": [
        {
         "name": "continent",
         "rawType": "object",
         "type": "string"
        },
        {
         "name": "count_missing",
         "rawType": "int64",
         "type": "integer"
        }
       ],
       "conversionMethod": "pd.DataFrame",
       "ref": "bbde1ca5-855c-4744-b342-aa4c317cc5c8",
       "rows": [
        [
         "Africa",
         "3"
        ],
        [
         "Asia",
         "7"
        ],
        [
         "Europe",
         "2"
        ],
        [
         "North America",
         "5"
        ],
        [
         "Oceania",
         "10"
        ],
        [
         "South America",
         "3"
        ]
       ],
       "shape": {
        "columns": 1,
        "rows": 6
       }
      },
      "text/html": [
       "<div>\n",
       "<style scoped>\n",
       "    .dataframe tbody tr th:only-of-type {\n",
       "        vertical-align: middle;\n",
       "    }\n",
       "\n",
       "    .dataframe tbody tr th {\n",
       "        vertical-align: top;\n",
       "    }\n",
       "\n",
       "    .dataframe thead th {\n",
       "        text-align: right;\n",
       "    }\n",
       "</style>\n",
       "<table border=\"1\" class=\"dataframe\">\n",
       "  <thead>\n",
       "    <tr style=\"text-align: right;\">\n",
       "      <th></th>\n",
       "      <th>count_missing</th>\n",
       "    </tr>\n",
       "    <tr>\n",
       "      <th>continent</th>\n",
       "      <th></th>\n",
       "    </tr>\n",
       "  </thead>\n",
       "  <tbody>\n",
       "    <tr>\n",
       "      <th>Africa</th>\n",
       "      <td>3</td>\n",
       "    </tr>\n",
       "    <tr>\n",
       "      <th>Asia</th>\n",
       "      <td>7</td>\n",
       "    </tr>\n",
       "    <tr>\n",
       "      <th>Europe</th>\n",
       "      <td>2</td>\n",
       "    </tr>\n",
       "    <tr>\n",
       "      <th>North America</th>\n",
       "      <td>5</td>\n",
       "    </tr>\n",
       "    <tr>\n",
       "      <th>Oceania</th>\n",
       "      <td>10</td>\n",
       "    </tr>\n",
       "    <tr>\n",
       "      <th>South America</th>\n",
       "      <td>3</td>\n",
       "    </tr>\n",
       "  </tbody>\n",
       "</table>\n",
       "</div>"
      ],
      "text/plain": [
       "               count_missing\n",
       "continent                   \n",
       "Africa                     3\n",
       "Asia                       7\n",
       "Europe                     2\n",
       "North America              5\n",
       "Oceania                   10\n",
       "South America              3"
      ]
     },
     "execution_count": 24,
     "metadata": {},
     "output_type": "execute_result"
    }
   ],
   "source": [
    "count_missing = new_missing_countries.groupby(\"continent\").agg({\"country\":\"count\"})\n",
    "count_missing.columns = [\"count_missing\"]\n",
    "count_missing"
   ]
  },
  {
   "cell_type": "markdown",
   "id": "37375700",
   "metadata": {},
   "source": [
    "### Pytanie 3"
   ]
  },
  {
   "cell_type": "markdown",
   "id": "a8036086",
   "metadata": {},
   "source": [
    "- Which business categories are best suited to last many years, and on what continent are they? Create a DataFrame called oldest_by_continent_category that stores the oldest founding year for each continent and category combination. It should contain three columns: continent, category, and year_founded, in that order."
   ]
  },
  {
   "cell_type": "code",
   "execution_count": 25,
   "id": "d4097f62",
   "metadata": {},
   "outputs": [
    {
     "data": {
      "application/vnd.microsoft.datawrangler.viewer.v0+json": {
       "columns": [
        {
         "name": "index",
         "rawType": "int64",
         "type": "integer"
        },
        {
         "name": "business",
         "rawType": "object",
         "type": "string"
        },
        {
         "name": "year_founded",
         "rawType": "int64",
         "type": "integer"
        },
        {
         "name": "category_code",
         "rawType": "object",
         "type": "string"
        },
        {
         "name": "country_code",
         "rawType": "object",
         "type": "string"
        },
        {
         "name": "country",
         "rawType": "object",
         "type": "string"
        },
        {
         "name": "continent",
         "rawType": "object",
         "type": "string"
        },
        {
         "name": "category",
         "rawType": "object",
         "type": "string"
        }
       ],
       "conversionMethod": "pd.DataFrame",
       "ref": "28c3464e-7558-41a7-9509-c7a42fcbc312",
       "rows": [
        [
         "0",
         "Hamoud Boualem",
         "1878",
         "CAT11",
         "DZA",
         "Algeria",
         "Africa",
         "Food & Beverages"
        ],
        [
         "1",
         "Communauté Électrique du Bénin",
         "1968",
         "CAT10",
         "BEN",
         "Benin",
         "Africa",
         "Energy"
        ],
        [
         "2",
         "Botswana Meat Commission",
         "1965",
         "CAT1",
         "BWA",
         "Botswana",
         "Africa",
         "Agriculture"
        ],
        [
         "3",
         "Air Burkina",
         "1967",
         "CAT2",
         "BFA",
         "Burkina Faso",
         "Africa",
         "Aviation & Transport"
        ],
        [
         "4",
         "Brarudi",
         "1955",
         "CAT9",
         "BDI",
         "Burundi",
         "Africa",
         "Distillers, Vintners, & Breweries"
        ],
        [
         "5",
         "Cameroon Development Corporation",
         "1947",
         "CAT1",
         "CMR",
         "Cameroon",
         "Africa",
         "Agriculture"
        ],
        [
         "6",
         "Correios de Cabo Verde",
         "1849",
         "CAT16",
         "CPV",
         "Cabo Verde",
         "Africa",
         "Postal Service"
        ],
        [
         "7",
         "Banque Internationale pour la Centrafrique",
         "1946",
         "CAT3",
         "CAF",
         "Central African Republic",
         "Africa",
         "Banking & Finance"
        ],
        [
         "8",
         "Cotontchad",
         "1971",
         "CAT1",
         "TCD",
         "Chad",
         "Africa",
         "Agriculture"
        ],
        [
         "9",
         "Central Bank of the Comoros",
         "1981",
         "CAT3",
         "COM",
         "Comoros",
         "Africa",
         "Banking & Finance"
        ],
        [
         "10",
         "Société nationale des Chemins de fer du Congo",
         "1889",
         "CAT2",
         "COD",
         "Congo, The Democratic Republic of the",
         "Africa",
         "Aviation & Transport"
        ],
        [
         "11",
         "Development Bank of the Central African States",
         "1975",
         "CAT3",
         "COG",
         "Congo",
         "Africa",
         "Banking & Finance"
        ],
        [
         "12",
         "La Poste",
         "1945",
         "CAT16",
         "CIV",
         "Côte d'Ivoire",
         "Africa",
         "Postal Service"
        ],
        [
         "13",
         "Ethio-Djibouti Railways",
         "1901",
         "CAT2",
         "DJI",
         "Djibouti",
         "Africa",
         "Aviation & Transport"
        ],
        [
         "14",
         "Egyptian National Railways",
         "1854",
         "CAT2",
         "EGY",
         "Egypt",
         "Africa",
         "Aviation & Transport"
        ],
        [
         "15",
         "Guinea Ecuatorial Airlines",
         "1996",
         "CAT2",
         "GNQ",
         "Equatorial Guinea",
         "Africa",
         "Aviation & Transport"
        ],
        [
         "16",
         "Asmara Brewery",
         "1939",
         "CAT9",
         "ERI",
         "Eritrea",
         "Africa",
         "Distillers, Vintners, & Breweries"
        ],
        [
         "17",
         "National Bank of Ethiopia",
         "1906",
         "CAT3",
         "ETH",
         "Ethiopia",
         "Africa",
         "Banking & Finance"
        ],
        [
         "18",
         "BGFIBank Group",
         "1971",
         "CAT3",
         "GAB",
         "Gabon",
         "Africa",
         "Banking & Finance"
        ],
        [
         "19",
         "Halco Mining",
         "1962",
         "CAT15",
         "GIN",
         "Guinea",
         "Africa",
         "Mining"
        ],
        [
         "20",
         "Correios da Guiné-Bissau",
         "1973",
         "CAT16",
         "GNB",
         "Guinea-Bissau",
         "Africa",
         "Postal Service"
        ],
        [
         "21",
         "KCB Group Limited",
         "1896",
         "CAT3",
         "KEN",
         "Kenya",
         "Africa",
         "Banking & Finance"
        ],
        [
         "22",
         "Central Bank of Lesotho",
         "1978",
         "CAT3",
         "LSO",
         "Lesotho",
         "Africa",
         "Banking & Finance"
        ],
        [
         "23",
         "National Port Authority",
         "1921",
         "CAT2",
         "LBR",
         "Liberia",
         "Africa",
         "Aviation & Transport"
        ],
        [
         "24",
         "Umma Bank",
         "1907",
         "CAT3",
         "LBY",
         "Libya",
         "Africa",
         "Banking & Finance"
        ],
        [
         "25",
         "Air Madagascar",
         "1962",
         "CAT2",
         "MDG",
         "Madagascar",
         "Africa",
         "Aviation & Transport"
        ],
        [
         "26",
         "Malawi Broadcasting Corporation",
         "1964",
         "CAT13",
         "MWI",
         "Malawi",
         "Africa",
         "Media"
        ],
        [
         "27",
         "Office de Radiodiffusion-Télévision du Mali",
         "1957",
         "CAT13",
         "MLI",
         "Mali",
         "Africa",
         "Media"
        ],
        [
         "28",
         "Central Bank of Mauritania",
         "1973",
         "CAT3",
         "MRT",
         "Mauritania",
         "Africa",
         "Banking & Finance"
        ],
        [
         "29",
         "Mauritius Post",
         "1772",
         "CAT16",
         "MUS",
         "Mauritius",
         "Africa",
         "Postal Service"
        ],
        [
         "30",
         "Attijariwafa Bank",
         "1904",
         "CAT3",
         "MAR",
         "Morocco",
         "Africa",
         "Banking & Finance"
        ],
        [
         "31",
         "Beira Railroad Corporation",
         "1892",
         "CAT2",
         "MOZ",
         "Mozambique",
         "Africa",
         "Aviation & Transport"
        ],
        [
         "32",
         "NamPost",
         "1814",
         "CAT16",
         "NAM",
         "Namibia",
         "Africa",
         "Postal Service"
        ],
        [
         "33",
         "Office of Radio and Television of Niger",
         "1960",
         "CAT13",
         "NER",
         "Niger",
         "Africa",
         "Media"
        ],
        [
         "34",
         "First Bank of Nigeria",
         "1894",
         "CAT3",
         "NGA",
         "Nigeria",
         "Africa",
         "Banking & Finance"
        ],
        [
         "35",
         "National Post Office",
         "1922",
         "CAT16",
         "RWA",
         "Rwanda",
         "Africa",
         "Postal Service"
        ],
        [
         "36",
         "Central Bank of São Tomé and Príncipe",
         "1975",
         "CAT3",
         "STP",
         "Sao Tome and Principe",
         "Africa",
         "Banking & Finance"
        ],
        [
         "37",
         "Dakar–Niger Railway",
         "1924",
         "CAT2",
         "SEN",
         "Senegal",
         "Africa",
         "Aviation & Transport"
        ],
        [
         "38",
         "Air Seychelles",
         "1977",
         "CAT2",
         "SYC",
         "Seychelles",
         "Asia",
         "Aviation & Transport"
        ],
        [
         "39",
         "Rokel Commercial Bank",
         "1917",
         "CAT3",
         "SLE",
         "Sierra Leone",
         "Africa",
         "Banking & Finance"
        ],
        [
         "40",
         "Radio Mogadishu",
         "1943",
         "CAT13",
         "SOM",
         "Somalia",
         "Africa",
         "Media"
        ],
        [
         "41",
         "Premier FMCG",
         "1820",
         "CAT12",
         "ZAF",
         "South Africa",
         "Africa",
         "Manufacturing & Production"
        ],
        [
         "42",
         "Ivory Bank",
         "1994",
         "CAT3",
         "SSD",
         "South Sudan",
         "Africa",
         "Banking & Finance"
        ],
        [
         "43",
         "Bank of Khartoum",
         "1913",
         "CAT3",
         "SDN",
         "Sudan",
         "Africa",
         "Banking & Finance"
        ],
        [
         "44",
         "Swazi Rail",
         "1963",
         "CAT2",
         "SWZ",
         "Eswatini",
         "Africa",
         "Aviation & Transport"
        ],
        [
         "45",
         "Tanzania Breweries Limited",
         "1933",
         "CAT9",
         "TZA",
         "Tanzania, United Republic of",
         "Africa",
         "Distillers, Vintners, & Breweries"
        ],
        [
         "46",
         "La Poste du Togo",
         "1883",
         "CAT16",
         "TGO",
         "Togo",
         "Africa",
         "Postal Service"
        ],
        [
         "47",
         "La Poste Tunisienne",
         "1847",
         "CAT16",
         "TUN",
         "Tunisia",
         "Africa",
         "Postal Service"
        ],
        [
         "48",
         "Stanbic Bank Uganda Limited",
         "1906",
         "CAT3",
         "UGA",
         "Uganda",
         "Africa",
         "Banking & Finance"
        ],
        [
         "49",
         "ZamPost",
         "1896",
         "CAT16",
         "ZMB",
         "Zambia",
         "Africa",
         "Postal Service"
        ]
       ],
       "shape": {
        "columns": 7,
        "rows": 165
       }
      },
      "text/html": [
       "<div>\n",
       "<style scoped>\n",
       "    .dataframe tbody tr th:only-of-type {\n",
       "        vertical-align: middle;\n",
       "    }\n",
       "\n",
       "    .dataframe tbody tr th {\n",
       "        vertical-align: top;\n",
       "    }\n",
       "\n",
       "    .dataframe thead th {\n",
       "        text-align: right;\n",
       "    }\n",
       "</style>\n",
       "<table border=\"1\" class=\"dataframe\">\n",
       "  <thead>\n",
       "    <tr style=\"text-align: right;\">\n",
       "      <th></th>\n",
       "      <th>business</th>\n",
       "      <th>year_founded</th>\n",
       "      <th>category_code</th>\n",
       "      <th>country_code</th>\n",
       "      <th>country</th>\n",
       "      <th>continent</th>\n",
       "      <th>category</th>\n",
       "    </tr>\n",
       "  </thead>\n",
       "  <tbody>\n",
       "    <tr>\n",
       "      <th>0</th>\n",
       "      <td>Hamoud Boualem</td>\n",
       "      <td>1878</td>\n",
       "      <td>CAT11</td>\n",
       "      <td>DZA</td>\n",
       "      <td>Algeria</td>\n",
       "      <td>Africa</td>\n",
       "      <td>Food &amp; Beverages</td>\n",
       "    </tr>\n",
       "    <tr>\n",
       "      <th>1</th>\n",
       "      <td>Communauté Électrique du Bénin</td>\n",
       "      <td>1968</td>\n",
       "      <td>CAT10</td>\n",
       "      <td>BEN</td>\n",
       "      <td>Benin</td>\n",
       "      <td>Africa</td>\n",
       "      <td>Energy</td>\n",
       "    </tr>\n",
       "    <tr>\n",
       "      <th>2</th>\n",
       "      <td>Botswana Meat Commission</td>\n",
       "      <td>1965</td>\n",
       "      <td>CAT1</td>\n",
       "      <td>BWA</td>\n",
       "      <td>Botswana</td>\n",
       "      <td>Africa</td>\n",
       "      <td>Agriculture</td>\n",
       "    </tr>\n",
       "    <tr>\n",
       "      <th>3</th>\n",
       "      <td>Air Burkina</td>\n",
       "      <td>1967</td>\n",
       "      <td>CAT2</td>\n",
       "      <td>BFA</td>\n",
       "      <td>Burkina Faso</td>\n",
       "      <td>Africa</td>\n",
       "      <td>Aviation &amp; Transport</td>\n",
       "    </tr>\n",
       "    <tr>\n",
       "      <th>4</th>\n",
       "      <td>Brarudi</td>\n",
       "      <td>1955</td>\n",
       "      <td>CAT9</td>\n",
       "      <td>BDI</td>\n",
       "      <td>Burundi</td>\n",
       "      <td>Africa</td>\n",
       "      <td>Distillers, Vintners, &amp; Breweries</td>\n",
       "    </tr>\n",
       "    <tr>\n",
       "      <th>...</th>\n",
       "      <td>...</td>\n",
       "      <td>...</td>\n",
       "      <td>...</td>\n",
       "      <td>...</td>\n",
       "      <td>...</td>\n",
       "      <td>...</td>\n",
       "      <td>...</td>\n",
       "    </tr>\n",
       "    <tr>\n",
       "      <th>160</th>\n",
       "      <td>Australia Post</td>\n",
       "      <td>1809</td>\n",
       "      <td>CAT16</td>\n",
       "      <td>AUS</td>\n",
       "      <td>Australia</td>\n",
       "      <td>Oceania</td>\n",
       "      <td>Postal Service</td>\n",
       "    </tr>\n",
       "    <tr>\n",
       "      <th>161</th>\n",
       "      <td>Bank of New Zealand</td>\n",
       "      <td>1861</td>\n",
       "      <td>CAT3</td>\n",
       "      <td>NZL</td>\n",
       "      <td>New Zealand</td>\n",
       "      <td>Oceania</td>\n",
       "      <td>Banking &amp; Finance</td>\n",
       "    </tr>\n",
       "    <tr>\n",
       "      <th>162</th>\n",
       "      <td>European Trust Company</td>\n",
       "      <td>1991</td>\n",
       "      <td>CAT3</td>\n",
       "      <td>VUT</td>\n",
       "      <td>Vanuatu</td>\n",
       "      <td>Oceania</td>\n",
       "      <td>Banking &amp; Finance</td>\n",
       "    </tr>\n",
       "    <tr>\n",
       "      <th>163</th>\n",
       "      <td>Fiji Times</td>\n",
       "      <td>1869</td>\n",
       "      <td>CAT13</td>\n",
       "      <td>FJI</td>\n",
       "      <td>Fiji</td>\n",
       "      <td>Oceania</td>\n",
       "      <td>Media</td>\n",
       "    </tr>\n",
       "    <tr>\n",
       "      <th>164</th>\n",
       "      <td>J. Armando Bermúdez &amp; Co.</td>\n",
       "      <td>1852</td>\n",
       "      <td>CAT9</td>\n",
       "      <td>DOM</td>\n",
       "      <td>Dominican Republic</td>\n",
       "      <td>North America</td>\n",
       "      <td>Distillers, Vintners, &amp; Breweries</td>\n",
       "    </tr>\n",
       "  </tbody>\n",
       "</table>\n",
       "<p>165 rows × 7 columns</p>\n",
       "</div>"
      ],
      "text/plain": [
       "                           business  year_founded category_code country_code  \\\n",
       "0                    Hamoud Boualem          1878         CAT11          DZA   \n",
       "1    Communauté Électrique du Bénin          1968         CAT10          BEN   \n",
       "2          Botswana Meat Commission          1965          CAT1          BWA   \n",
       "3                       Air Burkina          1967          CAT2          BFA   \n",
       "4                           Brarudi          1955          CAT9          BDI   \n",
       "..                              ...           ...           ...          ...   \n",
       "160                  Australia Post          1809         CAT16          AUS   \n",
       "161             Bank of New Zealand          1861          CAT3          NZL   \n",
       "162          European Trust Company          1991          CAT3          VUT   \n",
       "163                      Fiji Times          1869         CAT13          FJI   \n",
       "164       J. Armando Bermúdez & Co.          1852          CAT9          DOM   \n",
       "\n",
       "                country      continent                           category  \n",
       "0               Algeria         Africa                   Food & Beverages  \n",
       "1                 Benin         Africa                             Energy  \n",
       "2              Botswana         Africa                        Agriculture  \n",
       "3          Burkina Faso         Africa               Aviation & Transport  \n",
       "4               Burundi         Africa  Distillers, Vintners, & Breweries  \n",
       "..                  ...            ...                                ...  \n",
       "160           Australia        Oceania                     Postal Service  \n",
       "161         New Zealand        Oceania                  Banking & Finance  \n",
       "162             Vanuatu        Oceania                  Banking & Finance  \n",
       "163                Fiji        Oceania                              Media  \n",
       "164  Dominican Republic  North America  Distillers, Vintners, & Breweries  \n",
       "\n",
       "[165 rows x 7 columns]"
      ]
     },
     "execution_count": 25,
     "metadata": {},
     "output_type": "execute_result"
    }
   ],
   "source": [
    "category_df = pd.merge(merged_df, categories, on='category_code')\n",
    "category_df"
   ]
  },
  {
   "cell_type": "code",
   "execution_count": 33,
   "id": "b84c6ecd",
   "metadata": {},
   "outputs": [
    {
     "data": {
      "application/vnd.microsoft.datawrangler.viewer.v0+json": {
       "columns": [
        {
         "name": "('continent', 'category')",
         "rawType": "object",
         "type": "unknown"
        },
        {
         "name": "year",
         "rawType": "int64",
         "type": "integer"
        }
       ],
       "conversionMethod": "pd.DataFrame",
       "ref": "d6017899-b253-444d-ba7d-2ef665ce58ca",
       "rows": [
        [
         "('Africa', 'Agriculture')",
         "1947"
        ],
        [
         "('Africa', 'Aviation & Transport')",
         "1854"
        ],
        [
         "('Africa', 'Banking & Finance')",
         "1892"
        ],
        [
         "('Africa', 'Distillers, Vintners, & Breweries')",
         "1933"
        ],
        [
         "('Africa', 'Energy')",
         "1968"
        ],
        [
         "('Africa', 'Food & Beverages')",
         "1878"
        ],
        [
         "('Africa', 'Manufacturing & Production')",
         "1820"
        ],
        [
         "('Africa', 'Media')",
         "1943"
        ],
        [
         "('Africa', 'Mining')",
         "1962"
        ],
        [
         "('Africa', 'Postal Service')",
         "1772"
        ],
        [
         "('Asia', 'Agriculture')",
         "1930"
        ],
        [
         "('Asia', 'Aviation & Transport')",
         "1858"
        ],
        [
         "('Asia', 'Banking & Finance')",
         "1830"
        ],
        [
         "('Asia', 'Cafés, Restaurants & Bars')",
         "1153"
        ],
        [
         "('Asia', 'Conglomerate')",
         "1841"
        ],
        [
         "('Asia', 'Construction')",
         "578"
        ],
        [
         "('Asia', 'Defense')",
         "1808"
        ],
        [
         "('Asia', 'Distillers, Vintners, & Breweries')",
         "1853"
        ],
        [
         "('Asia', 'Energy')",
         "1928"
        ],
        [
         "('Asia', 'Food & Beverages')",
         "1820"
        ],
        [
         "('Asia', 'Manufacturing & Production')",
         "1736"
        ],
        [
         "('Asia', 'Media')",
         "1931"
        ],
        [
         "('Asia', 'Mining')",
         "1913"
        ],
        [
         "('Asia', 'Postal Service')",
         "1800"
        ],
        [
         "('Asia', 'Retail')",
         "1883"
        ],
        [
         "('Asia', 'Telecommunications')",
         "1885"
        ],
        [
         "('Asia', 'Tourism & Hotels')",
         "1584"
        ],
        [
         "('Europe', 'Agriculture')",
         "1218"
        ],
        [
         "('Europe', 'Banking & Finance')",
         "1606"
        ],
        [
         "('Europe', 'Cafés, Restaurants & Bars')",
         "803"
        ],
        [
         "('Europe', 'Consumer Goods')",
         "1649"
        ],
        [
         "('Europe', 'Defense')",
         "1878"
        ],
        [
         "('Europe', 'Distillers, Vintners, & Breweries')",
         "862"
        ],
        [
         "('Europe', 'Manufacturing & Production')",
         "864"
        ],
        [
         "('Europe', 'Media')",
         "1999"
        ],
        [
         "('Europe', 'Medical')",
         "1422"
        ],
        [
         "('Europe', 'Mining')",
         "1248"
        ],
        [
         "('Europe', 'Postal Service')",
         "1520"
        ],
        [
         "('Europe', 'Telecommunications')",
         "1912"
        ],
        [
         "('Europe', 'Tourism & Hotels')",
         "1230"
        ],
        [
         "('North America', 'Agriculture')",
         "1638"
        ],
        [
         "('North America', 'Aviation & Transport')",
         "1870"
        ],
        [
         "('North America', 'Banking & Finance')",
         "1891"
        ],
        [
         "('North America', 'Distillers, Vintners, & Breweries')",
         "1703"
        ],
        [
         "('North America', 'Food & Beverages')",
         "1920"
        ],
        [
         "('North America', 'Manufacturing & Production')",
         "1534"
        ],
        [
         "('North America', 'Media')",
         "1909"
        ],
        [
         "('North America', 'Retail')",
         "1670"
        ],
        [
         "('North America', 'Tourism & Hotels')",
         "1770"
        ],
        [
         "('Oceania', 'Banking & Finance')",
         "1861"
        ]
       ],
       "shape": {
        "columns": 1,
        "rows": 57
       }
      },
      "text/html": [
       "<div>\n",
       "<style scoped>\n",
       "    .dataframe tbody tr th:only-of-type {\n",
       "        vertical-align: middle;\n",
       "    }\n",
       "\n",
       "    .dataframe tbody tr th {\n",
       "        vertical-align: top;\n",
       "    }\n",
       "\n",
       "    .dataframe thead th {\n",
       "        text-align: right;\n",
       "    }\n",
       "</style>\n",
       "<table border=\"1\" class=\"dataframe\">\n",
       "  <thead>\n",
       "    <tr style=\"text-align: right;\">\n",
       "      <th></th>\n",
       "      <th></th>\n",
       "      <th>year</th>\n",
       "    </tr>\n",
       "    <tr>\n",
       "      <th>continent</th>\n",
       "      <th>category</th>\n",
       "      <th></th>\n",
       "    </tr>\n",
       "  </thead>\n",
       "  <tbody>\n",
       "    <tr>\n",
       "      <th rowspan=\"10\" valign=\"top\">Africa</th>\n",
       "      <th>Agriculture</th>\n",
       "      <td>1947</td>\n",
       "    </tr>\n",
       "    <tr>\n",
       "      <th>Aviation &amp; Transport</th>\n",
       "      <td>1854</td>\n",
       "    </tr>\n",
       "    <tr>\n",
       "      <th>Banking &amp; Finance</th>\n",
       "      <td>1892</td>\n",
       "    </tr>\n",
       "    <tr>\n",
       "      <th>Distillers, Vintners, &amp; Breweries</th>\n",
       "      <td>1933</td>\n",
       "    </tr>\n",
       "    <tr>\n",
       "      <th>Energy</th>\n",
       "      <td>1968</td>\n",
       "    </tr>\n",
       "    <tr>\n",
       "      <th>Food &amp; Beverages</th>\n",
       "      <td>1878</td>\n",
       "    </tr>\n",
       "    <tr>\n",
       "      <th>Manufacturing &amp; Production</th>\n",
       "      <td>1820</td>\n",
       "    </tr>\n",
       "    <tr>\n",
       "      <th>Media</th>\n",
       "      <td>1943</td>\n",
       "    </tr>\n",
       "    <tr>\n",
       "      <th>Mining</th>\n",
       "      <td>1962</td>\n",
       "    </tr>\n",
       "    <tr>\n",
       "      <th>Postal Service</th>\n",
       "      <td>1772</td>\n",
       "    </tr>\n",
       "    <tr>\n",
       "      <th rowspan=\"17\" valign=\"top\">Asia</th>\n",
       "      <th>Agriculture</th>\n",
       "      <td>1930</td>\n",
       "    </tr>\n",
       "    <tr>\n",
       "      <th>Aviation &amp; Transport</th>\n",
       "      <td>1858</td>\n",
       "    </tr>\n",
       "    <tr>\n",
       "      <th>Banking &amp; Finance</th>\n",
       "      <td>1830</td>\n",
       "    </tr>\n",
       "    <tr>\n",
       "      <th>Cafés, Restaurants &amp; Bars</th>\n",
       "      <td>1153</td>\n",
       "    </tr>\n",
       "    <tr>\n",
       "      <th>Conglomerate</th>\n",
       "      <td>1841</td>\n",
       "    </tr>\n",
       "    <tr>\n",
       "      <th>Construction</th>\n",
       "      <td>578</td>\n",
       "    </tr>\n",
       "    <tr>\n",
       "      <th>Defense</th>\n",
       "      <td>1808</td>\n",
       "    </tr>\n",
       "    <tr>\n",
       "      <th>Distillers, Vintners, &amp; Breweries</th>\n",
       "      <td>1853</td>\n",
       "    </tr>\n",
       "    <tr>\n",
       "      <th>Energy</th>\n",
       "      <td>1928</td>\n",
       "    </tr>\n",
       "    <tr>\n",
       "      <th>Food &amp; Beverages</th>\n",
       "      <td>1820</td>\n",
       "    </tr>\n",
       "    <tr>\n",
       "      <th>Manufacturing &amp; Production</th>\n",
       "      <td>1736</td>\n",
       "    </tr>\n",
       "    <tr>\n",
       "      <th>Media</th>\n",
       "      <td>1931</td>\n",
       "    </tr>\n",
       "    <tr>\n",
       "      <th>Mining</th>\n",
       "      <td>1913</td>\n",
       "    </tr>\n",
       "    <tr>\n",
       "      <th>Postal Service</th>\n",
       "      <td>1800</td>\n",
       "    </tr>\n",
       "    <tr>\n",
       "      <th>Retail</th>\n",
       "      <td>1883</td>\n",
       "    </tr>\n",
       "    <tr>\n",
       "      <th>Telecommunications</th>\n",
       "      <td>1885</td>\n",
       "    </tr>\n",
       "    <tr>\n",
       "      <th>Tourism &amp; Hotels</th>\n",
       "      <td>1584</td>\n",
       "    </tr>\n",
       "    <tr>\n",
       "      <th rowspan=\"13\" valign=\"top\">Europe</th>\n",
       "      <th>Agriculture</th>\n",
       "      <td>1218</td>\n",
       "    </tr>\n",
       "    <tr>\n",
       "      <th>Banking &amp; Finance</th>\n",
       "      <td>1606</td>\n",
       "    </tr>\n",
       "    <tr>\n",
       "      <th>Cafés, Restaurants &amp; Bars</th>\n",
       "      <td>803</td>\n",
       "    </tr>\n",
       "    <tr>\n",
       "      <th>Consumer Goods</th>\n",
       "      <td>1649</td>\n",
       "    </tr>\n",
       "    <tr>\n",
       "      <th>Defense</th>\n",
       "      <td>1878</td>\n",
       "    </tr>\n",
       "    <tr>\n",
       "      <th>Distillers, Vintners, &amp; Breweries</th>\n",
       "      <td>862</td>\n",
       "    </tr>\n",
       "    <tr>\n",
       "      <th>Manufacturing &amp; Production</th>\n",
       "      <td>864</td>\n",
       "    </tr>\n",
       "    <tr>\n",
       "      <th>Media</th>\n",
       "      <td>1999</td>\n",
       "    </tr>\n",
       "    <tr>\n",
       "      <th>Medical</th>\n",
       "      <td>1422</td>\n",
       "    </tr>\n",
       "    <tr>\n",
       "      <th>Mining</th>\n",
       "      <td>1248</td>\n",
       "    </tr>\n",
       "    <tr>\n",
       "      <th>Postal Service</th>\n",
       "      <td>1520</td>\n",
       "    </tr>\n",
       "    <tr>\n",
       "      <th>Telecommunications</th>\n",
       "      <td>1912</td>\n",
       "    </tr>\n",
       "    <tr>\n",
       "      <th>Tourism &amp; Hotels</th>\n",
       "      <td>1230</td>\n",
       "    </tr>\n",
       "    <tr>\n",
       "      <th rowspan=\"9\" valign=\"top\">North America</th>\n",
       "      <th>Agriculture</th>\n",
       "      <td>1638</td>\n",
       "    </tr>\n",
       "    <tr>\n",
       "      <th>Aviation &amp; Transport</th>\n",
       "      <td>1870</td>\n",
       "    </tr>\n",
       "    <tr>\n",
       "      <th>Banking &amp; Finance</th>\n",
       "      <td>1891</td>\n",
       "    </tr>\n",
       "    <tr>\n",
       "      <th>Distillers, Vintners, &amp; Breweries</th>\n",
       "      <td>1703</td>\n",
       "    </tr>\n",
       "    <tr>\n",
       "      <th>Food &amp; Beverages</th>\n",
       "      <td>1920</td>\n",
       "    </tr>\n",
       "    <tr>\n",
       "      <th>Manufacturing &amp; Production</th>\n",
       "      <td>1534</td>\n",
       "    </tr>\n",
       "    <tr>\n",
       "      <th>Media</th>\n",
       "      <td>1909</td>\n",
       "    </tr>\n",
       "    <tr>\n",
       "      <th>Retail</th>\n",
       "      <td>1670</td>\n",
       "    </tr>\n",
       "    <tr>\n",
       "      <th>Tourism &amp; Hotels</th>\n",
       "      <td>1770</td>\n",
       "    </tr>\n",
       "    <tr>\n",
       "      <th rowspan=\"3\" valign=\"top\">Oceania</th>\n",
       "      <th>Banking &amp; Finance</th>\n",
       "      <td>1861</td>\n",
       "    </tr>\n",
       "    <tr>\n",
       "      <th>Media</th>\n",
       "      <td>1869</td>\n",
       "    </tr>\n",
       "    <tr>\n",
       "      <th>Postal Service</th>\n",
       "      <td>1809</td>\n",
       "    </tr>\n",
       "    <tr>\n",
       "      <th rowspan=\"5\" valign=\"top\">South America</th>\n",
       "      <th>Banking &amp; Finance</th>\n",
       "      <td>1565</td>\n",
       "    </tr>\n",
       "    <tr>\n",
       "      <th>Cafés, Restaurants &amp; Bars</th>\n",
       "      <td>1877</td>\n",
       "    </tr>\n",
       "    <tr>\n",
       "      <th>Defense</th>\n",
       "      <td>1811</td>\n",
       "    </tr>\n",
       "    <tr>\n",
       "      <th>Food &amp; Beverages</th>\n",
       "      <td>1660</td>\n",
       "    </tr>\n",
       "    <tr>\n",
       "      <th>Manufacturing &amp; Production</th>\n",
       "      <td>1621</td>\n",
       "    </tr>\n",
       "  </tbody>\n",
       "</table>\n",
       "</div>"
      ],
      "text/plain": [
       "                                                 year\n",
       "continent     category                               \n",
       "Africa        Agriculture                        1947\n",
       "              Aviation & Transport               1854\n",
       "              Banking & Finance                  1892\n",
       "              Distillers, Vintners, & Breweries  1933\n",
       "              Energy                             1968\n",
       "              Food & Beverages                   1878\n",
       "              Manufacturing & Production         1820\n",
       "              Media                              1943\n",
       "              Mining                             1962\n",
       "              Postal Service                     1772\n",
       "Asia          Agriculture                        1930\n",
       "              Aviation & Transport               1858\n",
       "              Banking & Finance                  1830\n",
       "              Cafés, Restaurants & Bars          1153\n",
       "              Conglomerate                       1841\n",
       "              Construction                        578\n",
       "              Defense                            1808\n",
       "              Distillers, Vintners, & Breweries  1853\n",
       "              Energy                             1928\n",
       "              Food & Beverages                   1820\n",
       "              Manufacturing & Production         1736\n",
       "              Media                              1931\n",
       "              Mining                             1913\n",
       "              Postal Service                     1800\n",
       "              Retail                             1883\n",
       "              Telecommunications                 1885\n",
       "              Tourism & Hotels                   1584\n",
       "Europe        Agriculture                        1218\n",
       "              Banking & Finance                  1606\n",
       "              Cafés, Restaurants & Bars           803\n",
       "              Consumer Goods                     1649\n",
       "              Defense                            1878\n",
       "              Distillers, Vintners, & Breweries   862\n",
       "              Manufacturing & Production          864\n",
       "              Media                              1999\n",
       "              Medical                            1422\n",
       "              Mining                             1248\n",
       "              Postal Service                     1520\n",
       "              Telecommunications                 1912\n",
       "              Tourism & Hotels                   1230\n",
       "North America Agriculture                        1638\n",
       "              Aviation & Transport               1870\n",
       "              Banking & Finance                  1891\n",
       "              Distillers, Vintners, & Breweries  1703\n",
       "              Food & Beverages                   1920\n",
       "              Manufacturing & Production         1534\n",
       "              Media                              1909\n",
       "              Retail                             1670\n",
       "              Tourism & Hotels                   1770\n",
       "Oceania       Banking & Finance                  1861\n",
       "              Media                              1869\n",
       "              Postal Service                     1809\n",
       "South America Banking & Finance                  1565\n",
       "              Cafés, Restaurants & Bars          1877\n",
       "              Defense                            1811\n",
       "              Food & Beverages                   1660\n",
       "              Manufacturing & Production         1621"
      ]
     },
     "execution_count": 33,
     "metadata": {},
     "output_type": "execute_result"
    }
   ],
   "source": [
    "oldest_by_continent_category = category_df.groupby([\"continent\", \"category\"]).agg(\n",
    "        year = ('year_founded', 'min')\n",
    "    )\n",
    "oldest_by_continent_category"
   ]
  },
  {
   "cell_type": "markdown",
   "id": "5640db3b",
   "metadata": {},
   "source": [
    "# Solution"
   ]
  },
  {
   "cell_type": "code",
   "execution_count": 29,
   "id": "b4255ff2",
   "metadata": {},
   "outputs": [
    {
     "name": "stdout",
     "output_type": "stream",
     "text": [
      "       continent    country                     business  year_founded\n",
      "0         Africa  Mauritius               Mauritius Post          1772\n",
      "1           Asia      Japan                   Kongō Gumi           578\n",
      "2         Europe    Austria  St. Peter Stifts Kulinarium           803\n",
      "3  North America     Mexico  La Casa de Moneda de México          1534\n",
      "4        Oceania  Australia               Australia Post          1809\n",
      "5  South America       Peru      Casa Nacional de Moneda          1565\n",
      "               count_missing\n",
      "continent                   \n",
      "Africa                     3\n",
      "Asia                       7\n",
      "Europe                     2\n",
      "North America              5\n",
      "Oceania                   10\n",
      "South America              3\n"
     ]
    },
    {
     "data": {
      "application/vnd.microsoft.datawrangler.viewer.v0+json": {
       "columns": [
        {
         "name": "('continent', 'category')",
         "rawType": "object",
         "type": "unknown"
        },
        {
         "name": "year_founded",
         "rawType": "int64",
         "type": "integer"
        }
       ],
       "conversionMethod": "pd.DataFrame",
       "ref": "31fd59a0-d1ed-4240-b272-4f079f2d91ad",
       "rows": [
        [
         "('Africa', 'Agriculture')",
         "1947"
        ],
        [
         "('Africa', 'Aviation & Transport')",
         "1854"
        ],
        [
         "('Africa', 'Banking & Finance')",
         "1892"
        ],
        [
         "('Africa', 'Distillers, Vintners, & Breweries')",
         "1933"
        ],
        [
         "('Africa', 'Energy')",
         "1968"
        ]
       ],
       "shape": {
        "columns": 1,
        "rows": 5
       }
      },
      "text/html": [
       "<div>\n",
       "<style scoped>\n",
       "    .dataframe tbody tr th:only-of-type {\n",
       "        vertical-align: middle;\n",
       "    }\n",
       "\n",
       "    .dataframe tbody tr th {\n",
       "        vertical-align: top;\n",
       "    }\n",
       "\n",
       "    .dataframe thead th {\n",
       "        text-align: right;\n",
       "    }\n",
       "</style>\n",
       "<table border=\"1\" class=\"dataframe\">\n",
       "  <thead>\n",
       "    <tr style=\"text-align: right;\">\n",
       "      <th></th>\n",
       "      <th></th>\n",
       "      <th>year_founded</th>\n",
       "    </tr>\n",
       "    <tr>\n",
       "      <th>continent</th>\n",
       "      <th>category</th>\n",
       "      <th></th>\n",
       "    </tr>\n",
       "  </thead>\n",
       "  <tbody>\n",
       "    <tr>\n",
       "      <th rowspan=\"5\" valign=\"top\">Africa</th>\n",
       "      <th>Agriculture</th>\n",
       "      <td>1947</td>\n",
       "    </tr>\n",
       "    <tr>\n",
       "      <th>Aviation &amp; Transport</th>\n",
       "      <td>1854</td>\n",
       "    </tr>\n",
       "    <tr>\n",
       "      <th>Banking &amp; Finance</th>\n",
       "      <td>1892</td>\n",
       "    </tr>\n",
       "    <tr>\n",
       "      <th>Distillers, Vintners, &amp; Breweries</th>\n",
       "      <td>1933</td>\n",
       "    </tr>\n",
       "    <tr>\n",
       "      <th>Energy</th>\n",
       "      <td>1968</td>\n",
       "    </tr>\n",
       "  </tbody>\n",
       "</table>\n",
       "</div>"
      ],
      "text/plain": [
       "                                             year_founded\n",
       "continent category                                       \n",
       "Africa    Agriculture                                1947\n",
       "          Aviation & Transport                       1854\n",
       "          Banking & Finance                          1892\n",
       "          Distillers, Vintners, & Breweries          1933\n",
       "          Energy                                     1968"
      ]
     },
     "execution_count": 29,
     "metadata": {},
     "output_type": "execute_result"
    }
   ],
   "source": [
    "# Import necessary libraries\n",
    "import pandas as pd\n",
    "\n",
    "# Load the data\n",
    "businesses = pd.read_csv(\"data/businesses.csv\")\n",
    "new_businesses = pd.read_csv(\"data/new_businesses.csv\")\n",
    "countries = pd.read_csv(\"data/countries.csv\")\n",
    "categories = pd.read_csv(\"data/categories.csv\")\n",
    "\n",
    "# What is the oldest business on every continent?\n",
    "\n",
    "# Start by merging the businesses and countries datasets into one\n",
    "businesses_countries = businesses.merge(countries, on=\"country_code\")\n",
    "\n",
    "# Create a new DataFrame that lists only the continent and oldest year_founded\n",
    "continent = businesses_countries.groupby(\"continent\").agg({\"year_founded\":\"min\"})\n",
    "\n",
    "# Merge this continent DataFrame with businesses_countries\n",
    "merged_continent = continent.merge(businesses_countries, on=[\"continent\", \"year_founded\"])\n",
    "\n",
    "# Subset the continent DataFrame so that only the four columns of interest are included, saving it as oldest_business_continent\n",
    "oldest_business_continent = merged_continent[[\"continent\", \"country\", \"business\", \"year_founded\"]]\n",
    "\n",
    "# View the result\n",
    "print(oldest_business_continent)\n",
    "\n",
    "# How many countries per continent lack data on the oldest businesses? \n",
    "# Does including the `new_businesses` data change this?\n",
    "\n",
    "# Add the data in new_businesses to the existing businesses\n",
    "all_businesses = pd.concat([new_businesses, businesses])\n",
    "\n",
    "# Perform a new merge between the businesses and the countries data. Use additional parameters this time to perform an outer merge and create an indicator column to better see the missing values. An outer merge combines two DataFrames based on a key column and includes all rows from both DataFrames\n",
    "new_all_countries = all_businesses.merge(countries, on=\"country_code\", how=\"outer\",  indicator=True)\n",
    "\n",
    "# Filter to find countries with missing business data\n",
    "new_missing_countries = new_all_countries[new_all_countries[\"_merge\"] != \"both\"]\n",
    "\n",
    "# Group by continent and create a \"count_missing\" column\n",
    "count_missing = new_missing_countries.groupby(\"continent\").agg({\"country\":\"count\"})\n",
    "count_missing.columns = [\"count_missing\"]\n",
    "\n",
    "# View the results\n",
    "print(count_missing)\n",
    "\n",
    "# Which business categories are best suited to last over the course of centuries?\n",
    "\n",
    "# Start by merging the businesses and categories data into one DataFrame\n",
    "businesses_categories = businesses.merge(categories, on=\"category_code\")\n",
    "\n",
    "# Merge all businesses, countries, and categories together\n",
    "businesses_categories_countries = businesses_categories.merge(countries, on=\"country_code\")\n",
    "\n",
    "# Create the oldest by continent and category DataFrame\n",
    "oldest_by_continent_category = businesses_categories_countries.groupby([\"continent\", \"category\"]).agg({\"year_founded\":\"min\"})\n",
    "oldest_by_continent_category.head()"
   ]
  }
 ],
 "metadata": {
  "editor": "DataLab",
  "kernelspec": {
   "display_name": "base",
   "language": "python",
   "name": "python3"
  },
  "language_info": {
   "codemirror_mode": {
    "name": "ipython",
    "version": 3
   },
   "file_extension": ".py",
   "mimetype": "text/x-python",
   "name": "python",
   "nbconvert_exporter": "python",
   "pygments_lexer": "ipython3",
   "version": "3.12.4"
  }
 },
 "nbformat": 4,
 "nbformat_minor": 5
}
