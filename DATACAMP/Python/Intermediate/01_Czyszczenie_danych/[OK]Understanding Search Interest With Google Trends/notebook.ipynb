{
 "cells": [
  {
   "cell_type": "markdown",
   "id": "3222b78d-7f87-4d66-b312-ebe9ddeb5616",
   "metadata": {},
   "source": [
    "You are a data analyst working for a tech company closely monitoring the AI tools market. You want to understand the evolving popularity of three major AI tools, ChatGPT, Gemini, and Microsoft Copilot, and identify which tool is gaining the most traction and how they compare over time.\n",
    "\n",
    "\n",
    "<img src=\"ai_tools.jpg\" align=\"center\"/>\n",
    "\n",
    "You'll work with real-world time series data that captures the global interest in these tools over several weeks. Your goal is to analyze this data, uncover patterns, and provide actionable insights to help your company make informed decisions. This might include determining where to focus marketing efforts, predicting future trends, or identifying potential areas for improvement.\n",
    "\n",
    "Are you ready to help your company stay ahead of the curve in the competitive AI tools market? Let's get started!\n",
    "\n",
    "### The Data\n",
    "\n",
    "The Google Trends data is available as a CSV file `ai_tools_comparison.csv`.\n",
    "The data contains the number of worldwide searches for chatGpt, Gemini, and Microsoft Copilot over the past 12 months as of September 2024. \n",
    "<!--- Link to query: https://trends.google.com/trends/explore?q=chatgpt,gemini,%2Fg%2F11tsqm45vd&hl=en-US -->"
   ]
  },
  {
   "cell_type": "markdown",
   "id": "aa28023d",
   "metadata": {},
   "source": [
    "Your goal is to extract meaningful insights from the search data by answering the following questions.\n",
    "\n",
    "- Which AI tool has shown the most consistent growth in interest over the observed period (the full dataset)? Save the name of the tool as most_consistent_tool of type Data type: string.\n",
    "\n",
    "- Create a visualization showing the interest levels of ChatGPT, Gemini, and Microsoft Copilot over time. Around which month and year does ChatGPT experience its largest decline in interest? Save as gpt_dip of type string in the format \"Month YYYY\".\n",
    "\n",
    "- Explore the seasonality in the data by breaking it down into monthly averages. What month had the highest average interest across all tools? Save the month as best_month as type string."
   ]
  },
  {
   "cell_type": "code",
   "execution_count": 1,
   "id": "2e975eab-d9c6-48d2-b44e-9e37f5099a60",
   "metadata": {
    "executionCancelledAt": null,
    "executionTime": 816,
    "lastExecutedAt": 1726569180645,
    "lastExecutedByKernel": "7e901492-8fee-4642-9a8d-fab2cd78b44d",
    "lastScheduledRunId": null,
    "lastSuccessfullyExecutedCode": "import pandas as pd\nimport matplotlib.pyplot as plt\n\n# Load the data\ntrends = pd.read_csv('ai_tools_comparison.csv')\n\n# Inspect the data\ntrends.head()",
    "outputsMetadata": {
     "0": {
      "height": 244,
      "type": "dataFrame"
     }
    }
   },
   "outputs": [
    {
     "data": {
      "application/vnd.microsoft.datawrangler.viewer.v0+json": {
       "columns": [
        {
         "name": "index",
         "rawType": "int64",
         "type": "integer"
        },
        {
         "name": "week",
         "rawType": "object",
         "type": "string"
        },
        {
         "name": "chatgpt",
         "rawType": "int64",
         "type": "integer"
        },
        {
         "name": "gemini",
         "rawType": "int64",
         "type": "integer"
        },
        {
         "name": "microsoft_copilot",
         "rawType": "int64",
         "type": "integer"
        }
       ],
       "conversionMethod": "pd.DataFrame",
       "ref": "fbef4df2-3170-4ac8-bf7e-1b60b4cef135",
       "rows": [
        [
         "0",
         "2023-08-27",
         "56",
         "3",
         "1"
        ],
        [
         "1",
         "2023-09-03",
         "56",
         "3",
         "1"
        ],
        [
         "2",
         "2023-09-10",
         "63",
         "3",
         "1"
        ],
        [
         "3",
         "2023-09-17",
         "64",
         "3",
         "1"
        ],
        [
         "4",
         "2023-09-24",
         "66",
         "3",
         "1"
        ]
       ],
       "shape": {
        "columns": 4,
        "rows": 5
       }
      },
      "text/html": [
       "<div>\n",
       "<style scoped>\n",
       "    .dataframe tbody tr th:only-of-type {\n",
       "        vertical-align: middle;\n",
       "    }\n",
       "\n",
       "    .dataframe tbody tr th {\n",
       "        vertical-align: top;\n",
       "    }\n",
       "\n",
       "    .dataframe thead th {\n",
       "        text-align: right;\n",
       "    }\n",
       "</style>\n",
       "<table border=\"1\" class=\"dataframe\">\n",
       "  <thead>\n",
       "    <tr style=\"text-align: right;\">\n",
       "      <th></th>\n",
       "      <th>week</th>\n",
       "      <th>chatgpt</th>\n",
       "      <th>gemini</th>\n",
       "      <th>microsoft_copilot</th>\n",
       "    </tr>\n",
       "  </thead>\n",
       "  <tbody>\n",
       "    <tr>\n",
       "      <th>0</th>\n",
       "      <td>2023-08-27</td>\n",
       "      <td>56</td>\n",
       "      <td>3</td>\n",
       "      <td>1</td>\n",
       "    </tr>\n",
       "    <tr>\n",
       "      <th>1</th>\n",
       "      <td>2023-09-03</td>\n",
       "      <td>56</td>\n",
       "      <td>3</td>\n",
       "      <td>1</td>\n",
       "    </tr>\n",
       "    <tr>\n",
       "      <th>2</th>\n",
       "      <td>2023-09-10</td>\n",
       "      <td>63</td>\n",
       "      <td>3</td>\n",
       "      <td>1</td>\n",
       "    </tr>\n",
       "    <tr>\n",
       "      <th>3</th>\n",
       "      <td>2023-09-17</td>\n",
       "      <td>64</td>\n",
       "      <td>3</td>\n",
       "      <td>1</td>\n",
       "    </tr>\n",
       "    <tr>\n",
       "      <th>4</th>\n",
       "      <td>2023-09-24</td>\n",
       "      <td>66</td>\n",
       "      <td>3</td>\n",
       "      <td>1</td>\n",
       "    </tr>\n",
       "  </tbody>\n",
       "</table>\n",
       "</div>"
      ],
      "text/plain": [
       "         week  chatgpt  gemini  microsoft_copilot\n",
       "0  2023-08-27       56       3                  1\n",
       "1  2023-09-03       56       3                  1\n",
       "2  2023-09-10       63       3                  1\n",
       "3  2023-09-17       64       3                  1\n",
       "4  2023-09-24       66       3                  1"
      ]
     },
     "execution_count": 1,
     "metadata": {},
     "output_type": "execute_result"
    }
   ],
   "source": [
    "import pandas as pd\n",
    "import matplotlib.pyplot as plt\n",
    "\n",
    "# Load the data\n",
    "trends = pd.read_csv('ai_tools_comparison.csv')\n",
    "\n",
    "# Inspect the data\n",
    "trends.head()"
   ]
  },
  {
   "cell_type": "code",
   "execution_count": 2,
   "id": "c68e20d8",
   "metadata": {},
   "outputs": [
    {
     "name": "stdout",
     "output_type": "stream",
     "text": [
      "<class 'pandas.core.frame.DataFrame'>\n",
      "RangeIndex: 54 entries, 0 to 53\n",
      "Data columns (total 4 columns):\n",
      " #   Column             Non-Null Count  Dtype \n",
      "---  ------             --------------  ----- \n",
      " 0   week               54 non-null     object\n",
      " 1   chatgpt            54 non-null     int64 \n",
      " 2   gemini             54 non-null     int64 \n",
      " 3   microsoft_copilot  54 non-null     int64 \n",
      "dtypes: int64(3), object(1)\n",
      "memory usage: 1.8+ KB\n"
     ]
    }
   ],
   "source": [
    "trends.info()"
   ]
  },
  {
   "cell_type": "code",
   "execution_count": 3,
   "id": "f969a5a7",
   "metadata": {},
   "outputs": [
    {
     "name": "stdout",
     "output_type": "stream",
     "text": [
      "<class 'pandas.core.frame.DataFrame'>\n",
      "RangeIndex: 54 entries, 0 to 53\n",
      "Data columns (total 4 columns):\n",
      " #   Column             Non-Null Count  Dtype         \n",
      "---  ------             --------------  -----         \n",
      " 0   week               54 non-null     datetime64[ns]\n",
      " 1   chatgpt            54 non-null     int64         \n",
      " 2   gemini             54 non-null     int64         \n",
      " 3   microsoft_copilot  54 non-null     int64         \n",
      "dtypes: datetime64[ns](1), int64(3)\n",
      "memory usage: 1.8 KB\n"
     ]
    }
   ],
   "source": [
    "trends['week'] = pd.to_datetime(trends['week'])\n",
    "trends.info()"
   ]
  },
  {
   "cell_type": "code",
   "execution_count": 4,
   "id": "935969f9",
   "metadata": {},
   "outputs": [],
   "source": [
    "trends.set_index('week', inplace=True)"
   ]
  },
  {
   "cell_type": "markdown",
   "id": "f08cd939",
   "metadata": {},
   "source": [
    "### Pytanie 1"
   ]
  },
  {
   "cell_type": "markdown",
   "id": "ce258e7c",
   "metadata": {},
   "source": [
    "- Which AI tool has shown the most consistent growth in interest over the observed period (the full dataset)? Save the name of the tool as most_consistent_tool of type Data type: string"
   ]
  },
  {
   "cell_type": "markdown",
   "id": "b12664f0",
   "metadata": {},
   "source": [
    "**Krok po kroku, co się dzieje?**  \n",
    "\n",
    "1️⃣ **`pct_change()`** → Oblicza **procentową zmianę** wartości w stosunku do poprzedniego okresu.  \n",
    "   - $ \\text{Procentowa zmiana} = \\frac{\\text{wartość bieżąca} - \\text{wartość poprzednia}}{\\text{wartość poprzednia}} $  \n",
    "   - Jeśli `trends` to DataFrame, oblicza to **dla każdej kolumny osobno**.  \n",
    "   - Wynik jest w skali dziesiętnej (np. `0.05` oznacza wzrost o 5%).  \n",
    "\n",
    "2️⃣ **`fillna(0)`** → Zastępuje wartości `NaN` zerami.  \n",
    "   - Pierwsza wartość w kolumnie **zawsze będzie `NaN`**, bo nie ma wcześniejszego punktu odniesienia.  \n",
    "\n",
    "3️⃣ **`.mul(100)`** → Mnoży wynik przez 100, aby otrzymać wartości **w procentach**.  \n",
    "   - Zmiana `0.05` staje się `5%`.  \n",
    "\n",
    "**Podsumowanie**\n",
    "Twój kod liczy procentową zmianę liczby wyszukiwań **miesiąc do miesiąca**, a wynik daje jako procenty. 📈🔥  \n",
    "\n",
    "➡️ Jeśli wartość jest dodatnia → wzrost liczby wyszukiwań.  \n",
    "➡️ Jeśli wartość jest ujemna → spadek liczby wyszukiwań.  \n"
   ]
  },
  {
   "cell_type": "code",
   "execution_count": 6,
   "id": "63984122",
   "metadata": {},
   "outputs": [
    {
     "data": {
      "application/vnd.microsoft.datawrangler.viewer.v0+json": {
       "columns": [
        {
         "name": "week",
         "rawType": "datetime64[ns]",
         "type": "datetime"
        },
        {
         "name": "chatgpt",
         "rawType": "float64",
         "type": "float"
        },
        {
         "name": "gemini",
         "rawType": "float64",
         "type": "float"
        },
        {
         "name": "microsoft_copilot",
         "rawType": "float64",
         "type": "float"
        }
       ],
       "conversionMethod": "pd.DataFrame",
       "ref": "a5264f8d-7b81-4dd5-b247-ffc7171d0b17",
       "rows": [
        [
         "2023-08-27 00:00:00",
         "0.0",
         "0.0",
         "0.0"
        ],
        [
         "2023-09-03 00:00:00",
         "0.0",
         "0.0",
         "0.0"
        ],
        [
         "2023-09-10 00:00:00",
         "12.5",
         "0.0",
         "0.0"
        ],
        [
         "2023-09-17 00:00:00",
         "1.5873015873015817",
         "0.0",
         "0.0"
        ],
        [
         "2023-09-24 00:00:00",
         "3.125",
         "0.0",
         "0.0"
        ],
        [
         "2023-10-01 00:00:00",
         "1.5151515151515138",
         "0.0",
         "0.0"
        ],
        [
         "2023-10-08 00:00:00",
         "1.4925373134328401",
         "33.33333333333333",
         "0.0"
        ],
        [
         "2023-10-15 00:00:00",
         "1.4705882352941124",
         "0.0",
         "0.0"
        ],
        [
         "2023-10-22 00:00:00",
         "2.898550724637672",
         "0.0",
         "100.0"
        ],
        [
         "2023-10-29 00:00:00",
         "-2.8169014084507005",
         "-25.0",
         "0.0"
        ],
        [
         "2023-11-05 00:00:00",
         "8.695652173913038",
         "0.0",
         "0.0"
        ],
        [
         "2023-11-12 00:00:00",
         "-5.333333333333334",
         "0.0",
         "0.0"
        ],
        [
         "2023-11-19 00:00:00",
         "5.633802816901401",
         "0.0",
         "50.0"
        ],
        [
         "2023-11-26 00:00:00",
         "6.666666666666665",
         "0.0",
         "-33.333333333333336"
        ],
        [
         "2023-12-03 00:00:00",
         "-1.2499999999999956",
         "233.33333333333334",
         "50.0"
        ],
        [
         "2023-12-10 00:00:00",
         "-1.2658227848101222",
         "-19.999999999999996",
         "0.0"
        ],
        [
         "2023-12-17 00:00:00",
         "-20.512820512820518",
         "-25.0",
         "-33.333333333333336"
        ],
        [
         "2023-12-24 00:00:00",
         "-24.193548387096776",
         "-16.666666666666664",
         "0.0"
        ],
        [
         "2023-12-31 00:00:00",
         "19.14893617021276",
         "0.0",
         "50.0"
        ],
        [
         "2024-01-07 00:00:00",
         "19.64285714285714",
         "-19.999999999999996",
         "0.0"
        ],
        [
         "2024-01-14 00:00:00",
         "-2.985074626865669",
         "0.0",
         "33.33333333333333"
        ],
        [
         "2024-01-21 00:00:00",
         "0.0",
         "0.0",
         "0.0"
        ],
        [
         "2024-01-28 00:00:00",
         "4.615384615384621",
         "0.0",
         "0.0"
        ],
        [
         "2024-02-04 00:00:00",
         "5.882352941176472",
         "75.0",
         "0.0"
        ],
        [
         "2024-02-11 00:00:00",
         "0.0",
         "71.42857142857142",
         "50.0"
        ],
        [
         "2024-02-18 00:00:00",
         "0.0",
         "25.0",
         "-16.666666666666664"
        ],
        [
         "2024-02-25 00:00:00",
         "6.944444444444442",
         "0.0",
         "19.999999999999996"
        ],
        [
         "2024-03-03 00:00:00",
         "0.0",
         "-13.33333333333333",
         "0.0"
        ],
        [
         "2024-03-10 00:00:00",
         "-3.8961038961038974",
         "0.0",
         "0.0"
        ],
        [
         "2024-03-17 00:00:00",
         "5.405405405405395",
         "7.692307692307687",
         "0.0"
        ],
        [
         "2024-03-24 00:00:00",
         "-11.538461538461542",
         "-14.28571428571429",
         "0.0"
        ],
        [
         "2024-03-31 00:00:00",
         "7.246376811594213",
         "0.0",
         "0.0"
        ],
        [
         "2024-04-07 00:00:00",
         "1.3513513513513598",
         "0.0",
         "0.0"
        ],
        [
         "2024-04-14 00:00:00",
         "10.666666666666668",
         "16.666666666666675",
         "0.0"
        ],
        [
         "2024-04-21 00:00:00",
         "0.0",
         "0.0",
         "0.0"
        ],
        [
         "2024-04-28 00:00:00",
         "-1.2048192771084376",
         "0.0",
         "-33.333333333333336"
        ],
        [
         "2024-05-05 00:00:00",
         "-4.878048780487809",
         "7.14285714285714",
         "0.0"
        ],
        [
         "2024-05-12 00:00:00",
         "15.384615384615374",
         "6.666666666666665",
         "25.0"
        ],
        [
         "2024-05-19 00:00:00",
         "0.0",
         "6.25",
         "19.999999999999996"
        ],
        [
         "2024-05-26 00:00:00",
         "-3.3333333333333326",
         "-5.882352941176472",
         "-16.666666666666664"
        ],
        [
         "2024-06-02 00:00:00",
         "10.344827586206895",
         "6.25",
         "0.0"
        ],
        [
         "2024-06-09 00:00:00",
         "-15.625",
         "-11.764705882352944",
         "0.0"
        ],
        [
         "2024-06-16 00:00:00",
         "-8.64197530864198",
         "0.0",
         "0.0"
        ],
        [
         "2024-06-23 00:00:00",
         "-2.7027027027026973",
         "-6.666666666666665",
         "-19.999999999999996"
        ],
        [
         "2024-06-30 00:00:00",
         "-5.555555555555558",
         "-7.14285714285714",
         "0.0"
        ],
        [
         "2024-07-07 00:00:00",
         "-4.411764705882348",
         "-7.692307692307687",
         "-25.0"
        ],
        [
         "2024-07-14 00:00:00",
         "1.538461538461533",
         "8.333333333333325",
         "33.33333333333333"
        ],
        [
         "2024-07-21 00:00:00",
         "1.5151515151515138",
         "0.0",
         "0.0"
        ],
        [
         "2024-07-28 00:00:00",
         "1.4925373134328401",
         "0.0",
         "-25.0"
        ],
        [
         "2024-08-04 00:00:00",
         "10.294117647058831",
         "7.692307692307687",
         "33.33333333333333"
        ]
       ],
       "shape": {
        "columns": 3,
        "rows": 54
       }
      },
      "text/html": [
       "<div>\n",
       "<style scoped>\n",
       "    .dataframe tbody tr th:only-of-type {\n",
       "        vertical-align: middle;\n",
       "    }\n",
       "\n",
       "    .dataframe tbody tr th {\n",
       "        vertical-align: top;\n",
       "    }\n",
       "\n",
       "    .dataframe thead th {\n",
       "        text-align: right;\n",
       "    }\n",
       "</style>\n",
       "<table border=\"1\" class=\"dataframe\">\n",
       "  <thead>\n",
       "    <tr style=\"text-align: right;\">\n",
       "      <th></th>\n",
       "      <th>chatgpt</th>\n",
       "      <th>gemini</th>\n",
       "      <th>microsoft_copilot</th>\n",
       "    </tr>\n",
       "    <tr>\n",
       "      <th>week</th>\n",
       "      <th></th>\n",
       "      <th></th>\n",
       "      <th></th>\n",
       "    </tr>\n",
       "  </thead>\n",
       "  <tbody>\n",
       "    <tr>\n",
       "      <th>2023-08-27</th>\n",
       "      <td>0.000000</td>\n",
       "      <td>0.000000</td>\n",
       "      <td>0.000000</td>\n",
       "    </tr>\n",
       "    <tr>\n",
       "      <th>2023-09-03</th>\n",
       "      <td>0.000000</td>\n",
       "      <td>0.000000</td>\n",
       "      <td>0.000000</td>\n",
       "    </tr>\n",
       "    <tr>\n",
       "      <th>2023-09-10</th>\n",
       "      <td>12.500000</td>\n",
       "      <td>0.000000</td>\n",
       "      <td>0.000000</td>\n",
       "    </tr>\n",
       "    <tr>\n",
       "      <th>2023-09-17</th>\n",
       "      <td>1.587302</td>\n",
       "      <td>0.000000</td>\n",
       "      <td>0.000000</td>\n",
       "    </tr>\n",
       "    <tr>\n",
       "      <th>2023-09-24</th>\n",
       "      <td>3.125000</td>\n",
       "      <td>0.000000</td>\n",
       "      <td>0.000000</td>\n",
       "    </tr>\n",
       "    <tr>\n",
       "      <th>2023-10-01</th>\n",
       "      <td>1.515152</td>\n",
       "      <td>0.000000</td>\n",
       "      <td>0.000000</td>\n",
       "    </tr>\n",
       "    <tr>\n",
       "      <th>2023-10-08</th>\n",
       "      <td>1.492537</td>\n",
       "      <td>33.333333</td>\n",
       "      <td>0.000000</td>\n",
       "    </tr>\n",
       "    <tr>\n",
       "      <th>2023-10-15</th>\n",
       "      <td>1.470588</td>\n",
       "      <td>0.000000</td>\n",
       "      <td>0.000000</td>\n",
       "    </tr>\n",
       "    <tr>\n",
       "      <th>2023-10-22</th>\n",
       "      <td>2.898551</td>\n",
       "      <td>0.000000</td>\n",
       "      <td>100.000000</td>\n",
       "    </tr>\n",
       "    <tr>\n",
       "      <th>2023-10-29</th>\n",
       "      <td>-2.816901</td>\n",
       "      <td>-25.000000</td>\n",
       "      <td>0.000000</td>\n",
       "    </tr>\n",
       "    <tr>\n",
       "      <th>2023-11-05</th>\n",
       "      <td>8.695652</td>\n",
       "      <td>0.000000</td>\n",
       "      <td>0.000000</td>\n",
       "    </tr>\n",
       "    <tr>\n",
       "      <th>2023-11-12</th>\n",
       "      <td>-5.333333</td>\n",
       "      <td>0.000000</td>\n",
       "      <td>0.000000</td>\n",
       "    </tr>\n",
       "    <tr>\n",
       "      <th>2023-11-19</th>\n",
       "      <td>5.633803</td>\n",
       "      <td>0.000000</td>\n",
       "      <td>50.000000</td>\n",
       "    </tr>\n",
       "    <tr>\n",
       "      <th>2023-11-26</th>\n",
       "      <td>6.666667</td>\n",
       "      <td>0.000000</td>\n",
       "      <td>-33.333333</td>\n",
       "    </tr>\n",
       "    <tr>\n",
       "      <th>2023-12-03</th>\n",
       "      <td>-1.250000</td>\n",
       "      <td>233.333333</td>\n",
       "      <td>50.000000</td>\n",
       "    </tr>\n",
       "    <tr>\n",
       "      <th>2023-12-10</th>\n",
       "      <td>-1.265823</td>\n",
       "      <td>-20.000000</td>\n",
       "      <td>0.000000</td>\n",
       "    </tr>\n",
       "    <tr>\n",
       "      <th>2023-12-17</th>\n",
       "      <td>-20.512821</td>\n",
       "      <td>-25.000000</td>\n",
       "      <td>-33.333333</td>\n",
       "    </tr>\n",
       "    <tr>\n",
       "      <th>2023-12-24</th>\n",
       "      <td>-24.193548</td>\n",
       "      <td>-16.666667</td>\n",
       "      <td>0.000000</td>\n",
       "    </tr>\n",
       "    <tr>\n",
       "      <th>2023-12-31</th>\n",
       "      <td>19.148936</td>\n",
       "      <td>0.000000</td>\n",
       "      <td>50.000000</td>\n",
       "    </tr>\n",
       "    <tr>\n",
       "      <th>2024-01-07</th>\n",
       "      <td>19.642857</td>\n",
       "      <td>-20.000000</td>\n",
       "      <td>0.000000</td>\n",
       "    </tr>\n",
       "    <tr>\n",
       "      <th>2024-01-14</th>\n",
       "      <td>-2.985075</td>\n",
       "      <td>0.000000</td>\n",
       "      <td>33.333333</td>\n",
       "    </tr>\n",
       "    <tr>\n",
       "      <th>2024-01-21</th>\n",
       "      <td>0.000000</td>\n",
       "      <td>0.000000</td>\n",
       "      <td>0.000000</td>\n",
       "    </tr>\n",
       "    <tr>\n",
       "      <th>2024-01-28</th>\n",
       "      <td>4.615385</td>\n",
       "      <td>0.000000</td>\n",
       "      <td>0.000000</td>\n",
       "    </tr>\n",
       "    <tr>\n",
       "      <th>2024-02-04</th>\n",
       "      <td>5.882353</td>\n",
       "      <td>75.000000</td>\n",
       "      <td>0.000000</td>\n",
       "    </tr>\n",
       "    <tr>\n",
       "      <th>2024-02-11</th>\n",
       "      <td>0.000000</td>\n",
       "      <td>71.428571</td>\n",
       "      <td>50.000000</td>\n",
       "    </tr>\n",
       "    <tr>\n",
       "      <th>2024-02-18</th>\n",
       "      <td>0.000000</td>\n",
       "      <td>25.000000</td>\n",
       "      <td>-16.666667</td>\n",
       "    </tr>\n",
       "    <tr>\n",
       "      <th>2024-02-25</th>\n",
       "      <td>6.944444</td>\n",
       "      <td>0.000000</td>\n",
       "      <td>20.000000</td>\n",
       "    </tr>\n",
       "    <tr>\n",
       "      <th>2024-03-03</th>\n",
       "      <td>0.000000</td>\n",
       "      <td>-13.333333</td>\n",
       "      <td>0.000000</td>\n",
       "    </tr>\n",
       "    <tr>\n",
       "      <th>2024-03-10</th>\n",
       "      <td>-3.896104</td>\n",
       "      <td>0.000000</td>\n",
       "      <td>0.000000</td>\n",
       "    </tr>\n",
       "    <tr>\n",
       "      <th>2024-03-17</th>\n",
       "      <td>5.405405</td>\n",
       "      <td>7.692308</td>\n",
       "      <td>0.000000</td>\n",
       "    </tr>\n",
       "    <tr>\n",
       "      <th>2024-03-24</th>\n",
       "      <td>-11.538462</td>\n",
       "      <td>-14.285714</td>\n",
       "      <td>0.000000</td>\n",
       "    </tr>\n",
       "    <tr>\n",
       "      <th>2024-03-31</th>\n",
       "      <td>7.246377</td>\n",
       "      <td>0.000000</td>\n",
       "      <td>0.000000</td>\n",
       "    </tr>\n",
       "    <tr>\n",
       "      <th>2024-04-07</th>\n",
       "      <td>1.351351</td>\n",
       "      <td>0.000000</td>\n",
       "      <td>0.000000</td>\n",
       "    </tr>\n",
       "    <tr>\n",
       "      <th>2024-04-14</th>\n",
       "      <td>10.666667</td>\n",
       "      <td>16.666667</td>\n",
       "      <td>0.000000</td>\n",
       "    </tr>\n",
       "    <tr>\n",
       "      <th>2024-04-21</th>\n",
       "      <td>0.000000</td>\n",
       "      <td>0.000000</td>\n",
       "      <td>0.000000</td>\n",
       "    </tr>\n",
       "    <tr>\n",
       "      <th>2024-04-28</th>\n",
       "      <td>-1.204819</td>\n",
       "      <td>0.000000</td>\n",
       "      <td>-33.333333</td>\n",
       "    </tr>\n",
       "    <tr>\n",
       "      <th>2024-05-05</th>\n",
       "      <td>-4.878049</td>\n",
       "      <td>7.142857</td>\n",
       "      <td>0.000000</td>\n",
       "    </tr>\n",
       "    <tr>\n",
       "      <th>2024-05-12</th>\n",
       "      <td>15.384615</td>\n",
       "      <td>6.666667</td>\n",
       "      <td>25.000000</td>\n",
       "    </tr>\n",
       "    <tr>\n",
       "      <th>2024-05-19</th>\n",
       "      <td>0.000000</td>\n",
       "      <td>6.250000</td>\n",
       "      <td>20.000000</td>\n",
       "    </tr>\n",
       "    <tr>\n",
       "      <th>2024-05-26</th>\n",
       "      <td>-3.333333</td>\n",
       "      <td>-5.882353</td>\n",
       "      <td>-16.666667</td>\n",
       "    </tr>\n",
       "    <tr>\n",
       "      <th>2024-06-02</th>\n",
       "      <td>10.344828</td>\n",
       "      <td>6.250000</td>\n",
       "      <td>0.000000</td>\n",
       "    </tr>\n",
       "    <tr>\n",
       "      <th>2024-06-09</th>\n",
       "      <td>-15.625000</td>\n",
       "      <td>-11.764706</td>\n",
       "      <td>0.000000</td>\n",
       "    </tr>\n",
       "    <tr>\n",
       "      <th>2024-06-16</th>\n",
       "      <td>-8.641975</td>\n",
       "      <td>0.000000</td>\n",
       "      <td>0.000000</td>\n",
       "    </tr>\n",
       "    <tr>\n",
       "      <th>2024-06-23</th>\n",
       "      <td>-2.702703</td>\n",
       "      <td>-6.666667</td>\n",
       "      <td>-20.000000</td>\n",
       "    </tr>\n",
       "    <tr>\n",
       "      <th>2024-06-30</th>\n",
       "      <td>-5.555556</td>\n",
       "      <td>-7.142857</td>\n",
       "      <td>0.000000</td>\n",
       "    </tr>\n",
       "    <tr>\n",
       "      <th>2024-07-07</th>\n",
       "      <td>-4.411765</td>\n",
       "      <td>-7.692308</td>\n",
       "      <td>-25.000000</td>\n",
       "    </tr>\n",
       "    <tr>\n",
       "      <th>2024-07-14</th>\n",
       "      <td>1.538462</td>\n",
       "      <td>8.333333</td>\n",
       "      <td>33.333333</td>\n",
       "    </tr>\n",
       "    <tr>\n",
       "      <th>2024-07-21</th>\n",
       "      <td>1.515152</td>\n",
       "      <td>0.000000</td>\n",
       "      <td>0.000000</td>\n",
       "    </tr>\n",
       "    <tr>\n",
       "      <th>2024-07-28</th>\n",
       "      <td>1.492537</td>\n",
       "      <td>0.000000</td>\n",
       "      <td>-25.000000</td>\n",
       "    </tr>\n",
       "    <tr>\n",
       "      <th>2024-08-04</th>\n",
       "      <td>10.294118</td>\n",
       "      <td>7.692308</td>\n",
       "      <td>33.333333</td>\n",
       "    </tr>\n",
       "    <tr>\n",
       "      <th>2024-08-11</th>\n",
       "      <td>8.000000</td>\n",
       "      <td>0.000000</td>\n",
       "      <td>0.000000</td>\n",
       "    </tr>\n",
       "    <tr>\n",
       "      <th>2024-08-18</th>\n",
       "      <td>8.641975</td>\n",
       "      <td>7.142857</td>\n",
       "      <td>0.000000</td>\n",
       "    </tr>\n",
       "    <tr>\n",
       "      <th>2024-08-25</th>\n",
       "      <td>13.636364</td>\n",
       "      <td>6.666667</td>\n",
       "      <td>25.000000</td>\n",
       "    </tr>\n",
       "    <tr>\n",
       "      <th>2024-09-01</th>\n",
       "      <td>-23.000000</td>\n",
       "      <td>-12.500000</td>\n",
       "      <td>-40.000000</td>\n",
       "    </tr>\n",
       "  </tbody>\n",
       "</table>\n",
       "</div>"
      ],
      "text/plain": [
       "              chatgpt      gemini  microsoft_copilot\n",
       "week                                                \n",
       "2023-08-27   0.000000    0.000000           0.000000\n",
       "2023-09-03   0.000000    0.000000           0.000000\n",
       "2023-09-10  12.500000    0.000000           0.000000\n",
       "2023-09-17   1.587302    0.000000           0.000000\n",
       "2023-09-24   3.125000    0.000000           0.000000\n",
       "2023-10-01   1.515152    0.000000           0.000000\n",
       "2023-10-08   1.492537   33.333333           0.000000\n",
       "2023-10-15   1.470588    0.000000           0.000000\n",
       "2023-10-22   2.898551    0.000000         100.000000\n",
       "2023-10-29  -2.816901  -25.000000           0.000000\n",
       "2023-11-05   8.695652    0.000000           0.000000\n",
       "2023-11-12  -5.333333    0.000000           0.000000\n",
       "2023-11-19   5.633803    0.000000          50.000000\n",
       "2023-11-26   6.666667    0.000000         -33.333333\n",
       "2023-12-03  -1.250000  233.333333          50.000000\n",
       "2023-12-10  -1.265823  -20.000000           0.000000\n",
       "2023-12-17 -20.512821  -25.000000         -33.333333\n",
       "2023-12-24 -24.193548  -16.666667           0.000000\n",
       "2023-12-31  19.148936    0.000000          50.000000\n",
       "2024-01-07  19.642857  -20.000000           0.000000\n",
       "2024-01-14  -2.985075    0.000000          33.333333\n",
       "2024-01-21   0.000000    0.000000           0.000000\n",
       "2024-01-28   4.615385    0.000000           0.000000\n",
       "2024-02-04   5.882353   75.000000           0.000000\n",
       "2024-02-11   0.000000   71.428571          50.000000\n",
       "2024-02-18   0.000000   25.000000         -16.666667\n",
       "2024-02-25   6.944444    0.000000          20.000000\n",
       "2024-03-03   0.000000  -13.333333           0.000000\n",
       "2024-03-10  -3.896104    0.000000           0.000000\n",
       "2024-03-17   5.405405    7.692308           0.000000\n",
       "2024-03-24 -11.538462  -14.285714           0.000000\n",
       "2024-03-31   7.246377    0.000000           0.000000\n",
       "2024-04-07   1.351351    0.000000           0.000000\n",
       "2024-04-14  10.666667   16.666667           0.000000\n",
       "2024-04-21   0.000000    0.000000           0.000000\n",
       "2024-04-28  -1.204819    0.000000         -33.333333\n",
       "2024-05-05  -4.878049    7.142857           0.000000\n",
       "2024-05-12  15.384615    6.666667          25.000000\n",
       "2024-05-19   0.000000    6.250000          20.000000\n",
       "2024-05-26  -3.333333   -5.882353         -16.666667\n",
       "2024-06-02  10.344828    6.250000           0.000000\n",
       "2024-06-09 -15.625000  -11.764706           0.000000\n",
       "2024-06-16  -8.641975    0.000000           0.000000\n",
       "2024-06-23  -2.702703   -6.666667         -20.000000\n",
       "2024-06-30  -5.555556   -7.142857           0.000000\n",
       "2024-07-07  -4.411765   -7.692308         -25.000000\n",
       "2024-07-14   1.538462    8.333333          33.333333\n",
       "2024-07-21   1.515152    0.000000           0.000000\n",
       "2024-07-28   1.492537    0.000000         -25.000000\n",
       "2024-08-04  10.294118    7.692308          33.333333\n",
       "2024-08-11   8.000000    0.000000           0.000000\n",
       "2024-08-18   8.641975    7.142857           0.000000\n",
       "2024-08-25  13.636364    6.666667          25.000000\n",
       "2024-09-01 -23.000000  -12.500000         -40.000000"
      ]
     },
     "execution_count": 6,
     "metadata": {},
     "output_type": "execute_result"
    }
   ],
   "source": [
    "growth_rates = trends.pct_change().fillna(0).mul(100)\n",
    "growth_rates"
   ]
  },
  {
   "cell_type": "code",
   "execution_count": 7,
   "id": "b6bc0c04",
   "metadata": {},
   "outputs": [
    {
     "data": {
      "text/plain": [
       "chatgpt               8.966296\n",
       "gemini               36.025774\n",
       "microsoft_copilot    24.338599\n",
       "dtype: float64"
      ]
     },
     "execution_count": 7,
     "metadata": {},
     "output_type": "execute_result"
    }
   ],
   "source": [
    "std_dev = growth_rates.std()\n",
    "std_dev"
   ]
  },
  {
   "cell_type": "code",
   "execution_count": 8,
   "id": "dd710b43",
   "metadata": {},
   "outputs": [
    {
     "data": {
      "text/plain": [
       "'chatgpt'"
      ]
     },
     "execution_count": 8,
     "metadata": {},
     "output_type": "execute_result"
    }
   ],
   "source": [
    "most_consistent_tool = std_dev[std_dev == std_dev.min()].index[0]\n",
    "most_consistent_tool"
   ]
  },
  {
   "cell_type": "markdown",
   "id": "38c9f87d",
   "metadata": {},
   "source": [
    "### Pytanie 2"
   ]
  },
  {
   "cell_type": "markdown",
   "id": "3e9d1f1d",
   "metadata": {},
   "source": [
    "- Create a visualization showing the interest levels of ChatGPT, Gemini, and Microsoft Copilot over time. Around which month and year does ChatGPT experience its largest decline in interest? Save as gpt_dip of type string in the format \"Month YYYY\"."
   ]
  },
  {
   "cell_type": "code",
   "execution_count": null,
   "id": "e3d6b68b",
   "metadata": {},
   "outputs": [],
   "source": []
  },
  {
   "cell_type": "markdown",
   "id": "3e1e9038",
   "metadata": {},
   "source": [
    "### Pytanie 3"
   ]
  },
  {
   "cell_type": "markdown",
   "id": "94923f3e",
   "metadata": {},
   "source": [
    "- Explore the seasonality in the data by breaking it down into monthly averages. What month had the highest average interest across all tools? Save the month as best_month as type string."
   ]
  },
  {
   "cell_type": "code",
   "execution_count": 9,
   "id": "2203de45",
   "metadata": {},
   "outputs": [
    {
     "data": {
      "application/vnd.microsoft.datawrangler.viewer.v0+json": {
       "columns": [
        {
         "name": "week",
         "rawType": "datetime64[ns]",
         "type": "datetime"
        },
        {
         "name": "chatgpt",
         "rawType": "int64",
         "type": "integer"
        },
        {
         "name": "gemini",
         "rawType": "int64",
         "type": "integer"
        },
        {
         "name": "microsoft_copilot",
         "rawType": "int64",
         "type": "integer"
        }
       ],
       "conversionMethod": "pd.DataFrame",
       "ref": "620d67a8-d5ae-490d-8ccb-24301dd58e16",
       "rows": [
        [
         "2023-08-27 00:00:00",
         "56",
         "3",
         "1"
        ],
        [
         "2023-09-03 00:00:00",
         "56",
         "3",
         "1"
        ],
        [
         "2023-09-10 00:00:00",
         "63",
         "3",
         "1"
        ],
        [
         "2023-09-17 00:00:00",
         "64",
         "3",
         "1"
        ],
        [
         "2023-09-24 00:00:00",
         "66",
         "3",
         "1"
        ]
       ],
       "shape": {
        "columns": 3,
        "rows": 5
       }
      },
      "text/html": [
       "<div>\n",
       "<style scoped>\n",
       "    .dataframe tbody tr th:only-of-type {\n",
       "        vertical-align: middle;\n",
       "    }\n",
       "\n",
       "    .dataframe tbody tr th {\n",
       "        vertical-align: top;\n",
       "    }\n",
       "\n",
       "    .dataframe thead th {\n",
       "        text-align: right;\n",
       "    }\n",
       "</style>\n",
       "<table border=\"1\" class=\"dataframe\">\n",
       "  <thead>\n",
       "    <tr style=\"text-align: right;\">\n",
       "      <th></th>\n",
       "      <th>chatgpt</th>\n",
       "      <th>gemini</th>\n",
       "      <th>microsoft_copilot</th>\n",
       "    </tr>\n",
       "    <tr>\n",
       "      <th>week</th>\n",
       "      <th></th>\n",
       "      <th></th>\n",
       "      <th></th>\n",
       "    </tr>\n",
       "  </thead>\n",
       "  <tbody>\n",
       "    <tr>\n",
       "      <th>2023-08-27</th>\n",
       "      <td>56</td>\n",
       "      <td>3</td>\n",
       "      <td>1</td>\n",
       "    </tr>\n",
       "    <tr>\n",
       "      <th>2023-09-03</th>\n",
       "      <td>56</td>\n",
       "      <td>3</td>\n",
       "      <td>1</td>\n",
       "    </tr>\n",
       "    <tr>\n",
       "      <th>2023-09-10</th>\n",
       "      <td>63</td>\n",
       "      <td>3</td>\n",
       "      <td>1</td>\n",
       "    </tr>\n",
       "    <tr>\n",
       "      <th>2023-09-17</th>\n",
       "      <td>64</td>\n",
       "      <td>3</td>\n",
       "      <td>1</td>\n",
       "    </tr>\n",
       "    <tr>\n",
       "      <th>2023-09-24</th>\n",
       "      <td>66</td>\n",
       "      <td>3</td>\n",
       "      <td>1</td>\n",
       "    </tr>\n",
       "  </tbody>\n",
       "</table>\n",
       "</div>"
      ],
      "text/plain": [
       "            chatgpt  gemini  microsoft_copilot\n",
       "week                                          \n",
       "2023-08-27       56       3                  1\n",
       "2023-09-03       56       3                  1\n",
       "2023-09-10       63       3                  1\n",
       "2023-09-17       64       3                  1\n",
       "2023-09-24       66       3                  1"
      ]
     },
     "execution_count": 9,
     "metadata": {},
     "output_type": "execute_result"
    }
   ],
   "source": [
    "trends.head()"
   ]
  },
  {
   "cell_type": "code",
   "execution_count": 10,
   "id": "a3bb04cb-d7d4-45f7-be6d-c43b0ecab774",
   "metadata": {
    "executionCancelledAt": null,
    "executionTime": 50,
    "lastExecutedAt": 1725241315237,
    "lastExecutedByKernel": "9f9224db-3925-4198-a5fe-201df58caccc",
    "lastScheduledRunId": null,
    "lastSuccessfullyExecutedCode": "# Start coding here\n# Use as many cells as you need"
   },
   "outputs": [
    {
     "name": "stdout",
     "output_type": "stream",
     "text": [
      "2024-05-31 00:00:00\n",
      "Month with the highest interest: May\n"
     ]
    },
    {
     "name": "stderr",
     "output_type": "stream",
     "text": [
      "/tmp/ipykernel_27153/3901480866.py:3: FutureWarning: 'M' is deprecated and will be removed in a future version, please use 'ME' instead.\n",
      "  monthly_data = trends.resample('M').mean()\n"
     ]
    }
   ],
   "source": [
    "# Resample the data to monthly averages\n",
    "# This will convert the weekly data into monthly data by taking the mean of each month\n",
    "monthly_data = trends.resample('M').mean()\n",
    "\n",
    "# Calculate the overall maximum for all tools combined\n",
    "# This involves finding the month with the highest average interest across all tools\n",
    "# First calculate the mean interest for each month across all tools; then, sort the values in descending order\n",
    "# Finally, get the month name of the first entry, which corresponds to the highest average interest\n",
    "print(monthly_data.mean(axis=1).sort_values(ascending=False).index[0])\n",
    "\n",
    "best_month = \"May\"\n",
    "# Here is a more efficient way of coding the same thing\n",
    "# best_month = monthly_data.mean(axis=1).idxmax().strftime('%B')\n",
    "\n",
    "# Print the result\n",
    "print(f\"Month with the highest interest: {best_month}\")\n",
    "\n",
    "# Here is a more efficient way of coding the same thing\n",
    "# best_month = monthly_data.mean(axis=1).idxmax().strftime('%B')\n",
    "\n",
    "# Optional: Plot the resampled monthly data for each AI tool to check for seasonality\n",
    "# This will help us visualize the trends and see if there are any seasonal patterns\n",
    "# monthly_data.plot(subplots=True, figsize=(10, 8), title='Monthly Averages of AI Tool Metrics')\n",
    "\n",
    "# # Adjust the layout to prevent overlap and ensure everything fits well\n",
    "# plt.tight_layout()\n",
    "\n",
    "# # Display the plot\n",
    "# plt.show()"
   ]
  },
  {
   "cell_type": "markdown",
   "id": "2c70e806",
   "metadata": {},
   "source": [
    "# Solution"
   ]
  },
  {
   "cell_type": "code",
   "execution_count": null,
   "id": "2bf7c3a1",
   "metadata": {},
   "outputs": [],
   "source": [
    "import pandas as pd\n",
    "import matplotlib.pyplot as plt\n",
    "\n",
    "# Load the data\n",
    "trends = pd.read_csv('ai_tools_comparison.csv')\n",
    "\n",
    "# Inspect the data\n",
    "trends.head()\n",
    "\n",
    "# Convert the 'week' column to datetime format for accurate time series analysis\n",
    "trends['week'] = pd.to_datetime(trends['week'])\n",
    "\n",
    "# Set the 'week' column as the index of the DataFrame to facilitate time series operations\n",
    "trends.set_index('week', inplace=True)\n",
    "\n",
    "# Question 1: Which AI tool has shown the most consistent growth in interest over the observed period (the full dataset)?\n",
    "\n",
    "# Calculate the week-over-week percentage change for each tool\n",
    "growth_rates = trends.pct_change().fillna(0).mul(100)\n",
    "\n",
    "# Calculate the standard deviation of the growth rates for each tool\n",
    "std_dev = growth_rates.std()\n",
    "\n",
    "# Identify the tool with the smallest standard deviation, indicating the most consistent growth\n",
    "most_consistent_tool = std_dev[std_dev == std_dev.min()].index[0]  \n",
    "\n",
    "# A more efficient way of finding the same answer is with idxmin()\n",
    "# most_consistent_tool = std_dev.idxmin() \n",
    "\n",
    "# Print the result\n",
    "print(f\"Most consistent tool: {most_consistent_tool}\")\n",
    "\n",
    "# Question 2: Around which month and year does ChatGPT experience its largest decline in interest?\n",
    "\n",
    "# Create a copy of the trends DataFrame to work with\n",
    "interest_levels = trends.copy()\n",
    "\n",
    "# Plot the interest levels of ChatGPT, Gemini, and Microsoft Copilot over time\n",
    "interest_levels.plot(title=\"Interest Levels of ChatGPT, Gemini, and Microsoft Copilot Over Time\")\n",
    "\n",
    "# Add labels to the x-axis and y-axis for better readability\n",
    "plt.xlabel('Week')\n",
    "plt.ylabel('Interest Levels')\n",
    "\n",
    "# Display the plot\n",
    "plt.show()\n",
    "\n",
    "# Identify the month and year when ChatGPT experienced the biggest decline in interest by looking for the lowest point on the trend line and reading the x-axis at that point\n",
    "gpt_dip = \"December 2023\" # January 2024 is also accepted\n",
    "\n",
    "# Print the result\n",
    "print(f\"The worst month and year for ChatGPT: {gpt_dip}\")\n",
    "\n",
    "# Question 3: What month had the highest average interest across all tools?\n",
    "\n",
    "# Resample the data to monthly averages\n",
    "# This will convert the weekly data into monthly data by taking the mean of each month\n",
    "monthly_data = trends.resample('M').mean()\n",
    "\n",
    "# Calculate the overall maximum for all tools combined\n",
    "# This involves finding the month with the highest average interest across all tools\n",
    "# First calculate the mean interest for each month across all tools; then, sort the values in descending order\n",
    "# Finally, get the month name of the first entry, which corresponds to the highest average interest\n",
    "print(monthly_data.mean(axis=1).sort_values(ascending=False).index[0])\n",
    "\n",
    "best_month = \"May\"\n",
    "# Here is a more efficient way of coding the same thing\n",
    "# best_month = monthly_data.mean(axis=1).idxmax().strftime('%B')\n",
    "\n",
    "# Print the result\n",
    "print(f\"Month with the highest interest: {best_month}\")\n",
    "\n",
    "# Here is a more efficient way of coding the same thing\n",
    "# best_month = monthly_data.mean(axis=1).idxmax().strftime('%B')\n",
    "\n",
    "# Optional: Plot the resampled monthly data for each AI tool to check for seasonality\n",
    "# This will help us visualize the trends and see if there are any seasonal patterns\n",
    "# monthly_data.plot(subplots=True, figsize=(10, 8), title='Monthly Averages of AI Tool Metrics')\n",
    "\n",
    "# # Adjust the layout to prevent overlap and ensure everything fits well\n",
    "# plt.tight_layout()\n",
    "\n",
    "# # Display the plot\n",
    "# plt.show()"
   ]
  }
 ],
 "metadata": {
  "colab": {
   "name": "Welcome to DataCamp Workspaces.ipynb",
   "provenance": []
  },
  "kernelspec": {
   "display_name": "base",
   "language": "python",
   "name": "python3"
  },
  "language_info": {
   "codemirror_mode": {
    "name": "ipython",
    "version": 3
   },
   "file_extension": ".py",
   "mimetype": "text/x-python",
   "name": "python",
   "nbconvert_exporter": "python",
   "pygments_lexer": "ipython3",
   "version": "3.12.4"
  }
 },
 "nbformat": 4,
 "nbformat_minor": 5
}
