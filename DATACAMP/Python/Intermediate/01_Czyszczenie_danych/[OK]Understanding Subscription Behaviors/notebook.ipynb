{
 "cells": [
  {
   "cell_type": "markdown",
   "id": "f98bdeaa-eac6-4f30-b47e-d45e4eab9cb2",
   "metadata": {},
   "source": [
    "<div style=\"text-align: center; padding: 20px;\">\n",
    "    <img src=\"austin-distel-744oGeqpxPQ-unsplash.jpeg\" alt=\"​​Subscription Renewal Insights for a SaaS Company\" width=\"450\"/>\n",
    "</div>\n",
    "\n",
    "\n",
    "<!-- Image source - https://unsplash.com/photos/person-using-macbook-pro-744oGeqpxPQ\n",
    "-->\n",
    "\n",
    "    \n",
    "A SaaS company seeks to uncover what drives its clients to renew subscriptions. They’ve collected data on client details, subscription records, and economic indicators and would like to connect them to better understand its clients’ behavior. \n",
    "\n",
    "They’ve tasked you with analyzing these datasets to identify the key factors influencing clients’ decisions to renew their subscriptions. \n",
    "\n",
    "Your analysis will provide them with insights into which customers are renewing their products and the reasons behind their renewals. The company can leverage these insights to make informed decisions to increase renewal rates and improve customer loyalty, helping them stay competitive and ensure long-term growth.\n",
    "\n",
    "\n",
    "## The Data\n",
    "\n",
    "The company have provided you with three datasets for your analysis. A summary of each data is provided below.\n",
    "\n",
    "## `client_details.csv`\n",
    "\n",
    "| Column         | Description|\n",
    "|----------------|---------------------------------------------------------------|\n",
    "| `client_id`    | Unique identifier for each client. |\n",
    "| `company_size` | Size of the company (Small, Medium, Large).|\n",
    "| `industry`     | Industry to which the client belongs (Fintech, Gaming, Crypto, AI, E-commerce).|\n",
    "| `location`     | Location of the client (New York, New Jersey, Pennsylvania, Massachusetts, Connecticut).|\n",
    "\n",
    "## `subscription_records.csv`\n",
    "\n",
    "| Column             | Description   |\n",
    "|--------------------|---------------|\n",
    "| `client_id`        | Unique identifier for each client.|\n",
    "| `subscription_type`| Type of subscription (Yearly, Monthly).|\n",
    "| `start_date`       | Start date of the subscription - YYYY-MM-DD.|\n",
    "| `end_date`         | End date of the subscription - YYYY-MM-DD.|\n",
    "| `renewed`          | Indicates whether the subscription was renewed (True, False).|\n",
    "\n",
    "## `economic_indicators.csv`\n",
    "\n",
    "| Column           | Description                                       |\n",
    "|------------------|---------------------------------------------------|\n",
    "| `start_date`     | Start date of the economic indicator (Quarterly) - YYYY-MM-DD.|\n",
    "| `end_date`       | End date of the economic indicator (Quarterly) - YYYY-MM-DD.|\n",
    "| `inflation_rate` | Inflation rate in the period.|\n",
    "| `gdp_growth_rate`| Gross Domestic Product (GDP) growth rate in the period.|\n"
   ]
  },
  {
   "cell_type": "markdown",
   "id": "6d580ccc",
   "metadata": {},
   "source": [
    "A SaaS company seeks to uncover what drives its clients to renew their subscriptions. They've asked you to answer the following questions:\n",
    "\n",
    "- How many total Fintech and Crypto clients does the company have? Store as an integer variable called total_fintech_crypto_clients.\n",
    "- Which industry has the highest renewal rate? Store as a string variable called top_industry.\n",
    "- For clients that renewed their subscriptions, what was the average inflation rate when their subscriptions were renewed? Store as a float variable called average_inflation_for_renewals."
   ]
  },
  {
   "cell_type": "code",
   "execution_count": 1,
   "id": "73ca3720-210a-4230-8601-2ef53803a02f",
   "metadata": {
    "executionCancelledAt": null,
    "executionTime": 55,
    "lastExecutedAt": 1718995461152,
    "lastExecutedByKernel": "fcc4f39d-2530-4a91-aef8-b5cf541b214f",
    "lastScheduledRunId": null,
    "lastSuccessfullyExecutedCode": "# Re-run this cell\n# Import required libraries\nimport pandas as pd\n\n# Import data\nclient_details = pd.read_csv('data/client_details.csv')\nsubscription_records = pd.read_csv('data/subscription_records.csv', parse_dates = ['start_date','end_date'])\npayment_history = pd.read_csv('data/payment_history.csv', parse_dates = ['payment_date'])\neconomic_indicators = pd.read_csv('data/economic_indicators.csv', parse_dates = ['start_date','end_date'])",
    "outputsMetadata": {
     "0": {
      "height": 196,
      "type": "dataFrame"
     }
    }
   },
   "outputs": [],
   "source": [
    "# Re-run this cell\n",
    "# Import required libraries\n",
    "import pandas as pd\n",
    "\n",
    "# Import data\n",
    "client_details = pd.read_csv('data/client_details.csv')\n",
    "subscription_records = pd.read_csv('data/subscription_records.csv', parse_dates = ['start_date','end_date'])\n",
    "economic_indicators = pd.read_csv('data/economic_indicators.csv', parse_dates = ['start_date','end_date']) "
   ]
  },
  {
   "cell_type": "code",
   "execution_count": 2,
   "id": "678e4ffd",
   "metadata": {},
   "outputs": [
    {
     "name": "stdout",
     "output_type": "stream",
     "text": [
      "<class 'pandas.core.frame.DataFrame'>\n",
      "RangeIndex: 100 entries, 0 to 99\n",
      "Data columns (total 4 columns):\n",
      " #   Column        Non-Null Count  Dtype \n",
      "---  ------        --------------  ----- \n",
      " 0   client_id     100 non-null    int64 \n",
      " 1   company_size  100 non-null    object\n",
      " 2   industry      100 non-null    object\n",
      " 3   location      100 non-null    object\n",
      "dtypes: int64(1), object(3)\n",
      "memory usage: 3.3+ KB\n"
     ]
    }
   ],
   "source": [
    "client_details.info()"
   ]
  },
  {
   "cell_type": "code",
   "execution_count": 3,
   "id": "5eaf5ce7",
   "metadata": {},
   "outputs": [
    {
     "name": "stdout",
     "output_type": "stream",
     "text": [
      "<class 'pandas.core.frame.DataFrame'>\n",
      "RangeIndex: 100 entries, 0 to 99\n",
      "Data columns (total 5 columns):\n",
      " #   Column             Non-Null Count  Dtype         \n",
      "---  ------             --------------  -----         \n",
      " 0   client_id          100 non-null    int64         \n",
      " 1   subscription_type  100 non-null    object        \n",
      " 2   start_date         100 non-null    datetime64[ns]\n",
      " 3   end_date           100 non-null    datetime64[ns]\n",
      " 4   renewed            100 non-null    bool          \n",
      "dtypes: bool(1), datetime64[ns](2), int64(1), object(1)\n",
      "memory usage: 3.4+ KB\n"
     ]
    }
   ],
   "source": [
    "subscription_records.info()"
   ]
  },
  {
   "cell_type": "code",
   "execution_count": 4,
   "id": "7e49863b",
   "metadata": {},
   "outputs": [
    {
     "name": "stdout",
     "output_type": "stream",
     "text": [
      "<class 'pandas.core.frame.DataFrame'>\n",
      "RangeIndex: 21 entries, 0 to 20\n",
      "Data columns (total 5 columns):\n",
      " #   Column           Non-Null Count  Dtype         \n",
      "---  ------           --------------  -----         \n",
      " 0   Unnamed: 0       21 non-null     int64         \n",
      " 1   start_date       21 non-null     datetime64[ns]\n",
      " 2   end_date         21 non-null     datetime64[ns]\n",
      " 3   inflation_rate   21 non-null     float64       \n",
      " 4   gdp_growth_rate  21 non-null     float64       \n",
      "dtypes: datetime64[ns](2), float64(2), int64(1)\n",
      "memory usage: 972.0 bytes\n"
     ]
    }
   ],
   "source": [
    "economic_indicators.info()"
   ]
  },
  {
   "cell_type": "markdown",
   "id": "2e4b4093",
   "metadata": {},
   "source": [
    "### Pytanie 1"
   ]
  },
  {
   "cell_type": "markdown",
   "id": "d61483a8",
   "metadata": {},
   "source": [
    "How many total Fintech and Crypto clients does the company have? Store as an integer variable called total_fintech_crypto_clients."
   ]
  },
  {
   "cell_type": "code",
   "execution_count": 7,
   "id": "6eac13b6",
   "metadata": {},
   "outputs": [
    {
     "data": {
      "text/plain": [
       "industry\n",
       "Crypto        25\n",
       "Fintech       22\n",
       "Gaming        22\n",
       "E-commerce    20\n",
       "AI            11\n",
       "Name: count, dtype: int64"
      ]
     },
     "execution_count": 7,
     "metadata": {},
     "output_type": "execute_result"
    }
   ],
   "source": [
    "client_details['industry'].value_counts()"
   ]
  },
  {
   "cell_type": "code",
   "execution_count": 9,
   "id": "8a5e0d85",
   "metadata": {},
   "outputs": [
    {
     "data": {
      "text/plain": [
       "47"
      ]
     },
     "execution_count": 9,
     "metadata": {},
     "output_type": "execute_result"
    }
   ],
   "source": [
    "def is_fintech_or_crypt(x):\n",
    "    if x in ['Fintech', 'Crypto']:\n",
    "        return 1\n",
    "    return 0\n",
    "\n",
    "# total_fintech_cypto_clients = 0\n",
    "# for industry in client_details['industry']:\n",
    "#     total_fintech_cypto_clients = is_fintech_or_crypt(industry)\n",
    "\n",
    "total_fintech_crypto_clients = client_details['industry'].apply(lambda x: x in ['Fintech','Crypto']).sum()\n",
    "total_fintech_crypto_clients"
   ]
  },
  {
   "cell_type": "markdown",
   "id": "5a8af8c2",
   "metadata": {},
   "source": [
    "### Pytanie 2"
   ]
  },
  {
   "cell_type": "markdown",
   "id": "281e22b4",
   "metadata": {},
   "source": [
    "Which industry has the highest renewal rate? Store as a string variable called top_industry.\n"
   ]
  },
  {
   "cell_type": "code",
   "execution_count": 10,
   "id": "e3acf38a",
   "metadata": {},
   "outputs": [
    {
     "data": {
      "application/vnd.microsoft.datawrangler.viewer.v0+json": {
       "columns": [
        {
         "name": "index",
         "rawType": "int64",
         "type": "integer"
        },
        {
         "name": "client_id",
         "rawType": "int64",
         "type": "integer"
        },
        {
         "name": "company_size",
         "rawType": "object",
         "type": "string"
        },
        {
         "name": "industry",
         "rawType": "object",
         "type": "string"
        },
        {
         "name": "location",
         "rawType": "object",
         "type": "string"
        },
        {
         "name": "subscription_type",
         "rawType": "object",
         "type": "string"
        },
        {
         "name": "start_date",
         "rawType": "datetime64[ns]",
         "type": "datetime"
        },
        {
         "name": "end_date",
         "rawType": "datetime64[ns]",
         "type": "datetime"
        },
        {
         "name": "renewed",
         "rawType": "bool",
         "type": "boolean"
        }
       ],
       "conversionMethod": "pd.DataFrame",
       "ref": "d49317cc-fc70-485f-84a0-52ef8a2ed326",
       "rows": [
        [
         "0",
         "4280387012",
         "Large",
         "Fintech",
         "New York",
         "Yearly",
         "2022-11-25 00:00:00",
         "2023-11-25 00:00:00",
         "True"
        ],
        [
         "1",
         "2095513148",
         "Small",
         "Fintech",
         "New Jersey",
         "Monthly",
         "2021-11-03 00:00:00",
         "2021-12-03 00:00:00",
         "False"
        ],
        [
         "2",
         "7225516707",
         "Medium",
         "Fintech",
         "Pennsylvania",
         "Yearly",
         "2021-01-19 00:00:00",
         "2022-01-19 00:00:00",
         "True"
        ],
        [
         "3",
         "8093537819",
         "Large",
         "Crypto",
         "New York",
         "Monthly",
         "2019-09-14 00:00:00",
         "2019-10-14 00:00:00",
         "False"
        ],
        [
         "4",
         "4387541014",
         "Medium",
         "E-commerce",
         "Massachusetts",
         "Monthly",
         "2018-11-08 00:00:00",
         "2018-12-08 00:00:00",
         "False"
        ],
        [
         "5",
         "5698091148",
         "Large",
         "Crypto",
         "Massachusetts",
         "Monthly",
         "2020-08-04 00:00:00",
         "2020-09-03 00:00:00",
         "True"
        ],
        [
         "6",
         "8884551090",
         "Large",
         "AI",
         "Connecticut",
         "Yearly",
         "2022-09-02 00:00:00",
         "2023-09-02 00:00:00",
         "True"
        ],
        [
         "7",
         "9598980006",
         "Medium",
         "AI",
         "Pennsylvania",
         "Monthly",
         "2019-06-16 00:00:00",
         "2019-07-16 00:00:00",
         "True"
        ],
        [
         "8",
         "7207890733",
         "Large",
         "Crypto",
         "Connecticut",
         "Monthly",
         "2020-09-19 00:00:00",
         "2020-10-19 00:00:00",
         "False"
        ],
        [
         "9",
         "5059906722",
         "Small",
         "AI",
         "Massachusetts",
         "Yearly",
         "2018-12-14 00:00:00",
         "2019-12-14 00:00:00",
         "False"
        ],
        [
         "10",
         "9166568761",
         "Small",
         "Fintech",
         "Connecticut",
         "Monthly",
         "2020-08-14 00:00:00",
         "2020-09-13 00:00:00",
         "False"
        ],
        [
         "11",
         "1131383004",
         "Large",
         "Fintech",
         "Massachusetts",
         "Yearly",
         "2020-11-11 00:00:00",
         "2021-11-11 00:00:00",
         "False"
        ],
        [
         "12",
         "9699223737",
         "Small",
         "Crypto",
         "New York",
         "Yearly",
         "2018-04-03 00:00:00",
         "2019-04-03 00:00:00",
         "True"
        ],
        [
         "13",
         "3325348894",
         "Small",
         "E-commerce",
         "Massachusetts",
         "Monthly",
         "2019-07-09 00:00:00",
         "2019-08-08 00:00:00",
         "True"
        ],
        [
         "14",
         "9714663815",
         "Small",
         "AI",
         "Pennsylvania",
         "Monthly",
         "2020-11-11 00:00:00",
         "2020-12-11 00:00:00",
         "True"
        ],
        [
         "15",
         "6296057401",
         "Small",
         "Fintech",
         "New Jersey",
         "Yearly",
         "2018-07-21 00:00:00",
         "2019-07-21 00:00:00",
         "False"
        ],
        [
         "16",
         "5387264885",
         "Small",
         "Crypto",
         "Pennsylvania",
         "Monthly",
         "2022-03-06 00:00:00",
         "2022-04-05 00:00:00",
         "True"
        ],
        [
         "17",
         "3758633299",
         "Large",
         "Gaming",
         "Massachusetts",
         "Monthly",
         "2021-04-24 00:00:00",
         "2021-05-24 00:00:00",
         "True"
        ],
        [
         "18",
         "8988409533",
         "Small",
         "E-commerce",
         "New York",
         "Yearly",
         "2020-05-15 00:00:00",
         "2021-05-15 00:00:00",
         "True"
        ],
        [
         "19",
         "3878940490",
         "Medium",
         "E-commerce",
         "Massachusetts",
         "Monthly",
         "2018-05-23 00:00:00",
         "2018-06-22 00:00:00",
         "False"
        ],
        [
         "20",
         "6597925149",
         "Medium",
         "AI",
         "Connecticut",
         "Yearly",
         "2019-12-29 00:00:00",
         "2020-12-28 00:00:00",
         "False"
        ],
        [
         "21",
         "9085185732",
         "Large",
         "Crypto",
         "New York",
         "Yearly",
         "2018-05-18 00:00:00",
         "2019-05-18 00:00:00",
         "False"
        ],
        [
         "22",
         "7465144773",
         "Large",
         "Crypto",
         "New York",
         "Monthly",
         "2021-09-07 00:00:00",
         "2021-10-07 00:00:00",
         "True"
        ],
        [
         "23",
         "5443254615",
         "Medium",
         "Gaming",
         "Pennsylvania",
         "Yearly",
         "2020-06-25 00:00:00",
         "2021-06-25 00:00:00",
         "True"
        ],
        [
         "24",
         "8719792472",
         "Medium",
         "E-commerce",
         "Connecticut",
         "Yearly",
         "2018-02-10 00:00:00",
         "2019-02-10 00:00:00",
         "True"
        ],
        [
         "25",
         "6038028440",
         "Medium",
         "Gaming",
         "New Jersey",
         "Yearly",
         "2018-12-03 00:00:00",
         "2019-12-03 00:00:00",
         "True"
        ],
        [
         "26",
         "2609337231",
         "Medium",
         "Crypto",
         "Connecticut",
         "Monthly",
         "2020-11-04 00:00:00",
         "2020-12-04 00:00:00",
         "True"
        ],
        [
         "27",
         "3183675157",
         "Small",
         "Gaming",
         "New Jersey",
         "Yearly",
         "2021-12-25 00:00:00",
         "2022-12-25 00:00:00",
         "True"
        ],
        [
         "28",
         "4343385571",
         "Medium",
         "Gaming",
         "New Jersey",
         "Yearly",
         "2018-11-28 00:00:00",
         "2019-11-28 00:00:00",
         "True"
        ],
        [
         "29",
         "6983985081",
         "Small",
         "Crypto",
         "Pennsylvania",
         "Monthly",
         "2021-11-15 00:00:00",
         "2021-12-15 00:00:00",
         "False"
        ],
        [
         "30",
         "5421990790",
         "Large",
         "Fintech",
         "Pennsylvania",
         "Yearly",
         "2018-07-10 00:00:00",
         "2019-07-10 00:00:00",
         "False"
        ],
        [
         "31",
         "5481743788",
         "Large",
         "Crypto",
         "Massachusetts",
         "Yearly",
         "2020-04-03 00:00:00",
         "2021-04-03 00:00:00",
         "False"
        ],
        [
         "32",
         "1731644238",
         "Medium",
         "Fintech",
         "Connecticut",
         "Monthly",
         "2021-07-26 00:00:00",
         "2021-08-25 00:00:00",
         "False"
        ],
        [
         "33",
         "3157098196",
         "Small",
         "AI",
         "Massachusetts",
         "Monthly",
         "2021-11-11 00:00:00",
         "2021-12-11 00:00:00",
         "True"
        ],
        [
         "34",
         "5217987067",
         "Large",
         "Fintech",
         "New Jersey",
         "Monthly",
         "2019-07-19 00:00:00",
         "2019-08-18 00:00:00",
         "True"
        ],
        [
         "35",
         "4309371709",
         "Large",
         "E-commerce",
         "Connecticut",
         "Monthly",
         "2021-05-24 00:00:00",
         "2021-06-23 00:00:00",
         "True"
        ],
        [
         "36",
         "6292156167",
         "Small",
         "Crypto",
         "New York",
         "Yearly",
         "2019-09-16 00:00:00",
         "2020-09-15 00:00:00",
         "True"
        ],
        [
         "37",
         "7501599785",
         "Medium",
         "Gaming",
         "New Jersey",
         "Monthly",
         "2019-03-04 00:00:00",
         "2019-04-03 00:00:00",
         "False"
        ],
        [
         "38",
         "7776577102",
         "Small",
         "AI",
         "Massachusetts",
         "Monthly",
         "2020-12-17 00:00:00",
         "2021-01-16 00:00:00",
         "True"
        ],
        [
         "39",
         "5319487809",
         "Medium",
         "Crypto",
         "New York",
         "Monthly",
         "2019-03-02 00:00:00",
         "2019-04-01 00:00:00",
         "False"
        ],
        [
         "40",
         "4475229416",
         "Small",
         "Fintech",
         "New Jersey",
         "Yearly",
         "2019-05-01 00:00:00",
         "2020-04-30 00:00:00",
         "False"
        ],
        [
         "41",
         "3411013676",
         "Medium",
         "Crypto",
         "Connecticut",
         "Yearly",
         "2022-12-20 00:00:00",
         "2023-12-20 00:00:00",
         "False"
        ],
        [
         "42",
         "5536015034",
         "Small",
         "Gaming",
         "Pennsylvania",
         "Monthly",
         "2019-11-15 00:00:00",
         "2019-12-15 00:00:00",
         "True"
        ],
        [
         "43",
         "9031632460",
         "Small",
         "Crypto",
         "Connecticut",
         "Yearly",
         "2019-07-06 00:00:00",
         "2020-07-05 00:00:00",
         "True"
        ],
        [
         "44",
         "7462725203",
         "Medium",
         "E-commerce",
         "Massachusetts",
         "Monthly",
         "2018-05-21 00:00:00",
         "2018-06-20 00:00:00",
         "True"
        ],
        [
         "45",
         "6827368515",
         "Small",
         "Crypto",
         "New Jersey",
         "Yearly",
         "2018-06-03 00:00:00",
         "2019-06-03 00:00:00",
         "False"
        ],
        [
         "46",
         "2486393352",
         "Large",
         "Gaming",
         "New Jersey",
         "Yearly",
         "2021-12-02 00:00:00",
         "2022-12-02 00:00:00",
         "False"
        ],
        [
         "47",
         "7925430606",
         "Large",
         "Crypto",
         "Pennsylvania",
         "Yearly",
         "2022-08-29 00:00:00",
         "2023-08-29 00:00:00",
         "False"
        ],
        [
         "48",
         "3510240337",
         "Medium",
         "Fintech",
         "Massachusetts",
         "Yearly",
         "2020-12-07 00:00:00",
         "2021-12-07 00:00:00",
         "True"
        ],
        [
         "49",
         "4698004907",
         "Small",
         "E-commerce",
         "Massachusetts",
         "Monthly",
         "2021-09-11 00:00:00",
         "2021-10-11 00:00:00",
         "False"
        ]
       ],
       "shape": {
        "columns": 8,
        "rows": 100
       }
      },
      "text/html": [
       "<div>\n",
       "<style scoped>\n",
       "    .dataframe tbody tr th:only-of-type {\n",
       "        vertical-align: middle;\n",
       "    }\n",
       "\n",
       "    .dataframe tbody tr th {\n",
       "        vertical-align: top;\n",
       "    }\n",
       "\n",
       "    .dataframe thead th {\n",
       "        text-align: right;\n",
       "    }\n",
       "</style>\n",
       "<table border=\"1\" class=\"dataframe\">\n",
       "  <thead>\n",
       "    <tr style=\"text-align: right;\">\n",
       "      <th></th>\n",
       "      <th>client_id</th>\n",
       "      <th>company_size</th>\n",
       "      <th>industry</th>\n",
       "      <th>location</th>\n",
       "      <th>subscription_type</th>\n",
       "      <th>start_date</th>\n",
       "      <th>end_date</th>\n",
       "      <th>renewed</th>\n",
       "    </tr>\n",
       "  </thead>\n",
       "  <tbody>\n",
       "    <tr>\n",
       "      <th>0</th>\n",
       "      <td>4280387012</td>\n",
       "      <td>Large</td>\n",
       "      <td>Fintech</td>\n",
       "      <td>New York</td>\n",
       "      <td>Yearly</td>\n",
       "      <td>2022-11-25</td>\n",
       "      <td>2023-11-25</td>\n",
       "      <td>True</td>\n",
       "    </tr>\n",
       "    <tr>\n",
       "      <th>1</th>\n",
       "      <td>2095513148</td>\n",
       "      <td>Small</td>\n",
       "      <td>Fintech</td>\n",
       "      <td>New Jersey</td>\n",
       "      <td>Monthly</td>\n",
       "      <td>2021-11-03</td>\n",
       "      <td>2021-12-03</td>\n",
       "      <td>False</td>\n",
       "    </tr>\n",
       "    <tr>\n",
       "      <th>2</th>\n",
       "      <td>7225516707</td>\n",
       "      <td>Medium</td>\n",
       "      <td>Fintech</td>\n",
       "      <td>Pennsylvania</td>\n",
       "      <td>Yearly</td>\n",
       "      <td>2021-01-19</td>\n",
       "      <td>2022-01-19</td>\n",
       "      <td>True</td>\n",
       "    </tr>\n",
       "    <tr>\n",
       "      <th>3</th>\n",
       "      <td>8093537819</td>\n",
       "      <td>Large</td>\n",
       "      <td>Crypto</td>\n",
       "      <td>New York</td>\n",
       "      <td>Monthly</td>\n",
       "      <td>2019-09-14</td>\n",
       "      <td>2019-10-14</td>\n",
       "      <td>False</td>\n",
       "    </tr>\n",
       "    <tr>\n",
       "      <th>4</th>\n",
       "      <td>4387541014</td>\n",
       "      <td>Medium</td>\n",
       "      <td>E-commerce</td>\n",
       "      <td>Massachusetts</td>\n",
       "      <td>Monthly</td>\n",
       "      <td>2018-11-08</td>\n",
       "      <td>2018-12-08</td>\n",
       "      <td>False</td>\n",
       "    </tr>\n",
       "    <tr>\n",
       "      <th>...</th>\n",
       "      <td>...</td>\n",
       "      <td>...</td>\n",
       "      <td>...</td>\n",
       "      <td>...</td>\n",
       "      <td>...</td>\n",
       "      <td>...</td>\n",
       "      <td>...</td>\n",
       "      <td>...</td>\n",
       "    </tr>\n",
       "    <tr>\n",
       "      <th>95</th>\n",
       "      <td>9159056053</td>\n",
       "      <td>Medium</td>\n",
       "      <td>Gaming</td>\n",
       "      <td>Pennsylvania</td>\n",
       "      <td>Yearly</td>\n",
       "      <td>2022-05-28</td>\n",
       "      <td>2023-05-28</td>\n",
       "      <td>False</td>\n",
       "    </tr>\n",
       "    <tr>\n",
       "      <th>96</th>\n",
       "      <td>1077708772</td>\n",
       "      <td>Small</td>\n",
       "      <td>Crypto</td>\n",
       "      <td>New York</td>\n",
       "      <td>Yearly</td>\n",
       "      <td>2019-07-06</td>\n",
       "      <td>2020-07-05</td>\n",
       "      <td>False</td>\n",
       "    </tr>\n",
       "    <tr>\n",
       "      <th>97</th>\n",
       "      <td>4361672518</td>\n",
       "      <td>Small</td>\n",
       "      <td>AI</td>\n",
       "      <td>Pennsylvania</td>\n",
       "      <td>Monthly</td>\n",
       "      <td>2019-01-24</td>\n",
       "      <td>2019-02-23</td>\n",
       "      <td>False</td>\n",
       "    </tr>\n",
       "    <tr>\n",
       "      <th>98</th>\n",
       "      <td>6751372012</td>\n",
       "      <td>Large</td>\n",
       "      <td>E-commerce</td>\n",
       "      <td>New York</td>\n",
       "      <td>Monthly</td>\n",
       "      <td>2018-05-29</td>\n",
       "      <td>2018-06-28</td>\n",
       "      <td>True</td>\n",
       "    </tr>\n",
       "    <tr>\n",
       "      <th>99</th>\n",
       "      <td>6209923307</td>\n",
       "      <td>Medium</td>\n",
       "      <td>Gaming</td>\n",
       "      <td>New Jersey</td>\n",
       "      <td>Monthly</td>\n",
       "      <td>2021-07-05</td>\n",
       "      <td>2021-08-04</td>\n",
       "      <td>True</td>\n",
       "    </tr>\n",
       "  </tbody>\n",
       "</table>\n",
       "<p>100 rows × 8 columns</p>\n",
       "</div>"
      ],
      "text/plain": [
       "     client_id company_size    industry       location subscription_type  \\\n",
       "0   4280387012        Large     Fintech       New York            Yearly   \n",
       "1   2095513148        Small     Fintech     New Jersey           Monthly   \n",
       "2   7225516707       Medium     Fintech   Pennsylvania            Yearly   \n",
       "3   8093537819        Large      Crypto       New York           Monthly   \n",
       "4   4387541014       Medium  E-commerce  Massachusetts           Monthly   \n",
       "..         ...          ...         ...            ...               ...   \n",
       "95  9159056053       Medium      Gaming   Pennsylvania            Yearly   \n",
       "96  1077708772        Small      Crypto       New York            Yearly   \n",
       "97  4361672518        Small          AI   Pennsylvania           Monthly   \n",
       "98  6751372012        Large  E-commerce       New York           Monthly   \n",
       "99  6209923307       Medium      Gaming     New Jersey           Monthly   \n",
       "\n",
       "   start_date   end_date  renewed  \n",
       "0  2022-11-25 2023-11-25     True  \n",
       "1  2021-11-03 2021-12-03    False  \n",
       "2  2021-01-19 2022-01-19     True  \n",
       "3  2019-09-14 2019-10-14    False  \n",
       "4  2018-11-08 2018-12-08    False  \n",
       "..        ...        ...      ...  \n",
       "95 2022-05-28 2023-05-28    False  \n",
       "96 2019-07-06 2020-07-05    False  \n",
       "97 2019-01-24 2019-02-23    False  \n",
       "98 2018-05-29 2018-06-28     True  \n",
       "99 2021-07-05 2021-08-04     True  \n",
       "\n",
       "[100 rows x 8 columns]"
      ]
     },
     "execution_count": 10,
     "metadata": {},
     "output_type": "execute_result"
    }
   ],
   "source": [
    "merged_df = pd.merge(client_details, subscription_records, on='client_id')\n",
    "merged_df"
   ]
  },
  {
   "cell_type": "code",
   "execution_count": 11,
   "id": "dd080e67",
   "metadata": {},
   "outputs": [
    {
     "name": "stdout",
     "output_type": "stream",
     "text": [
      "<class 'pandas.core.frame.DataFrame'>\n",
      "RangeIndex: 100 entries, 0 to 99\n",
      "Data columns (total 8 columns):\n",
      " #   Column             Non-Null Count  Dtype         \n",
      "---  ------             --------------  -----         \n",
      " 0   client_id          100 non-null    int64         \n",
      " 1   company_size       100 non-null    object        \n",
      " 2   industry           100 non-null    object        \n",
      " 3   location           100 non-null    object        \n",
      " 4   subscription_type  100 non-null    object        \n",
      " 5   start_date         100 non-null    datetime64[ns]\n",
      " 6   end_date           100 non-null    datetime64[ns]\n",
      " 7   renewed            100 non-null    bool          \n",
      "dtypes: bool(1), datetime64[ns](2), int64(1), object(4)\n",
      "memory usage: 5.7+ KB\n"
     ]
    }
   ],
   "source": [
    "merged_df.info()"
   ]
  },
  {
   "cell_type": "code",
   "execution_count": 19,
   "id": "f6da8c78",
   "metadata": {},
   "outputs": [
    {
     "data": {
      "application/vnd.microsoft.datawrangler.viewer.v0+json": {
       "columns": [
        {
         "name": "index",
         "rawType": "int64",
         "type": "integer"
        },
        {
         "name": "industry",
         "rawType": "object",
         "type": "string"
        },
        {
         "name": "renewal_rate",
         "rawType": "float64",
         "type": "float"
        }
       ],
       "conversionMethod": "pd.DataFrame",
       "ref": "1b16169a-4814-4b0f-99d1-22876601bb13",
       "rows": [
        [
         "4",
         "Gaming",
         "0.7272727272727273"
        ],
        [
         "0",
         "AI",
         "0.6363636363636364"
        ],
        [
         "3",
         "Fintech",
         "0.5454545454545454"
        ],
        [
         "2",
         "E-commerce",
         "0.45"
        ],
        [
         "1",
         "Crypto",
         "0.44"
        ]
       ],
       "shape": {
        "columns": 2,
        "rows": 5
       }
      },
      "text/html": [
       "<div>\n",
       "<style scoped>\n",
       "    .dataframe tbody tr th:only-of-type {\n",
       "        vertical-align: middle;\n",
       "    }\n",
       "\n",
       "    .dataframe tbody tr th {\n",
       "        vertical-align: top;\n",
       "    }\n",
       "\n",
       "    .dataframe thead th {\n",
       "        text-align: right;\n",
       "    }\n",
       "</style>\n",
       "<table border=\"1\" class=\"dataframe\">\n",
       "  <thead>\n",
       "    <tr style=\"text-align: right;\">\n",
       "      <th></th>\n",
       "      <th>industry</th>\n",
       "      <th>renewal_rate</th>\n",
       "    </tr>\n",
       "  </thead>\n",
       "  <tbody>\n",
       "    <tr>\n",
       "      <th>4</th>\n",
       "      <td>Gaming</td>\n",
       "      <td>0.727273</td>\n",
       "    </tr>\n",
       "    <tr>\n",
       "      <th>0</th>\n",
       "      <td>AI</td>\n",
       "      <td>0.636364</td>\n",
       "    </tr>\n",
       "    <tr>\n",
       "      <th>3</th>\n",
       "      <td>Fintech</td>\n",
       "      <td>0.545455</td>\n",
       "    </tr>\n",
       "    <tr>\n",
       "      <th>2</th>\n",
       "      <td>E-commerce</td>\n",
       "      <td>0.450000</td>\n",
       "    </tr>\n",
       "    <tr>\n",
       "      <th>1</th>\n",
       "      <td>Crypto</td>\n",
       "      <td>0.440000</td>\n",
       "    </tr>\n",
       "  </tbody>\n",
       "</table>\n",
       "</div>"
      ],
      "text/plain": [
       "     industry  renewal_rate\n",
       "4      Gaming      0.727273\n",
       "0          AI      0.636364\n",
       "3     Fintech      0.545455\n",
       "2  E-commerce      0.450000\n",
       "1      Crypto      0.440000"
      ]
     },
     "execution_count": 19,
     "metadata": {},
     "output_type": "execute_result"
    }
   ],
   "source": [
    "grouped_df = merged_df.groupby('industry', as_index=False).agg(\n",
    "    renewal_rate = ('renewed', 'mean')\n",
    ").sort_values('renewal_rate', ascending=False)\n",
    "grouped_df\n"
   ]
  },
  {
   "cell_type": "code",
   "execution_count": 20,
   "id": "c6919e5a",
   "metadata": {},
   "outputs": [
    {
     "data": {
      "text/plain": [
       "'Gaming'"
      ]
     },
     "execution_count": 20,
     "metadata": {},
     "output_type": "execute_result"
    }
   ],
   "source": [
    "grouped_df.iloc[0]['industry']"
   ]
  },
  {
   "cell_type": "markdown",
   "id": "6381fbf9",
   "metadata": {},
   "source": [
    "### Pytanie 3"
   ]
  },
  {
   "cell_type": "markdown",
   "id": "1f9516cc",
   "metadata": {},
   "source": [
    "For clients that renewed their subscriptions, what was the average inflation rate when their subscriptions were renewed? Store as a float variable called average_inflation_for_renewals."
   ]
  },
  {
   "cell_type": "code",
   "execution_count": 21,
   "id": "7537793e",
   "metadata": {},
   "outputs": [
    {
     "name": "stdout",
     "output_type": "stream",
     "text": [
      "<class 'pandas.core.frame.DataFrame'>\n",
      "RangeIndex: 100 entries, 0 to 99\n",
      "Data columns (total 8 columns):\n",
      " #   Column             Non-Null Count  Dtype         \n",
      "---  ------             --------------  -----         \n",
      " 0   client_id          100 non-null    int64         \n",
      " 1   company_size       100 non-null    object        \n",
      " 2   industry           100 non-null    object        \n",
      " 3   location           100 non-null    object        \n",
      " 4   subscription_type  100 non-null    object        \n",
      " 5   start_date         100 non-null    datetime64[ns]\n",
      " 6   end_date           100 non-null    datetime64[ns]\n",
      " 7   renewed            100 non-null    bool          \n",
      "dtypes: bool(1), datetime64[ns](2), int64(1), object(4)\n",
      "memory usage: 5.7+ KB\n"
     ]
    }
   ],
   "source": [
    "merged_df.info()"
   ]
  },
  {
   "cell_type": "code",
   "execution_count": 22,
   "id": "580f374c-a4dd-477a-8baa-4da00cd1caa6",
   "metadata": {},
   "outputs": [
    {
     "data": {
      "text/plain": [
       "4.418909090909092"
      ]
     },
     "execution_count": 22,
     "metadata": {},
     "output_type": "execute_result"
    }
   ],
   "source": [
    "\n",
    "subscriptions_with_inflation = pd.merge_asof(subscription_records.sort_values(by='end_date'), \n",
    "                                             economic_indicators, \n",
    "                                             left_on='end_date', \n",
    "                                             right_on='start_date', \n",
    "                                             direction='backward')\n",
    "\n",
    "\n",
    "result = subscriptions_with_inflation[subscriptions_with_inflation['renewed'] == True]['inflation_rate'].mean()\n",
    "result"
   ]
  },
  {
   "cell_type": "markdown",
   "id": "1ea64c01",
   "metadata": {},
   "source": [
    "# Solution"
   ]
  },
  {
   "cell_type": "code",
   "execution_count": 23,
   "id": "c3face71",
   "metadata": {},
   "outputs": [
    {
     "data": {
      "text/plain": [
       "4.418909090909092"
      ]
     },
     "execution_count": 23,
     "metadata": {},
     "output_type": "execute_result"
    }
   ],
   "source": [
    "# Import required libraries\n",
    "import pandas as pd\n",
    "\n",
    "# Import data\n",
    "client_details = pd.read_csv('data/client_details.csv')\n",
    "subscription_records = pd.read_csv('data/subscription_records.csv', parse_dates = ['start_date','end_date'])\n",
    "economic_indicators = pd.read_csv('data/economic_indicators.csv', parse_dates = ['start_date','end_date'])\n",
    "\n",
    "##### Question 1 - How many total Fintech and Crypto clients does the company have?  ##### \n",
    "# Define a function that returns 1 if the input is either 'Fintech' or 'Crypto', otherwise returning 0\n",
    "def is_fintech_or_crypto(x):\n",
    "    if x in ['Fintech','Crypto']:\n",
    "        return 1\n",
    "    else:\n",
    "        return 0\n",
    "    \n",
    "# Loop through the 'industry' column in client_details and increment the total_fintech_crypto_clients counter for every Fintech or Crpyto client\n",
    "total_fintech_crypto_clients = 0\n",
    "for industry in client_details['industry']:\n",
    "    total_fintech_crypto_clients += is_fintech_or_crypto(industry)\n",
    "\n",
    "# Alternate approach 1 - Apply the custom function directly to the 'industry' column to calculate the total number of Fintech and Crypto clients\n",
    "# total_fintech_crypto_clients = client_details['industry'].apply(is_fintech_or_crypto).sum()\n",
    "    \n",
    "# Alternate approach 2 - Use a lambda function to calculate the total number of Fintech and Crypto clients\n",
    "# total_fintech_crypto_clients = client_details['industry'].apply(lambda x: x in ['Fintech','Crypto']).sum()\n",
    "    \n",
    "  \n",
    "##### Question 2 - Which industry has the highest renewal rate?   ##### \n",
    "# Merge client details with subscription records\n",
    "subscriptions = pd.merge(subscription_records, client_details, on = 'client_id', how = 'left')\n",
    "\n",
    "# Group by industry and calculate renewal rate\n",
    "industry_renewal_rates = subscriptions.groupby('industry')['renewed'].mean()\n",
    "\n",
    "# Find the industry with the highest renewal rate, save as variable 'top_industry'\n",
    "top_industry = industry_renewal_rates.sort_values(ascending = False).index[0]\n",
    "\n",
    "\n",
    "##### Question 3 -For clients that renewed their subscriptions, what was the average inflation rate when their subscriptions were renewed? #####\n",
    "# Merge subscription records with economic indicators to get the inflation rate at the subscription end date (i.e., renewal time)\n",
    "subscriptions_with_inflation = pd.merge_asof(subscription_records.sort_values(by='end_date'), \n",
    "                                             economic_indicators, \n",
    "                                             left_on='end_date', \n",
    "                                             right_on='start_date', \n",
    "                                             direction='backward')\n",
    "\n",
    "# Calculate the average inflation rate for renewed subscriptions\n",
    "average_inflation_for_renewals = subscriptions_with_inflation[subscriptions_with_inflation['renewed'] == True].inflation_rate.mean()\n",
    "average_inflation_for_renewals\n"
   ]
  }
 ],
 "metadata": {
  "colab": {
   "name": "Welcome to DataCamp Workspaces.ipynb",
   "provenance": []
  },
  "kernelspec": {
   "display_name": "base",
   "language": "python",
   "name": "python3"
  },
  "language_info": {
   "codemirror_mode": {
    "name": "ipython",
    "version": 3
   },
   "file_extension": ".py",
   "mimetype": "text/x-python",
   "name": "python",
   "nbconvert_exporter": "python",
   "pygments_lexer": "ipython3",
   "version": "3.12.4"
  }
 },
 "nbformat": 4,
 "nbformat_minor": 5
}
