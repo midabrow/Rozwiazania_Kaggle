{
 "cells": [
  {
   "cell_type": "markdown",
   "id": "654c6aa7-9bb5-4c7a-a22d-516f4724912b",
   "metadata": {},
   "source": [
    "![datacamp-social-network-analysis-cover](datacamp-social-network-analysis-cover.jpg)\n",
    "\n",
    "Jump into the buzzing world of Twitter! 🐦 In this project, you'll explore the fascinating network of Twitter connections and uncover the hidden patterns within one of the most popular social networks out there. You'll get hands-on with real Twitter follower data using Pandas, transforming it into a cool directed graph with NetworkX. Along the way, you'll learn how to spot key influencers, find out who follows who, and discover mutual connections between users.\n",
    "\n",
    "### The Data\n",
    "\n",
    "# twitter-followers.csv\n",
    "\n",
    "| Column     | Description              |\n",
    "|------------|--------------------------|\n",
    "| `'FOLLOWER'` | id of the user who is following |\n",
    "| `'FOLLOWEE'` | id of the user being followed |\n",
    "\n",
    "Throughout the project, you will manipulate and organize this data to extract meaningful insights."
   ]
  },
  {
   "cell_type": "markdown",
   "id": "205ab4a7",
   "metadata": {},
   "source": [
    "Using the Twitter dataset, you'll implement several useful functions which will aid in the analysis of Twitter's user-base.\n",
    "\n",
    "Implement the following functions:\n",
    "\n",
    "- is_following(T, user_id1, user_id2): Returns True if user_id2 is following user_id1, else False.\n",
    "\n",
    "- get_users_following_min_accounts(T, min_following_count): Returns a list of user IDs who are following at least min_following_count accounts.\n",
    "\n",
    "- get_mutual_followees(T, user_id1, user_id2): Returns a list of user ids that user_id1 and user_id2 both follow.\n",
    "\n",
    "- get_most_connected_user(T): Returns the user id of the most connected user (the one with the most followers/followees)."
   ]
  },
  {
   "cell_type": "code",
   "execution_count": 14,
   "id": "b7f2e82b-2acb-4a77-b073-07e6bad98c96",
   "metadata": {
    "executionCancelledAt": null,
    "executionTime": 3548,
    "lastExecutedAt": 1719516627888,
    "lastExecutedByKernel": "8110a833-a0f4-4e8c-852d-e07c6f77e238",
    "lastScheduledRunId": null,
    "lastSuccessfullyExecutedCode": "# Imports you'll need for the project\nimport pandas as pd\nimport networkx as nx\n\n# Load csv data and store as edgelist (a directed graph)\ndf = pd.read_csv('twitter-followers.csv')\nT = nx.from_pandas_edgelist(df, 'FOLLOWER', 'FOLLOWEE', create_using=nx.DiGraph())\n\n# Display head of the DataFrame\nprint(df.head())",
    "outputsMetadata": {
     "0": {
      "height": 143,
      "type": "stream"
     }
    }
   },
   "outputs": [
    {
     "data": {
      "application/vnd.microsoft.datawrangler.viewer.v0+json": {
       "columns": [
        {
         "name": "index",
         "rawType": "int64",
         "type": "integer"
        },
        {
         "name": "FOLLOWER",
         "rawType": "int64",
         "type": "integer"
        },
        {
         "name": "FOLLOWEE",
         "rawType": "int64",
         "type": "integer"
        }
       ],
       "conversionMethod": "pd.DataFrame",
       "ref": "f3b507ee-eb18-4ca5-8962-7e19a8b0a1fa",
       "rows": [
        [
         "0",
         "1",
         "2"
        ],
        [
         "1",
         "1",
         "3"
        ],
        [
         "2",
         "1",
         "4"
        ],
        [
         "3",
         "1",
         "5"
        ],
        [
         "4",
         "1",
         "6"
        ]
       ],
       "shape": {
        "columns": 2,
        "rows": 5
       }
      },
      "text/html": [
       "<div>\n",
       "<style scoped>\n",
       "    .dataframe tbody tr th:only-of-type {\n",
       "        vertical-align: middle;\n",
       "    }\n",
       "\n",
       "    .dataframe tbody tr th {\n",
       "        vertical-align: top;\n",
       "    }\n",
       "\n",
       "    .dataframe thead th {\n",
       "        text-align: right;\n",
       "    }\n",
       "</style>\n",
       "<table border=\"1\" class=\"dataframe\">\n",
       "  <thead>\n",
       "    <tr style=\"text-align: right;\">\n",
       "      <th></th>\n",
       "      <th>FOLLOWER</th>\n",
       "      <th>FOLLOWEE</th>\n",
       "    </tr>\n",
       "  </thead>\n",
       "  <tbody>\n",
       "    <tr>\n",
       "      <th>0</th>\n",
       "      <td>1</td>\n",
       "      <td>2</td>\n",
       "    </tr>\n",
       "    <tr>\n",
       "      <th>1</th>\n",
       "      <td>1</td>\n",
       "      <td>3</td>\n",
       "    </tr>\n",
       "    <tr>\n",
       "      <th>2</th>\n",
       "      <td>1</td>\n",
       "      <td>4</td>\n",
       "    </tr>\n",
       "    <tr>\n",
       "      <th>3</th>\n",
       "      <td>1</td>\n",
       "      <td>5</td>\n",
       "    </tr>\n",
       "    <tr>\n",
       "      <th>4</th>\n",
       "      <td>1</td>\n",
       "      <td>6</td>\n",
       "    </tr>\n",
       "  </tbody>\n",
       "</table>\n",
       "</div>"
      ],
      "text/plain": [
       "   FOLLOWER  FOLLOWEE\n",
       "0         1         2\n",
       "1         1         3\n",
       "2         1         4\n",
       "3         1         5\n",
       "4         1         6"
      ]
     },
     "execution_count": 14,
     "metadata": {},
     "output_type": "execute_result"
    }
   ],
   "source": [
    "# Imports you'll need for the project\n",
    "import pandas as pd\n",
    "import networkx as nx\n",
    "\n",
    "# Load csv data and store as edgelist (a directed graph)\n",
    "df = pd.read_csv('twitter-followers.csv')\n",
    "T = nx.from_pandas_edgelist(df, 'FOLLOWER', 'FOLLOWEE', create_using=nx.DiGraph())\n",
    "\n",
    "# Display head of the DataFrame\n",
    "df.head()"
   ]
  },
  {
   "cell_type": "code",
   "execution_count": null,
   "id": "15f29392-1cc4-4276-bc51-c52c42ad796e",
   "metadata": {
    "executionCancelledAt": null,
    "executionTime": 1477,
    "lastExecutedAt": 1719516629365,
    "lastExecutedByKernel": "8110a833-a0f4-4e8c-852d-e07c6f77e238",
    "lastScheduledRunId": null,
    "lastSuccessfullyExecutedCode": "# Returns True is `user_id2` is `following user_id1`\ndef is_following(T, user_id1, user_id2):\n    return user_id1 in T.neighbors(user_id2)\n    \n# Returns a list of user ids that are following at least `min_following_count` other users.\ndef get_users_following_min_accounts(T, min_following_count):\n    return [node for node in T.nodes() if len(list(T.neighbors(node))) >= min_following_count]\n\n# Returns a list of user ids that `user_id1` and `user_id2` both follow\ndef get_mutual_followees(T, user_id1, user_id2):\n    # Get the list of followees for both users\n    followees_user1 = list(T.neighbors(user_id1))\n    followees_user2 = list(T.neighbors(user_id2))\n    \n    # Find mutual followees using a loop\n    mutual_followees = []\n    for user in followees_user1:\n        if user in followees_user2:\n            mutual_followees.append(user)\n    \n    return mutual_followees\n\n# Returns the user id of the most connected user (the one with the most followers/followees)\ndef get_most_connected_user(T):\n    # Calculate degree centrality for each node\n    degree_centrality = nx.degree_centrality(T)\n    \n    # Initialize variables to track the maximum centrality and corresponding node\n    max_centrality = -1\n    most_connected_user = None\n    \n    # Loop through the dictionary to find the node with the highest centrality\n    for node, centrality in degree_centrality.items():\n        if centrality > max_centrality:\n            max_centrality = centrality\n            most_connected_user = node\n    \n    return most_connected_user\n\n# is_following\nassert \"is_following\" in locals(), \"is_following: the function does not exist, you'll need to create it with the following signature `is_following(T, user_id1, user_id2)\"\nassert isinstance(is_following(T, 1, 2), bool), \"is_following: the function must return a boolean value\"\nassert is_following(T, 1, 2) == False, \"is_following: It looks like the function is returning True even when two users are not following eachother, did you make sure that an edge exists between the two users?\"\nassert is_following(T, 2, 1) == True, \"is_following: It looks like the function is returning False even when two users are following eachother, did you make sure that an edge exists between the two users?\"\n\n# get_users_following_min_accounts\nassert \"get_users_following_min_accounts\" in locals(), \"get_users_following_min_accounts: the function does not exist, you'll need to create it with the following signature `get_users_following_min_accounts(T, min_following_count)\"\nassert isinstance(get_users_following_min_accounts(T, 200), list), \"get_users_following_min_accounts: the function must return a list\"\nassert len(get_users_following_min_accounts(T, 200)) == 1742, \"get_users_following_min_accounts: It looks like the function is returning the wrong number of user ids, did you combine them all into a list?\"\nassert len(get_users_following_min_accounts(T, 300)) == 1590, \"get_users_following_min_accounts: It looks like the  function is returning the wrong number of user ids, did you combine them all into a list?\"\nassert len(get_users_following_min_accounts(T, 1000)) == 0, \"get_users_following_min_accounts: It looks like the  function is returning the wrong number of user ids, did you combine them all into a list?\"\n\n# get_mutual_followees\nassert \"get_mutual_followees\" in locals(), \"get_mutual_followees: the function does not exist, you'll need to create it with the following signature `get_mutual_followees(T, user_id1, user_id2)\"\nassert isinstance(get_mutual_followees(T, 1, 2), list), \"get_mutual_followees: the function must return a list\"\nassert len(get_mutual_followees(T, 4723, 318853)) == 12, \"get_mutual_followees: It looks like the function is returning the wrong number of user ids, did you filter out the ids of accounts they both don't follow?\"\nassert len(get_mutual_followees(T, 1, 5648)) == 1, \"get_mutual_followees: It looks like the function is returning the wrong number of user ids, did you filter out the ids of accounts they both don't follow?\"\n\n# get_most_connected_user\nassert \"get_most_connected_user\" in locals(), \"get_most_connected_user: the function does not exist, you'll need to create it with the following signature `get_most_connected_user(T)`\"\nassert isinstance(get_most_connected_user(T), int), \"get_most_connected_user: the function must return a single integer id of the most connected user\"\nassert get_most_connected_user(T) == 643, \"get_most_connected_user: It looks like the function is returning the wrong user_id, are you taking in to account both followers and followees?\"",
    "outputsMetadata": {
     "0": {
      "height": 227,
      "type": "stream"
     }
    }
   },
   "outputs": [],
   "source": [
    "\n",
    "    "
   ]
  },
  {
   "cell_type": "markdown",
   "id": "44a7df6e",
   "metadata": {},
   "source": [
    "# Solutio9n"
   ]
  },
  {
   "cell_type": "code",
   "execution_count": null,
   "id": "d604d58e",
   "metadata": {},
   "outputs": [],
   "source": [
    "# Imports you'll need for the project\n",
    "import pandas as pd\n",
    "import networkx as nx\n",
    "\n",
    "# Load csv data and store as edgelist (a directed graph)\n",
    "df = pd.read_csv('twitter-followers.csv')\n",
    "T = nx.from_pandas_edgelist(df, 'FOLLOWER', 'FOLLOWEE', create_using=nx.DiGraph())\n",
    "\n",
    "# Display head of the DataFrame\n",
    "print(df.head())\n",
    "\n",
    "# Returns True is user_id2 is following user_id1\n",
    "def is_following(T, user_id1, user_id2):\n",
    "    return user_id1 in T.neighbors(user_id2)\n",
    "    \n",
    "# Returns a list of user ids that are following at least min_following_count other users\n",
    "def get_users_following_min_accounts(T, min_following_count):\n",
    "    return [node for node in T.nodes() if len(list(T.neighbors(node))) >= min_following_count]\n",
    "\n",
    "# Returns a list of user ids that user_id1 and user_id2 both follow\n",
    "def get_mutual_followees(T, user_id1, user_id2):\n",
    "    # Get the list of followees for both users\n",
    "    followees_user1 = list(T.neighbors(user_id1))\n",
    "    followees_user2 = list(T.neighbors(user_id2))\n",
    "    \n",
    "    # Find mutual followees using a loop\n",
    "    mutual_followees = []\n",
    "    for user in followees_user1:\n",
    "        if user in followees_user2:\n",
    "            mutual_followees.append(user)\n",
    "    \n",
    "    return mutual_followees\n",
    "\n",
    "# Returns the user id of the most connected user (the one with the most followers/followees)\n",
    "def get_most_connected_user(T):\n",
    "    # Calculate degree centrality for each node\n",
    "    degree_centrality = nx.degree_centrality(T)\n",
    "    \n",
    "    # Initialize variables to track the maximum centrality and corresponding node\n",
    "    max_centrality = -1\n",
    "    most_connected_user = None\n",
    "    \n",
    "    # Loop through the dictionary to find the node with the highest centrality\n",
    "    for node, centrality in degree_centrality.items():\n",
    "        if centrality > max_centrality:\n",
    "            max_centrality = centrality\n",
    "            most_connected_user = node\n",
    "    \n",
    "    return most_connected_user"
   ]
  }
 ],
 "metadata": {
  "colab": {
   "name": "Welcome to DataCamp Workspaces.ipynb",
   "provenance": []
  },
  "kernelspec": {
   "display_name": "base",
   "language": "python",
   "name": "python3"
  },
  "language_info": {
   "codemirror_mode": {
    "name": "ipython",
    "version": 3
   },
   "file_extension": ".py",
   "mimetype": "text/x-python",
   "name": "python",
   "nbconvert_exporter": "python",
   "pygments_lexer": "ipython3",
   "version": "3.12.4"
  }
 },
 "nbformat": 4,
 "nbformat_minor": 5
}
