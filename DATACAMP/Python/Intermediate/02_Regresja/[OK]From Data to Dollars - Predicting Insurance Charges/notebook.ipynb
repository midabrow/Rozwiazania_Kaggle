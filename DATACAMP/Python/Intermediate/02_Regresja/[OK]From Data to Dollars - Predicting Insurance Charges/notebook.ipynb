{
 "cells": [
  {
   "cell_type": "markdown",
   "id": "6918e18a-c248-4929-b552-7aee2057c0eb",
   "metadata": {
    "collapsed": false,
    "jupyter": {
     "outputs_hidden": false,
     "source_hidden": false
    }
   },
   "source": [
    "![](image.jpg)\n",
    "\n",
    "\n",
    "Dive into the heart of data science with a project that combines healthcare insights and predictive analytics. As a Data Scientist at a top Health Insurance company, you have the opportunity to predict customer healthcare costs using the power of machine learning. Your insights will help tailor services and guide customers in planning their healthcare expenses more effectively.\n",
    "\n",
    "## Dataset Summary\n",
    "\n",
    "Meet your primary tool: the `insurance.csv` dataset. Packed with information on health insurance customers, this dataset is your key to unlocking patterns in healthcare costs. Here's what you need to know about the data you'll be working with:\n",
    "\n",
    "## insurance.csv\n",
    "| Column    | Data Type | Description                                                      |\n",
    "|-----------|-----------|------------------------------------------------------------------|\n",
    "| `age`       | int       | Age of the primary beneficiary.                                  |\n",
    "| `sex`       | object    | Gender of the insurance contractor (male or female).             |\n",
    "| `bmi`       | float     | Body mass index, a key indicator of body fat based on height and weight. |\n",
    "| `children`  | int       | Number of dependents covered by the insurance plan.              |\n",
    "| `smoker`    | object    | Indicates whether the beneficiary smokes (yes or no).            |\n",
    "| `region`    | object    | The beneficiary's residential area in the US, divided into four regions. |\n",
    "| `charges`   | float     | Individual medical costs billed by health insurance.             |\n",
    "\n",
    "\n",
    "\n",
    "A bit of data cleaning is key to ensure the dataset is ready for modeling. Once your model is built using the `insurance.csv` dataset, the next step is to apply it to the `validation_dataset.csv`. This new dataset, similar to your training data minus the `charges` column, tests your model's accuracy and real-world utility by predicting costs for new customers.\n",
    "\n",
    "## Let's Get Started!\n",
    "\n",
    "This project is your playground for applying data science in a meaningful way, offering insights that have real-world applications. Ready to explore the data and uncover insights that could revolutionize healthcare planning? Let's begin this exciting journey!"
   ]
  },
  {
   "cell_type": "markdown",
   "id": "64c2433a",
   "metadata": {},
   "source": [
    "Develop a regression model using the insurance.csv dataset to predict charges. Evaluate the model's accuracy using the R-Squared Score. Then, apply the model to estimate predicted_charges for unseen data in validation_dataset.csv.\n",
    "\n",
    "- Build a regression model to predict charges using the insurance.csv dataset. Evaluate the R-Squared Score of your trained model and save it as a variable named r2_score. The model's success will be assessed based on its R-Squared Score, which must exceed a threshold of 0.65.\n",
    "\n",
    "- Use the trained model to predict charges for the data in validation_dataset.csv. Store the predictions in a new column named predicted_charges within the validation dataset, and save it as a pandas DataFrame called validation_data. Ensure a minimum basic charge of 1000.\n",
    "\n",
    "> Note: If you encounter errors during model training, make sure the insurance DataFrame is properly cleaned and ready for modeling."
   ]
  },
  {
   "cell_type": "code",
   "execution_count": 16,
   "id": "81a07c66-a3d4-4fdd-9c3c-7b3a19b80d62",
   "metadata": {
    "executionCancelledAt": null,
    "executionTime": 28,
    "lastExecutedAt": 1711265070173,
    "lastScheduledRunId": null,
    "lastSuccessfullyExecutedCode": "# Re-run this cell\n# Import required libraries\n\nimport pandas as pd\nimport numpy as np\nfrom sklearn.preprocessing import StandardScaler\nfrom sklearn.model_selection import cross_val_score\n\n# Loading the insurance dataset\ninsurance_data_path = 'insurance.csv'\ninsurance = pd.read_csv(insurance_data_path)\ninsurance.head()",
    "outputsMetadata": {
     "0": {
      "height": 197,
      "type": "dataFrame"
     }
    }
   },
   "outputs": [
    {
     "data": {
      "application/vnd.microsoft.datawrangler.viewer.v0+json": {
       "columns": [
        {
         "name": "index",
         "rawType": "int64",
         "type": "integer"
        },
        {
         "name": "age",
         "rawType": "float64",
         "type": "float"
        },
        {
         "name": "sex",
         "rawType": "object",
         "type": "string"
        },
        {
         "name": "bmi",
         "rawType": "float64",
         "type": "float"
        },
        {
         "name": "children",
         "rawType": "float64",
         "type": "float"
        },
        {
         "name": "smoker",
         "rawType": "object",
         "type": "string"
        },
        {
         "name": "region",
         "rawType": "object",
         "type": "string"
        },
        {
         "name": "charges",
         "rawType": "object",
         "type": "string"
        }
       ],
       "conversionMethod": "pd.DataFrame",
       "ref": "fef147cc-464f-4c8b-adf1-9b43c0f73a22",
       "rows": [
        [
         "0",
         "19.0",
         "female",
         "27.9",
         "0.0",
         "yes",
         "southwest",
         "16884.924"
        ],
        [
         "1",
         "18.0",
         "male",
         "33.77",
         "1.0",
         "no",
         "Southeast",
         "1725.5523"
        ],
        [
         "2",
         "28.0",
         "male",
         "33.0",
         "3.0",
         "no",
         "southeast",
         "$4449.462"
        ],
        [
         "3",
         "33.0",
         "male",
         "22.705",
         "0.0",
         "no",
         "northwest",
         "$21984.47061"
        ],
        [
         "4",
         "32.0",
         "male",
         "28.88",
         "0.0",
         "no",
         "northwest",
         "$3866.8552"
        ]
       ],
       "shape": {
        "columns": 7,
        "rows": 5
       }
      },
      "text/html": [
       "<div>\n",
       "<style scoped>\n",
       "    .dataframe tbody tr th:only-of-type {\n",
       "        vertical-align: middle;\n",
       "    }\n",
       "\n",
       "    .dataframe tbody tr th {\n",
       "        vertical-align: top;\n",
       "    }\n",
       "\n",
       "    .dataframe thead th {\n",
       "        text-align: right;\n",
       "    }\n",
       "</style>\n",
       "<table border=\"1\" class=\"dataframe\">\n",
       "  <thead>\n",
       "    <tr style=\"text-align: right;\">\n",
       "      <th></th>\n",
       "      <th>age</th>\n",
       "      <th>sex</th>\n",
       "      <th>bmi</th>\n",
       "      <th>children</th>\n",
       "      <th>smoker</th>\n",
       "      <th>region</th>\n",
       "      <th>charges</th>\n",
       "    </tr>\n",
       "  </thead>\n",
       "  <tbody>\n",
       "    <tr>\n",
       "      <th>0</th>\n",
       "      <td>19.0</td>\n",
       "      <td>female</td>\n",
       "      <td>27.900</td>\n",
       "      <td>0.0</td>\n",
       "      <td>yes</td>\n",
       "      <td>southwest</td>\n",
       "      <td>16884.924</td>\n",
       "    </tr>\n",
       "    <tr>\n",
       "      <th>1</th>\n",
       "      <td>18.0</td>\n",
       "      <td>male</td>\n",
       "      <td>33.770</td>\n",
       "      <td>1.0</td>\n",
       "      <td>no</td>\n",
       "      <td>Southeast</td>\n",
       "      <td>1725.5523</td>\n",
       "    </tr>\n",
       "    <tr>\n",
       "      <th>2</th>\n",
       "      <td>28.0</td>\n",
       "      <td>male</td>\n",
       "      <td>33.000</td>\n",
       "      <td>3.0</td>\n",
       "      <td>no</td>\n",
       "      <td>southeast</td>\n",
       "      <td>$4449.462</td>\n",
       "    </tr>\n",
       "    <tr>\n",
       "      <th>3</th>\n",
       "      <td>33.0</td>\n",
       "      <td>male</td>\n",
       "      <td>22.705</td>\n",
       "      <td>0.0</td>\n",
       "      <td>no</td>\n",
       "      <td>northwest</td>\n",
       "      <td>$21984.47061</td>\n",
       "    </tr>\n",
       "    <tr>\n",
       "      <th>4</th>\n",
       "      <td>32.0</td>\n",
       "      <td>male</td>\n",
       "      <td>28.880</td>\n",
       "      <td>0.0</td>\n",
       "      <td>no</td>\n",
       "      <td>northwest</td>\n",
       "      <td>$3866.8552</td>\n",
       "    </tr>\n",
       "  </tbody>\n",
       "</table>\n",
       "</div>"
      ],
      "text/plain": [
       "    age     sex     bmi  children smoker     region       charges\n",
       "0  19.0  female  27.900       0.0    yes  southwest     16884.924\n",
       "1  18.0    male  33.770       1.0     no  Southeast     1725.5523\n",
       "2  28.0    male  33.000       3.0     no  southeast     $4449.462\n",
       "3  33.0    male  22.705       0.0     no  northwest  $21984.47061\n",
       "4  32.0    male  28.880       0.0     no  northwest    $3866.8552"
      ]
     },
     "execution_count": 16,
     "metadata": {},
     "output_type": "execute_result"
    }
   ],
   "source": [
    "# Re-run this cell\n",
    "# Import required libraries\n",
    "import pandas as pd\n",
    "import numpy as np\n",
    "from sklearn.linear_model import LinearRegression\n",
    "from sklearn.model_selection import cross_val_score\n",
    "from sklearn.preprocessing import StandardScaler\n",
    "from sklearn.pipeline import Pipeline\n",
    "\n",
    "# Loading the insurance dataset\n",
    "insurance_data_path = 'insurance.csv'\n",
    "insurance = pd.read_csv(insurance_data_path)\n",
    "insurance.head()"
   ]
  },
  {
   "cell_type": "code",
   "execution_count": 17,
   "id": "c5a348c6",
   "metadata": {},
   "outputs": [
    {
     "name": "stdout",
     "output_type": "stream",
     "text": [
      "<class 'pandas.core.frame.DataFrame'>\n",
      "RangeIndex: 1338 entries, 0 to 1337\n",
      "Data columns (total 7 columns):\n",
      " #   Column    Non-Null Count  Dtype  \n",
      "---  ------    --------------  -----  \n",
      " 0   age       1272 non-null   float64\n",
      " 1   sex       1272 non-null   object \n",
      " 2   bmi       1272 non-null   float64\n",
      " 3   children  1272 non-null   float64\n",
      " 4   smoker    1272 non-null   object \n",
      " 5   region    1272 non-null   object \n",
      " 6   charges   1284 non-null   object \n",
      "dtypes: float64(3), object(4)\n",
      "memory usage: 73.3+ KB\n"
     ]
    }
   ],
   "source": [
    "insurance.info()"
   ]
  },
  {
   "cell_type": "code",
   "execution_count": 18,
   "id": "44a93cd5",
   "metadata": {},
   "outputs": [
    {
     "data": {
      "text/plain": [
       "Index(['age', 'sex', 'bmi', 'children', 'smoker', 'region', 'charges'], dtype='object')"
      ]
     },
     "execution_count": 18,
     "metadata": {},
     "output_type": "execute_result"
    }
   ],
   "source": [
    "insurance.columns"
   ]
  },
  {
   "cell_type": "code",
   "execution_count": 19,
   "id": "9e68c1f4",
   "metadata": {},
   "outputs": [
    {
     "name": "stdout",
     "output_type": "stream",
     "text": [
      "\n",
      "age\n",
      " 18.0    63\n",
      " 19.0    62\n",
      " 48.0    29\n",
      " 46.0    28\n",
      " 53.0    27\n",
      "         ..\n",
      "-28.0     1\n",
      "-25.0     1\n",
      "-56.0     1\n",
      "-58.0     1\n",
      "-33.0     1\n",
      "Name: count, Length: 80, dtype: int64\n",
      "\n",
      "sex\n",
      "male      517\n",
      "female    503\n",
      "man        64\n",
      "M          64\n",
      "woman      62\n",
      "F          62\n",
      "Name: count, dtype: int64\n",
      "\n",
      "bmi\n",
      "32.300    13\n",
      "28.310     9\n",
      "31.350     8\n",
      "34.100     8\n",
      "28.880     8\n",
      "          ..\n",
      "29.100     1\n",
      "34.295     1\n",
      "23.465     1\n",
      "45.430     1\n",
      "30.970     1\n",
      "Name: count, Length: 539, dtype: int64\n",
      "\n",
      "children\n",
      " 0.0    551\n",
      " 1.0    292\n",
      " 2.0    209\n",
      " 3.0    140\n",
      "-1.0     20\n",
      " 4.0     20\n",
      " 5.0     16\n",
      "-2.0     12\n",
      "-3.0      9\n",
      "-4.0      3\n",
      "Name: count, dtype: int64\n",
      "\n",
      "smoker\n",
      "no     1013\n",
      "yes     259\n",
      "Name: count, dtype: int64\n",
      "\n",
      "region\n",
      "Southeast    172\n",
      "southeast    170\n",
      "southwest    164\n",
      "Northwest    161\n",
      "Northeast    155\n",
      "northeast    153\n",
      "northwest    149\n",
      "Southwest    148\n",
      "Name: count, dtype: int64\n",
      "\n",
      "charges\n",
      "$nan            12\n",
      "1639.5631        2\n",
      "16884.924        1\n",
      "13555.0049       1\n",
      "4661.28635       1\n",
      "                ..\n",
      "7345.084         1\n",
      "26109.32905      1\n",
      "$28287.89766     1\n",
      "1149.3959        1\n",
      "29141.3603       1\n",
      "Name: count, Length: 1272, dtype: int64\n"
     ]
    }
   ],
   "source": [
    "for col in insurance.columns:\n",
    "    print(f\"\\n{insurance[col].value_counts()}\")"
   ]
  },
  {
   "cell_type": "code",
   "execution_count": 21,
   "id": "b36428f5",
   "metadata": {},
   "outputs": [
    {
     "data": {
      "text/plain": [
       "array(['female', 'male', 'woman', 'F', 'man', nan, 'M'], dtype=object)"
      ]
     },
     "execution_count": 21,
     "metadata": {},
     "output_type": "execute_result"
    }
   ],
   "source": [
    "insurance['sex'].unique()"
   ]
  },
  {
   "cell_type": "code",
   "execution_count": null,
   "id": "a143c3b2-1ff1-47a0-8fc6-662b8b19dbf1",
   "metadata": {},
   "outputs": [],
   "source": [
    "def clean_dataset(insurance):\n",
    "    \"\"\"\n",
    "    Cleans the insurance dataset by performing several preprocessing tasks:\n",
    "    - Corrects the 'sex' column values to a standard format ('male', 'female').\n",
    "    - Removes the dollar sign from the 'charges' column and converts it to float.\n",
    "    - Drops negative 'age' values.\n",
    "    - Converts negative 'children' values to zero.\n",
    "    - Converts 'region' values to lowercase.\n",
    "    - Drops rows with any missing values.\n",
    "    \n",
    "    Parameters:\n",
    "    - insurance: pandas DataFrame, the insurance dataset.\n",
    "    \n",
    "    Returns:\n",
    "    - DataFrame after cleaning.\n",
    "    \"\"\"\n",
    "    mapper = {'man': 'male', 'M': 'male', 'woman': 'female', 'F': 'female'}\n",
    "    insurance['sex'] = insurance['sex'].replace(mapper)\n",
    "\n",
    "    insurance['charges'] = insurance['charges'].str.replace('$', '').astype('float')\n",
    "    insurance = insurance[insurance['age'] > 0]\n",
    "    \n",
    "    insurance['children'] = insurance['children'].where(insurance['children'] >= 0, 0)\n",
    "    # insurance['children'] = insurance['children'].clip(lower=0)\n",
    "\n",
    "    insurance['region'] = insurance['region'].str.lower()\n",
    "\n",
    "    return insurance.dropna()\n",
    "\n",
    "clean_dataset(insurance)\n"
   ]
  },
  {
   "cell_type": "code",
   "execution_count": 34,
   "id": "f6bdf592",
   "metadata": {},
   "outputs": [],
   "source": [
    "def create_and_evaluate_regression_model(insurance):\n",
    "    \"\"\"\n",
    "    Prepares the data, fits a linear regression model, and evaluates it using cross-validation.\n",
    "    \n",
    "    Parameters:\n",
    "    - insurance: pandas DataFrame, the cleaned insurance dataset.\n",
    "    \n",
    "    Returns:\n",
    "    - A tuple containing the fitted sklearn Pipeline object, mean MSE, and mean R2 scores.\n",
    "    \"\"\"\n",
    "    # Preprocessing\n",
    "    X = insurance.drop('charges', axis=1)\n",
    "    y = insurance['charges']\n",
    "    categorical_features = ['sex', 'smoker', 'region']\n",
    "    numerical_features = ['age', 'bmi', 'children']\n",
    "    \n",
    "    # Convert categorical variables to dummy variables\n",
    "    X_categorical = pd.get_dummies(X[categorical_features], drop_first=True)\n",
    "    \n",
    "    # Combine numerical features with dummy variables\n",
    "    X_processed = pd.concat([X[numerical_features], X_categorical], axis=1)\n",
    "    # Scaling numerical features\n",
    "    scaler = StandardScaler()\n",
    "    X_scaled = scaler.fit_transform(X_processed)\n",
    "    # Linear regression model\n",
    "    lin_reg = LinearRegression()\n",
    "    \n",
    "    # Pipeline\n",
    "    steps = [(\"scaler\", scaler), (\"lin_reg\", lin_reg)]\n",
    "    insurance_model_pipeline = Pipeline(steps)\n",
    "    \n",
    "    # Fitting the model\n",
    "    insurance_model_pipeline.fit(X_scaled, y)\n",
    "    \n",
    "    # Evaluating the model\n",
    "    mse_scores = -cross_val_score(insurance_model_pipeline, X_scaled, y, cv=5, scoring='neg_mean_squared_error')\n",
    "    r2_scores = cross_val_score(insurance_model_pipeline, X_scaled, y, cv=5, scoring='r2')\n",
    "    mean_mse = np.mean(mse_scores)\n",
    "    mean_r2 = np.mean(r2_scores)\n",
    "    \n",
    "    return insurance_model_pipeline, mean_mse, mean_r2"
   ]
  },
  {
   "cell_type": "code",
   "execution_count": 35,
   "id": "cfd61d73",
   "metadata": {},
   "outputs": [
    {
     "name": "stdout",
     "output_type": "stream",
     "text": [
      "Mean MSE: 37431001.52191916\n",
      "Mean R2: 0.7450511466263761\n"
     ]
    },
    {
     "name": "stderr",
     "output_type": "stream",
     "text": [
      "/tmp/ipykernel_33930/1063301581.py:32: SettingWithCopyWarning: \n",
      "A value is trying to be set on a copy of a slice from a DataFrame.\n",
      "Try using .loc[row_indexer,col_indexer] = value instead\n",
      "\n",
      "See the caveats in the documentation: https://pandas.pydata.org/pandas-docs/stable/user_guide/indexing.html#returning-a-view-versus-a-copy\n",
      "  insurance[\"region\"] = insurance[\"region\"].str.lower()\n",
      "/home/midabrow/anaconda3/lib/python3.12/site-packages/sklearn/base.py:486: UserWarning: X has feature names, but StandardScaler was fitted without feature names\n",
      "  warnings.warn(\n"
     ]
    },
    {
     "data": {
      "application/vnd.microsoft.datawrangler.viewer.v0+json": {
       "columns": [
        {
         "name": "index",
         "rawType": "int64",
         "type": "integer"
        },
        {
         "name": "age",
         "rawType": "float64",
         "type": "float"
        },
        {
         "name": "sex",
         "rawType": "object",
         "type": "string"
        },
        {
         "name": "bmi",
         "rawType": "float64",
         "type": "float"
        },
        {
         "name": "children",
         "rawType": "float64",
         "type": "float"
        },
        {
         "name": "smoker",
         "rawType": "object",
         "type": "string"
        },
        {
         "name": "region",
         "rawType": "object",
         "type": "string"
        },
        {
         "name": "predicted_charges",
         "rawType": "float64",
         "type": "float"
        }
       ],
       "conversionMethod": "pd.DataFrame",
       "ref": "4d0ac349-1939-4817-915f-1aff92bca77a",
       "rows": [
        [
         "0",
         "18.0",
         "female",
         "24.09",
         "1.0",
         "no",
         "southeast",
         "128624.1956431042"
        ],
        [
         "1",
         "39.0",
         "male",
         "26.41",
         "0.0",
         "yes",
         "northeast",
         "220740.53744881073"
        ],
        [
         "2",
         "27.0",
         "male",
         "29.15",
         "0.0",
         "yes",
         "southeast",
         "181357.58860584753"
        ],
        [
         "3",
         "71.0",
         "male",
         "65.50213529560301",
         "13.0",
         "yes",
         "southeast",
         "423490.6872702299"
        ],
        [
         "4",
         "28.0",
         "male",
         "38.06",
         "0.0",
         "no",
         "southeast",
         "193247.43198909407"
        ]
       ],
       "shape": {
        "columns": 7,
        "rows": 5
       }
      },
      "text/html": [
       "<div>\n",
       "<style scoped>\n",
       "    .dataframe tbody tr th:only-of-type {\n",
       "        vertical-align: middle;\n",
       "    }\n",
       "\n",
       "    .dataframe tbody tr th {\n",
       "        vertical-align: top;\n",
       "    }\n",
       "\n",
       "    .dataframe thead th {\n",
       "        text-align: right;\n",
       "    }\n",
       "</style>\n",
       "<table border=\"1\" class=\"dataframe\">\n",
       "  <thead>\n",
       "    <tr style=\"text-align: right;\">\n",
       "      <th></th>\n",
       "      <th>age</th>\n",
       "      <th>sex</th>\n",
       "      <th>bmi</th>\n",
       "      <th>children</th>\n",
       "      <th>smoker</th>\n",
       "      <th>region</th>\n",
       "      <th>predicted_charges</th>\n",
       "    </tr>\n",
       "  </thead>\n",
       "  <tbody>\n",
       "    <tr>\n",
       "      <th>0</th>\n",
       "      <td>18.0</td>\n",
       "      <td>female</td>\n",
       "      <td>24.090000</td>\n",
       "      <td>1.0</td>\n",
       "      <td>no</td>\n",
       "      <td>southeast</td>\n",
       "      <td>128624.195643</td>\n",
       "    </tr>\n",
       "    <tr>\n",
       "      <th>1</th>\n",
       "      <td>39.0</td>\n",
       "      <td>male</td>\n",
       "      <td>26.410000</td>\n",
       "      <td>0.0</td>\n",
       "      <td>yes</td>\n",
       "      <td>northeast</td>\n",
       "      <td>220740.537449</td>\n",
       "    </tr>\n",
       "    <tr>\n",
       "      <th>2</th>\n",
       "      <td>27.0</td>\n",
       "      <td>male</td>\n",
       "      <td>29.150000</td>\n",
       "      <td>0.0</td>\n",
       "      <td>yes</td>\n",
       "      <td>southeast</td>\n",
       "      <td>181357.588606</td>\n",
       "    </tr>\n",
       "    <tr>\n",
       "      <th>3</th>\n",
       "      <td>71.0</td>\n",
       "      <td>male</td>\n",
       "      <td>65.502135</td>\n",
       "      <td>13.0</td>\n",
       "      <td>yes</td>\n",
       "      <td>southeast</td>\n",
       "      <td>423490.687270</td>\n",
       "    </tr>\n",
       "    <tr>\n",
       "      <th>4</th>\n",
       "      <td>28.0</td>\n",
       "      <td>male</td>\n",
       "      <td>38.060000</td>\n",
       "      <td>0.0</td>\n",
       "      <td>no</td>\n",
       "      <td>southeast</td>\n",
       "      <td>193247.431989</td>\n",
       "    </tr>\n",
       "  </tbody>\n",
       "</table>\n",
       "</div>"
      ],
      "text/plain": [
       "    age     sex        bmi  children smoker     region  predicted_charges\n",
       "0  18.0  female  24.090000       1.0     no  southeast      128624.195643\n",
       "1  39.0    male  26.410000       0.0    yes  northeast      220740.537449\n",
       "2  27.0    male  29.150000       0.0    yes  southeast      181357.588606\n",
       "3  71.0    male  65.502135      13.0    yes  southeast      423490.687270\n",
       "4  28.0    male  38.060000       0.0     no  southeast      193247.431989"
      ]
     },
     "execution_count": 35,
     "metadata": {},
     "output_type": "execute_result"
    }
   ],
   "source": [
    "cleaned_insurance = clean_dataset(insurance)\n",
    "insurance_model, mean_mse, r2_score = create_and_evaluate_regression_model(cleaned_insurance)\n",
    "print(\"Mean MSE:\", mean_mse)\n",
    "print(\"Mean R2:\", r2_score)\n",
    "\n",
    "# Predict on validation data\n",
    "validation_data_path = 'validation_dataset.csv'\n",
    "validation_data = pd.read_csv(validation_data_path)\n",
    "\n",
    "# Ensure categorical variables are properly transformed\n",
    "validation_data_processed = pd.get_dummies(validation_data, columns=['sex', 'smoker', 'region'], drop_first=True)\n",
    "\n",
    "# Make predictions using the trained model\n",
    "validation_predictions = insurance_model.predict(validation_data_processed)\n",
    "\n",
    "# Add predicted charges to the validation data\n",
    "validation_data['predicted_charges'] = validation_predictions\n",
    "\n",
    "# Adjust predictions to ensure minimum charge is $1000\n",
    "validation_data.loc[validation_data['predicted_charges'] < 1000, 'predicted_charges'] = 1000\n",
    "\n",
    "# Display the updated dataframe\n",
    "validation_data.head()"
   ]
  },
  {
   "cell_type": "markdown",
   "id": "09e6046d",
   "metadata": {},
   "source": [
    "# Solution"
   ]
  },
  {
   "cell_type": "code",
   "execution_count": 31,
   "id": "668c1504",
   "metadata": {},
   "outputs": [
    {
     "name": "stderr",
     "output_type": "stream",
     "text": [
      "<>:29: SyntaxWarning: invalid escape sequence '\\$'\n",
      "<>:29: SyntaxWarning: invalid escape sequence '\\$'\n",
      "/tmp/ipykernel_33930/1063301581.py:29: SyntaxWarning: invalid escape sequence '\\$'\n",
      "  insurance['charges'] = insurance['charges'].replace({'\\$': ''}, regex=True).astype(float)\n",
      "/tmp/ipykernel_33930/1063301581.py:32: SettingWithCopyWarning: \n",
      "A value is trying to be set on a copy of a slice from a DataFrame.\n",
      "Try using .loc[row_indexer,col_indexer] = value instead\n",
      "\n",
      "See the caveats in the documentation: https://pandas.pydata.org/pandas-docs/stable/user_guide/indexing.html#returning-a-view-versus-a-copy\n",
      "  insurance[\"region\"] = insurance[\"region\"].str.lower()\n"
     ]
    },
    {
     "name": "stdout",
     "output_type": "stream",
     "text": [
      "Mean MSE: 37431001.52191916\n",
      "Mean R2: 0.7450511466263761\n"
     ]
    },
    {
     "name": "stderr",
     "output_type": "stream",
     "text": [
      "/home/midabrow/anaconda3/lib/python3.12/site-packages/sklearn/base.py:486: UserWarning: X has feature names, but StandardScaler was fitted without feature names\n",
      "  warnings.warn(\n"
     ]
    },
    {
     "data": {
      "application/vnd.microsoft.datawrangler.viewer.v0+json": {
       "columns": [
        {
         "name": "index",
         "rawType": "int64",
         "type": "integer"
        },
        {
         "name": "age",
         "rawType": "float64",
         "type": "float"
        },
        {
         "name": "sex",
         "rawType": "object",
         "type": "string"
        },
        {
         "name": "bmi",
         "rawType": "float64",
         "type": "float"
        },
        {
         "name": "children",
         "rawType": "float64",
         "type": "float"
        },
        {
         "name": "smoker",
         "rawType": "object",
         "type": "string"
        },
        {
         "name": "region",
         "rawType": "object",
         "type": "string"
        },
        {
         "name": "predicted_charges",
         "rawType": "float64",
         "type": "float"
        }
       ],
       "conversionMethod": "pd.DataFrame",
       "ref": "5dae7d03-3671-4488-83b7-d371b066e170",
       "rows": [
        [
         "0",
         "18.0",
         "female",
         "24.09",
         "1.0",
         "no",
         "southeast",
         "128624.1956431042"
        ],
        [
         "1",
         "39.0",
         "male",
         "26.41",
         "0.0",
         "yes",
         "northeast",
         "220740.53744881073"
        ],
        [
         "2",
         "27.0",
         "male",
         "29.15",
         "0.0",
         "yes",
         "southeast",
         "181357.58860584753"
        ],
        [
         "3",
         "71.0",
         "male",
         "65.50213529560301",
         "13.0",
         "yes",
         "southeast",
         "423490.6872702299"
        ],
        [
         "4",
         "28.0",
         "male",
         "38.06",
         "0.0",
         "no",
         "southeast",
         "193247.43198909407"
        ]
       ],
       "shape": {
        "columns": 7,
        "rows": 5
       }
      },
      "text/html": [
       "<div>\n",
       "<style scoped>\n",
       "    .dataframe tbody tr th:only-of-type {\n",
       "        vertical-align: middle;\n",
       "    }\n",
       "\n",
       "    .dataframe tbody tr th {\n",
       "        vertical-align: top;\n",
       "    }\n",
       "\n",
       "    .dataframe thead th {\n",
       "        text-align: right;\n",
       "    }\n",
       "</style>\n",
       "<table border=\"1\" class=\"dataframe\">\n",
       "  <thead>\n",
       "    <tr style=\"text-align: right;\">\n",
       "      <th></th>\n",
       "      <th>age</th>\n",
       "      <th>sex</th>\n",
       "      <th>bmi</th>\n",
       "      <th>children</th>\n",
       "      <th>smoker</th>\n",
       "      <th>region</th>\n",
       "      <th>predicted_charges</th>\n",
       "    </tr>\n",
       "  </thead>\n",
       "  <tbody>\n",
       "    <tr>\n",
       "      <th>0</th>\n",
       "      <td>18.0</td>\n",
       "      <td>female</td>\n",
       "      <td>24.090000</td>\n",
       "      <td>1.0</td>\n",
       "      <td>no</td>\n",
       "      <td>southeast</td>\n",
       "      <td>128624.195643</td>\n",
       "    </tr>\n",
       "    <tr>\n",
       "      <th>1</th>\n",
       "      <td>39.0</td>\n",
       "      <td>male</td>\n",
       "      <td>26.410000</td>\n",
       "      <td>0.0</td>\n",
       "      <td>yes</td>\n",
       "      <td>northeast</td>\n",
       "      <td>220740.537449</td>\n",
       "    </tr>\n",
       "    <tr>\n",
       "      <th>2</th>\n",
       "      <td>27.0</td>\n",
       "      <td>male</td>\n",
       "      <td>29.150000</td>\n",
       "      <td>0.0</td>\n",
       "      <td>yes</td>\n",
       "      <td>southeast</td>\n",
       "      <td>181357.588606</td>\n",
       "    </tr>\n",
       "    <tr>\n",
       "      <th>3</th>\n",
       "      <td>71.0</td>\n",
       "      <td>male</td>\n",
       "      <td>65.502135</td>\n",
       "      <td>13.0</td>\n",
       "      <td>yes</td>\n",
       "      <td>southeast</td>\n",
       "      <td>423490.687270</td>\n",
       "    </tr>\n",
       "    <tr>\n",
       "      <th>4</th>\n",
       "      <td>28.0</td>\n",
       "      <td>male</td>\n",
       "      <td>38.060000</td>\n",
       "      <td>0.0</td>\n",
       "      <td>no</td>\n",
       "      <td>southeast</td>\n",
       "      <td>193247.431989</td>\n",
       "    </tr>\n",
       "  </tbody>\n",
       "</table>\n",
       "</div>"
      ],
      "text/plain": [
       "    age     sex        bmi  children smoker     region  predicted_charges\n",
       "0  18.0  female  24.090000       1.0     no  southeast      128624.195643\n",
       "1  39.0    male  26.410000       0.0    yes  northeast      220740.537449\n",
       "2  27.0    male  29.150000       0.0    yes  southeast      181357.588606\n",
       "3  71.0    male  65.502135      13.0    yes  southeast      423490.687270\n",
       "4  28.0    male  38.060000       0.0     no  southeast      193247.431989"
      ]
     },
     "execution_count": 31,
     "metadata": {},
     "output_type": "execute_result"
    }
   ],
   "source": [
    "import pandas as pd\n",
    "from sklearn.linear_model import LinearRegression\n",
    "from sklearn.model_selection import cross_val_score\n",
    "from sklearn.preprocessing import StandardScaler\n",
    "from sklearn.pipeline import Pipeline\n",
    "import numpy as np\n",
    "\n",
    "# Load the dataset\n",
    "insurance_data_path = 'insurance.csv'\n",
    "insurance = pd.read_csv(insurance_data_path)\n",
    "\n",
    "def clean_dataset(insurance):\n",
    "    \"\"\"\n",
    "    Cleans the insurance dataset by performing several preprocessing tasks:\n",
    "    - Corrects the 'sex' column values to a standard format ('male', 'female').\n",
    "    - Removes the dollar sign from the 'charges' column and converts it to float.\n",
    "    - Drops negative 'age' values.\n",
    "    - Converts negative 'children' values to zero.\n",
    "    - Converts 'region' values to lowercase.\n",
    "    - Drops rows with any missing values.\n",
    "    \n",
    "    Parameters:\n",
    "    - insurance: pandas DataFrame, the insurance dataset.\n",
    "    \n",
    "    Returns:\n",
    "    - DataFrame after cleaning.\n",
    "    \"\"\"\n",
    "    insurance['sex'] = insurance['sex'].replace({'M': 'male', 'man': 'male', 'F': 'female', 'woman': 'female'})\n",
    "    insurance['charges'] = insurance['charges'].replace({'\\$': ''}, regex=True).astype(float)\n",
    "    insurance = insurance[insurance[\"age\"] > 0]\n",
    "    insurance.loc[insurance[\"children\"] < 0, \"children\"] = 0\n",
    "    insurance[\"region\"] = insurance[\"region\"].str.lower()\n",
    "\n",
    "    return insurance.dropna()\n",
    "\n",
    "def create_and_evaluate_regression_model(insurance):\n",
    "    \"\"\"\n",
    "    Prepares the data, fits a linear regression model, and evaluates it using cross-validation.\n",
    "    \n",
    "    Parameters:\n",
    "    - insurance: pandas DataFrame, the cleaned insurance dataset.\n",
    "    \n",
    "    Returns:\n",
    "    - A tuple containing the fitted sklearn Pipeline object, mean MSE, and mean R2 scores.\n",
    "    \"\"\"\n",
    "    # Preprocessing\n",
    "    X = insurance.drop('charges', axis=1)\n",
    "    y = insurance['charges']\n",
    "    categorical_features = ['sex', 'smoker', 'region']\n",
    "    numerical_features = ['age', 'bmi', 'children']\n",
    "    \n",
    "    # Convert categorical variables to dummy variables\n",
    "    X_categorical = pd.get_dummies(X[categorical_features], drop_first=True)\n",
    "    \n",
    "    # Combine numerical features with dummy variables\n",
    "    X_processed = pd.concat([X[numerical_features], X_categorical], axis=1)\n",
    "    # Scaling numerical features\n",
    "    scaler = StandardScaler()\n",
    "    X_scaled = scaler.fit_transform(X_processed)\n",
    "    # Linear regression model\n",
    "    lin_reg = LinearRegression()\n",
    "    \n",
    "    # Pipeline\n",
    "    steps = [(\"scaler\", scaler), (\"lin_reg\", lin_reg)]\n",
    "    insurance_model_pipeline = Pipeline(steps)\n",
    "    \n",
    "    # Fitting the model\n",
    "    insurance_model_pipeline.fit(X_scaled, y)\n",
    "    \n",
    "    # Evaluating the model\n",
    "    mse_scores = -cross_val_score(insurance_model_pipeline, X_scaled, y, cv=5, scoring='neg_mean_squared_error')\n",
    "    r2_scores = cross_val_score(insurance_model_pipeline, X_scaled, y, cv=5, scoring='r2')\n",
    "    mean_mse = np.mean(mse_scores)\n",
    "    mean_r2 = np.mean(r2_scores)\n",
    "    \n",
    "    return insurance_model_pipeline, mean_mse, mean_r2\n",
    "\n",
    "# Usage example\n",
    "cleaned_insurance = clean_dataset(insurance)\n",
    "insurance_model, mean_mse, r2_score = create_and_evaluate_regression_model(cleaned_insurance)\n",
    "print(\"Mean MSE:\", mean_mse)\n",
    "print(\"Mean R2:\", r2_score)\n",
    "\n",
    "# Predict on validation data\n",
    "validation_data_path = 'validation_dataset.csv'\n",
    "validation_data = pd.read_csv(validation_data_path)\n",
    "\n",
    "# Ensure categorical variables are properly transformed\n",
    "validation_data_processed = pd.get_dummies(validation_data, columns=['sex', 'smoker', 'region'], drop_first=True)\n",
    "\n",
    "# Make predictions using the trained model\n",
    "validation_predictions = insurance_model.predict(validation_data_processed)\n",
    "\n",
    "# Add predicted charges to the validation data\n",
    "validation_data['predicted_charges'] = validation_predictions\n",
    "\n",
    "# Adjust predictions to ensure minimum charge is $1000\n",
    "validation_data.loc[validation_data['predicted_charges'] < 1000, 'predicted_charges'] = 1000\n",
    "\n",
    "# Display the updated dataframe\n",
    "validation_data.head()"
   ]
  }
 ],
 "metadata": {
  "colab": {
   "name": "Welcome to DataCamp Workspaces.ipynb",
   "provenance": []
  },
  "kernelspec": {
   "display_name": "base",
   "language": "python",
   "name": "python3"
  },
  "language_info": {
   "codemirror_mode": {
    "name": "ipython",
    "version": 3
   },
   "file_extension": ".py",
   "mimetype": "text/x-python",
   "name": "python",
   "nbconvert_exporter": "python",
   "pygments_lexer": "ipython3",
   "version": "3.12.4"
  }
 },
 "nbformat": 4,
 "nbformat_minor": 5
}
