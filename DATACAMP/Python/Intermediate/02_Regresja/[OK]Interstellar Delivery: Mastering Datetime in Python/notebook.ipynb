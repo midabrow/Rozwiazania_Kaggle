{
 "cells": [
  {
   "cell_type": "markdown",
   "id": "15d5e88e-4176-4ee7-8ae7-92c7d7e58d63",
   "metadata": {},
   "source": [
    "**AZ Watch** is a popular video streaming platform specialized in educational content, where creators publish online video tutorials and lessons about any topic, from speaking a new language to cooking to learning to play a musical instrument.\n",
    "\n",
    "Their next goal is to leverage AI-driven solutions to analyze and make predictions about their subscribers and improve their marketing strategy around attracting new subscribers and retaining current ones. This project uses machine learning to predict subscribers likely to churn and find customer segments. This may help AZ Watch find interesting usage patterns to build subscriber personas in future marketing plans!\n",
    "\n",
    "![Woman working on multiple screens](marketinganalytics.jpg)\n",
    "\n",
    "\n",
    "The `data/AZWatch_subscribers.csv` **dataset** contains information about subscribers and their status over the last year:\n",
    "\n",
    "|Column name|Description|\n",
    "|-----------|-----------|\n",
    "|`subscriber_id`|The unique identifier of each subscriber user|\n",
    "|`age_group`|The subscriber's age group|\n",
    "|`engagement_time`|Average time (in minutes) spent by the subscriber per session|\n",
    "|`engagement_frequency`|Average weekly number of times the subscriber logged in the platform (sessions) over a year period|\n",
    "|`subscription_status`|Whether the user remained subscribed to the platform by the end of the year period (subscribed), or unsubscribed and terminated her/his services (churned)|\n",
    "\n",
    "Carefully observe and analyze the features in the dataset, asking yourself if there are any **categorical attributes** requiring pre-processing?\n",
    "\n",
    "The subscribers dataset from the `data/AZWatch_subscribers.csv` file is already being loaded and split into training and test sets for you:"
   ]
  },
  {
   "cell_type": "markdown",
   "id": "061ba137",
   "metadata": {},
   "source": [
    "Define a function called format_date(), which formats a timestamp into a readable datetime string.\n",
    "\n",
    "- It must accept two parameters: timestamp - the Unix timestamp integer, and datetime_format - a string specifying the desired date format.\n",
    "- The function should return the date correctly formatted as a string.\n",
    "- For example, calling format_date(1514665153, \"%d-%m-%Y\") should output \"30-12-2017\".\n",
    "\n",
    "Define a function called calculate_landing_time(), which calculates the estimated landing time.\n",
    "\n",
    "- It must accept two parameters: rocket_launch_dt - the rocket launch datetime object, and travel_duration - the expected travel time in days as an integer.\n",
    "- The function should return the estimated Mars landing time as a datetime string in the format DD-MM-YYYY.\n",
    "- For example, calling calculate_landing_time(datetime(2023, 2, 15), 20) should output \"07-03-2023\".\n",
    "  \n",
    "Define a function named days_until_delivery(), which calculates the days until a package arrives for customers.\n",
    "\n",
    "- It must accept two parameters: expected_delivery_dt - the estimated delivery date as a datetime object for the package, and current_dt - the current date as a datetime object.\n",
    "- The function should calculate the difference in days between the expected delivery datetime and the current datetime, then return the number of days remaining as an integer.\n",
    "- For example, calling days_until_delivery(datetime(2023, 2, 15), datetime(2023, 2, 5)) should output 10."
   ]
  },
  {
   "cell_type": "code",
   "execution_count": 1,
   "id": "09dc26b1-a3a1-414a-aaee-111ba944a9b5",
   "metadata": {
    "executionCancelledAt": null,
    "executionTime": 2951,
    "lastExecutedAt": 1709901351433,
    "lastScheduledRunId": null,
    "lastSuccessfullyExecutedCode": "# Import the necessary modules\nimport pandas as pd\nfrom sklearn.model_selection import train_test_split\nfrom sklearn.preprocessing import StandardScaler\nfrom sklearn.linear_model import LogisticRegression\nfrom sklearn.tree import DecisionTreeClassifier\nfrom sklearn.ensemble import RandomForestClassifier\nfrom sklearn.metrics import confusion_matrix\nfrom sklearn.cluster import KMeans\nimport seaborn as sns\nfrom matplotlib import pyplot as plt\n\n# Specify the file path of your CSV file\nfile_path = \"data/AZWatch_subscribers.csv\"\n\n# Read the CSV file into a DataFrame\ndf = pd.read_csv(file_path)\n\n# Separate predictor variables from class label\nX = df.drop(['subscriber_id','subscription_status'], axis=1)\ny = df.subscription_status\n\n# Split intro training and test sets (20% test)\nX_train, X_test, y_train, y_test = train_test_split(\n                        X, y, test_size=.2, random_state=42)"
   },
   "outputs": [],
   "source": [
    "# Import the necessary modules\n",
    "import pandas as pd\n",
    "from sklearn.model_selection import train_test_split\n",
    "from sklearn.preprocessing import StandardScaler\n",
    "from sklearn.linear_model import LogisticRegression\n",
    "from sklearn.tree import DecisionTreeClassifier\n",
    "from sklearn.ensemble import RandomForestClassifier\n",
    "from sklearn.metrics import confusion_matrix\n",
    "from sklearn.cluster import KMeans\n",
    "import seaborn as sns\n",
    "from matplotlib import pyplot as plt\n",
    "\n",
    "# Specify the file path of your CSV file\n",
    "file_path = \"data/AZWatch_subscribers.csv\"\n",
    "\n",
    "# Read the CSV file into a DataFrame\n",
    "df = pd.read_csv(file_path)\n",
    "\n",
    "# Separate predictor variables from class label\n",
    "X = df.drop(['subscriber_id','subscription_status'], axis=1)\n",
    "y = df.subscription_status\n",
    "\n",
    "# Split intro training and test sets (20% test)\n",
    "X_train, X_test, y_train, y_test = train_test_split(\n",
    "                        X, y, test_size=.2, random_state=42)"
   ]
  },
  {
   "cell_type": "code",
   "execution_count": null,
   "id": "9041c87a-cbbc-4af7-8295-6daf98040d34",
   "metadata": {
    "executionCancelledAt": null,
    "executionTime": 133,
    "lastExecutedAt": 1709900585479,
    "lastScheduledRunId": null,
    "lastSuccessfullyExecutedCode": "# Start your code here!",
    "outputsMetadata": {
     "0": {
      "height": 317,
      "type": "stream"
     },
     "2": {
      "height": 150,
      "type": "dataFrame"
     }
    }
   },
   "outputs": [],
   "source": [
    "from datetime import datetime, timedelta\n",
    "\n",
    "def format_date(timestamp, datetime_format):\n",
    "    datetime_obj = datetime.fromtimestamp(timestamp)\n",
    "    datetime_str = datetime_obj.strftime(datetime_format)\n",
    "    return datetime_str\n",
    "\n",
    "\n",
    "def calculate_landing_time(rocket_launch_dt, travel_duration):\n",
    "    landing_date = rocket_launch_dt + timedelta(days=travel_duration)\n",
    "    landing_date_string = landing_date.strftime(\"%d-%m-%Y\")\n",
    "    return landing_date_string\n",
    "\n",
    "def days_until_delivery(expected_delivery_dt, current_dt):\n",
    "    time_until_delivery = expected_delivery_dt - current_dt\n",
    "    days_until = time_until_delivery.days\n",
    "    return days_until"
   ]
  },
  {
   "cell_type": "markdown",
   "id": "b04bbdb0",
   "metadata": {},
   "source": [
    "# Solution"
   ]
  },
  {
   "cell_type": "code",
   "execution_count": null,
   "id": "c7e96866",
   "metadata": {},
   "outputs": [],
   "source": [
    "from datetime import datetime, timedelta\n",
    "\n",
    "# Define format_date function accepting timestamp and datetime format args\n",
    "def format_date(timestamp, datetime_format):\n",
    "    # Convert timestamp arg to datetime object and save result in new variable\n",
    "    datetime_obj = datetime.fromtimestamp(timestamp)  \n",
    "    # Format datetime_obj to string using the datetime_format arg\n",
    "    datetime_str = datetime_obj.strftime(datetime_format)\n",
    "    # Return formatted datetime string\n",
    "    return datetime_str\n",
    "\n",
    "# Define calculate_landing_time function accepting launch datetime and duration\n",
    "def calculate_landing_time(rocket_launch_dt, travel_duration):\n",
    "    # Calculate landing by adding travel_duration to rocket_launch_dt arg and save result in new variable\n",
    "    landing_date = rocket_launch_dt + timedelta(days=travel_duration)\n",
    "    # Format landing datetime to string in specified format\n",
    "    landing_date_string = landing_date.strftime(\"%d-%m-%Y\") \n",
    "    # Return landing date time string \n",
    "    return landing_date_string\n",
    "\n",
    "# Define days_until_delivery function accepting expected and current datetimes \n",
    "def days_until_delivery(expected_delivery_dt, current_dt):\n",
    "    # Calculate the time until delivery by subtracting current_dt arg from the expected_delivery_dt arg \n",
    "    time_until_delivery = expected_delivery_dt - current_dt\n",
    "    # Access the date component of the datetime object\n",
    "    days_until = time_until_delivery.days\n",
    "    # Return number of days until delivery\n",
    "    return days_until"
   ]
  }
 ],
 "metadata": {
  "colab": {
   "name": "Welcome to DataCamp Workspaces.ipynb",
   "provenance": []
  },
  "kernelspec": {
   "display_name": "base",
   "language": "python",
   "name": "python3"
  },
  "language_info": {
   "codemirror_mode": {
    "name": "ipython",
    "version": 3
   },
   "file_extension": ".py",
   "mimetype": "text/x-python",
   "name": "python",
   "nbconvert_exporter": "python",
   "pygments_lexer": "ipython3",
   "version": "3.12.4"
  }
 },
 "nbformat": 4,
 "nbformat_minor": 5
}
