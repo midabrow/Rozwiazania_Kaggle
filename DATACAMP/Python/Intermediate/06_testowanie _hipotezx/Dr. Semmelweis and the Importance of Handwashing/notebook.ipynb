{
 "cells": [
  {
   "cell_type": "markdown",
   "id": "23b4a96e-caec-45d6-ab00-5f921d544458",
   "metadata": {},
   "source": [
    "<center><img src=\"ignaz_semmelweis_1860_small.jpeg\"></center>"
   ]
  },
  {
   "cell_type": "markdown",
   "id": "f461beb5-ebf7-45e9-a3df-f44bdda1fae5",
   "metadata": {},
   "source": [
    "Hungarian physician Dr. Ignaz Semmelweis worked at the Vienna General Hospital with childbed fever patients. Childbed fever is a deadly disease affecting women who have just given birth, and in the early 1840s, as many as 10% of the women giving birth died from it at the Vienna General Hospital. Dr.Semmelweis discovered that it was the contaminated hands of the doctors delivering the babies, and on **June 1st, 1847**, he decreed that everyone should wash their hands, an unorthodox and controversial request; nobody in Vienna knew about bacteria.\n",
    "\n",
    "You will reanalyze the data that made Semmelweis discover the importance of handwashing and its impact on the hospital and the number of deaths.\n",
    "\n",
    "The data is stored as two CSV files within the `data` folder.\n",
    "\n",
    "`data/yearly_deaths_by_clinic.csv` contains the number of women giving birth at the two clinics at the Vienna General Hospital between the years 1841 and 1846.\n",
    "\n",
    "| Column | Description |\n",
    "|--------|-------------|\n",
    "|`year`  |Years (1841-1846)|\n",
    "|`births`|Number of births|\n",
    "|`deaths`|Number of deaths|\n",
    "|`clinic`|Clinic 1 or clinic 2|\n",
    "\n",
    "`data/monthly_deaths.csv` contains data from 'Clinic 1' of the hospital where most deaths occurred.\n",
    "\n",
    "| Column | Description |\n",
    "|--------|-------------|\n",
    "|`date`|Date (YYYY-MM-DD)\n",
    "|`births`|Number of births|\n",
    "|`deaths`|Number of deaths|"
   ]
  },
  {
   "cell_type": "markdown",
   "id": "4bad9c62",
   "metadata": {},
   "source": [
    "How much did handwashing reduce monthly death rates on average?\n",
    "\n",
    "- What year had the highest yearly proportion of deaths at each clinic? Visualize the data and store the answer as an integer variable highest_year.\n",
    "\n",
    "- Handwashing was introduced on June 1st, 1847. What are the mean proportions of deaths before and after handwashing from the monthly data? Store the result as a 2x2 DataFrame named monthly_summary with the first column, handwashing_started, being a boolean flag and the second column having the mean proportion of deaths.\n",
    "\n",
    "- Analyze the difference in the mean monthly proportion of deaths before and after the introduction of handwashing using all of the data and calculate a 95% confidence interval. Store your answer as a pandas series confidence_interval."
   ]
  },
  {
   "cell_type": "code",
   "execution_count": 1,
   "id": "94aaa238-2ce0-4e77-85b6-54eccab940e4",
   "metadata": {
    "executionCancelledAt": null,
    "executionTime": 9,
    "lastExecutedAt": 1721900601246,
    "lastExecutedByKernel": "88b3c2b3-b67c-4cf9-9f16-380012b64bb2",
    "lastScheduledRunId": null,
    "lastSuccessfullyExecutedCode": "# Imported libraries\nimport pandas as pd\nimport matplotlib.pyplot as plt"
   },
   "outputs": [],
   "source": [
    "# Imported libraries\n",
    "import pandas as pd\n",
    "import matplotlib.pyplot as plt"
   ]
  },
  {
   "cell_type": "code",
   "execution_count": 2,
   "id": "53512389-de16-46ab-8ece-019ff45d92be",
   "metadata": {
    "executionCancelledAt": null,
    "executionTime": 52,
    "lastExecutedAt": 1721900601298,
    "lastExecutedByKernel": "88b3c2b3-b67c-4cf9-9f16-380012b64bb2",
    "lastScheduledRunId": null,
    "lastSuccessfullyExecutedCode": "# Start coding here\n# Use as many cells as you like!"
   },
   "outputs": [
    {
     "data": {
      "application/vnd.microsoft.datawrangler.viewer.v0+json": {
       "columns": [
        {
         "name": "index",
         "rawType": "int64",
         "type": "integer"
        },
        {
         "name": "year",
         "rawType": "int64",
         "type": "integer"
        },
        {
         "name": "births",
         "rawType": "int64",
         "type": "integer"
        },
        {
         "name": "deaths",
         "rawType": "int64",
         "type": "integer"
        },
        {
         "name": "clinic",
         "rawType": "object",
         "type": "string"
        }
       ],
       "conversionMethod": "pd.DataFrame",
       "ref": "6447cebe-fb44-49da-b112-47ac87ca22f2",
       "rows": [
        [
         "0",
         "1841",
         "3036",
         "237",
         "clinic 1"
        ],
        [
         "1",
         "1842",
         "3287",
         "518",
         "clinic 1"
        ],
        [
         "2",
         "1843",
         "3060",
         "274",
         "clinic 1"
        ],
        [
         "3",
         "1844",
         "3157",
         "260",
         "clinic 1"
        ],
        [
         "4",
         "1845",
         "3492",
         "241",
         "clinic 1"
        ]
       ],
       "shape": {
        "columns": 4,
        "rows": 5
       }
      },
      "text/html": [
       "<div>\n",
       "<style scoped>\n",
       "    .dataframe tbody tr th:only-of-type {\n",
       "        vertical-align: middle;\n",
       "    }\n",
       "\n",
       "    .dataframe tbody tr th {\n",
       "        vertical-align: top;\n",
       "    }\n",
       "\n",
       "    .dataframe thead th {\n",
       "        text-align: right;\n",
       "    }\n",
       "</style>\n",
       "<table border=\"1\" class=\"dataframe\">\n",
       "  <thead>\n",
       "    <tr style=\"text-align: right;\">\n",
       "      <th></th>\n",
       "      <th>year</th>\n",
       "      <th>births</th>\n",
       "      <th>deaths</th>\n",
       "      <th>clinic</th>\n",
       "    </tr>\n",
       "  </thead>\n",
       "  <tbody>\n",
       "    <tr>\n",
       "      <th>0</th>\n",
       "      <td>1841</td>\n",
       "      <td>3036</td>\n",
       "      <td>237</td>\n",
       "      <td>clinic 1</td>\n",
       "    </tr>\n",
       "    <tr>\n",
       "      <th>1</th>\n",
       "      <td>1842</td>\n",
       "      <td>3287</td>\n",
       "      <td>518</td>\n",
       "      <td>clinic 1</td>\n",
       "    </tr>\n",
       "    <tr>\n",
       "      <th>2</th>\n",
       "      <td>1843</td>\n",
       "      <td>3060</td>\n",
       "      <td>274</td>\n",
       "      <td>clinic 1</td>\n",
       "    </tr>\n",
       "    <tr>\n",
       "      <th>3</th>\n",
       "      <td>1844</td>\n",
       "      <td>3157</td>\n",
       "      <td>260</td>\n",
       "      <td>clinic 1</td>\n",
       "    </tr>\n",
       "    <tr>\n",
       "      <th>4</th>\n",
       "      <td>1845</td>\n",
       "      <td>3492</td>\n",
       "      <td>241</td>\n",
       "      <td>clinic 1</td>\n",
       "    </tr>\n",
       "  </tbody>\n",
       "</table>\n",
       "</div>"
      ],
      "text/plain": [
       "   year  births  deaths    clinic\n",
       "0  1841    3036     237  clinic 1\n",
       "1  1842    3287     518  clinic 1\n",
       "2  1843    3060     274  clinic 1\n",
       "3  1844    3157     260  clinic 1\n",
       "4  1845    3492     241  clinic 1"
      ]
     },
     "execution_count": 2,
     "metadata": {},
     "output_type": "execute_result"
    }
   ],
   "source": [
    "yearly = pd.read_csv('data/yearly_deaths_by_clinic.csv')\n",
    "yearly.head()"
   ]
  },
  {
   "cell_type": "code",
   "execution_count": 3,
   "id": "a56f9e0e",
   "metadata": {},
   "outputs": [
    {
     "name": "stdout",
     "output_type": "stream",
     "text": [
      "<class 'pandas.core.frame.DataFrame'>\n",
      "RangeIndex: 12 entries, 0 to 11\n",
      "Data columns (total 4 columns):\n",
      " #   Column  Non-Null Count  Dtype \n",
      "---  ------  --------------  ----- \n",
      " 0   year    12 non-null     int64 \n",
      " 1   births  12 non-null     int64 \n",
      " 2   deaths  12 non-null     int64 \n",
      " 3   clinic  12 non-null     object\n",
      "dtypes: int64(3), object(1)\n",
      "memory usage: 516.0+ bytes\n"
     ]
    }
   ],
   "source": [
    "yearly.info()"
   ]
  },
  {
   "cell_type": "code",
   "execution_count": 4,
   "id": "f91717d7",
   "metadata": {},
   "outputs": [
    {
     "data": {
      "image/png": "[encoded data removed]",
      "text/plain": [
       "<Figure size 640x480 with 1 Axes>"
      ]
     },
     "metadata": {},
     "output_type": "display_data"
    }
   ],
   "source": [
    "yearly['proportion_deaths'] = yearly['deaths'] / yearly['births']\n",
    "\n",
    "for clinic in yearly['clinic'].unique():\n",
    "    clinic_data = yearly[yearly['clinic'] == clinic]\n",
    "    plt.plot(clinic_data['year'], clinic_data['proportion_deaths'], label=clinic)"
   ]
  },
  {
   "cell_type": "code",
   "execution_count": 5,
   "id": "78ea207e",
   "metadata": {},
   "outputs": [
    {
     "data": {
      "application/vnd.microsoft.datawrangler.viewer.v0+json": {
       "columns": [
        {
         "name": "index",
         "rawType": "int64",
         "type": "integer"
        },
        {
         "name": "date",
         "rawType": "object",
         "type": "string"
        },
        {
         "name": "births",
         "rawType": "int64",
         "type": "integer"
        },
        {
         "name": "deaths",
         "rawType": "int64",
         "type": "integer"
        }
       ],
       "conversionMethod": "pd.DataFrame",
       "ref": "72b64413-942f-4331-92c5-ebd72f7bacf3",
       "rows": [
        [
         "0",
         "1841-01-01",
         "254",
         "37"
        ],
        [
         "1",
         "1841-02-01",
         "239",
         "18"
        ],
        [
         "2",
         "1841-03-01",
         "277",
         "12"
        ],
        [
         "3",
         "1841-04-01",
         "255",
         "4"
        ],
        [
         "4",
         "1841-05-01",
         "255",
         "2"
        ]
       ],
       "shape": {
        "columns": 3,
        "rows": 5
       }
      },
      "text/html": [
       "<div>\n",
       "<style scoped>\n",
       "    .dataframe tbody tr th:only-of-type {\n",
       "        vertical-align: middle;\n",
       "    }\n",
       "\n",
       "    .dataframe tbody tr th {\n",
       "        vertical-align: top;\n",
       "    }\n",
       "\n",
       "    .dataframe thead th {\n",
       "        text-align: right;\n",
       "    }\n",
       "</style>\n",
       "<table border=\"1\" class=\"dataframe\">\n",
       "  <thead>\n",
       "    <tr style=\"text-align: right;\">\n",
       "      <th></th>\n",
       "      <th>date</th>\n",
       "      <th>births</th>\n",
       "      <th>deaths</th>\n",
       "    </tr>\n",
       "  </thead>\n",
       "  <tbody>\n",
       "    <tr>\n",
       "      <th>0</th>\n",
       "      <td>1841-01-01</td>\n",
       "      <td>254</td>\n",
       "      <td>37</td>\n",
       "    </tr>\n",
       "    <tr>\n",
       "      <th>1</th>\n",
       "      <td>1841-02-01</td>\n",
       "      <td>239</td>\n",
       "      <td>18</td>\n",
       "    </tr>\n",
       "    <tr>\n",
       "      <th>2</th>\n",
       "      <td>1841-03-01</td>\n",
       "      <td>277</td>\n",
       "      <td>12</td>\n",
       "    </tr>\n",
       "    <tr>\n",
       "      <th>3</th>\n",
       "      <td>1841-04-01</td>\n",
       "      <td>255</td>\n",
       "      <td>4</td>\n",
       "    </tr>\n",
       "    <tr>\n",
       "      <th>4</th>\n",
       "      <td>1841-05-01</td>\n",
       "      <td>255</td>\n",
       "      <td>2</td>\n",
       "    </tr>\n",
       "  </tbody>\n",
       "</table>\n",
       "</div>"
      ],
      "text/plain": [
       "         date  births  deaths\n",
       "0  1841-01-01     254      37\n",
       "1  1841-02-01     239      18\n",
       "2  1841-03-01     277      12\n",
       "3  1841-04-01     255       4\n",
       "4  1841-05-01     255       2"
      ]
     },
     "execution_count": 5,
     "metadata": {},
     "output_type": "execute_result"
    }
   ],
   "source": [
    "monthly = pd.read_csv(\"data/monthly_deaths.csv\")\n",
    "monthly.head()"
   ]
  },
  {
   "cell_type": "code",
   "execution_count": 6,
   "id": "aeada8a5",
   "metadata": {},
   "outputs": [],
   "source": [
    "monthly[\"proportion_deaths\"] = monthly[\"deaths\"] / monthly[\"births\"]\n",
    "handwashing_start = '1847-06-01'\n",
    "\n",
    "monthly[\"handwashing_started\"] = monthly['date'] >= handwashing_start\n",
    "monthly_summary = monthly.groupby(\"handwashing_started\").agg(\n",
    "    mean_proportion_deaths = ('proportion_deaths', 'mean')\n",
    ").reset_index()"
   ]
  },
  {
   "cell_type": "markdown",
   "id": "705b6816",
   "metadata": {},
   "source": [
    "Analyze the difference in the mean monthly proportion of deaths before and after the introduction of handwashing using all of the data and calculate a 95% confidence interval. Store your answer as a pandas series confidence_interval."
   ]
  },
  {
   "cell_type": "code",
   "execution_count": 10,
   "id": "5b837597",
   "metadata": {},
   "outputs": [],
   "source": [
    "before_washing = monthly[monthly[\"handwashing_started\"] == False]\n",
    "after_washing = monthly[monthly[\"handwashing_started\"] == True]\n",
    "before_proportion = before_washing[\"proportion_deaths\"]\n",
    "after_proportion = after_washing[\"proportion_deaths\"]\n"
   ]
  },
  {
   "cell_type": "code",
   "execution_count": 11,
   "id": "784e3186",
   "metadata": {},
   "outputs": [],
   "source": [
    "boot_mean_diff = []  # Lista do przechowywania różnic średnich proporcji\n",
    "for i in range(3000):  # Powtarzamy 3000 razy\n",
    "    boot_before = before_proportion.sample(frac=1, replace=True)  # Próbkowanie z zamianą (bootstrap) dla danych przed myciem rąk\n",
    "    boot_after = after_proportion.sample(frac=1, replace=True)  # Próbkowanie z zamianą (bootstrap) dla danych po wprowadzeniu mycia rąk\n",
    "    boot_mean_diff.append( boot_after.mean() - boot_before.mean() )  # Obliczamy różnicę średnich proporcji i dodajemy do listy\n"
   ]
  },
  {
   "cell_type": "markdown",
   "id": "4fdcd6b4",
   "metadata": {},
   "source": [
    " 📌 **Co tutaj robimy?**\n",
    "\n",
    "-   Tworzymy **3000 losowych próbek bootstrapowych** dla danych **przed** (`boot_before`) i **po** (`boot_after`) myciu rąk.\n",
    "-   Każda próbka ma **taką samą wielkość jak oryginalne dane**, ale wartości mogą się powtarzać (**próbkowanie z zamianą**).\n",
    "-   Obliczamy różnicę średnich proporcji zgonów i zapisujemy do listy `boot_mean_diff`.\n",
    "\n",
    "🔄 **Dlaczego bootstrap?**\n",
    "\n",
    "-   Pozwala oszacować **rozrzut różnicy** proporcji śmiertelności bez zakładania konkretnego rozkładu danych.\n",
    "-   Działa dobrze nawet dla **małych zbiorów danych**.\n",
    "\n"
   ]
  },
  {
   "cell_type": "code",
   "execution_count": 12,
   "id": "b2b97c63",
   "metadata": {},
   "outputs": [
    {
     "name": "stdout",
     "output_type": "stream",
     "text": [
      "0.025   -0.101360\n",
      "0.975   -0.067529\n",
      "dtype: float64\n"
     ]
    }
   ],
   "source": [
    "# Obliczamy percentyle 2.5% i 97.5%\n",
    "confidence_interval = pd.Series(boot_mean_diff).quantile([0.025, 0.975])\n",
    "print(confidence_interval)\n"
   ]
  },
  {
   "cell_type": "markdown",
   "id": "6d99d74c",
   "metadata": {},
   "source": [
    "-   Tworzymy **rozkład empiryczny** z `boot_mean_diff`.\n",
    "-   Obliczamy **percentyle**:\n",
    "    -   **2.5%** → dolna granica przedziału ufności (wartość, poniżej której leży 2.5% wyników).\n",
    "    -   **97.5%** → górna granica przedziału ufności (wartość, powyżej której leży 2.5% wyników).\n",
    "-   Wyświetlamy **przedział ufności**, który mówi nam, w jakim zakresie znajduje się rzeczywista różnica proporcji w 95% przypadków.\n",
    "\n"
   ]
  },
  {
   "cell_type": "markdown",
   "id": "6bcb7dfa",
   "metadata": {},
   "source": [
    "-   Jeśli przedział ufności **nie zawiera zera**, oznacza to, że **mycie rąk znacząco zmniejszyło śmiertelność**.\n",
    "-   Jeśli przedział zawiera zero, to nie mamy wystarczających dowodów na istotność różnicy.\n",
    "\n"
   ]
  },
  {
   "cell_type": "markdown",
   "id": "a6876886",
   "metadata": {},
   "source": [
    "# Solution"
   ]
  },
  {
   "cell_type": "code",
   "execution_count": null,
   "id": "951198ac",
   "metadata": {},
   "outputs": [],
   "source": [
    "# Imported libraries\n",
    "import pandas as pd\n",
    "import matplotlib.pyplot as plt\n",
    "\n",
    "# What year had the highest yearly proportion of deaths at each clinic?\n",
    "\n",
    "# Load and inspect the yearly data\n",
    "yearly = pd.read_csv('data/yearly_deaths_by_clinic.csv')\n",
    "yearly.head()\n",
    "\n",
    "# Add proportion_deaths to the DataFrames\n",
    "yearly[\"proportion_deaths\"] = yearly[\"deaths\"] / yearly[\"births\"]\n",
    "\n",
    "# Plot the year versus proportion deaths and separate by clinic using a for loop\n",
    "# You may prefer to identify the year without using a visualization, that's fine too!\n",
    "for clinic in yearly['clinic'].unique():\n",
    "    clinic_data = yearly[yearly['clinic'] == clinic]\n",
    "    plt.plot(clinic_data['year'], clinic_data['proportion_deaths'], label=clinic)\n",
    "\n",
    "# This code is optional but makes your visualization look neater and  readable\n",
    "# plt.xlabel('Year')\n",
    "# plt.ylabel('Proportion of Deaths')\n",
    "# plt.title('Year vs Proportion of Deaths by Clinic')\n",
    "# plt.legend(title='Clinic')\n",
    "# plt.grid(True)\n",
    "# plt.show()\n",
    "\n",
    "# Identify the highest year in the visualization and save the integer year\n",
    "highest_year = 1842\n",
    "\n",
    "# What are the mean proportions of deaths before and after handwashing from the monthly data?\n",
    "# Load and inspect the monthly data\n",
    "monthly = pd.read_csv(\"data/monthly_deaths.csv\")\n",
    "monthly.head()\n",
    "\n",
    "# Add proportion_deaths to the DataFrame\n",
    "monthly[\"proportion_deaths\"] = monthly[\"deaths\"] / monthly[\"births\"]\n",
    "\n",
    "# Add the threshold as the date handwashing was introduced\n",
    "handwashing_start = '1847-06-01'\n",
    "\n",
    "# Create a boolean column that shows True after the date handwashing was introduced\n",
    "monthly['handwashing_started'] = monthly['date'] >= handwashing_start\n",
    "\n",
    "# Group by the new boolean column calculate the mean proportion of deaths\n",
    "# Reset the index to store the result as a DataFrame\n",
    "monthly_summary = monthly.groupby('handwashing_started').agg(\n",
    "    mean_proportion_deaths=('proportion_deaths', 'mean')\n",
    ").reset_index()\n",
    "\n",
    "print(monthly_summary)\n",
    "\n",
    "# Analyze the difference in the mean monthly proportion of deaths and calculate a 95% confidence interval\n",
    "\n",
    "# Split the monthly data into before and after handwashing was introduced\n",
    "before_washing = monthly[monthly[\"date\"] < handwashing_start]\n",
    "after_washing = monthly[monthly[\"date\"] >= handwashing_start]\n",
    "before_proportion = before_washing[\"proportion_deaths\"]\n",
    "after_proportion = after_washing[\"proportion_deaths\"]\n",
    "\n",
    "# Perform a bootstrap analysis of the reduction of deaths due to handwashing\n",
    "boot_mean_diff = []\n",
    "for i in range(3000):\n",
    "    boot_before = before_proportion.sample(frac=1, replace=True)\n",
    "    boot_after = after_proportion.sample(frac=1, replace=True)\n",
    "    boot_mean_diff.append( boot_after.mean() - boot_before.mean() )\n",
    "\n",
    "# Calculate a 95% confidence interval\n",
    "confidence_interval = pd.Series(boot_mean_diff).quantile([0.025, 0.975])\n",
    "print(confidence_interval)"
   ]
  }
 ],
 "metadata": {
  "colab": {
   "name": "Welcome to DataCamp Workspaces.ipynb",
   "provenance": []
  },
  "kernelspec": {
   "display_name": "base",
   "language": "python",
   "name": "python3"
  },
  "language_info": {
   "codemirror_mode": {
    "name": "ipython",
    "version": 3
   },
   "file_extension": ".py",
   "mimetype": "text/x-python",
   "name": "python",
   "nbconvert_exporter": "python",
   "pygments_lexer": "ipython3",
   "version": "3.12.4"
  }
 },
 "nbformat": 4,
 "nbformat_minor": 5
}
