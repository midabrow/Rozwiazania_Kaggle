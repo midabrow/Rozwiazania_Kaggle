{
 "cells": [
  {
   "cell_type": "markdown",
   "id": "d6b356d1-a788-4f4d-9537-3b6277b1aca9",
   "metadata": {},
   "source": [
    "![trader](trader.jpg)\n"
   ]
  },
  {
   "cell_type": "markdown",
   "id": "8015f9b3-445e-4c1a-a38c-7ab2812660ee",
   "metadata": {},
   "source": [
    "Asset allocation is the most important decision that any investor needs to face. They need to decide how to spread their total capital over certain assets (in this case, stocks). When considering the allocation, the investor wants to balance the risk and the potential reward. At the same time, the allocation depends on factors such as individual goals, risk tolerance, and the investment horizon.\n",
    "\n",
    "The key framework used in asset allocation is the Modern Portfolio Theory (MPT), which was introduced by the Nobel Prize winner Harry Markowitz. MPT describes how investors can construct portfolios to maximize their expected returns for a given level of risk or, conversely, minimize risk for a given level of expected return. The mathematical framework used to achieve this is called mean-variance optimization.\n",
    "\n",
    "The main insight from MPT is that investors should not evaluate an asset’s performance alone. Instead, they should evaluate how it would impact the performance of a portfolio of assets. Another important takeaway is the concept of diversification, which means that owning different kinds of assets reduces risk. That is because the loss or gain of a particular security has less impact on the overall portfolio’s performance.\n",
    "\n",
    "**Your task**\n",
    "\n",
    "In the dynamic realm of finance, data scientists/analysts are often tasked with finding optimal investment strategies. Imagine you're one such analyst, and you were asked to build an effective portfolio comprising FAANG stocks – Facebook (Meta), Apple, Amazon, Netflix, and Google. Your goal is to maximize returns while mitigating risk.\n",
    "\n",
    "In this project, you are tasked to find the optimal allocation to the FAANG stocks based on historical stock price data spanning the years 2020-2023. The dataset is stored in the `faang_stocks.csv` file. For each trading day, it contains the close prices of the five tech companies.\n"
   ]
  },
  {
   "cell_type": "markdown",
   "id": "d7f2fe5c",
   "metadata": {},
   "source": [
    "Use the faang_stocks.csv dataset to complete the following analysis:\n",
    "\n",
    "- What are the expected returns and the annualized Sharpe ratio of an equally-weighted portfolio? Assume the risk-free rate is 0% and store your answers as a float variables called benchmark_exp_return and benchmark_sharpe_ratio.\n",
    "\n",
    "- Find a portfolio that minimizes volatility. Use mean-variance optimization. Store the volatility of the portfolio as a float variable called mv_portfolio_vol. Store the portfolio weights as a pandas Series called mv_portfolio. Use the tickers as index.\n",
    "\n",
    "- Find a portfolio that maximizes the Sharpe ratio. Use mean-variance optimization and keep the risk-free rate at 0%. Store the Sharpe ratio (annualized) of the portfolio as a float variable called ms_portfolio_sharpe. Store the portfolio weights as a pandas Series called ms_portfolio. Use the tickers as index."
   ]
  },
  {
   "cell_type": "code",
   "execution_count": 3,
   "id": "8f12b907-e70c-4946-84f8-8608a4c9715c",
   "metadata": {
    "executionCancelledAt": null,
    "executionTime": null,
    "lastExecutedAt": null,
    "lastExecutedByKernel": null,
    "lastScheduledRunId": null,
    "lastSuccessfullyExecutedCode": null,
    "outputsMetadata": {
     "0": {
      "height": 316,
      "type": "dataFrame"
     }
    }
   },
   "outputs": [
    {
     "data": {
      "application/vnd.microsoft.datawrangler.viewer.v0+json": {
       "columns": [
        {
         "name": "Date",
         "rawType": "datetime64[ns]",
         "type": "datetime"
        },
        {
         "name": "AAPL",
         "rawType": "float64",
         "type": "float"
        },
        {
         "name": "AMZN",
         "rawType": "float64",
         "type": "float"
        },
        {
         "name": "GOOGL",
         "rawType": "float64",
         "type": "float"
        },
        {
         "name": "META",
         "rawType": "float64",
         "type": "float"
        },
        {
         "name": "NFLX",
         "rawType": "float64",
         "type": "float"
        }
       ],
       "conversionMethod": "pd.DataFrame",
       "ref": "f222521c-bc46-41af-a3c6-3cc88bb0a73a",
       "rows": [
        [
         "2020-01-02 00:00:00",
         "75.09",
         "94.9",
         "68.43",
         "209.78",
         "329.81"
        ],
        [
         "2020-01-03 00:00:00",
         "74.36",
         "93.75",
         "68.08",
         "208.67",
         "325.9"
        ],
        [
         "2020-01-06 00:00:00",
         "74.95",
         "95.14",
         "69.89",
         "212.6",
         "335.83"
        ],
        [
         "2020-01-07 00:00:00",
         "74.6",
         "95.34",
         "69.76",
         "213.06",
         "330.75"
        ],
        [
         "2020-01-08 00:00:00",
         "75.8",
         "94.6",
         "70.25",
         "215.22",
         "339.26"
        ],
        [
         "2020-01-09 00:00:00",
         "77.41",
         "95.05",
         "70.99",
         "218.3",
         "335.66"
        ],
        [
         "2020-01-10 00:00:00",
         "77.58",
         "94.16",
         "71.45",
         "218.06",
         "329.05"
        ],
        [
         "2020-01-13 00:00:00",
         "79.24",
         "94.57",
         "72.0",
         "221.91",
         "338.92"
        ],
        [
         "2020-01-14 00:00:00",
         "78.17",
         "93.47",
         "71.53",
         "219.06",
         "338.69"
        ],
        [
         "2020-01-15 00:00:00",
         "77.83",
         "93.1",
         "71.96",
         "221.15",
         "339.07"
        ],
        [
         "2020-01-16 00:00:00",
         "78.81",
         "93.9",
         "72.51",
         "221.77",
         "338.62"
        ],
        [
         "2020-01-17 00:00:00",
         "79.68",
         "93.24",
         "73.98",
         "222.14",
         "339.67"
        ],
        [
         "2020-01-21 00:00:00",
         "79.14",
         "94.6",
         "74.11",
         "221.44",
         "338.11"
        ],
        [
         "2020-01-22 00:00:00",
         "79.43",
         "94.37",
         "74.19",
         "221.32",
         "326.0"
        ],
        [
         "2020-01-23 00:00:00",
         "79.81",
         "94.23",
         "74.23",
         "219.76",
         "349.6"
        ],
        [
         "2020-01-24 00:00:00",
         "79.58",
         "93.08",
         "73.31",
         "217.94",
         "353.16"
        ],
        [
         "2020-01-27 00:00:00",
         "77.24",
         "91.42",
         "71.59",
         "214.87",
         "342.88"
        ],
        [
         "2020-01-28 00:00:00",
         "79.42",
         "92.66",
         "72.53",
         "217.79",
         "348.52"
        ],
        [
         "2020-01-29 00:00:00",
         "81.08",
         "92.9",
         "72.83",
         "223.23",
         "343.16"
        ],
        [
         "2020-01-30 00:00:00",
         "80.97",
         "93.53",
         "72.71",
         "209.53",
         "347.74"
        ],
        [
         "2020-01-31 00:00:00",
         "77.38",
         "100.44",
         "71.64",
         "201.91",
         "345.09"
        ],
        [
         "2020-02-03 00:00:00",
         "77.17",
         "100.21",
         "74.13",
         "204.19",
         "358.0"
        ],
        [
         "2020-02-04 00:00:00",
         "79.71",
         "102.48",
         "72.27",
         "209.83",
         "369.01"
        ],
        [
         "2020-02-05 00:00:00",
         "80.36",
         "101.99",
         "72.3",
         "210.11",
         "369.67"
        ],
        [
         "2020-02-06 00:00:00",
         "81.3",
         "102.51",
         "73.8",
         "210.85",
         "366.95"
        ],
        [
         "2020-02-07 00:00:00",
         "80.01",
         "103.96",
         "73.96",
         "212.33",
         "366.77"
        ],
        [
         "2020-02-10 00:00:00",
         "80.39",
         "106.7",
         "75.43",
         "213.06",
         "371.07"
        ],
        [
         "2020-02-11 00:00:00",
         "79.9",
         "107.54",
         "75.5",
         "207.19",
         "373.69"
        ],
        [
         "2020-02-12 00:00:00",
         "81.8",
         "108.0",
         "75.93",
         "210.76",
         "380.01"
        ],
        [
         "2020-02-13 00:00:00",
         "81.22",
         "107.49",
         "75.67",
         "213.14",
         "381.4"
        ],
        [
         "2020-02-14 00:00:00",
         "81.24",
         "106.74",
         "75.94",
         "214.18",
         "380.4"
        ],
        [
         "2020-02-18 00:00:00",
         "79.75",
         "107.78",
         "75.97",
         "217.8",
         "387.78"
        ],
        [
         "2020-02-19 00:00:00",
         "80.9",
         "108.51",
         "76.24",
         "217.49",
         "386.19"
        ],
        [
         "2020-02-20 00:00:00",
         "80.07",
         "107.65",
         "75.85",
         "214.58",
         "386.0"
        ],
        [
         "2020-02-21 00:00:00",
         "78.26",
         "104.8",
         "74.17",
         "210.18",
         "380.07"
        ],
        [
         "2020-02-24 00:00:00",
         "74.54",
         "100.46",
         "70.99",
         "200.72",
         "368.7"
        ],
        [
         "2020-02-25 00:00:00",
         "72.02",
         "98.64",
         "69.32",
         "196.77",
         "360.09"
        ],
        [
         "2020-02-26 00:00:00",
         "73.16",
         "98.98",
         "69.52",
         "197.2",
         "379.24"
        ],
        [
         "2020-02-27 00:00:00",
         "68.38",
         "94.21",
         "65.75",
         "189.75",
         "371.71"
        ],
        [
         "2020-02-28 00:00:00",
         "68.34",
         "94.19",
         "66.96",
         "192.47",
         "369.03"
        ],
        [
         "2020-03-02 00:00:00",
         "74.7",
         "97.7",
         "69.32",
         "196.44",
         "381.05"
        ],
        [
         "2020-03-03 00:00:00",
         "72.33",
         "95.45",
         "66.89",
         "185.89",
         "368.77"
        ],
        [
         "2020-03-04 00:00:00",
         "75.68",
         "98.79",
         "69.08",
         "191.76",
         "383.79"
        ],
        [
         "2020-03-05 00:00:00",
         "73.23",
         "96.2",
         "65.74",
         "185.17",
         "372.78"
        ],
        [
         "2020-03-06 00:00:00",
         "72.26",
         "95.05",
         "64.79",
         "181.09",
         "368.97"
        ],
        [
         "2020-03-09 00:00:00",
         "66.54",
         "90.03",
         "60.79",
         "169.5",
         "346.49"
        ],
        [
         "2020-03-10 00:00:00",
         "71.33",
         "94.59",
         "63.76",
         "178.19",
         "364.13"
        ],
        [
         "2020-03-11 00:00:00",
         "68.86",
         "91.04",
         "60.54",
         "170.24",
         "349.92"
        ],
        [
         "2020-03-12 00:00:00",
         "62.06",
         "83.83",
         "55.58",
         "154.47",
         "315.25"
        ],
        [
         "2020-03-13 00:00:00",
         "69.49",
         "89.25",
         "60.71",
         "170.28",
         "336.3"
        ]
       ],
       "shape": {
        "columns": 5,
        "rows": 1006
       }
      },
      "text/html": [
       "<div>\n",
       "<style scoped>\n",
       "    .dataframe tbody tr th:only-of-type {\n",
       "        vertical-align: middle;\n",
       "    }\n",
       "\n",
       "    .dataframe tbody tr th {\n",
       "        vertical-align: top;\n",
       "    }\n",
       "\n",
       "    .dataframe thead th {\n",
       "        text-align: right;\n",
       "    }\n",
       "</style>\n",
       "<table border=\"1\" class=\"dataframe\">\n",
       "  <thead>\n",
       "    <tr style=\"text-align: right;\">\n",
       "      <th></th>\n",
       "      <th>AAPL</th>\n",
       "      <th>AMZN</th>\n",
       "      <th>GOOGL</th>\n",
       "      <th>META</th>\n",
       "      <th>NFLX</th>\n",
       "    </tr>\n",
       "    <tr>\n",
       "      <th>Date</th>\n",
       "      <th></th>\n",
       "      <th></th>\n",
       "      <th></th>\n",
       "      <th></th>\n",
       "      <th></th>\n",
       "    </tr>\n",
       "  </thead>\n",
       "  <tbody>\n",
       "    <tr>\n",
       "      <th>2020-01-02</th>\n",
       "      <td>75.09</td>\n",
       "      <td>94.90</td>\n",
       "      <td>68.43</td>\n",
       "      <td>209.78</td>\n",
       "      <td>329.81</td>\n",
       "    </tr>\n",
       "    <tr>\n",
       "      <th>2020-01-03</th>\n",
       "      <td>74.36</td>\n",
       "      <td>93.75</td>\n",
       "      <td>68.08</td>\n",
       "      <td>208.67</td>\n",
       "      <td>325.90</td>\n",
       "    </tr>\n",
       "    <tr>\n",
       "      <th>2020-01-06</th>\n",
       "      <td>74.95</td>\n",
       "      <td>95.14</td>\n",
       "      <td>69.89</td>\n",
       "      <td>212.60</td>\n",
       "      <td>335.83</td>\n",
       "    </tr>\n",
       "    <tr>\n",
       "      <th>2020-01-07</th>\n",
       "      <td>74.60</td>\n",
       "      <td>95.34</td>\n",
       "      <td>69.76</td>\n",
       "      <td>213.06</td>\n",
       "      <td>330.75</td>\n",
       "    </tr>\n",
       "    <tr>\n",
       "      <th>2020-01-08</th>\n",
       "      <td>75.80</td>\n",
       "      <td>94.60</td>\n",
       "      <td>70.25</td>\n",
       "      <td>215.22</td>\n",
       "      <td>339.26</td>\n",
       "    </tr>\n",
       "    <tr>\n",
       "      <th>...</th>\n",
       "      <td>...</td>\n",
       "      <td>...</td>\n",
       "      <td>...</td>\n",
       "      <td>...</td>\n",
       "      <td>...</td>\n",
       "    </tr>\n",
       "    <tr>\n",
       "      <th>2023-12-22</th>\n",
       "      <td>193.60</td>\n",
       "      <td>153.42</td>\n",
       "      <td>141.49</td>\n",
       "      <td>353.39</td>\n",
       "      <td>486.76</td>\n",
       "    </tr>\n",
       "    <tr>\n",
       "      <th>2023-12-26</th>\n",
       "      <td>193.05</td>\n",
       "      <td>153.41</td>\n",
       "      <td>141.52</td>\n",
       "      <td>354.83</td>\n",
       "      <td>491.19</td>\n",
       "    </tr>\n",
       "    <tr>\n",
       "      <th>2023-12-27</th>\n",
       "      <td>193.15</td>\n",
       "      <td>153.34</td>\n",
       "      <td>140.37</td>\n",
       "      <td>357.83</td>\n",
       "      <td>491.79</td>\n",
       "    </tr>\n",
       "    <tr>\n",
       "      <th>2023-12-28</th>\n",
       "      <td>193.58</td>\n",
       "      <td>153.38</td>\n",
       "      <td>140.23</td>\n",
       "      <td>358.32</td>\n",
       "      <td>490.51</td>\n",
       "    </tr>\n",
       "    <tr>\n",
       "      <th>2023-12-29</th>\n",
       "      <td>192.53</td>\n",
       "      <td>151.94</td>\n",
       "      <td>139.69</td>\n",
       "      <td>353.96</td>\n",
       "      <td>486.88</td>\n",
       "    </tr>\n",
       "  </tbody>\n",
       "</table>\n",
       "<p>1006 rows × 5 columns</p>\n",
       "</div>"
      ],
      "text/plain": [
       "              AAPL    AMZN   GOOGL    META    NFLX\n",
       "Date                                              \n",
       "2020-01-02   75.09   94.90   68.43  209.78  329.81\n",
       "2020-01-03   74.36   93.75   68.08  208.67  325.90\n",
       "2020-01-06   74.95   95.14   69.89  212.60  335.83\n",
       "2020-01-07   74.60   95.34   69.76  213.06  330.75\n",
       "2020-01-08   75.80   94.60   70.25  215.22  339.26\n",
       "...            ...     ...     ...     ...     ...\n",
       "2023-12-22  193.60  153.42  141.49  353.39  486.76\n",
       "2023-12-26  193.05  153.41  141.52  354.83  491.19\n",
       "2023-12-27  193.15  153.34  140.37  357.83  491.79\n",
       "2023-12-28  193.58  153.38  140.23  358.32  490.51\n",
       "2023-12-29  192.53  151.94  139.69  353.96  486.88\n",
       "\n",
       "[1006 rows x 5 columns]"
      ]
     },
     "execution_count": 3,
     "metadata": {},
     "output_type": "execute_result"
    }
   ],
   "source": [
    "# Importing libraries\n",
    "import pandas as pd\n",
    "import numpy as np\n",
    "import matplotlib.pyplot as plt\n",
    "import seaborn as sns\n",
    "from pypfopt.efficient_frontier import EfficientFrontier\n",
    "from pypfopt import risk_models\n",
    "from pypfopt import expected_returns\n",
    "\n",
    "# Ustawienie stylu Seaborn\n",
    "sns.set_style(\"darkgrid\")  # lub \"whitegrid\", \"ticks\", \"dark\"\n",
    "\n",
    "# Ustawienie palety przyjaznej dla osób z daltonizmem\n",
    "sns.set_palette(\"colorblind\")\n",
    "\n",
    "# Loading data\n",
    "stock_prices_df = pd.read_csv(\"faang_stocks.csv\", index_col=\"Date\")\n",
    "\n",
    "# Changing the index to a datetime type allows for easier filtering and plotting.\n",
    "stock_prices_df.index = pd.to_datetime(stock_prices_df.index)\n",
    "stock_prices_df"
   ]
  },
  {
   "cell_type": "code",
   "execution_count": 5,
   "id": "aa0c4cae-0750-4c61-96b3-6d63f09100f1",
   "metadata": {
    "executionCancelledAt": null,
    "executionTime": 482,
    "lastExecutedAt": 1712076014097,
    "lastScheduledRunId": null,
    "lastSuccessfullyExecutedCode": "# Plotting the stock prices\nstock_prices_df.plot(title=\"FAANG stock prices from years 2020-2023\");"
   },
   "outputs": [
    {
     "data": {
      "image/png": "[encoded data removed]",
      "text/plain": [
       "<Figure size 640x480 with 1 Axes>"
      ]
     },
     "metadata": {},
     "output_type": "display_data"
    }
   ],
   "source": [
    "# Plotting the stock prices\n",
    "stock_prices_df.plot(title=\"FAANG stock prices from years 2020-2023\");"
   ]
  },
  {
   "cell_type": "code",
   "execution_count": 4,
   "id": "1329402e",
   "metadata": {},
   "outputs": [
    {
     "name": "stdout",
     "output_type": "stream",
     "text": [
      "<class 'pandas.core.frame.DataFrame'>\n",
      "DatetimeIndex: 1006 entries, 2020-01-02 to 2023-12-29\n",
      "Data columns (total 5 columns):\n",
      " #   Column  Non-Null Count  Dtype  \n",
      "---  ------  --------------  -----  \n",
      " 0   AAPL    1006 non-null   float64\n",
      " 1   AMZN    1006 non-null   float64\n",
      " 2   GOOGL   1006 non-null   float64\n",
      " 3   META    1006 non-null   float64\n",
      " 4   NFLX    1006 non-null   float64\n",
      "dtypes: float64(5)\n",
      "memory usage: 47.2 KB\n"
     ]
    }
   ],
   "source": [
    "stock_prices_df.info()"
   ]
  },
  {
   "cell_type": "code",
   "execution_count": null,
   "id": "65d76f4d-b51d-4199-b2b1-e723417223bc",
   "metadata": {
    "executionCancelledAt": null,
    "executionTime": 45,
    "lastExecutedAt": 1712076014142,
    "lastScheduledRunId": null,
    "lastSuccessfullyExecutedCode": "# Use however many cells you need to complete this exercise.\n# Please remember to store the requested outputs in the correct objects!"
   },
   "outputs": [],
   "source": [
    "# What are the expected returns and the annualized Sharpe ratio of an equally-weighted portfolio? Assume the risk-free rate is 0% and store your answers as a float variables called benchmark_exp_return and benchmark_sharpe_ratio.\n",
    "risk_free_rate = 0\n"
   ]
  },
  {
   "cell_type": "code",
   "execution_count": null,
   "id": "8213c418",
   "metadata": {},
   "outputs": [],
   "source": [
    "# Find a portfolio that minimizes volatility. Use mean-variance optimization. Store the volatility of the portfolio as a float variable called mv_portfolio_vol. Store the portfolio weights as a pandas Series called mv_portfolio. Use the tickers as index.\n"
   ]
  },
  {
   "cell_type": "code",
   "execution_count": null,
   "id": "0b004eec",
   "metadata": {},
   "outputs": [],
   "source": [
    "# Find a portfolio that maximizes the Sharpe ratio. Use mean-variance optimization and keep the risk-free rate at 0%. Store the Sharpe ratio (annualized) of the portfolio as a float variable called ms_portfolio_sharpe. Store the portfolio weights as a pandas Series called ms_portfolio. Use the tickers as index."
   ]
  },
  {
   "cell_type": "markdown",
   "id": "49d6bb75",
   "metadata": {},
   "source": [
    "# Solution"
   ]
  },
  {
   "cell_type": "code",
   "execution_count": null,
   "id": "fafb8bde",
   "metadata": {},
   "outputs": [],
   "source": [
    "# Importing libraries\n",
    "import pandas as pd\n",
    "import numpy as np\n",
    "import matplotlib.pyplot as plt\n",
    "\n",
    "from pypfopt.efficient_frontier import EfficientFrontier\n",
    "from pypfopt import risk_models\n",
    "from pypfopt import expected_returns\n",
    "\n",
    "# Setting the plotting style to be colorblind-friendly\n",
    "plt.style.use(\"seaborn-colorblind\")\n",
    "\n",
    "# Loading data\n",
    "stock_prices_df = pd.read_csv(\"faang_stocks.csv\", index_col=\"Date\")\n",
    "\n",
    "# Changing the index to a datetime type allows for easier filtering and plotting.\n",
    "stock_prices_df.index = pd.to_datetime(stock_prices_df.index)\n",
    "stock_prices_df\n",
    "\n",
    "# Task 1 ---------------------------------------------------\n",
    "\n",
    "# Calculate returns\n",
    "returns_df = stock_prices_df.pct_change().dropna()\n",
    "\n",
    "# Calculate the 1/n portfolio weights\n",
    "portfolio_weights = 5 * [0.2]\n",
    "\n",
    "# Calculate the portfolio returns of the 1/n portfolio\n",
    "portfolio_returns = returns_df.dot(portfolio_weights)\n",
    "\n",
    "# Calculate the expected portfolio return\n",
    "benchmark_exp_return = portfolio_returns.mean()\n",
    "\n",
    "# Calculate the portfolio's Sharpe ratio\n",
    "benchmark_sharpe_ratio = (\n",
    "    portfolio_returns.mean() / portfolio_returns.std() * np.sqrt(252)\n",
    ")\n",
    "\n",
    "# Task 2 ---------------------------------------------------\n",
    "\n",
    "# Calculate the annualized expected returns and the covariance matrix\n",
    "avg_returns = returns_df.mean() * 252\n",
    "cov_mat = returns_df.cov() * 252\n",
    "\n",
    "# Instantiate the EfficientFrontier object\n",
    "ef = EfficientFrontier(avg_returns, cov_mat)\n",
    "\n",
    "# Find the weights that maximize the Sharpe ratio\n",
    "weights = ef.min_volatility()\n",
    "mv_portfolio = pd.Series(weights)\n",
    "\n",
    "# Find the minimized volatility\n",
    "mv_portfolio_vol = ef.portfolio_performance(risk_free_rate=0)[1]\n",
    "\n",
    "# Task 2 - alternative solution ----------------------------\n",
    "\n",
    "# # Calculate the annualized expected returns and the covariance matrix\n",
    "# avg_returns = returns_df.mean() * 252\n",
    "# cov_mat = returns_df.cov() * 252\n",
    "\n",
    "# # Define the function to find the portfolio volatility using the weights and the covariance matrix\n",
    "# def get_portfolio_volatility(weights, cov_mat):\n",
    "#     return np.sqrt(np.dot(weights.T, np.dot(cov_mat, weights)))\n",
    "  \n",
    "# # Define the number of assets\n",
    "# n_assets = len(avg_returns)\n",
    "\n",
    "# # Define the bounds - the weights can be between 0 and 1\n",
    "# bounds = tuple((0, 1) for asset in range(n_assets))\n",
    "\n",
    "# # Define the initial guess - the equally weighted portfolio\n",
    "# initial_guess = n_assets * [1.0 / n_assets]\n",
    "\n",
    "# # Define the constraint - all weights must add up to 1\n",
    "# constr = {\"type\": \"eq\", \"fun\": lambda x: np.sum(x) - 1}\n",
    "\n",
    "# # Find the minimum volatility portfolio\n",
    "# result = sco.minimize(\n",
    "#     get_portfolio_volatility,\n",
    "#     x0=initial_guess,\n",
    "#     args=cov_mat,\n",
    "#     method=\"SLSQP\",\n",
    "#     constraints=constr,\n",
    "#     bounds=bounds,\n",
    "# )\n",
    "\n",
    "# # Store the portfolio weights\n",
    "# mv_portfolio = pd.Series(result.x, index=avg_returns.index).round(2)\n",
    "\n",
    "# # Store the portfolio's volatility\n",
    "# mv_portfolio_vol = result.fun\n",
    "\n",
    "# Task 3 ---------------------------------------------------\n",
    "\n",
    "# Alternative approach to get the expected returns and the covariance matrix\n",
    "# avg_returns = expected_returns.mean_historical_return(stock_prices_df, compounding=False)\n",
    "# cov_mat = risk_models.sample_cov(stock_prices_df)\n",
    "\n",
    "# Instantiate the EfficientFrontier object\n",
    "ef = EfficientFrontier(avg_returns, cov_mat)\n",
    "\n",
    "# Find the weights that maximize the Sharpe ratio\n",
    "weights = ef.max_sharpe(risk_free_rate=0)\n",
    "ms_portfolio = pd.Series(weights)\n",
    "\n",
    "# Find the maximized Sharpe ratio\n",
    "ms_portfolio_sharpe = ef.portfolio_performance(risk_free_rate=0)[2]"
   ]
  }
 ],
 "metadata": {
  "colab": {
   "name": "Welcome to DataCamp Workspaces.ipynb",
   "provenance": []
  },
  "kernelspec": {
   "display_name": "base",
   "language": "python",
   "name": "python3"
  },
  "language_info": {
   "codemirror_mode": {
    "name": "ipython",
    "version": 3
   },
   "file_extension": ".py",
   "mimetype": "text/x-python",
   "name": "python",
   "nbconvert_exporter": "python",
   "pygments_lexer": "ipython3",
   "version": "3.12.4"
  }
 },
 "nbformat": 4,
 "nbformat_minor": 5
}
