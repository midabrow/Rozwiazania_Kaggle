{
 "cells": [
  {
   "cell_type": "markdown",
   "metadata": {},
   "source": [
    "# Jeopardy"
   ]
  },
  {
   "cell_type": "markdown",
   "metadata": {},
   "source": [
    "## **Introduction**"
   ]
  },
  {
   "cell_type": "markdown",
   "metadata": {},
   "source": [
    "Jeopardy is a popular TV show in the US where participants answer questions to win money. It's been running for many years, and is a major force in popular culture. We want to compete on Jeopardy, and are looking for any way to win"
   ]
  },
  {
   "cell_type": "markdown",
   "metadata": {},
   "source": [
    "## **Dataset**"
   ]
  },
  {
   "cell_type": "markdown",
   "metadata": {},
   "source": [
    "The dataset is named `JEOPARDY_FULL.csv`, and contains the full dataset of Jeopardy questions from 2004 until 2012, uploaded to the [/r/datasets](https://www.reddit.com/r/datasets) subreddit by Redditor [trexmatt](https://www.reddit.com/user/trexmatt/). Here are explanations of each column:\n",
    "\n",
    "-   `Show Number` - the Jeopardy episode number\n",
    "-   `Air Date` - the date the episode (in format YYYY-MM-DD)\n",
    "-   `Round` - the round of Jeopardy (one of \"Jeopardy!\", \"Double Jeopardy!\", \"Final Jeopardy!\" or \"Tiebreaker\")\n",
    "-   `Category` - the category of the question\n",
    "-   `Value` - the number of dollars the correct answer is worth (This is \"None\" for Final Jeopardy! and Tiebreaker questions )\n",
    "-   `Question` - the text of the question (Sometimes contains hyperlinks and other things messy text such as when there's a picture or video question)\n",
    "-   `Answer` - the text of the answer\n"
   ]
  },
  {
   "cell_type": "code",
   "execution_count": 1,
   "metadata": {},
   "outputs": [],
   "source": [
    "import pandas as pd"
   ]
  },
  {
   "cell_type": "code",
   "execution_count": 2,
   "metadata": {},
   "outputs": [
    {
     "data": {
      "application/vnd.microsoft.datawrangler.viewer.v0+json": {
       "columns": [
        {
         "name": "index",
         "rawType": "int64",
         "type": "integer"
        },
        {
         "name": "Show Number",
         "rawType": "int64",
         "type": "integer"
        },
        {
         "name": " Air Date",
         "rawType": "object",
         "type": "string"
        },
        {
         "name": " Round",
         "rawType": "object",
         "type": "string"
        },
        {
         "name": " Category",
         "rawType": "object",
         "type": "string"
        },
        {
         "name": " Value",
         "rawType": "object",
         "type": "string"
        },
        {
         "name": " Question",
         "rawType": "object",
         "type": "string"
        },
        {
         "name": " Answer",
         "rawType": "object",
         "type": "string"
        }
       ],
       "conversionMethod": "pd.DataFrame",
       "ref": "84375f3c-54c7-4d01-80f7-ba048811d6b0",
       "rows": [
        [
         "0",
         "4680",
         "2004-12-31",
         "Jeopardy!",
         "HISTORY",
         "$200",
         "For the last 8 years of his life, Galileo was under house arrest for espousing this man's theory",
         "Copernicus"
        ],
        [
         "1",
         "4680",
         "2004-12-31",
         "Jeopardy!",
         "ESPN's TOP 10 ALL-TIME ATHLETES",
         "$200",
         "No. 2: 1912 Olympian; football star at Carlisle Indian School; 6 MLB seasons with the Reds, Giants & Braves",
         "Jim Thorpe"
        ],
        [
         "2",
         "4680",
         "2004-12-31",
         "Jeopardy!",
         "EVERYBODY TALKS ABOUT IT...",
         "$200",
         "The city of Yuma in this state has a record average of 4,055 hours of sunshine each year",
         "Arizona"
        ],
        [
         "3",
         "4680",
         "2004-12-31",
         "Jeopardy!",
         "THE COMPANY LINE",
         "$200",
         "In 1963, live on \"The Art Linkletter Show\", this company served its billionth burger",
         "McDonald's"
        ],
        [
         "4",
         "4680",
         "2004-12-31",
         "Jeopardy!",
         "EPITAPHS & TRIBUTES",
         "$200",
         "Signer of the Dec. of Indep., framer of the Constitution of Mass., second President of the United States",
         "John Adams"
        ]
       ],
       "shape": {
        "columns": 7,
        "rows": 5
       }
      },
      "text/html": [
       "<div>\n",
       "<style scoped>\n",
       "    .dataframe tbody tr th:only-of-type {\n",
       "        vertical-align: middle;\n",
       "    }\n",
       "\n",
       "    .dataframe tbody tr th {\n",
       "        vertical-align: top;\n",
       "    }\n",
       "\n",
       "    .dataframe thead th {\n",
       "        text-align: right;\n",
       "    }\n",
       "</style>\n",
       "<table border=\"1\" class=\"dataframe\">\n",
       "  <thead>\n",
       "    <tr style=\"text-align: right;\">\n",
       "      <th></th>\n",
       "      <th>Show Number</th>\n",
       "      <th>Air Date</th>\n",
       "      <th>Round</th>\n",
       "      <th>Category</th>\n",
       "      <th>Value</th>\n",
       "      <th>Question</th>\n",
       "      <th>Answer</th>\n",
       "    </tr>\n",
       "  </thead>\n",
       "  <tbody>\n",
       "    <tr>\n",
       "      <th>0</th>\n",
       "      <td>4680</td>\n",
       "      <td>2004-12-31</td>\n",
       "      <td>Jeopardy!</td>\n",
       "      <td>HISTORY</td>\n",
       "      <td>$200</td>\n",
       "      <td>For the last 8 years of his life, Galileo was ...</td>\n",
       "      <td>Copernicus</td>\n",
       "    </tr>\n",
       "    <tr>\n",
       "      <th>1</th>\n",
       "      <td>4680</td>\n",
       "      <td>2004-12-31</td>\n",
       "      <td>Jeopardy!</td>\n",
       "      <td>ESPN's TOP 10 ALL-TIME ATHLETES</td>\n",
       "      <td>$200</td>\n",
       "      <td>No. 2: 1912 Olympian; football star at Carlisl...</td>\n",
       "      <td>Jim Thorpe</td>\n",
       "    </tr>\n",
       "    <tr>\n",
       "      <th>2</th>\n",
       "      <td>4680</td>\n",
       "      <td>2004-12-31</td>\n",
       "      <td>Jeopardy!</td>\n",
       "      <td>EVERYBODY TALKS ABOUT IT...</td>\n",
       "      <td>$200</td>\n",
       "      <td>The city of Yuma in this state has a record av...</td>\n",
       "      <td>Arizona</td>\n",
       "    </tr>\n",
       "    <tr>\n",
       "      <th>3</th>\n",
       "      <td>4680</td>\n",
       "      <td>2004-12-31</td>\n",
       "      <td>Jeopardy!</td>\n",
       "      <td>THE COMPANY LINE</td>\n",
       "      <td>$200</td>\n",
       "      <td>In 1963, live on \"The Art Linkletter Show\", th...</td>\n",
       "      <td>McDonald's</td>\n",
       "    </tr>\n",
       "    <tr>\n",
       "      <th>4</th>\n",
       "      <td>4680</td>\n",
       "      <td>2004-12-31</td>\n",
       "      <td>Jeopardy!</td>\n",
       "      <td>EPITAPHS &amp; TRIBUTES</td>\n",
       "      <td>$200</td>\n",
       "      <td>Signer of the Dec. of Indep., framer of the Co...</td>\n",
       "      <td>John Adams</td>\n",
       "    </tr>\n",
       "  </tbody>\n",
       "</table>\n",
       "</div>"
      ],
      "text/plain": [
       "   Show Number    Air Date      Round                         Category  Value  \\\n",
       "0         4680  2004-12-31  Jeopardy!                          HISTORY   $200   \n",
       "1         4680  2004-12-31  Jeopardy!  ESPN's TOP 10 ALL-TIME ATHLETES   $200   \n",
       "2         4680  2004-12-31  Jeopardy!      EVERYBODY TALKS ABOUT IT...   $200   \n",
       "3         4680  2004-12-31  Jeopardy!                 THE COMPANY LINE   $200   \n",
       "4         4680  2004-12-31  Jeopardy!              EPITAPHS & TRIBUTES   $200   \n",
       "\n",
       "                                            Question      Answer  \n",
       "0  For the last 8 years of his life, Galileo was ...  Copernicus  \n",
       "1  No. 2: 1912 Olympian; football star at Carlisl...  Jim Thorpe  \n",
       "2  The city of Yuma in this state has a record av...     Arizona  \n",
       "3  In 1963, live on \"The Art Linkletter Show\", th...  McDonald's  \n",
       "4  Signer of the Dec. of Indep., framer of the Co...  John Adams  "
      ]
     },
     "execution_count": 2,
     "metadata": {},
     "output_type": "execute_result"
    }
   ],
   "source": [
    "path = '../../../../08_Zadania_baza/DataScience/DataQuest/Guided Projects/Beginner/Winning Jeopardy'\n",
    "jeopardy = pd.read_csv(f\"{path}/JEOPARDY_FULL.csv\")\n",
    "jeopardy.head()"
   ]
  },
  {
   "cell_type": "code",
   "execution_count": 6,
   "metadata": {},
   "outputs": [
    {
     "data": {
      "text/plain": [
       "['Show Number',\n",
       " ' Air Date',\n",
       " ' Round',\n",
       " ' Category',\n",
       " ' Value',\n",
       " ' Question',\n",
       " ' Answer']"
      ]
     },
     "execution_count": 6,
     "metadata": {},
     "output_type": "execute_result"
    }
   ],
   "source": [
    "jeopardy.columns.to_list()"
   ]
  },
  {
   "cell_type": "code",
   "execution_count": 7,
   "metadata": {},
   "outputs": [
    {
     "name": "stdout",
     "output_type": "stream",
     "text": [
      "<class 'pandas.core.frame.DataFrame'>\n",
      "RangeIndex: 216930 entries, 0 to 216929\n",
      "Data columns (total 7 columns):\n",
      " #   Column       Non-Null Count   Dtype \n",
      "---  ------       --------------   ----- \n",
      " 0   Show Number  216930 non-null  int64 \n",
      " 1    Air Date    216930 non-null  object\n",
      " 2    Round       216930 non-null  object\n",
      " 3    Category    216930 non-null  object\n",
      " 4    Value       213296 non-null  object\n",
      " 5    Question    216930 non-null  object\n",
      " 6    Answer      216927 non-null  object\n",
      "dtypes: int64(1), object(6)\n",
      "memory usage: 11.6+ MB\n"
     ]
    }
   ],
   "source": [
    "jeopardy.info()"
   ]
  },
  {
   "cell_type": "markdown",
   "metadata": {},
   "source": [
    "## **Cleaning dataset**"
   ]
  },
  {
   "cell_type": "markdown",
   "metadata": {},
   "source": [
    "### 1. Cleaning columns names"
   ]
  },
  {
   "cell_type": "markdown",
   "metadata": {},
   "source": [
    "Some of the columns have spacec in front of names"
   ]
  },
  {
   "cell_type": "code",
   "execution_count": 11,
   "metadata": {},
   "outputs": [
    {
     "data": {
      "text/plain": [
       "Index(['Show Number', 'Air Date', 'Round', 'Category', 'Value', 'Question',\n",
       "       'Answer'],\n",
       "      dtype='object')"
      ]
     },
     "execution_count": 11,
     "metadata": {},
     "output_type": "execute_result"
    }
   ],
   "source": [
    "jeopardy.rename(columns=lambda x: x.lstrip(), inplace=True)\n",
    "\n",
    "jeopardy.columns"
   ]
  },
  {
   "cell_type": "markdown",
   "metadata": {},
   "source": [
    "### 2. Removing Null Values"
   ]
  },
  {
   "cell_type": "markdown",
   "metadata": {},
   "source": [
    "Some of the questions are Final Jeopardy or tiebreaker, which explains the 3,634 `NaN` values in that column.\n",
    "There are also 3 `NaN` values in the `Answer` column. We can't really use empty answers in this project so we'll simply drop them. "
   ]
  },
  {
   "cell_type": "code",
   "execution_count": null,
   "metadata": {},
   "outputs": [
    {
     "name": "stdout",
     "output_type": "stream",
     "text": [
      "             Total  Percent\n",
      "Show Number      0   0.0000\n",
      "Air Date         0   0.0000\n",
      "Round            0   0.0000\n",
      "Category         0   0.0000\n",
      "Value         3634   1.6752\n",
      "Question         0   0.0000\n",
      "Answer           3   0.0014\n"
     ]
    }
   ],
   "source": [
    "def check_missing_values(dataset: pd.DataFrame):\n",
    "    total = dataset.isnull().sum()\n",
    "    percent = (dataset.isnull().mean() * 100).round(4) # round(dataset.isnull().mean() * 100, 3)\n",
    "\n",
    "    total_df = pd.concat([total, percent], axis=1, keys=['Total', 'Percent'])\n",
    "    print(total_df)\n",
    "\n",
    "check_missing_values(jeopardy)"
   ]
  },
  {
   "cell_type": "code",
   "execution_count": null,
   "metadata": {},
   "outputs": [
    {
     "name": "stdout",
     "output_type": "stream",
     "text": [
      "             Total  Percent\n",
      "Show Number      0      0.0\n",
      "Air Date         0      0.0\n",
      "Round            0      0.0\n",
      "Category         0      0.0\n",
      "Value            0      0.0\n",
      "Question         0      0.0\n",
      "Answer           0      0.0\n"
     ]
    }
   ],
   "source": [
    "jeopardy.dropna(subset=['Answer', 'Value'], inplace=True)\n",
    "check_missing_values(jeopardy)"
   ]
  },
  {
   "cell_type": "markdown",
   "metadata": {},
   "source": [
    "### 3. Normalizing Text Columns"
   ]
  },
  {
   "cell_type": "markdown",
   "metadata": {},
   "source": [
    "We need to normalize all of the text columns (the `Question` and `Answer` columns). The idea is to ensure that we put words in lowercase and remove punctuation so `Don't` and `don't` aren't considered to be different words when we compare them."
   ]
  },
  {
   "cell_type": "code",
   "execution_count": 19,
   "metadata": {},
   "outputs": [
    {
     "data": {
      "application/vnd.microsoft.datawrangler.viewer.v0+json": {
       "columns": [
        {
         "name": "index",
         "rawType": "int64",
         "type": "integer"
        },
        {
         "name": "Show Number",
         "rawType": "int64",
         "type": "integer"
        },
        {
         "name": "Air Date",
         "rawType": "object",
         "type": "string"
        },
        {
         "name": "Round",
         "rawType": "object",
         "type": "string"
        },
        {
         "name": "Category",
         "rawType": "object",
         "type": "string"
        },
        {
         "name": "Value",
         "rawType": "object",
         "type": "string"
        },
        {
         "name": "Question",
         "rawType": "object",
         "type": "string"
        },
        {
         "name": "Answer",
         "rawType": "object",
         "type": "string"
        },
        {
         "name": "clean_question",
         "rawType": "object",
         "type": "string"
        },
        {
         "name": "clean_answer",
         "rawType": "object",
         "type": "string"
        }
       ],
       "conversionMethod": "pd.DataFrame",
       "ref": "a3586773-b383-4b9e-99d5-21be84e541ad",
       "rows": [
        [
         "88481",
         "4272",
         "2003-03-11",
         "Jeopardy!",
         "FIND THE SPOONERISM",
         "$600",
         "Can you give me one of these for our date tonight?  There's a chain wreck on the freeway & I can't make it",
         "rain check",
         "can you give me one of these for our date tonight theres a chain wreck on the freeway i cant make it",
         "rain check"
        ],
        [
         "73185",
         "1227",
         "1989-12-26",
         "Jeopardy!",
         "\"BABY\" SONGS",
         "$500",
         "(AUDIO DAILY DOUBLE): A No. 12 hit in 1976, it reached No. 1 in 1988 as part of a melody: \"Shadows grow so long before my eyes, and they're moving, across the stage, suddenly, the day turns into night...\"",
         "\"Baby, I Love Your Way\"",
         "audio daily double a no 12 hit in 1976 it reached no 1 in 1988 as part of a melody shadows grow so long before my eyes and theyre moving across the stage suddenly the day turns into night",
         "baby i love your way"
        ],
        [
         "174419",
         "5640",
         "2009-02-27",
         "Jeopardy!",
         "WE'RE ALL \"WAITING\"",
         "$1000",
         "Terry McMillan's bestselling 1992 novel about 4 African-American friends",
         "Waiting to Exhale",
         "terry mcmillans bestselling 1992 novel about 4 africanamerican friends",
         "waiting to exhale"
        ],
        [
         "102035",
         "5357",
         "2007-12-18",
         "Jeopardy!",
         "TOP 40 HITMAKERS",
         "$200",
         "\"Twelve Thirty (Young Girls Are Coming To The Canyon)\" & \"California Dreamin'\"",
         "The Mamas & The Papas",
         "twelve thirty young girls are coming to the canyon california dreamin",
         "the mamas the papas"
        ],
        [
         "177330",
         "3161",
         "1998-05-04",
         "Jeopardy!",
         "GUINNESS RECORDS",
         "$500",
         "The largest cut one of these green gems is a whopping 86,136 carats -- too big for a class ring",
         "Emerald",
         "the largest cut one of these green gems is a whopping 86136 carats too big for a class ring",
         "emerald"
        ],
        [
         "99815",
         "4315",
         "2003-05-09",
         "Jeopardy!",
         "POTENT POTABLES",
         "$600",
         "\"It's another\" one of these orange juice cocktails that's mentioned in the title of an Eagles hit",
         "Tequila Sunrise",
         "its another one of these orange juice cocktails thats mentioned in the title of an eagles hit",
         "tequila sunrise"
        ],
        [
         "111366",
         "3538",
         "2000-01-12",
         "Double Jeopardy!",
         "PLAYING DOCTOR",
         "$1000",
         "Michael Steadman on the show \"thirtysomething\", he became an \"L.A. Doctor\" on TV in 1998",
         "Ken Olin",
         "michael steadman on the show thirtysomething he became an la doctor on tv in 1998",
         "ken olin"
        ],
        [
         "204928",
         "4553",
         "2004-05-26",
         "Jeopardy!",
         "POP QUIZ",
         "$600",
         "In the Janis Joplin hit \"Me And Bobby McGee\", this is \"just another word for nothin' left to lose\"",
         "freedom",
         "in the janis joplin hit me and bobby mcgee this is just another word for nothin left to lose",
         "freedom"
        ],
        [
         "103121",
         "5465",
         "2008-05-16",
         "Jeopardy!",
         "POTPOURRI",
         "$600",
         "Title of the chief of the DOJ",
         "the Attorney General",
         "title of the chief of the doj",
         "the attorney general"
        ],
        [
         "113995",
         "3941",
         "2001-10-22",
         "Jeopardy!",
         "AL, HISTORY'S PASSIVE AGGRESSIVE PAL",
         "$100",
         "In 1871 Chicago, Al promises to retrieve this woman's lantern from a barn but he'll get to it in a minute; oops",
         "Mrs. O'Leary",
         "in 1871 chicago al promises to retrieve this womans lantern from a barn but hell get to it in a minute oops",
         "mrs oleary"
        ]
       ],
       "shape": {
        "columns": 9,
        "rows": 10
       }
      },
      "text/html": [
       "<div>\n",
       "<style scoped>\n",
       "    .dataframe tbody tr th:only-of-type {\n",
       "        vertical-align: middle;\n",
       "    }\n",
       "\n",
       "    .dataframe tbody tr th {\n",
       "        vertical-align: top;\n",
       "    }\n",
       "\n",
       "    .dataframe thead th {\n",
       "        text-align: right;\n",
       "    }\n",
       "</style>\n",
       "<table border=\"1\" class=\"dataframe\">\n",
       "  <thead>\n",
       "    <tr style=\"text-align: right;\">\n",
       "      <th></th>\n",
       "      <th>Show Number</th>\n",
       "      <th>Air Date</th>\n",
       "      <th>Round</th>\n",
       "      <th>Category</th>\n",
       "      <th>Value</th>\n",
       "      <th>Question</th>\n",
       "      <th>Answer</th>\n",
       "      <th>clean_question</th>\n",
       "      <th>clean_answer</th>\n",
       "    </tr>\n",
       "  </thead>\n",
       "  <tbody>\n",
       "    <tr>\n",
       "      <th>88481</th>\n",
       "      <td>4272</td>\n",
       "      <td>2003-03-11</td>\n",
       "      <td>Jeopardy!</td>\n",
       "      <td>FIND THE SPOONERISM</td>\n",
       "      <td>$600</td>\n",
       "      <td>Can you give me one of these for our date toni...</td>\n",
       "      <td>rain check</td>\n",
       "      <td>can you give me one of these for our date toni...</td>\n",
       "      <td>rain check</td>\n",
       "    </tr>\n",
       "    <tr>\n",
       "      <th>73185</th>\n",
       "      <td>1227</td>\n",
       "      <td>1989-12-26</td>\n",
       "      <td>Jeopardy!</td>\n",
       "      <td>\"BABY\" SONGS</td>\n",
       "      <td>$500</td>\n",
       "      <td>(AUDIO DAILY DOUBLE): A No. 12 hit in 1976, it...</td>\n",
       "      <td>\"Baby, I Love Your Way\"</td>\n",
       "      <td>audio daily double a no 12 hit in 1976 it reac...</td>\n",
       "      <td>baby i love your way</td>\n",
       "    </tr>\n",
       "    <tr>\n",
       "      <th>174419</th>\n",
       "      <td>5640</td>\n",
       "      <td>2009-02-27</td>\n",
       "      <td>Jeopardy!</td>\n",
       "      <td>WE'RE ALL \"WAITING\"</td>\n",
       "      <td>$1000</td>\n",
       "      <td>Terry McMillan's bestselling 1992 novel about ...</td>\n",
       "      <td>Waiting to Exhale</td>\n",
       "      <td>terry mcmillans bestselling 1992 novel about 4...</td>\n",
       "      <td>waiting to exhale</td>\n",
       "    </tr>\n",
       "    <tr>\n",
       "      <th>102035</th>\n",
       "      <td>5357</td>\n",
       "      <td>2007-12-18</td>\n",
       "      <td>Jeopardy!</td>\n",
       "      <td>TOP 40 HITMAKERS</td>\n",
       "      <td>$200</td>\n",
       "      <td>\"Twelve Thirty (Young Girls Are Coming To The ...</td>\n",
       "      <td>The Mamas &amp; The Papas</td>\n",
       "      <td>twelve thirty young girls are coming to the ca...</td>\n",
       "      <td>the mamas the papas</td>\n",
       "    </tr>\n",
       "    <tr>\n",
       "      <th>177330</th>\n",
       "      <td>3161</td>\n",
       "      <td>1998-05-04</td>\n",
       "      <td>Jeopardy!</td>\n",
       "      <td>GUINNESS RECORDS</td>\n",
       "      <td>$500</td>\n",
       "      <td>The largest cut one of these green gems is a w...</td>\n",
       "      <td>Emerald</td>\n",
       "      <td>the largest cut one of these green gems is a w...</td>\n",
       "      <td>emerald</td>\n",
       "    </tr>\n",
       "    <tr>\n",
       "      <th>99815</th>\n",
       "      <td>4315</td>\n",
       "      <td>2003-05-09</td>\n",
       "      <td>Jeopardy!</td>\n",
       "      <td>POTENT POTABLES</td>\n",
       "      <td>$600</td>\n",
       "      <td>\"It's another\" one of these orange juice cockt...</td>\n",
       "      <td>Tequila Sunrise</td>\n",
       "      <td>its another one of these orange juice cocktail...</td>\n",
       "      <td>tequila sunrise</td>\n",
       "    </tr>\n",
       "    <tr>\n",
       "      <th>111366</th>\n",
       "      <td>3538</td>\n",
       "      <td>2000-01-12</td>\n",
       "      <td>Double Jeopardy!</td>\n",
       "      <td>PLAYING DOCTOR</td>\n",
       "      <td>$1000</td>\n",
       "      <td>Michael Steadman on the show \"thirtysomething\"...</td>\n",
       "      <td>Ken Olin</td>\n",
       "      <td>michael steadman on the show thirtysomething h...</td>\n",
       "      <td>ken olin</td>\n",
       "    </tr>\n",
       "    <tr>\n",
       "      <th>204928</th>\n",
       "      <td>4553</td>\n",
       "      <td>2004-05-26</td>\n",
       "      <td>Jeopardy!</td>\n",
       "      <td>POP QUIZ</td>\n",
       "      <td>$600</td>\n",
       "      <td>In the Janis Joplin hit \"Me And Bobby McGee\", ...</td>\n",
       "      <td>freedom</td>\n",
       "      <td>in the janis joplin hit me and bobby mcgee thi...</td>\n",
       "      <td>freedom</td>\n",
       "    </tr>\n",
       "    <tr>\n",
       "      <th>103121</th>\n",
       "      <td>5465</td>\n",
       "      <td>2008-05-16</td>\n",
       "      <td>Jeopardy!</td>\n",
       "      <td>POTPOURRI</td>\n",
       "      <td>$600</td>\n",
       "      <td>Title of the chief of the DOJ</td>\n",
       "      <td>the Attorney General</td>\n",
       "      <td>title of the chief of the doj</td>\n",
       "      <td>the attorney general</td>\n",
       "    </tr>\n",
       "    <tr>\n",
       "      <th>113995</th>\n",
       "      <td>3941</td>\n",
       "      <td>2001-10-22</td>\n",
       "      <td>Jeopardy!</td>\n",
       "      <td>AL, HISTORY'S PASSIVE AGGRESSIVE PAL</td>\n",
       "      <td>$100</td>\n",
       "      <td>In 1871 Chicago, Al promises to retrieve this ...</td>\n",
       "      <td>Mrs. O'Leary</td>\n",
       "      <td>in 1871 chicago al promises to retrieve this w...</td>\n",
       "      <td>mrs oleary</td>\n",
       "    </tr>\n",
       "  </tbody>\n",
       "</table>\n",
       "</div>"
      ],
      "text/plain": [
       "        Show Number    Air Date             Round  \\\n",
       "88481          4272  2003-03-11         Jeopardy!   \n",
       "73185          1227  1989-12-26         Jeopardy!   \n",
       "174419         5640  2009-02-27         Jeopardy!   \n",
       "102035         5357  2007-12-18         Jeopardy!   \n",
       "177330         3161  1998-05-04         Jeopardy!   \n",
       "99815          4315  2003-05-09         Jeopardy!   \n",
       "111366         3538  2000-01-12  Double Jeopardy!   \n",
       "204928         4553  2004-05-26         Jeopardy!   \n",
       "103121         5465  2008-05-16         Jeopardy!   \n",
       "113995         3941  2001-10-22         Jeopardy!   \n",
       "\n",
       "                                    Category  Value  \\\n",
       "88481                    FIND THE SPOONERISM   $600   \n",
       "73185                           \"BABY\" SONGS   $500   \n",
       "174419                   WE'RE ALL \"WAITING\"  $1000   \n",
       "102035                      TOP 40 HITMAKERS   $200   \n",
       "177330                      GUINNESS RECORDS   $500   \n",
       "99815                        POTENT POTABLES   $600   \n",
       "111366                        PLAYING DOCTOR  $1000   \n",
       "204928                              POP QUIZ   $600   \n",
       "103121                             POTPOURRI   $600   \n",
       "113995  AL, HISTORY'S PASSIVE AGGRESSIVE PAL   $100   \n",
       "\n",
       "                                                 Question  \\\n",
       "88481   Can you give me one of these for our date toni...   \n",
       "73185   (AUDIO DAILY DOUBLE): A No. 12 hit in 1976, it...   \n",
       "174419  Terry McMillan's bestselling 1992 novel about ...   \n",
       "102035  \"Twelve Thirty (Young Girls Are Coming To The ...   \n",
       "177330  The largest cut one of these green gems is a w...   \n",
       "99815   \"It's another\" one of these orange juice cockt...   \n",
       "111366  Michael Steadman on the show \"thirtysomething\"...   \n",
       "204928  In the Janis Joplin hit \"Me And Bobby McGee\", ...   \n",
       "103121                      Title of the chief of the DOJ   \n",
       "113995  In 1871 Chicago, Al promises to retrieve this ...   \n",
       "\n",
       "                         Answer  \\\n",
       "88481                rain check   \n",
       "73185   \"Baby, I Love Your Way\"   \n",
       "174419        Waiting to Exhale   \n",
       "102035    The Mamas & The Papas   \n",
       "177330                  Emerald   \n",
       "99815           Tequila Sunrise   \n",
       "111366                 Ken Olin   \n",
       "204928                  freedom   \n",
       "103121     the Attorney General   \n",
       "113995             Mrs. O'Leary   \n",
       "\n",
       "                                           clean_question  \\\n",
       "88481   can you give me one of these for our date toni...   \n",
       "73185   audio daily double a no 12 hit in 1976 it reac...   \n",
       "174419  terry mcmillans bestselling 1992 novel about 4...   \n",
       "102035  twelve thirty young girls are coming to the ca...   \n",
       "177330  the largest cut one of these green gems is a w...   \n",
       "99815   its another one of these orange juice cocktail...   \n",
       "111366  michael steadman on the show thirtysomething h...   \n",
       "204928  in the janis joplin hit me and bobby mcgee thi...   \n",
       "103121                      title of the chief of the doj   \n",
       "113995  in 1871 chicago al promises to retrieve this w...   \n",
       "\n",
       "                clean_answer  \n",
       "88481             rain check  \n",
       "73185   baby i love your way  \n",
       "174419     waiting to exhale  \n",
       "102035   the mamas the papas  \n",
       "177330               emerald  \n",
       "99815        tequila sunrise  \n",
       "111366              ken olin  \n",
       "204928               freedom  \n",
       "103121  the attorney general  \n",
       "113995            mrs oleary  "
      ]
     },
     "execution_count": 19,
     "metadata": {},
     "output_type": "execute_result"
    }
   ],
   "source": [
    "import re\n",
    "\n",
    "def normalize_text(text: str):\n",
    "    text = text.lower()\n",
    "    # wszystko, co nie jest literą, cyfrą lub spacją zamień na \"\"\n",
    "    text = re.sub(r\"[^A-Za-z0-9\\s]\", \"\", text)\n",
    "    # Zastępuje wielokrotne spacje (lub inne znaki białe, np. tabulatory) pojedynczą spacją.\n",
    "    text = re.sub(r\"\\s+\", \" \", text)\n",
    "    return text\n",
    "\n",
    "jeopardy['clean_question'] = jeopardy['Question'].apply(func=normalize_text)\n",
    "jeopardy['clean_answer'] = jeopardy['Answer'].apply(func=normalize_text)\n",
    "\n",
    "jeopardy.sample(10)"
   ]
  },
  {
   "cell_type": "markdown",
   "metadata": {},
   "source": [
    "### 4. Normalize value column"
   ]
  },
  {
   "cell_type": "markdown",
   "metadata": {},
   "source": [
    "The `Value` column should be numeric, to allow you to manipulate it easier. We'll need to remove the dollar sign from the beginning of each value and convert the column from text to numeric:"
   ]
  },
  {
   "cell_type": "code",
   "execution_count": 20,
   "metadata": {},
   "outputs": [
    {
     "data": {
      "application/vnd.microsoft.datawrangler.viewer.v0+json": {
       "columns": [
        {
         "name": "index",
         "rawType": "int64",
         "type": "integer"
        },
        {
         "name": "Show Number",
         "rawType": "int64",
         "type": "integer"
        },
        {
         "name": "Air Date",
         "rawType": "object",
         "type": "string"
        },
        {
         "name": "Round",
         "rawType": "object",
         "type": "string"
        },
        {
         "name": "Category",
         "rawType": "object",
         "type": "string"
        },
        {
         "name": "Value",
         "rawType": "object",
         "type": "string"
        },
        {
         "name": "Question",
         "rawType": "object",
         "type": "string"
        },
        {
         "name": "Answer",
         "rawType": "object",
         "type": "string"
        },
        {
         "name": "clean_question",
         "rawType": "object",
         "type": "string"
        },
        {
         "name": "clean_answer",
         "rawType": "object",
         "type": "string"
        },
        {
         "name": "clean_value",
         "rawType": "int64",
         "type": "integer"
        }
       ],
       "conversionMethod": "pd.DataFrame",
       "ref": "2f360909-9a9f-4c9f-a8e7-fb6a73e09650",
       "rows": [
        [
         "190300",
         "3838",
         "2001-04-18",
         "Double Jeopardy!",
         "THE NEW YORK TIMES HEADLINES",
         "$2,000",
         "Month & year of the historic headline seen here: [Stocks Collapse in 16,410,030-Share Day But Rally At Close Cheers Brokers Bankers Optimistic, To Continue...]",
         "October, 1929",
         "month year of the historic headline seen here stocks collapse in 16410030share day but rally at close cheers brokers bankers optimistic to continue",
         "october 1929",
         "2000"
        ],
        [
         "169164",
         "3366",
         "1999-04-05",
         "Double Jeopardy!",
         "ASTROLOGY FOR SKATERS",
         "$600",
         "If this \"fishy\" sign is yours, your famous feet may be your best feature",
         "Pisces",
         "if this fishy sign is yours your famous feet may be your best feature",
         "pisces",
         "600"
        ],
        [
         "205541",
         "6061",
         "2011-01-10",
         "Jeopardy!",
         "LAUNDRY DETERGENT",
         "$1000",
         "Philip III, king of France 1270-1285, was nicknamed this, another word for \"brazen\"",
         "Bold",
         "philip iii king of france 12701285 was nicknamed this another word for brazen",
         "bold",
         "1000"
        ],
        [
         "14217",
         "5591",
         "2008-12-22",
         "Jeopardy!",
         "HELLO, DALI",
         "$800",
         "In \"The Persistence of Memory\", Dali shows 4 of these, some wilting, some not",
         "watches or clocks",
         "in the persistence of memory dali shows 4 of these some wilting some not",
         "watches or clocks",
         "800"
        ],
        [
         "112076",
         "3452",
         "1999-09-14",
         "Double Jeopardy!",
         "BLACK HERITAGE STAMPS",
         "$800",
         "A. Philip Randolph unionized men in this job held by the men depicted on the stamp seen here:",
         "Sleeping car porters",
         "a philip randolph unionized men in this job held by the men depicted on the stamp seen here",
         "sleeping car porters",
         "800"
        ],
        [
         "152849",
         "6142",
         "2011-05-03",
         "Double Jeopardy!",
         "MATH, TEACHERS!",
         "$1200",
         "My 1997 Honda Civic went 403 miles on 13 gallons; I'm getting this many miles per gallon",
         "31",
         "my 1997 honda civic went 403 miles on 13 gallons im getting this many miles per gallon",
         "31",
         "1200"
        ],
        [
         "84421",
         "5422",
         "2008-03-18",
         "Jeopardy!",
         "GRAB BAG",
         "$800",
         "This 2-word phrase comes from a Greek belief that a bird sacred to Apollo broke its silence before dying",
         "swan song",
         "this 2word phrase comes from a greek belief that a bird sacred to apollo broke its silence before dying",
         "swan song",
         "800"
        ],
        [
         "43121",
         "3937",
         "2001-10-16",
         "Double Jeopardy!",
         "A DATE WITH DISASTER",
         "$400",
         "Seen here, he shot a man in Texas, November 24, 1963",
         "Jack Ruby",
         "seen here he shot a man in texas november 24 1963",
         "jack ruby",
         "400"
        ],
        [
         "132182",
         "5608",
         "2009-01-14",
         "Double Jeopardy!",
         "A LITTLE BIT ROCK & ROLL",
         "$800",
         "\"Baby, you're much 2 fast\", sings Prince in this hit",
         "\"Little Red Corvette\"",
         "baby youre much 2 fast sings prince in this hit",
         "little red corvette",
         "800"
        ],
        [
         "8308",
         "4946",
         "2006-02-27",
         "Jeopardy!",
         "ANGELS",
         "$200",
         "Arte Moreno bought the baseball team in 2003 & renamed it the Los Angeles Angels of this place",
         "Anaheim",
         "arte moreno bought the baseball team in 2003 renamed it the los angeles angels of this place",
         "anaheim",
         "200"
        ]
       ],
       "shape": {
        "columns": 10,
        "rows": 10
       }
      },
      "text/html": [
       "<div>\n",
       "<style scoped>\n",
       "    .dataframe tbody tr th:only-of-type {\n",
       "        vertical-align: middle;\n",
       "    }\n",
       "\n",
       "    .dataframe tbody tr th {\n",
       "        vertical-align: top;\n",
       "    }\n",
       "\n",
       "    .dataframe thead th {\n",
       "        text-align: right;\n",
       "    }\n",
       "</style>\n",
       "<table border=\"1\" class=\"dataframe\">\n",
       "  <thead>\n",
       "    <tr style=\"text-align: right;\">\n",
       "      <th></th>\n",
       "      <th>Show Number</th>\n",
       "      <th>Air Date</th>\n",
       "      <th>Round</th>\n",
       "      <th>Category</th>\n",
       "      <th>Value</th>\n",
       "      <th>Question</th>\n",
       "      <th>Answer</th>\n",
       "      <th>clean_question</th>\n",
       "      <th>clean_answer</th>\n",
       "      <th>clean_value</th>\n",
       "    </tr>\n",
       "  </thead>\n",
       "  <tbody>\n",
       "    <tr>\n",
       "      <th>190300</th>\n",
       "      <td>3838</td>\n",
       "      <td>2001-04-18</td>\n",
       "      <td>Double Jeopardy!</td>\n",
       "      <td>THE NEW YORK TIMES HEADLINES</td>\n",
       "      <td>$2,000</td>\n",
       "      <td>Month &amp; year of the historic headline seen her...</td>\n",
       "      <td>October, 1929</td>\n",
       "      <td>month year of the historic headline seen here ...</td>\n",
       "      <td>october 1929</td>\n",
       "      <td>2000</td>\n",
       "    </tr>\n",
       "    <tr>\n",
       "      <th>169164</th>\n",
       "      <td>3366</td>\n",
       "      <td>1999-04-05</td>\n",
       "      <td>Double Jeopardy!</td>\n",
       "      <td>ASTROLOGY FOR SKATERS</td>\n",
       "      <td>$600</td>\n",
       "      <td>If this \"fishy\" sign is yours, your famous fee...</td>\n",
       "      <td>Pisces</td>\n",
       "      <td>if this fishy sign is yours your famous feet m...</td>\n",
       "      <td>pisces</td>\n",
       "      <td>600</td>\n",
       "    </tr>\n",
       "    <tr>\n",
       "      <th>205541</th>\n",
       "      <td>6061</td>\n",
       "      <td>2011-01-10</td>\n",
       "      <td>Jeopardy!</td>\n",
       "      <td>LAUNDRY DETERGENT</td>\n",
       "      <td>$1000</td>\n",
       "      <td>Philip III, king of France 1270-1285, was nick...</td>\n",
       "      <td>Bold</td>\n",
       "      <td>philip iii king of france 12701285 was nicknam...</td>\n",
       "      <td>bold</td>\n",
       "      <td>1000</td>\n",
       "    </tr>\n",
       "    <tr>\n",
       "      <th>14217</th>\n",
       "      <td>5591</td>\n",
       "      <td>2008-12-22</td>\n",
       "      <td>Jeopardy!</td>\n",
       "      <td>HELLO, DALI</td>\n",
       "      <td>$800</td>\n",
       "      <td>In \"The Persistence of Memory\", Dali shows 4 o...</td>\n",
       "      <td>watches or clocks</td>\n",
       "      <td>in the persistence of memory dali shows 4 of t...</td>\n",
       "      <td>watches or clocks</td>\n",
       "      <td>800</td>\n",
       "    </tr>\n",
       "    <tr>\n",
       "      <th>112076</th>\n",
       "      <td>3452</td>\n",
       "      <td>1999-09-14</td>\n",
       "      <td>Double Jeopardy!</td>\n",
       "      <td>BLACK HERITAGE STAMPS</td>\n",
       "      <td>$800</td>\n",
       "      <td>A. Philip Randolph unionized men in this job h...</td>\n",
       "      <td>Sleeping car porters</td>\n",
       "      <td>a philip randolph unionized men in this job he...</td>\n",
       "      <td>sleeping car porters</td>\n",
       "      <td>800</td>\n",
       "    </tr>\n",
       "    <tr>\n",
       "      <th>152849</th>\n",
       "      <td>6142</td>\n",
       "      <td>2011-05-03</td>\n",
       "      <td>Double Jeopardy!</td>\n",
       "      <td>MATH, TEACHERS!</td>\n",
       "      <td>$1200</td>\n",
       "      <td>My 1997 Honda Civic went 403 miles on 13 gallo...</td>\n",
       "      <td>31</td>\n",
       "      <td>my 1997 honda civic went 403 miles on 13 gallo...</td>\n",
       "      <td>31</td>\n",
       "      <td>1200</td>\n",
       "    </tr>\n",
       "    <tr>\n",
       "      <th>84421</th>\n",
       "      <td>5422</td>\n",
       "      <td>2008-03-18</td>\n",
       "      <td>Jeopardy!</td>\n",
       "      <td>GRAB BAG</td>\n",
       "      <td>$800</td>\n",
       "      <td>This 2-word phrase comes from a Greek belief t...</td>\n",
       "      <td>swan song</td>\n",
       "      <td>this 2word phrase comes from a greek belief th...</td>\n",
       "      <td>swan song</td>\n",
       "      <td>800</td>\n",
       "    </tr>\n",
       "    <tr>\n",
       "      <th>43121</th>\n",
       "      <td>3937</td>\n",
       "      <td>2001-10-16</td>\n",
       "      <td>Double Jeopardy!</td>\n",
       "      <td>A DATE WITH DISASTER</td>\n",
       "      <td>$400</td>\n",
       "      <td>Seen here, he shot a man in Texas, November 24...</td>\n",
       "      <td>Jack Ruby</td>\n",
       "      <td>seen here he shot a man in texas november 24 1963</td>\n",
       "      <td>jack ruby</td>\n",
       "      <td>400</td>\n",
       "    </tr>\n",
       "    <tr>\n",
       "      <th>132182</th>\n",
       "      <td>5608</td>\n",
       "      <td>2009-01-14</td>\n",
       "      <td>Double Jeopardy!</td>\n",
       "      <td>A LITTLE BIT ROCK &amp; ROLL</td>\n",
       "      <td>$800</td>\n",
       "      <td>\"Baby, you're much 2 fast\", sings Prince in th...</td>\n",
       "      <td>\"Little Red Corvette\"</td>\n",
       "      <td>baby youre much 2 fast sings prince in this hit</td>\n",
       "      <td>little red corvette</td>\n",
       "      <td>800</td>\n",
       "    </tr>\n",
       "    <tr>\n",
       "      <th>8308</th>\n",
       "      <td>4946</td>\n",
       "      <td>2006-02-27</td>\n",
       "      <td>Jeopardy!</td>\n",
       "      <td>ANGELS</td>\n",
       "      <td>$200</td>\n",
       "      <td>Arte Moreno bought the baseball team in 2003 &amp;...</td>\n",
       "      <td>Anaheim</td>\n",
       "      <td>arte moreno bought the baseball team in 2003 r...</td>\n",
       "      <td>anaheim</td>\n",
       "      <td>200</td>\n",
       "    </tr>\n",
       "  </tbody>\n",
       "</table>\n",
       "</div>"
      ],
      "text/plain": [
       "        Show Number    Air Date             Round  \\\n",
       "190300         3838  2001-04-18  Double Jeopardy!   \n",
       "169164         3366  1999-04-05  Double Jeopardy!   \n",
       "205541         6061  2011-01-10         Jeopardy!   \n",
       "14217          5591  2008-12-22         Jeopardy!   \n",
       "112076         3452  1999-09-14  Double Jeopardy!   \n",
       "152849         6142  2011-05-03  Double Jeopardy!   \n",
       "84421          5422  2008-03-18         Jeopardy!   \n",
       "43121          3937  2001-10-16  Double Jeopardy!   \n",
       "132182         5608  2009-01-14  Double Jeopardy!   \n",
       "8308           4946  2006-02-27         Jeopardy!   \n",
       "\n",
       "                            Category   Value  \\\n",
       "190300  THE NEW YORK TIMES HEADLINES  $2,000   \n",
       "169164         ASTROLOGY FOR SKATERS    $600   \n",
       "205541             LAUNDRY DETERGENT   $1000   \n",
       "14217                    HELLO, DALI    $800   \n",
       "112076         BLACK HERITAGE STAMPS    $800   \n",
       "152849               MATH, TEACHERS!   $1200   \n",
       "84421                       GRAB BAG    $800   \n",
       "43121           A DATE WITH DISASTER    $400   \n",
       "132182      A LITTLE BIT ROCK & ROLL    $800   \n",
       "8308                          ANGELS    $200   \n",
       "\n",
       "                                                 Question  \\\n",
       "190300  Month & year of the historic headline seen her...   \n",
       "169164  If this \"fishy\" sign is yours, your famous fee...   \n",
       "205541  Philip III, king of France 1270-1285, was nick...   \n",
       "14217   In \"The Persistence of Memory\", Dali shows 4 o...   \n",
       "112076  A. Philip Randolph unionized men in this job h...   \n",
       "152849  My 1997 Honda Civic went 403 miles on 13 gallo...   \n",
       "84421   This 2-word phrase comes from a Greek belief t...   \n",
       "43121   Seen here, he shot a man in Texas, November 24...   \n",
       "132182  \"Baby, you're much 2 fast\", sings Prince in th...   \n",
       "8308    Arte Moreno bought the baseball team in 2003 &...   \n",
       "\n",
       "                       Answer  \\\n",
       "190300          October, 1929   \n",
       "169164                 Pisces   \n",
       "205541                   Bold   \n",
       "14217       watches or clocks   \n",
       "112076   Sleeping car porters   \n",
       "152849                     31   \n",
       "84421               swan song   \n",
       "43121               Jack Ruby   \n",
       "132182  \"Little Red Corvette\"   \n",
       "8308                  Anaheim   \n",
       "\n",
       "                                           clean_question  \\\n",
       "190300  month year of the historic headline seen here ...   \n",
       "169164  if this fishy sign is yours your famous feet m...   \n",
       "205541  philip iii king of france 12701285 was nicknam...   \n",
       "14217   in the persistence of memory dali shows 4 of t...   \n",
       "112076  a philip randolph unionized men in this job he...   \n",
       "152849  my 1997 honda civic went 403 miles on 13 gallo...   \n",
       "84421   this 2word phrase comes from a greek belief th...   \n",
       "43121   seen here he shot a man in texas november 24 1963   \n",
       "132182    baby youre much 2 fast sings prince in this hit   \n",
       "8308    arte moreno bought the baseball team in 2003 r...   \n",
       "\n",
       "                clean_answer  clean_value  \n",
       "190300          october 1929         2000  \n",
       "169164                pisces          600  \n",
       "205541                  bold         1000  \n",
       "14217      watches or clocks          800  \n",
       "112076  sleeping car porters          800  \n",
       "152849                    31         1200  \n",
       "84421              swan song          800  \n",
       "43121              jack ruby          400  \n",
       "132182   little red corvette          800  \n",
       "8308                 anaheim          200  "
      ]
     },
     "execution_count": 20,
     "metadata": {},
     "output_type": "execute_result"
    }
   ],
   "source": [
    "def normalize_number(text: str) -> int:\n",
    "    text = str(text)\n",
    "    text = re.sub(r\"[^0-9\\s]\", \"\", text)\n",
    "    try:\n",
    "        text = int(text)\n",
    "    except Exception:\n",
    "        text = 0\n",
    "    return text\n",
    "\n",
    "jeopardy['clean_value'] = jeopardy['Value'].apply(func=normalize_number)\n",
    "\n",
    "jeopardy.sample(10)"
   ]
  },
  {
   "cell_type": "markdown",
   "metadata": {},
   "source": [
    "### 5. Ait Date column to datetime type"
   ]
  },
  {
   "cell_type": "markdown",
   "metadata": {},
   "source": [
    "The `Air Date` column should be a datetime, not a string. "
   ]
  },
  {
   "cell_type": "code",
   "execution_count": 21,
   "metadata": {},
   "outputs": [
    {
     "data": {
      "application/vnd.microsoft.datawrangler.viewer.v0+json": {
       "columns": [
        {
         "name": "index",
         "rawType": "int64",
         "type": "integer"
        },
        {
         "name": "Show Number",
         "rawType": "int64",
         "type": "integer"
        },
        {
         "name": "Air Date",
         "rawType": "datetime64[ns]",
         "type": "datetime"
        },
        {
         "name": "Round",
         "rawType": "object",
         "type": "string"
        },
        {
         "name": "Category",
         "rawType": "object",
         "type": "string"
        },
        {
         "name": "Value",
         "rawType": "object",
         "type": "string"
        },
        {
         "name": "Question",
         "rawType": "object",
         "type": "string"
        },
        {
         "name": "Answer",
         "rawType": "object",
         "type": "string"
        },
        {
         "name": "clean_question",
         "rawType": "object",
         "type": "string"
        },
        {
         "name": "clean_answer",
         "rawType": "object",
         "type": "string"
        },
        {
         "name": "clean_value",
         "rawType": "int64",
         "type": "integer"
        }
       ],
       "conversionMethod": "pd.DataFrame",
       "ref": "22f26a8d-8a3c-4860-91fc-2132ead41c8b",
       "rows": [
        [
         "208760",
         "2991",
         "1997-09-08 00:00:00",
         "Jeopardy!",
         "TRIBES",
         "$100",
         "The Havasupai have been living in a branch of this canyon for over 600 years",
         "Grand Canyon",
         "the havasupai have been living in a branch of this canyon for over 600 years",
         "grand canyon",
         "100"
        ],
        [
         "169314",
         "5428",
         "2008-03-26 00:00:00",
         "Jeopardy!",
         "HATS",
         "$600",
         "Movie choreographer Mr. Berkeley is on a first-name basis with this furry hat worn by hussars",
         "busby",
         "movie choreographer mr berkeley is on a firstname basis with this furry hat worn by hussars",
         "busby",
         "600"
        ],
        [
         "184359",
         "4323",
         "2003-05-21 00:00:00",
         "Jeopardy!",
         "SPEAKERS OF THE HOUSE",
         "$400",
         "Speakers from this state have included Joseph Cannon, Henry Rainey & Dennis Hastert",
         "Illinois",
         "speakers from this state have included joseph cannon henry rainey dennis hastert",
         "illinois",
         "400"
        ],
        [
         "4722",
         "5419",
         "2008-03-13 00:00:00",
         "Double Jeopardy!",
         "MAKING PIANOS AT STEINWAY",
         "$1200",
         "(<a href=\"http://www.j-archive.com/media/2008-03-13_DJ_28.jpg\" target=\"_blank\">Sarah delivers the clue from Steinway & Sons' showroom.</a>) Steinway models include a baby grand, a parlor grand, & this one, just in case you're Alfred Brendel",
         "concert grand",
         "a hrefhttpwwwjarchivecommedia20080313dj28jpg targetblanksarah delivers the clue from steinway sons showrooma steinway models include a baby grand a parlor grand this one just in case youre alfred brendel",
         "concert grand",
         "1200"
        ],
        [
         "1522",
         "5392",
         "2008-02-05 00:00:00",
         "Double Jeopardy!",
         "FUNNY FOR NOTHIN'",
         "$400",
         "On his first night taking over \"The Daily Show\", he informed us, \"Craig Kilborn is on assignment in Kuala Lumpur\"",
         "Jon Stewart",
         "on his first night taking over the daily show he informed us craig kilborn is on assignment in kuala lumpur",
         "jon stewart",
         "400"
        ],
        [
         "51934",
         "4895",
         "2005-12-16 00:00:00",
         "Double Jeopardy!",
         "BODIES OF WATER",
         "$1200",
         "The General Rafael Urdaneta Bridge spans the northern outlet of this lake at the Gulf of Venezuela",
         "(Lake) Maracaibo",
         "the general rafael urdaneta bridge spans the northern outlet of this lake at the gulf of venezuela",
         "lake maracaibo",
         "1200"
        ],
        [
         "34250",
         "3066",
         "1997-12-22 00:00:00",
         "Jeopardy!",
         "SONGS OF THE '60s",
         "$200",
         "Song including the lines \"You make my heart sing, you make everything groovy\"",
         "\"Wild Thing\"",
         "song including the lines you make my heart sing you make everything groovy",
         "wild thing",
         "200"
        ],
        [
         "20715",
         "2849",
         "1997-01-09 00:00:00",
         "Jeopardy!",
         "NOTABLE RELATIVES",
         "$100",
         "Supermodel & L'Oreal spokeswoman Hunter Reno is this attorney general's niece",
         "Janet Reno",
         "supermodel loreal spokeswoman hunter reno is this attorney generals niece",
         "janet reno",
         "100"
        ],
        [
         "164946",
         "2856",
         "1997-01-20 00:00:00",
         "Double Jeopardy!",
         "EDUCATORS",
         "$600",
         "When Tuskeegee opened its doors in 1881, he was the school's only teacher",
         "Booker T. Washington",
         "when tuskeegee opened its doors in 1881 he was the schools only teacher",
         "booker t washington",
         "600"
        ],
        [
         "163430",
         "4538",
         "2004-05-05 00:00:00",
         "Double Jeopardy!",
         "VOCABULARY TEST",
         "$2000",
         "Spelled differenty, it can be a daisy, or a baking ingredient",
         "flower",
         "spelled differenty it can be a daisy or a baking ingredient",
         "flower",
         "2000"
        ]
       ],
       "shape": {
        "columns": 10,
        "rows": 10
       }
      },
      "text/html": [
       "<div>\n",
       "<style scoped>\n",
       "    .dataframe tbody tr th:only-of-type {\n",
       "        vertical-align: middle;\n",
       "    }\n",
       "\n",
       "    .dataframe tbody tr th {\n",
       "        vertical-align: top;\n",
       "    }\n",
       "\n",
       "    .dataframe thead th {\n",
       "        text-align: right;\n",
       "    }\n",
       "</style>\n",
       "<table border=\"1\" class=\"dataframe\">\n",
       "  <thead>\n",
       "    <tr style=\"text-align: right;\">\n",
       "      <th></th>\n",
       "      <th>Show Number</th>\n",
       "      <th>Air Date</th>\n",
       "      <th>Round</th>\n",
       "      <th>Category</th>\n",
       "      <th>Value</th>\n",
       "      <th>Question</th>\n",
       "      <th>Answer</th>\n",
       "      <th>clean_question</th>\n",
       "      <th>clean_answer</th>\n",
       "      <th>clean_value</th>\n",
       "    </tr>\n",
       "  </thead>\n",
       "  <tbody>\n",
       "    <tr>\n",
       "      <th>208760</th>\n",
       "      <td>2991</td>\n",
       "      <td>1997-09-08</td>\n",
       "      <td>Jeopardy!</td>\n",
       "      <td>TRIBES</td>\n",
       "      <td>$100</td>\n",
       "      <td>The Havasupai have been living in a branch of ...</td>\n",
       "      <td>Grand Canyon</td>\n",
       "      <td>the havasupai have been living in a branch of ...</td>\n",
       "      <td>grand canyon</td>\n",
       "      <td>100</td>\n",
       "    </tr>\n",
       "    <tr>\n",
       "      <th>169314</th>\n",
       "      <td>5428</td>\n",
       "      <td>2008-03-26</td>\n",
       "      <td>Jeopardy!</td>\n",
       "      <td>HATS</td>\n",
       "      <td>$600</td>\n",
       "      <td>Movie choreographer Mr. Berkeley is on a first...</td>\n",
       "      <td>busby</td>\n",
       "      <td>movie choreographer mr berkeley is on a firstn...</td>\n",
       "      <td>busby</td>\n",
       "      <td>600</td>\n",
       "    </tr>\n",
       "    <tr>\n",
       "      <th>184359</th>\n",
       "      <td>4323</td>\n",
       "      <td>2003-05-21</td>\n",
       "      <td>Jeopardy!</td>\n",
       "      <td>SPEAKERS OF THE HOUSE</td>\n",
       "      <td>$400</td>\n",
       "      <td>Speakers from this state have included Joseph ...</td>\n",
       "      <td>Illinois</td>\n",
       "      <td>speakers from this state have included joseph ...</td>\n",
       "      <td>illinois</td>\n",
       "      <td>400</td>\n",
       "    </tr>\n",
       "    <tr>\n",
       "      <th>4722</th>\n",
       "      <td>5419</td>\n",
       "      <td>2008-03-13</td>\n",
       "      <td>Double Jeopardy!</td>\n",
       "      <td>MAKING PIANOS AT STEINWAY</td>\n",
       "      <td>$1200</td>\n",
       "      <td>(&lt;a href=\"http://www.j-archive.com/media/2008-...</td>\n",
       "      <td>concert grand</td>\n",
       "      <td>a hrefhttpwwwjarchivecommedia20080313dj28jpg t...</td>\n",
       "      <td>concert grand</td>\n",
       "      <td>1200</td>\n",
       "    </tr>\n",
       "    <tr>\n",
       "      <th>1522</th>\n",
       "      <td>5392</td>\n",
       "      <td>2008-02-05</td>\n",
       "      <td>Double Jeopardy!</td>\n",
       "      <td>FUNNY FOR NOTHIN'</td>\n",
       "      <td>$400</td>\n",
       "      <td>On his first night taking over \"The Daily Show...</td>\n",
       "      <td>Jon Stewart</td>\n",
       "      <td>on his first night taking over the daily show ...</td>\n",
       "      <td>jon stewart</td>\n",
       "      <td>400</td>\n",
       "    </tr>\n",
       "    <tr>\n",
       "      <th>51934</th>\n",
       "      <td>4895</td>\n",
       "      <td>2005-12-16</td>\n",
       "      <td>Double Jeopardy!</td>\n",
       "      <td>BODIES OF WATER</td>\n",
       "      <td>$1200</td>\n",
       "      <td>The General Rafael Urdaneta Bridge spans the n...</td>\n",
       "      <td>(Lake) Maracaibo</td>\n",
       "      <td>the general rafael urdaneta bridge spans the n...</td>\n",
       "      <td>lake maracaibo</td>\n",
       "      <td>1200</td>\n",
       "    </tr>\n",
       "    <tr>\n",
       "      <th>34250</th>\n",
       "      <td>3066</td>\n",
       "      <td>1997-12-22</td>\n",
       "      <td>Jeopardy!</td>\n",
       "      <td>SONGS OF THE '60s</td>\n",
       "      <td>$200</td>\n",
       "      <td>Song including the lines \"You make my heart si...</td>\n",
       "      <td>\"Wild Thing\"</td>\n",
       "      <td>song including the lines you make my heart sin...</td>\n",
       "      <td>wild thing</td>\n",
       "      <td>200</td>\n",
       "    </tr>\n",
       "    <tr>\n",
       "      <th>20715</th>\n",
       "      <td>2849</td>\n",
       "      <td>1997-01-09</td>\n",
       "      <td>Jeopardy!</td>\n",
       "      <td>NOTABLE RELATIVES</td>\n",
       "      <td>$100</td>\n",
       "      <td>Supermodel &amp; L'Oreal spokeswoman Hunter Reno i...</td>\n",
       "      <td>Janet Reno</td>\n",
       "      <td>supermodel loreal spokeswoman hunter reno is t...</td>\n",
       "      <td>janet reno</td>\n",
       "      <td>100</td>\n",
       "    </tr>\n",
       "    <tr>\n",
       "      <th>164946</th>\n",
       "      <td>2856</td>\n",
       "      <td>1997-01-20</td>\n",
       "      <td>Double Jeopardy!</td>\n",
       "      <td>EDUCATORS</td>\n",
       "      <td>$600</td>\n",
       "      <td>When Tuskeegee opened its doors in 1881, he wa...</td>\n",
       "      <td>Booker T. Washington</td>\n",
       "      <td>when tuskeegee opened its doors in 1881 he was...</td>\n",
       "      <td>booker t washington</td>\n",
       "      <td>600</td>\n",
       "    </tr>\n",
       "    <tr>\n",
       "      <th>163430</th>\n",
       "      <td>4538</td>\n",
       "      <td>2004-05-05</td>\n",
       "      <td>Double Jeopardy!</td>\n",
       "      <td>VOCABULARY TEST</td>\n",
       "      <td>$2000</td>\n",
       "      <td>Spelled differenty, it can be a daisy, or a ba...</td>\n",
       "      <td>flower</td>\n",
       "      <td>spelled differenty it can be a daisy or a baki...</td>\n",
       "      <td>flower</td>\n",
       "      <td>2000</td>\n",
       "    </tr>\n",
       "  </tbody>\n",
       "</table>\n",
       "</div>"
      ],
      "text/plain": [
       "        Show Number   Air Date             Round                   Category  \\\n",
       "208760         2991 1997-09-08         Jeopardy!                     TRIBES   \n",
       "169314         5428 2008-03-26         Jeopardy!                       HATS   \n",
       "184359         4323 2003-05-21         Jeopardy!      SPEAKERS OF THE HOUSE   \n",
       "4722           5419 2008-03-13  Double Jeopardy!  MAKING PIANOS AT STEINWAY   \n",
       "1522           5392 2008-02-05  Double Jeopardy!          FUNNY FOR NOTHIN'   \n",
       "51934          4895 2005-12-16  Double Jeopardy!            BODIES OF WATER   \n",
       "34250          3066 1997-12-22         Jeopardy!          SONGS OF THE '60s   \n",
       "20715          2849 1997-01-09         Jeopardy!          NOTABLE RELATIVES   \n",
       "164946         2856 1997-01-20  Double Jeopardy!                  EDUCATORS   \n",
       "163430         4538 2004-05-05  Double Jeopardy!            VOCABULARY TEST   \n",
       "\n",
       "        Value                                           Question  \\\n",
       "208760   $100  The Havasupai have been living in a branch of ...   \n",
       "169314   $600  Movie choreographer Mr. Berkeley is on a first...   \n",
       "184359   $400  Speakers from this state have included Joseph ...   \n",
       "4722    $1200  (<a href=\"http://www.j-archive.com/media/2008-...   \n",
       "1522     $400  On his first night taking over \"The Daily Show...   \n",
       "51934   $1200  The General Rafael Urdaneta Bridge spans the n...   \n",
       "34250    $200  Song including the lines \"You make my heart si...   \n",
       "20715    $100  Supermodel & L'Oreal spokeswoman Hunter Reno i...   \n",
       "164946   $600  When Tuskeegee opened its doors in 1881, he wa...   \n",
       "163430  $2000  Spelled differenty, it can be a daisy, or a ba...   \n",
       "\n",
       "                      Answer  \\\n",
       "208760          Grand Canyon   \n",
       "169314                 busby   \n",
       "184359              Illinois   \n",
       "4722           concert grand   \n",
       "1522             Jon Stewart   \n",
       "51934       (Lake) Maracaibo   \n",
       "34250           \"Wild Thing\"   \n",
       "20715             Janet Reno   \n",
       "164946  Booker T. Washington   \n",
       "163430                flower   \n",
       "\n",
       "                                           clean_question  \\\n",
       "208760  the havasupai have been living in a branch of ...   \n",
       "169314  movie choreographer mr berkeley is on a firstn...   \n",
       "184359  speakers from this state have included joseph ...   \n",
       "4722    a hrefhttpwwwjarchivecommedia20080313dj28jpg t...   \n",
       "1522    on his first night taking over the daily show ...   \n",
       "51934   the general rafael urdaneta bridge spans the n...   \n",
       "34250   song including the lines you make my heart sin...   \n",
       "20715   supermodel loreal spokeswoman hunter reno is t...   \n",
       "164946  when tuskeegee opened its doors in 1881 he was...   \n",
       "163430  spelled differenty it can be a daisy or a baki...   \n",
       "\n",
       "               clean_answer  clean_value  \n",
       "208760         grand canyon          100  \n",
       "169314                busby          600  \n",
       "184359             illinois          400  \n",
       "4722          concert grand         1200  \n",
       "1522            jon stewart          400  \n",
       "51934        lake maracaibo         1200  \n",
       "34250            wild thing          200  \n",
       "20715            janet reno          100  \n",
       "164946  booker t washington          600  \n",
       "163430               flower         2000  "
      ]
     },
     "execution_count": 21,
     "metadata": {},
     "output_type": "execute_result"
    }
   ],
   "source": [
    "jeopardy['Air Date'] = pd.to_datetime(jeopardy['Air Date'])\n",
    "jeopardy.sample(10)"
   ]
  },
  {
   "cell_type": "markdown",
   "metadata": {},
   "source": [
    "## **Analysis**"
   ]
  },
  {
   "cell_type": "code",
   "execution_count": 22,
   "metadata": {},
   "outputs": [
    {
     "data": {
      "application/vnd.microsoft.datawrangler.viewer.v0+json": {
       "columns": [
        {
         "name": "index",
         "rawType": "int64",
         "type": "integer"
        },
        {
         "name": "clean_question",
         "rawType": "object",
         "type": "string"
        },
        {
         "name": "clean_answer",
         "rawType": "object",
         "type": "string"
        },
        {
         "name": "clean_value",
         "rawType": "int64",
         "type": "integer"
        }
       ],
       "conversionMethod": "pd.DataFrame",
       "ref": "b343d533-c4be-4b9a-9ee1-033c43be54f0",
       "rows": [
        [
         "0",
         "for the last 8 years of his life galileo was under house arrest for espousing this mans theory",
         "copernicus",
         "200"
        ],
        [
         "1",
         "no 2 1912 olympian football star at carlisle indian school 6 mlb seasons with the reds giants braves",
         "jim thorpe",
         "200"
        ],
        [
         "2",
         "the city of yuma in this state has a record average of 4055 hours of sunshine each year",
         "arizona",
         "200"
        ],
        [
         "3",
         "in 1963 live on the art linkletter show this company served its billionth burger",
         "mcdonalds",
         "200"
        ],
        [
         "4",
         "signer of the dec of indep framer of the constitution of mass second president of the united states",
         "john adams",
         "200"
        ],
        [
         "5",
         "in the title of an aesop fable this insect shared billing with a grasshopper",
         "the ant",
         "200"
        ],
        [
         "6",
         "built in 312 bc to link rome the south of italy its still in use today",
         "the appian way",
         "400"
        ],
        [
         "7",
         "no 8 30 steals for the birmingham barons 2306 steals for the bulls",
         "michael jordan",
         "400"
        ],
        [
         "8",
         "in the winter of 197172 a record 1122 inches of snow fell at rainier paradise ranger station in this state",
         "washington",
         "400"
        ],
        [
         "9",
         "this housewares store was named for the packaging its merchandise came in was first displayed on",
         "crate barrel",
         "400"
        ],
        [
         "10",
         "and away we go",
         "jackie gleason",
         "400"
        ],
        [
         "11",
         "cows regurgitate this from the first stomach to the mouth chew it again",
         "the cud",
         "400"
        ],
        [
         "12",
         "in 1000 rajaraja i of the cholas battled to take this indian ocean island now known for its tea",
         "ceylon or sri lanka",
         "600"
        ],
        [
         "13",
         "no 1 lettered in hoops football lacrosse at syracuse if you think he couldnt act ask his 11 unclean buddies",
         "jim brown",
         "600"
        ],
        [
         "14",
         "on june 28 1994 the natl weather service began issuing this index that rates the intensity of the suns radiation",
         "the uv index",
         "600"
        ],
        [
         "15",
         "this companys accutron watch introduced in 1960 had a guarantee of accuracy to within one minute a month",
         "bulova",
         "600"
        ],
        [
         "16",
         "outlaw murdered by a traitor and a coward whose name is not worthy to appear here",
         "jesse james",
         "600"
        ],
        [
         "17",
         "a small demon or a mischievous child who might be a little demon",
         "imp",
         "600"
        ],
        [
         "18",
         "karl led the first of these marxist organizational efforts the second one began in 1889",
         "the international",
         "800"
        ],
        [
         "19",
         "no 10 fblb for columbia u in the 1920s mvp for the yankees in 27 36 gibraltar in cleats",
         "lou gehrig",
         "800"
        ],
        [
         "20",
         "africas lowest temperature was 11 degrees below zero in 1935 at ifrane just south of fez in this country",
         "morocco",
         "800"
        ],
        [
         "21",
         "edward teller this man partnered in 1898 to sell high fashions to women",
         "paul bonwit",
         "800"
        ],
        [
         "22",
         "1939 oscar winner you are a credit to your craft your race and to your family",
         "hattie mcdaniel for her role in gone with the wind",
         "2000"
        ],
        [
         "23",
         "in geologic time one of these shorter than an eon is divided into periods subdivided into epochs",
         "era",
         "800"
        ],
        [
         "24",
         "this asian political party was founded in 1885 with indian national as part of its name",
         "the congress party",
         "1000"
        ],
        [
         "25",
         "no 5 only center to lead the nba in assists track scholarship to kansas u marathoner volleyballer",
         "wilt chamberlain",
         "1000"
        ],
        [
         "26",
         "the kirschner brothers don bill named this ski company for themselves the secondhighest mountain",
         "k2",
         "1000"
        ],
        [
         "27",
         "revolutionary war hero his spirit is in vermont now",
         "ethan allen",
         "1000"
        ],
        [
         "28",
         "a single layer of paper or to perform ones craft diligently",
         "ply",
         "1000"
        ],
        [
         "29",
         "a hrefhttpwwwjarchivecommedia20041231dj23mp3beyond ovoid abandonment beyond ovoid betrayal you wont believe the ending when he hatches the egga",
         "horton",
         "400"
        ],
        [
         "30",
         "california",
         "nixon",
         "400"
        ],
        [
         "31",
         "it can be a place to leave your puppy when you take a trip or a carrier for him that fits under an airplane seat",
         "a kennel",
         "400"
        ],
        [
         "32",
         "hes considered the author of the pentateuch which is hard to believe as deuteronomy continues after his death",
         "moses",
         "400"
        ],
        [
         "33",
         "steven tyler of this band lent his steamin vocals to train kept arollin first popularized by the yardbirds",
         "aerosmith",
         "400"
        ],
        [
         "34",
         "around 100 ad tacitus wrote a book on how this art of persuasive speaking had declined since cicero",
         "oratory",
         "400"
        ],
        [
         "35",
         "1 of the 2 born in vermont",
         "coolidge or chester arthur",
         "800"
        ],
        [
         "36",
         "when it began on pan am qantas in the late 70s it was basically a ropedoff part of the economy cabin with free drinks",
         "business class",
         "800"
        ],
        [
         "37",
         "ali who married this mans daughter fatima is considered by shia muslims to be his true successor",
         "muhammed",
         "800"
        ],
        [
         "38",
         "during the 19541955 sun sessions elvis climbed aboard this train sixteen coaches long",
         "the mystery train",
         "800"
        ],
        [
         "39",
         "the shorter glass seen a hrefhttpwwwjarchivecommedia20041231dj12jpg targetblankherea or a quaint cocktail made with sugar bitters",
         "an oldfashioned",
         "800"
        ],
        [
         "40",
         "a hrefhttpwwwjarchivecommedia20041231dj26mp3ripped from todays headlines he was a turtle king gone mad mack was the one good turtle whod bring him downa",
         "yertle",
         "1200"
        ],
        [
         "41",
         "in 2003 this airline agreed to buy klm creating europes largest airline",
         "air france",
         "2000"
        ],
        [
         "42",
         "philadelphia got its start as a colony for this religious group of which william penn was a member",
         "the quakers",
         "1200"
        ],
        [
         "43",
         "this modern girl first hit the billboard top 10 with morning train nine to five",
         "sheena easton",
         "1200"
        ],
        [
         "44",
         "this stiff silken fabric is favored for bridal gowns like christina applegates in 2001",
         "organza",
         "1200"
        ],
        [
         "45",
         "a hrefhttpwwwjarchivecommedia20041231dj25mp3somewhere between truth fiction lies marcos reality on halloween you wont believe you saw it on this sta",
         "mulberry street",
         "1600"
        ],
        [
         "46",
         "in 2004 united launched this new service that features low fares more seats per plane",
         "ted",
         "1600"
        ],
        [
         "47",
         "with mary is accession in 1553 he ran to geneva he returned in 1559 reformed the church of scotland",
         "john knox",
         "1600"
        ],
        [
         "48",
         "this bands train in vain was a hidden track on its original 1979 london calling album",
         "the clash",
         "1600"
        ],
        [
         "49",
         "crosscountry skiing is sometimes referred to by these 2 letters the same ones used to denote 90 in roman numerals",
         "xc",
         "1600"
        ]
       ],
       "shape": {
        "columns": 3,
        "rows": 213293
       }
      },
      "text/html": [
       "<div>\n",
       "<style scoped>\n",
       "    .dataframe tbody tr th:only-of-type {\n",
       "        vertical-align: middle;\n",
       "    }\n",
       "\n",
       "    .dataframe tbody tr th {\n",
       "        vertical-align: top;\n",
       "    }\n",
       "\n",
       "    .dataframe thead th {\n",
       "        text-align: right;\n",
       "    }\n",
       "</style>\n",
       "<table border=\"1\" class=\"dataframe\">\n",
       "  <thead>\n",
       "    <tr style=\"text-align: right;\">\n",
       "      <th></th>\n",
       "      <th>clean_question</th>\n",
       "      <th>clean_answer</th>\n",
       "      <th>clean_value</th>\n",
       "    </tr>\n",
       "  </thead>\n",
       "  <tbody>\n",
       "    <tr>\n",
       "      <th>0</th>\n",
       "      <td>for the last 8 years of his life galileo was u...</td>\n",
       "      <td>copernicus</td>\n",
       "      <td>200</td>\n",
       "    </tr>\n",
       "    <tr>\n",
       "      <th>1</th>\n",
       "      <td>no 2 1912 olympian football star at carlisle i...</td>\n",
       "      <td>jim thorpe</td>\n",
       "      <td>200</td>\n",
       "    </tr>\n",
       "    <tr>\n",
       "      <th>2</th>\n",
       "      <td>the city of yuma in this state has a record av...</td>\n",
       "      <td>arizona</td>\n",
       "      <td>200</td>\n",
       "    </tr>\n",
       "    <tr>\n",
       "      <th>3</th>\n",
       "      <td>in 1963 live on the art linkletter show this c...</td>\n",
       "      <td>mcdonalds</td>\n",
       "      <td>200</td>\n",
       "    </tr>\n",
       "    <tr>\n",
       "      <th>4</th>\n",
       "      <td>signer of the dec of indep framer of the const...</td>\n",
       "      <td>john adams</td>\n",
       "      <td>200</td>\n",
       "    </tr>\n",
       "    <tr>\n",
       "      <th>...</th>\n",
       "      <td>...</td>\n",
       "      <td>...</td>\n",
       "      <td>...</td>\n",
       "    </tr>\n",
       "    <tr>\n",
       "      <th>216924</th>\n",
       "      <td>in 2006 the cast of this longrunning hit embar...</td>\n",
       "      <td>stomp</td>\n",
       "      <td>2000</td>\n",
       "    </tr>\n",
       "    <tr>\n",
       "      <th>216925</th>\n",
       "      <td>this puccini opera turns on the solution to 3 ...</td>\n",
       "      <td>turandot</td>\n",
       "      <td>2000</td>\n",
       "    </tr>\n",
       "    <tr>\n",
       "      <th>216926</th>\n",
       "      <td>in north america this term is properly applied...</td>\n",
       "      <td>a titmouse</td>\n",
       "      <td>2000</td>\n",
       "    </tr>\n",
       "    <tr>\n",
       "      <th>216927</th>\n",
       "      <td>in penny lane where this hellraiser grew up th...</td>\n",
       "      <td>clive barker</td>\n",
       "      <td>2000</td>\n",
       "    </tr>\n",
       "    <tr>\n",
       "      <th>216928</th>\n",
       "      <td>from ft sill okla he made the plea arizona is ...</td>\n",
       "      <td>geronimo</td>\n",
       "      <td>2000</td>\n",
       "    </tr>\n",
       "  </tbody>\n",
       "</table>\n",
       "<p>213293 rows × 3 columns</p>\n",
       "</div>"
      ],
      "text/plain": [
       "                                           clean_question  clean_answer  \\\n",
       "0       for the last 8 years of his life galileo was u...    copernicus   \n",
       "1       no 2 1912 olympian football star at carlisle i...    jim thorpe   \n",
       "2       the city of yuma in this state has a record av...       arizona   \n",
       "3       in 1963 live on the art linkletter show this c...     mcdonalds   \n",
       "4       signer of the dec of indep framer of the const...    john adams   \n",
       "...                                                   ...           ...   \n",
       "216924  in 2006 the cast of this longrunning hit embar...         stomp   \n",
       "216925  this puccini opera turns on the solution to 3 ...      turandot   \n",
       "216926  in north america this term is properly applied...    a titmouse   \n",
       "216927  in penny lane where this hellraiser grew up th...  clive barker   \n",
       "216928  from ft sill okla he made the plea arizona is ...      geronimo   \n",
       "\n",
       "        clean_value  \n",
       "0               200  \n",
       "1               200  \n",
       "2               200  \n",
       "3               200  \n",
       "4               200  \n",
       "...             ...  \n",
       "216924         2000  \n",
       "216925         2000  \n",
       "216926         2000  \n",
       "216927         2000  \n",
       "216928         2000  \n",
       "\n",
       "[213293 rows x 3 columns]"
      ]
     },
     "execution_count": 22,
     "metadata": {},
     "output_type": "execute_result"
    }
   ],
   "source": [
    "jeopardy.iloc[:, 7:]"
   ]
  },
  {
   "cell_type": "markdown",
   "metadata": {},
   "source": [
    "In order to figure out whether to study past questions, study general knowledge, or not study it all, it would be helpful to figure out two things:\n",
    "\n",
    "* How often the answer can be used for a question\n",
    "* How often questions are repeated\n",
    "\n",
    "We can answer the first question by seeing how many times words in the answer also occur in the question. We can answer the second question by seeing how often complex words (> 6 characters) reoccur.\n",
    "\n",
    "We'll start by tackling the first question."
   ]
  },
  {
   "cell_type": "markdown",
   "metadata": {},
   "source": [
    "### 1. How often the answer can be used for a question."
   ]
  },
  {
   "cell_type": "code",
   "execution_count": 23,
   "metadata": {},
   "outputs": [
    {
     "data": {
      "application/vnd.microsoft.datawrangler.viewer.v0+json": {
       "columns": [
        {
         "name": "index",
         "rawType": "int64",
         "type": "integer"
        },
        {
         "name": "Show Number",
         "rawType": "int64",
         "type": "integer"
        },
        {
         "name": "Air Date",
         "rawType": "datetime64[ns]",
         "type": "datetime"
        },
        {
         "name": "Round",
         "rawType": "object",
         "type": "string"
        },
        {
         "name": "Category",
         "rawType": "object",
         "type": "string"
        },
        {
         "name": "Value",
         "rawType": "object",
         "type": "string"
        },
        {
         "name": "Question",
         "rawType": "object",
         "type": "string"
        },
        {
         "name": "Answer",
         "rawType": "object",
         "type": "string"
        },
        {
         "name": "clean_question",
         "rawType": "object",
         "type": "string"
        },
        {
         "name": "clean_answer",
         "rawType": "object",
         "type": "string"
        },
        {
         "name": "clean_value",
         "rawType": "int64",
         "type": "integer"
        },
        {
         "name": "answer_in_question",
         "rawType": "float64",
         "type": "float"
        }
       ],
       "conversionMethod": "pd.DataFrame",
       "ref": "841b538b-1c94-4299-a566-ce8ce6538987",
       "rows": [
        [
         "132990",
         "3891",
         "2001-07-02 00:00:00",
         "Jeopardy!",
         "PLANTS & TREES",
         "$500",
         "Each autumn the Japanese celebrate the feast of this flower",
         "the chrysanthemum",
         "each autumn the japanese celebrate the feast of this flower",
         "the chrysanthemum",
         "500",
         "0.0"
        ],
        [
         "35227",
         "6189",
         "2011-07-07 00:00:00",
         "Double Jeopardy!",
         "THE LIBERTY BELL RANG...",
         "$400",
         "On July 8, 1776 to announce the first public reading of this",
         "the Declaration of Independance",
         "on july 8 1776 to announce the first public reading of this",
         "the declaration of independance",
         "400",
         "0.33"
        ],
        [
         "126831",
         "4453",
         "2004-01-07 00:00:00",
         "Double Jeopardy!",
         "LEANN RHYMES?",
         "$2000",
         "\"Borstal Boy\" is the autobiography of this Irish author named Brendan",
         "Behan",
         "borstal boy is the autobiography of this irish author named brendan",
         "behan",
         "2000",
         "0.0"
        ],
        [
         "99966",
         "3364",
         "1999-04-01 00:00:00",
         "Double Jeopardy!",
         "SPORTS",
         "$600",
         "The logo of this city's NHL team is a winged car tire",
         "Detroit Red Wings",
         "the logo of this citys nhl team is a winged car tire",
         "detroit red wings",
         "600",
         "0.0"
        ],
        [
         "38868",
         "3386",
         "1999-05-03 00:00:00",
         "Jeopardy!",
         "PARENTS ARE PEOPLE TOO",
         "$500",
         "This term for a right that divorcing parents may fight over comes from Latin for \"guardian\"",
         "Custody",
         "this term for a right that divorcing parents may fight over comes from latin for guardian",
         "custody",
         "500",
         "0.0"
        ],
        [
         "183415",
         "3099",
         "1998-02-05 00:00:00",
         "Jeopardy!",
         "MOVIE VICTIMS",
         "$300",
         "In 1996 he co-starred as the customer victimized by \"Cable Guy\" Jim Carrey",
         "Matthew Broderick",
         "in 1996 he costarred as the customer victimized by cable guy jim carrey",
         "matthew broderick",
         "300",
         "0.0"
        ],
        [
         "14758",
         "4628",
         "2004-10-20 00:00:00",
         "Double Jeopardy!",
         "GEOGRAPHY \"B\"",
         "$400",
         "In Europe, the beautiful blue Danube eventually empties into this sea of another color",
         "the Black Sea",
         "in europe the beautiful blue danube eventually empties into this sea of another color",
         "the black sea",
         "400",
         "0.5"
        ],
        [
         "130623",
         "4526",
         "2004-04-19 00:00:00",
         "Jeopardy!",
         "MOVIE PHONE",
         "$400",
         "She played squeaky clean Jan, who shared a party line with playboy Rock Hudson in \"Pillow Talk\"",
         "Doris Day",
         "she played squeaky clean jan who shared a party line with playboy rock hudson in pillow talk",
         "doris day",
         "400",
         "0.0"
        ],
        [
         "69797",
         "5820",
         "2009-12-25 00:00:00",
         "Double Jeopardy!",
         "PRESIDENTS AT REST",
         "$800",
         "At his Presidential Library in Simi Valley, California",
         "Reagan",
         "at his presidential library in simi valley california",
         "reagan",
         "800",
         "0.0"
        ],
        [
         "203444",
         "4800",
         "2005-06-17 00:00:00",
         "Jeopardy!",
         "PACKAGING",
         "$600",
         "Whitman's was the 1st company to put a guide on the inside lid of this type of package to which Mr. Gump compared life",
         "(a box of) chocolates",
         "whitmans was the 1st company to put a guide on the inside lid of this type of package to which mr gump compared life",
         "a box of chocolates",
         "600",
         "0.5"
        ],
        [
         "106605",
         "3116",
         "1998-03-02 00:00:00",
         "Double Jeopardy!",
         "GIRL TALK",
         "$1000",
         "In \"Out on a Limb\" this actress mused, \"Perhaps our belief in death was the gravest unreality of all\"",
         "Shirley MacLaine",
         "in out on a limb this actress mused perhaps our belief in death was the gravest unreality of all",
         "shirley maclaine",
         "1000",
         "0.0"
        ],
        [
         "67514",
         "3264",
         "1998-11-12 00:00:00",
         "Jeopardy!",
         "CASTLES",
         "$400",
         "You can see the royal crown of Scotland in a castle in this Scottish city, but you can't try it on",
         "Edinburgh",
         "you can see the royal crown of scotland in a castle in this scottish city but you cant try it on",
         "edinburgh",
         "400",
         "0.0"
        ],
        [
         "65395",
         "2900",
         "1997-03-21 00:00:00",
         "Double Jeopardy!",
         "FAMOUS PAIRS",
         "$600",
         "Born of Chinese parents in 1811, they died in 1874, having literally lived their whole lives together",
         "Chang & Eng Bunker (Siamese twins)",
         "born of chinese parents in 1811 they died in 1874 having literally lived their whole lives together",
         "chang eng bunker siamese twins",
         "600",
         "0.0"
        ],
        [
         "204641",
         "5533",
         "2008-10-01 00:00:00",
         "Jeopardy!",
         "HAPPY 50th NASA",
         "$800",
         "Named for this rocketry pioneer, NASA's first space flight center was set up when NASA was 1",
         "(Robert) Goddard",
         "named for this rocketry pioneer nasas first space flight center was set up when nasa was 1",
         "robert goddard",
         "800",
         "0.0"
        ],
        [
         "181628",
         "5140",
         "2007-01-05 00:00:00",
         "Jeopardy!",
         "LITERARY OPENINGS",
         "$800",
         "\"It was a bright cold day in April, and the clocks were striking thirteen\"",
         "1984",
         "it was a bright cold day in april and the clocks were striking thirteen",
         "1984",
         "800",
         "0.0"
        ]
       ],
       "shape": {
        "columns": 11,
        "rows": 15
       }
      },
      "text/html": [
       "<div>\n",
       "<style scoped>\n",
       "    .dataframe tbody tr th:only-of-type {\n",
       "        vertical-align: middle;\n",
       "    }\n",
       "\n",
       "    .dataframe tbody tr th {\n",
       "        vertical-align: top;\n",
       "    }\n",
       "\n",
       "    .dataframe thead th {\n",
       "        text-align: right;\n",
       "    }\n",
       "</style>\n",
       "<table border=\"1\" class=\"dataframe\">\n",
       "  <thead>\n",
       "    <tr style=\"text-align: right;\">\n",
       "      <th></th>\n",
       "      <th>Show Number</th>\n",
       "      <th>Air Date</th>\n",
       "      <th>Round</th>\n",
       "      <th>Category</th>\n",
       "      <th>Value</th>\n",
       "      <th>Question</th>\n",
       "      <th>Answer</th>\n",
       "      <th>clean_question</th>\n",
       "      <th>clean_answer</th>\n",
       "      <th>clean_value</th>\n",
       "      <th>answer_in_question</th>\n",
       "    </tr>\n",
       "  </thead>\n",
       "  <tbody>\n",
       "    <tr>\n",
       "      <th>132990</th>\n",
       "      <td>3891</td>\n",
       "      <td>2001-07-02</td>\n",
       "      <td>Jeopardy!</td>\n",
       "      <td>PLANTS &amp; TREES</td>\n",
       "      <td>$500</td>\n",
       "      <td>Each autumn the Japanese celebrate the feast o...</td>\n",
       "      <td>the chrysanthemum</td>\n",
       "      <td>each autumn the japanese celebrate the feast o...</td>\n",
       "      <td>the chrysanthemum</td>\n",
       "      <td>500</td>\n",
       "      <td>0.00</td>\n",
       "    </tr>\n",
       "    <tr>\n",
       "      <th>35227</th>\n",
       "      <td>6189</td>\n",
       "      <td>2011-07-07</td>\n",
       "      <td>Double Jeopardy!</td>\n",
       "      <td>THE LIBERTY BELL RANG...</td>\n",
       "      <td>$400</td>\n",
       "      <td>On July 8, 1776 to announce the first public r...</td>\n",
       "      <td>the Declaration of Independance</td>\n",
       "      <td>on july 8 1776 to announce the first public re...</td>\n",
       "      <td>the declaration of independance</td>\n",
       "      <td>400</td>\n",
       "      <td>0.33</td>\n",
       "    </tr>\n",
       "    <tr>\n",
       "      <th>126831</th>\n",
       "      <td>4453</td>\n",
       "      <td>2004-01-07</td>\n",
       "      <td>Double Jeopardy!</td>\n",
       "      <td>LEANN RHYMES?</td>\n",
       "      <td>$2000</td>\n",
       "      <td>\"Borstal Boy\" is the autobiography of this Iri...</td>\n",
       "      <td>Behan</td>\n",
       "      <td>borstal boy is the autobiography of this irish...</td>\n",
       "      <td>behan</td>\n",
       "      <td>2000</td>\n",
       "      <td>0.00</td>\n",
       "    </tr>\n",
       "    <tr>\n",
       "      <th>99966</th>\n",
       "      <td>3364</td>\n",
       "      <td>1999-04-01</td>\n",
       "      <td>Double Jeopardy!</td>\n",
       "      <td>SPORTS</td>\n",
       "      <td>$600</td>\n",
       "      <td>The logo of this city's NHL team is a winged c...</td>\n",
       "      <td>Detroit Red Wings</td>\n",
       "      <td>the logo of this citys nhl team is a winged ca...</td>\n",
       "      <td>detroit red wings</td>\n",
       "      <td>600</td>\n",
       "      <td>0.00</td>\n",
       "    </tr>\n",
       "    <tr>\n",
       "      <th>38868</th>\n",
       "      <td>3386</td>\n",
       "      <td>1999-05-03</td>\n",
       "      <td>Jeopardy!</td>\n",
       "      <td>PARENTS ARE PEOPLE TOO</td>\n",
       "      <td>$500</td>\n",
       "      <td>This term for a right that divorcing parents m...</td>\n",
       "      <td>Custody</td>\n",
       "      <td>this term for a right that divorcing parents m...</td>\n",
       "      <td>custody</td>\n",
       "      <td>500</td>\n",
       "      <td>0.00</td>\n",
       "    </tr>\n",
       "    <tr>\n",
       "      <th>183415</th>\n",
       "      <td>3099</td>\n",
       "      <td>1998-02-05</td>\n",
       "      <td>Jeopardy!</td>\n",
       "      <td>MOVIE VICTIMS</td>\n",
       "      <td>$300</td>\n",
       "      <td>In 1996 he co-starred as the customer victimiz...</td>\n",
       "      <td>Matthew Broderick</td>\n",
       "      <td>in 1996 he costarred as the customer victimize...</td>\n",
       "      <td>matthew broderick</td>\n",
       "      <td>300</td>\n",
       "      <td>0.00</td>\n",
       "    </tr>\n",
       "    <tr>\n",
       "      <th>14758</th>\n",
       "      <td>4628</td>\n",
       "      <td>2004-10-20</td>\n",
       "      <td>Double Jeopardy!</td>\n",
       "      <td>GEOGRAPHY \"B\"</td>\n",
       "      <td>$400</td>\n",
       "      <td>In Europe, the beautiful blue Danube eventuall...</td>\n",
       "      <td>the Black Sea</td>\n",
       "      <td>in europe the beautiful blue danube eventually...</td>\n",
       "      <td>the black sea</td>\n",
       "      <td>400</td>\n",
       "      <td>0.50</td>\n",
       "    </tr>\n",
       "    <tr>\n",
       "      <th>130623</th>\n",
       "      <td>4526</td>\n",
       "      <td>2004-04-19</td>\n",
       "      <td>Jeopardy!</td>\n",
       "      <td>MOVIE PHONE</td>\n",
       "      <td>$400</td>\n",
       "      <td>She played squeaky clean Jan, who shared a par...</td>\n",
       "      <td>Doris Day</td>\n",
       "      <td>she played squeaky clean jan who shared a part...</td>\n",
       "      <td>doris day</td>\n",
       "      <td>400</td>\n",
       "      <td>0.00</td>\n",
       "    </tr>\n",
       "    <tr>\n",
       "      <th>69797</th>\n",
       "      <td>5820</td>\n",
       "      <td>2009-12-25</td>\n",
       "      <td>Double Jeopardy!</td>\n",
       "      <td>PRESIDENTS AT REST</td>\n",
       "      <td>$800</td>\n",
       "      <td>At his Presidential Library in Simi Valley, Ca...</td>\n",
       "      <td>Reagan</td>\n",
       "      <td>at his presidential library in simi valley cal...</td>\n",
       "      <td>reagan</td>\n",
       "      <td>800</td>\n",
       "      <td>0.00</td>\n",
       "    </tr>\n",
       "    <tr>\n",
       "      <th>203444</th>\n",
       "      <td>4800</td>\n",
       "      <td>2005-06-17</td>\n",
       "      <td>Jeopardy!</td>\n",
       "      <td>PACKAGING</td>\n",
       "      <td>$600</td>\n",
       "      <td>Whitman's was the 1st company to put a guide o...</td>\n",
       "      <td>(a box of) chocolates</td>\n",
       "      <td>whitmans was the 1st company to put a guide on...</td>\n",
       "      <td>a box of chocolates</td>\n",
       "      <td>600</td>\n",
       "      <td>0.50</td>\n",
       "    </tr>\n",
       "    <tr>\n",
       "      <th>106605</th>\n",
       "      <td>3116</td>\n",
       "      <td>1998-03-02</td>\n",
       "      <td>Double Jeopardy!</td>\n",
       "      <td>GIRL TALK</td>\n",
       "      <td>$1000</td>\n",
       "      <td>In \"Out on a Limb\" this actress mused, \"Perhap...</td>\n",
       "      <td>Shirley MacLaine</td>\n",
       "      <td>in out on a limb this actress mused perhaps ou...</td>\n",
       "      <td>shirley maclaine</td>\n",
       "      <td>1000</td>\n",
       "      <td>0.00</td>\n",
       "    </tr>\n",
       "    <tr>\n",
       "      <th>67514</th>\n",
       "      <td>3264</td>\n",
       "      <td>1998-11-12</td>\n",
       "      <td>Jeopardy!</td>\n",
       "      <td>CASTLES</td>\n",
       "      <td>$400</td>\n",
       "      <td>You can see the royal crown of Scotland in a c...</td>\n",
       "      <td>Edinburgh</td>\n",
       "      <td>you can see the royal crown of scotland in a c...</td>\n",
       "      <td>edinburgh</td>\n",
       "      <td>400</td>\n",
       "      <td>0.00</td>\n",
       "    </tr>\n",
       "    <tr>\n",
       "      <th>65395</th>\n",
       "      <td>2900</td>\n",
       "      <td>1997-03-21</td>\n",
       "      <td>Double Jeopardy!</td>\n",
       "      <td>FAMOUS PAIRS</td>\n",
       "      <td>$600</td>\n",
       "      <td>Born of Chinese parents in 1811, they died in ...</td>\n",
       "      <td>Chang &amp; Eng Bunker (Siamese twins)</td>\n",
       "      <td>born of chinese parents in 1811 they died in 1...</td>\n",
       "      <td>chang eng bunker siamese twins</td>\n",
       "      <td>600</td>\n",
       "      <td>0.00</td>\n",
       "    </tr>\n",
       "    <tr>\n",
       "      <th>204641</th>\n",
       "      <td>5533</td>\n",
       "      <td>2008-10-01</td>\n",
       "      <td>Jeopardy!</td>\n",
       "      <td>HAPPY 50th NASA</td>\n",
       "      <td>$800</td>\n",
       "      <td>Named for this rocketry pioneer, NASA's first ...</td>\n",
       "      <td>(Robert) Goddard</td>\n",
       "      <td>named for this rocketry pioneer nasas first sp...</td>\n",
       "      <td>robert goddard</td>\n",
       "      <td>800</td>\n",
       "      <td>0.00</td>\n",
       "    </tr>\n",
       "    <tr>\n",
       "      <th>181628</th>\n",
       "      <td>5140</td>\n",
       "      <td>2007-01-05</td>\n",
       "      <td>Jeopardy!</td>\n",
       "      <td>LITERARY OPENINGS</td>\n",
       "      <td>$800</td>\n",
       "      <td>\"It was a bright cold day in April, and the cl...</td>\n",
       "      <td>1984</td>\n",
       "      <td>it was a bright cold day in april and the cloc...</td>\n",
       "      <td>1984</td>\n",
       "      <td>800</td>\n",
       "      <td>0.00</td>\n",
       "    </tr>\n",
       "  </tbody>\n",
       "</table>\n",
       "</div>"
      ],
      "text/plain": [
       "        Show Number   Air Date             Round                  Category  \\\n",
       "132990         3891 2001-07-02         Jeopardy!            PLANTS & TREES   \n",
       "35227          6189 2011-07-07  Double Jeopardy!  THE LIBERTY BELL RANG...   \n",
       "126831         4453 2004-01-07  Double Jeopardy!             LEANN RHYMES?   \n",
       "99966          3364 1999-04-01  Double Jeopardy!                    SPORTS   \n",
       "38868          3386 1999-05-03         Jeopardy!    PARENTS ARE PEOPLE TOO   \n",
       "183415         3099 1998-02-05         Jeopardy!             MOVIE VICTIMS   \n",
       "14758          4628 2004-10-20  Double Jeopardy!             GEOGRAPHY \"B\"   \n",
       "130623         4526 2004-04-19         Jeopardy!               MOVIE PHONE   \n",
       "69797          5820 2009-12-25  Double Jeopardy!        PRESIDENTS AT REST   \n",
       "203444         4800 2005-06-17         Jeopardy!                 PACKAGING   \n",
       "106605         3116 1998-03-02  Double Jeopardy!                 GIRL TALK   \n",
       "67514          3264 1998-11-12         Jeopardy!                   CASTLES   \n",
       "65395          2900 1997-03-21  Double Jeopardy!              FAMOUS PAIRS   \n",
       "204641         5533 2008-10-01         Jeopardy!           HAPPY 50th NASA   \n",
       "181628         5140 2007-01-05         Jeopardy!         LITERARY OPENINGS   \n",
       "\n",
       "        Value                                           Question  \\\n",
       "132990   $500  Each autumn the Japanese celebrate the feast o...   \n",
       "35227    $400  On July 8, 1776 to announce the first public r...   \n",
       "126831  $2000  \"Borstal Boy\" is the autobiography of this Iri...   \n",
       "99966    $600  The logo of this city's NHL team is a winged c...   \n",
       "38868    $500  This term for a right that divorcing parents m...   \n",
       "183415   $300  In 1996 he co-starred as the customer victimiz...   \n",
       "14758    $400  In Europe, the beautiful blue Danube eventuall...   \n",
       "130623   $400  She played squeaky clean Jan, who shared a par...   \n",
       "69797    $800  At his Presidential Library in Simi Valley, Ca...   \n",
       "203444   $600  Whitman's was the 1st company to put a guide o...   \n",
       "106605  $1000  In \"Out on a Limb\" this actress mused, \"Perhap...   \n",
       "67514    $400  You can see the royal crown of Scotland in a c...   \n",
       "65395    $600  Born of Chinese parents in 1811, they died in ...   \n",
       "204641   $800  Named for this rocketry pioneer, NASA's first ...   \n",
       "181628   $800  \"It was a bright cold day in April, and the cl...   \n",
       "\n",
       "                                    Answer  \\\n",
       "132990                   the chrysanthemum   \n",
       "35227      the Declaration of Independance   \n",
       "126831                               Behan   \n",
       "99966                    Detroit Red Wings   \n",
       "38868                              Custody   \n",
       "183415                   Matthew Broderick   \n",
       "14758                        the Black Sea   \n",
       "130623                           Doris Day   \n",
       "69797                               Reagan   \n",
       "203444               (a box of) chocolates   \n",
       "106605                    Shirley MacLaine   \n",
       "67514                            Edinburgh   \n",
       "65395   Chang & Eng Bunker (Siamese twins)   \n",
       "204641                    (Robert) Goddard   \n",
       "181628                                1984   \n",
       "\n",
       "                                           clean_question  \\\n",
       "132990  each autumn the japanese celebrate the feast o...   \n",
       "35227   on july 8 1776 to announce the first public re...   \n",
       "126831  borstal boy is the autobiography of this irish...   \n",
       "99966   the logo of this citys nhl team is a winged ca...   \n",
       "38868   this term for a right that divorcing parents m...   \n",
       "183415  in 1996 he costarred as the customer victimize...   \n",
       "14758   in europe the beautiful blue danube eventually...   \n",
       "130623  she played squeaky clean jan who shared a part...   \n",
       "69797   at his presidential library in simi valley cal...   \n",
       "203444  whitmans was the 1st company to put a guide on...   \n",
       "106605  in out on a limb this actress mused perhaps ou...   \n",
       "67514   you can see the royal crown of scotland in a c...   \n",
       "65395   born of chinese parents in 1811 they died in 1...   \n",
       "204641  named for this rocketry pioneer nasas first sp...   \n",
       "181628  it was a bright cold day in april and the cloc...   \n",
       "\n",
       "                           clean_answer  clean_value  answer_in_question  \n",
       "132990                the chrysanthemum          500                0.00  \n",
       "35227   the declaration of independance          400                0.33  \n",
       "126831                            behan         2000                0.00  \n",
       "99966                 detroit red wings          600                0.00  \n",
       "38868                           custody          500                0.00  \n",
       "183415                matthew broderick          300                0.00  \n",
       "14758                     the black sea          400                0.50  \n",
       "130623                        doris day          400                0.00  \n",
       "69797                            reagan          800                0.00  \n",
       "203444              a box of chocolates          600                0.50  \n",
       "106605                 shirley maclaine         1000                0.00  \n",
       "67514                         edinburgh          400                0.00  \n",
       "65395    chang eng bunker siamese twins          600                0.00  \n",
       "204641                   robert goddard          800                0.00  \n",
       "181628                             1984          800                0.00  "
      ]
     },
     "execution_count": 23,
     "metadata": {},
     "output_type": "execute_result"
    }
   ],
   "source": [
    "def check_answer_in_question(row: pd.Series) -> float:\n",
    "    split_answer = row['clean_answer'].split(\" \")\n",
    "    split_question = row['clean_question'].split(\" \")\n",
    "\n",
    "    if \"the\" in split_answer:\n",
    "        split_answer.remove(\"the\")\n",
    "\n",
    "    if len(split_answer) == 0:\n",
    "        return 0\n",
    "    \n",
    "    # how many words are common between both lists \n",
    "    match_count =  len(set(split_answer).intersection(split_question))\n",
    "\n",
    "    return match_count / len(split_answer)\n",
    "\n",
    "jeopardy['answer_in_question'] = round(jeopardy.apply(check_answer_in_question, axis=1), 2)\n",
    "jeopardy.sample(15)"
   ]
  },
  {
   "cell_type": "code",
   "execution_count": 24,
   "metadata": {},
   "outputs": [
    {
     "name": "stdout",
     "output_type": "stream",
     "text": [
      "5.79%\n"
     ]
    }
   ],
   "source": [
    "mean_values = jeopardy['answer_in_question'].mean()\n",
    "print(f\"{mean_values * 100:.3}%\")\n"
   ]
  },
  {
   "cell_type": "markdown",
   "metadata": {},
   "source": [
    "This number is quite small, so we can't hope that the question's wording will give us enough information to get the answer right."
   ]
  },
  {
   "cell_type": "markdown",
   "metadata": {},
   "source": [
    "### 2. How often questions are repeated"
   ]
  },
  {
   "cell_type": "code",
   "execution_count": 25,
   "metadata": {},
   "outputs": [
    {
     "name": "stdout",
     "output_type": "stream",
     "text": [
      "The average overlap in questions: 87.1%\n"
     ]
    }
   ],
   "source": [
    "question_overlap = []\n",
    "terms_used = set()\n",
    "jeopardy.sort_values(by='Air Date', ascending=True, inplace=True)\n",
    "\n",
    "for index, row in jeopardy.iterrows():\n",
    "    split_question = row['clean_question'].split(\" \")\n",
    "    split_question = [word for word in split_question if len(word) > 5]\n",
    "\n",
    "    match_count = 0\n",
    "    for word in split_question:\n",
    "        if word in terms_used:\n",
    "            match_count += 1\n",
    "\n",
    "    for word in split_question:\n",
    "        terms_used.add(word)\n",
    "\n",
    "    if len(split_question) > 0:\n",
    "        match_count /= len(split_question)\n",
    "    question_overlap.append(round(match_count, 2))\n",
    "\n",
    "jeopardy['question_overlap'] = question_overlap\n",
    "\n",
    "print(f\"The average overlap in questions: {jeopardy['question_overlap'].mean() * 100:.3}%\")"
   ]
  },
  {
   "cell_type": "markdown",
   "metadata": {},
   "source": [
    "So about 87% of the terms in newer questions appeared in older questions. It's promising, but since we're looking at single words, not complete phrases, it requires more investigating."
   ]
  },
  {
   "cell_type": "markdown",
   "metadata": {},
   "source": [
    "### 3. Low values vs High Values"
   ]
  },
  {
   "cell_type": "markdown",
   "metadata": {},
   "source": [
    "One approach we can investigate is focusing our study on high-value questions. Since our resources are limited, it makes sense to spend them on the questions that will be most lucrative for us.\n",
    "\n",
    "To learn which terms correspond to high-value questions we can do a Chi-squared test. This will allow us to find the words with the biggest difference in usage between high and low values.\n",
    "\n",
    "Before running the test, let's narrow down the questions to 2 categories:\n",
    "* low-value: any row where `Value` is `800` or less\n",
    "* high-value: any row where `Value` is greater than `800`"
   ]
  },
  {
   "cell_type": "code",
   "execution_count": 26,
   "metadata": {},
   "outputs": [
    {
     "data": {
      "application/vnd.microsoft.datawrangler.viewer.v0+json": {
       "columns": [
        {
         "name": "index",
         "rawType": "int64",
         "type": "integer"
        },
        {
         "name": "Show Number",
         "rawType": "int64",
         "type": "integer"
        },
        {
         "name": "Air Date",
         "rawType": "datetime64[ns]",
         "type": "datetime"
        },
        {
         "name": "Round",
         "rawType": "object",
         "type": "string"
        },
        {
         "name": "Category",
         "rawType": "object",
         "type": "string"
        },
        {
         "name": "Value",
         "rawType": "object",
         "type": "string"
        },
        {
         "name": "Question",
         "rawType": "object",
         "type": "string"
        },
        {
         "name": "Answer",
         "rawType": "object",
         "type": "string"
        },
        {
         "name": "clean_question",
         "rawType": "object",
         "type": "string"
        },
        {
         "name": "clean_answer",
         "rawType": "object",
         "type": "string"
        },
        {
         "name": "clean_value",
         "rawType": "int64",
         "type": "integer"
        },
        {
         "name": "answer_in_question",
         "rawType": "float64",
         "type": "float"
        },
        {
         "name": "question_overlap",
         "rawType": "float64",
         "type": "float"
        },
        {
         "name": "high_value",
         "rawType": "int64",
         "type": "integer"
        }
       ],
       "conversionMethod": "pd.DataFrame",
       "ref": "76e7f505-d628-4e82-9d3d-2fb35584a0e3",
       "rows": [
        [
         "165269",
         "3413",
         "1999-06-09 00:00:00",
         "Jeopardy!",
         "PARTY TIME!",
         "$100",
         "Sir John Soane had a 3-day party after buying Seti I's sarcophagus for his home in this British capital",
         "London",
         "sir john soane had a 3day party after buying seti is sarcophagus for his home in this british capital",
         "london",
         "100",
         "0.0",
         "1.0",
         "0"
        ],
        [
         "89693",
         "5390",
         "2008-02-01 00:00:00",
         "Double Jeopardy!",
         "GROUNDHOG DAY",
         "$800",
         "In 1886 the first U.S. Groundhog Day was observed in ths Pennsylvania city",
         "Punxsutawney",
         "in 1886 the first us groundhog day was observed in ths pennsylvania city",
         "punxsutawney",
         "800",
         "0.0",
         "1.0",
         "0"
        ],
        [
         "189451",
         "4817",
         "2005-07-12 00:00:00",
         "Double Jeopardy!",
         "'80s MOVIE QUOTES",
         "$400",
         "1980: \"I am serious, and don't call me Shirley\"",
         "Airplane!",
         "1980 i am serious and dont call me shirley",
         "airplane",
         "400",
         "0.0",
         "1.0",
         "0"
        ],
        [
         "147133",
         "5245",
         "2007-06-01 00:00:00",
         "Double Jeopardy!",
         "'90s TV",
         "$3,000",
         "This sitcom debuted on Fox in August, 1998, 22 years after its setting",
         "That '70s Show",
         "this sitcom debuted on fox in august 1998 22 years after its setting",
         "that 70s show",
         "3000",
         "0.0",
         "1.0",
         "1"
        ],
        [
         "78752",
         "5926",
         "2010-05-24 00:00:00",
         "Double Jeopardy!",
         "TOOL WORDS & PHRASES",
         "$1600",
         "The members of an organization aside from its leaders are this 3-word term",
         "rank and file",
         "the members of an organization aside from its leaders are this 3word term",
         "rank and file",
         "1600",
         "0.0",
         "1.0",
         "1"
        ],
        [
         "36766",
         "4555",
         "2004-05-28 00:00:00",
         "Jeopardy!",
         "\"G\" WHIZ",
         "$600",
         "Excluding noncopyrighted works, this book first published in 1955 is the bestselling book in the world",
         "The Guiness Book of World Records",
         "excluding noncopyrighted works this book first published in 1955 is the bestselling book in the world",
         "the guiness book of world records",
         "600",
         "0.4",
         "1.0",
         "0"
        ],
        [
         "70420",
         "6026",
         "2010-11-22 00:00:00",
         "Double Jeopardy!",
         "THEY COME IN TWOS",
         "$2000",
         "Named for their method of secretion, they're the 2 main types of glands in the body",
         "endocrine & exocrine",
         "named for their method of secretion theyre the 2 main types of glands in the body",
         "endocrine exocrine",
         "2000",
         "0.0",
         "1.0",
         "1"
        ],
        [
         "61758",
         "5006",
         "2006-05-22 00:00:00",
         "Double Jeopardy!",
         "BEATLES RHYME TIME",
         "$2000",
         "Fired drummer's football shoe parts",
         "Pete's cleats",
         "fired drummers football shoe parts",
         "petes cleats",
         "2000",
         "0.0",
         "1.0",
         "1"
        ],
        [
         "31069",
         "5472",
         "2008-05-27 00:00:00",
         "Double Jeopardy!",
         "GEOLOGY",
         "$400",
         "One of these struck Boston in 1755, Missouri in 1811 & Charleston in 1886, so it's not West Coast-specific",
         "an earthquake",
         "one of these struck boston in 1755 missouri in 1811 charleston in 1886 so its not west coastspecific",
         "an earthquake",
         "400",
         "0.0",
         "1.0",
         "0"
        ],
        [
         "215341",
         "5135",
         "2006-12-29 00:00:00",
         "Jeopardy!",
         "MARLIN",
         "$800",
         "In 2006 Sterling Marlin, a veteran racer on this circuit, got a new ride, the no. 14 Chevrolet",
         "NASCAR",
         "in 2006 sterling marlin a veteran racer on this circuit got a new ride the no 14 chevrolet",
         "nascar",
         "800",
         "0.0",
         "1.0",
         "0"
        ]
       ],
       "shape": {
        "columns": 13,
        "rows": 10
       }
      },
      "text/html": [
       "<div>\n",
       "<style scoped>\n",
       "    .dataframe tbody tr th:only-of-type {\n",
       "        vertical-align: middle;\n",
       "    }\n",
       "\n",
       "    .dataframe tbody tr th {\n",
       "        vertical-align: top;\n",
       "    }\n",
       "\n",
       "    .dataframe thead th {\n",
       "        text-align: right;\n",
       "    }\n",
       "</style>\n",
       "<table border=\"1\" class=\"dataframe\">\n",
       "  <thead>\n",
       "    <tr style=\"text-align: right;\">\n",
       "      <th></th>\n",
       "      <th>Show Number</th>\n",
       "      <th>Air Date</th>\n",
       "      <th>Round</th>\n",
       "      <th>Category</th>\n",
       "      <th>Value</th>\n",
       "      <th>Question</th>\n",
       "      <th>Answer</th>\n",
       "      <th>clean_question</th>\n",
       "      <th>clean_answer</th>\n",
       "      <th>clean_value</th>\n",
       "      <th>answer_in_question</th>\n",
       "      <th>question_overlap</th>\n",
       "      <th>high_value</th>\n",
       "    </tr>\n",
       "  </thead>\n",
       "  <tbody>\n",
       "    <tr>\n",
       "      <th>165269</th>\n",
       "      <td>3413</td>\n",
       "      <td>1999-06-09</td>\n",
       "      <td>Jeopardy!</td>\n",
       "      <td>PARTY TIME!</td>\n",
       "      <td>$100</td>\n",
       "      <td>Sir John Soane had a 3-day party after buying ...</td>\n",
       "      <td>London</td>\n",
       "      <td>sir john soane had a 3day party after buying s...</td>\n",
       "      <td>london</td>\n",
       "      <td>100</td>\n",
       "      <td>0.0</td>\n",
       "      <td>1.0</td>\n",
       "      <td>0</td>\n",
       "    </tr>\n",
       "    <tr>\n",
       "      <th>89693</th>\n",
       "      <td>5390</td>\n",
       "      <td>2008-02-01</td>\n",
       "      <td>Double Jeopardy!</td>\n",
       "      <td>GROUNDHOG DAY</td>\n",
       "      <td>$800</td>\n",
       "      <td>In 1886 the first U.S. Groundhog Day was obser...</td>\n",
       "      <td>Punxsutawney</td>\n",
       "      <td>in 1886 the first us groundhog day was observe...</td>\n",
       "      <td>punxsutawney</td>\n",
       "      <td>800</td>\n",
       "      <td>0.0</td>\n",
       "      <td>1.0</td>\n",
       "      <td>0</td>\n",
       "    </tr>\n",
       "    <tr>\n",
       "      <th>189451</th>\n",
       "      <td>4817</td>\n",
       "      <td>2005-07-12</td>\n",
       "      <td>Double Jeopardy!</td>\n",
       "      <td>'80s MOVIE QUOTES</td>\n",
       "      <td>$400</td>\n",
       "      <td>1980: \"I am serious, and don't call me Shirley\"</td>\n",
       "      <td>Airplane!</td>\n",
       "      <td>1980 i am serious and dont call me shirley</td>\n",
       "      <td>airplane</td>\n",
       "      <td>400</td>\n",
       "      <td>0.0</td>\n",
       "      <td>1.0</td>\n",
       "      <td>0</td>\n",
       "    </tr>\n",
       "    <tr>\n",
       "      <th>147133</th>\n",
       "      <td>5245</td>\n",
       "      <td>2007-06-01</td>\n",
       "      <td>Double Jeopardy!</td>\n",
       "      <td>'90s TV</td>\n",
       "      <td>$3,000</td>\n",
       "      <td>This sitcom debuted on Fox in August, 1998, 22...</td>\n",
       "      <td>That '70s Show</td>\n",
       "      <td>this sitcom debuted on fox in august 1998 22 y...</td>\n",
       "      <td>that 70s show</td>\n",
       "      <td>3000</td>\n",
       "      <td>0.0</td>\n",
       "      <td>1.0</td>\n",
       "      <td>1</td>\n",
       "    </tr>\n",
       "    <tr>\n",
       "      <th>78752</th>\n",
       "      <td>5926</td>\n",
       "      <td>2010-05-24</td>\n",
       "      <td>Double Jeopardy!</td>\n",
       "      <td>TOOL WORDS &amp; PHRASES</td>\n",
       "      <td>$1600</td>\n",
       "      <td>The members of an organization aside from its ...</td>\n",
       "      <td>rank and file</td>\n",
       "      <td>the members of an organization aside from its ...</td>\n",
       "      <td>rank and file</td>\n",
       "      <td>1600</td>\n",
       "      <td>0.0</td>\n",
       "      <td>1.0</td>\n",
       "      <td>1</td>\n",
       "    </tr>\n",
       "    <tr>\n",
       "      <th>36766</th>\n",
       "      <td>4555</td>\n",
       "      <td>2004-05-28</td>\n",
       "      <td>Jeopardy!</td>\n",
       "      <td>\"G\" WHIZ</td>\n",
       "      <td>$600</td>\n",
       "      <td>Excluding noncopyrighted works, this book firs...</td>\n",
       "      <td>The Guiness Book of World Records</td>\n",
       "      <td>excluding noncopyrighted works this book first...</td>\n",
       "      <td>the guiness book of world records</td>\n",
       "      <td>600</td>\n",
       "      <td>0.4</td>\n",
       "      <td>1.0</td>\n",
       "      <td>0</td>\n",
       "    </tr>\n",
       "    <tr>\n",
       "      <th>70420</th>\n",
       "      <td>6026</td>\n",
       "      <td>2010-11-22</td>\n",
       "      <td>Double Jeopardy!</td>\n",
       "      <td>THEY COME IN TWOS</td>\n",
       "      <td>$2000</td>\n",
       "      <td>Named for their method of secretion, they're t...</td>\n",
       "      <td>endocrine &amp; exocrine</td>\n",
       "      <td>named for their method of secretion theyre the...</td>\n",
       "      <td>endocrine exocrine</td>\n",
       "      <td>2000</td>\n",
       "      <td>0.0</td>\n",
       "      <td>1.0</td>\n",
       "      <td>1</td>\n",
       "    </tr>\n",
       "    <tr>\n",
       "      <th>61758</th>\n",
       "      <td>5006</td>\n",
       "      <td>2006-05-22</td>\n",
       "      <td>Double Jeopardy!</td>\n",
       "      <td>BEATLES RHYME TIME</td>\n",
       "      <td>$2000</td>\n",
       "      <td>Fired drummer's football shoe parts</td>\n",
       "      <td>Pete's cleats</td>\n",
       "      <td>fired drummers football shoe parts</td>\n",
       "      <td>petes cleats</td>\n",
       "      <td>2000</td>\n",
       "      <td>0.0</td>\n",
       "      <td>1.0</td>\n",
       "      <td>1</td>\n",
       "    </tr>\n",
       "    <tr>\n",
       "      <th>31069</th>\n",
       "      <td>5472</td>\n",
       "      <td>2008-05-27</td>\n",
       "      <td>Double Jeopardy!</td>\n",
       "      <td>GEOLOGY</td>\n",
       "      <td>$400</td>\n",
       "      <td>One of these struck Boston in 1755, Missouri i...</td>\n",
       "      <td>an earthquake</td>\n",
       "      <td>one of these struck boston in 1755 missouri in...</td>\n",
       "      <td>an earthquake</td>\n",
       "      <td>400</td>\n",
       "      <td>0.0</td>\n",
       "      <td>1.0</td>\n",
       "      <td>0</td>\n",
       "    </tr>\n",
       "    <tr>\n",
       "      <th>215341</th>\n",
       "      <td>5135</td>\n",
       "      <td>2006-12-29</td>\n",
       "      <td>Jeopardy!</td>\n",
       "      <td>MARLIN</td>\n",
       "      <td>$800</td>\n",
       "      <td>In 2006 Sterling Marlin, a veteran racer on th...</td>\n",
       "      <td>NASCAR</td>\n",
       "      <td>in 2006 sterling marlin a veteran racer on thi...</td>\n",
       "      <td>nascar</td>\n",
       "      <td>800</td>\n",
       "      <td>0.0</td>\n",
       "      <td>1.0</td>\n",
       "      <td>0</td>\n",
       "    </tr>\n",
       "  </tbody>\n",
       "</table>\n",
       "</div>"
      ],
      "text/plain": [
       "        Show Number   Air Date             Round              Category  \\\n",
       "165269         3413 1999-06-09         Jeopardy!           PARTY TIME!   \n",
       "89693          5390 2008-02-01  Double Jeopardy!         GROUNDHOG DAY   \n",
       "189451         4817 2005-07-12  Double Jeopardy!     '80s MOVIE QUOTES   \n",
       "147133         5245 2007-06-01  Double Jeopardy!               '90s TV   \n",
       "78752          5926 2010-05-24  Double Jeopardy!  TOOL WORDS & PHRASES   \n",
       "36766          4555 2004-05-28         Jeopardy!              \"G\" WHIZ   \n",
       "70420          6026 2010-11-22  Double Jeopardy!     THEY COME IN TWOS   \n",
       "61758          5006 2006-05-22  Double Jeopardy!    BEATLES RHYME TIME   \n",
       "31069          5472 2008-05-27  Double Jeopardy!               GEOLOGY   \n",
       "215341         5135 2006-12-29         Jeopardy!                MARLIN   \n",
       "\n",
       "         Value                                           Question  \\\n",
       "165269    $100  Sir John Soane had a 3-day party after buying ...   \n",
       "89693     $800  In 1886 the first U.S. Groundhog Day was obser...   \n",
       "189451    $400    1980: \"I am serious, and don't call me Shirley\"   \n",
       "147133  $3,000  This sitcom debuted on Fox in August, 1998, 22...   \n",
       "78752    $1600  The members of an organization aside from its ...   \n",
       "36766     $600  Excluding noncopyrighted works, this book firs...   \n",
       "70420    $2000  Named for their method of secretion, they're t...   \n",
       "61758    $2000                Fired drummer's football shoe parts   \n",
       "31069     $400  One of these struck Boston in 1755, Missouri i...   \n",
       "215341    $800  In 2006 Sterling Marlin, a veteran racer on th...   \n",
       "\n",
       "                                   Answer  \\\n",
       "165269                             London   \n",
       "89693                        Punxsutawney   \n",
       "189451                          Airplane!   \n",
       "147133                     That '70s Show   \n",
       "78752                       rank and file   \n",
       "36766   The Guiness Book of World Records   \n",
       "70420                endocrine & exocrine   \n",
       "61758                       Pete's cleats   \n",
       "31069                       an earthquake   \n",
       "215341                             NASCAR   \n",
       "\n",
       "                                           clean_question  \\\n",
       "165269  sir john soane had a 3day party after buying s...   \n",
       "89693   in 1886 the first us groundhog day was observe...   \n",
       "189451         1980 i am serious and dont call me shirley   \n",
       "147133  this sitcom debuted on fox in august 1998 22 y...   \n",
       "78752   the members of an organization aside from its ...   \n",
       "36766   excluding noncopyrighted works this book first...   \n",
       "70420   named for their method of secretion theyre the...   \n",
       "61758                  fired drummers football shoe parts   \n",
       "31069   one of these struck boston in 1755 missouri in...   \n",
       "215341  in 2006 sterling marlin a veteran racer on thi...   \n",
       "\n",
       "                             clean_answer  clean_value  answer_in_question  \\\n",
       "165269                             london          100                 0.0   \n",
       "89693                        punxsutawney          800                 0.0   \n",
       "189451                           airplane          400                 0.0   \n",
       "147133                      that 70s show         3000                 0.0   \n",
       "78752                       rank and file         1600                 0.0   \n",
       "36766   the guiness book of world records          600                 0.4   \n",
       "70420                  endocrine exocrine         2000                 0.0   \n",
       "61758                        petes cleats         2000                 0.0   \n",
       "31069                       an earthquake          400                 0.0   \n",
       "215341                             nascar          800                 0.0   \n",
       "\n",
       "        question_overlap  high_value  \n",
       "165269               1.0           0  \n",
       "89693                1.0           0  \n",
       "189451               1.0           0  \n",
       "147133               1.0           1  \n",
       "78752                1.0           1  \n",
       "36766                1.0           0  \n",
       "70420                1.0           1  \n",
       "61758                1.0           1  \n",
       "31069                1.0           0  \n",
       "215341               1.0           0  "
      ]
     },
     "execution_count": 26,
     "metadata": {},
     "output_type": "execute_result"
    }
   ],
   "source": [
    "def determine_value(row: pd.Series):\n",
    "    return 1 if row['clean_value'] > 800 else 0\n",
    "\n",
    "jeopardy['high_value'] = jeopardy.apply(determine_value, axis=1)\n",
    "\n",
    "jeopardy.sample(10)"
   ]
  },
  {
   "cell_type": "code",
   "execution_count": 27,
   "metadata": {},
   "outputs": [],
   "source": [
    "def count_usage(word: str):\n",
    "    low_count = 0\n",
    "    high_count = 0\n",
    "    for index, row in jeopardy.iterrows():\n",
    "        split_question = row['clean_question'].split(\" \")\n",
    "        if word in split_question:\n",
    "            if row['high_value'] == 1:\n",
    "                high_count += 1 \n",
    "            else:\n",
    "                low_count += 1\n",
    "    return high_count, low_count"
   ]
  },
  {
   "cell_type": "code",
   "execution_count": 28,
   "metadata": {},
   "outputs": [
    {
     "data": {
      "text/plain": [
       "['hirsute',\n",
       " 'hammering',\n",
       " 'hrefhttpwwwjarchivecommedia20040910dj26jpg',\n",
       " 'berryn',\n",
       " 'bonets',\n",
       " 'tenzin',\n",
       " 'positionsa',\n",
       " 'brendan',\n",
       " 'factorys',\n",
       " 'redbird']"
      ]
     },
     "execution_count": 28,
     "metadata": {},
     "output_type": "execute_result"
    }
   ],
   "source": [
    "from random import choice, sample\n",
    "\n",
    "comparison_terms = [choice(list(terms_used)) for _ in range(10)]\n",
    "# comparison_terms = sample(list(terms_used), 10)\n",
    "comparison_terms"
   ]
  },
  {
   "cell_type": "code",
   "execution_count": 29,
   "metadata": {},
   "outputs": [
    {
     "data": {
      "text/plain": [
       "[(3, 4),\n",
       " (0, 5),\n",
       " (1, 0),\n",
       " (0, 1),\n",
       " (0, 1),\n",
       " (0, 2),\n",
       " (0, 1),\n",
       " (6, 10),\n",
       " (0, 1),\n",
       " (1, 4)]"
      ]
     },
     "execution_count": 29,
     "metadata": {},
     "output_type": "execute_result"
    }
   ],
   "source": [
    "observed_expected = []\n",
    "for term in comparison_terms:\n",
    "    observed_expected.append(count_usage(term))\n",
    "\n",
    "observed_expected"
   ]
  },
  {
   "cell_type": "markdown",
   "metadata": {},
   "source": [
    "# Chi-Squared test"
   ]
  },
  {
   "cell_type": "code",
   "execution_count": 30,
   "metadata": {},
   "outputs": [
    {
     "data": {
      "text/plain": [
       "high_value\n",
       "0    151871\n",
       "1     61422\n",
       "Name: count, dtype: int64"
      ]
     },
     "execution_count": 30,
     "metadata": {},
     "output_type": "execute_result"
    }
   ],
   "source": [
    "jeopardy['high_value'].value_counts()"
   ]
  },
  {
   "cell_type": "code",
   "execution_count": 31,
   "metadata": {},
   "outputs": [
    {
     "data": {
      "text/plain": [
       "213293"
      ]
     },
     "execution_count": 31,
     "metadata": {},
     "output_type": "execute_result"
    }
   ],
   "source": [
    "jeopardy.shape[0]"
   ]
  },
  {
   "cell_type": "code",
   "execution_count": 32,
   "metadata": {},
   "outputs": [
    {
     "data": {
      "text/plain": [
       "[Power_divergenceResult(statistic=0.6748876446186486, pvalue=0.4113527238863175),\n",
       " Power_divergenceResult(statistic=2.022176715765353, pvalue=0.1550167872840919),\n",
       " Power_divergenceResult(statistic=2.4725831135423793, pvalue=0.11584739715125356),\n",
       " Power_divergenceResult(statistic=0.4044353431530708, pvalue=0.5248075048535166),\n",
       " Power_divergenceResult(statistic=0.4044353431530708, pvalue=0.5248075048535166),\n",
       " Power_divergenceResult(statistic=0.8088706863061416, pvalue=0.3684543433835694),\n",
       " Power_divergenceResult(statistic=0.4044353431530708, pvalue=0.5248075048535166),\n",
       " Power_divergenceResult(statistic=0.5910329001770444, pvalue=0.44201998036337653),\n",
       " Power_divergenceResult(statistic=0.4044353431530708, pvalue=0.5248075048535166),\n",
       " Power_divergenceResult(statistic=0.18870972079830203, pvalue=0.6639926821692866)]"
      ]
     },
     "execution_count": 32,
     "metadata": {},
     "output_type": "execute_result"
    }
   ],
   "source": [
    "from scipy.stats import chisquare\n",
    "import numpy as np\n",
    "\n",
    "low_value_count = jeopardy['high_value'].value_counts()[0]\n",
    "high_value_count = jeopardy['high_value'].value_counts()[1]\n",
    "\n",
    "chi_squared = []\n",
    "\n",
    "for obs in observed_expected:\n",
    "    total = sum(obs)\n",
    "    total_prop = total / jeopardy.shape[0]\n",
    "    high_value_exp = total_prop * high_value_count\n",
    "    low_value_exp = total_prop * low_value_count\n",
    "\n",
    "    observed = np.array([obs[0], obs[1]])\n",
    "    expected = np.array([high_value_exp, low_value_exp])\n",
    "    chi_squared.append(chisquare(observed, expected))\n",
    "\n",
    "chi_squared\n"
   ]
  }
 ],
 "metadata": {
  "kernelspec": {
   "display_name": "base",
   "language": "python",
   "name": "python3"
  },
  "language_info": {
   "codemirror_mode": {
    "name": "ipython",
    "version": 3
   },
   "file_extension": ".py",
   "mimetype": "text/x-python",
   "name": "python",
   "nbconvert_exporter": "python",
   "pygments_lexer": "ipython3",
   "version": "3.12.4"
  }
 },
 "nbformat": 4,
 "nbformat_minor": 2
}
