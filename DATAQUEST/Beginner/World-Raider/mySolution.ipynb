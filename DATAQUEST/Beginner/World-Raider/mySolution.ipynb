{
 "cells": [
  {
   "cell_type": "code",
   "execution_count": 1,
   "metadata": {},
   "outputs": [],
   "source": [
    "import random"
   ]
  },
  {
   "cell_type": "markdown",
   "metadata": {},
   "source": [
    "# Open file for loading in the word bank"
   ]
  },
  {
   "cell_type": "code",
   "execution_count": 2,
   "metadata": {},
   "outputs": [
    {
     "name": "stdout",
     "output_type": "stream",
     "text": [
      "['bears', 'pears', 'lions', 'kings', 'queen', 'helps', 'learn']\n"
     ]
    }
   ],
   "source": [
    "word_bank = []\n",
    "\n",
    "with open(\"./words.txt\") as file:\n",
    "    rows = file.readlines()\n",
    "    for row in rows:\n",
    "        word_bank.append(row.rstrip())\n",
    "\n",
    "print(word_bank)"
   ]
  },
  {
   "cell_type": "markdown",
   "metadata": {},
   "source": [
    "# Select the word to guess"
   ]
  },
  {
   "cell_type": "code",
   "execution_count": 6,
   "metadata": {},
   "outputs": [
    {
     "name": "stdout",
     "output_type": "stream",
     "text": [
      "queen\n"
     ]
    }
   ],
   "source": [
    "word_to_guess = random.choice(word_bank)\n",
    "print(word_to_guess)"
   ]
  },
  {
   "cell_type": "markdown",
   "metadata": {},
   "source": [
    "# Build the game loop"
   ]
  },
  {
   "cell_type": "code",
   "execution_count": 10,
   "metadata": {},
   "outputs": [
    {
     "name": "stdout",
     "output_type": "stream",
     "text": [
      "Hello you stupid human!\n",
      "You have to guess word with 5 letters in it. And you have to do this in 5 turns!\n",
      "_ _ _ _ _ \n",
      "\n",
      "Misplaced letters:  ['e']\n",
      "Incorrect letters:  ['h', 'l', 'o']\n",
      "You have 4 turns left.\n",
      "q u e _ _ \n",
      "\n",
      "Misplaced letters:  []\n",
      "Incorrect letters:  ['h', 'l', 'o', 's', 'd']\n",
      "You have 3 turns left.\n",
      "q u e e _ \n",
      "\n",
      "Misplaced letters:  []\n",
      "Incorrect letters:  ['h', 'l', 'o', 's', 'd']\n",
      "You have 2 turns left.\n",
      "q u e e n \n",
      "\n",
      "Misplaced letters:  []\n",
      "Incorrect letters:  ['h', 'l', 'o', 's', 'd']\n",
      "Congratulations, you win!\n"
     ]
    }
   ],
   "source": [
    "correct_misplaced_letters = []\n",
    "incorrect_letteres = []\n",
    "max_num_of_turns = 5\n",
    "current_num_of_turns = 0\n",
    "\n",
    "print(\"Hello you stupid human!\", flush=True)\n",
    "print(\"You have to guess word with 5 letters in it. And you have to do this in 5 turns!\", flush=True)\n",
    "\n",
    "while current_num_of_turns < max_num_of_turns:\n",
    "\n",
    "    the_guess = input(\"What's your guess?\")\n",
    "    if not the_guess.lower().isalpha():\n",
    "        print(\"All characters in the string must be a letters ! Try again\", flush=True)\n",
    "        continue\n",
    "    if not len(the_guess) == 5:\n",
    "        print(\"Length of the word has to be 5 ! Try again\", flush=True)\n",
    "        continue\n",
    "\n",
    "    current_num_of_turns += 1\n",
    "\n",
    "    for letter_in_word, guess_letter in zip(word_to_guess, the_guess):\n",
    "        if letter_in_word == guess_letter:\n",
    "            if guess_letter in correct_misplaced_letters:\n",
    "                correct_misplaced_letters.remove(guess_letter)\n",
    "            print(letter_in_word, end=' ', flush=True)\n",
    "        elif guess_letter in word_to_guess:\n",
    "            if guess_letter not in correct_misplaced_letters:\n",
    "                correct_misplaced_letters.append(guess_letter)\n",
    "            print('_', end=' ', flush=True)\n",
    "        else:\n",
    "            if guess_letter not in incorrect_letteres:\n",
    "                incorrect_letteres.append(guess_letter)\n",
    "            print('_', end=' ', flush=True)\n",
    "\n",
    "    print(\"\\n\")\n",
    "    print(\"Misplaced letters: \", correct_misplaced_letters)\n",
    "    print(\"Incorrect letters: \", incorrect_letteres)\n",
    "\n",
    "    if the_guess == word_to_guess:\n",
    "        print(\"Congratulations, you win!\")\n",
    "        break\n",
    "\n",
    "    if current_num_of_turns == max_num_of_turns:\n",
    "        print(\"Sorry, you lost. The word was\", word_to_guess)\n",
    "        break\n",
    "        \n",
    "    print(\"You have\", max_num_of_turns - current_num_of_turns, \"turns left.\\n\")\n"
   ]
  },
  {
   "cell_type": "code",
   "execution_count": null,
   "metadata": {},
   "outputs": [],
   "source": []
  }
 ],
 "metadata": {
  "kernelspec": {
   "display_name": "base",
   "language": "python",
   "name": "python3"
  },
  "language_info": {
   "codemirror_mode": {
    "name": "ipython",
    "version": 3
   },
   "file_extension": ".py",
   "mimetype": "text/x-python",
   "name": "python",
   "nbconvert_exporter": "python",
   "pygments_lexer": "ipython3",
   "version": "3.12.4"
  }
 },
 "nbformat": 4,
 "nbformat_minor": 2
}
