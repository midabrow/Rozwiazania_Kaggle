{
 "cells": [
  {
   "cell_type": "code",
   "execution_count": 37,
   "id": "89b18c01",
   "metadata": {},
   "outputs": [],
   "source": [
    "import torch\n",
    "import torch.nn as nn\n",
    "import torch.nn.functional as F\n",
    "from torch.utils.data import DataLoader, TensorDataset\n",
    "from sklearn.datasets import fetch_california_housing\n",
    "from sklearn.preprocessing import StandardScaler\n",
    "from sklearn.model_selection import train_test_split\n",
    "import pandas as pd\n",
    "import numpy as np\n",
    "import plotly.graph_objs as go\n",
    "import plotly.express as px"
   ]
  },
  {
   "cell_type": "markdown",
   "id": "85b5b263",
   "metadata": {},
   "source": [
    "<a id=\"model-def\"></a>\n",
    "# <a id='toc10_'></a>[<b><span style='color:darkorange'>Step 1.1 |</span><span style='color:#1E3A8A'> Preparing Data</span></b>](#toc0_)"
   ]
  },
  {
   "cell_type": "code",
   "execution_count": 3,
   "id": "270c713a",
   "metadata": {},
   "outputs": [],
   "source": [
    "# Wczytanie i przygotowanie danych (Boston Housing Dataset)\n",
    "housing = fetch_california_housing()\n",
    "X = pd.DataFrame(housing.data, columns=housing.feature_names)\n",
    "y = pd.Series(housing.target, name='PRICE')\n",
    "\n",
    "# Skalowanie danych\n",
    "scaler = StandardScaler()\n",
    "X_scaled = scaler.fit_transform(X)\n",
    "\n",
    "# Podział na zbiór treningowy i testowy\n",
    "X_train, X_val, y_train, y_val = train_test_split(X_scaled, y, test_size=0.2, random_state=42)"
   ]
  },
  {
   "cell_type": "code",
   "execution_count": null,
   "id": "1f5cb1b2",
   "metadata": {},
   "outputs": [],
   "source": [
    "# Konwersja do tensorów\n",
    "X_train_tensor = torch.tensor(X_train, dtype=torch.float32)\n",
    "# view(-1,1) zamienia tensor [N] mna [N,1] bo mse_loss potrzebuje 2D\n",
    "# -1 mówi - nie martw się ile jest wiersz, zrób z tego kolumnę\n",
    "y_train_tensor = torch.tensor(y_train.values, dtype=torch.float32).view(-1, 1)\n",
    "X_val_tensor = torch.tensor(X_val, dtype=torch.float32)\n",
    "y_val_tensor = torch.tensor(y_val.values, dtype=torch.float32).view(-1, 1)\n",
    "\n",
    "train_ds = TensorDataset(X_train_tensor, y_train_tensor)\n",
    "val_ds = TensorDataset(X_val_tensor,y_val_tensor)\n",
    "\n",
    "batch_size = 64\n",
    "train_loader = DataLoader(train_ds, batch_size, shuffle=True)\n",
    "val_loader = DataLoader(val_ds, batch_size)\n"
   ]
  },
  {
   "cell_type": "code",
   "execution_count": null,
   "id": "65c2cd0a",
   "metadata": {},
   "outputs": [
    {
     "data": {
      "text/plain": [
       "(tensor([-1.0149,  0.5849, -0.5764, -0.1327, -0.0066,  0.0889, -1.3773,  1.2277]),\n",
       " tensor([0.9340]))"
      ]
     },
     "execution_count": 20,
     "metadata": {},
     "output_type": "execute_result"
    }
   ],
   "source": [
    "train_ds[3] # Zwraca X i y dla 3 próbki train_ds[3] -> (X[3], y[3])"
   ]
  },
  {
   "cell_type": "markdown",
   "id": "ce2e843a",
   "metadata": {},
   "source": [
    "\n",
    "\n",
    "## 🧠 Co to jest **batch**?\n",
    "\n",
    "### 👉 **Batch** = porcja danych przetwarzana naraz przez model\n",
    "\n",
    "Gdy uczysz sieć neuronową, możesz:\n",
    "- trenować na **całym zbiorze danych na raz** (→ _batch gradient descent_) ❌ NIEOPTYMALNE\n",
    "- trenować na **pojedynczych przykładach** (→ _stochastic gradient descent_) ❌ niestabilne\n",
    "- trenować na **małych grupach (batchach)** danych (→ _mini-batch gradient descent_) ✅ NAJCZĘSTSZE\n",
    "\n",
    "\n",
    "## 🔢 Przykład\n",
    "\n",
    "Masz 1000 próbek (np. mieszkań):  \n",
    "Jeśli `batch_size = 64`, to dane będą dzielone tak:\n",
    "\n",
    "| Nr batcha | Indeksy próbek       |\n",
    "|-----------|-----------------------|\n",
    "| 1         | 0–63                  |\n",
    "| 2         | 64–127                |\n",
    "| ...       | ...                   |\n",
    "| 16        | 960–999 (ostatni)     |\n",
    "\n",
    "➡️ **Model widzi po 64 próbki na raz, a potem aktualizuje wagi.**\n",
    "\n",
    "\n",
    "## 📦 Co robi ten kod?\n",
    "\n",
    "```python\n",
    "train_ds = TensorDataset(X_train_tensor, y_train_tensor)\n",
    "val_ds = TensorDataset(X_val_tensor, y_val_tensor)\n",
    "```\n",
    "\n",
    "### ✅ `TensorDataset(...)`\n",
    "\n",
    "To prosty kontener, który przechowuje:\n",
    "- dane wejściowe (X)\n",
    "- etykiety wyjściowe (y)\n",
    "\n",
    "Każdy element `train_ds[i]` to tuple `(X[i], y[i])`.\n",
    "\n",
    "\n",
    "```python\n",
    "train_loader = DataLoader(train_ds, batch_size=64, shuffle=True)\n",
    "val_loader = DataLoader(val_ds, batch_size=64)\n",
    "```\n",
    "\n",
    "### ✅ `DataLoader(...)`\n",
    "\n",
    "To **automat do dzielenia danych na batch'e**.   \n",
    "- dzieli dane na batch'e\n",
    "\n",
    "- może je przemieszać (shuffle=True)\n",
    "\n",
    "- daje kolejne porcje (mini-batche) do treningu\n",
    "\n",
    "| Parametr | Znaczenie |\n",
    "|----------|-----------|\n",
    "| `train_ds` | Z jakiego zbioru ma brać dane |\n",
    "| `batch_size=64` | Ile próbek w jednym batchu |\n",
    "| `shuffle=True` | Czy losować kolejność przed każdą epoką (ważne dla treningu) |\n",
    "\n",
    "\n",
    "## 🔄 Co się dzieje w `train_loop(...)`\n",
    "\n",
    "```python\n",
    "for batch in train_loader:\n",
    "    X, y = batch\n",
    "    pred = model(X)\n",
    "    ...\n",
    "```\n",
    "\n",
    "Tutaj **każdy `batch` to tuple (X, y)** z rozmiarem:\n",
    "\n",
    "```python\n",
    "X.shape = [64, liczba_cech]\n",
    "y.shape = [64, 1]\n",
    "```\n",
    "\n",
    "Dlatego model trenuje się szybciej, stabilniej i wykorzystuje lepiej GPU/CPU.\n",
    "\n",
    "\n",
    "## 🔍 Porównanie różnych `batch_size`:\n",
    "\n",
    "| `batch_size` | Czas uczenia | Stabilność | Wymagania RAM/GPU |\n",
    "|--------------|--------------|------------|--------------------|\n",
    "| 1 (SGD)      | wolny        | chaotyczny | niski              |\n",
    "| 16–64        | szybki       | stabilny   | średni             |\n",
    "| 512–1024     | szybki       | mniej stabilny | wysoki         |\n",
    "\n",
    "🧠 **64** to typowa wartość startowa.\n",
    "\n",
    "\n",
    "\n"
   ]
  },
  {
   "cell_type": "markdown",
   "id": "7c641fd4",
   "metadata": {},
   "source": [
    "\n",
    "\n",
    "### ✅ batch = tuple dwóch tensorów:\n",
    "\n",
    "| Nazwa | Typ | Rozmiar |\n",
    "|-------|-----|---------|\n",
    "| `X`   | `torch.Tensor` | `[batch_size, liczba_cech]` |\n",
    "| `y`   | `torch.Tensor` | `[batch_size, 1]` lub `[batch_size]` |\n",
    "\n",
    "\n",
    "### 🧠 Analogicznie:\n",
    "\n",
    "| Kod | Co zwraca |\n",
    "|-----|-----------|\n",
    "| `train_ds[0]` | `(X[0], y[0])` — pojedyncza próbka |\n",
    "| `next(iter(train_loader))` | `(X_batch, y_batch)` — batch danych (np. 64 próbek) |\n",
    "\n"
   ]
  },
  {
   "cell_type": "markdown",
   "id": "803b997b",
   "metadata": {},
   "source": [
    "> Czyli X to jest jeden tensor który zawiera dane dla 64 próbek i 8 cech (pojedyncza wartość w każdej tablicy tensora)"
   ]
  },
  {
   "cell_type": "code",
   "execution_count": 25,
   "id": "54795603",
   "metadata": {},
   "outputs": [
    {
     "name": "stdout",
     "output_type": "stream",
     "text": [
      "2\n",
      "tensor([[ 4.9107e-01,  5.8485e-01,  8.7154e-02, -3.7258e-01, -2.8300e-01,\n",
      "         -2.5591e-03, -7.8742e-01,  7.2858e-01],\n",
      "        [ 1.3629e+00, -1.0838e+00,  9.6338e-01, -1.5745e-01, -5.0200e-01,\n",
      "          7.7105e-03,  1.1415e+00, -1.2979e+00],\n",
      "        [ 1.6386e-02,  5.0539e-01,  8.9874e-02, -1.9519e-01,  1.4970e-01,\n",
      "          2.4957e-02, -6.8911e-01,  1.1578e+00],\n",
      "        [-1.0536e+00,  1.1411e+00,  2.1742e-01, -3.3325e-02, -5.6911e-01,\n",
      "         -1.9193e-02,  5.2818e-01, -9.9974e-02],\n",
      "        [ 1.1592e-01,  1.8562e+00, -2.8303e-02,  2.0721e-01, -1.8233e-01,\n",
      "          5.2943e-03, -6.9847e-01,  6.8366e-01],\n",
      "        [-1.0680e+00, -1.2427e+00, -2.6610e-01, -8.7844e-02, -1.0389e+00,\n",
      "         -7.5704e-02,  1.5395e+00, -1.5225e+00],\n",
      "        [-7.8292e-01, -3.6864e-01,  8.6650e-02, -1.4969e-01, -6.1768e-01,\n",
      "         -3.8662e-02,  1.8531e+00, -1.0833e+00],\n",
      "        [ 1.0081e+00, -1.5605e+00,  2.8017e-02, -2.1821e-01, -4.3930e-01,\n",
      "          5.1921e-03, -9.1384e-01,  8.8831e-01],\n",
      "        [-5.1657e-01,  8.2323e-01, -1.6552e-01, -3.2047e-01, -5.2319e-01,\n",
      "         -3.5251e-02, -1.1479e+00,  1.1029e+00],\n",
      "        [-1.1301e+00,  3.4648e-01, -1.4155e+00, -1.3102e-01,  2.0147e+00,\n",
      "          5.7038e-02, -7.3592e-01,  6.5371e-01],\n",
      "        [ 5.1771e-01,  1.8756e-01, -2.2642e-01, -5.3274e-02,  4.1108e-01,\n",
      "         -3.0243e-02,  7.8100e-01, -1.1981e+00],\n",
      "        [-3.2234e-01,  2.6702e-01, -8.1960e-02, -1.7688e-01, -3.8543e-01,\n",
      "         -5.0862e-02, -1.3071e+00,  1.1828e+00],\n",
      "        [-9.5078e-01, -3.6864e-01,  1.3511e-01,  5.6565e-01, -3.2450e-01,\n",
      "         -4.9597e-02,  2.5273e+00, -2.0915e+00],\n",
      "        [ 4.1901e-01, -1.9578e+00,  5.9134e-01,  3.5456e-02,  6.5165e+00,\n",
      "          1.5686e-02, -7.7806e-01,  1.1379e+00],\n",
      "        [-7.8629e-01,  5.8485e-01, -2.1496e-01, -1.0242e-01,  4.6230e-01,\n",
      "          1.1498e-01,  8.6527e-01, -1.2929e+00],\n",
      "        [-6.8143e-01,  5.8485e-01, -2.4425e-01, -2.3763e-01, -6.4328e-01,\n",
      "         -2.8285e-02,  1.5629e+00, -1.7621e+00],\n",
      "        [ 1.2919e+00, -1.0838e+00,  5.8206e-01, -1.0790e-01,  2.4306e+00,\n",
      "         -4.1212e-02, -6.4229e-01,  4.7403e-01],\n",
      "        [ 1.5388e-01,  1.0810e-01, -5.7758e-01, -2.0400e-01, -1.1678e+00,\n",
      "         -1.2305e-02,  1.2773e+00, -1.2031e+00],\n",
      "        [-9.2794e-01,  1.0810e-01, -2.7067e-01, -9.0174e-02,  2.8922e-01,\n",
      "          5.4524e-02, -1.2728e-01,  3.0931e-01],\n",
      "        [ 3.1811e-01, -1.8783e+00,  8.0987e-02, -2.0400e-01, -8.5433e-01,\n",
      "          1.2723e-02, -1.3212e+00,  1.9914e+00],\n",
      "        [ 1.2069e+00, -5.0812e-02,  3.8477e-01, -2.4168e-01, -9.3822e-01,\n",
      "         -8.7614e-02,  9.9637e-01, -1.4426e+00],\n",
      "        [ 1.4703e-01, -1.1632e+00,  4.3999e-01,  3.9163e-02, -3.5743e-02,\n",
      "         -3.5200e-02, -1.1245e+00,  1.2427e+00],\n",
      "        [ 5.0126e-02, -2.0973e-01, -4.7361e-01, -1.8364e-01,  3.3426e-01,\n",
      "          2.6286e-01, -8.9043e-01,  8.3340e-01],\n",
      "        [ 4.5554e-01,  1.6973e+00,  4.4620e-02, -1.7842e-01, -9.7443e-01,\n",
      "         -1.0776e-01, -8.7638e-01,  7.1361e-01],\n",
      "        [-4.7709e-01,  6.6431e-01, -4.5541e-02, -2.0976e-02, -6.4152e-01,\n",
      "          4.7726e-02, -8.1552e-01,  6.5871e-01],\n",
      "        [-5.5168e-01, -9.2485e-01, -9.6573e-02, -8.5089e-02,  1.1740e+00,\n",
      "         -4.2301e-02,  1.4411e+00, -8.6364e-01],\n",
      "        [-1.6953e-01, -1.9578e+00,  3.1500e-01,  4.3960e-01,  4.6381e-02,\n",
      "         -5.8476e-02,  3.4559e-01, -4.0078e-02],\n",
      "        [ 1.1871e-01,  3.4648e-01,  2.8366e-01, -8.8253e-02, -6.6094e-01,\n",
      "         -2.0616e-02,  1.2258e+00, -1.5225e+00],\n",
      "        [-9.2794e-01,  4.2594e-01, -5.1928e-01, -1.2284e-01,  3.9784e-01,\n",
      "          1.3855e-01, -7.8274e-01,  6.6370e-01],\n",
      "        [ 4.2449e-01, -1.0043e+00,  6.0253e-01, -1.1225e-01, -4.7374e-01,\n",
      "         -9.3793e-03,  1.5395e+00, -7.8378e-01],\n",
      "        [-4.1130e-01,  1.0616e+00, -3.0006e-01, -8.3763e-02, -2.3355e-01,\n",
      "          2.2823e-02, -8.2020e-01,  6.9864e-01],\n",
      "        [ 8.1637e-01, -2.8919e-01,  4.0391e-01, -3.2425e-01,  3.6516e-01,\n",
      "          2.9835e-02, -8.5297e-01,  7.5354e-01],\n",
      "        [ 3.2221e-01, -2.0973e-01, -1.7724e-01, -1.8390e-01, -1.2670e-01,\n",
      "         -6.0539e-02, -8.2020e-01,  5.9881e-01],\n",
      "        [ 1.9367e-01,  4.2594e-01,  2.5989e-01, -6.4729e-02, -5.2521e-02,\n",
      "         -3.2608e-02,  9.5423e-01, -1.2829e+00],\n",
      "        [-6.5569e-01, -6.0702e-01, -2.5375e-01, -2.5485e-01, -8.3137e-01,\n",
      "         -1.4924e-02, -7.4997e-01,  7.9347e-01],\n",
      "        [ 2.6547e-01,  5.0539e-01, -2.2815e-01, -3.1834e-01, -4.7992e-01,\n",
      "         -8.6487e-02, -6.7974e-01,  5.7884e-01],\n",
      "        [-4.9483e-01,  6.6431e-01,  2.9764e-03, -7.3554e-02, -5.0111e-01,\n",
      "          4.7512e-03,  6.5927e-01, -3.8947e-01],\n",
      "        [-7.3730e-02,  4.2594e-01, -6.3243e-01, -8.8094e-02, -4.3488e-01,\n",
      "         -1.5053e-01, -1.3118e+00,  1.1429e+00],\n",
      "        [-1.3053e-01,  3.4648e-01,  8.2509e-02, -1.7278e-01, -5.2521e-02,\n",
      "          9.3470e-02, -7.1720e-01,  1.1029e+00],\n",
      "        [ 4.8681e-01,  3.4648e-01,  9.8683e-02, -1.1368e-01, -2.7417e-01,\n",
      "          1.2208e-01, -7.4529e-01,  8.0345e-01],\n",
      "        [-7.1138e-01,  1.1411e+00, -2.2161e-01, -1.4477e-01, -5.0376e-01,\n",
      "         -6.8031e-03,  9.8232e-01, -1.3029e+00],\n",
      "        [-6.7917e-01, -1.0043e+00, -6.8841e-01,  6.9392e-02,  1.1438e-01,\n",
      "         -1.0733e-01,  7.8568e-01, -1.1681e+00],\n",
      "        [ 2.3257e-01, -6.0702e-01,  2.4053e+00,  2.3451e+00, -7.2982e-01,\n",
      "         -6.4959e-02,  1.0525e+00, -1.5674e+00],\n",
      "        [ 8.8657e-02, -1.0838e+00,  3.5112e-01, -2.2011e-01, -9.6383e-01,\n",
      "         -5.0168e-02, -1.3633e+00,  1.2876e+00],\n",
      "        [-8.9256e-01,  1.4589e+00, -4.2671e-01, -2.7207e-01, -7.5190e-01,\n",
      "         -4.0969e-02, -7.7338e-01,  6.2377e-01],\n",
      "        [ 6.2214e-01,  5.8485e-01,  2.6656e-01, -1.7132e-01, -1.8939e-01,\n",
      "         -3.7691e-02, -7.8742e-01,  7.2359e-01],\n",
      "        [-1.8353e-01, -5.0812e-02, -5.5121e-01, -3.5472e-02,  1.6394e+00,\n",
      "          5.9806e-02, -8.7170e-01,  8.2342e-01],\n",
      "        [ 2.4752e-01,  8.2323e-01, -1.1186e-01, -2.1660e-01, -4.7109e-01,\n",
      "         -3.9281e-02, -7.2188e-01,  8.3340e-01],\n",
      "        [-3.6103e-01, -1.3027e-01,  6.0784e-02, -7.4686e-02,  3.3602e-01,\n",
      "         -5.3471e-02,  9.5891e-01, -7.0392e-01],\n",
      "        [-1.1285e+00, -7.6594e-01,  2.6984e-01,  5.3979e-01, -3.5099e-01,\n",
      "         -3.7222e-02,  2.0076e+00, -2.5970e-01],\n",
      "        [-1.1450e+00,  1.1411e+00, -2.5509e-01,  7.8851e-02,  1.2586e-01,\n",
      "          2.5565e-02, -7.5465e-01,  6.2876e-01],\n",
      "        [ 1.1994e+00, -1.0043e+00,  3.7844e-01, -2.4034e-01,  1.1405e+00,\n",
      "          2.6121e-02, -9.4193e-01,  9.5319e-01],\n",
      "        [ 3.0183e+00, -6.8648e-01,  1.2283e+00, -2.6934e-01,  1.2094e+00,\n",
      "          1.2962e-02, -6.3761e-01,  4.9898e-01],\n",
      "        [-8.3429e-01, -1.1632e+00, -1.2076e+00,  5.7864e-01, -1.0098e+00,\n",
      "         -1.6818e-01, -7.3592e-01,  5.6387e-01],\n",
      "        [-5.1862e-01,  1.0616e+00, -1.3173e-01,  2.0933e-01, -1.0080e+00,\n",
      "         -1.3751e-02,  1.1040e+00, -8.5366e-01],\n",
      "        [ 1.1192e-01,  5.0539e-01, -2.5833e-01, -3.5181e-01,  1.3380e-01,\n",
      "          7.1109e-02,  9.6359e-01, -1.4426e+00],\n",
      "        [ 5.8624e-01,  1.8562e+00, -3.5865e-01, -5.5569e-01, -1.1828e+00,\n",
      "          4.9363e-02, -7.2656e-01,  6.6370e-01],\n",
      "        [ 6.8273e-01, -8.4539e-01, -5.1905e-01,  3.1114e-03,  7.5989e-01,\n",
      "         -1.1858e-01, -8.2956e-01,  5.8384e-01],\n",
      "        [ 1.2140e+00, -6.8648e-01,  6.1010e-01, -2.5270e-01, -5.2495e-01,\n",
      "          1.2084e-02,  9.5891e-01, -1.1681e+00],\n",
      "        [ 1.5212e+00, -1.0838e+00,  4.0312e-01, -2.3126e-01,  7.0337e-01,\n",
      "         -1.9243e-02,  8.7932e-01, -1.4476e+00],\n",
      "        [-2.0408e-02, -5.0812e-02, -1.0400e-02, -1.5800e-01, -1.6316e-02,\n",
      "          7.3478e-02, -7.6402e-01,  7.9846e-01],\n",
      "        [ 2.5572e+00, -1.7989e+00,  1.3285e+00,  1.3284e-02,  1.7304e+00,\n",
      "          2.7040e-02, -6.5633e-01,  3.6921e-01],\n",
      "        [-3.6213e-01,  1.1411e+00,  3.4973e-02, -8.6040e-02, -8.0488e-01,\n",
      "          1.1736e-02, -7.4529e-01,  5.9881e-01],\n",
      "        [-1.0505e+00, -3.6864e-01, -8.0424e-01, -1.2239e-01, -1.7262e-01,\n",
      "          3.1498e-02, -1.3492e+00,  1.2377e+00]])\n",
      "----\n",
      "tensor([[2.6130],\n",
      "        [2.1970],\n",
      "        [0.9150],\n",
      "        [0.5600],\n",
      "        [2.0420],\n",
      "        [0.8470],\n",
      "        [0.9510],\n",
      "        [2.6590],\n",
      "        [1.8540],\n",
      "        [1.1000],\n",
      "        [2.7500],\n",
      "        [1.8140],\n",
      "        [0.7980],\n",
      "        [1.6060],\n",
      "        [1.5730],\n",
      "        [0.9490],\n",
      "        [2.6210],\n",
      "        [1.1250],\n",
      "        [0.5470],\n",
      "        [0.9630],\n",
      "        [3.6770],\n",
      "        [2.7220],\n",
      "        [1.7850],\n",
      "        [4.1880],\n",
      "        [1.0320],\n",
      "        [0.9990],\n",
      "        [1.4800],\n",
      "        [1.7020],\n",
      "        [1.0060],\n",
      "        [2.1200],\n",
      "        [1.6270],\n",
      "        [2.6300],\n",
      "        [3.4070],\n",
      "        [1.9230],\n",
      "        [1.9110],\n",
      "        [2.9170],\n",
      "        [0.4630],\n",
      "        [5.0000],\n",
      "        [0.9280],\n",
      "        [1.5810],\n",
      "        [0.7640],\n",
      "        [2.1630],\n",
      "        [4.9580],\n",
      "        [1.6950],\n",
      "        [1.1470],\n",
      "        [2.6980],\n",
      "        [1.9030],\n",
      "        [1.9180],\n",
      "        [1.1280],\n",
      "        [0.6070],\n",
      "        [1.1520],\n",
      "        [2.5780],\n",
      "        [5.0000],\n",
      "        [5.0000],\n",
      "        [0.5570],\n",
      "        [2.6670],\n",
      "        [1.8750],\n",
      "        [3.8080],\n",
      "        [2.6290],\n",
      "        [3.6430],\n",
      "        [1.7900],\n",
      "        [4.2580],\n",
      "        [2.0280],\n",
      "        [0.9500]])\n"
     ]
    }
   ],
   "source": [
    "for batch in train_loader:\n",
    "    X, y = batch\n",
    "    print(len(batch))\n",
    "    print(X)\n",
    "    print('----')\n",
    "    print(y)\n",
    "    break  # dla pierwszego batcha"
   ]
  },
  {
   "cell_type": "markdown",
   "id": "d05ad510",
   "metadata": {},
   "source": [
    "Dla każdej epoki:\n",
    "  🔁 Trenuj na każdym batchu:\n",
    "     - Oblicz stratę\n",
    "     - Wyzeruj gradienty\n",
    "     - Propagacja wsteczna\n",
    "     - Aktualizacja wag\n",
    "  ✅ Oblicz średnią stratę treningową\n",
    "\n",
    "  🔁 Walidacja na każdym batchu:\n",
    "     - Predykcja\n",
    "     - Strata walidacyjna\n",
    "  ✅ Oblicz średnią stratę walidacyjną\n",
    "\n",
    "  🧾 Zapisz train_loss i val_loss do history\n",
    "\n",
    "  🖨️ Co 10 epok – wypisz wynik\n"
   ]
  },
  {
   "cell_type": "markdown",
   "id": "b7f9ed16",
   "metadata": {},
   "source": [
    "<a id=\"model-def-cnn\"></a>\n",
    "# <a id='toc10_'></a>[<b><span style='color:darkorange'>Step 1.2 |</span><span style='color:#1E3A8A'> Model definition</span></b>](#toc0_)"
   ]
  },
  {
   "cell_type": "markdown",
   "id": "cd4e8688",
   "metadata": {},
   "source": [
    "To nasz **główny model regresyjny** – czyli sieć neuronowa do przewidywania cen mieszkań.  \n",
    "Dziedziczy po `nn.Module`, czyli bazowej klasie PyTorch do budowy modeli.\n",
    "\n"
   ]
  },
  {
   "cell_type": "markdown",
   "id": "4294785b",
   "metadata": {},
   "source": [
    "#### ✅ Co robi `__init__()`?\n",
    "\n",
    "-   Tworzy warstwy modelu\n",
    "    \n",
    "-   Tworzy i zapisuje funkcję straty (domyślnie `nn.MSELoss()`)\n",
    "\n"
   ]
  },
  {
   "cell_type": "markdown",
   "id": "7eff3b2f",
   "metadata": {},
   "source": [
    "✅ `forward()` jest wywoływana **automatycznie**, kiedy wywołasz model jak funkcję: `output = model(input)`\n"
   ]
  },
  {
   "cell_type": "code",
   "execution_count": 26,
   "id": "530d5dc1",
   "metadata": {},
   "outputs": [],
   "source": [
    "class CaliforniaHousingMLP(nn.Module):\n",
    "    def __init__(self, input_size):\n",
    "        super().__init__()\n",
    "        self.model = nn.Sequential(\n",
    "            nn.Linear(input_size, 64),\n",
    "            nn.ReLU(),\n",
    "            nn.Linear(64, 32),\n",
    "            nn.ReLU(),\n",
    "            nn.Linear(32, 1)\n",
    "        )\n",
    "\n",
    "    def forward(self, x):\n",
    "        return self.model(x)\n",
    "\n",
    "\n",
    "    def epoch_end(self, epoch, train_loss, val_loss, max_epochs):\n",
    "        if (epoch + 1) % 10 == 0 or epoch == max_epochs - 1:\n",
    "            print(\n",
    "                f\"Epoch [{epoch+1}/{max_epochs}], | \" \n",
    "                f\"train_loss: {train_loss:.4f}, | \" \n",
    "                f\"val_loss: {val_loss:.4f}\"\n",
    "            )\n"
   ]
  },
  {
   "cell_type": "markdown",
   "id": "04bdc40b",
   "metadata": {},
   "source": [
    "### ✅ 1. **Czym jest graf obliczeniowy i dlaczego `validation_step()` nie oblicza gradientów?**\n",
    "\n",
    "W PyTorch:\n",
    "\n",
    "-   **każda operacja matematyczna** na tensorkach (np. dodawanie, mnożenie) jest zapisywana jako **węzeł** w tzw. **grafie obliczeniowym**.\n",
    "    \n",
    "-   ten graf służy do obliczania gradientów (czyli tzw. **backpropagation**).\n",
    "    \n",
    "```python\n",
    "x = torch.tensor(2.0, requires_grad=True)\n",
    "y = x * 3 + 1\n",
    "```\n",
    "\n",
    "Tu PyTorch:\n",
    "\n",
    "-   zapamiętuje, że `y` zależy od `x`\n",
    "    \n",
    "-   tworzy graf obliczeniowy:  \n",
    "    `x → (x * 3) → (+1) → y`\n",
    "    \n",
    "\n",
    "Teraz:\n",
    "\n",
    "`y.backward()  # oblicza ∂y/∂x`\n",
    "\n",
    "I masz gradient! 🎯\n",
    "\n"
   ]
  },
  {
   "cell_type": "markdown",
   "id": "2ec9eeff",
   "metadata": {},
   "source": [
    "### Rozwiązanie: `.detach()`\n",
    "\n",
    "👉 **Odłącza tensor od grafu**:\n",
    "\n",
    "\n",
    "`loss = self.loss_fn(pred, y) return loss.detach()  # ← nie jest już częścią grafu`\n",
    "\n",
    "**lub**:\n",
    "\n",
    "`with torch.no_grad():     ...`\n",
    "\n",
    "Obie metody mówią:  \n",
    "🧼 \"Nie twórz grafu obliczeniowego — tylko przelicz wynik.\"\n",
    "\n"
   ]
  },
  {
   "cell_type": "markdown",
   "id": "a3732f93",
   "metadata": {},
   "source": [
    "### ✅ 2. **Czemu używamy `torch.stack()` w `validation_epoch_end()`?**\n",
    "\n",
    "\n",
    "`torch.stack()` Zamienia listę tensorów w jeden większy tensor.\n",
    "\n",
    "\n",
    "`val_losses = [tensor(0.3), tensor(0.4), tensor(0.5)]  # to są oddzielne tensory — nie możesz obliczyć na nich .mean()`\n",
    "\n",
    "A więc robimy:\n",
    "\n",
    "`torch.stack(val_losses) # => tensor([0.3, 0.4, 0.5])`\n",
    "\n",
    "Dzięki temu można:\n",
    "\n",
    "`torch.stack(val_losses).mean()`\n",
    "\n",
    "Czyli obliczyć **średnią stratę walidacyjną z epoki**.\n",
    "\n"
   ]
  },
  {
   "cell_type": "markdown",
   "id": "72a6db79",
   "metadata": {},
   "source": [
    "### ✅ 3. **Dlaczego w `epoch_end()` mamy taki warunek:**\n",
    "\n",
    "Wydrukuj tylko:\n",
    "\n",
    "-   co **10 epok**\n",
    "    \n",
    "-   oraz **na sam koniec** treningu (ostatnia epoka)\n",
    "    \n",
    "\n",
    "Żeby nie spamować terminala:\n",
    "\n",
    "-   Jeśli masz np. `100 epok`, nie chcesz widzieć 100 linijek\n",
    "    \n",
    "-   Wystarczy co 10 epok + na końcu\n",
    "\n"
   ]
  },
  {
   "cell_type": "markdown",
   "id": "6e224f07",
   "metadata": {},
   "source": [
    "<a id=\"training-both-models\"></a>\n",
    "# <a id='toc10_'></a>[<b><span style='color:darkorange'>Step 1.3 |</span><span style='color:#1E3A8A'> Training model</span></b>](#toc0_)"
   ]
  },
  {
   "cell_type": "markdown",
   "id": "3ac071bb",
   "metadata": {},
   "source": [
    "## 🎓 **Co to jest epoka (epoch)?**\n",
    "\n",
    "> ✅ **Epoka to jeden pełny „przegląd” całego zbioru treningowego przez model.**\n",
    "\n",
    "Czyli: 👉 Model widzi **każdy przykład raz**  \n",
    "👉 Liczy stratę  \n",
    "👉 Uczy się i aktualizuje wagi\n",
    "\n",
    "\n",
    "## 🧠 **Analogia: nauka z podręcznika**\n",
    "\n",
    "Wyobraź sobie, że uczysz się z podręcznika z 1000 pytań.\n",
    "\n",
    "-   ✅ **Epoka** = przeczytałeś i przećwiczyłeś **wszystkie 1000 pytań raz**\n",
    "    \n",
    "-   🔁 **Druga epoka** = znowu przeczytałeś te same pytania (bo chcesz się poprawić)\n",
    "    \n",
    "-   🔁 Trzecia epoka = kolejna powtórka itd.\n",
    "    \n",
    "\n",
    "Im więcej epok:\n",
    "\n",
    "-   tym lepiej zapamiętujesz\n",
    "    \n",
    "-   ale... możesz też zacząć **uczyć się na pamięć (overfitting)** ❗\n",
    "\n"
   ]
  },
  {
   "cell_type": "markdown",
   "id": "07acc7e1",
   "metadata": {},
   "source": [
    "### `train_loop(...)`\n",
    "\n",
    "\n",
    "Trenuje model przez **jedną epokę** na wszystkich batchach z `train_loader`.\n",
    "\n",
    "\n",
    "1.  `model.train()` – mówi PyTorchowi: „jestem w trybie treningu” (np. dropout działa)\n",
    "    \n",
    "2.  Dla każdego `batch`:\n",
    "    \n",
    "    -   liczy stratę: `loss = model.training_step(batch)`\n",
    "        -   pred = model(x)      <---> forward\n",
    "        \n",
    "        - loss = loss_fn(pred, y)  <---> oblicz stratę\n",
    "        \n",
    "    -   oblicza gradienty: `loss.backward()`\n",
    "        \n",
    "    -   aktualizuje wagi: `optimizer.step()`\n",
    "        \n",
    "    -   zeruje gradienty: `optimizer.zero_grad()` Czyści gradienty z poprzedniego kroku, zanim obliczysz nowe gradienty dla aktualnego batcha.\n",
    "        \n",
    "3.  Zwraca średnią stratę\n",
    "\n"
   ]
  },
  {
   "cell_type": "code",
   "execution_count": null,
   "id": "aa182358",
   "metadata": {},
   "outputs": [],
   "source": [
    "# przykład bez zero_grad\n",
    "# iteracja 1\n",
    "loss1.backward()  # ∂L1/∂W → zapisuje gradient\n",
    "# iteracja 2\n",
    "loss2.backward()  # ∂L2/∂W → DODAJE się do poprzedniego!\n"
   ]
  },
  {
   "cell_type": "markdown",
   "id": "422ac6b9",
   "metadata": {},
   "source": [
    "### `train_model_flexible(...)`\n",
    "\n",
    "\n",
    "To **główna funkcja treningowa**.  \n",
    "Steruje całą nauką modelu przez wiele epok, z opcjami jak:\n",
    "\n",
    "-   early stopping\n",
    "    \n",
    "-   weight decay\n",
    "    \n",
    "-   scheduler\n",
    "    \n",
    "\n",
    "1.  Inicjalizuje optimizer (np. Adam)\n",
    "    \n",
    "2.  (Opcjonalnie) scheduler\n",
    "    \n",
    "3.  Dla każdej epoki:\n",
    "    \n",
    "    -   `train_loop(...)`\n",
    "        \n",
    "    -   `model.validation_step(...)`\n",
    "        \n",
    "    -   `model.validation_epoch_end(...)`\n",
    "        \n",
    "    -   logowanie `epoch_end(...)`\n",
    "        \n",
    "    -   (opcjonalnie) early stopping\n",
    "        \n",
    "    -   (opcjonalnie) scheduler.step()\n",
    "        \n",
    "\n",
    "📦 Na końcu zwraca `history` (dane do wykresów: train/val loss)\n",
    "\n"
   ]
  },
  {
   "cell_type": "code",
   "execution_count": 38,
   "id": "df4c4fa4",
   "metadata": {},
   "outputs": [],
   "source": [
    "# Pętle treningowe\n",
    "def train_loop(dataloader, model, loss_fn, optimizer):\n",
    "    model.train()\n",
    "    total_loss = []\n",
    "    for batch in dataloader:        #  for batch, (X, y) in enumerate(dataloader):\n",
    "        X, y = batch                #   X, y = X.to(device), y.to(device)\n",
    "\n",
    "        # Compute prediction error\n",
    "        pred = model(X)\n",
    "        loss = loss_fn(pred, y)\n",
    "\n",
    "        # Backpropagation\n",
    "        optimizer.zero_grad()\n",
    "        loss.backward()\n",
    "\n",
    "        # Gradient diagnostyka (1. batch)\n",
    "        if batch == 0:\n",
    "            for name, param in model.named_parameters():\n",
    "                if param.requires_grad and param.grad is not None:\n",
    "                    print(f\"[{name}] grad mean: {param.grad.mean():.6f}, std: {param.grad.std():.6f}\")\n",
    "                    break\n",
    "\n",
    "        optimizer.step()\n",
    "        total_loss.append(loss.item())\n",
    "    return np.mean(total_loss)\n",
    "\n",
    "def test_loop(dataloader, model, loss_fn):\n",
    "    model.eval()\n",
    "    total_loss = []\n",
    "    with torch.no_grad():\n",
    "        for X, y in dataloader:\n",
    "            pred = model(X)\n",
    "            loss = loss_fn(pred, y)\n",
    "            total_loss.append(loss.item())\n",
    "    return np.mean(total_loss)"
   ]
  },
  {
   "cell_type": "code",
   "execution_count": 39,
   "id": "e242629d",
   "metadata": {},
   "outputs": [],
   "source": [
    "def train_model_flexible(model, name, train_loader, val_loader, loss_fn,\n",
    "                         lr=1e-3, weight_decay=False, early_stopping=False,\n",
    "                         scheduler=False, patience=3, max_epochs=50):\n",
    "\n",
    "    # ➕ Regularyzacja\n",
    "    wd = 1e-2 if weight_decay else 0.0\n",
    "    optimizer = torch.optim.Adam(model.parameters(), lr=lr, weight_decay=wd)\n",
    "\n",
    "    # ➕ Scheduler\n",
    "    sched = None\n",
    "    if scheduler:\n",
    "        sched = torch.optim.lr_scheduler.ReduceLROnPlateau(optimizer, mode='min', factor=0.5, patience=2, verbose=True)\n",
    "\n",
    "    history = {'train_loss': [], 'val_loss': []}\n",
    "    best_loss = float('inf')\n",
    "    stop_counter = 0\n",
    "\n",
    "    print(f\"\\n🧠 Training {name}...\\n\" + \"-\" * 50)\n",
    "\n",
    "    for epoch in range(max_epochs):\n",
    "        train_loss = train_loop(train_loader, model, loss_fn, optimizer)\n",
    "        val_loss = test_loop(val_loader, model, loss_fn)\n",
    "\n",
    "        if sched:\n",
    "            sched.step(val_loss)\n",
    "\n",
    "        history['train_loss'].append(train_loss)\n",
    "        history['val_loss'].append(val_loss)\n",
    "\n",
    "        model.epoch_end(epoch, train_loss, val_loss, max_epochs)\n",
    "\n",
    "        if early_stopping:\n",
    "            if val_loss < best_loss:\n",
    "                best_loss = val_loss\n",
    "                stop_counter = 0\n",
    "            else:\n",
    "                stop_counter += 1\n",
    "                if stop_counter >= patience:\n",
    "                    print(\"⏹️ Early stopping triggered.\")\n",
    "                    break\n",
    "\n",
    "    return history\n"
   ]
  },
  {
   "cell_type": "code",
   "execution_count": 40,
   "id": "97588063",
   "metadata": {},
   "outputs": [
    {
     "name": "stdout",
     "output_type": "stream",
     "text": [
      "\n",
      "🧠 Training CaliforniaHousingMLP...\n",
      "--------------------------------------------------\n",
      "Epoch [10/100], | train_loss: 0.3226, | val_loss: 0.3324\n",
      "Epoch [20/100], | train_loss: 0.2908, | val_loss: 0.3012\n",
      "Epoch [30/100], | train_loss: 0.2778, | val_loss: 0.2894\n",
      "Epoch [40/100], | train_loss: 0.2713, | val_loss: 0.2926\n",
      "Epoch [50/100], | train_loss: 0.2655, | val_loss: 0.2838\n",
      "Epoch [60/100], | train_loss: 0.2615, | val_loss: 0.2906\n",
      "Epoch [70/100], | train_loss: 0.2564, | val_loss: 0.2847\n",
      "Epoch [80/100], | train_loss: 0.2531, | val_loss: 0.2806\n",
      "Epoch [90/100], | train_loss: 0.2506, | val_loss: 0.2733\n",
      "Epoch [100/100], | train_loss: 0.2467, | val_loss: 0.2743\n"
     ]
    }
   ],
   "source": [
    "# Trening modelu\n",
    "epochs = 100\n",
    "learning_rate = 1e-3\n",
    "loss_fn = nn.MSELoss()\n",
    "\n",
    "\n",
    "model = CaliforniaHousingMLP(input_size=X.shape[1])\n",
    "history = train_model_flexible(\n",
    "    model,\n",
    "    name=\"CaliforniaHousingMLP\",\n",
    "    train_loader=train_loader,\n",
    "    val_loader=val_loader,\n",
    "    loss_fn=loss_fn,\n",
    "    lr=learning_rate,\n",
    "    early_stopping=False,\n",
    "    scheduler=False,\n",
    "    max_epochs=epochs\n",
    ")"
   ]
  },
  {
   "cell_type": "markdown",
   "id": "702fa37a",
   "metadata": {},
   "source": [
    "<a id=\"plots-loss-accuracy\"></a>\n",
    "# <a id='toc10_'></a>[<b><span style='color:darkorange'>Step 1.4 |</span><span style='color:#1E3A8A'> Loss & Accuracy</span></b>](#toc0_)"
   ]
  },
  {
   "cell_type": "markdown",
   "id": "08696552",
   "metadata": {},
   "source": [
    "Wykres strat treningowych i walidacyjnych (loss vs epoch) – w Plotly.\n",
    "\n"
   ]
  },
  {
   "cell_type": "code",
   "execution_count": 33,
   "id": "da34acef",
   "metadata": {},
   "outputs": [],
   "source": [
    "# Wykresy\n",
    "def plot_training_curves_regression(history):\n",
    "    epochs_range = list(range(1, len(history['train_loss']) + 1))\n",
    "    fig = go.Figure()\n",
    "    fig.add_trace(go.Scatter(x=epochs_range, y=history['train_loss'], mode='lines+markers', name='Train Loss'))\n",
    "    fig.add_trace(go.Scatter(x=epochs_range, y=history['val_loss'], mode='lines+markers', name='Validation Loss'))\n",
    "    fig.update_layout(\n",
    "        title=\"📉 Loss during Training (Regression)\",\n",
    "        xaxis_title=\"Epoch\",\n",
    "        yaxis_title=\"MSE Loss\",\n",
    "        template=\"plotly_white\"\n",
    "    )\n",
    "    fig.show()"
   ]
  },
  {
   "cell_type": "code",
   "execution_count": 41,
   "id": "9bf87b58",
   "metadata": {},
   "outputs": [
    {
     "data": {
      "application/vnd.plotly.v1+json": {
       "config": {
        "plotlyServerURL": "https://plot.ly"
       },
       "data": [
        {
         "mode": "lines+markers",
         "name": "Train Loss",
         "type": "scatter",
         "x": [
          1,
          2,
          3,
          4,
          5,
          6,
          7,
          8,
          9,
          10,
          11,
          12,
          13,
          14,
          15,
          16,
          17,
          18,
          19,
          20,
          21,
          22,
          23,
          24,
          25,
          26,
          27,
          28,
          29,
          30,
          31,
          32,
          33,
          34,
          35,
          36,
          37,
          38,
          39,
          40,
          41,
          42,
          43,
          44,
          45,
          46,
          47,
          48,
          49,
          50,
          51,
          52,
          53,
          54,
          55,
          56,
          57,
          58,
          59,
          60,
          61,
          62,
          63,
          64,
          65,
          66,
          67,
          68,
          69,
          70,
          71,
          72,
          73,
          74,
          75,
          76,
          77,
          78,
          79,
          80,
          81,
          82,
          83,
          84,
          85,
          86,
          87,
          88,
          89,
          90,
          91,
          92,
          93,
          94,
          95,
          96,
          97,
          98,
          99,
          100
         ],
         "y": [
          1.4357229389192523,
          0.4826319914224536,
          0.4046610332159109,
          0.3798177806559459,
          0.36593567268099897,
          0.3565392295519511,
          0.34736560365950414,
          0.3371030489026114,
          0.33208844446858693,
          0.32260116562247276,
          0.3148313003570534,
          0.3134159290686596,
          0.346695358525644,
          0.3085212309000104,
          0.3013091688585836,
          0.2957472015143365,
          0.2965951140594575,
          0.2929101209192313,
          0.29288373890426733,
          0.29079652505443077,
          0.29246679921598395,
          0.28935969779773274,
          0.2860355064734932,
          0.28936902557810146,
          0.28384403566750444,
          0.28277935708562535,
          0.29185149830210116,
          0.28159107984036436,
          0.2807629714871562,
          0.2778462745364784,
          0.2753002027612786,
          0.27995459019213687,
          0.27714238873170327,
          0.2741057656763136,
          0.27168329242010447,
          0.27044946743651876,
          0.27447829944218777,
          0.27278727319004925,
          0.2760950210829114,
          0.271317403416994,
          0.27210008893017623,
          0.2666365500510663,
          0.26886238261710765,
          0.26776740281272304,
          0.27318496961695277,
          0.2688176431512648,
          0.26875879702179933,
          0.26627535370084665,
          0.2666949398180311,
          0.265460344536822,
          0.26516658437344454,
          0.2667097507059112,
          0.27142595401568004,
          0.26650038835152173,
          0.262713058483462,
          0.2624834533636422,
          0.26061194866549137,
          0.2608643575867479,
          0.26142604989829915,
          0.26150658371490104,
          0.26207312716301095,
          0.26067743635223817,
          0.2614425563419512,
          0.2591198776928029,
          0.25883174739604775,
          0.25883038760733235,
          0.25815611936209737,
          0.26023085478895397,
          0.2560212543999502,
          0.25642775723985,
          0.254507598633221,
          0.2559571322198062,
          0.2551805461042149,
          0.25779312693102413,
          0.25366576890959297,
          0.2553574033370314,
          0.2526951995064584,
          0.25255445249436437,
          0.25416171316837155,
          0.25308818297908287,
          0.25317369340810664,
          0.25278578793933226,
          0.25160861165486564,
          0.2516091760796632,
          0.24983078943088996,
          0.25153048033284586,
          0.2499262387611607,
          0.2506566067016864,
          0.24978467027923856,
          0.25064325139157534,
          0.24877579518875412,
          0.24831380048232485,
          0.24679572860053342,
          0.24641633593989898,
          0.24742852763612141,
          0.24656932500674744,
          0.2484762198472208,
          0.24623928325929384,
          0.24589946164294732,
          0.2467453247874744
         ]
        },
        {
         "mode": "lines+markers",
         "name": "Validation Loss",
         "type": "scatter",
         "x": [
          1,
          2,
          3,
          4,
          5,
          6,
          7,
          8,
          9,
          10,
          11,
          12,
          13,
          14,
          15,
          16,
          17,
          18,
          19,
          20,
          21,
          22,
          23,
          24,
          25,
          26,
          27,
          28,
          29,
          30,
          31,
          32,
          33,
          34,
          35,
          36,
          37,
          38,
          39,
          40,
          41,
          42,
          43,
          44,
          45,
          46,
          47,
          48,
          49,
          50,
          51,
          52,
          53,
          54,
          55,
          56,
          57,
          58,
          59,
          60,
          61,
          62,
          63,
          64,
          65,
          66,
          67,
          68,
          69,
          70,
          71,
          72,
          73,
          74,
          75,
          76,
          77,
          78,
          79,
          80,
          81,
          82,
          83,
          84,
          85,
          86,
          87,
          88,
          89,
          90,
          91,
          92,
          93,
          94,
          95,
          96,
          97,
          98,
          99,
          100
         ],
         "y": [
          0.6029072055449852,
          0.43814773834668674,
          0.4020978061052469,
          0.38621085446614484,
          0.37087153929930466,
          0.3595385952637746,
          0.35925243611519153,
          0.34178989575459406,
          0.3532821611716197,
          0.3323787088577564,
          0.3337781759408804,
          0.32077784492419315,
          0.3222515807701991,
          0.31185321280589473,
          0.3107018791712247,
          0.3168577700853348,
          0.30717922586661117,
          0.3153364603336041,
          0.3174022211478307,
          0.30115860861081345,
          0.29885468666370096,
          0.30320431888103483,
          0.2996002481533931,
          0.3030611157417297,
          0.3021359154811272,
          0.3042860732628749,
          0.2961598235827226,
          0.31926762461662295,
          0.29710468787413374,
          0.2894307805941655,
          0.29360807973604935,
          0.33076799832857573,
          0.29837732773560743,
          0.28851859271526337,
          0.2883302569389343,
          0.2894964665174484,
          0.2943654443208988,
          0.3266920644503373,
          0.28663620834167186,
          0.29257275209977074,
          0.28545120197993057,
          0.29159861688430494,
          0.28450139462947843,
          0.28928342622060044,
          0.28277581013165987,
          0.2873162551568105,
          0.29374464131318606,
          0.28303460272458886,
          0.2906952585165317,
          0.28376009051616374,
          0.295354897242326,
          0.3068891057601342,
          0.28760207914389097,
          0.28500983646282785,
          0.2841791806312708,
          0.2831853348475236,
          0.28620111896441536,
          0.29240221564586344,
          0.2871768917028721,
          0.2906011411776909,
          0.28650349584909585,
          0.28272296832158017,
          0.2886754430257357,
          0.28397468534799725,
          0.285732399729582,
          0.2823871821165085,
          0.28379598580873927,
          0.2922471633324256,
          0.27687585766498857,
          0.28469534401710217,
          0.2791437064225857,
          0.28926643041464,
          0.28461183309555055,
          0.2761641506965344,
          0.28276760738629564,
          0.27717488132990326,
          0.28244401537455044,
          0.2801220737970792,
          0.2859828593639227,
          0.2805705068203119,
          0.27671488913205955,
          0.27920339703559877,
          0.2763238005913221,
          0.2772514549585489,
          0.2799280618245785,
          0.27464077747785126,
          0.2783864773236788,
          0.27570268924419694,
          0.2781568284218128,
          0.2732635083106848,
          0.2733601891077482,
          0.27241236934295066,
          0.27674039281331575,
          0.274685363815381,
          0.27278472230984613,
          0.27604228762479927,
          0.27403774032225975,
          0.28434940920426294,
          0.27715480350531063,
          0.2743090670842391
         ]
        }
       ],
       "layout": {
        "template": {
         "data": {
          "bar": [
           {
            "error_x": {
             "color": "#2a3f5f"
            },
            "error_y": {
             "color": "#2a3f5f"
            },
            "marker": {
             "line": {
              "color": "white",
              "width": 0.5
             },
             "pattern": {
              "fillmode": "overlay",
              "size": 10,
              "solidity": 0.2
             }
            },
            "type": "bar"
           }
          ],
          "barpolar": [
           {
            "marker": {
             "line": {
              "color": "white",
              "width": 0.5
             },
             "pattern": {
              "fillmode": "overlay",
              "size": 10,
              "solidity": 0.2
             }
            },
            "type": "barpolar"
           }
          ],
          "carpet": [
           {
            "aaxis": {
             "endlinecolor": "#2a3f5f",
             "gridcolor": "#C8D4E3",
             "linecolor": "#C8D4E3",
             "minorgridcolor": "#C8D4E3",
             "startlinecolor": "#2a3f5f"
            },
            "baxis": {
             "endlinecolor": "#2a3f5f",
             "gridcolor": "#C8D4E3",
             "linecolor": "#C8D4E3",
             "minorgridcolor": "#C8D4E3",
             "startlinecolor": "#2a3f5f"
            },
            "type": "carpet"
           }
          ],
          "choropleth": [
           {
            "colorbar": {
             "outlinewidth": 0,
             "ticks": ""
            },
            "type": "choropleth"
           }
          ],
          "contour": [
           {
            "colorbar": {
             "outlinewidth": 0,
             "ticks": ""
            },
            "colorscale": [
             [
              0,
              "#0d0887"
             ],
             [
              0.1111111111111111,
              "#46039f"
             ],
             [
              0.2222222222222222,
              "#7201a8"
             ],
             [
              0.3333333333333333,
              "#9c179e"
             ],
             [
              0.4444444444444444,
              "#bd3786"
             ],
             [
              0.5555555555555556,
              "#d8576b"
             ],
             [
              0.6666666666666666,
              "#ed7953"
             ],
             [
              0.7777777777777778,
              "#fb9f3a"
             ],
             [
              0.8888888888888888,
              "#fdca26"
             ],
             [
              1,
              "#f0f921"
             ]
            ],
            "type": "contour"
           }
          ],
          "contourcarpet": [
           {
            "colorbar": {
             "outlinewidth": 0,
             "ticks": ""
            },
            "type": "contourcarpet"
           }
          ],
          "heatmap": [
           {
            "colorbar": {
             "outlinewidth": 0,
             "ticks": ""
            },
            "colorscale": [
             [
              0,
              "#0d0887"
             ],
             [
              0.1111111111111111,
              "#46039f"
             ],
             [
              0.2222222222222222,
              "#7201a8"
             ],
             [
              0.3333333333333333,
              "#9c179e"
             ],
             [
              0.4444444444444444,
              "#bd3786"
             ],
             [
              0.5555555555555556,
              "#d8576b"
             ],
             [
              0.6666666666666666,
              "#ed7953"
             ],
             [
              0.7777777777777778,
              "#fb9f3a"
             ],
             [
              0.8888888888888888,
              "#fdca26"
             ],
             [
              1,
              "#f0f921"
             ]
            ],
            "type": "heatmap"
           }
          ],
          "histogram": [
           {
            "marker": {
             "pattern": {
              "fillmode": "overlay",
              "size": 10,
              "solidity": 0.2
             }
            },
            "type": "histogram"
           }
          ],
          "histogram2d": [
           {
            "colorbar": {
             "outlinewidth": 0,
             "ticks": ""
            },
            "colorscale": [
             [
              0,
              "#0d0887"
             ],
             [
              0.1111111111111111,
              "#46039f"
             ],
             [
              0.2222222222222222,
              "#7201a8"
             ],
             [
              0.3333333333333333,
              "#9c179e"
             ],
             [
              0.4444444444444444,
              "#bd3786"
             ],
             [
              0.5555555555555556,
              "#d8576b"
             ],
             [
              0.6666666666666666,
              "#ed7953"
             ],
             [
              0.7777777777777778,
              "#fb9f3a"
             ],
             [
              0.8888888888888888,
              "#fdca26"
             ],
             [
              1,
              "#f0f921"
             ]
            ],
            "type": "histogram2d"
           }
          ],
          "histogram2dcontour": [
           {
            "colorbar": {
             "outlinewidth": 0,
             "ticks": ""
            },
            "colorscale": [
             [
              0,
              "#0d0887"
             ],
             [
              0.1111111111111111,
              "#46039f"
             ],
             [
              0.2222222222222222,
              "#7201a8"
             ],
             [
              0.3333333333333333,
              "#9c179e"
             ],
             [
              0.4444444444444444,
              "#bd3786"
             ],
             [
              0.5555555555555556,
              "#d8576b"
             ],
             [
              0.6666666666666666,
              "#ed7953"
             ],
             [
              0.7777777777777778,
              "#fb9f3a"
             ],
             [
              0.8888888888888888,
              "#fdca26"
             ],
             [
              1,
              "#f0f921"
             ]
            ],
            "type": "histogram2dcontour"
           }
          ],
          "mesh3d": [
           {
            "colorbar": {
             "outlinewidth": 0,
             "ticks": ""
            },
            "type": "mesh3d"
           }
          ],
          "parcoords": [
           {
            "line": {
             "colorbar": {
              "outlinewidth": 0,
              "ticks": ""
             }
            },
            "type": "parcoords"
           }
          ],
          "pie": [
           {
            "automargin": true,
            "type": "pie"
           }
          ],
          "scatter": [
           {
            "fillpattern": {
             "fillmode": "overlay",
             "size": 10,
             "solidity": 0.2
            },
            "type": "scatter"
           }
          ],
          "scatter3d": [
           {
            "line": {
             "colorbar": {
              "outlinewidth": 0,
              "ticks": ""
             }
            },
            "marker": {
             "colorbar": {
              "outlinewidth": 0,
              "ticks": ""
             }
            },
            "type": "scatter3d"
           }
          ],
          "scattercarpet": [
           {
            "marker": {
             "colorbar": {
              "outlinewidth": 0,
              "ticks": ""
             }
            },
            "type": "scattercarpet"
           }
          ],
          "scattergeo": [
           {
            "marker": {
             "colorbar": {
              "outlinewidth": 0,
              "ticks": ""
             }
            },
            "type": "scattergeo"
           }
          ],
          "scattergl": [
           {
            "marker": {
             "colorbar": {
              "outlinewidth": 0,
              "ticks": ""
             }
            },
            "type": "scattergl"
           }
          ],
          "scattermap": [
           {
            "marker": {
             "colorbar": {
              "outlinewidth": 0,
              "ticks": ""
             }
            },
            "type": "scattermap"
           }
          ],
          "scattermapbox": [
           {
            "marker": {
             "colorbar": {
              "outlinewidth": 0,
              "ticks": ""
             }
            },
            "type": "scattermapbox"
           }
          ],
          "scatterpolar": [
           {
            "marker": {
             "colorbar": {
              "outlinewidth": 0,
              "ticks": ""
             }
            },
            "type": "scatterpolar"
           }
          ],
          "scatterpolargl": [
           {
            "marker": {
             "colorbar": {
              "outlinewidth": 0,
              "ticks": ""
             }
            },
            "type": "scatterpolargl"
           }
          ],
          "scatterternary": [
           {
            "marker": {
             "colorbar": {
              "outlinewidth": 0,
              "ticks": ""
             }
            },
            "type": "scatterternary"
           }
          ],
          "surface": [
           {
            "colorbar": {
             "outlinewidth": 0,
             "ticks": ""
            },
            "colorscale": [
             [
              0,
              "#0d0887"
             ],
             [
              0.1111111111111111,
              "#46039f"
             ],
             [
              0.2222222222222222,
              "#7201a8"
             ],
             [
              0.3333333333333333,
              "#9c179e"
             ],
             [
              0.4444444444444444,
              "#bd3786"
             ],
             [
              0.5555555555555556,
              "#d8576b"
             ],
             [
              0.6666666666666666,
              "#ed7953"
             ],
             [
              0.7777777777777778,
              "#fb9f3a"
             ],
             [
              0.8888888888888888,
              "#fdca26"
             ],
             [
              1,
              "#f0f921"
             ]
            ],
            "type": "surface"
           }
          ],
          "table": [
           {
            "cells": {
             "fill": {
              "color": "#EBF0F8"
             },
             "line": {
              "color": "white"
             }
            },
            "header": {
             "fill": {
              "color": "#C8D4E3"
             },
             "line": {
              "color": "white"
             }
            },
            "type": "table"
           }
          ]
         },
         "layout": {
          "annotationdefaults": {
           "arrowcolor": "#2a3f5f",
           "arrowhead": 0,
           "arrowwidth": 1
          },
          "autotypenumbers": "strict",
          "coloraxis": {
           "colorbar": {
            "outlinewidth": 0,
            "ticks": ""
           }
          },
          "colorscale": {
           "diverging": [
            [
             0,
             "#8e0152"
            ],
            [
             0.1,
             "#c51b7d"
            ],
            [
             0.2,
             "#de77ae"
            ],
            [
             0.3,
             "#f1b6da"
            ],
            [
             0.4,
             "#fde0ef"
            ],
            [
             0.5,
             "#f7f7f7"
            ],
            [
             0.6,
             "#e6f5d0"
            ],
            [
             0.7,
             "#b8e186"
            ],
            [
             0.8,
             "#7fbc41"
            ],
            [
             0.9,
             "#4d9221"
            ],
            [
             1,
             "#276419"
            ]
           ],
           "sequential": [
            [
             0,
             "#0d0887"
            ],
            [
             0.1111111111111111,
             "#46039f"
            ],
            [
             0.2222222222222222,
             "#7201a8"
            ],
            [
             0.3333333333333333,
             "#9c179e"
            ],
            [
             0.4444444444444444,
             "#bd3786"
            ],
            [
             0.5555555555555556,
             "#d8576b"
            ],
            [
             0.6666666666666666,
             "#ed7953"
            ],
            [
             0.7777777777777778,
             "#fb9f3a"
            ],
            [
             0.8888888888888888,
             "#fdca26"
            ],
            [
             1,
             "#f0f921"
            ]
           ],
           "sequentialminus": [
            [
             0,
             "#0d0887"
            ],
            [
             0.1111111111111111,
             "#46039f"
            ],
            [
             0.2222222222222222,
             "#7201a8"
            ],
            [
             0.3333333333333333,
             "#9c179e"
            ],
            [
             0.4444444444444444,
             "#bd3786"
            ],
            [
             0.5555555555555556,
             "#d8576b"
            ],
            [
             0.6666666666666666,
             "#ed7953"
            ],
            [
             0.7777777777777778,
             "#fb9f3a"
            ],
            [
             0.8888888888888888,
             "#fdca26"
            ],
            [
             1,
             "#f0f921"
            ]
           ]
          },
          "colorway": [
           "#636efa",
           "#EF553B",
           "#00cc96",
           "#ab63fa",
           "#FFA15A",
           "#19d3f3",
           "#FF6692",
           "#B6E880",
           "#FF97FF",
           "#FECB52"
          ],
          "font": {
           "color": "#2a3f5f"
          },
          "geo": {
           "bgcolor": "white",
           "lakecolor": "white",
           "landcolor": "white",
           "showlakes": true,
           "showland": true,
           "subunitcolor": "#C8D4E3"
          },
          "hoverlabel": {
           "align": "left"
          },
          "hovermode": "closest",
          "mapbox": {
           "style": "light"
          },
          "paper_bgcolor": "white",
          "plot_bgcolor": "white",
          "polar": {
           "angularaxis": {
            "gridcolor": "#EBF0F8",
            "linecolor": "#EBF0F8",
            "ticks": ""
           },
           "bgcolor": "white",
           "radialaxis": {
            "gridcolor": "#EBF0F8",
            "linecolor": "#EBF0F8",
            "ticks": ""
           }
          },
          "scene": {
           "xaxis": {
            "backgroundcolor": "white",
            "gridcolor": "#DFE8F3",
            "gridwidth": 2,
            "linecolor": "#EBF0F8",
            "showbackground": true,
            "ticks": "",
            "zerolinecolor": "#EBF0F8"
           },
           "yaxis": {
            "backgroundcolor": "white",
            "gridcolor": "#DFE8F3",
            "gridwidth": 2,
            "linecolor": "#EBF0F8",
            "showbackground": true,
            "ticks": "",
            "zerolinecolor": "#EBF0F8"
           },
           "zaxis": {
            "backgroundcolor": "white",
            "gridcolor": "#DFE8F3",
            "gridwidth": 2,
            "linecolor": "#EBF0F8",
            "showbackground": true,
            "ticks": "",
            "zerolinecolor": "#EBF0F8"
           }
          },
          "shapedefaults": {
           "line": {
            "color": "#2a3f5f"
           }
          },
          "ternary": {
           "aaxis": {
            "gridcolor": "#DFE8F3",
            "linecolor": "#A2B1C6",
            "ticks": ""
           },
           "baxis": {
            "gridcolor": "#DFE8F3",
            "linecolor": "#A2B1C6",
            "ticks": ""
           },
           "bgcolor": "white",
           "caxis": {
            "gridcolor": "#DFE8F3",
            "linecolor": "#A2B1C6",
            "ticks": ""
           }
          },
          "title": {
           "x": 0.05
          },
          "xaxis": {
           "automargin": true,
           "gridcolor": "#EBF0F8",
           "linecolor": "#EBF0F8",
           "ticks": "",
           "title": {
            "standoff": 15
           },
           "zerolinecolor": "#EBF0F8",
           "zerolinewidth": 2
          },
          "yaxis": {
           "automargin": true,
           "gridcolor": "#EBF0F8",
           "linecolor": "#EBF0F8",
           "ticks": "",
           "title": {
            "standoff": 15
           },
           "zerolinecolor": "#EBF0F8",
           "zerolinewidth": 2
          }
         }
        },
        "title": {
         "text": "📉 Loss during Training (Regression)"
        },
        "xaxis": {
         "title": {
          "text": "Epoch"
         }
        },
        "yaxis": {
         "title": {
          "text": "MSE Loss"
         }
        }
       }
      }
     },
     "metadata": {},
     "output_type": "display_data"
    },
    {
     "data": {
      "application/vnd.plotly.v1+json": {
       "config": {
        "plotlyServerURL": "https://plot.ly"
       },
       "data": [
        {
         "mode": "markers",
         "name": "Predictions",
         "type": "scatter",
         "x": {
          "bdata": "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",
          "dtype": "f4"
         },
         "y": {
          "bdata": "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",
          "dtype": "f4"
         }
        },
        {
         "line": {
          "color": "red",
          "dash": "dash"
         },
         "mode": "lines",
         "name": "Ideal",
         "type": "scatter",
         "x": [
          0.1499900072813034,
          5.000010013580322
         ],
         "y": [
          0.1499900072813034,
          5.000010013580322
         ]
        }
       ],
       "layout": {
        "template": {
         "data": {
          "bar": [
           {
            "error_x": {
             "color": "#2a3f5f"
            },
            "error_y": {
             "color": "#2a3f5f"
            },
            "marker": {
             "line": {
              "color": "white",
              "width": 0.5
             },
             "pattern": {
              "fillmode": "overlay",
              "size": 10,
              "solidity": 0.2
             }
            },
            "type": "bar"
           }
          ],
          "barpolar": [
           {
            "marker": {
             "line": {
              "color": "white",
              "width": 0.5
             },
             "pattern": {
              "fillmode": "overlay",
              "size": 10,
              "solidity": 0.2
             }
            },
            "type": "barpolar"
           }
          ],
          "carpet": [
           {
            "aaxis": {
             "endlinecolor": "#2a3f5f",
             "gridcolor": "#C8D4E3",
             "linecolor": "#C8D4E3",
             "minorgridcolor": "#C8D4E3",
             "startlinecolor": "#2a3f5f"
            },
            "baxis": {
             "endlinecolor": "#2a3f5f",
             "gridcolor": "#C8D4E3",
             "linecolor": "#C8D4E3",
             "minorgridcolor": "#C8D4E3",
             "startlinecolor": "#2a3f5f"
            },
            "type": "carpet"
           }
          ],
          "choropleth": [
           {
            "colorbar": {
             "outlinewidth": 0,
             "ticks": ""
            },
            "type": "choropleth"
           }
          ],
          "contour": [
           {
            "colorbar": {
             "outlinewidth": 0,
             "ticks": ""
            },
            "colorscale": [
             [
              0,
              "#0d0887"
             ],
             [
              0.1111111111111111,
              "#46039f"
             ],
             [
              0.2222222222222222,
              "#7201a8"
             ],
             [
              0.3333333333333333,
              "#9c179e"
             ],
             [
              0.4444444444444444,
              "#bd3786"
             ],
             [
              0.5555555555555556,
              "#d8576b"
             ],
             [
              0.6666666666666666,
              "#ed7953"
             ],
             [
              0.7777777777777778,
              "#fb9f3a"
             ],
             [
              0.8888888888888888,
              "#fdca26"
             ],
             [
              1,
              "#f0f921"
             ]
            ],
            "type": "contour"
           }
          ],
          "contourcarpet": [
           {
            "colorbar": {
             "outlinewidth": 0,
             "ticks": ""
            },
            "type": "contourcarpet"
           }
          ],
          "heatmap": [
           {
            "colorbar": {
             "outlinewidth": 0,
             "ticks": ""
            },
            "colorscale": [
             [
              0,
              "#0d0887"
             ],
             [
              0.1111111111111111,
              "#46039f"
             ],
             [
              0.2222222222222222,
              "#7201a8"
             ],
             [
              0.3333333333333333,
              "#9c179e"
             ],
             [
              0.4444444444444444,
              "#bd3786"
             ],
             [
              0.5555555555555556,
              "#d8576b"
             ],
             [
              0.6666666666666666,
              "#ed7953"
             ],
             [
              0.7777777777777778,
              "#fb9f3a"
             ],
             [
              0.8888888888888888,
              "#fdca26"
             ],
             [
              1,
              "#f0f921"
             ]
            ],
            "type": "heatmap"
           }
          ],
          "histogram": [
           {
            "marker": {
             "pattern": {
              "fillmode": "overlay",
              "size": 10,
              "solidity": 0.2
             }
            },
            "type": "histogram"
           }
          ],
          "histogram2d": [
           {
            "colorbar": {
             "outlinewidth": 0,
             "ticks": ""
            },
            "colorscale": [
             [
              0,
              "#0d0887"
             ],
             [
              0.1111111111111111,
              "#46039f"
             ],
             [
              0.2222222222222222,
              "#7201a8"
             ],
             [
              0.3333333333333333,
              "#9c179e"
             ],
             [
              0.4444444444444444,
              "#bd3786"
             ],
             [
              0.5555555555555556,
              "#d8576b"
             ],
             [
              0.6666666666666666,
              "#ed7953"
             ],
             [
              0.7777777777777778,
              "#fb9f3a"
             ],
             [
              0.8888888888888888,
              "#fdca26"
             ],
             [
              1,
              "#f0f921"
             ]
            ],
            "type": "histogram2d"
           }
          ],
          "histogram2dcontour": [
           {
            "colorbar": {
             "outlinewidth": 0,
             "ticks": ""
            },
            "colorscale": [
             [
              0,
              "#0d0887"
             ],
             [
              0.1111111111111111,
              "#46039f"
             ],
             [
              0.2222222222222222,
              "#7201a8"
             ],
             [
              0.3333333333333333,
              "#9c179e"
             ],
             [
              0.4444444444444444,
              "#bd3786"
             ],
             [
              0.5555555555555556,
              "#d8576b"
             ],
             [
              0.6666666666666666,
              "#ed7953"
             ],
             [
              0.7777777777777778,
              "#fb9f3a"
             ],
             [
              0.8888888888888888,
              "#fdca26"
             ],
             [
              1,
              "#f0f921"
             ]
            ],
            "type": "histogram2dcontour"
           }
          ],
          "mesh3d": [
           {
            "colorbar": {
             "outlinewidth": 0,
             "ticks": ""
            },
            "type": "mesh3d"
           }
          ],
          "parcoords": [
           {
            "line": {
             "colorbar": {
              "outlinewidth": 0,
              "ticks": ""
             }
            },
            "type": "parcoords"
           }
          ],
          "pie": [
           {
            "automargin": true,
            "type": "pie"
           }
          ],
          "scatter": [
           {
            "fillpattern": {
             "fillmode": "overlay",
             "size": 10,
             "solidity": 0.2
            },
            "type": "scatter"
           }
          ],
          "scatter3d": [
           {
            "line": {
             "colorbar": {
              "outlinewidth": 0,
              "ticks": ""
             }
            },
            "marker": {
             "colorbar": {
              "outlinewidth": 0,
              "ticks": ""
             }
            },
            "type": "scatter3d"
           }
          ],
          "scattercarpet": [
           {
            "marker": {
             "colorbar": {
              "outlinewidth": 0,
              "ticks": ""
             }
            },
            "type": "scattercarpet"
           }
          ],
          "scattergeo": [
           {
            "marker": {
             "colorbar": {
              "outlinewidth": 0,
              "ticks": ""
             }
            },
            "type": "scattergeo"
           }
          ],
          "scattergl": [
           {
            "marker": {
             "colorbar": {
              "outlinewidth": 0,
              "ticks": ""
             }
            },
            "type": "scattergl"
           }
          ],
          "scattermap": [
           {
            "marker": {
             "colorbar": {
              "outlinewidth": 0,
              "ticks": ""
             }
            },
            "type": "scattermap"
           }
          ],
          "scattermapbox": [
           {
            "marker": {
             "colorbar": {
              "outlinewidth": 0,
              "ticks": ""
             }
            },
            "type": "scattermapbox"
           }
          ],
          "scatterpolar": [
           {
            "marker": {
             "colorbar": {
              "outlinewidth": 0,
              "ticks": ""
             }
            },
            "type": "scatterpolar"
           }
          ],
          "scatterpolargl": [
           {
            "marker": {
             "colorbar": {
              "outlinewidth": 0,
              "ticks": ""
             }
            },
            "type": "scatterpolargl"
           }
          ],
          "scatterternary": [
           {
            "marker": {
             "colorbar": {
              "outlinewidth": 0,
              "ticks": ""
             }
            },
            "type": "scatterternary"
           }
          ],
          "surface": [
           {
            "colorbar": {
             "outlinewidth": 0,
             "ticks": ""
            },
            "colorscale": [
             [
              0,
              "#0d0887"
             ],
             [
              0.1111111111111111,
              "#46039f"
             ],
             [
              0.2222222222222222,
              "#7201a8"
             ],
             [
              0.3333333333333333,
              "#9c179e"
             ],
             [
              0.4444444444444444,
              "#bd3786"
             ],
             [
              0.5555555555555556,
              "#d8576b"
             ],
             [
              0.6666666666666666,
              "#ed7953"
             ],
             [
              0.7777777777777778,
              "#fb9f3a"
             ],
             [
              0.8888888888888888,
              "#fdca26"
             ],
             [
              1,
              "#f0f921"
             ]
            ],
            "type": "surface"
           }
          ],
          "table": [
           {
            "cells": {
             "fill": {
              "color": "#EBF0F8"
             },
             "line": {
              "color": "white"
             }
            },
            "header": {
             "fill": {
              "color": "#C8D4E3"
             },
             "line": {
              "color": "white"
             }
            },
            "type": "table"
           }
          ]
         },
         "layout": {
          "annotationdefaults": {
           "arrowcolor": "#2a3f5f",
           "arrowhead": 0,
           "arrowwidth": 1
          },
          "autotypenumbers": "strict",
          "coloraxis": {
           "colorbar": {
            "outlinewidth": 0,
            "ticks": ""
           }
          },
          "colorscale": {
           "diverging": [
            [
             0,
             "#8e0152"
            ],
            [
             0.1,
             "#c51b7d"
            ],
            [
             0.2,
             "#de77ae"
            ],
            [
             0.3,
             "#f1b6da"
            ],
            [
             0.4,
             "#fde0ef"
            ],
            [
             0.5,
             "#f7f7f7"
            ],
            [
             0.6,
             "#e6f5d0"
            ],
            [
             0.7,
             "#b8e186"
            ],
            [
             0.8,
             "#7fbc41"
            ],
            [
             0.9,
             "#4d9221"
            ],
            [
             1,
             "#276419"
            ]
           ],
           "sequential": [
            [
             0,
             "#0d0887"
            ],
            [
             0.1111111111111111,
             "#46039f"
            ],
            [
             0.2222222222222222,
             "#7201a8"
            ],
            [
             0.3333333333333333,
             "#9c179e"
            ],
            [
             0.4444444444444444,
             "#bd3786"
            ],
            [
             0.5555555555555556,
             "#d8576b"
            ],
            [
             0.6666666666666666,
             "#ed7953"
            ],
            [
             0.7777777777777778,
             "#fb9f3a"
            ],
            [
             0.8888888888888888,
             "#fdca26"
            ],
            [
             1,
             "#f0f921"
            ]
           ],
           "sequentialminus": [
            [
             0,
             "#0d0887"
            ],
            [
             0.1111111111111111,
             "#46039f"
            ],
            [
             0.2222222222222222,
             "#7201a8"
            ],
            [
             0.3333333333333333,
             "#9c179e"
            ],
            [
             0.4444444444444444,
             "#bd3786"
            ],
            [
             0.5555555555555556,
             "#d8576b"
            ],
            [
             0.6666666666666666,
             "#ed7953"
            ],
            [
             0.7777777777777778,
             "#fb9f3a"
            ],
            [
             0.8888888888888888,
             "#fdca26"
            ],
            [
             1,
             "#f0f921"
            ]
           ]
          },
          "colorway": [
           "#636efa",
           "#EF553B",
           "#00cc96",
           "#ab63fa",
           "#FFA15A",
           "#19d3f3",
           "#FF6692",
           "#B6E880",
           "#FF97FF",
           "#FECB52"
          ],
          "font": {
           "color": "#2a3f5f"
          },
          "geo": {
           "bgcolor": "white",
           "lakecolor": "white",
           "landcolor": "white",
           "showlakes": true,
           "showland": true,
           "subunitcolor": "#C8D4E3"
          },
          "hoverlabel": {
           "align": "left"
          },
          "hovermode": "closest",
          "mapbox": {
           "style": "light"
          },
          "paper_bgcolor": "white",
          "plot_bgcolor": "white",
          "polar": {
           "angularaxis": {
            "gridcolor": "#EBF0F8",
            "linecolor": "#EBF0F8",
            "ticks": ""
           },
           "bgcolor": "white",
           "radialaxis": {
            "gridcolor": "#EBF0F8",
            "linecolor": "#EBF0F8",
            "ticks": ""
           }
          },
          "scene": {
           "xaxis": {
            "backgroundcolor": "white",
            "gridcolor": "#DFE8F3",
            "gridwidth": 2,
            "linecolor": "#EBF0F8",
            "showbackground": true,
            "ticks": "",
            "zerolinecolor": "#EBF0F8"
           },
           "yaxis": {
            "backgroundcolor": "white",
            "gridcolor": "#DFE8F3",
            "gridwidth": 2,
            "linecolor": "#EBF0F8",
            "showbackground": true,
            "ticks": "",
            "zerolinecolor": "#EBF0F8"
           },
           "zaxis": {
            "backgroundcolor": "white",
            "gridcolor": "#DFE8F3",
            "gridwidth": 2,
            "linecolor": "#EBF0F8",
            "showbackground": true,
            "ticks": "",
            "zerolinecolor": "#EBF0F8"
           }
          },
          "shapedefaults": {
           "line": {
            "color": "#2a3f5f"
           }
          },
          "ternary": {
           "aaxis": {
            "gridcolor": "#DFE8F3",
            "linecolor": "#A2B1C6",
            "ticks": ""
           },
           "baxis": {
            "gridcolor": "#DFE8F3",
            "linecolor": "#A2B1C6",
            "ticks": ""
           },
           "bgcolor": "white",
           "caxis": {
            "gridcolor": "#DFE8F3",
            "linecolor": "#A2B1C6",
            "ticks": ""
           }
          },
          "title": {
           "x": 0.05
          },
          "xaxis": {
           "automargin": true,
           "gridcolor": "#EBF0F8",
           "linecolor": "#EBF0F8",
           "ticks": "",
           "title": {
            "standoff": 15
           },
           "zerolinecolor": "#EBF0F8",
           "zerolinewidth": 2
          },
          "yaxis": {
           "automargin": true,
           "gridcolor": "#EBF0F8",
           "linecolor": "#EBF0F8",
           "ticks": "",
           "title": {
            "standoff": 15
           },
           "zerolinecolor": "#EBF0F8",
           "zerolinewidth": 2
          }
         }
        },
        "title": {
         "text": "🏡 Actual vs Predicted House Prices"
        },
        "xaxis": {
         "title": {
          "text": "Actual Price"
         }
        },
        "yaxis": {
         "title": {
          "text": "Predicted Price"
         }
        }
       }
      }
     },
     "metadata": {},
     "output_type": "display_data"
    }
   ],
   "source": [
    "# Wykres strat\n",
    "plot_training_curves_regression(history)\n",
    "\n",
    "# Wykres predykcji vs rzeczywistość\n",
    "model.eval()\n",
    "with torch.no_grad():\n",
    "    predictions = model(X_val_tensor).squeeze().numpy()\n",
    "    actuals = y_val_tensor.squeeze().numpy()\n",
    "\n",
    "scatter_fig = go.Figure()\n",
    "scatter_fig.add_trace(go.Scatter(\n",
    "    x=actuals, y=predictions, mode='markers', name='Predictions'\n",
    "))\n",
    "scatter_fig.add_trace(go.Scatter(\n",
    "    x=[actuals.min(), actuals.max()],\n",
    "    y=[actuals.min(), actuals.max()],\n",
    "    mode='lines', name='Ideal', line=dict(dash='dash', color='red')\n",
    "))\n",
    "scatter_fig.update_layout(\n",
    "    title=\"🏡 Actual vs Predicted House Prices\",\n",
    "    xaxis_title=\"Actual Price\",\n",
    "    yaxis_title=\"Predicted Price\",\n",
    "    template=\"plotly_white\"\n",
    ")\n",
    "scatter_fig.show()"
   ]
  }
 ],
 "metadata": {
  "kernelspec": {
   "display_name": "cnn-env",
   "language": "python",
   "name": "python3"
  },
  "language_info": {
   "codemirror_mode": {
    "name": "ipython",
    "version": 3
   },
   "file_extension": ".py",
   "mimetype": "text/x-python",
   "name": "python",
   "nbconvert_exporter": "python",
   "pygments_lexer": "ipython3",
   "version": "3.10.17"
  }
 },
 "nbformat": 4,
 "nbformat_minor": 5
}
