{
 "cells": [
  {
   "cell_type": "markdown",
   "id": "436924d2",
   "metadata": {},
   "source": [
    "<a id=\"intro\"></a>\n",
    "# <a id='toc2_'></a>[<p style=\"background-color:#1E3A8A; font-family:calibri; font-size:130%; color:white; text-align:center; border-radius:0px 0px; padding:10px\">Step 1 | Introduction 👋</p>](#toc0_)\n",
    "\n",
    "⬆️ [Tabel of Contents](#contents_tabel)"
   ]
  },
  {
   "cell_type": "markdown",
   "id": "6ee526c9",
   "metadata": {},
   "source": [
    "<a id=\"problem\"></a>\n",
    "# <a id='toc3_'></a>[<b><span style='color:darkorange'>🤔 Dataset Problem</span></b>](#toc0_)"
   ]
  },
  {
   "cell_type": "markdown",
   "id": "0cb0aee3",
   "metadata": {},
   "source": [
    "<style>\n",
    "    .underline-red {\n",
    "        background-color:#FFAA33;\n",
    "        color: black;\n",
    "        font-size: 14px;\n",
    "        font-family: Arial, sans-serif;\n",
    "        font-weight: bold;\n",
    "    }\n",
    "</style>\n",
    "\n",
    "<div class=\"explain-box\">\n",
    "The Heart Disease dataset is a widely used dataset in the field of healthcare analytics and predictive modeling. The objective of this dataset is to \n",
    "<span class=\"underline-red\">predict the presence or absence of heart disease based on clinical and demographic attributes</span>.\n",
    "\n",
    "The dataset includes several important features such as \n",
    "<b>age, sex, chest pain type, resting blood pressure, cholesterol level, fasting blood sugar, resting ECG results, maximum heart rate achieved, exercise-induced angina, ST depression, and more</b>.\n",
    "\n",
    "The target variable is the <span class=\"underline-red\">heart disease diagnosis</span>, which is a binary classification outcome:\n",
    "<b>1</b> indicates the presence of heart disease, and <b>0</b> indicates absence.\n",
    "\n",
    "This classification task is crucial in real-world medical scenarios, as early prediction of heart disease can significantly improve patient outcomes. \n",
    "The dataset may exhibit class imbalance, requiring appropriate handling during model training and evaluation. \n",
    "It is commonly used for exploring classification algorithms and model evaluation metrics in a healthcare context.\n",
    "</div>\n"
   ]
  },
  {
   "cell_type": "markdown",
   "id": "8db2f976",
   "metadata": {},
   "source": [
    "<a id=\"objectives\"></a>\n",
    "# <a id='toc4_'></a>[<b><span style='color:darkorange'>📌 Notebook Objectives</span></b>](#toc0_)"
   ]
  },
  {
   "cell_type": "markdown",
   "id": "0cb40569",
   "metadata": {},
   "source": [
    "**_Project Objective:_**  \n",
    "The goal of this project is to build a predictive model that can determine the presence of heart disease based on patient health indicators. This is a binary classification task where the model aims to classify whether a person is likely to have heart disease (1) or not (0), using clinical and demographic data.\n",
    "\n",
    "**_Key Steps:_**\n",
    "\n",
    "1. **Problem Understanding**  \n",
    "   Understand the context and importance of predicting heart disease early. Identify the key features that are likely to influence the presence of heart disease, such as age, cholesterol, and chest pain type.\n",
    "\n",
    "2. **Exploratory Data Analysis (EDA)**  \n",
    "   - Analyze the distribution of input features (e.g., age, blood pressure, cholesterol).\n",
    "   - Explore the relationship between each feature and the target variable (heart disease diagnosis).\n",
    "   - Detect and handle missing values, outliers, and potential data quality issues.\n",
    "\n",
    "3. **Data Preparation**  \n",
    "   - Handle missing or inconsistent data (e.g., imputation or removal).\n",
    "   - Encode categorical variables (e.g., chest pain type, sex).\n",
    "   - Normalize or standardize numerical features if necessary for model performance.\n",
    "\n",
    "4. **Model Building**  \n",
    "   - Train a classification model (e.g., logistic regression, decision trees, random forest).\n",
    "   - Compare different algorithms and select the most effective one based on performance.\n",
    "   - Tune hyperparameters to optimize model accuracy and generalization.\n",
    "\n",
    "5. **Model Evaluation**  \n",
    "   - Assess the model using appropriate classification metrics (e.g., accuracy, precision, recall, F1 score, AUC).\n",
    "   - Interpret model predictions and evaluate the quality of results.\n",
    "   - Check for overfitting or underfitting and apply techniques like cross-validation.\n",
    "\n",
    "6. **Summary and Conclusion**  \n",
    "   - Summarize the model’s performance and key findings.\n",
    "   - Provide recommendations for improving the model or for deploying it in a real-world scenario (e.g., health diagnostics tool).\n"
   ]
  },
  {
   "cell_type": "markdown",
   "id": "6e9b6bc7",
   "metadata": {},
   "source": [
    "<a id=\"description\"></a>\n",
    "# <a id='toc6_'></a>[<b><span style='color:darkorange'>🧾 Dataset Description</span></b>](#toc0_)"
   ]
  },
  {
   "cell_type": "markdown",
   "id": "edd495dd",
   "metadata": {},
   "source": [
    "<style>\n",
    "    table {\n",
    "        width: 100%;\n",
    "        border-collapse: collapse;\n",
    "        font-family: Arial, sans-serif;\n",
    "    }\n",
    "    th, td {\n",
    "        border: 1px solid #ddd;\n",
    "        padding: 8px;\n",
    "        text-align: left;\n",
    "    }\n",
    "    th {\n",
    "        background-color: #FFAA33;\n",
    "        color: black;\n",
    "        font-weight: bold;\n",
    "    }\n",
    "    tr:nth-child(even) {\n",
    "        background-color: 0;\n",
    "    }\n",
    "</style>\n",
    "\n",
    "<table>\n",
    "    <tr>\n",
    "        <th>Column Name</th>\n",
    "        <th>Description</th>\n",
    "        <th>Type</th>\n",
    "        <th>Possible Values</th>\n",
    "    </tr>\n",
    "    <tr>\n",
    "        <td><b>age</b></td>\n",
    "        <td>Age of the patient</td>\n",
    "        <td>Numeric</td>\n",
    "        <td>Typically 29–77</td>\n",
    "    </tr>\n",
    "    <tr>\n",
    "        <td><b>sex</b></td>\n",
    "        <td>Biological sex of the patient</td>\n",
    "        <td>Binary</td>\n",
    "        <td>0 = female, 1 = male</td>\n",
    "    </tr>\n",
    "    <tr>\n",
    "        <td><b>cp</b></td>\n",
    "        <td>Chest pain type</td>\n",
    "        <td>Categorical</td>\n",
    "        <td>0 = typical angina, 1 = atypical angina, 2 = non-anginal pain, 3 = asymptomatic</td>\n",
    "    </tr>\n",
    "    <tr>\n",
    "        <td><b>trestbps</b></td>\n",
    "        <td>Resting blood pressure (mm Hg)</td>\n",
    "        <td>Numeric</td>\n",
    "        <td>Typically 94–200</td>\n",
    "    </tr>\n",
    "    <tr>\n",
    "        <td><b>chol</b></td>\n",
    "        <td>Serum cholesterol in mg/dl</td>\n",
    "        <td>Numeric</td>\n",
    "        <td>Typically 126–564</td>\n",
    "    </tr>\n",
    "    <tr>\n",
    "        <td><b>fbs</b></td>\n",
    "        <td>Fasting blood sugar > 120 mg/dl</td>\n",
    "        <td>Binary</td>\n",
    "        <td>0 = False, 1 = True</td>\n",
    "    </tr>\n",
    "    <tr>\n",
    "        <td><b>restecg</b></td>\n",
    "        <td>Resting electrocardiographic results</td>\n",
    "        <td>Categorical</td>\n",
    "        <td>0 = normal, 1 = ST-T wave abnormality, 2 = left ventricular hypertrophy</td>\n",
    "    </tr>\n",
    "    <tr>\n",
    "        <td><b>thalach</b></td>\n",
    "        <td>Maximum heart rate achieved</td>\n",
    "        <td>Numeric</td>\n",
    "        <td>Typically 71–202</td>\n",
    "    </tr>\n",
    "    <tr>\n",
    "        <td><b>exang</b></td>\n",
    "        <td>Exercise-induced angina</td>\n",
    "        <td>Binary</td>\n",
    "        <td>0 = No, 1 = Yes</td>\n",
    "    </tr>\n",
    "    <tr>\n",
    "        <td><b>oldpeak</b></td>\n",
    "        <td>ST depression induced by exercise relative to rest</td>\n",
    "        <td>Numeric</td>\n",
    "        <td>Typically 0.0–6.2</td>\n",
    "    </tr>\n",
    "    <tr>\n",
    "        <td><b>slope</b></td>\n",
    "        <td>Slope of the peak exercise ST segment</td>\n",
    "        <td>Categorical</td>\n",
    "        <td>0 = upsloping, 1 = flat, 2 = downsloping</td>\n",
    "    </tr>\n",
    "    <tr>\n",
    "        <td><b>ca</b></td>\n",
    "        <td>Number of major vessels colored by fluoroscopy</td>\n",
    "        <td>Numeric (discrete)</td>\n",
    "        <td>0–3 (sometimes 4)</td>\n",
    "    </tr>\n",
    "    <tr>\n",
    "        <td><b>thal</b></td>\n",
    "        <td>Thalassemia type</td>\n",
    "        <td>Categorical</td>\n",
    "        <td>0 = normal, 1 = fixed defect, 2 = reversible defect</td>\n",
    "    </tr>\n",
    "    <tr>\n",
    "        <td><b>target</b></td>\n",
    "        <td>Presence of heart disease</td>\n",
    "        <td>Binary</td>\n",
    "        <td>0 = No disease, 1 = Disease present</td>\n",
    "    </tr>\n",
    "</table>\n"
   ]
  },
  {
   "cell_type": "markdown",
   "id": "1c6927dc",
   "metadata": {},
   "source": [
    "<a id=\"ml-models\"></a>\n",
    "# <a id='toc5_'></a>[<b><span style='color:darkorange'>👨‍💻 Machine Learning Models</span></b>](#toc0_)"
   ]
  },
  {
   "cell_type": "markdown",
   "id": "074fa9f4",
   "metadata": {},
   "source": [
    "<div class=\"explain-box\">\n",
    "    The <b>models</b> used in this notebook:\n",
    "    <ol start=\"1\">\n",
    "        <li><b>Logistic Regression</b>,</li>\n",
    "        <li><b>Support Vector Machine (SVM)</b>,</li>\n",
    "        <li><b>K-Nearest Neighbour (KNN)</b>,</li>\n",
    "        <li><b>Decision Tree</b>,</li>\n",
    "        <li><b>Random Forest</b>,</li>\n",
    "        <li><b>Gradient Boosting</b>,</li>\n",
    "        <li><b>Extra Tree Classifier</b>, and</li>\n",
    "        <li><b>AdaBoost</b>.</li>\n",
    "    </ol>\n",
    "</div>"
   ]
  },
  {
   "cell_type": "markdown",
   "id": "28f4ecbb",
   "metadata": {},
   "source": [
    "<a id=\"import_install\"></a>\n",
    "# <a id='toc7_'></a>[<p style=\"background-color:#1E3A8A; font-family:calibri; font-size:130%; color:white; text-align:center; border-radius:0px 0px; padding:10px\">Step 2 | Installing and importing Libraries 📚</p>](#toc0_)\n",
    "\n",
    "\n",
    "⬆️ [Tabel of Contents](#contents_tabel)"
   ]
  },
  {
   "cell_type": "markdown",
   "id": "54709657",
   "metadata": {},
   "source": [
    "<a id=\"install\"></a>\n",
    "# <a id='toc8_'></a>[<b><span style='color:darkorange'>Step 2.1 |</span><span style='color:#1E3A8A'> Installing Libraries</span></b>](#toc0_)"
   ]
  },
  {
   "cell_type": "code",
   "execution_count": null,
   "id": "680e1c29",
   "metadata": {},
   "outputs": [],
   "source": [
    "# --- Installing Libraries ---\n",
    "# !pip install numpy\n",
    "# !pip install pandas\n",
    "# !pip install matplotlib\n",
    "# !pip install seaborn\n",
    "# !pip install plotly\n",
    "# !pip install scikit-learn\n",
    "# !pip install statsmodels\n",
    "# !pip install scipy\n",
    "# !pip install xgboost\n",
    "# !pip install lightgbm\n",
    "# !pip install catboost\n",
    "# !pip install yellowbrick\n",
    "# !pip install ydata-profiling"
   ]
  },
  {
   "cell_type": "markdown",
   "id": "a74fe6e1",
   "metadata": {},
   "source": [
    "<a id=\"import\"></a>\n",
    "# <a id='toc9_'></a>[<b><span style='color:darkorange'>Step 2.2 |</span><span style='color:#1E3A8A'> Importing Libraries</span></b>](#toc0_)"
   ]
  },
  {
   "cell_type": "code",
   "execution_count": null,
   "id": "09ee2138",
   "metadata": {},
   "outputs": [],
   "source": [
    "%load_ext autoreload\n",
    "%autoreload 2\n",
    "\n",
    "# ============================\n",
    "# 📊 Helpers\n",
    "# ============================\n",
    "import helpers.preprocessing_utils as pu\n",
    "from helpers.kaggle_downloader import KaggleDatasetManager\n",
    "from helpers.note_box import make_dataset_summary_box, make_note_box\n",
    "\n",
    "from helpers import model_utils as mdl\n",
    "from helpers import config as cf\n",
    "from helpers import data_visualization_utils as viz\n",
    "from helpers import metrics_utils as met\n",
    "from helpers import feature_engineering as fe\n",
    "\n",
    "\n",
    "# ============================\n",
    "# 📊 Analiza i przetwarzanie danych\n",
    "# ============================\n",
    "import pandas as pd\n",
    "import numpy as np\n",
    "from ydata_profiling import ProfileReport\n",
    "import missingno as msno\n",
    "\n",
    "import yellowbrick\n",
    "from yellowbrick.classifier import ConfusionMatrix, ROCAUC, PrecisionRecallCurve\n",
    "from yellowbrick.model_selection import LearningCurve, FeatureImportances\n",
    "from yellowbrick.contrib.wrapper import wrap\n",
    "from yellowbrick.style import set_palette\n",
    "\n",
    "# ============================\n",
    "# 📈 Modele\n",
    "# ============================\n",
    "from sklearn import metrics\n",
    "from sklearn.pipeline import Pipeline\n",
    "from sklearn.compose import ColumnTransformer\n",
    "from sklearn.preprocessing import RobustScaler, OneHotEncoder , MinMaxScaler\n",
    "from sklearn.model_selection import train_test_split, GridSearchCV, cross_val_score, KFold\n",
    "from sklearn.linear_model import LogisticRegression\n",
    "from sklearn.neighbors import KNeighborsClassifier\n",
    "from sklearn.svm import SVC\n",
    "from sklearn.naive_bayes import GaussianNB\n",
    "from sklearn.tree import DecisionTreeClassifier\n",
    "from sklearn.ensemble import RandomForestClassifier, GradientBoostingClassifier, AdaBoostClassifier, ExtraTreesClassifier\n",
    "\n",
    "# ============================\n",
    "# 📈 Wizualizacja – Matplotlib, Seaborn, Plotly\n",
    "# ============================\n",
    "import matplotlib.pyplot as plt\n",
    "import seaborn as sns\n",
    "from matplotlib import colors\n",
    "\n",
    "import plotly.graph_objs as go\n",
    "from plotly.subplots import make_subplots\n",
    "\n",
    "# Dla Jupyter Notebooka – wyświetlanie wykresów\n",
    "import plotly.io as pio\n",
    "pio.renderers.default = 'notebook'\n",
    "# pio.renderers.default = 'browser' \n",
    "\n",
    "%matplotlib inline\n",
    "\n",
    "# ============================\n",
    "# ⚙️ Narzędzia i ostrzeżenia\n",
    "# ============================\n",
    "import warnings\n",
    "from termcolor import colored\n",
    "\n",
    "# ============================\n",
    "# ✅ Potwierdzenie importu\n",
    "# ============================\n",
    "print(colored('\\n✅ All libraries imported successfully.', 'green'))"
   ]
  },
  {
   "cell_type": "markdown",
   "id": "76425a72",
   "metadata": {},
   "source": [
    "<a id=\"lib_config\"></a>\n",
    "# <a id='toc10_'></a>[<b><span style='color:darkorange'>Step 2.3 |</span><span style='color:#1E3A8A'> Library configuration</span></b>](#toc0_)"
   ]
  },
  {
   "cell_type": "code",
   "execution_count": null,
   "id": "09cad7eb",
   "metadata": {},
   "outputs": [],
   "source": [
    "pd.options.mode.copy_on_write = True # Allow re-write on variable\n",
    "sns.set_style('darkgrid') # Seaborn style\n",
    "warnings.filterwarnings('ignore') # Ignore warnings\n",
    "pd.set_option('display.max_columns', None) # Setting this option will print all collumns of a dataframe\n",
    "pd.set_option('display.max_colwidth', None) # Setting this option will print all of the data in a feature\n",
    "\n",
    "sns.color_palette(\"cool_r\", n_colors=1)\n",
    "sns.set_palette(\"cool_r\")\n",
    "\n",
    "print(colored('\\nAll libraries configured succesfully.', 'green'))"
   ]
  },
  {
   "cell_type": "markdown",
   "id": "28a6feab",
   "metadata": {},
   "source": [
    "<a id=\"coloring\"></a>\n",
    "# <a id='toc10_'></a>[<b><span style='color:darkorange'>Step 2.4 |</span><span style='color:#1E3A8A'> Coloring console output</span></b>](#toc0_)"
   ]
  },
  {
   "cell_type": "code",
   "execution_count": null,
   "id": "b905bbd5",
   "metadata": {},
   "outputs": [],
   "source": [
    "class clr:\n",
    "    bold = '\\033[1m'             \n",
    "    orange = '\\033[38;5;208m'  \n",
    "    blue = '\\033[38;5;75m'    \n",
    "    reset = '\\033[0m' \n",
    "\n",
    "    @staticmethod\n",
    "    def print_colored_text():\n",
    "        print(clr.orange + \"This is dark orange text!\" + clr.reset)\n",
    "        print(clr.blue + \"This is light blue text!\" + clr.reset)\n",
    "        print(clr.bold + \"This is bold text!\" + clr.reset)\n",
    "        print(clr.bold + clr.orange + \"This is bold dark orange text!\" + clr.reset)\n",
    "\n",
    "# Testowanie\n",
    "clr.print_colored_text()\n"
   ]
  },
  {
   "cell_type": "markdown",
   "id": "60bdf824",
   "metadata": {},
   "source": [
    "<a id=\"overview\"></a>\n",
    "# <a id='toc11_'></a>[<p style=\"background-color:#1E3A8A; font-family:calibri; font-size:130%; color:white; text-align:center; border-radius:0px 0px; padding:10px\">Step 3 | Reading Dataset 👓</p>](#toc0_)\n",
    "\n",
    "\n",
    "⬆️ [Tabel of Contents](#contents_tabel)"
   ]
  },
  {
   "cell_type": "code",
   "execution_count": null,
   "id": "71411e27",
   "metadata": {},
   "outputs": [],
   "source": [
    "manager = KaggleDatasetManager(\"arezaei81/heartcsv\")\n",
    "data_path = manager.download_and_prepare()\n",
    "data_path"
   ]
  },
  {
   "cell_type": "code",
   "execution_count": null,
   "id": "83f9d475",
   "metadata": {},
   "outputs": [],
   "source": [
    "# --- Importing Datasets ---\n",
    "data = pd.read_csv('data/heart.csv')\n",
    "\n",
    "# --- Copy Dataset ---\n",
    "df = data.copy()\n",
    "\n",
    "# --- Reading Train Dataset ---\n",
    "df.head(n=10)"
   ]
  },
  {
   "cell_type": "markdown",
   "id": "e31fd5e2",
   "metadata": {},
   "source": [
    "<a id=\"profiling\"></a>\n",
    "# <a id='toc12_'></a>[<p style=\"background-color:#1E3A8A; font-family:calibri; font-size:130%; color:white; text-align:center; border-radius:0px 0px; padding:10px\">Step 4 | Initial Dataset Exploration 🔍</p>](#toc0_)\n",
    "\n",
    "\n",
    "⬆️ [Tabel of Contents](#contents_tabel)"
   ]
  },
  {
   "cell_type": "markdown",
   "id": "ea84c482",
   "metadata": {},
   "source": [
    "<a id=\"df_train_profile\"></a>\n",
    "# <a id='toc13_'></a>[<b><span style='color:darkorange'>Step 4.1 |</span><span style='color:#1E3A8A'> Dataset Report</span></b>](#toc0_)"
   ]
  },
  {
   "cell_type": "code",
   "execution_count": null,
   "id": "262a3f57",
   "metadata": {},
   "outputs": [],
   "source": [
    "profile = ProfileReport(df, title='Dataset Profile', missing_diagrams={'heatmap': False, 'dendrogram': False})\n",
    "\n",
    "profile.to_notebook_iframe()"
   ]
  },
  {
   "cell_type": "markdown",
   "id": "376b7ebc",
   "metadata": {},
   "source": [
    "<style>\n",
    "    .underline {\n",
    "        background-color:#FFAA33;\n",
    "        color: black;\n",
    "        font-size: 14px;\n",
    "        font-family: Arial, sans-serif;\n",
    "        font-weight: bold;\n",
    "        padding: 2px 4px;\n",
    "        border-radius: 4px;\n",
    "    }\n",
    "</style>\n",
    "\n",
    "<div>\n",
    "  <strong>▶️ <u>Dataset conclusions based on Profile Report</u></strong><br />\n",
    "  <blockquote>\n",
    "    <ul>\n",
    "      <li>The <span class=\"underline\">dataset</span> contains <strong>303 observations</strong> and <strong>14 features</strong>.</li>\n",
    "      <li><span class=\"underline\">Missing values:</span> No missing values were found in any column.</li>\n",
    "      <li><span class=\"underline\">Duplicates:</span> The dataset includes <strong>1 duplicated row</strong> (≈ 0.3%).</li>\n",
    "      <li><span class=\"underline\">Age</span> has a mean of <strong>54</strong> and ranges between <strong>29 and 77</strong>. Its distribution appears approximately normal based on histogram and skewness.</li>\n",
    "      <li><span class=\"underline\">Sex</span> distribution shows <strong>207 males</strong> and <strong>96 females</strong>, indicating a male-dominant dataset.</li>\n",
    "      <li><span class=\"underline\">Exang</span> (exercise-induced angina): most patients do <strong>not</strong> suffer from it.</li>\n",
    "      <li><span class=\"underline\">Resting blood pressure (trestbps)</span> ranges from <strong>84 to 200</strong>, with a mean of <strong>132</strong>, and follows a <strong>moderately right-skewed</strong> distribution.</li>\n",
    "      <li><span class=\"underline\">Cholesterol (chol)</span> values range from <strong>126 to 564</strong> with a mean around <strong>246</strong>. This feature also exhibits <span class=\"underline\">strong right skewness</span>.</li>\n",
    "      <li><span class=\"underline\">Maximum heart rate (thalach)</span> ranges from <strong>71 to 202</strong>, average <strong>150</strong>.</li>\n",
    "      <li><span class=\"underline\">Oldpeak</span> (ST depression): mean is <strong>1</strong>, range <strong>0 to 62</strong>. Notably, <strong>99 values</strong> are exactly <strong>zero</strong>.</li>\n",
    "      <li><span class=\"underline\">Distributions:</span> Cholesterol and Oldpeak are <span class=\"underline\">highly right-skewed</span>, while <span class=\"underline\">thalach</span> is <span class=\"underline\">moderately left-skewed</span>. These skewed distributions suggest potential outliers at the distribution tails.</li>\n",
    "      <li><span class=\"underline\">Low variance:</span> Features like <span class=\"underline\">age</span>, <span class=\"underline\">trestbps</span>, <span class=\"underline\">chol</span>, and <span class=\"underline\">thalach</span> have <span class=\"underline\">low standard deviation</span>, indicating limited variation across records.</li>\n",
    "      <li><span class=\"underline\">Kurtosis:</span> Columns such as <span class=\"underline\">age</span>, <span class=\"underline\">trestbps</span>, <span class=\"underline\">thalach</span> and <span class=\"underline\">oldpeak</span> have kurtosis values <strong>below 3</strong>, meaning they are <span class=\"underline\">platykurtic</span>. Meanwhile, <span class=\"underline\">chol</span> is <strong>leptokurtic</strong> (kurtosis > 3), indicating heavier tails.</li>\n",
    "      <li>\n",
    "        <blockquote>📌 <span class=\"underline\">Low standard deviation</span> implies values are <span class=\"underline\">clustered around the mean</span>, while high deviation means greater spread.</blockquote>\n",
    "        <blockquote>📌 Skewness:\n",
    "          <ul>\n",
    "            <li><span class=\"underline\">|Skew| > 1</span>: highly skewed</li>\n",
    "            <li><span class=\"underline\">0.5 < |Skew| < 1</span>: moderately skewed</li>\n",
    "            <li><span class=\"underline\">|Skew| ≤ 0.5</span>: approximately symmetric</li>\n",
    "          </ul>\n",
    "        </blockquote>\n",
    "        <blockquote>📌 <span class=\"underline\">Kurtosis</span> describes the <span class=\"underline\">tailedness of the distribution</span>. Normal (mesokurtic) distributions have kurtosis ≈ 3. Values &gt;3 → leptokurtic; &lt;3 → platykurtic.</blockquote>\n",
    "      </li>\n",
    "    </ul>\n",
    "  </blockquote>\n",
    "</div>\n"
   ]
  },
  {
   "cell_type": "markdown",
   "id": "d3819826",
   "metadata": {},
   "source": [
    "<a id=\"wrangling_overview\"></a>\n",
    "# <a id='toc16_'></a>[<b><span style='color:darkorange'>Step 4.2 |</span><span style='color:#1E3A8A'> Dataset overview</span></b>](#toc0_)"
   ]
  },
  {
   "cell_type": "code",
   "execution_count": null,
   "id": "1d33d960",
   "metadata": {},
   "outputs": [],
   "source": [
    "dataset_name = 'Heart Disease'\n",
    "df.head(n=10).style.background_gradient(cmap = \"PuBu\")"
   ]
  },
  {
   "cell_type": "markdown",
   "id": "4f68677c",
   "metadata": {},
   "source": [
    "<a id=\"wrangling_num_of_records\"></a>\n",
    "# <a id='toc17_'></a>[<b><span style='color:darkorange'>Step 4.3 |</span><span style='color:#1E3A8A'> Number of records and columns</span></b>](#toc0_)"
   ]
  },
  {
   "cell_type": "code",
   "execution_count": null,
   "id": "47ea55bd",
   "metadata": {},
   "outputs": [],
   "source": [
    "print(clr.orange + f'🍷 {dataset_name} Dataset has {df.shape[0]} rows and {df.shape[1]} columns' + clr.reset)"
   ]
  },
  {
   "cell_type": "markdown",
   "id": "0e1bc54c",
   "metadata": {},
   "source": [
    "<a id=\"wrangling_basic_info\"></a>\n",
    "# <a id='toc18_'></a>[<b><span style='color:darkorange'>Step 4.4 |</span><span style='color:#1E3A8A'> Basic Info</span></b>](#toc0_)"
   ]
  },
  {
   "cell_type": "code",
   "execution_count": null,
   "id": "eb1f215a",
   "metadata": {},
   "outputs": [],
   "source": [
    "print(clr.orange + f\"\\n{'='*50}\")\n",
    "print(f'🔍 Basic Info - {dataset_name} Dataset')\n",
    "print(f\"{'='*50}\" + clr.reset)\n",
    "df.info()"
   ]
  },
  {
   "cell_type": "code",
   "execution_count": null,
   "id": "7a8f69ca",
   "metadata": {},
   "outputs": [],
   "source": [
    "dtypes = df.dtypes.value_counts().to_dict()\n",
    "\n",
    "make_dataset_summary_box(\n",
    "    rows=df.shape[0],\n",
    "    cols=df.shape[1],\n",
    "    dtypes=dtypes,\n",
    "    missing_info=\"There are no missing values.\" if not df.isnull().values.any() else \"Some columns contain missing values.\"\n",
    ")"
   ]
  },
  {
   "cell_type": "code",
   "execution_count": null,
   "id": "4768833f",
   "metadata": {},
   "outputs": [],
   "source": [
    "txt = 'We can see that 9 columns (`sex`, `cp`, `fbs`, `restcg`, `exang`, `slope`, `ca`, `thal`, `target`) are indeed numerical in terms of data type, but categorical in terms of their semantics'\n",
    "make_note_box(text=txt, title='🧠 Analytical Note:')"
   ]
  },
  {
   "cell_type": "markdown",
   "id": "0498b0b2",
   "metadata": {},
   "source": [
    "<a id=\"wrangling_unique_vals\"></a>\n",
    "# <a id='toc19_'></a>[<b><span style='color:darkorange'>Step 4.5 |</span><span style='color:#1E3A8A'> Unique Values</span></b>](#toc0_)"
   ]
  },
  {
   "cell_type": "code",
   "execution_count": null,
   "id": "9763182b",
   "metadata": {},
   "outputs": [],
   "source": [
    "pu.check_unique_values(df, f'{dataset_name} Dataset')"
   ]
  },
  {
   "cell_type": "markdown",
   "id": "4bed0985",
   "metadata": {},
   "source": [
    "<a id=\"wrangling_nums_cols\"></a>\n",
    "# <a id='toc21_'></a>[<b><span style='color:darkorange'>Step 4.6 |</span><span style='color:#1E3A8A'> More info about numerical types</span></b>](#toc0_)"
   ]
  },
  {
   "cell_type": "code",
   "execution_count": null,
   "id": "95b610fa",
   "metadata": {},
   "outputs": [],
   "source": [
    "semantic_cats = pu.detect_semantic_categoricals(df, max_unique=10, exclude_target=\"target\")\n",
    "semantic_cats"
   ]
  },
  {
   "cell_type": "code",
   "execution_count": null,
   "id": "1abd76bc",
   "metadata": {},
   "outputs": [],
   "source": [
    "numerical_cols = df.select_dtypes(include='number').columns\n",
    "true_numericals = [col for col in numerical_cols if col not in semantic_cats]\n",
    "\n",
    "df[true_numericals].describe().T.style.background_gradient(axis=0)"
   ]
  },
  {
   "cell_type": "code",
   "execution_count": null,
   "id": "25b4ae38",
   "metadata": {},
   "outputs": [],
   "source": [
    "pu.plot_numerical_distributions_plotly(df, true_numericals[:-1])"
   ]
  },
  {
   "cell_type": "markdown",
   "id": "4f0c715f",
   "metadata": {},
   "source": [
    "<a id=\"corelation_cols\"></a>\n",
    "# <a id='toc21_'></a>[<b><span style='color:darkorange'>Step 4.7 |</span><span style='color:#1E3A8A'> Correlation</span></b>](#toc0_)"
   ]
  },
  {
   "cell_type": "code",
   "execution_count": null,
   "id": "9793770c",
   "metadata": {},
   "outputs": [],
   "source": [
    "pu.plot_correlation_heatmap(df, 'Numerical Variables Correlation Map', show_upper_triangle=False)"
   ]
  },
  {
   "cell_type": "markdown",
   "id": "cf993fd3",
   "metadata": {},
   "source": [
    "<div style=\"\n",
    "    background-color: #D0E7FF;\n",
    "    border-left: 6px solid #1E3A8A;\n",
    "    padding: 14px;\n",
    "    margin: 20px 0;\n",
    "    border-radius: 8px;\n",
    "    font-family: Arial, sans-serif;\n",
    "    font-size: 15px;\n",
    "    max-width: 900px;\n",
    "    color: #1E3A8A;\n",
    "    line-height: 1.6;\n",
    "    text: #1E3A8A\n",
    "\">\n",
    "    <b>🔍 Key Observation:</b><br><br>\n",
    "    According to the correlation between variables, it can be seen that <code>cp</code>, <code>thalach</code>, <code>slope</code> have the highest positive correlation with the target variable. \n",
    "</div>\n"
   ]
  },
  {
   "cell_type": "markdown",
   "id": "9c2cb347",
   "metadata": {},
   "source": [
    "<a id=\"wrangling_duplicates\"></a>\n",
    "# <a id='toc23_'></a>[<b><span style='color:darkorange'>Step 4.8 |</span><span style='color:#1E3A8A'> Duplicates</span></b>](#toc0_)"
   ]
  },
  {
   "cell_type": "code",
   "execution_count": null,
   "id": "e39077be",
   "metadata": {},
   "outputs": [],
   "source": [
    "pu.check_duplicates(df, f'{dataset_name} Dataset')"
   ]
  },
  {
   "cell_type": "code",
   "execution_count": null,
   "id": "81b1b533",
   "metadata": {},
   "outputs": [],
   "source": [
    "df[df.duplicated(keep=False)]"
   ]
  },
  {
   "cell_type": "markdown",
   "id": "cd5717a6",
   "metadata": {},
   "source": [
    "<div style=\"\n",
    "    background-color: #D0E7FF;\n",
    "    border-left: 6px solid #1E3A8A;\n",
    "    padding: 14px;\n",
    "    margin: 20px 0;\n",
    "    border-radius: 8px;\n",
    "    font-family: Arial, sans-serif;\n",
    "    font-size: 15px;\n",
    "    max-width: 900px;\n",
    "    color: #1E3A8A;\n",
    "    line-height: 1.6;\n",
    "    text: #1E3A8A\n",
    "\">\n",
    "    <b>🔍 Key Observation:</b><br><br>\n",
    "    It seems that rows 163 and 164 are duplicates, in a later stage of analysis it will be necessary to remove one of them\n",
    "</div>\n"
   ]
  },
  {
   "cell_type": "markdown",
   "id": "42f8c1af",
   "metadata": {},
   "source": [
    "<a id=\"wrangling_outliers\"></a>\n",
    "# <a id='toc24_'></a>[<b><span style='color:darkorange'>Step 4.9 |</span><span style='color:#1E3A8A'> Outliers</span></b>](#toc0_)"
   ]
  },
  {
   "cell_type": "markdown",
   "id": "d4d98f50",
   "metadata": {},
   "source": [
    "<style>\n",
    "    .underline-red {\n",
    "        background-color: #FFAA33;;\n",
    "        color: black;\n",
    "        font-size: 14px;\n",
    "        font-family: Arial, sans-serif;\n",
    "        font-weight: bold;\n",
    "        padding: 2px 5px;\n",
    "        border-radius: 4px;\n",
    "    }\n",
    "</style>\n",
    "\n",
    "<div class=\"explain-box\">\n",
    "Results are provided for two methods:\n",
    "\n",
    "1. <span class=\"underline-red\"><b>IQR (Interquartile Range)</b></span>\n",
    "\n",
    "- Values considered outliers are <b>below</b> the first quartile (<span class=\"underline-red\">Q1 - 1.5 × IQR</span>) or <b>above</b> the third quartile (<span class=\"underline-red\">Q3 + 1.5 × IQR</span>).\n",
    "\n",
    "- This is a more classical method, less sensitive to extreme values.\n",
    "\n",
    "2. <span class=\"underline-red\"><b>Z-score (standardized Z-value)</b></span>\n",
    "\n",
    "- Values for which <b>Z-score modulus > 3</b> are considered outliers.\n",
    "\n",
    "- This method is more sensitive to the distribution of the data – if the data is not normally distributed, it may produce misleading results.\n",
    "</div>"
   ]
  },
  {
   "cell_type": "code",
   "execution_count": null,
   "id": "416a0ef7",
   "metadata": {},
   "outputs": [],
   "source": [
    "pu.check_outliers(df, f'{dataset_name} Dataset', numerical_cols=true_numericals[:-1], target_col='target')"
   ]
  },
  {
   "cell_type": "code",
   "execution_count": null,
   "id": "a593256c",
   "metadata": {},
   "outputs": [],
   "source": [
    "# pu.check_outliers(df, f'{dataset_name} Dataset', numerical_cols=true_numericals[:-1], target_col='target')"
   ]
  },
  {
   "cell_type": "markdown",
   "id": "75721c02",
   "metadata": {},
   "source": [
    "<div style=\"\n",
    "    background-color: #D0E7FF;\n",
    "    border-left: 6px solid #1E3A8A;\n",
    "    padding: 14px;\n",
    "    margin: 20px 0;\n",
    "    border-radius: 8px;\n",
    "    font-family: Arial, sans-serif;\n",
    "    font-size: 15px;\n",
    "    max-width: 900px;\n",
    "    color: #1E3A8A;\n",
    "    line-height: 1.6;\n",
    "    text: #1E3A8A\n",
    "\">\n",
    "    <b>🔍 Key Observation:</b><br><br>\n",
    "    - <code>trestbps</code>: 9 outliers<br>\n",
    "    - <code>chol</code>: 5 outliers<br>\n",
    "    - <code>thalach</code>: 1 outlier<br>\n",
    "    - <code>oldpeak</code>: 5 outliers<br>\n",
    "    - <code>age</code>: No outliers\n",
    "</div>\n"
   ]
  },
  {
   "cell_type": "markdown",
   "id": "65f4ba55",
   "metadata": {},
   "source": [
    "<a id=\"cleaning\"></a>\n",
    "# <a id='toc25_'></a>[<p style=\"background-color:#1E3A8A; font-family:calibri; font-size:130%; color:white; text-align:center; border-radius:0px 0px; padding:10px\">Step 5 | Cleaning data 📈</p>](#toc0_)\n",
    "\n",
    "\n",
    "⬆️ [Tabel of Contents](#contents_tabel)"
   ]
  },
  {
   "cell_type": "markdown",
   "id": "d2f1942b",
   "metadata": {},
   "source": [
    "<a id=\"cleaning_columns_names\"></a>\n",
    "# <a id='toc27_'></a>[<b><span style='color:darkorange'>Step 5.1 |</span><span style='color:#1E3A8A'> Standardizing column names and values</span></b>](#toc0_)"
   ]
  },
  {
   "cell_type": "code",
   "execution_count": null,
   "id": "40179283",
   "metadata": {},
   "outputs": [],
   "source": [
    "df_clean = df.copy(deep=True)\n",
    "df_clean"
   ]
  },
  {
   "cell_type": "code",
   "execution_count": null,
   "id": "002fb052",
   "metadata": {},
   "outputs": [],
   "source": [
    "df_clean.columns"
   ]
  },
  {
   "cell_type": "code",
   "execution_count": null,
   "id": "f840420c",
   "metadata": {},
   "outputs": [],
   "source": [
    "column_mapping_list = {'age': 'Age', \n",
    "                     'sex': 'Sex', \n",
    "                     'cp': 'Chest_pain_type', \n",
    "                     'trestbps': 'Resting_blook_pressure', \n",
    "                     'chol': 'Cholesterol',\n",
    "                     'fbs': 'Fasting_blood_sugar', \n",
    "                     'restecg': 'Electrocardio_results', \n",
    "                     'thalach': 'Max_heart_rate',\n",
    "                     'exang': 'Exercise_included_angina', \n",
    "                     'oldpeak': 'ST_depression', \n",
    "                     'slope': 'Slope_of_the_peak_ST', \n",
    "                     'ca': 'Num_of_colored_vessels', \n",
    "                     'thal': 'Thalassemia_type', \n",
    "                     'target': 'Present_of_heart_disease'}\n",
    "\n",
    "df_clean.rename(columns=column_mapping_list, inplace=True)\n",
    "df_clean.columns"
   ]
  },
  {
   "cell_type": "markdown",
   "id": "7963e5be",
   "metadata": {},
   "source": [
    "<a id=\"cleaning_standarization\"></a>\n",
    "# <a id='toc28_'></a>[<b><span style='color:darkorange'>Step 6.3 |</span><span style='color:#1E3A8A'> Standardization of data types  </span></b>](#toc0_)"
   ]
  },
  {
   "cell_type": "code",
   "execution_count": null,
   "id": "46df918b",
   "metadata": {},
   "outputs": [],
   "source": [
    "df_clean.dtypes"
   ]
  },
  {
   "cell_type": "code",
   "execution_count": null,
   "id": "f3038532",
   "metadata": {},
   "outputs": [],
   "source": [
    "df_clean.nunique()"
   ]
  },
  {
   "cell_type": "code",
   "execution_count": null,
   "id": "c6a6a64a",
   "metadata": {},
   "outputs": [],
   "source": [
    "semantic_cats = pu.detect_semantic_categoricals(df_clean, max_unique=10, exclude_target=\"Present_of_heart_disease\")\n",
    "df_clean[semantic_cats] = df_clean[semantic_cats].astype(\"category\")\n",
    "df_clean.dtypes\n"
   ]
  },
  {
   "cell_type": "markdown",
   "id": "c825dee1",
   "metadata": {},
   "source": []
  },
  {
   "cell_type": "markdown",
   "id": "b45a5614",
   "metadata": {},
   "source": [
    "<a id=\"remove_duplicates\"></a>\n",
    "# <a id='toc28_'></a>[<b><span style='color:darkorange'>Step 6.4 |</span><span style='color:#1E3A8A'> Duplicate handling  </span></b>](#toc0_)"
   ]
  },
  {
   "cell_type": "code",
   "execution_count": null,
   "id": "b4e8aff8",
   "metadata": {},
   "outputs": [],
   "source": [
    "df_clean[df_clean.duplicated()]"
   ]
  },
  {
   "cell_type": "code",
   "execution_count": null,
   "id": "41c33de2",
   "metadata": {},
   "outputs": [],
   "source": [
    "df_clean = df_clean.drop_duplicates(keep='first')\n",
    "\n",
    "# Sprawdzenie, czy zostały usunięte\n",
    "print(f\"Number of duplicates after cleaning: {df_clean.duplicated().sum()}\")"
   ]
  },
  {
   "cell_type": "markdown",
   "id": "979fb795",
   "metadata": {},
   "source": [
    "<a id=\"outliers_treatment\"></a>\n",
    "# <a id='toc28_'></a>[<b><span style='color:darkorange'>Step 6.4 |</span><span style='color:#1E3A8A'> Outliers treatment  </span></b>](#toc0_)"
   ]
  },
  {
   "cell_type": "markdown",
   "id": "ee229adc",
   "metadata": {},
   "source": [
    "<div style=\"\n",
    "    background-color: #FFF9C4;\n",
    "    border-left: 6px solid #FBC02D;\n",
    "    padding: 14px;\n",
    "    margin: 20px 0;\n",
    "    border-radius: 8px;\n",
    "    font-family: Arial, sans-serif;\n",
    "    font-size: 15px;\n",
    "    max-width: 900px;\n",
    "    color: #555;\n",
    "    line-height: 1.6;\n",
    "    text: #555\n",
    "\">\n",
    "    <b>🧠 Note - Sensitivity to Outliers:</b><br><br>\n",
    "    - <b>SVM (Support Vector Machine):</b> SVMs can be sensitive to outliers. While the decision boundary is determined primarily by the support vectors, outliers can influence which data points are chosen as support vectors, potentially leading to suboptimal classification.<br>\n",
    "    - <b>Decision Trees (DT) and Random Forests (RF):</b> These tree-based algorithms are generally robust to outliers. They make splits based on feature values, and outliers often end up in leaf nodes, having minimal impact on the overall decision-making process.<br>\n",
    "    - <b>K-Nearest Neighbors (KNN):</b> KNN is sensitive to outliers because it relies on distances between data points to make predictions. Outliers can distort these distances.<br>\n",
    "    - <b>AdaBoost:</b> This ensemble method, which often uses decision trees as weak learners, is generally robust to outliers. However, the iterative nature of AdaBoost can sometimes lead to overemphasis on outliers, making the final model more sensitive to them.\n",
    "</div>\n"
   ]
  },
  {
   "cell_type": "markdown",
   "id": "3af51f1b",
   "metadata": {},
   "source": [
    "<div style=\"\n",
    "    background-color: #FFF9C4;\n",
    "    border-left: 6px solid #FBC02D;\n",
    "    padding: 14px;\n",
    "    margin: 20px 0;\n",
    "    border-radius: 8px;\n",
    "    font-family: Arial, sans-serif;\n",
    "    font-size: 15px;\n",
    "    max-width: 900px;\n",
    "    color: #555;\n",
    "    line-height: 1.6;\n",
    "    text: #555\n",
    "\">\n",
    "    <b>🧠 Approaches for Outlier Treatment:</b><br><br>\n",
    "    - <b>Removal of Outliers:</b> Directly discard data points that fall outside of a defined range, typically based on a method like the Interquartile Range (IQR).<br>\n",
    "    - <b>Capping Outliers:</b> Instead of removing, we can limit outliers to a certain threshold, such as the 1st or 99th percentile.<br>\n",
    "    - <b>Transformations:</b> Applying transformations like log or Box-Cox can reduce the impact of outliers and make the data more Gaussian-like.<br>\n",
    "    - <b>Robust Scaling:</b> Techniques like the RobustScaler in Scikit-learn can be used, which scales features using statistics that are robust to outliers.\n",
    "</div>\n"
   ]
  },
  {
   "cell_type": "markdown",
   "id": "4843d8fa",
   "metadata": {},
   "source": [
    "<div style=\"\n",
    "    background-color: #D0E7FF;\n",
    "    border-left: 6px solid #1E3A8A;\n",
    "    padding: 14px;\n",
    "    margin: 20px 0;\n",
    "    border-radius: 8px;\n",
    "    font-family: Arial, sans-serif;\n",
    "    font-size: 15px;\n",
    "    max-width: 900px;\n",
    "    color: #1E3A8A;\n",
    "    line-height: 1.6;\n",
    "    text: #1E3A8A\n",
    "\">\n",
    "    <b>🔍 KConclusion:</b><br><br>\n",
    "    Given the nature of the algorithms (especially SVM and KNN) and the small size of our dataset, direct removal of outliers might not be the best approach. Instead, we'll focus on applying transformations like Box-Cox in the subsequent steps to reduce the impact of outliers and make the data more suitable for modeling.\n",
    "</div>\n"
   ]
  },
  {
   "cell_type": "markdown",
   "id": "624de53e",
   "metadata": {},
   "source": [
    "<a id=\"eda\"></a>\n",
    "# <a id='toc34_'></a>[<p style=\"background-color:#1E3A8A; font-family:calibri; font-size:130%; color:white; text-align:center; border-radius:0px 0px; padding:10px\">Step 7 | EDA 📈</p>](#toc0_)\n",
    "\n",
    "\n",
    "⬆️ [Tabel of Contents](#contents_tabel)"
   ]
  },
  {
   "cell_type": "code",
   "execution_count": null,
   "id": "de919400",
   "metadata": {},
   "outputs": [],
   "source": [
    "\n",
    "df_clean.columns"
   ]
  },
  {
   "cell_type": "markdown",
   "id": "a400b2f3",
   "metadata": {},
   "source": [
    "<a id=\"visualization\"></a>\n",
    "# <a id='toc35_'></a>[<b><span style='color:darkorange'>Step 7.1 |</span><span style='color:#1E3A8A'> Visualizations</span></b>](#toc0_)"
   ]
  },
  {
   "cell_type": "code",
   "execution_count": null,
   "id": "625caec5",
   "metadata": {},
   "outputs": [],
   "source": [
    "\n",
    "import plotly.express as px\n",
    "\n",
    "fig1 = px.scatter(df_clean, x=\"Age\", y=\"Num_of_colored_vessels\", color=\"Chest_pain_type\",\n",
    "                  title=\"Age vs Num_of_colored_vessels (colored by Chest_pain_type)\",\n",
    "                  color_continuous_scale=\"Blues\")\n",
    "\n",
    "fig2 = px.histogram(df_clean, x=\"Sex\", color=\"Present_of_heart_disease\", barmode=\"group\",\n",
    "                    title=\"Sex vs Presence of Heart Disease\",\n",
    "                    color_discrete_sequence=px.colors.qualitative.Set1)\n",
    "\n",
    "fig3 = px.histogram(df_clean, x=\"Chest_pain_type\", color=\"Present_of_heart_disease\", barmode=\"group\",\n",
    "                    title=\"Chest Pain Type vs Presence of Heart Disease\",\n",
    "                    color_discrete_sequence=px.colors.qualitative.Set2)\n",
    "\n",
    "fig4 = px.scatter(df_clean, x=\"Max_heart_rate\", y=\"Slope_of_the_peak_ST\", color=\"Max_heart_rate\",\n",
    "                  title=\"Max Heart Rate vs Slope of the Peak ST\",\n",
    "                  color_continuous_scale=\"Viridis\")\n",
    "\n",
    "fig5 = px.box(df_clean, x=\"Present_of_heart_disease\", y=\"Max_heart_rate\", color=\"Present_of_heart_disease\",\n",
    "              title=\"Max Heart Rate vs Presence of Heart Disease\",\n",
    "              color_discrete_sequence=px.colors.qualitative.Pastel)\n",
    "\n",
    "fig6 = px.box(df_clean, x=\"Exercise_included_angina\", y=\"ST_depression\", color=\"Exercise_included_angina\",\n",
    "              title=\"Exercise Induced Angina vs ST Depression\",\n",
    "              color_discrete_sequence=px.colors.qualitative.Set3)\n",
    "\n",
    "fig7 = px.histogram(df_clean, x=\"Slope_of_the_peak_ST\", color=\"Present_of_heart_disease\", barmode=\"group\",\n",
    "                    title=\"Slope of the Peak ST vs Presence of Heart Disease\",\n",
    "                    color_discrete_sequence=px.colors.qualitative.Prism)"
   ]
  },
  {
   "cell_type": "code",
   "execution_count": null,
   "id": "5aa30d02",
   "metadata": {},
   "outputs": [],
   "source": [
    "fig1.show()\n",
    "fig2.show()\n",
    "fig3.show()\n",
    "fig4.show()\n",
    "fig5.show()\n",
    "fig6.show()\n",
    "fig7.show()"
   ]
  },
  {
   "cell_type": "markdown",
   "id": "c6215ef8",
   "metadata": {},
   "source": [
    "<a id=\"modeling\"></a>\n",
    "# <a id='toc39_'></a>[<p style=\"background-color:#1E3A8A; font-family:calibri; font-size:130%; color:white; text-align:center; border-radius:0px 0px; padding:10px\">Step 8 | Modeling 📈</p>](#toc0_)\n",
    "\n",
    "\n",
    "⬆️ [Tabel of Contents](#contents_tabel)"
   ]
  },
  {
   "cell_type": "code",
   "execution_count": null,
   "id": "4c7c5c42",
   "metadata": {},
   "outputs": [],
   "source": [
    "df_clean.columns"
   ]
  },
  {
   "cell_type": "markdown",
   "id": "f8225697",
   "metadata": {},
   "source": [
    "<a id=\"modeling_scaling\"></a>\n",
    "# <a id='toc38_'></a>[<b><span style='color:darkorange'>Step 8.1 |</span><span style='color:#1E3A8A'> Data Balance Analysis</span></b>](#toc0_)"
   ]
  },
  {
   "cell_type": "code",
   "execution_count": null,
   "id": "72939271",
   "metadata": {},
   "outputs": [],
   "source": [
    "pu.check_balance_in_data(df_clean, 'Present_of_heart_disease')"
   ]
  },
  {
   "cell_type": "code",
   "execution_count": null,
   "id": "cde5e068",
   "metadata": {},
   "outputs": [],
   "source": [
    "pu.plot_target_balance(df_clean, 'Present_of_heart_disease')"
   ]
  },
  {
   "cell_type": "markdown",
   "id": "f9322f74",
   "metadata": {},
   "source": [
    "<div style=\"\n",
    "    background-color: #D0E7FF;\n",
    "    border-left: 6px solid #1E3A8A;\n",
    "    padding: 14px;\n",
    "    margin: 20px 0;\n",
    "    border-radius: 8px;\n",
    "    font-family: Arial, sans-serif;\n",
    "    font-size: 15px;\n",
    "    max-width: 900px;\n",
    "    color: #1E3A8A;\n",
    "    line-height: 1.6;\n",
    "    text: #1E3A8A\n",
    "\">\n",
    "    <b>🔍 Conclusion:</b><br><br>\n",
    "    ✅ The target variable is relatively well balanced, with 54% of observations labeled as \"Presence of Heart Disease\" and 46% labeled as \"Absence of Heart Disease.\" <br>    \n",
    "    ✅ No strong imbalance is present, which indicates that special balancing techniques (e.g., SMOTE, undersampling, or class weighting) may not be necessary during modeling.<br>     \n",
    "    ✅ Despite the good balance, it is still recommended to monitor precision, recall, F1-score, and AUC during evaluation to ensure that both classes are properly captured.   \n",
    "\n",
    "</div>\n"
   ]
  },
  {
   "cell_type": "markdown",
   "id": "9821ee97",
   "metadata": {},
   "source": [
    "<a id=\"modeling_split\"></a>\n",
    "# <a id='toc40_'></a>[<b><span style='color:darkorange'>Step 8.2 |</span><span style='color:#1E3A8A'> Splitting the Training Data </span></b>](#toc0_)"
   ]
  },
  {
   "cell_type": "code",
   "execution_count": null,
   "id": "4502df59",
   "metadata": {},
   "outputs": [],
   "source": [
    "x = df_clean.drop(['Present_of_heart_disease'], axis=1)\n",
    "y = df_clean['Present_of_heart_disease']\n",
    "\n",
    "X_train, X_test, y_train, y_test = train_test_split(x, y, test_size=0.2, random_state=42)"
   ]
  },
  {
   "cell_type": "markdown",
   "id": "2fda3cc0",
   "metadata": {},
   "source": [
    "<a id=\"modeling_testing\"></a>\n",
    "# <a id='toc40_'></a>[<b><span style='color:darkorange'>Step 8.3 |</span><span style='color:#1E3A8A'> Processing pipeline </span></b>](#toc0_)"
   ]
  },
  {
   "cell_type": "code",
   "execution_count": null,
   "id": "d0e9d0bb",
   "metadata": {},
   "outputs": [],
   "source": [
    "num_cols = df_clean.select_dtypes(include='number').columns[:-1]\n",
    "num_cols"
   ]
  },
  {
   "cell_type": "code",
   "execution_count": null,
   "id": "99b9386a",
   "metadata": {},
   "outputs": [],
   "source": [
    "cat_cols = df_clean.select_dtypes(include='category').columns\n",
    "cat_cols"
   ]
  },
  {
   "cell_type": "code",
   "execution_count": null,
   "id": "30b1b654",
   "metadata": {},
   "outputs": [],
   "source": [
    "num_pipeline = Pipeline([\n",
    "    ('scaling', RobustScaler())\n",
    "])\n",
    "\n",
    "cat_pipeline = Pipeline([\n",
    "    ('onegot', OneHotEncoder(drop='first'))\n",
    "])\n",
    "\n",
    "preprocessor = ColumnTransformer([\n",
    "    ('categorical', cat_pipeline, cat_cols),\n",
    "    ('numerical', cat_pipeline, num_cols)\n",
    "])\n",
    "\n",
    "\n",
    "process_pipeline = Pipeline([\n",
    "    ('preprocessor', preprocessor)\n",
    "])\n",
    "\n",
    "X_train_process = process_pipeline.fit_transform(X_train)\n",
    "X_test_process = process_pipeline.fit_transform(X_test)"
   ]
  },
  {
   "cell_type": "markdown",
   "id": "a46f4f09",
   "metadata": {},
   "source": [
    "<a id=\"modeling_testing\"></a>\n",
    "# <a id='toc40_'></a>[<b><span style='color:darkorange'>Step 8.4 |</span><span style='color:#1E3A8A'> Testing Basic Models </span></b>](#toc0_)"
   ]
  },
  {
   "cell_type": "code",
   "execution_count": null,
   "id": "7749f838",
   "metadata": {},
   "outputs": [],
   "source": [
    "results_list = []"
   ]
  },
  {
   "cell_type": "markdown",
   "id": "6ca78a02",
   "metadata": {},
   "source": [
    "<a id=\"modeling_model2\"></a>\n",
    "## <a id='toc38_1_'></a>[<b><span style='color:darkorange'>Step 8.4.2 |</span><span style='color:#1E3A8A'> K-Nearest Neighbour (KNN)</span></b>](#toc0_)"
   ]
  },
  {
   "cell_type": "code",
   "execution_count": null,
   "id": "023b97ab",
   "metadata": {},
   "outputs": [],
   "source": [
    "knn = KNeighborsClassifier()\n",
    "knn.fit(X_train, y_train)\n",
    "\n",
    "y_pred = knn.predict(X_test)\n",
    "\n",
    "knn_result = pu.metrics_calculator(y_pred, y_test, model_name='KNeighborsClassifier')\n",
    "results_list.append(knn_result)"
   ]
  },
  {
   "cell_type": "markdown",
   "id": "087120ea",
   "metadata": {},
   "source": [
    "<a id=\"modeling_model3\"></a>\n",
    "## <a id='toc38_1_'></a>[<b><span style='color:darkorange'>Step 8.4.3 |</span><span style='color:#1E3A8A'> SVC</span></b>](#toc0_)"
   ]
  },
  {
   "cell_type": "code",
   "execution_count": null,
   "id": "8b969909",
   "metadata": {},
   "outputs": [],
   "source": [
    "svc = SVC()\n",
    "svc.fit(X_train, y_train)\n",
    "\n",
    "y_pred = svc.predict(X_test)\n",
    "\n",
    "svc_result = pu.metrics_calculator(y_pred, y_test, model_name='SVC')\n",
    "results_list.append(svc_result)"
   ]
  },
  {
   "cell_type": "markdown",
   "id": "d12ebebf",
   "metadata": {},
   "source": [
    "<a id=\"modeling_model4\"></a>\n",
    "## <a id='toc38_1_'></a>[<b><span style='color:darkorange'>Step 8.4.4 |</span><span style='color:#1E3A8A'> GaussianNB</span></b>](#toc0_)"
   ]
  },
  {
   "cell_type": "code",
   "execution_count": null,
   "id": "a43d9463",
   "metadata": {},
   "outputs": [],
   "source": [
    "gnb = GaussianNB()\n",
    "gnb.fit(X_train, y_train)\n",
    "\n",
    "y_pred = gnb.predict(X_test)\n",
    "\n",
    "gnb_result = pu.metrics_calculator(y_pred, y_test, model_name='GaussianNB')\n",
    "results_list.append(gnb_result)"
   ]
  },
  {
   "cell_type": "markdown",
   "id": "b7a25e5f",
   "metadata": {},
   "source": [
    "\n",
    "<a id=\"modeling_model5\"></a>\n",
    "## <a id='toc38_1_'></a>[<b><span style='color:darkorange'>Step 8.4.5 |</span><span style='color:#1E3A8A'> RandomForestClassifier</span></b>](#toc0_)"
   ]
  },
  {
   "cell_type": "code",
   "execution_count": null,
   "id": "9b114f0e",
   "metadata": {},
   "outputs": [],
   "source": [
    "rfc = RandomForestClassifier()\n",
    "rfc.fit(X_train, y_train)\n",
    "\n",
    "y_pred = rfc.predict(X_test)\n",
    "\n",
    "rfc_result = pu.metrics_calculator(y_pred, y_test, model_name='RandomForestClassifier')\n",
    "results_list.append(rfc_result)"
   ]
  },
  {
   "cell_type": "markdown",
   "id": "bdefcfab",
   "metadata": {},
   "source": [
    "\n",
    "<a id=\"modeling_model6\"></a>\n",
    "## <a id='toc38_1_'></a>[<b><span style='color:darkorange'>Step 8.4.6 |</span><span style='color:#1E3A8A'> Decision Tree</span></b>](#toc0_)"
   ]
  },
  {
   "cell_type": "code",
   "execution_count": null,
   "id": "8cae8ad3",
   "metadata": {},
   "outputs": [],
   "source": [
    "dtc = DecisionTreeClassifier()\n",
    "dtc.fit(X_train, y_train)\n",
    "\n",
    "\n",
    "y_pred = dtc.predict(X_test)\n",
    "\n",
    "dtc_result = pu.metrics_calculator(y_pred, y_test, model_name='DecisionTreeClassifier')\n",
    "results_list.append(dtc_result)"
   ]
  },
  {
   "cell_type": "markdown",
   "id": "87da4a2a",
   "metadata": {},
   "source": [
    "\n",
    "<a id=\"modeling_model6\"></a>\n",
    "## <a id='toc38_1_'></a>[<b><span style='color:darkorange'>Step 8.4.7 |</span><span style='color:#1E3A8A'> Gradientboosting</span></b>](#toc0_)"
   ]
  },
  {
   "cell_type": "code",
   "execution_count": null,
   "id": "94428062",
   "metadata": {},
   "outputs": [],
   "source": [
    "gdb = GradientBoostingClassifier()\n",
    "gdb.fit(X_train, y_train)\n",
    "\n",
    "\n",
    "y_pred = gdb.predict(X_test)\n",
    "\n",
    "gdb_result = pu.metrics_calculator(y_pred, y_test, model_name='GradientBoostingClassifier')\n",
    "results_list.append(gdb_result)"
   ]
  },
  {
   "cell_type": "markdown",
   "id": "72918c61",
   "metadata": {},
   "source": [
    "\n",
    "<a id=\"modeling_model1\"></a>\n",
    "## <a id='toc38_1_'></a>[<b><span style='color:darkorange'>Step 8.4.8 |</span><span style='color:#1E3A8A'> Adaboost</span></b>](#toc0_)"
   ]
  },
  {
   "cell_type": "code",
   "execution_count": null,
   "id": "677be539",
   "metadata": {},
   "outputs": [],
   "source": [
    "ada = AdaBoostClassifier()\n",
    "ada.fit(X_train, y_train)\n",
    "\n",
    "\n",
    "y_pred = ada.predict(X_test)\n",
    "\n",
    "ada_result = pu.metrics_calculator(y_pred, y_test, model_name='AdaBoostClassifier')\n",
    "results_list.append(ada_result)"
   ]
  },
  {
   "cell_type": "markdown",
   "id": "f93c88fe",
   "metadata": {},
   "source": [
    "<a id=\"modeling_model3\"></a>\n",
    "## <a id='toc38_1_'></a>[<b><span style='color:darkorange'>Step 9.5.1 |</span><span style='color:#1E3A8A'> Result</span></b>](#toc0_)"
   ]
  },
  {
   "cell_type": "code",
   "execution_count": null,
   "id": "d4481177",
   "metadata": {},
   "outputs": [],
   "source": [
    "result = pd.concat(results_list, axis=1).style.background_gradient(cmap='Purple')\n",
    "result"
   ]
  },
  {
   "cell_type": "markdown",
   "id": "7ab5adac",
   "metadata": {},
   "source": [
    "<a id=\"modeling_testing\"></a>\n",
    "# <a id='toc40_'></a>[<b><span style='color:darkorange'>Step 9.6 |</span><span style='color:#1E3A8A'> Tuning hyperparameters </span></b>](#toc0_)"
   ]
  },
  {
   "cell_type": "code",
   "execution_count": null,
   "id": "f7b7d8ba",
   "metadata": {},
   "outputs": [],
   "source": [
    "rf_params = {\n",
    "    'n_estimators': np.arange(50, 301, 50),         # Liczba drzew (od 50 do 300 co 50)\n",
    "    'max_depth': [None, 10, 20, 30],                # Maksymalna głębokość (None oznacza brak limitu)\n",
    "    'min_samples_split': [2, 5, 10],                # Minimalna liczba próbek do podziału węzła\n",
    "    'min_samples_leaf': [1, 2, 4],                  # Minimalna liczba próbek w liściu\n",
    "    'max_features': ['sqrt', 'log2', None],         # Liczba cech do rozważenia przy podziale\n",
    "    'bootstrap': [True, False],                     # Czy używać bootstrapu do losowania próbek\n",
    "    'oob_score': [True, False],                     # Ocena błędu na danych spoza próby\n",
    "    'random_state': [42]                            # Ustalony seed losowy dla reprodukowalności wyników\n",
    "}\n",
    "\n",
    "\n",
    "logreg_params = {\n",
    "    # 'penalty': ['l2'],    # Typ regularyzacji\n",
    "    'C': [0.1, 1, 10],                     # Siła regularyzacji (od 0.001 do 1000)\n",
    "    'solver': ['liblinear', 'lbfgs', 'saga'],       # Algorytmy optymalizacji\n",
    "    'max_iter': [100, 200, 500],                    # Maksymalna liczba iteracji\n",
    "    'tol': [1e-4, 1e-3, 1e-2],                      # Tolerancja dla konwergencji\n",
    "    'random_state': [42]                            # Seed losowy\n",
    "}\n",
    "\n",
    "\n",
    "svc_params = {\n",
    "    # 'C': [0.1, 1, 10],                     # Parametr regularyzacji\n",
    "    'kernel': ['linear', 'poly', 'rbf', 'sigmoid'], # Typ jądra\n",
    "    'degree': [2, 3, 4, 5],                         # Stopień wielomianu (dla 'poly')\n",
    "    'gamma': ['scale', 'auto', 0.01, 0.1, 1],       # Parametr gamma\n",
    "    'coef0': [0.0, 0.1, 0.5],                       # Parametr dla jądra 'poly' i 'sigmoid'\n",
    "    'shrinking': [True, False],                     # Włączenie/wyłączenie redukcji\n",
    "    'probability': [True, False],                   # Czy obliczać prawdopodobieństwa\n",
    "    'tol': [1e-3, 1e-4],                            # Tolerancja dla konwergencji\n",
    "    'random_state': [42]                            # Seed losowy\n",
    "}\n",
    "\n",
    "gnb_params = {\n",
    "    'var_smoothing': np.logspace(-9, -3, 7)        # Wariancja dla stabilności obliczeń\n",
    "}\n"
   ]
  },
  {
   "cell_type": "code",
   "execution_count": null,
   "id": "978d0e6f",
   "metadata": {},
   "outputs": [],
   "source": [
    "models = [\n",
    "    # {'name': 'SVC', 'model': SVC, 'params': svc_params}\n",
    "    # {'name': 'Random Forest', 'model': RandomForestClassifier, 'params': rf_params}\n",
    "    {'name': 'Gaussian Naive Bayes', 'model': GaussianNB, 'params': gnb_params}\n",
    "]"
   ]
  },
  {
   "cell_type": "code",
   "execution_count": null,
   "id": "67228a51",
   "metadata": {},
   "outputs": [],
   "source": [
    "mdl.run_model_comparison(models, X_train, y_train, X_test, y_test)"
   ]
  },
  {
   "cell_type": "markdown",
   "id": "b89c40f5",
   "metadata": {},
   "source": []
  }
 ],
 "metadata": {
  "kernelspec": {
   "display_name": "ml_dl_env",
   "language": "python",
   "name": "python3"
  },
  "language_info": {
   "codemirror_mode": {
    "name": "ipython",
    "version": 3
   },
   "file_extension": ".py",
   "mimetype": "text/x-python",
   "name": "python",
   "nbconvert_exporter": "python",
   "pygments_lexer": "ipython3",
   "version": "3.10.17"
  }
 },
 "nbformat": 4,
 "nbformat_minor": 5
}
